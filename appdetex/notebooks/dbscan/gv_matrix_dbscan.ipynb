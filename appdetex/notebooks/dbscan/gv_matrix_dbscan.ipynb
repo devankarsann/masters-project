{
 "cells": [
  {
   "cell_type": "code",
   "execution_count": 3,
   "metadata": {},
   "outputs": [
    {
     "data": {
      "text/html": [
       "<style>.container { width:95% !important; }</style>"
      ],
      "text/plain": [
       "<IPython.core.display.HTML object>"
      ]
     },
     "metadata": {},
     "output_type": "display_data"
    }
   ],
   "source": [
    "from IPython.core.display import display, HTML\n",
    "display(HTML(\"<style>.container { width:95% !important; }</style>\"))"
   ]
  },
  {
   "cell_type": "markdown",
   "metadata": {
    "id": "FYVUGSFLf_qE"
   },
   "source": [
    "## Libraries and Filesystem Setup"
   ]
  },
  {
   "cell_type": "code",
   "execution_count": 4,
   "metadata": {
    "colab": {
     "base_uri": "https://localhost:8080/"
    },
    "id": "uqRQxTVbf39P",
    "outputId": "aecc64fb-dc6f-4d45-f5a3-98ec0b70cbfe"
   },
   "outputs": [],
   "source": [
    "import pandas as pd\n",
    "import pickle\n",
    "import numpy as np\n",
    "import matplotlib.pyplot as plt\n",
    "import scipy.sparse\n",
    "import scipy"
   ]
  },
  {
   "cell_type": "markdown",
   "metadata": {},
   "source": [
    "### Import LDA document vectors"
   ]
  },
  {
   "cell_type": "code",
   "execution_count": 6,
   "metadata": {},
   "outputs": [],
   "source": [
    "gv_matrix = np.load('../../processed_files/gv_matrix.npy')\n",
    "df_merged = pickle.load(open(\"../../processed_files/df_merged.pickle\", \"rb\"))"
   ]
  },
  {
   "cell_type": "code",
   "execution_count": 7,
   "metadata": {},
   "outputs": [
    {
     "data": {
      "text/plain": [
       "(12968, 300)"
      ]
     },
     "execution_count": 7,
     "metadata": {},
     "output_type": "execute_result"
    }
   ],
   "source": [
    "gv_matrix.shape"
   ]
  },
  {
   "cell_type": "code",
   "execution_count": 8,
   "metadata": {},
   "outputs": [
    {
     "data": {
      "text/html": [
       "<div>\n",
       "<style scoped>\n",
       "    .dataframe tbody tr th:only-of-type {\n",
       "        vertical-align: middle;\n",
       "    }\n",
       "\n",
       "    .dataframe tbody tr th {\n",
       "        vertical-align: top;\n",
       "    }\n",
       "\n",
       "    .dataframe thead th {\n",
       "        text-align: right;\n",
       "    }\n",
       "</style>\n",
       "<table border=\"1\" class=\"dataframe\">\n",
       "  <thead>\n",
       "    <tr style=\"text-align: right;\">\n",
       "      <th></th>\n",
       "      <th>DOMAIN</th>\n",
       "      <th>RAW_CONTENT</th>\n",
       "      <th>RAW_CONTENT_PROCESSED</th>\n",
       "      <th>RAW_CONTENT_PROCESSED_STEMMED</th>\n",
       "    </tr>\n",
       "  </thead>\n",
       "  <tbody>\n",
       "    <tr>\n",
       "      <th>0</th>\n",
       "      <td>0-my.com</td>\n",
       "      <td>0-my.com related searches: related searches:</td>\n",
       "      <td>[mycom, related, searches, related, searches]</td>\n",
       "      <td>[0, -, m, y, ., c, o, m,  , r, e, l, a, t, e, ...</td>\n",
       "    </tr>\n",
       "    <tr>\n",
       "      <th>1</th>\n",
       "      <td>00bitz.com</td>\n",
       "      <td>error. page cannot be displayed. please contac...</td>\n",
       "      <td>[error, page, cannot, displayed, please, conta...</td>\n",
       "      <td>[e, r, r, o, r, .,  , p, a, g, e,  , c, a, n, ...</td>\n",
       "    </tr>\n",
       "    <tr>\n",
       "      <th>2</th>\n",
       "      <td>01187.com</td>\n",
       "      <td>01187.com is available for purchase! - wwwv1.c...</td>\n",
       "      <td>[com, vailable, purchase, wwwvcom, welcome, uu...</td>\n",
       "      <td>[0, 1, 1, 8, 7, ., c, o, m,  , i, s,  , a, v, ...</td>\n",
       "    </tr>\n",
       "    <tr>\n",
       "      <th>3</th>\n",
       "      <td>027.ir</td>\n",
       "      <td>027.ir - dns4.ir 027.ir hits: 7,267 under cons...</td>\n",
       "      <td>[ir, dnsir, ir, hits, construction, coming, so...</td>\n",
       "      <td>[0, 2, 7, ., i, r,  , -,  , d, n, s, 4, ., i, ...</td>\n",
       "    </tr>\n",
       "    <tr>\n",
       "      <th>4</th>\n",
       "      <td>03h.org</td>\n",
       "      <td>february | 2014 | online marketing review sear...</td>\n",
       "      <td>[february, online, marketing, review, search, ...</td>\n",
       "      <td>[f, e, b, r, u, a, r, y,  , |,  , 2, 0, 1, 4, ...</td>\n",
       "    </tr>\n",
       "  </tbody>\n",
       "</table>\n",
       "</div>"
      ],
      "text/plain": [
       "       DOMAIN                                        RAW_CONTENT  \\\n",
       "0    0-my.com       0-my.com related searches: related searches:   \n",
       "1  00bitz.com  error. page cannot be displayed. please contac...   \n",
       "2   01187.com  01187.com is available for purchase! - wwwv1.c...   \n",
       "3      027.ir  027.ir - dns4.ir 027.ir hits: 7,267 under cons...   \n",
       "4     03h.org  february | 2014 | online marketing review sear...   \n",
       "\n",
       "                               RAW_CONTENT_PROCESSED  \\\n",
       "0      [mycom, related, searches, related, searches]   \n",
       "1  [error, page, cannot, displayed, please, conta...   \n",
       "2  [com, vailable, purchase, wwwvcom, welcome, uu...   \n",
       "3  [ir, dnsir, ir, hits, construction, coming, so...   \n",
       "4  [february, online, marketing, review, search, ...   \n",
       "\n",
       "                       RAW_CONTENT_PROCESSED_STEMMED  \n",
       "0  [0, -, m, y, ., c, o, m,  , r, e, l, a, t, e, ...  \n",
       "1  [e, r, r, o, r, .,  , p, a, g, e,  , c, a, n, ...  \n",
       "2  [0, 1, 1, 8, 7, ., c, o, m,  , i, s,  , a, v, ...  \n",
       "3  [0, 2, 7, ., i, r,  , -,  , d, n, s, 4, ., i, ...  \n",
       "4  [f, e, b, r, u, a, r, y,  , |,  , 2, 0, 1, 4, ...  "
      ]
     },
     "execution_count": 8,
     "metadata": {},
     "output_type": "execute_result"
    }
   ],
   "source": [
    "df_merged.head()"
   ]
  },
  {
   "cell_type": "code",
   "execution_count": 9,
   "metadata": {},
   "outputs": [
    {
     "data": {
      "text/plain": [
       "(12975, 4)"
      ]
     },
     "execution_count": 9,
     "metadata": {},
     "output_type": "execute_result"
    }
   ],
   "source": [
    "df_merged.shape"
   ]
  },
  {
   "cell_type": "code",
   "execution_count": 10,
   "metadata": {},
   "outputs": [
    {
     "data": {
      "text/plain": [
       "numpy.ndarray"
      ]
     },
     "execution_count": 10,
     "metadata": {},
     "output_type": "execute_result"
    }
   ],
   "source": [
    "type(gv_matrix[0])"
   ]
  },
  {
   "cell_type": "code",
   "execution_count": 12,
   "metadata": {
    "scrolled": true
   },
   "outputs": [
    {
     "data": {
      "text/plain": [
       "array([-1.01713156e-01,  2.44127860e-02, -2.50302374e-01,  4.70977065e-02,\n",
       "        8.45761821e-02, -1.17484508e-02,  7.11041068e-03, -1.42770708e-01,\n",
       "        9.26905088e-02,  1.72538030e+00, -3.22450235e-01,  1.74288645e-01,\n",
       "        1.64150520e-01, -1.44331377e-01, -1.32597719e-01, -2.14422606e-02,\n",
       "        6.11126361e-03,  1.42799278e+00, -9.88344997e-02, -4.52436867e-02,\n",
       "        7.24425552e-02,  2.46380394e-02, -2.35240020e-01, -2.80041471e-02,\n",
       "        1.13645213e-01,  1.77959893e-01, -5.40460149e-04, -6.20165169e-02,\n",
       "        3.63366057e-03,  1.01964491e-01,  1.45410128e-01, -4.17848037e-02,\n",
       "        1.77047583e-01,  2.33967269e-01, -1.77765133e-01, -3.81625717e-02,\n",
       "       -1.50236682e-01, -7.96137583e-02, -6.38380051e-02, -1.37553662e-01,\n",
       "       -7.12665599e-02, -1.50531769e-01,  1.28896860e-01, -1.89591448e-02,\n",
       "       -1.67768769e-01,  9.15775380e-02,  1.49467101e-01,  2.67889748e-02,\n",
       "        1.19616544e-01,  6.22285033e-02, -1.84402967e-01, -1.01907702e-01,\n",
       "        8.21538977e-02, -4.71630742e-02, -1.35104309e-01, -1.32381624e-02,\n",
       "       -1.83593993e-01, -3.46909056e-01, -9.93211456e-02, -5.30430702e-02,\n",
       "        4.22798127e-02,  1.77345149e-01, -1.07454546e-01,  2.05434596e-01,\n",
       "        2.88579683e-01,  5.64890405e-02, -1.69286578e-01,  2.12735184e-01,\n",
       "        8.87691292e-03,  2.33530117e-02,  2.12401981e-01,  2.91148660e-02,\n",
       "        3.13505977e-01, -1.85344761e-01,  2.32491627e-01,  2.17858727e-02,\n",
       "        3.30963681e-02, -1.64421453e-01,  1.59696344e-01,  1.98318886e-01,\n",
       "       -4.75914069e-02,  1.65544614e-01, -1.61401019e-01, -1.42342736e-01,\n",
       "        1.57915047e-01, -9.06752932e-02,  1.52301436e-01,  2.84989568e-01,\n",
       "        4.05334642e-01, -6.46504387e-02, -9.71328095e-02,  2.10792149e-02,\n",
       "       -6.23425108e-02, -1.82263573e-01,  9.49506188e-02, -3.13824664e-03,\n",
       "       -1.43899888e-01, -1.26867173e-01,  2.02424596e-01, -6.56155832e-02,\n",
       "       -2.03808298e-01, -8.32077588e-02,  3.08384498e-02,  1.17572916e-01,\n",
       "        5.04692129e-02, -7.28086154e-01, -1.67790150e-01,  9.62576506e-02,\n",
       "       -1.06306804e-01,  1.09235871e-01, -3.53322923e-02, -8.32499663e-02,\n",
       "        1.50850878e-01,  4.61061137e-02,  1.01586195e-01, -5.17764590e-02,\n",
       "        5.76006795e-02,  1.05941668e-01,  6.74868828e-02, -2.98293593e-02,\n",
       "       -5.18153235e-02,  1.65956039e-02,  6.06159841e-02, -5.68261839e-02,\n",
       "        5.89931800e-02,  2.76755914e-02,  3.90695482e-02, -8.38825728e-02,\n",
       "        1.06003760e-01,  1.00369286e-03,  1.85422987e-01, -1.45191109e-01,\n",
       "       -1.26359023e-01, -2.43503317e-01,  6.38278551e-02, -5.63989592e-02,\n",
       "       -1.69012852e-01, -1.15064410e-02,  1.24859475e-02, -1.18109186e-02,\n",
       "       -4.19531723e-01,  4.70082151e-02,  1.00375336e-01, -1.04900222e-01,\n",
       "       -7.60190810e-04,  7.70911124e-03,  1.18162364e-01,  6.53773919e-02,\n",
       "       -8.31612398e-02,  7.01549624e-02,  2.47228578e-01,  4.18492183e-02,\n",
       "       -1.23513275e-01, -4.06135321e-02,  8.04338170e-03,  8.91104192e-02,\n",
       "       -4.16003130e-02,  6.64685396e-02,  5.25681119e-02,  4.57534616e-02,\n",
       "        9.38148449e-02,  2.53483936e-03,  6.23146693e-04, -1.43479432e-01,\n",
       "       -1.32025723e-01, -1.54717399e-01,  1.04405387e-01,  1.27461332e-01,\n",
       "        8.63293211e-02,  1.09373362e-02, -1.72649408e-01,  1.39660842e-01,\n",
       "       -1.74262089e-02, -1.12403544e-02, -9.65759759e-02,  2.10578725e-01,\n",
       "        4.06484461e-03,  1.46625032e-01,  6.21103098e-02,  2.81458015e-01,\n",
       "        1.76169634e-01,  5.39156279e-02,  1.19994634e-02,  1.24548809e-01,\n",
       "        5.51264447e-02,  1.05951356e-01, -1.85810511e-01, -1.38743157e-01,\n",
       "       -2.31929895e-02, -1.28441542e-01, -1.38295575e-01, -5.85007370e-02,\n",
       "        1.10080600e-01,  2.14026449e-01,  2.92644625e-02, -3.77958467e-02,\n",
       "        5.02049023e-02, -4.15931940e-02,  1.57300528e-01,  2.13721388e-01,\n",
       "        6.14560246e-02, -3.45287537e-01, -1.94420333e-01,  1.90266725e-01,\n",
       "       -8.08103047e-02,  3.45769338e-04,  2.13783275e-01,  1.06895149e-01,\n",
       "        4.64563270e-02,  1.63677786e-01,  8.04354286e-02, -1.20030315e-01,\n",
       "        7.91905882e-03, -2.06519881e-02, -5.31012068e-02, -1.97527463e-01,\n",
       "       -7.85574339e-02,  2.01358522e-02, -5.23615191e-01,  7.63721764e-02,\n",
       "        4.09103806e-02,  5.04341250e-02, -1.22227408e-02,  2.00747841e-01,\n",
       "       -1.35953532e-01,  3.11214800e-02,  6.52741175e-02, -3.14072023e-02,\n",
       "        5.11385345e-02, -1.77192048e-01,  2.75575183e-02, -1.40312281e-01,\n",
       "        4.69234052e-02,  9.01981233e-02, -1.39436722e-02, -1.08084669e-01,\n",
       "       -1.54784648e-01, -8.42735314e-02, -2.92674971e-02, -3.05945526e-02,\n",
       "        1.09282504e-01, -2.62202919e-02,  1.05298919e-01, -1.12551671e-01,\n",
       "        2.91118888e-01, -3.30574036e-01,  1.63917285e-02,  2.96831752e-02,\n",
       "       -7.83400536e-02, -1.24594474e-01,  2.05074618e-01, -9.37378531e-03,\n",
       "       -8.42195650e-02,  7.52744700e-03,  1.75613741e-01,  1.89929351e-01,\n",
       "       -1.49630348e-01, -1.07477136e-01,  8.48223397e-02, -9.19503719e-02,\n",
       "        1.07192248e-01,  1.08832816e-01,  4.51307669e-02,  3.11132496e-02,\n",
       "       -8.68142033e-02, -1.92936931e-01, -1.12458145e-02,  2.56824270e-01,\n",
       "        6.47640675e-01, -1.24699796e-01, -3.43762830e-01,  7.30954707e-02,\n",
       "        2.72038783e-01, -8.89215767e-02,  1.63897349e-01,  1.63654248e-01,\n",
       "       -3.35676124e-02, -2.01324075e-02,  2.46440604e-01, -4.51844384e-02,\n",
       "       -3.86242677e-02,  3.49362375e-01,  2.99475938e-01,  5.30626761e-02,\n",
       "       -1.29834563e-02, -8.90695105e-02, -1.79856146e-03,  8.68105864e-02,\n",
       "        1.09245403e-01, -3.38261104e-01, -2.37334430e-01, -1.70232765e-02,\n",
       "        3.86985814e-02,  1.40086728e-01,  1.58959533e-01, -2.89834291e-01,\n",
       "       -1.68195687e-01, -2.17027182e-01,  1.53527106e-01,  2.32205361e-01])"
      ]
     },
     "execution_count": 12,
     "metadata": {},
     "output_type": "execute_result"
    }
   ],
   "source": [
    "np.average(gv_matrix[[0, 1, 2]], axis=0)"
   ]
  },
  {
   "cell_type": "markdown",
   "metadata": {},
   "source": [
    "## DB Scan"
   ]
  },
  {
   "cell_type": "code",
   "execution_count": 13,
   "metadata": {},
   "outputs": [],
   "source": [
    "from sklearn.cluster import DBSCAN"
   ]
  },
  {
   "cell_type": "code",
   "execution_count": 14,
   "metadata": {},
   "outputs": [],
   "source": [
    "# eps (default 0.5): the maximum distance between two samples for one to be considered as in the neighborhood of the other\n",
    "# min_samples (default 5): number of samples (or total weight) in a neighborhood for a point to be considered as a core point. This includes the point itself\n",
    "# algorithm (default 'auto'): ‘auto’, ‘ball_tree’, ‘kd_tree’, ‘brute’\n",
    "dbscan = DBSCAN(eps = 0.1, min_samples = 5).fit(gv_matrix)"
   ]
  },
  {
   "cell_type": "code",
   "execution_count": 15,
   "metadata": {},
   "outputs": [
    {
     "data": {
      "text/plain": [
       "array([ 0,  1, -1, ..., 17, -1, -1])"
      ]
     },
     "execution_count": 15,
     "metadata": {},
     "output_type": "execute_result"
    }
   ],
   "source": [
    "dbscan.labels_"
   ]
  },
  {
   "cell_type": "code",
   "execution_count": 16,
   "metadata": {},
   "outputs": [
    {
     "data": {
      "text/plain": [
       "87"
      ]
     },
     "execution_count": 16,
     "metadata": {},
     "output_type": "execute_result"
    }
   ],
   "source": [
    "num_clusters = max(dbscan.labels_)\n",
    "num_clusters"
   ]
  },
  {
   "cell_type": "code",
   "execution_count": 17,
   "metadata": {},
   "outputs": [
    {
     "data": {
      "text/plain": [
       "DBSCAN(eps=0.1)"
      ]
     },
     "execution_count": 17,
     "metadata": {},
     "output_type": "execute_result"
    }
   ],
   "source": [
    "dbscan"
   ]
  },
  {
   "cell_type": "code",
   "execution_count": 18,
   "metadata": {},
   "outputs": [
    {
     "data": {
      "text/plain": [
       "-1"
      ]
     },
     "execution_count": 18,
     "metadata": {},
     "output_type": "execute_result"
    }
   ],
   "source": [
    "index_cluster = zip(range(len(dbscan.labels_)), dbscan.labels_)\n",
    "index_cluster_dict = dict(index_cluster)\n",
    "index_cluster_dict[456]"
   ]
  },
  {
   "cell_type": "code",
   "execution_count": 19,
   "metadata": {},
   "outputs": [],
   "source": [
    "cluster_index = list(zip(dbscan.labels_, range(len(dbscan.labels_))))"
   ]
  },
  {
   "cell_type": "code",
   "execution_count": 20,
   "metadata": {},
   "outputs": [],
   "source": [
    "cluster_list = dict()\n",
    "for i in range(num_clusters):\n",
    "    cluster_list[i] = list(filter(lambda row: row[0] == i, cluster_index))"
   ]
  },
  {
   "cell_type": "code",
   "execution_count": 21,
   "metadata": {},
   "outputs": [
    {
     "name": "stdout",
     "output_type": "stream",
     "text": [
      "cluster:  0 size:  95\n",
      "cluster:  1 size:  295\n",
      "cluster:  2 size:  11\n",
      "cluster:  3 size:  9\n",
      "cluster:  4 size:  278\n",
      "cluster:  5 size:  23\n",
      "cluster:  6 size:  233\n",
      "cluster:  7 size:  71\n",
      "cluster:  8 size:  28\n",
      "cluster:  9 size:  10\n",
      "cluster:  10 size:  176\n",
      "cluster:  11 size:  9\n",
      "cluster:  12 size:  22\n",
      "cluster:  13 size:  67\n",
      "cluster:  14 size:  8\n",
      "cluster:  15 size:  14\n",
      "cluster:  16 size:  20\n",
      "cluster:  17 size:  31\n",
      "cluster:  18 size:  21\n",
      "cluster:  19 size:  14\n",
      "cluster:  20 size:  77\n",
      "cluster:  21 size:  16\n",
      "cluster:  22 size:  20\n",
      "cluster:  23 size:  103\n",
      "cluster:  24 size:  35\n",
      "cluster:  25 size:  12\n",
      "cluster:  26 size:  15\n",
      "cluster:  27 size:  20\n",
      "cluster:  28 size:  74\n",
      "cluster:  29 size:  12\n",
      "cluster:  30 size:  7\n",
      "cluster:  31 size:  8\n",
      "cluster:  32 size:  30\n",
      "cluster:  33 size:  87\n",
      "cluster:  34 size:  9\n",
      "cluster:  35 size:  8\n",
      "cluster:  36 size:  15\n",
      "cluster:  37 size:  15\n",
      "cluster:  38 size:  7\n",
      "cluster:  39 size:  5\n",
      "cluster:  40 size:  13\n",
      "cluster:  41 size:  20\n",
      "cluster:  42 size:  21\n",
      "cluster:  43 size:  8\n",
      "cluster:  44 size:  21\n",
      "cluster:  45 size:  13\n",
      "cluster:  46 size:  7\n",
      "cluster:  47 size:  32\n",
      "cluster:  48 size:  7\n",
      "cluster:  49 size:  12\n",
      "cluster:  50 size:  14\n",
      "cluster:  51 size:  14\n",
      "cluster:  52 size:  5\n",
      "cluster:  53 size:  8\n",
      "cluster:  54 size:  33\n",
      "cluster:  55 size:  14\n",
      "cluster:  56 size:  9\n",
      "cluster:  57 size:  8\n",
      "cluster:  58 size:  5\n",
      "cluster:  59 size:  10\n",
      "cluster:  60 size:  11\n",
      "cluster:  61 size:  38\n",
      "cluster:  62 size:  5\n",
      "cluster:  63 size:  13\n",
      "cluster:  64 size:  6\n",
      "cluster:  65 size:  7\n",
      "cluster:  66 size:  5\n",
      "cluster:  67 size:  6\n",
      "cluster:  68 size:  6\n",
      "cluster:  69 size:  5\n",
      "cluster:  70 size:  8\n",
      "cluster:  71 size:  9\n",
      "cluster:  72 size:  6\n",
      "cluster:  73 size:  21\n",
      "cluster:  74 size:  7\n",
      "cluster:  75 size:  6\n",
      "cluster:  76 size:  5\n",
      "cluster:  77 size:  9\n",
      "cluster:  78 size:  10\n",
      "cluster:  79 size:  6\n",
      "cluster:  80 size:  6\n",
      "cluster:  81 size:  6\n",
      "cluster:  82 size:  8\n",
      "cluster:  83 size:  7\n",
      "cluster:  84 size:  6\n",
      "cluster:  85 size:  6\n",
      "cluster:  86 size:  5\n"
     ]
    }
   ],
   "source": [
    "for i in range(num_clusters):\n",
    "    print('cluster: ', i, 'size: ', len(cluster_list[i]))"
   ]
  },
  {
   "cell_type": "code",
   "execution_count": 22,
   "metadata": {},
   "outputs": [
    {
     "data": {
      "text/plain": [
       "95"
      ]
     },
     "execution_count": 22,
     "metadata": {},
     "output_type": "execute_result"
    }
   ],
   "source": [
    "len(cluster_list[0])"
   ]
  },
  {
   "cell_type": "code",
   "execution_count": 23,
   "metadata": {},
   "outputs": [
    {
     "data": {
      "text/plain": [
       "295"
      ]
     },
     "execution_count": 23,
     "metadata": {},
     "output_type": "execute_result"
    }
   ],
   "source": [
    "len(cluster_list[1])"
   ]
  },
  {
   "cell_type": "code",
   "execution_count": 24,
   "metadata": {},
   "outputs": [
    {
     "data": {
      "text/plain": [
       "11"
      ]
     },
     "execution_count": 24,
     "metadata": {},
     "output_type": "execute_result"
    }
   ],
   "source": [
    "len(cluster_list[2])"
   ]
  },
  {
   "cell_type": "code",
   "execution_count": 25,
   "metadata": {},
   "outputs": [
    {
     "data": {
      "text/plain": [
       "5"
      ]
     },
     "execution_count": 25,
     "metadata": {},
     "output_type": "execute_result"
    }
   ],
   "source": [
    "len(cluster_list[num_clusters-1])"
   ]
  },
  {
   "cell_type": "code",
   "execution_count": 26,
   "metadata": {},
   "outputs": [
    {
     "data": {
      "text/plain": [
       "[(1, 1),\n",
       " (1, 25),\n",
       " (1, 27),\n",
       " (1, 121),\n",
       " (1, 138),\n",
       " (1, 141),\n",
       " (1, 179),\n",
       " (1, 365),\n",
       " (1, 373),\n",
       " (1, 594),\n",
       " (1, 628),\n",
       " (1, 631),\n",
       " (1, 670),\n",
       " (1, 697),\n",
       " (1, 723),\n",
       " (1, 729),\n",
       " (1, 748),\n",
       " (1, 752),\n",
       " (1, 763),\n",
       " (1, 770),\n",
       " (1, 782),\n",
       " (1, 789),\n",
       " (1, 822),\n",
       " (1, 943),\n",
       " (1, 951),\n",
       " (1, 1040),\n",
       " (1, 1120),\n",
       " (1, 1427),\n",
       " (1, 1436),\n",
       " (1, 1783),\n",
       " (1, 1834),\n",
       " (1, 1850),\n",
       " (1, 1981),\n",
       " (1, 1990),\n",
       " (1, 2002),\n",
       " (1, 2006),\n",
       " (1, 2056),\n",
       " (1, 2059),\n",
       " (1, 2137),\n",
       " (1, 2184),\n",
       " (1, 2188),\n",
       " (1, 2194),\n",
       " (1, 2202),\n",
       " (1, 2337),\n",
       " (1, 2435),\n",
       " (1, 2438),\n",
       " (1, 2481),\n",
       " (1, 2502),\n",
       " (1, 2521),\n",
       " (1, 2524),\n",
       " (1, 2572),\n",
       " (1, 2573),\n",
       " (1, 2574),\n",
       " (1, 2577),\n",
       " (1, 2579),\n",
       " (1, 2585),\n",
       " (1, 2602),\n",
       " (1, 2644),\n",
       " (1, 2673),\n",
       " (1, 2767),\n",
       " (1, 2780),\n",
       " (1, 2795),\n",
       " (1, 2821),\n",
       " (1, 2822),\n",
       " (1, 2824),\n",
       " (1, 2883),\n",
       " (1, 2939),\n",
       " (1, 3024),\n",
       " (1, 3060),\n",
       " (1, 3140),\n",
       " (1, 3158),\n",
       " (1, 3222),\n",
       " (1, 3231),\n",
       " (1, 3313),\n",
       " (1, 3386),\n",
       " (1, 3425),\n",
       " (1, 3494),\n",
       " (1, 3499),\n",
       " (1, 3552),\n",
       " (1, 3590),\n",
       " (1, 3707),\n",
       " (1, 3712),\n",
       " (1, 3770),\n",
       " (1, 3893),\n",
       " (1, 3910),\n",
       " (1, 3912),\n",
       " (1, 3933),\n",
       " (1, 3935),\n",
       " (1, 3952),\n",
       " (1, 3953),\n",
       " (1, 3954),\n",
       " (1, 3956),\n",
       " (1, 3960),\n",
       " (1, 3962),\n",
       " (1, 3971),\n",
       " (1, 3972),\n",
       " (1, 3974),\n",
       " (1, 4000),\n",
       " (1, 4008),\n",
       " (1, 4080),\n",
       " (1, 4195),\n",
       " (1, 4216),\n",
       " (1, 4264),\n",
       " (1, 4299),\n",
       " (1, 4300),\n",
       " (1, 4419),\n",
       " (1, 4433),\n",
       " (1, 4515),\n",
       " (1, 4521),\n",
       " (1, 4562),\n",
       " (1, 4604),\n",
       " (1, 4623),\n",
       " (1, 4664),\n",
       " (1, 4891),\n",
       " (1, 4898),\n",
       " (1, 4943),\n",
       " (1, 4946),\n",
       " (1, 5050),\n",
       " (1, 5278),\n",
       " (1, 5360),\n",
       " (1, 5403),\n",
       " (1, 5483),\n",
       " (1, 5505),\n",
       " (1, 5536),\n",
       " (1, 5540),\n",
       " (1, 5578),\n",
       " (1, 5643),\n",
       " (1, 5655),\n",
       " (1, 5686),\n",
       " (1, 5713),\n",
       " (1, 5725),\n",
       " (1, 5743),\n",
       " (1, 5751),\n",
       " (1, 5754),\n",
       " (1, 5766),\n",
       " (1, 5787),\n",
       " (1, 6257),\n",
       " (1, 6274),\n",
       " (1, 6309),\n",
       " (1, 6423),\n",
       " (1, 6467),\n",
       " (1, 6479),\n",
       " (1, 6503),\n",
       " (1, 6573),\n",
       " (1, 6582),\n",
       " (1, 6594),\n",
       " (1, 6725),\n",
       " (1, 6788),\n",
       " (1, 6795),\n",
       " (1, 6841),\n",
       " (1, 6982),\n",
       " (1, 7009),\n",
       " (1, 7104),\n",
       " (1, 7105),\n",
       " (1, 7119),\n",
       " (1, 7142),\n",
       " (1, 7229),\n",
       " (1, 7243),\n",
       " (1, 7293),\n",
       " (1, 7338),\n",
       " (1, 7365),\n",
       " (1, 7367),\n",
       " (1, 7406),\n",
       " (1, 7560),\n",
       " (1, 7569),\n",
       " (1, 7580),\n",
       " (1, 7609),\n",
       " (1, 7610),\n",
       " (1, 7633),\n",
       " (1, 7640),\n",
       " (1, 7713),\n",
       " (1, 7791),\n",
       " (1, 7970),\n",
       " (1, 7974),\n",
       " (1, 7981),\n",
       " (1, 8041),\n",
       " (1, 8054),\n",
       " (1, 8077),\n",
       " (1, 8095),\n",
       " (1, 8098),\n",
       " (1, 8116),\n",
       " (1, 8139),\n",
       " (1, 8167),\n",
       " (1, 8250),\n",
       " (1, 8285),\n",
       " (1, 8289),\n",
       " (1, 8337),\n",
       " (1, 8356),\n",
       " (1, 8402),\n",
       " (1, 8422),\n",
       " (1, 8456),\n",
       " (1, 8475),\n",
       " (1, 8518),\n",
       " (1, 8697),\n",
       " (1, 8776),\n",
       " (1, 8866),\n",
       " (1, 8970),\n",
       " (1, 8982),\n",
       " (1, 9049),\n",
       " (1, 9093),\n",
       " (1, 9114),\n",
       " (1, 9124),\n",
       " (1, 9128),\n",
       " (1, 9208),\n",
       " (1, 9210),\n",
       " (1, 9247),\n",
       " (1, 9424),\n",
       " (1, 9433),\n",
       " (1, 9494),\n",
       " (1, 9511),\n",
       " (1, 9519),\n",
       " (1, 9534),\n",
       " (1, 9544),\n",
       " (1, 9744),\n",
       " (1, 9847),\n",
       " (1, 9863),\n",
       " (1, 9886),\n",
       " (1, 9919),\n",
       " (1, 9962),\n",
       " (1, 9963),\n",
       " (1, 10006),\n",
       " (1, 10119),\n",
       " (1, 10121),\n",
       " (1, 10152),\n",
       " (1, 10235),\n",
       " (1, 10238),\n",
       " (1, 10279),\n",
       " (1, 10319),\n",
       " (1, 10320),\n",
       " (1, 10323),\n",
       " (1, 10367),\n",
       " (1, 10385),\n",
       " (1, 10430),\n",
       " (1, 10439),\n",
       " (1, 10456),\n",
       " (1, 10464),\n",
       " (1, 10491),\n",
       " (1, 10519),\n",
       " (1, 10520),\n",
       " (1, 10525),\n",
       " (1, 10532),\n",
       " (1, 10594),\n",
       " (1, 10606),\n",
       " (1, 10721),\n",
       " (1, 10738),\n",
       " (1, 10780),\n",
       " (1, 10784),\n",
       " (1, 10803),\n",
       " (1, 10815),\n",
       " (1, 10817),\n",
       " (1, 10820),\n",
       " (1, 10824),\n",
       " (1, 10891),\n",
       " (1, 10899),\n",
       " (1, 10911),\n",
       " (1, 10963),\n",
       " (1, 11123),\n",
       " (1, 11151),\n",
       " (1, 11409),\n",
       " (1, 11423),\n",
       " (1, 11450),\n",
       " (1, 11498),\n",
       " (1, 11529),\n",
       " (1, 11535),\n",
       " (1, 11661),\n",
       " (1, 11668),\n",
       " (1, 11718),\n",
       " (1, 11762),\n",
       " (1, 11809),\n",
       " (1, 11810),\n",
       " (1, 11893),\n",
       " (1, 11906),\n",
       " (1, 11952),\n",
       " (1, 12019),\n",
       " (1, 12041),\n",
       " (1, 12205),\n",
       " (1, 12247),\n",
       " (1, 12263),\n",
       " (1, 12283),\n",
       " (1, 12293),\n",
       " (1, 12392),\n",
       " (1, 12393),\n",
       " (1, 12460),\n",
       " (1, 12491),\n",
       " (1, 12612),\n",
       " (1, 12619),\n",
       " (1, 12652),\n",
       " (1, 12690),\n",
       " (1, 12702),\n",
       " (1, 12730),\n",
       " (1, 12742),\n",
       " (1, 12807),\n",
       " (1, 12832),\n",
       " (1, 12874),\n",
       " (1, 12941)]"
      ]
     },
     "execution_count": 26,
     "metadata": {},
     "output_type": "execute_result"
    }
   ],
   "source": [
    "cluster_list[1]"
   ]
  },
  {
   "cell_type": "code",
   "execution_count": 28,
   "metadata": {
    "scrolled": true
   },
   "outputs": [
    {
     "data": {
      "text/plain": [
       "[0,\n",
       " 140,\n",
       " 167,\n",
       " 252,\n",
       " 280,\n",
       " 479,\n",
       " 568,\n",
       " 637,\n",
       " 660,\n",
       " 1155,\n",
       " 1689,\n",
       " 1958,\n",
       " 1989,\n",
       " 2048,\n",
       " 2065,\n",
       " 2070,\n",
       " 2091,\n",
       " 2126,\n",
       " 2349,\n",
       " 2409,\n",
       " 3207,\n",
       " 3249,\n",
       " 3430,\n",
       " 3640,\n",
       " 3926,\n",
       " 3958,\n",
       " 3959,\n",
       " 3964,\n",
       " 3975,\n",
       " 3980,\n",
       " 3985,\n",
       " 3996,\n",
       " 4089,\n",
       " 4097,\n",
       " 4115,\n",
       " 4170,\n",
       " 4269,\n",
       " 4396,\n",
       " 4450,\n",
       " 4732,\n",
       " 4782,\n",
       " 4963,\n",
       " 5305,\n",
       " 5440,\n",
       " 5468,\n",
       " 5566,\n",
       " 5575,\n",
       " 5864,\n",
       " 6218,\n",
       " 6219,\n",
       " 6571,\n",
       " 7111,\n",
       " 7172,\n",
       " 7183,\n",
       " 7235,\n",
       " 7388,\n",
       " 7413,\n",
       " 7465,\n",
       " 7484,\n",
       " 7574,\n",
       " 7911,\n",
       " 7949,\n",
       " 7989,\n",
       " 8239,\n",
       " 8469,\n",
       " 8532,\n",
       " 8549,\n",
       " 8587,\n",
       " 8681,\n",
       " 8720,\n",
       " 8721,\n",
       " 8814,\n",
       " 8843,\n",
       " 8944,\n",
       " 9043,\n",
       " 9199,\n",
       " 9761,\n",
       " 9811,\n",
       " 9821,\n",
       " 9976,\n",
       " 10046,\n",
       " 10623,\n",
       " 10787,\n",
       " 10846,\n",
       " 10924,\n",
       " 11071,\n",
       " 11125,\n",
       " 11454,\n",
       " 11665,\n",
       " 11723,\n",
       " 12195,\n",
       " 12386,\n",
       " 12424,\n",
       " 12695,\n",
       " 12744]"
      ]
     },
     "execution_count": 28,
     "metadata": {},
     "output_type": "execute_result"
    }
   ],
   "source": [
    "[i[1] for i in cluster_list[0]]"
   ]
  },
  {
   "cell_type": "code",
   "execution_count": 32,
   "metadata": {},
   "outputs": [],
   "source": [
    "import statistics\n",
    "\n",
    "# index is cluster index\n",
    "def intracluster_similarity(index):\n",
    "    cluster_centroid = np.average(gv_matrix[[i[1] for i in cluster_list[index]]], axis=0)\n",
    "    dist_list = []\n",
    "    cluster = cluster_list[index]\n",
    "    for i in cluster:\n",
    "        distance = np.linalg.norm(cluster_centroid-gv_matrix[i[1]])\n",
    "        dist_list.append(distance)\n",
    "        \n",
    "    #avg = sum_dist/(len(indices[index])-1)\n",
    "    avg = np.average(dist_list)\n",
    "\n",
    "    #variance = statistics.variance(dist_list)\n",
    "    variance = np.var(dist_list)\n",
    "    \n",
    "    return avg, variance"
   ]
  },
  {
   "cell_type": "code",
   "execution_count": 33,
   "metadata": {},
   "outputs": [
    {
     "data": {
      "text/plain": [
       "(1.401733799595228e-08, 1.6894320290146549e-15)"
      ]
     },
     "execution_count": 33,
     "metadata": {},
     "output_type": "execute_result"
    }
   ],
   "source": [
    "intracluster_similarity(0)"
   ]
  },
  {
   "cell_type": "code",
   "execution_count": 34,
   "metadata": {},
   "outputs": [
    {
     "data": {
      "text/plain": [
       "(2.987728694061639e-08, 6.092171372023618e-15)"
      ]
     },
     "execution_count": 34,
     "metadata": {},
     "output_type": "execute_result"
    }
   ],
   "source": [
    "intracluster_similarity(1)"
   ]
  },
  {
   "cell_type": "code",
   "execution_count": 35,
   "metadata": {},
   "outputs": [],
   "source": [
    "# index is cluster / cluster id\n",
    "def generate_raw_content_cluster_df(index):\n",
    "    index_list = cluster_list[index]\n",
    "    index_list = [x[1] for x in index_list]\n",
    "    cluster_seed = df_merged.loc[index].to_frame().T\n",
    "    #cluster_df = df_merged.loc[index_list[1:]]\n",
    "    cluster_df = df_merged.loc[index_list[1:]]\n",
    "    combined = pd.concat([cluster_seed, cluster_df])\n",
    "    combined['cluster'] = index\n",
    "    return combined"
   ]
  },
  {
   "cell_type": "code",
   "execution_count": 37,
   "metadata": {
    "scrolled": false
   },
   "outputs": [
    {
     "data": {
      "text/html": [
       "<div>\n",
       "<style scoped>\n",
       "    .dataframe tbody tr th:only-of-type {\n",
       "        vertical-align: middle;\n",
       "    }\n",
       "\n",
       "    .dataframe tbody tr th {\n",
       "        vertical-align: top;\n",
       "    }\n",
       "\n",
       "    .dataframe thead th {\n",
       "        text-align: right;\n",
       "    }\n",
       "</style>\n",
       "<table border=\"1\" class=\"dataframe\">\n",
       "  <thead>\n",
       "    <tr style=\"text-align: right;\">\n",
       "      <th></th>\n",
       "      <th>DOMAIN</th>\n",
       "      <th>RAW_CONTENT</th>\n",
       "      <th>RAW_CONTENT_PROCESSED</th>\n",
       "      <th>RAW_CONTENT_PROCESSED_STEMMED</th>\n",
       "      <th>cluster</th>\n",
       "    </tr>\n",
       "  </thead>\n",
       "  <tbody>\n",
       "    <tr>\n",
       "      <th>30</th>\n",
       "      <td>1855eyeexam.com</td>\n",
       "      <td>1855eyeexam.com this site is under constructio...</td>\n",
       "      <td>[eyeexamcom, site, construction, seeing, page,...</td>\n",
       "      <td>[1, 8, 5, 5, e, y, e, e, x, a, m, ., c, o, m, ...</td>\n",
       "      <td>30</td>\n",
       "    </tr>\n",
       "    <tr>\n",
       "      <th>4113</th>\n",
       "      <td>femmefrugality.com</td>\n",
       "      <td>things to think about | femme frugality saving...</td>\n",
       "      <td>[things, think, femme, frugality, saving, mone...</td>\n",
       "      <td>[t, h, i, n, g, s,  , t, o,  , t, h, i, n, k, ...</td>\n",
       "      <td>30</td>\n",
       "    </tr>\n",
       "    <tr>\n",
       "      <th>6825</th>\n",
       "      <td>lifewithmypenguin.com</td>\n",
       "      <td>soul slings full buckle review: toddler wearin...</td>\n",
       "      <td>[soul, slings, full, buckle, review, toddler, ...</td>\n",
       "      <td>[s, o, u, l,  , s, l, i, n, g, s,  , f, u, l, ...</td>\n",
       "      <td>30</td>\n",
       "    </tr>\n",
       "    <tr>\n",
       "      <th>7032</th>\n",
       "      <td>lowcostgolfe.com</td>\n",
       "      <td>captcha powered by imunify360 english lowcostg...</td>\n",
       "      <td>[captcha, powered, imunify, english, lowcostgo...</td>\n",
       "      <td>[c, a, p, t, c, h, a,  , p, o, w, e, r, e, d, ...</td>\n",
       "      <td>30</td>\n",
       "    </tr>\n",
       "    <tr>\n",
       "      <th>7831</th>\n",
       "      <td>motorcyclegear4riders.com</td>\n",
       "      <td>motorcycle rain gear – motorcyclegear4riders.c...</td>\n",
       "      <td>[motorcycle, rain, gear, –, motorcyclegearride...</td>\n",
       "      <td>[m, o, t, o, r, c, y, c, l, e,  , r, a, i, n, ...</td>\n",
       "      <td>30</td>\n",
       "    </tr>\n",
       "    <tr>\n",
       "      <th>8303</th>\n",
       "      <td>noithatphangia.com</td>\n",
       "      <td>captcha powered by imunify360 english noithatp...</td>\n",
       "      <td>[captcha, powered, imunify, english, noithatph...</td>\n",
       "      <td>[c, a, p, t, c, h, a,  , p, o, w, e, r, e, d, ...</td>\n",
       "      <td>30</td>\n",
       "    </tr>\n",
       "    <tr>\n",
       "      <th>9272</th>\n",
       "      <td>purplenblue.com</td>\n",
       "      <td>what to wear tonight, no matter what you’ve go...</td>\n",
       "      <td>[wear, tonight, matter, you’ve, got, planned, ...</td>\n",
       "      <td>[w, h, a, t,  , t, o,  , w, e, a, r,  , t, o, ...</td>\n",
       "      <td>30</td>\n",
       "    </tr>\n",
       "  </tbody>\n",
       "</table>\n",
       "</div>"
      ],
      "text/plain": [
       "                         DOMAIN  \\\n",
       "30              1855eyeexam.com   \n",
       "4113         femmefrugality.com   \n",
       "6825      lifewithmypenguin.com   \n",
       "7032           lowcostgolfe.com   \n",
       "7831  motorcyclegear4riders.com   \n",
       "8303         noithatphangia.com   \n",
       "9272            purplenblue.com   \n",
       "\n",
       "                                            RAW_CONTENT  \\\n",
       "30    1855eyeexam.com this site is under constructio...   \n",
       "4113  things to think about | femme frugality saving...   \n",
       "6825  soul slings full buckle review: toddler wearin...   \n",
       "7032  captcha powered by imunify360 english lowcostg...   \n",
       "7831  motorcycle rain gear – motorcyclegear4riders.c...   \n",
       "8303  captcha powered by imunify360 english noithatp...   \n",
       "9272  what to wear tonight, no matter what you’ve go...   \n",
       "\n",
       "                                  RAW_CONTENT_PROCESSED  \\\n",
       "30    [eyeexamcom, site, construction, seeing, page,...   \n",
       "4113  [things, think, femme, frugality, saving, mone...   \n",
       "6825  [soul, slings, full, buckle, review, toddler, ...   \n",
       "7032  [captcha, powered, imunify, english, lowcostgo...   \n",
       "7831  [motorcycle, rain, gear, –, motorcyclegearride...   \n",
       "8303  [captcha, powered, imunify, english, noithatph...   \n",
       "9272  [wear, tonight, matter, you’ve, got, planned, ...   \n",
       "\n",
       "                          RAW_CONTENT_PROCESSED_STEMMED  cluster  \n",
       "30    [1, 8, 5, 5, e, y, e, e, x, a, m, ., c, o, m, ...       30  \n",
       "4113  [t, h, i, n, g, s,  , t, o,  , t, h, i, n, k, ...       30  \n",
       "6825  [s, o, u, l,  , s, l, i, n, g, s,  , f, u, l, ...       30  \n",
       "7032  [c, a, p, t, c, h, a,  , p, o, w, e, r, e, d, ...       30  \n",
       "7831  [m, o, t, o, r, c, y, c, l, e,  , r, a, i, n, ...       30  \n",
       "8303  [c, a, p, t, c, h, a,  , p, o, w, e, r, e, d, ...       30  \n",
       "9272  [w, h, a, t,  , t, o,  , w, e, a, r,  , t, o, ...       30  "
      ]
     },
     "execution_count": 37,
     "metadata": {},
     "output_type": "execute_result"
    }
   ],
   "source": [
    "generate_raw_content_cluster_df(30)"
   ]
  },
  {
   "cell_type": "code",
   "execution_count": 38,
   "metadata": {},
   "outputs": [],
   "source": [
    "avg_list = []\n",
    "variance_list = []\n",
    "\n",
    "for i in range(num_clusters):\n",
    "    avg, variance = intracluster_similarity(i)\n",
    "    avg_list.append(avg)\n",
    "    variance_list.append(variance)\n",
    "    #print()"
   ]
  },
  {
   "cell_type": "code",
   "execution_count": 39,
   "metadata": {},
   "outputs": [
    {
     "data": {
      "text/plain": [
       "([<matplotlib.axis.XTick at 0x14b5645c0>,\n",
       "  <matplotlib.axis.XTick at 0x14b338e80>,\n",
       "  <matplotlib.axis.XTick at 0x14b338b70>,\n",
       "  <matplotlib.axis.XTick at 0x14b5aa668>,\n",
       "  <matplotlib.axis.XTick at 0x14b5aac18>,\n",
       "  <matplotlib.axis.XTick at 0x14b5aae80>,\n",
       "  <matplotlib.axis.XTick at 0x14b5ba4a8>,\n",
       "  <matplotlib.axis.XTick at 0x14b5ba978>,\n",
       "  <matplotlib.axis.XTick at 0x14b5bae48>,\n",
       "  <matplotlib.axis.XTick at 0x14b5c1358>,\n",
       "  <matplotlib.axis.XTick at 0x14b5c1828>],\n",
       " <a list of 11 Text xticklabel objects>)"
      ]
     },
     "execution_count": 39,
     "metadata": {},
     "output_type": "execute_result"
    },
    {
     "data": {
      "image/png": "[encoded data removed]",
      "text/plain": [
       "<Figure size 432x288 with 1 Axes>"
      ]
     },
     "metadata": {
      "needs_background": "light"
     },
     "output_type": "display_data"
    }
   ],
   "source": [
    "# neighbors = 10\n",
    "bins= [0,0.1,0.2,0.3,0.4,0.5,0.6,0.7,0.8,0.9,1.0]\n",
    "plt.hist(avg_list, bins=bins, edgecolor=\"k\")\n",
    "plt.xticks(bins)"
   ]
  },
  {
   "cell_type": "markdown",
   "metadata": {},
   "source": [
    "## Intercluster Similarity"
   ]
  },
  {
   "cell_type": "code",
   "execution_count": 40,
   "metadata": {},
   "outputs": [],
   "source": [
    "def intercluster_dist():\n",
    "    indices = range(num_clusters)\n",
    "    centroid_centroid_distance = {}\n",
    "    values = []\n",
    "    for i in indices:\n",
    "        for j in indices:\n",
    "            if i < j:\n",
    "                key = str(i) + \"::\" + str(j)\n",
    "                cluster_centroid_i = np.average(gv_matrix[[x[1] for x in cluster_list[i]]], axis=0)\n",
    "                cluster_centroid_j = np.average(gv_matrix[[x[1] for x in cluster_list[j]]], axis=0)\n",
    "                distance = np.linalg.norm(cluster_centroid_i - cluster_centroid_j)\n",
    "                centroid_centroid_distance[key] = distance\n",
    "                values.append(distance)\n",
    "    return centroid_centroid_distance, values"
   ]
  },
  {
   "cell_type": "code",
   "execution_count": 41,
   "metadata": {},
   "outputs": [
    {
     "name": "stdout",
     "output_type": "stream",
     "text": [
      "average 3.3564192359980445\n"
     ]
    }
   ],
   "source": [
    "intercluster_distances, values = intercluster_dist()\n",
    "#print('distances', values)\n",
    "print('average', np.average(values))"
   ]
  },
  {
   "cell_type": "code",
   "execution_count": null,
   "metadata": {},
   "outputs": [],
   "source": []
  }
 ],
 "metadata": {
  "colab": {
   "collapsed_sections": [],
   "name": "MastersProject.ipynb",
   "provenance": []
  },
  "kernelspec": {
   "display_name": "Python 3",
   "language": "python",
   "name": "python3"
  },
  "language_info": {
   "codemirror_mode": {
    "name": "ipython",
    "version": 3
   },
   "file_extension": ".py",
   "mimetype": "text/x-python",
   "name": "python",
   "nbconvert_exporter": "python",
   "pygments_lexer": "ipython3",
   "version": "3.7.1"
  }
 },
 "nbformat": 4,
 "nbformat_minor": 1
}
