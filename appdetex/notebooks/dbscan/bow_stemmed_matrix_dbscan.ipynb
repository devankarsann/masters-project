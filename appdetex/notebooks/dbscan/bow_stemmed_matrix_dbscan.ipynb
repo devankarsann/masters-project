{
 "cells": [
  {
   "cell_type": "code",
   "execution_count": 1,
   "metadata": {},
   "outputs": [
    {
     "data": {
      "text/html": [
       "<style>.container { width:95% !important; }</style>"
      ],
      "text/plain": [
       "<IPython.core.display.HTML object>"
      ]
     },
     "metadata": {},
     "output_type": "display_data"
    }
   ],
   "source": [
    "from IPython.core.display import display, HTML\n",
    "display(HTML(\"<style>.container { width:95% !important; }</style>\"))"
   ]
  },
  {
   "cell_type": "markdown",
   "metadata": {
    "id": "FYVUGSFLf_qE"
   },
   "source": [
    "## Libraries and Filesystem Setup"
   ]
  },
  {
   "cell_type": "code",
   "execution_count": 2,
   "metadata": {
    "colab": {
     "base_uri": "https://localhost:8080/"
    },
    "id": "uqRQxTVbf39P",
    "outputId": "aecc64fb-dc6f-4d45-f5a3-98ec0b70cbfe"
   },
   "outputs": [],
   "source": [
    "import pandas as pd\n",
    "import pickle\n",
    "import numpy as np\n",
    "import matplotlib.pyplot as plt\n",
    "import scipy.sparse\n",
    "import scipy"
   ]
  },
  {
   "cell_type": "markdown",
   "metadata": {},
   "source": [
    "### Import LDA document vectors"
   ]
  },
  {
   "cell_type": "code",
   "execution_count": 3,
   "metadata": {},
   "outputs": [],
   "source": [
    "bow_stemmed_matrix = np.load('../../processed_files/bow_stemmed_matrix.npy')\n",
    "df_merged = pickle.load(open(\"../../processed_files/df_merged.pickle\", \"rb\"))"
   ]
  },
  {
   "cell_type": "code",
   "execution_count": 4,
   "metadata": {},
   "outputs": [
    {
     "data": {
      "text/plain": [
       "(12975, 4935)"
      ]
     },
     "execution_count": 4,
     "metadata": {},
     "output_type": "execute_result"
    }
   ],
   "source": [
    "bow_stemmed_matrix.shape"
   ]
  },
  {
   "cell_type": "code",
   "execution_count": 5,
   "metadata": {},
   "outputs": [
    {
     "data": {
      "text/html": [
       "<div>\n",
       "<style scoped>\n",
       "    .dataframe tbody tr th:only-of-type {\n",
       "        vertical-align: middle;\n",
       "    }\n",
       "\n",
       "    .dataframe tbody tr th {\n",
       "        vertical-align: top;\n",
       "    }\n",
       "\n",
       "    .dataframe thead th {\n",
       "        text-align: right;\n",
       "    }\n",
       "</style>\n",
       "<table border=\"1\" class=\"dataframe\">\n",
       "  <thead>\n",
       "    <tr style=\"text-align: right;\">\n",
       "      <th></th>\n",
       "      <th>DOMAIN</th>\n",
       "      <th>RAW_CONTENT</th>\n",
       "      <th>RAW_CONTENT_PROCESSED</th>\n",
       "      <th>RAW_CONTENT_PROCESSED_STEMMED</th>\n",
       "    </tr>\n",
       "  </thead>\n",
       "  <tbody>\n",
       "    <tr>\n",
       "      <th>0</th>\n",
       "      <td>0-my.com</td>\n",
       "      <td>0-my.com related searches: related searches:</td>\n",
       "      <td>[mycom, related, searches, related, searches]</td>\n",
       "      <td>[0, -, m, y, ., c, o, m,  , r, e, l, a, t, e, ...</td>\n",
       "    </tr>\n",
       "    <tr>\n",
       "      <th>1</th>\n",
       "      <td>00bitz.com</td>\n",
       "      <td>error. page cannot be displayed. please contac...</td>\n",
       "      <td>[error, page, cannot, displayed, please, conta...</td>\n",
       "      <td>[e, r, r, o, r, .,  , p, a, g, e,  , c, a, n, ...</td>\n",
       "    </tr>\n",
       "    <tr>\n",
       "      <th>2</th>\n",
       "      <td>01187.com</td>\n",
       "      <td>01187.com is available for purchase! - wwwv1.c...</td>\n",
       "      <td>[com, vailable, purchase, wwwvcom, welcome, uu...</td>\n",
       "      <td>[0, 1, 1, 8, 7, ., c, o, m,  , i, s,  , a, v, ...</td>\n",
       "    </tr>\n",
       "    <tr>\n",
       "      <th>3</th>\n",
       "      <td>027.ir</td>\n",
       "      <td>027.ir - dns4.ir 027.ir hits: 7,267 under cons...</td>\n",
       "      <td>[ir, dnsir, ir, hits, construction, coming, so...</td>\n",
       "      <td>[0, 2, 7, ., i, r,  , -,  , d, n, s, 4, ., i, ...</td>\n",
       "    </tr>\n",
       "    <tr>\n",
       "      <th>4</th>\n",
       "      <td>03h.org</td>\n",
       "      <td>february | 2014 | online marketing review sear...</td>\n",
       "      <td>[february, online, marketing, review, search, ...</td>\n",
       "      <td>[f, e, b, r, u, a, r, y,  , |,  , 2, 0, 1, 4, ...</td>\n",
       "    </tr>\n",
       "  </tbody>\n",
       "</table>\n",
       "</div>"
      ],
      "text/plain": [
       "       DOMAIN                                        RAW_CONTENT  \\\n",
       "0    0-my.com       0-my.com related searches: related searches:   \n",
       "1  00bitz.com  error. page cannot be displayed. please contac...   \n",
       "2   01187.com  01187.com is available for purchase! - wwwv1.c...   \n",
       "3      027.ir  027.ir - dns4.ir 027.ir hits: 7,267 under cons...   \n",
       "4     03h.org  february | 2014 | online marketing review sear...   \n",
       "\n",
       "                               RAW_CONTENT_PROCESSED  \\\n",
       "0      [mycom, related, searches, related, searches]   \n",
       "1  [error, page, cannot, displayed, please, conta...   \n",
       "2  [com, vailable, purchase, wwwvcom, welcome, uu...   \n",
       "3  [ir, dnsir, ir, hits, construction, coming, so...   \n",
       "4  [february, online, marketing, review, search, ...   \n",
       "\n",
       "                       RAW_CONTENT_PROCESSED_STEMMED  \n",
       "0  [0, -, m, y, ., c, o, m,  , r, e, l, a, t, e, ...  \n",
       "1  [e, r, r, o, r, .,  , p, a, g, e,  , c, a, n, ...  \n",
       "2  [0, 1, 1, 8, 7, ., c, o, m,  , i, s,  , a, v, ...  \n",
       "3  [0, 2, 7, ., i, r,  , -,  , d, n, s, 4, ., i, ...  \n",
       "4  [f, e, b, r, u, a, r, y,  , |,  , 2, 0, 1, 4, ...  "
      ]
     },
     "execution_count": 5,
     "metadata": {},
     "output_type": "execute_result"
    }
   ],
   "source": [
    "df_merged.head()"
   ]
  },
  {
   "cell_type": "code",
   "execution_count": 6,
   "metadata": {},
   "outputs": [
    {
     "data": {
      "text/plain": [
       "(12975, 4)"
      ]
     },
     "execution_count": 6,
     "metadata": {},
     "output_type": "execute_result"
    }
   ],
   "source": [
    "df_merged.shape"
   ]
  },
  {
   "cell_type": "code",
   "execution_count": 8,
   "metadata": {},
   "outputs": [
    {
     "data": {
      "text/plain": [
       "scipy.sparse.csr.csr_matrix"
      ]
     },
     "execution_count": 8,
     "metadata": {},
     "output_type": "execute_result"
    }
   ],
   "source": [
    "type(bow_stemmed_matrix[0])"
   ]
  },
  {
   "cell_type": "markdown",
   "metadata": {},
   "source": [
    "## DB Scan"
   ]
  },
  {
   "cell_type": "code",
   "execution_count": 8,
   "metadata": {},
   "outputs": [],
   "source": [
    "from sklearn.cluster import DBSCAN"
   ]
  },
  {
   "cell_type": "code",
   "execution_count": 9,
   "metadata": {},
   "outputs": [],
   "source": [
    "# eps (default 0.5): the maximum distance between two samples for one to be considered as in the neighborhood of the other\n",
    "# min_samples (default 5): number of samples (or total weight) in a neighborhood for a point to be considered as a core point. This includes the point itself\n",
    "# algorithm (default 'auto'): ‘auto’, ‘ball_tree’, ‘kd_tree’, ‘brute’\n",
    "dbscan = DBSCAN(eps = 0.1, min_samples = 5).fit(bow_stemmed_matrix)"
   ]
  },
  {
   "cell_type": "code",
   "execution_count": 10,
   "metadata": {},
   "outputs": [
    {
     "data": {
      "text/plain": [
       "array([-1,  0, -1, ..., -1, -1, -1])"
      ]
     },
     "execution_count": 10,
     "metadata": {},
     "output_type": "execute_result"
    }
   ],
   "source": [
    "dbscan.labels_"
   ]
  },
  {
   "cell_type": "code",
   "execution_count": 11,
   "metadata": {},
   "outputs": [
    {
     "data": {
      "text/plain": [
       "37"
      ]
     },
     "execution_count": 11,
     "metadata": {},
     "output_type": "execute_result"
    }
   ],
   "source": [
    "num_clusters = max(dbscan.labels_)\n",
    "num_clusters"
   ]
  },
  {
   "cell_type": "code",
   "execution_count": 12,
   "metadata": {},
   "outputs": [
    {
     "data": {
      "text/plain": [
       "DBSCAN(eps=0.1)"
      ]
     },
     "execution_count": 12,
     "metadata": {},
     "output_type": "execute_result"
    }
   ],
   "source": [
    "dbscan"
   ]
  },
  {
   "cell_type": "code",
   "execution_count": 13,
   "metadata": {},
   "outputs": [
    {
     "data": {
      "text/plain": [
       "-1"
      ]
     },
     "execution_count": 13,
     "metadata": {},
     "output_type": "execute_result"
    }
   ],
   "source": [
    "index_cluster = zip(range(len(dbscan.labels_)), dbscan.labels_)\n",
    "index_cluster_dict = dict(index_cluster)\n",
    "index_cluster_dict[456]"
   ]
  },
  {
   "cell_type": "code",
   "execution_count": 14,
   "metadata": {},
   "outputs": [],
   "source": [
    "cluster_index = list(zip(dbscan.labels_, range(len(dbscan.labels_))))"
   ]
  },
  {
   "cell_type": "code",
   "execution_count": 48,
   "metadata": {},
   "outputs": [],
   "source": [
    "cluster_list = dict()\n",
    "for i in range(num_clusters):\n",
    "    cluster_list[i] = list(filter(lambda row: row[0] == i, cluster_index))"
   ]
  },
  {
   "cell_type": "code",
   "execution_count": 49,
   "metadata": {},
   "outputs": [
    {
     "name": "stdout",
     "output_type": "stream",
     "text": [
      "cluster:  0 size:  34\n",
      "cluster:  1 size:  11\n",
      "cluster:  2 size:  9\n",
      "cluster:  3 size:  25\n",
      "cluster:  4 size:  31\n",
      "cluster:  5 size:  26\n",
      "cluster:  6 size:  5\n",
      "cluster:  7 size:  25\n",
      "cluster:  8 size:  20\n",
      "cluster:  9 size:  32\n",
      "cluster:  10 size:  32\n",
      "cluster:  11 size:  16\n",
      "cluster:  12 size:  20\n",
      "cluster:  13 size:  103\n",
      "cluster:  14 size:  35\n",
      "cluster:  15 size:  10\n",
      "cluster:  16 size:  25\n",
      "cluster:  17 size:  21\n",
      "cluster:  18 size:  9\n",
      "cluster:  19 size:  5\n",
      "cluster:  20 size:  21\n",
      "cluster:  21 size:  13\n",
      "cluster:  22 size:  32\n",
      "cluster:  23 size:  27\n",
      "cluster:  24 size:  19\n",
      "cluster:  25 size:  7\n",
      "cluster:  26 size:  5\n",
      "cluster:  27 size:  14\n",
      "cluster:  28 size:  8\n",
      "cluster:  29 size:  5\n",
      "cluster:  30 size:  5\n",
      "cluster:  31 size:  6\n",
      "cluster:  32 size:  5\n",
      "cluster:  33 size:  24\n",
      "cluster:  34 size:  8\n",
      "cluster:  35 size:  5\n",
      "cluster:  36 size:  8\n"
     ]
    }
   ],
   "source": [
    "for i in range(num_clusters):\n",
    "    print('cluster: ', i, 'size: ', len(cluster_list[i]))"
   ]
  },
  {
   "cell_type": "code",
   "execution_count": 17,
   "metadata": {},
   "outputs": [
    {
     "data": {
      "text/plain": [
       "34"
      ]
     },
     "execution_count": 17,
     "metadata": {},
     "output_type": "execute_result"
    }
   ],
   "source": [
    "len(cluster_list[0])"
   ]
  },
  {
   "cell_type": "code",
   "execution_count": 18,
   "metadata": {},
   "outputs": [
    {
     "data": {
      "text/plain": [
       "11"
      ]
     },
     "execution_count": 18,
     "metadata": {},
     "output_type": "execute_result"
    }
   ],
   "source": [
    "len(cluster_list[1])"
   ]
  },
  {
   "cell_type": "code",
   "execution_count": 19,
   "metadata": {},
   "outputs": [
    {
     "data": {
      "text/plain": [
       "9"
      ]
     },
     "execution_count": 19,
     "metadata": {},
     "output_type": "execute_result"
    }
   ],
   "source": [
    "len(cluster_list[2])"
   ]
  },
  {
   "cell_type": "code",
   "execution_count": 20,
   "metadata": {},
   "outputs": [
    {
     "data": {
      "text/plain": [
       "8"
      ]
     },
     "execution_count": 20,
     "metadata": {},
     "output_type": "execute_result"
    }
   ],
   "source": [
    "len(cluster_list[num_clusters-1])"
   ]
  },
  {
   "cell_type": "code",
   "execution_count": 21,
   "metadata": {},
   "outputs": [
    {
     "data": {
      "text/plain": [
       "[(1, 5),\n",
       " (1, 13),\n",
       " (1, 17),\n",
       " (1, 77),\n",
       " (1, 86),\n",
       " (1, 98),\n",
       " (1, 103),\n",
       " (1, 135),\n",
       " (1, 150),\n",
       " (1, 155),\n",
       " (1, 161)]"
      ]
     },
     "execution_count": 21,
     "metadata": {},
     "output_type": "execute_result"
    }
   ],
   "source": [
    "cluster_list[1]"
   ]
  },
  {
   "cell_type": "code",
   "execution_count": 25,
   "metadata": {},
   "outputs": [],
   "source": [
    "#print(clusters.labels_.shape)"
   ]
  },
  {
   "cell_type": "code",
   "execution_count": 26,
   "metadata": {
    "scrolled": true
   },
   "outputs": [
    {
     "data": {
      "text/plain": [
       "[1,\n",
       " 1859,\n",
       " 2213,\n",
       " 2445,\n",
       " 2490,\n",
       " 2581,\n",
       " 2653,\n",
       " 2682,\n",
       " 2947,\n",
       " 3148,\n",
       " 3503,\n",
       " 3921,\n",
       " 4525,\n",
       " 5549,\n",
       " 5734,\n",
       " 6273,\n",
       " 6324,\n",
       " 6610,\n",
       " 6740,\n",
       " 7724,\n",
       " 7801,\n",
       " 8708,\n",
       " 9934,\n",
       " 10336,\n",
       " 10536,\n",
       " 10621,\n",
       " 10831,\n",
       " 10905,\n",
       " 11540,\n",
       " 11818,\n",
       " 12400,\n",
       " 12468,\n",
       " 12881,\n",
       " 12947]"
      ]
     },
     "execution_count": 26,
     "metadata": {},
     "output_type": "execute_result"
    }
   ],
   "source": [
    "[i[1] for i in cluster_list[0]]"
   ]
  },
  {
   "cell_type": "code",
   "execution_count": 33,
   "metadata": {},
   "outputs": [],
   "source": [
    "import statistics\n",
    "\n",
    "# index is cluster index\n",
    "def intracluster_similarity(index):\n",
    "    cluster_centroid = np.average(bow_stemmed_matrix[[i[1] for i in cluster_list[index]]], axis=0)\n",
    "    dist_list = []\n",
    "    cluster = cluster_list[index]\n",
    "    for i in cluster:\n",
    "        distance = np.linalg.norm(cluster_centroid-bow_stemmed_matrix[i[1]])\n",
    "        dist_list.append(distance)\n",
    "        \n",
    "    #avg = sum_dist/(len(indices[index])-1)\n",
    "    avg = np.average(dist_list)\n",
    "\n",
    "    #variance = statistics.variance(dist_list)\n",
    "    variance = np.var(dist_list)\n",
    "    \n",
    "    return avg, variance"
   ]
  },
  {
   "cell_type": "code",
   "execution_count": 36,
   "metadata": {},
   "outputs": [
    {
     "data": {
      "text/plain": [
       "(0.0, 0.0)"
      ]
     },
     "execution_count": 36,
     "metadata": {},
     "output_type": "execute_result"
    }
   ],
   "source": [
    "intracluster_similarity(2)"
   ]
  },
  {
   "cell_type": "code",
   "execution_count": 38,
   "metadata": {},
   "outputs": [],
   "source": [
    "# index is cluster / cluster id\n",
    "def generate_raw_content_cluster_df(index):\n",
    "    index_list = cluster_list[index]\n",
    "    index_list = [x[1] for x in index_list]\n",
    "    cluster_seed = df_merged.loc[index].to_frame().T\n",
    "    #cluster_df = df_merged.loc[index_list[1:]]\n",
    "    cluster_df = df_merged.loc[index_list[1:]]\n",
    "    combined = pd.concat([cluster_seed, cluster_df])\n",
    "    combined['cluster'] = index\n",
    "    return combined"
   ]
  },
  {
   "cell_type": "code",
   "execution_count": 50,
   "metadata": {
    "scrolled": false
   },
   "outputs": [
    {
     "data": {
      "text/html": [
       "<div>\n",
       "<style scoped>\n",
       "    .dataframe tbody tr th:only-of-type {\n",
       "        vertical-align: middle;\n",
       "    }\n",
       "\n",
       "    .dataframe tbody tr th {\n",
       "        vertical-align: top;\n",
       "    }\n",
       "\n",
       "    .dataframe thead th {\n",
       "        text-align: right;\n",
       "    }\n",
       "</style>\n",
       "<table border=\"1\" class=\"dataframe\">\n",
       "  <thead>\n",
       "    <tr style=\"text-align: right;\">\n",
       "      <th></th>\n",
       "      <th>DOMAIN</th>\n",
       "      <th>RAW_CONTENT</th>\n",
       "      <th>RAW_CONTENT_PROCESSED</th>\n",
       "      <th>RAW_CONTENT_PROCESSED_STEMMED</th>\n",
       "      <th>cluster</th>\n",
       "    </tr>\n",
       "  </thead>\n",
       "  <tbody>\n",
       "    <tr>\n",
       "      <th>10</th>\n",
       "      <td>100coin.com</td>\n",
       "      <td>100coin.com 您正在访问的域名 (100coin.com) 可以合作或转让! th...</td>\n",
       "      <td>[coincom, 您正在访问的域名, coincom, 可以合作或转让, domain, ...</td>\n",
       "      <td>[1, 0, 0, c, o, i, n, ., c, o, m,  , 您, 正, 在, ...</td>\n",
       "      <td>10</td>\n",
       "    </tr>\n",
       "    <tr>\n",
       "      <th>826</th>\n",
       "      <td>archispecs.com</td>\n",
       "      <td>error. page cannot be displayed. please contac...</td>\n",
       "      <td>[error, page, cannot, displayed, please, conta...</td>\n",
       "      <td>[e, r, r, o, r, .,  , p, a, g, e,  , c, a, n, ...</td>\n",
       "      <td>10</td>\n",
       "    </tr>\n",
       "    <tr>\n",
       "      <th>1128</th>\n",
       "      <td>badassmanship.com</td>\n",
       "      <td>error. page cannot be displayed. please contac...</td>\n",
       "      <td>[error, page, cannot, displayed, please, conta...</td>\n",
       "      <td>[e, r, r, o, r, .,  , p, a, g, e,  , c, a, n, ...</td>\n",
       "      <td>10</td>\n",
       "    </tr>\n",
       "    <tr>\n",
       "      <th>1992</th>\n",
       "      <td>capitalsubsidy.com</td>\n",
       "      <td>error. page cannot be displayed. please contac...</td>\n",
       "      <td>[error, page, cannot, displayed, please, conta...</td>\n",
       "      <td>[e, r, r, o, r, .,  , p, a, g, e,  , c, a, n, ...</td>\n",
       "      <td>10</td>\n",
       "    </tr>\n",
       "    <tr>\n",
       "      <th>2017</th>\n",
       "      <td>cardinalescrow.info</td>\n",
       "      <td>error. page cannot be displayed. please contac...</td>\n",
       "      <td>[error, page, cannot, displayed, please, conta...</td>\n",
       "      <td>[e, r, r, o, r, .,  , p, a, g, e,  , c, a, n, ...</td>\n",
       "      <td>10</td>\n",
       "    </tr>\n",
       "    <tr>\n",
       "      <th>2068</th>\n",
       "      <td>casadragonestastingroom.com</td>\n",
       "      <td>error. page cannot be displayed. please contac...</td>\n",
       "      <td>[error, page, cannot, displayed, please, conta...</td>\n",
       "      <td>[e, r, r, o, r, .,  , p, a, g, e,  , c, a, n, ...</td>\n",
       "      <td>10</td>\n",
       "    </tr>\n",
       "    <tr>\n",
       "      <th>2148</th>\n",
       "      <td>cellinnotherapeutics.com</td>\n",
       "      <td>error. page cannot be displayed. please contac...</td>\n",
       "      <td>[error, page, cannot, displayed, please, conta...</td>\n",
       "      <td>[e, r, r, o, r, .,  , p, a, g, e,  , c, a, n, ...</td>\n",
       "      <td>10</td>\n",
       "    </tr>\n",
       "    <tr>\n",
       "      <th>2788</th>\n",
       "      <td>crystalcardconcierge.biz</td>\n",
       "      <td>error. page cannot be displayed. please contac...</td>\n",
       "      <td>[error, page, cannot, displayed, please, conta...</td>\n",
       "      <td>[e, r, r, o, r, .,  , p, a, g, e,  , c, a, n, ...</td>\n",
       "      <td>10</td>\n",
       "    </tr>\n",
       "    <tr>\n",
       "      <th>3067</th>\n",
       "      <td>denisemerrill.com</td>\n",
       "      <td>error. page cannot be displayed. please contac...</td>\n",
       "      <td>[error, page, cannot, displayed, please, conta...</td>\n",
       "      <td>[e, r, r, o, r, .,  , p, a, g, e,  , c, a, n, ...</td>\n",
       "      <td>10</td>\n",
       "    </tr>\n",
       "    <tr>\n",
       "      <th>3963</th>\n",
       "      <td>facebookvs.com</td>\n",
       "      <td>error. page cannot be displayed. please contac...</td>\n",
       "      <td>[error, page, cannot, displayed, please, conta...</td>\n",
       "      <td>[e, r, r, o, r, .,  , p, a, g, e,  , c, a, n, ...</td>\n",
       "      <td>10</td>\n",
       "    </tr>\n",
       "    <tr>\n",
       "      <th>3967</th>\n",
       "      <td>facefkr.com</td>\n",
       "      <td>error. page cannot be displayed. please contac...</td>\n",
       "      <td>[error, page, cannot, displayed, please, conta...</td>\n",
       "      <td>[e, r, r, o, r, .,  , p, a, g, e,  , c, a, n, ...</td>\n",
       "      <td>10</td>\n",
       "    </tr>\n",
       "    <tr>\n",
       "      <th>4091</th>\n",
       "      <td>fcibbank.com</td>\n",
       "      <td>error. page cannot be displayed. please contac...</td>\n",
       "      <td>[error, page, cannot, displayed, please, conta...</td>\n",
       "      <td>[e, r, r, o, r, .,  , p, a, g, e,  , c, a, n, ...</td>\n",
       "      <td>10</td>\n",
       "    </tr>\n",
       "    <tr>\n",
       "      <th>5651</th>\n",
       "      <td>imperialoptical.net</td>\n",
       "      <td>error. page cannot be displayed. please contac...</td>\n",
       "      <td>[error, page, cannot, displayed, please, conta...</td>\n",
       "      <td>[e, r, r, o, r, .,  , p, a, g, e,  , c, a, n, ...</td>\n",
       "      <td>10</td>\n",
       "    </tr>\n",
       "    <tr>\n",
       "      <th>5797</th>\n",
       "      <td>internationalpetsavings.com</td>\n",
       "      <td>error. page cannot be displayed. please contac...</td>\n",
       "      <td>[error, page, cannot, displayed, please, conta...</td>\n",
       "      <td>[e, r, r, o, r, .,  , p, a, g, e,  , c, a, n, ...</td>\n",
       "      <td>10</td>\n",
       "    </tr>\n",
       "    <tr>\n",
       "      <th>6481</th>\n",
       "      <td>kohlsvoluntarybenifits.com</td>\n",
       "      <td>error. page cannot be displayed. please contac...</td>\n",
       "      <td>[error, page, cannot, displayed, please, conta...</td>\n",
       "      <td>[e, r, r, o, r, .,  , p, a, g, e,  , c, a, n, ...</td>\n",
       "      <td>10</td>\n",
       "    </tr>\n",
       "    <tr>\n",
       "      <th>7023</th>\n",
       "      <td>loveofvirtual.com</td>\n",
       "      <td>error. page cannot be displayed. please contac...</td>\n",
       "      <td>[error, page, cannot, displayed, please, conta...</td>\n",
       "      <td>[e, r, r, o, r, .,  , p, a, g, e,  , c, a, n, ...</td>\n",
       "      <td>10</td>\n",
       "    </tr>\n",
       "    <tr>\n",
       "      <th>7117</th>\n",
       "      <td>madillok.net</td>\n",
       "      <td>error. page cannot be displayed. please contac...</td>\n",
       "      <td>[error, page, cannot, displayed, please, conta...</td>\n",
       "      <td>[e, r, r, o, r, .,  , p, a, g, e,  , c, a, n, ...</td>\n",
       "      <td>10</td>\n",
       "    </tr>\n",
       "    <tr>\n",
       "      <th>7242</th>\n",
       "      <td>mariaozawa.tv</td>\n",
       "      <td>error. page cannot be displayed. please contac...</td>\n",
       "      <td>[error, page, cannot, displayed, please, conta...</td>\n",
       "      <td>[e, r, r, o, r, .,  , p, a, g, e,  , c, a, n, ...</td>\n",
       "      <td>10</td>\n",
       "    </tr>\n",
       "    <tr>\n",
       "      <th>7580</th>\n",
       "      <td>midamex.com</td>\n",
       "      <td>error. page cannot be displayed. please contac...</td>\n",
       "      <td>[error, page, cannot, displayed, please, conta...</td>\n",
       "      <td>[e, r, r, o, r, .,  , p, a, g, e,  , c, a, n, ...</td>\n",
       "      <td>10</td>\n",
       "    </tr>\n",
       "    <tr>\n",
       "      <th>8468</th>\n",
       "      <td>offtrackalliance.com</td>\n",
       "      <td>error. page cannot be displayed. please contac...</td>\n",
       "      <td>[error, page, cannot, displayed, please, conta...</td>\n",
       "      <td>[e, r, r, o, r, .,  , p, a, g, e,  , c, a, n, ...</td>\n",
       "      <td>10</td>\n",
       "    </tr>\n",
       "    <tr>\n",
       "      <th>9862</th>\n",
       "      <td>santoslottery.com</td>\n",
       "      <td>error. page cannot be displayed. please contac...</td>\n",
       "      <td>[error, page, cannot, displayed, please, conta...</td>\n",
       "      <td>[e, r, r, o, r, .,  , p, a, g, e,  , c, a, n, ...</td>\n",
       "      <td>10</td>\n",
       "    </tr>\n",
       "    <tr>\n",
       "      <th>10250</th>\n",
       "      <td>simplifyeducatereveal.com</td>\n",
       "      <td>error. page cannot be displayed. please contac...</td>\n",
       "      <td>[error, page, cannot, displayed, please, conta...</td>\n",
       "      <td>[e, r, r, o, r, .,  , p, a, g, e,  , c, a, n, ...</td>\n",
       "      <td>10</td>\n",
       "    </tr>\n",
       "    <tr>\n",
       "      <th>10294</th>\n",
       "      <td>sketchlottery.com</td>\n",
       "      <td>error. page cannot be displayed. please contac...</td>\n",
       "      <td>[error, page, cannot, displayed, please, conta...</td>\n",
       "      <td>[e, r, r, o, r, .,  , p, a, g, e,  , c, a, n, ...</td>\n",
       "      <td>10</td>\n",
       "    </tr>\n",
       "    <tr>\n",
       "      <th>10446</th>\n",
       "      <td>solarenergy.pictures</td>\n",
       "      <td>error. page cannot be displayed. please contac...</td>\n",
       "      <td>[error, page, cannot, displayed, please, conta...</td>\n",
       "      <td>[e, r, r, o, r, .,  , p, a, g, e,  , c, a, n, ...</td>\n",
       "      <td>10</td>\n",
       "    </tr>\n",
       "    <tr>\n",
       "      <th>10472</th>\n",
       "      <td>sonoma-valley.org</td>\n",
       "      <td>error. page cannot be displayed. please contac...</td>\n",
       "      <td>[error, page, cannot, displayed, please, conta...</td>\n",
       "      <td>[e, r, r, o, r, .,  , p, a, g, e,  , c, a, n, ...</td>\n",
       "      <td>10</td>\n",
       "    </tr>\n",
       "    <tr>\n",
       "      <th>10798</th>\n",
       "      <td>summertimefarms.net</td>\n",
       "      <td>error. page cannot be displayed. please contac...</td>\n",
       "      <td>[error, page, cannot, displayed, please, conta...</td>\n",
       "      <td>[e, r, r, o, r, .,  , p, a, g, e,  , c, a, n, ...</td>\n",
       "      <td>10</td>\n",
       "    </tr>\n",
       "    <tr>\n",
       "      <th>11819</th>\n",
       "      <td>travel-insight.com</td>\n",
       "      <td>error. page cannot be displayed. please contac...</td>\n",
       "      <td>[error, page, cannot, displayed, please, conta...</td>\n",
       "      <td>[e, r, r, o, r, .,  , p, a, g, e,  , c, a, n, ...</td>\n",
       "      <td>10</td>\n",
       "    </tr>\n",
       "    <tr>\n",
       "      <th>11901</th>\n",
       "      <td>trulianthealth.net</td>\n",
       "      <td>error. page cannot be displayed. please contac...</td>\n",
       "      <td>[error, page, cannot, displayed, please, conta...</td>\n",
       "      <td>[e, r, r, o, r, .,  , p, a, g, e,  , c, a, n, ...</td>\n",
       "      <td>10</td>\n",
       "    </tr>\n",
       "    <tr>\n",
       "      <th>12256</th>\n",
       "      <td>visionsoflamoda.com</td>\n",
       "      <td>error. page cannot be displayed. please contac...</td>\n",
       "      <td>[error, page, cannot, displayed, please, conta...</td>\n",
       "      <td>[e, r, r, o, r, .,  , p, a, g, e,  , c, a, n, ...</td>\n",
       "      <td>10</td>\n",
       "    </tr>\n",
       "    <tr>\n",
       "      <th>12302</th>\n",
       "      <td>vtvafefcu.net</td>\n",
       "      <td>error. page cannot be displayed. please contac...</td>\n",
       "      <td>[error, page, cannot, displayed, please, conta...</td>\n",
       "      <td>[e, r, r, o, r, .,  , p, a, g, e,  , c, a, n, ...</td>\n",
       "      <td>10</td>\n",
       "    </tr>\n",
       "    <tr>\n",
       "      <th>12626</th>\n",
       "      <td>wisclottery.net</td>\n",
       "      <td>error. page cannot be displayed. please contac...</td>\n",
       "      <td>[error, page, cannot, displayed, please, conta...</td>\n",
       "      <td>[e, r, r, o, r, .,  , p, a, g, e,  , c, a, n, ...</td>\n",
       "      <td>10</td>\n",
       "    </tr>\n",
       "    <tr>\n",
       "      <th>12840</th>\n",
       "      <td>yetauta.com</td>\n",
       "      <td>error. page cannot be displayed. please contac...</td>\n",
       "      <td>[error, page, cannot, displayed, please, conta...</td>\n",
       "      <td>[e, r, r, o, r, .,  , p, a, g, e,  , c, a, n, ...</td>\n",
       "      <td>10</td>\n",
       "    </tr>\n",
       "  </tbody>\n",
       "</table>\n",
       "</div>"
      ],
      "text/plain": [
       "                            DOMAIN  \\\n",
       "10                     100coin.com   \n",
       "826                 archispecs.com   \n",
       "1128             badassmanship.com   \n",
       "1992            capitalsubsidy.com   \n",
       "2017           cardinalescrow.info   \n",
       "2068   casadragonestastingroom.com   \n",
       "2148      cellinnotherapeutics.com   \n",
       "2788      crystalcardconcierge.biz   \n",
       "3067             denisemerrill.com   \n",
       "3963                facebookvs.com   \n",
       "3967                   facefkr.com   \n",
       "4091                  fcibbank.com   \n",
       "5651           imperialoptical.net   \n",
       "5797   internationalpetsavings.com   \n",
       "6481    kohlsvoluntarybenifits.com   \n",
       "7023             loveofvirtual.com   \n",
       "7117                  madillok.net   \n",
       "7242                 mariaozawa.tv   \n",
       "7580                   midamex.com   \n",
       "8468          offtrackalliance.com   \n",
       "9862             santoslottery.com   \n",
       "10250    simplifyeducatereveal.com   \n",
       "10294            sketchlottery.com   \n",
       "10446         solarenergy.pictures   \n",
       "10472            sonoma-valley.org   \n",
       "10798          summertimefarms.net   \n",
       "11819           travel-insight.com   \n",
       "11901           trulianthealth.net   \n",
       "12256          visionsoflamoda.com   \n",
       "12302                vtvafefcu.net   \n",
       "12626              wisclottery.net   \n",
       "12840                  yetauta.com   \n",
       "\n",
       "                                             RAW_CONTENT  \\\n",
       "10     100coin.com 您正在访问的域名 (100coin.com) 可以合作或转让! th...   \n",
       "826    error. page cannot be displayed. please contac...   \n",
       "1128   error. page cannot be displayed. please contac...   \n",
       "1992   error. page cannot be displayed. please contac...   \n",
       "2017   error. page cannot be displayed. please contac...   \n",
       "2068   error. page cannot be displayed. please contac...   \n",
       "2148   error. page cannot be displayed. please contac...   \n",
       "2788   error. page cannot be displayed. please contac...   \n",
       "3067   error. page cannot be displayed. please contac...   \n",
       "3963   error. page cannot be displayed. please contac...   \n",
       "3967   error. page cannot be displayed. please contac...   \n",
       "4091   error. page cannot be displayed. please contac...   \n",
       "5651   error. page cannot be displayed. please contac...   \n",
       "5797   error. page cannot be displayed. please contac...   \n",
       "6481   error. page cannot be displayed. please contac...   \n",
       "7023   error. page cannot be displayed. please contac...   \n",
       "7117   error. page cannot be displayed. please contac...   \n",
       "7242   error. page cannot be displayed. please contac...   \n",
       "7580   error. page cannot be displayed. please contac...   \n",
       "8468   error. page cannot be displayed. please contac...   \n",
       "9862   error. page cannot be displayed. please contac...   \n",
       "10250  error. page cannot be displayed. please contac...   \n",
       "10294  error. page cannot be displayed. please contac...   \n",
       "10446  error. page cannot be displayed. please contac...   \n",
       "10472  error. page cannot be displayed. please contac...   \n",
       "10798  error. page cannot be displayed. please contac...   \n",
       "11819  error. page cannot be displayed. please contac...   \n",
       "11901  error. page cannot be displayed. please contac...   \n",
       "12256  error. page cannot be displayed. please contac...   \n",
       "12302  error. page cannot be displayed. please contac...   \n",
       "12626  error. page cannot be displayed. please contac...   \n",
       "12840  error. page cannot be displayed. please contac...   \n",
       "\n",
       "                                   RAW_CONTENT_PROCESSED  \\\n",
       "10     [coincom, 您正在访问的域名, coincom, 可以合作或转让, domain, ...   \n",
       "826    [error, page, cannot, displayed, please, conta...   \n",
       "1128   [error, page, cannot, displayed, please, conta...   \n",
       "1992   [error, page, cannot, displayed, please, conta...   \n",
       "2017   [error, page, cannot, displayed, please, conta...   \n",
       "2068   [error, page, cannot, displayed, please, conta...   \n",
       "2148   [error, page, cannot, displayed, please, conta...   \n",
       "2788   [error, page, cannot, displayed, please, conta...   \n",
       "3067   [error, page, cannot, displayed, please, conta...   \n",
       "3963   [error, page, cannot, displayed, please, conta...   \n",
       "3967   [error, page, cannot, displayed, please, conta...   \n",
       "4091   [error, page, cannot, displayed, please, conta...   \n",
       "5651   [error, page, cannot, displayed, please, conta...   \n",
       "5797   [error, page, cannot, displayed, please, conta...   \n",
       "6481   [error, page, cannot, displayed, please, conta...   \n",
       "7023   [error, page, cannot, displayed, please, conta...   \n",
       "7117   [error, page, cannot, displayed, please, conta...   \n",
       "7242   [error, page, cannot, displayed, please, conta...   \n",
       "7580   [error, page, cannot, displayed, please, conta...   \n",
       "8468   [error, page, cannot, displayed, please, conta...   \n",
       "9862   [error, page, cannot, displayed, please, conta...   \n",
       "10250  [error, page, cannot, displayed, please, conta...   \n",
       "10294  [error, page, cannot, displayed, please, conta...   \n",
       "10446  [error, page, cannot, displayed, please, conta...   \n",
       "10472  [error, page, cannot, displayed, please, conta...   \n",
       "10798  [error, page, cannot, displayed, please, conta...   \n",
       "11819  [error, page, cannot, displayed, please, conta...   \n",
       "11901  [error, page, cannot, displayed, please, conta...   \n",
       "12256  [error, page, cannot, displayed, please, conta...   \n",
       "12302  [error, page, cannot, displayed, please, conta...   \n",
       "12626  [error, page, cannot, displayed, please, conta...   \n",
       "12840  [error, page, cannot, displayed, please, conta...   \n",
       "\n",
       "                           RAW_CONTENT_PROCESSED_STEMMED  cluster  \n",
       "10     [1, 0, 0, c, o, i, n, ., c, o, m,  , 您, 正, 在, ...       10  \n",
       "826    [e, r, r, o, r, .,  , p, a, g, e,  , c, a, n, ...       10  \n",
       "1128   [e, r, r, o, r, .,  , p, a, g, e,  , c, a, n, ...       10  \n",
       "1992   [e, r, r, o, r, .,  , p, a, g, e,  , c, a, n, ...       10  \n",
       "2017   [e, r, r, o, r, .,  , p, a, g, e,  , c, a, n, ...       10  \n",
       "2068   [e, r, r, o, r, .,  , p, a, g, e,  , c, a, n, ...       10  \n",
       "2148   [e, r, r, o, r, .,  , p, a, g, e,  , c, a, n, ...       10  \n",
       "2788   [e, r, r, o, r, .,  , p, a, g, e,  , c, a, n, ...       10  \n",
       "3067   [e, r, r, o, r, .,  , p, a, g, e,  , c, a, n, ...       10  \n",
       "3963   [e, r, r, o, r, .,  , p, a, g, e,  , c, a, n, ...       10  \n",
       "3967   [e, r, r, o, r, .,  , p, a, g, e,  , c, a, n, ...       10  \n",
       "4091   [e, r, r, o, r, .,  , p, a, g, e,  , c, a, n, ...       10  \n",
       "5651   [e, r, r, o, r, .,  , p, a, g, e,  , c, a, n, ...       10  \n",
       "5797   [e, r, r, o, r, .,  , p, a, g, e,  , c, a, n, ...       10  \n",
       "6481   [e, r, r, o, r, .,  , p, a, g, e,  , c, a, n, ...       10  \n",
       "7023   [e, r, r, o, r, .,  , p, a, g, e,  , c, a, n, ...       10  \n",
       "7117   [e, r, r, o, r, .,  , p, a, g, e,  , c, a, n, ...       10  \n",
       "7242   [e, r, r, o, r, .,  , p, a, g, e,  , c, a, n, ...       10  \n",
       "7580   [e, r, r, o, r, .,  , p, a, g, e,  , c, a, n, ...       10  \n",
       "8468   [e, r, r, o, r, .,  , p, a, g, e,  , c, a, n, ...       10  \n",
       "9862   [e, r, r, o, r, .,  , p, a, g, e,  , c, a, n, ...       10  \n",
       "10250  [e, r, r, o, r, .,  , p, a, g, e,  , c, a, n, ...       10  \n",
       "10294  [e, r, r, o, r, .,  , p, a, g, e,  , c, a, n, ...       10  \n",
       "10446  [e, r, r, o, r, .,  , p, a, g, e,  , c, a, n, ...       10  \n",
       "10472  [e, r, r, o, r, .,  , p, a, g, e,  , c, a, n, ...       10  \n",
       "10798  [e, r, r, o, r, .,  , p, a, g, e,  , c, a, n, ...       10  \n",
       "11819  [e, r, r, o, r, .,  , p, a, g, e,  , c, a, n, ...       10  \n",
       "11901  [e, r, r, o, r, .,  , p, a, g, e,  , c, a, n, ...       10  \n",
       "12256  [e, r, r, o, r, .,  , p, a, g, e,  , c, a, n, ...       10  \n",
       "12302  [e, r, r, o, r, .,  , p, a, g, e,  , c, a, n, ...       10  \n",
       "12626  [e, r, r, o, r, .,  , p, a, g, e,  , c, a, n, ...       10  \n",
       "12840  [e, r, r, o, r, .,  , p, a, g, e,  , c, a, n, ...       10  "
      ]
     },
     "execution_count": 50,
     "metadata": {},
     "output_type": "execute_result"
    }
   ],
   "source": [
    "generate_raw_content_cluster_df(10)"
   ]
  },
  {
   "cell_type": "code",
   "execution_count": 51,
   "metadata": {},
   "outputs": [],
   "source": [
    "avg_list = []\n",
    "variance_list = []\n",
    "\n",
    "for i in range(num_clusters):\n",
    "    avg, variance = intracluster_similarity(i)\n",
    "    avg_list.append(avg)\n",
    "    variance_list.append(variance)\n",
    "    #print()"
   ]
  },
  {
   "cell_type": "code",
   "execution_count": 52,
   "metadata": {},
   "outputs": [
    {
     "data": {
      "text/plain": [
       "([<matplotlib.axis.XTick at 0x175cdea20>,\n",
       "  <matplotlib.axis.XTick at 0x175cde358>,\n",
       "  <matplotlib.axis.XTick at 0x175c80198>,\n",
       "  <matplotlib.axis.XTick at 0x175ec0898>,\n",
       "  <matplotlib.axis.XTick at 0x175ec0e80>,\n",
       "  <matplotlib.axis.XTick at 0x175eca390>,\n",
       "  <matplotlib.axis.XTick at 0x175eca860>,\n",
       "  <matplotlib.axis.XTick at 0x175ecad68>,\n",
       "  <matplotlib.axis.XTick at 0x175ed22b0>,\n",
       "  <matplotlib.axis.XTick at 0x175ed27b8>,\n",
       "  <matplotlib.axis.XTick at 0x175ed2cc0>],\n",
       " <a list of 11 Text xticklabel objects>)"
      ]
     },
     "execution_count": 52,
     "metadata": {},
     "output_type": "execute_result"
    },
    {
     "data": {
      "image/png": "[encoded data removed]",
      "text/plain": [
       "<Figure size 432x288 with 1 Axes>"
      ]
     },
     "metadata": {
      "needs_background": "light"
     },
     "output_type": "display_data"
    }
   ],
   "source": [
    "# neighbors = 10\n",
    "bins= [0,0.1,0.2,0.3,0.4,0.5,0.6,0.7,0.8,0.9,1.0]\n",
    "plt.hist(avg_list, bins=bins, edgecolor=\"k\")\n",
    "plt.xticks(bins)"
   ]
  },
  {
   "cell_type": "markdown",
   "metadata": {},
   "source": [
    "## Intercluster Similarity"
   ]
  },
  {
   "cell_type": "code",
   "execution_count": 53,
   "metadata": {},
   "outputs": [],
   "source": [
    "def intercluster_dist():\n",
    "    indices = range(num_clusters)\n",
    "    centroid_centroid_distance = {}\n",
    "    values = []\n",
    "    for i in indices:\n",
    "        for j in indices:\n",
    "            if i < j:\n",
    "                key = str(i) + \"::\" + str(j)\n",
    "                cluster_centroid_i = np.average(bow_stemmed_matrix[[x[1] for x in cluster_list[i]]], axis=0)\n",
    "                cluster_centroid_j = np.average(bow_stemmed_matrix[[x[1] for x in cluster_list[j]]], axis=0)\n",
    "                distance = np.linalg.norm(cluster_centroid_i - cluster_centroid_j)\n",
    "                centroid_centroid_distance[key] = distance\n",
    "                values.append(distance)\n",
    "    return centroid_centroid_distance, values"
   ]
  },
  {
   "cell_type": "code",
   "execution_count": 54,
   "metadata": {},
   "outputs": [
    {
     "name": "stdout",
     "output_type": "stream",
     "text": [
      "average 141.61901121847353\n"
     ]
    }
   ],
   "source": [
    "intercluster_distances, values = intercluster_dist()\n",
    "#print('distances', values)\n",
    "print('average', np.average(values))"
   ]
  },
  {
   "cell_type": "code",
   "execution_count": null,
   "metadata": {},
   "outputs": [],
   "source": []
  },
  {
   "cell_type": "code",
   "execution_count": null,
   "metadata": {},
   "outputs": [],
   "source": []
  }
 ],
 "metadata": {
  "colab": {
   "collapsed_sections": [],
   "name": "MastersProject.ipynb",
   "provenance": []
  },
  "kernelspec": {
   "display_name": "Python 3",
   "language": "python",
   "name": "python3"
  },
  "language_info": {
   "codemirror_mode": {
    "name": "ipython",
    "version": 3
   },
   "file_extension": ".py",
   "mimetype": "text/x-python",
   "name": "python",
   "nbconvert_exporter": "python",
   "pygments_lexer": "ipython3",
   "version": "3.7.1"
  }
 },
 "nbformat": 4,
 "nbformat_minor": 1
}
