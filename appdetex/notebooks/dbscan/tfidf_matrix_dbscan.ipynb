{
 "cells": [
  {
   "cell_type": "code",
   "execution_count": 2,
   "metadata": {},
   "outputs": [
    {
     "data": {
      "text/html": [
       "<style>.container { width:95% !important; }</style>"
      ],
      "text/plain": [
       "<IPython.core.display.HTML object>"
      ]
     },
     "metadata": {},
     "output_type": "display_data"
    }
   ],
   "source": [
    "from IPython.core.display import display, HTML\n",
    "display(HTML(\"<style>.container { width:95% !important; }</style>\"))"
   ]
  },
  {
   "cell_type": "markdown",
   "metadata": {
    "id": "FYVUGSFLf_qE"
   },
   "source": [
    "## Libraries and Filesystem Setup"
   ]
  },
  {
   "cell_type": "code",
   "execution_count": 3,
   "metadata": {
    "colab": {
     "base_uri": "https://localhost:8080/"
    },
    "id": "uqRQxTVbf39P",
    "outputId": "aecc64fb-dc6f-4d45-f5a3-98ec0b70cbfe"
   },
   "outputs": [],
   "source": [
    "import pandas as pd\n",
    "import pickle\n",
    "import numpy as np\n",
    "import matplotlib.pyplot as plt\n",
    "import scipy.sparse\n",
    "import scipy"
   ]
  },
  {
   "cell_type": "markdown",
   "metadata": {},
   "source": [
    "### Import LDA document vectors"
   ]
  },
  {
   "cell_type": "code",
   "execution_count": 5,
   "metadata": {},
   "outputs": [],
   "source": [
    "tfidf_matrix = scipy.sparse.load_npz('../../processed_files/tfidf_matrix.npz')\n",
    "df_merged = pickle.load(open(\"../../processed_files/df_merged.pickle\", \"rb\"))"
   ]
  },
  {
   "cell_type": "code",
   "execution_count": 6,
   "metadata": {},
   "outputs": [
    {
     "data": {
      "text/plain": [
       "(12968, 272069)"
      ]
     },
     "execution_count": 6,
     "metadata": {},
     "output_type": "execute_result"
    }
   ],
   "source": [
    "tfidf_matrix.shape"
   ]
  },
  {
   "cell_type": "code",
   "execution_count": 7,
   "metadata": {},
   "outputs": [
    {
     "data": {
      "text/html": [
       "<div>\n",
       "<style scoped>\n",
       "    .dataframe tbody tr th:only-of-type {\n",
       "        vertical-align: middle;\n",
       "    }\n",
       "\n",
       "    .dataframe tbody tr th {\n",
       "        vertical-align: top;\n",
       "    }\n",
       "\n",
       "    .dataframe thead th {\n",
       "        text-align: right;\n",
       "    }\n",
       "</style>\n",
       "<table border=\"1\" class=\"dataframe\">\n",
       "  <thead>\n",
       "    <tr style=\"text-align: right;\">\n",
       "      <th></th>\n",
       "      <th>DOMAIN</th>\n",
       "      <th>RAW_CONTENT</th>\n",
       "      <th>RAW_CONTENT_PROCESSED</th>\n",
       "      <th>RAW_CONTENT_PROCESSED_STEMMED</th>\n",
       "    </tr>\n",
       "  </thead>\n",
       "  <tbody>\n",
       "    <tr>\n",
       "      <th>0</th>\n",
       "      <td>0-my.com</td>\n",
       "      <td>0-my.com related searches: related searches:</td>\n",
       "      <td>[mycom, related, searches, related, searches]</td>\n",
       "      <td>[0, -, m, y, ., c, o, m,  , r, e, l, a, t, e, ...</td>\n",
       "    </tr>\n",
       "    <tr>\n",
       "      <th>1</th>\n",
       "      <td>00bitz.com</td>\n",
       "      <td>error. page cannot be displayed. please contac...</td>\n",
       "      <td>[error, page, cannot, displayed, please, conta...</td>\n",
       "      <td>[e, r, r, o, r, .,  , p, a, g, e,  , c, a, n, ...</td>\n",
       "    </tr>\n",
       "    <tr>\n",
       "      <th>2</th>\n",
       "      <td>01187.com</td>\n",
       "      <td>01187.com is available for purchase! - wwwv1.c...</td>\n",
       "      <td>[com, vailable, purchase, wwwvcom, welcome, uu...</td>\n",
       "      <td>[0, 1, 1, 8, 7, ., c, o, m,  , i, s,  , a, v, ...</td>\n",
       "    </tr>\n",
       "    <tr>\n",
       "      <th>3</th>\n",
       "      <td>027.ir</td>\n",
       "      <td>027.ir - dns4.ir 027.ir hits: 7,267 under cons...</td>\n",
       "      <td>[ir, dnsir, ir, hits, construction, coming, so...</td>\n",
       "      <td>[0, 2, 7, ., i, r,  , -,  , d, n, s, 4, ., i, ...</td>\n",
       "    </tr>\n",
       "    <tr>\n",
       "      <th>4</th>\n",
       "      <td>03h.org</td>\n",
       "      <td>february | 2014 | online marketing review sear...</td>\n",
       "      <td>[february, online, marketing, review, search, ...</td>\n",
       "      <td>[f, e, b, r, u, a, r, y,  , |,  , 2, 0, 1, 4, ...</td>\n",
       "    </tr>\n",
       "  </tbody>\n",
       "</table>\n",
       "</div>"
      ],
      "text/plain": [
       "       DOMAIN                                        RAW_CONTENT  \\\n",
       "0    0-my.com       0-my.com related searches: related searches:   \n",
       "1  00bitz.com  error. page cannot be displayed. please contac...   \n",
       "2   01187.com  01187.com is available for purchase! - wwwv1.c...   \n",
       "3      027.ir  027.ir - dns4.ir 027.ir hits: 7,267 under cons...   \n",
       "4     03h.org  february | 2014 | online marketing review sear...   \n",
       "\n",
       "                               RAW_CONTENT_PROCESSED  \\\n",
       "0      [mycom, related, searches, related, searches]   \n",
       "1  [error, page, cannot, displayed, please, conta...   \n",
       "2  [com, vailable, purchase, wwwvcom, welcome, uu...   \n",
       "3  [ir, dnsir, ir, hits, construction, coming, so...   \n",
       "4  [february, online, marketing, review, search, ...   \n",
       "\n",
       "                       RAW_CONTENT_PROCESSED_STEMMED  \n",
       "0  [0, -, m, y, ., c, o, m,  , r, e, l, a, t, e, ...  \n",
       "1  [e, r, r, o, r, .,  , p, a, g, e,  , c, a, n, ...  \n",
       "2  [0, 1, 1, 8, 7, ., c, o, m,  , i, s,  , a, v, ...  \n",
       "3  [0, 2, 7, ., i, r,  , -,  , d, n, s, 4, ., i, ...  \n",
       "4  [f, e, b, r, u, a, r, y,  , |,  , 2, 0, 1, 4, ...  "
      ]
     },
     "execution_count": 7,
     "metadata": {},
     "output_type": "execute_result"
    }
   ],
   "source": [
    "df_merged.head()"
   ]
  },
  {
   "cell_type": "code",
   "execution_count": 8,
   "metadata": {},
   "outputs": [
    {
     "data": {
      "text/plain": [
       "(12975, 4)"
      ]
     },
     "execution_count": 8,
     "metadata": {},
     "output_type": "execute_result"
    }
   ],
   "source": [
    "df_merged.shape"
   ]
  },
  {
   "cell_type": "code",
   "execution_count": 9,
   "metadata": {},
   "outputs": [
    {
     "data": {
      "text/plain": [
       "scipy.sparse.csr.csr_matrix"
      ]
     },
     "execution_count": 9,
     "metadata": {},
     "output_type": "execute_result"
    }
   ],
   "source": [
    "type(tfidf_matrix[0])"
   ]
  },
  {
   "cell_type": "code",
   "execution_count": 10,
   "metadata": {},
   "outputs": [
    {
     "data": {
      "text/plain": [
       "matrix([[0., 0., 0., ..., 0., 0., 0.]])"
      ]
     },
     "execution_count": 10,
     "metadata": {},
     "output_type": "execute_result"
    }
   ],
   "source": [
    "np.average(tfidf_matrix[[0, 1, 2]].todense(), axis=0)"
   ]
  },
  {
   "cell_type": "markdown",
   "metadata": {},
   "source": [
    "## DB Scan"
   ]
  },
  {
   "cell_type": "code",
   "execution_count": 11,
   "metadata": {},
   "outputs": [],
   "source": [
    "from sklearn.cluster import DBSCAN"
   ]
  },
  {
   "cell_type": "code",
   "execution_count": 12,
   "metadata": {},
   "outputs": [],
   "source": [
    "# eps (default 0.5): the maximum distance between two samples for one to be considered as in the neighborhood of the other\n",
    "# min_samples (default 5): number of samples (or total weight) in a neighborhood for a point to be considered as a core point. This includes the point itself\n",
    "# algorithm (default 'auto'): ‘auto’, ‘ball_tree’, ‘kd_tree’, ‘brute’\n",
    "dbscan = DBSCAN(eps = 0.1, min_samples = 5).fit(tfidf_matrix)"
   ]
  },
  {
   "cell_type": "code",
   "execution_count": 13,
   "metadata": {},
   "outputs": [
    {
     "data": {
      "text/plain": [
       "array([-1,  0, -1, ..., -1, -1, -1])"
      ]
     },
     "execution_count": 13,
     "metadata": {},
     "output_type": "execute_result"
    }
   ],
   "source": [
    "dbscan.labels_"
   ]
  },
  {
   "cell_type": "code",
   "execution_count": 14,
   "metadata": {},
   "outputs": [
    {
     "data": {
      "text/plain": [
       "30"
      ]
     },
     "execution_count": 14,
     "metadata": {},
     "output_type": "execute_result"
    }
   ],
   "source": [
    "num_clusters = max(dbscan.labels_)\n",
    "num_clusters"
   ]
  },
  {
   "cell_type": "code",
   "execution_count": 15,
   "metadata": {},
   "outputs": [
    {
     "data": {
      "text/plain": [
       "DBSCAN(eps=0.1)"
      ]
     },
     "execution_count": 15,
     "metadata": {},
     "output_type": "execute_result"
    }
   ],
   "source": [
    "dbscan"
   ]
  },
  {
   "cell_type": "code",
   "execution_count": 16,
   "metadata": {},
   "outputs": [
    {
     "data": {
      "text/plain": [
       "-1"
      ]
     },
     "execution_count": 16,
     "metadata": {},
     "output_type": "execute_result"
    }
   ],
   "source": [
    "index_cluster = zip(range(len(dbscan.labels_)), dbscan.labels_)\n",
    "index_cluster_dict = dict(index_cluster)\n",
    "index_cluster_dict[456]"
   ]
  },
  {
   "cell_type": "code",
   "execution_count": 17,
   "metadata": {},
   "outputs": [],
   "source": [
    "cluster_index = list(zip(dbscan.labels_, range(len(dbscan.labels_))))"
   ]
  },
  {
   "cell_type": "code",
   "execution_count": 18,
   "metadata": {},
   "outputs": [],
   "source": [
    "cluster_list = dict()\n",
    "for i in range(num_clusters):\n",
    "    cluster_list[i] = list(filter(lambda row: row[0] == i, cluster_index))"
   ]
  },
  {
   "cell_type": "code",
   "execution_count": 19,
   "metadata": {},
   "outputs": [
    {
     "name": "stdout",
     "output_type": "stream",
     "text": [
      "cluster:  0 size:  295\n",
      "cluster:  1 size:  11\n",
      "cluster:  2 size:  9\n",
      "cluster:  3 size:  22\n",
      "cluster:  4 size:  67\n",
      "cluster:  5 size:  5\n",
      "cluster:  6 size:  20\n",
      "cluster:  7 size:  16\n",
      "cluster:  8 size:  20\n",
      "cluster:  9 size:  103\n",
      "cluster:  10 size:  35\n",
      "cluster:  11 size:  12\n",
      "cluster:  12 size:  30\n",
      "cluster:  13 size:  9\n",
      "cluster:  14 size:  5\n",
      "cluster:  15 size:  21\n",
      "cluster:  16 size:  13\n",
      "cluster:  17 size:  7\n",
      "cluster:  18 size:  14\n",
      "cluster:  19 size:  8\n",
      "cluster:  20 size:  5\n",
      "cluster:  21 size:  5\n",
      "cluster:  22 size:  5\n",
      "cluster:  23 size:  13\n",
      "cluster:  24 size:  5\n",
      "cluster:  25 size:  8\n",
      "cluster:  26 size:  6\n",
      "cluster:  27 size:  8\n",
      "cluster:  28 size:  6\n",
      "cluster:  29 size:  5\n"
     ]
    }
   ],
   "source": [
    "for i in range(num_clusters):\n",
    "    print('cluster: ', i, 'size: ', len(cluster_list[i]))"
   ]
  },
  {
   "cell_type": "code",
   "execution_count": 20,
   "metadata": {},
   "outputs": [
    {
     "data": {
      "text/plain": [
       "295"
      ]
     },
     "execution_count": 20,
     "metadata": {},
     "output_type": "execute_result"
    }
   ],
   "source": [
    "len(cluster_list[0])"
   ]
  },
  {
   "cell_type": "code",
   "execution_count": 21,
   "metadata": {},
   "outputs": [
    {
     "data": {
      "text/plain": [
       "11"
      ]
     },
     "execution_count": 21,
     "metadata": {},
     "output_type": "execute_result"
    }
   ],
   "source": [
    "len(cluster_list[1])"
   ]
  },
  {
   "cell_type": "code",
   "execution_count": 22,
   "metadata": {},
   "outputs": [
    {
     "data": {
      "text/plain": [
       "9"
      ]
     },
     "execution_count": 22,
     "metadata": {},
     "output_type": "execute_result"
    }
   ],
   "source": [
    "len(cluster_list[2])"
   ]
  },
  {
   "cell_type": "code",
   "execution_count": 23,
   "metadata": {},
   "outputs": [
    {
     "data": {
      "text/plain": [
       "5"
      ]
     },
     "execution_count": 23,
     "metadata": {},
     "output_type": "execute_result"
    }
   ],
   "source": [
    "len(cluster_list[num_clusters-1])"
   ]
  },
  {
   "cell_type": "code",
   "execution_count": 24,
   "metadata": {},
   "outputs": [
    {
     "data": {
      "text/plain": [
       "[(1, 5),\n",
       " (1, 13),\n",
       " (1, 17),\n",
       " (1, 77),\n",
       " (1, 86),\n",
       " (1, 99),\n",
       " (1, 104),\n",
       " (1, 136),\n",
       " (1, 151),\n",
       " (1, 156),\n",
       " (1, 162)]"
      ]
     },
     "execution_count": 24,
     "metadata": {},
     "output_type": "execute_result"
    }
   ],
   "source": [
    "cluster_list[1]"
   ]
  },
  {
   "cell_type": "code",
   "execution_count": 26,
   "metadata": {},
   "outputs": [
    {
     "data": {
      "text/plain": [
       "[1,\n",
       " 25,\n",
       " 27,\n",
       " 121,\n",
       " 138,\n",
       " 141,\n",
       " 179,\n",
       " 365,\n",
       " 373,\n",
       " 594,\n",
       " 628,\n",
       " 631,\n",
       " 670,\n",
       " 697,\n",
       " 723,\n",
       " 729,\n",
       " 748,\n",
       " 752,\n",
       " 763,\n",
       " 770,\n",
       " 782,\n",
       " 789,\n",
       " 822,\n",
       " 943,\n",
       " 951,\n",
       " 1040,\n",
       " 1120,\n",
       " 1427,\n",
       " 1436,\n",
       " 1783,\n",
       " 1834,\n",
       " 1850,\n",
       " 1981,\n",
       " 1990,\n",
       " 2002,\n",
       " 2006,\n",
       " 2056,\n",
       " 2059,\n",
       " 2137,\n",
       " 2184,\n",
       " 2188,\n",
       " 2194,\n",
       " 2202,\n",
       " 2337,\n",
       " 2435,\n",
       " 2438,\n",
       " 2481,\n",
       " 2502,\n",
       " 2521,\n",
       " 2524,\n",
       " 2572,\n",
       " 2573,\n",
       " 2574,\n",
       " 2577,\n",
       " 2579,\n",
       " 2585,\n",
       " 2602,\n",
       " 2644,\n",
       " 2673,\n",
       " 2767,\n",
       " 2780,\n",
       " 2795,\n",
       " 2821,\n",
       " 2822,\n",
       " 2824,\n",
       " 2883,\n",
       " 2939,\n",
       " 3024,\n",
       " 3060,\n",
       " 3140,\n",
       " 3158,\n",
       " 3222,\n",
       " 3231,\n",
       " 3313,\n",
       " 3386,\n",
       " 3425,\n",
       " 3494,\n",
       " 3499,\n",
       " 3552,\n",
       " 3590,\n",
       " 3707,\n",
       " 3712,\n",
       " 3770,\n",
       " 3893,\n",
       " 3910,\n",
       " 3912,\n",
       " 3933,\n",
       " 3935,\n",
       " 3952,\n",
       " 3953,\n",
       " 3954,\n",
       " 3956,\n",
       " 3960,\n",
       " 3962,\n",
       " 3971,\n",
       " 3972,\n",
       " 3974,\n",
       " 4000,\n",
       " 4008,\n",
       " 4080,\n",
       " 4195,\n",
       " 4216,\n",
       " 4264,\n",
       " 4299,\n",
       " 4300,\n",
       " 4419,\n",
       " 4433,\n",
       " 4515,\n",
       " 4521,\n",
       " 4562,\n",
       " 4604,\n",
       " 4623,\n",
       " 4664,\n",
       " 4891,\n",
       " 4898,\n",
       " 4943,\n",
       " 4946,\n",
       " 5050,\n",
       " 5278,\n",
       " 5360,\n",
       " 5403,\n",
       " 5483,\n",
       " 5505,\n",
       " 5536,\n",
       " 5540,\n",
       " 5578,\n",
       " 5643,\n",
       " 5655,\n",
       " 5686,\n",
       " 5713,\n",
       " 5725,\n",
       " 5743,\n",
       " 5751,\n",
       " 5754,\n",
       " 5766,\n",
       " 5787,\n",
       " 6257,\n",
       " 6274,\n",
       " 6309,\n",
       " 6423,\n",
       " 6467,\n",
       " 6479,\n",
       " 6503,\n",
       " 6573,\n",
       " 6582,\n",
       " 6594,\n",
       " 6725,\n",
       " 6788,\n",
       " 6795,\n",
       " 6841,\n",
       " 6982,\n",
       " 7009,\n",
       " 7104,\n",
       " 7105,\n",
       " 7119,\n",
       " 7142,\n",
       " 7229,\n",
       " 7243,\n",
       " 7293,\n",
       " 7338,\n",
       " 7365,\n",
       " 7367,\n",
       " 7406,\n",
       " 7560,\n",
       " 7569,\n",
       " 7580,\n",
       " 7609,\n",
       " 7610,\n",
       " 7633,\n",
       " 7640,\n",
       " 7713,\n",
       " 7791,\n",
       " 7970,\n",
       " 7974,\n",
       " 7981,\n",
       " 8041,\n",
       " 8054,\n",
       " 8077,\n",
       " 8095,\n",
       " 8098,\n",
       " 8116,\n",
       " 8139,\n",
       " 8167,\n",
       " 8250,\n",
       " 8285,\n",
       " 8289,\n",
       " 8337,\n",
       " 8356,\n",
       " 8402,\n",
       " 8422,\n",
       " 8456,\n",
       " 8475,\n",
       " 8518,\n",
       " 8697,\n",
       " 8776,\n",
       " 8866,\n",
       " 8970,\n",
       " 8982,\n",
       " 9049,\n",
       " 9093,\n",
       " 9114,\n",
       " 9124,\n",
       " 9128,\n",
       " 9208,\n",
       " 9210,\n",
       " 9247,\n",
       " 9424,\n",
       " 9433,\n",
       " 9494,\n",
       " 9511,\n",
       " 9519,\n",
       " 9534,\n",
       " 9544,\n",
       " 9744,\n",
       " 9847,\n",
       " 9863,\n",
       " 9886,\n",
       " 9919,\n",
       " 9962,\n",
       " 9963,\n",
       " 10006,\n",
       " 10119,\n",
       " 10121,\n",
       " 10152,\n",
       " 10235,\n",
       " 10238,\n",
       " 10279,\n",
       " 10319,\n",
       " 10320,\n",
       " 10323,\n",
       " 10367,\n",
       " 10385,\n",
       " 10430,\n",
       " 10439,\n",
       " 10456,\n",
       " 10464,\n",
       " 10491,\n",
       " 10519,\n",
       " 10520,\n",
       " 10525,\n",
       " 10532,\n",
       " 10594,\n",
       " 10606,\n",
       " 10721,\n",
       " 10738,\n",
       " 10780,\n",
       " 10784,\n",
       " 10803,\n",
       " 10815,\n",
       " 10817,\n",
       " 10820,\n",
       " 10824,\n",
       " 10891,\n",
       " 10899,\n",
       " 10911,\n",
       " 10963,\n",
       " 11123,\n",
       " 11151,\n",
       " 11409,\n",
       " 11423,\n",
       " 11450,\n",
       " 11498,\n",
       " 11529,\n",
       " 11535,\n",
       " 11661,\n",
       " 11668,\n",
       " 11718,\n",
       " 11762,\n",
       " 11809,\n",
       " 11810,\n",
       " 11893,\n",
       " 11906,\n",
       " 11952,\n",
       " 12019,\n",
       " 12041,\n",
       " 12205,\n",
       " 12247,\n",
       " 12263,\n",
       " 12283,\n",
       " 12293,\n",
       " 12392,\n",
       " 12393,\n",
       " 12460,\n",
       " 12491,\n",
       " 12612,\n",
       " 12619,\n",
       " 12652,\n",
       " 12690,\n",
       " 12702,\n",
       " 12730,\n",
       " 12742,\n",
       " 12807,\n",
       " 12832,\n",
       " 12874,\n",
       " 12941]"
      ]
     },
     "execution_count": 26,
     "metadata": {},
     "output_type": "execute_result"
    }
   ],
   "source": [
    "[i[1] for i in cluster_list[0]]"
   ]
  },
  {
   "cell_type": "code",
   "execution_count": 27,
   "metadata": {},
   "outputs": [],
   "source": [
    "import statistics\n",
    "\n",
    "# index is cluster index\n",
    "def intracluster_similarity(index):\n",
    "    cluster_centroid = np.average(tfidf_matrix[[i[1] for i in cluster_list[index]]].todense(), axis=0)\n",
    "    dist_list = []\n",
    "    cluster = cluster_list[index]\n",
    "    for i in cluster:\n",
    "        distance = np.linalg.norm(cluster_centroid-tfidf_matrix[i[1]])\n",
    "        dist_list.append(distance)\n",
    "        \n",
    "    #avg = sum_dist/(len(indices[index])-1)\n",
    "    avg = np.average(dist_list)\n",
    "\n",
    "    #variance = statistics.variance(dist_list)\n",
    "    variance = np.var(dist_list)\n",
    "    \n",
    "    return avg, variance"
   ]
  },
  {
   "cell_type": "code",
   "execution_count": 28,
   "metadata": {},
   "outputs": [
    {
     "data": {
      "text/plain": [
       "(3.9653785308229665e-15, 5.229396938021599e-35)"
      ]
     },
     "execution_count": 28,
     "metadata": {},
     "output_type": "execute_result"
    }
   ],
   "source": [
    "intracluster_similarity(0)"
   ]
  },
  {
   "cell_type": "code",
   "execution_count": 29,
   "metadata": {},
   "outputs": [
    {
     "data": {
      "text/plain": [
       "(1.65081521416176e-16, 6.077163357286271e-64)"
      ]
     },
     "execution_count": 29,
     "metadata": {},
     "output_type": "execute_result"
    }
   ],
   "source": [
    "intracluster_similarity(1)"
   ]
  },
  {
   "cell_type": "code",
   "execution_count": 30,
   "metadata": {},
   "outputs": [],
   "source": [
    "# index is cluster / cluster id\n",
    "def generate_raw_content_cluster_df(index):\n",
    "    index_list = cluster_list[index]\n",
    "    index_list = [x[1] for x in index_list]\n",
    "    cluster_seed = df_merged.loc[index].to_frame().T\n",
    "    #cluster_df = df_merged.loc[index_list[1:]]\n",
    "    cluster_df = df_merged.loc[index_list[1:]]\n",
    "    combined = pd.concat([cluster_seed, cluster_df])\n",
    "    combined['cluster'] = index\n",
    "    return combined"
   ]
  },
  {
   "cell_type": "code",
   "execution_count": 32,
   "metadata": {
    "scrolled": true
   },
   "outputs": [
    {
     "data": {
      "text/html": [
       "<div>\n",
       "<style scoped>\n",
       "    .dataframe tbody tr th:only-of-type {\n",
       "        vertical-align: middle;\n",
       "    }\n",
       "\n",
       "    .dataframe tbody tr th {\n",
       "        vertical-align: top;\n",
       "    }\n",
       "\n",
       "    .dataframe thead th {\n",
       "        text-align: right;\n",
       "    }\n",
       "</style>\n",
       "<table border=\"1\" class=\"dataframe\">\n",
       "  <thead>\n",
       "    <tr style=\"text-align: right;\">\n",
       "      <th></th>\n",
       "      <th>DOMAIN</th>\n",
       "      <th>RAW_CONTENT</th>\n",
       "      <th>RAW_CONTENT_PROCESSED</th>\n",
       "      <th>RAW_CONTENT_PROCESSED_STEMMED</th>\n",
       "      <th>cluster</th>\n",
       "    </tr>\n",
       "  </thead>\n",
       "  <tbody>\n",
       "    <tr>\n",
       "      <th>10</th>\n",
       "      <td>100coin.com</td>\n",
       "      <td>100coin.com 您正在访问的域名 (100coin.com) 可以合作或转让! th...</td>\n",
       "      <td>[coincom, 您正在访问的域名, coincom, 可以合作或转让, domain, ...</td>\n",
       "      <td>[1, 0, 0, c, o, i, n, ., c, o, m,  , 您, 正, 在, ...</td>\n",
       "      <td>10</td>\n",
       "    </tr>\n",
       "    <tr>\n",
       "      <th>255</th>\n",
       "      <td>achronicleofaddiction.com</td>\n",
       "      <td>things i think about while lying in bed – a ch...</td>\n",
       "      <td>[things, think, lying, bed, –, chronicle, life...</td>\n",
       "      <td>[t, h, i, n, g, s,  , i,  , t, h, i, n, k,  , ...</td>\n",
       "      <td>10</td>\n",
       "    </tr>\n",
       "    <tr>\n",
       "      <th>589</th>\n",
       "      <td>alvarengadentalcare.com</td>\n",
       "      <td>costa rica dental services – costa rica dental...</td>\n",
       "      <td>[costa, rica, dental, services, –, costa, rica...</td>\n",
       "      <td>[c, o, s, t, a,  , r, i, c, a,  , d, e, n, t, ...</td>\n",
       "      <td>10</td>\n",
       "    </tr>\n",
       "    <tr>\n",
       "      <th>683</th>\n",
       "      <td>anastyles.com</td>\n",
       "      <td>met gala 2014 | vogue and mimosas met gala 201...</td>\n",
       "      <td>[met, gala, vogue, mimosas, met, gala, weren’t...</td>\n",
       "      <td>[m, e, t,  , g, a, l, a,  , 2, 0, 1, 4,  , |, ...</td>\n",
       "      <td>10</td>\n",
       "    </tr>\n",
       "    <tr>\n",
       "      <th>891</th>\n",
       "      <td>artistprint.de</td>\n",
       "      <td>contact - contact: search: » categoriescontact...</td>\n",
       "      <td>[contact, contact, search, », categoriescontac...</td>\n",
       "      <td>[c, o, n, t, a, c, t,  , -,  , c, o, n, t, a, ...</td>\n",
       "      <td>10</td>\n",
       "    </tr>\n",
       "    <tr>\n",
       "      <th>1342</th>\n",
       "      <td>berqrng.com</td>\n",
       "      <td>berq rng berq rng scroll down berq rng we deve...</td>\n",
       "      <td>[berq, rng, berq, rng, scroll, berq, rng, deve...</td>\n",
       "      <td>[b, e, r, q,  , r, n, g,  , b, e, r, q,  , r, ...</td>\n",
       "      <td>10</td>\n",
       "    </tr>\n",
       "    <tr>\n",
       "      <th>1499</th>\n",
       "      <td>blackminds.tk</td>\n",
       "      <td>welcome to blackminds.tk! welcome to blackmind...</td>\n",
       "      <td>[welcome, blackmindstk, welcome, blackmindstk,...</td>\n",
       "      <td>[w, e, l, c, o, m, e,  , t, o,  , b, l, a, c, ...</td>\n",
       "      <td>10</td>\n",
       "    </tr>\n",
       "    <tr>\n",
       "      <th>2516</th>\n",
       "      <td>commerciallore.com</td>\n",
       "      <td>south australia | commercial lore making a com...</td>\n",
       "      <td>[south, australia, commercial, lore, making, c...</td>\n",
       "      <td>[s, o, u, t, h,  , a, u, s, t, r, a, l, i, a, ...</td>\n",
       "      <td>10</td>\n",
       "    </tr>\n",
       "    <tr>\n",
       "      <th>2823</th>\n",
       "      <td>curvyroads.info</td>\n",
       "      <td>20150720_113350 – curvyroads #everydayadventur...</td>\n",
       "      <td>[–, curvyroads, everydayadventures, traveling,...</td>\n",
       "      <td>[2, 0, 1, 5, 0, 7, 2, 0, _, 1, 1, 3, 3, 5, 0, ...</td>\n",
       "      <td>10</td>\n",
       "    </tr>\n",
       "    <tr>\n",
       "      <th>3890</th>\n",
       "      <td>eximindiacorqoration.com</td>\n",
       "      <td>captcha powered by imunify360 english eximindi...</td>\n",
       "      <td>[captcha, powered, imunify, english, eximindia...</td>\n",
       "      <td>[c, a, p, t, c, h, a,  , p, o, w, e, r, e, d, ...</td>\n",
       "      <td>10</td>\n",
       "    </tr>\n",
       "    <tr>\n",
       "      <th>3949</th>\n",
       "      <td>faceandbodyalive.com</td>\n",
       "      <td>face and body alive - facial cupping, natural ...</td>\n",
       "      <td>[face, body, alive, facial, cupping, natural, ...</td>\n",
       "      <td>[f, a, c, e,  , a, n, d,  , b, o, d, y,  , a, ...</td>\n",
       "      <td>10</td>\n",
       "    </tr>\n",
       "    <tr>\n",
       "      <th>4502</th>\n",
       "      <td>funnytube.in</td>\n",
       "      <td>whatsapp video - happy holi wish whatsapp stat...</td>\n",
       "      <td>[whatsapp, video, happy, holi, wish, whatsapp,...</td>\n",
       "      <td>[w, h, a, t, s, a, p, p,  , v, i, d, e, o,  , ...</td>\n",
       "      <td>10</td>\n",
       "    </tr>\n",
       "    <tr>\n",
       "      <th>4601</th>\n",
       "      <td>gdhair.co.uk</td>\n",
       "      <td>gdhair salon © 2015 gd hair, birkenhead. a col...</td>\n",
       "      <td>[gdhair, salon, ©, gd, hair, birkenhead, colle...</td>\n",
       "      <td>[g, d, h, a, i, r,  , s, a, l, o, n,  , ©,  , ...</td>\n",
       "      <td>10</td>\n",
       "    </tr>\n",
       "    <tr>\n",
       "      <th>4904</th>\n",
       "      <td>gregaudino.com</td>\n",
       "      <td>videos honest content for an honest life main ...</td>\n",
       "      <td>[videos, honest, content, n, honest, life, mai...</td>\n",
       "      <td>[v, i, d, e, o, s,  , h, o, n, e, s, t,  , c, ...</td>\n",
       "      <td>10</td>\n",
       "    </tr>\n",
       "    <tr>\n",
       "      <th>5127</th>\n",
       "      <td>healthoptimizationpractitioner.org</td>\n",
       "      <td>healthoptimizationpractitioner.org -&amp;nbsphealt...</td>\n",
       "      <td>[healthoptimizationpractitionerorg, nbsphealth...</td>\n",
       "      <td>[h, e, a, l, t, h, o, p, t, i, m, i, z, a, t, ...</td>\n",
       "      <td>10</td>\n",
       "    </tr>\n",
       "    <tr>\n",
       "      <th>5338</th>\n",
       "      <td>honestaffordableplumbing.com</td>\n",
       "      <td>honest and affordable plumbing and remodeling ...</td>\n",
       "      <td>[honest, affordable, plumbing, remodeling, men...</td>\n",
       "      <td>[h, o, n, e, s, t,  , a, n, d,  , a, f, f, o, ...</td>\n",
       "      <td>10</td>\n",
       "    </tr>\n",
       "    <tr>\n",
       "      <th>5413</th>\n",
       "      <td>hrconstructora.com</td>\n",
       "      <td>error. page cannot be displayed. please contac...</td>\n",
       "      <td>[error, page, cannot, displayed, please, conta...</td>\n",
       "      <td>[e, r, r, o, r, .,  , p, a, g, e,  , c, a, n, ...</td>\n",
       "      <td>10</td>\n",
       "    </tr>\n",
       "    <tr>\n",
       "      <th>5747</th>\n",
       "      <td>insta-sale.com</td>\n",
       "      <td>humor &amp; memes instagram account for sale | 998...</td>\n",
       "      <td>[humor, memes, instagram, account, sale, follo...</td>\n",
       "      <td>[h, u, m, o, r,  , &amp;,  , m, e, m, e, s,  , i, ...</td>\n",
       "      <td>10</td>\n",
       "    </tr>\n",
       "    <tr>\n",
       "      <th>5828</th>\n",
       "      <td>inwestdesign.com</td>\n",
       "      <td>contact - inwestdesign website design and mark...</td>\n",
       "      <td>[contact, inwestdesign, website, design, marke...</td>\n",
       "      <td>[c, o, n, t, a, c, t,  , -,  , i, n, w, e, s, ...</td>\n",
       "      <td>10</td>\n",
       "    </tr>\n",
       "    <tr>\n",
       "      <th>5987</th>\n",
       "      <td>jaredsalwaysontheball.com</td>\n",
       "      <td>video about me – jared’s world about wordpress...</td>\n",
       "      <td>[video, –, jared’s, world, wordpresssearch, al...</td>\n",
       "      <td>[v, i, d, e, o,  , a, b, o, u, t,  , m, e,  , ...</td>\n",
       "      <td>10</td>\n",
       "    </tr>\n",
       "    <tr>\n",
       "      <th>6509</th>\n",
       "      <td>krakrabbit.org</td>\n",
       "      <td>krakrabbit.com about us! krakrabbit.com is the...</td>\n",
       "      <td>[krakrabbitcom, us, krakrabbitcom, original, i...</td>\n",
       "      <td>[k, r, a, k, r, a, b, b, i, t, ., c, o, m,  , ...</td>\n",
       "      <td>10</td>\n",
       "    </tr>\n",
       "    <tr>\n",
       "      <th>6830</th>\n",
       "      <td>lighthousedevotions.blog</td>\n",
       "      <td>about – lighthouse devotions by jr inspired by...</td>\n",
       "      <td>[–, lighthouse, devotions, jr, inspired, love,...</td>\n",
       "      <td>[a, b, o, u, t,  , –,  , l, i, g, h, t, h, o, ...</td>\n",
       "      <td>10</td>\n",
       "    </tr>\n",
       "    <tr>\n",
       "      <th>7216</th>\n",
       "      <td>manifestinjustice.us</td>\n",
       "      <td>dying starfish | manifest injustice corruption...</td>\n",
       "      <td>[dying, starfish, manifest, injustice, corrupt...</td>\n",
       "      <td>[d, y, i, n, g,  , s, t, a, r, f, i, s, h,  , ...</td>\n",
       "      <td>10</td>\n",
       "    </tr>\n",
       "    <tr>\n",
       "      <th>7762</th>\n",
       "      <td>momoirist.com</td>\n",
       "      <td>i’m in love with instagram – momoirist primary...</td>\n",
       "      <td>[i’m, love, instagram, –, momoirist, primary, ...</td>\n",
       "      <td>[i, ’, m,  , i, n,  , l, o, v, e,  , w, i, t, ...</td>\n",
       "      <td>10</td>\n",
       "    </tr>\n",
       "    <tr>\n",
       "      <th>9697</th>\n",
       "      <td>royalexaminer.com</td>\n",
       "      <td>botanicals in watercolor i – royal examiner co...</td>\n",
       "      <td>[botanicals, watercolor, –, royal, examiner, c...</td>\n",
       "      <td>[b, o, t, a, n, i, c, a, l, s,  , i, n,  , w, ...</td>\n",
       "      <td>10</td>\n",
       "    </tr>\n",
       "    <tr>\n",
       "      <th>10347</th>\n",
       "      <td>smalltownnoir.com</td>\n",
       "      <td>may 2011 – small town noir small-time true cri...</td>\n",
       "      <td>[may, –, small, town, noir, smalltime, true, c...</td>\n",
       "      <td>[m, a, y,  , 2, 0, 1, 1,  , –,  , s, m, a, l, ...</td>\n",
       "      <td>10</td>\n",
       "    </tr>\n",
       "    <tr>\n",
       "      <th>10420</th>\n",
       "      <td>socialpanic.org</td>\n",
       "      <td>#facebook to exclude north american users from...</td>\n",
       "      <td>[facebook, exclude, north, american, users, eu...</td>\n",
       "      <td>[#, f, a, c, e, b, o, o, k,  , t, o,  , e, x, ...</td>\n",
       "      <td>10</td>\n",
       "    </tr>\n",
       "    <tr>\n",
       "      <th>10650</th>\n",
       "      <td>stbl.ru</td>\n",
       "      <td>about us – stabline mo-fr from 9:00 to 18:00 р...</td>\n",
       "      <td>[us, –, stabline, mofr, русский, english, mofr...</td>\n",
       "      <td>[a, b, o, u, t,  , u, s,  , –,  , s, t, a, b, ...</td>\n",
       "      <td>10</td>\n",
       "    </tr>\n",
       "    <tr>\n",
       "      <th>10875</th>\n",
       "      <td>sweatorbleed.com</td>\n",
       "      <td>sweatorbleed.com is coming soon sweatorbleed.c...</td>\n",
       "      <td>[sweatorbleedcom, coming, soon, sweatorbleedco...</td>\n",
       "      <td>[s, w, e, a, t, o, r, b, l, e, e, d, ., c, o, ...</td>\n",
       "      <td>10</td>\n",
       "    </tr>\n",
       "    <tr>\n",
       "      <th>11272</th>\n",
       "      <td>thegaragista.com</td>\n",
       "      <td>clothing | tag archives: clothing posted on by...</td>\n",
       "      <td>[clothing, tag, archives, clothing, posted, ga...</td>\n",
       "      <td>[c, l, o, t, h, i, n, g,  , |,  , t, a, g,  , ...</td>\n",
       "      <td>10</td>\n",
       "    </tr>\n",
       "    <tr>\n",
       "      <th>11415</th>\n",
       "      <td>theplanetd.com</td>\n",
       "      <td>five unique vienna attractions you didn't know...</td>\n",
       "      <td>[five, unique, vienna, attractions, didnt, kno...</td>\n",
       "      <td>[f, i, v, e,  , u, n, i, q, u, e,  , v, i, e, ...</td>\n",
       "      <td>10</td>\n",
       "    </tr>\n",
       "    <tr>\n",
       "      <th>11749</th>\n",
       "      <td>torontomenu.ca</td>\n",
       "      <td>welcome mark to toronto menu - free takeout me...</td>\n",
       "      <td>[welcome, mark, toronto, menu, free, takeout, ...</td>\n",
       "      <td>[w, e, l, c, o, m, e,  , m, a, r, k,  , t, o, ...</td>\n",
       "      <td>10</td>\n",
       "    </tr>\n",
       "    <tr>\n",
       "      <th>12128</th>\n",
       "      <td>various01.biz</td>\n",
       "      <td>various01.biz various01.biz 2020 copyright. al...</td>\n",
       "      <td>[variousbiz, variousbiz, copyright, sponsored,...</td>\n",
       "      <td>[v, a, r, i, o, u, s, 0, 1, ., b, i, z,  , v, ...</td>\n",
       "      <td>10</td>\n",
       "    </tr>\n",
       "    <tr>\n",
       "      <th>12585</th>\n",
       "      <td>williamsdrywallandinsulation.com</td>\n",
       "      <td>scott williams drywall &amp; insulation | your loc...</td>\n",
       "      <td>[scott, williams, drywall, insulation, local, ...</td>\n",
       "      <td>[s, c, o, t, t,  , w, i, l, l, i, a, m, s,  , ...</td>\n",
       "      <td>10</td>\n",
       "    </tr>\n",
       "    <tr>\n",
       "      <th>12893</th>\n",
       "      <td>yourunionadvisor.com</td>\n",
       "      <td>contact us : union member mortgage refinance a...</td>\n",
       "      <td>[contact, us, union, member, mortgage, refinan...</td>\n",
       "      <td>[c, o, n, t, a, c, t,  , u, s,  , :,  , u, n, ...</td>\n",
       "      <td>10</td>\n",
       "    </tr>\n",
       "  </tbody>\n",
       "</table>\n",
       "</div>"
      ],
      "text/plain": [
       "                                   DOMAIN  \\\n",
       "10                            100coin.com   \n",
       "255             achronicleofaddiction.com   \n",
       "589               alvarengadentalcare.com   \n",
       "683                         anastyles.com   \n",
       "891                        artistprint.de   \n",
       "1342                          berqrng.com   \n",
       "1499                        blackminds.tk   \n",
       "2516                   commerciallore.com   \n",
       "2823                      curvyroads.info   \n",
       "3890             eximindiacorqoration.com   \n",
       "3949                 faceandbodyalive.com   \n",
       "4502                         funnytube.in   \n",
       "4601                         gdhair.co.uk   \n",
       "4904                       gregaudino.com   \n",
       "5127   healthoptimizationpractitioner.org   \n",
       "5338         honestaffordableplumbing.com   \n",
       "5413                   hrconstructora.com   \n",
       "5747                       insta-sale.com   \n",
       "5828                     inwestdesign.com   \n",
       "5987            jaredsalwaysontheball.com   \n",
       "6509                       krakrabbit.org   \n",
       "6830             lighthousedevotions.blog   \n",
       "7216                 manifestinjustice.us   \n",
       "7762                        momoirist.com   \n",
       "9697                    royalexaminer.com   \n",
       "10347                   smalltownnoir.com   \n",
       "10420                     socialpanic.org   \n",
       "10650                             stbl.ru   \n",
       "10875                    sweatorbleed.com   \n",
       "11272                    thegaragista.com   \n",
       "11415                      theplanetd.com   \n",
       "11749                      torontomenu.ca   \n",
       "12128                       various01.biz   \n",
       "12585    williamsdrywallandinsulation.com   \n",
       "12893                yourunionadvisor.com   \n",
       "\n",
       "                                             RAW_CONTENT  \\\n",
       "10     100coin.com 您正在访问的域名 (100coin.com) 可以合作或转让! th...   \n",
       "255    things i think about while lying in bed – a ch...   \n",
       "589    costa rica dental services – costa rica dental...   \n",
       "683    met gala 2014 | vogue and mimosas met gala 201...   \n",
       "891    contact - contact: search: » categoriescontact...   \n",
       "1342   berq rng berq rng scroll down berq rng we deve...   \n",
       "1499   welcome to blackminds.tk! welcome to blackmind...   \n",
       "2516   south australia | commercial lore making a com...   \n",
       "2823   20150720_113350 – curvyroads #everydayadventur...   \n",
       "3890   captcha powered by imunify360 english eximindi...   \n",
       "3949   face and body alive - facial cupping, natural ...   \n",
       "4502   whatsapp video - happy holi wish whatsapp stat...   \n",
       "4601   gdhair salon © 2015 gd hair, birkenhead. a col...   \n",
       "4904   videos honest content for an honest life main ...   \n",
       "5127   healthoptimizationpractitioner.org -&nbsphealt...   \n",
       "5338   honest and affordable plumbing and remodeling ...   \n",
       "5413   error. page cannot be displayed. please contac...   \n",
       "5747   humor & memes instagram account for sale | 998...   \n",
       "5828   contact - inwestdesign website design and mark...   \n",
       "5987   video about me – jared’s world about wordpress...   \n",
       "6509   krakrabbit.com about us! krakrabbit.com is the...   \n",
       "6830   about – lighthouse devotions by jr inspired by...   \n",
       "7216   dying starfish | manifest injustice corruption...   \n",
       "7762   i’m in love with instagram – momoirist primary...   \n",
       "9697   botanicals in watercolor i – royal examiner co...   \n",
       "10347  may 2011 – small town noir small-time true cri...   \n",
       "10420  #facebook to exclude north american users from...   \n",
       "10650  about us – stabline mo-fr from 9:00 to 18:00 р...   \n",
       "10875  sweatorbleed.com is coming soon sweatorbleed.c...   \n",
       "11272  clothing | tag archives: clothing posted on by...   \n",
       "11415  five unique vienna attractions you didn't know...   \n",
       "11749  welcome mark to toronto menu - free takeout me...   \n",
       "12128  various01.biz various01.biz 2020 copyright. al...   \n",
       "12585  scott williams drywall & insulation | your loc...   \n",
       "12893  contact us : union member mortgage refinance a...   \n",
       "\n",
       "                                   RAW_CONTENT_PROCESSED  \\\n",
       "10     [coincom, 您正在访问的域名, coincom, 可以合作或转让, domain, ...   \n",
       "255    [things, think, lying, bed, –, chronicle, life...   \n",
       "589    [costa, rica, dental, services, –, costa, rica...   \n",
       "683    [met, gala, vogue, mimosas, met, gala, weren’t...   \n",
       "891    [contact, contact, search, », categoriescontac...   \n",
       "1342   [berq, rng, berq, rng, scroll, berq, rng, deve...   \n",
       "1499   [welcome, blackmindstk, welcome, blackmindstk,...   \n",
       "2516   [south, australia, commercial, lore, making, c...   \n",
       "2823   [–, curvyroads, everydayadventures, traveling,...   \n",
       "3890   [captcha, powered, imunify, english, eximindia...   \n",
       "3949   [face, body, alive, facial, cupping, natural, ...   \n",
       "4502   [whatsapp, video, happy, holi, wish, whatsapp,...   \n",
       "4601   [gdhair, salon, ©, gd, hair, birkenhead, colle...   \n",
       "4904   [videos, honest, content, n, honest, life, mai...   \n",
       "5127   [healthoptimizationpractitionerorg, nbsphealth...   \n",
       "5338   [honest, affordable, plumbing, remodeling, men...   \n",
       "5413   [error, page, cannot, displayed, please, conta...   \n",
       "5747   [humor, memes, instagram, account, sale, follo...   \n",
       "5828   [contact, inwestdesign, website, design, marke...   \n",
       "5987   [video, –, jared’s, world, wordpresssearch, al...   \n",
       "6509   [krakrabbitcom, us, krakrabbitcom, original, i...   \n",
       "6830   [–, lighthouse, devotions, jr, inspired, love,...   \n",
       "7216   [dying, starfish, manifest, injustice, corrupt...   \n",
       "7762   [i’m, love, instagram, –, momoirist, primary, ...   \n",
       "9697   [botanicals, watercolor, –, royal, examiner, c...   \n",
       "10347  [may, –, small, town, noir, smalltime, true, c...   \n",
       "10420  [facebook, exclude, north, american, users, eu...   \n",
       "10650  [us, –, stabline, mofr, русский, english, mofr...   \n",
       "10875  [sweatorbleedcom, coming, soon, sweatorbleedco...   \n",
       "11272  [clothing, tag, archives, clothing, posted, ga...   \n",
       "11415  [five, unique, vienna, attractions, didnt, kno...   \n",
       "11749  [welcome, mark, toronto, menu, free, takeout, ...   \n",
       "12128  [variousbiz, variousbiz, copyright, sponsored,...   \n",
       "12585  [scott, williams, drywall, insulation, local, ...   \n",
       "12893  [contact, us, union, member, mortgage, refinan...   \n",
       "\n",
       "                           RAW_CONTENT_PROCESSED_STEMMED  cluster  \n",
       "10     [1, 0, 0, c, o, i, n, ., c, o, m,  , 您, 正, 在, ...       10  \n",
       "255    [t, h, i, n, g, s,  , i,  , t, h, i, n, k,  , ...       10  \n",
       "589    [c, o, s, t, a,  , r, i, c, a,  , d, e, n, t, ...       10  \n",
       "683    [m, e, t,  , g, a, l, a,  , 2, 0, 1, 4,  , |, ...       10  \n",
       "891    [c, o, n, t, a, c, t,  , -,  , c, o, n, t, a, ...       10  \n",
       "1342   [b, e, r, q,  , r, n, g,  , b, e, r, q,  , r, ...       10  \n",
       "1499   [w, e, l, c, o, m, e,  , t, o,  , b, l, a, c, ...       10  \n",
       "2516   [s, o, u, t, h,  , a, u, s, t, r, a, l, i, a, ...       10  \n",
       "2823   [2, 0, 1, 5, 0, 7, 2, 0, _, 1, 1, 3, 3, 5, 0, ...       10  \n",
       "3890   [c, a, p, t, c, h, a,  , p, o, w, e, r, e, d, ...       10  \n",
       "3949   [f, a, c, e,  , a, n, d,  , b, o, d, y,  , a, ...       10  \n",
       "4502   [w, h, a, t, s, a, p, p,  , v, i, d, e, o,  , ...       10  \n",
       "4601   [g, d, h, a, i, r,  , s, a, l, o, n,  , ©,  , ...       10  \n",
       "4904   [v, i, d, e, o, s,  , h, o, n, e, s, t,  , c, ...       10  \n",
       "5127   [h, e, a, l, t, h, o, p, t, i, m, i, z, a, t, ...       10  \n",
       "5338   [h, o, n, e, s, t,  , a, n, d,  , a, f, f, o, ...       10  \n",
       "5413   [e, r, r, o, r, .,  , p, a, g, e,  , c, a, n, ...       10  \n",
       "5747   [h, u, m, o, r,  , &,  , m, e, m, e, s,  , i, ...       10  \n",
       "5828   [c, o, n, t, a, c, t,  , -,  , i, n, w, e, s, ...       10  \n",
       "5987   [v, i, d, e, o,  , a, b, o, u, t,  , m, e,  , ...       10  \n",
       "6509   [k, r, a, k, r, a, b, b, i, t, ., c, o, m,  , ...       10  \n",
       "6830   [a, b, o, u, t,  , –,  , l, i, g, h, t, h, o, ...       10  \n",
       "7216   [d, y, i, n, g,  , s, t, a, r, f, i, s, h,  , ...       10  \n",
       "7762   [i, ’, m,  , i, n,  , l, o, v, e,  , w, i, t, ...       10  \n",
       "9697   [b, o, t, a, n, i, c, a, l, s,  , i, n,  , w, ...       10  \n",
       "10347  [m, a, y,  , 2, 0, 1, 1,  , –,  , s, m, a, l, ...       10  \n",
       "10420  [#, f, a, c, e, b, o, o, k,  , t, o,  , e, x, ...       10  \n",
       "10650  [a, b, o, u, t,  , u, s,  , –,  , s, t, a, b, ...       10  \n",
       "10875  [s, w, e, a, t, o, r, b, l, e, e, d, ., c, o, ...       10  \n",
       "11272  [c, l, o, t, h, i, n, g,  , |,  , t, a, g,  , ...       10  \n",
       "11415  [f, i, v, e,  , u, n, i, q, u, e,  , v, i, e, ...       10  \n",
       "11749  [w, e, l, c, o, m, e,  , m, a, r, k,  , t, o, ...       10  \n",
       "12128  [v, a, r, i, o, u, s, 0, 1, ., b, i, z,  , v, ...       10  \n",
       "12585  [s, c, o, t, t,  , w, i, l, l, i, a, m, s,  , ...       10  \n",
       "12893  [c, o, n, t, a, c, t,  , u, s,  , :,  , u, n, ...       10  "
      ]
     },
     "execution_count": 32,
     "metadata": {},
     "output_type": "execute_result"
    }
   ],
   "source": [
    "generate_raw_content_cluster_df(10)"
   ]
  },
  {
   "cell_type": "code",
   "execution_count": 33,
   "metadata": {},
   "outputs": [],
   "source": [
    "avg_list = []\n",
    "variance_list = []\n",
    "\n",
    "for i in range(num_clusters):\n",
    "    avg, variance = intracluster_similarity(i)\n",
    "    avg_list.append(avg)\n",
    "    variance_list.append(variance)\n",
    "    #print()"
   ]
  },
  {
   "cell_type": "code",
   "execution_count": 34,
   "metadata": {},
   "outputs": [
    {
     "data": {
      "text/plain": [
       "([<matplotlib.axis.XTick at 0x150cfd5f8>,\n",
       "  <matplotlib.axis.XTick at 0x150783c18>,\n",
       "  <matplotlib.axis.XTick at 0x1507b0d68>,\n",
       "  <matplotlib.axis.XTick at 0x150d424a8>,\n",
       "  <matplotlib.axis.XTick at 0x150d42908>,\n",
       "  <matplotlib.axis.XTick at 0x150d42dd8>,\n",
       "  <matplotlib.axis.XTick at 0x1b89349320>,\n",
       "  <matplotlib.axis.XTick at 0x1b89349828>,\n",
       "  <matplotlib.axis.XTick at 0x1b89349d30>,\n",
       "  <matplotlib.axis.XTick at 0x1b893498d0>,\n",
       "  <matplotlib.axis.XTick at 0x150d42c50>],\n",
       " <a list of 11 Text xticklabel objects>)"
      ]
     },
     "execution_count": 34,
     "metadata": {},
     "output_type": "execute_result"
    },
    {
     "data": {
      "image/png": "[encoded data removed]",
      "text/plain": [
       "<Figure size 432x288 with 1 Axes>"
      ]
     },
     "metadata": {
      "needs_background": "light"
     },
     "output_type": "display_data"
    }
   ],
   "source": [
    "# neighbors = 10\n",
    "bins= [0,0.1,0.2,0.3,0.4,0.5,0.6,0.7,0.8,0.9,1.0]\n",
    "plt.hist(avg_list, bins=bins, edgecolor=\"k\")\n",
    "plt.xticks(bins)"
   ]
  },
  {
   "cell_type": "markdown",
   "metadata": {},
   "source": [
    "## Intercluster Similarity"
   ]
  },
  {
   "cell_type": "code",
   "execution_count": 35,
   "metadata": {},
   "outputs": [],
   "source": [
    "def intercluster_dist():\n",
    "    indices = range(num_clusters)\n",
    "    centroid_centroid_distance = {}\n",
    "    values = []\n",
    "    for i in indices:\n",
    "        for j in indices:\n",
    "            if i < j:\n",
    "                key = str(i) + \"::\" + str(j)\n",
    "                cluster_centroid_i = np.average(tfidf_matrix[[x[1] for x in cluster_list[i]]].todense(), axis=0)\n",
    "                cluster_centroid_j = np.average(tfidf_matrix[[x[1] for x in cluster_list[j]]].todense(), axis=0)\n",
    "                distance = np.linalg.norm(cluster_centroid_i - cluster_centroid_j)\n",
    "                centroid_centroid_distance[key] = distance\n",
    "                values.append(distance)\n",
    "    return centroid_centroid_distance, values"
   ]
  },
  {
   "cell_type": "code",
   "execution_count": 36,
   "metadata": {},
   "outputs": [
    {
     "name": "stdout",
     "output_type": "stream",
     "text": [
      "average 1.3928165617406125\n"
     ]
    }
   ],
   "source": [
    "intercluster_distances, values = intercluster_dist()\n",
    "#print('distances', values)\n",
    "print('average', np.average(values))"
   ]
  },
  {
   "cell_type": "code",
   "execution_count": null,
   "metadata": {},
   "outputs": [],
   "source": []
  }
 ],
 "metadata": {
  "colab": {
   "collapsed_sections": [],
   "name": "MastersProject.ipynb",
   "provenance": []
  },
  "kernelspec": {
   "display_name": "Python 3",
   "language": "python",
   "name": "python3"
  },
  "language_info": {
   "codemirror_mode": {
    "name": "ipython",
    "version": 3
   },
   "file_extension": ".py",
   "mimetype": "text/x-python",
   "name": "python",
   "nbconvert_exporter": "python",
   "pygments_lexer": "ipython3",
   "version": "3.7.1"
  }
 },
 "nbformat": 4,
 "nbformat_minor": 1
}
