{
 "cells": [
  {
   "cell_type": "code",
   "execution_count": 2,
   "metadata": {},
   "outputs": [
    {
     "data": {
      "text/html": [
       "<style>.container { width:95% !important; }</style>"
      ],
      "text/plain": [
       "<IPython.core.display.HTML object>"
      ]
     },
     "metadata": {},
     "output_type": "display_data"
    }
   ],
   "source": [
    "from IPython.core.display import display, HTML\n",
    "display(HTML(\"<style>.container { width:95% !important; }</style>\"))"
   ]
  },
  {
   "cell_type": "markdown",
   "metadata": {
    "id": "FYVUGSFLf_qE"
   },
   "source": [
    "## Libraries and Filesystem Setup"
   ]
  },
  {
   "cell_type": "code",
   "execution_count": 3,
   "metadata": {
    "colab": {
     "base_uri": "https://localhost:8080/"
    },
    "id": "uqRQxTVbf39P",
    "outputId": "aecc64fb-dc6f-4d45-f5a3-98ec0b70cbfe"
   },
   "outputs": [
    {
     "name": "stderr",
     "output_type": "stream",
     "text": [
      "[nltk_data] Downloading package punkt to /Users/dkarsann/nltk_data...\n",
      "[nltk_data]   Package punkt is already up-to-date!\n",
      "[nltk_data] Downloading package stopwords to\n",
      "[nltk_data]     /Users/dkarsann/nltk_data...\n",
      "[nltk_data]   Package stopwords is already up-to-date!\n"
     ]
    }
   ],
   "source": [
    "import nltk\n",
    "nltk.download('punkt')\n",
    "nltk.download('stopwords')\n",
    "import pandas as pd\n",
    "from collections import Counter\n",
    "import string\n",
    "import re\n",
    "import pickle"
   ]
  },
  {
   "cell_type": "markdown",
   "metadata": {
    "id": "QQ6l1wSdkgzb"
   },
   "source": [
    "## Parsing and Processing Content"
   ]
  },
  {
   "cell_type": "code",
   "execution_count": 4,
   "metadata": {
    "id": "YzpdheaVXAp0"
   },
   "outputs": [],
   "source": [
    "df_en_2 = pd.read_csv('../../processed_files/only_en.csv')"
   ]
  },
  {
   "cell_type": "code",
   "execution_count": 5,
   "metadata": {},
   "outputs": [
    {
     "data": {
      "text/html": [
       "<div>\n",
       "<style scoped>\n",
       "    .dataframe tbody tr th:only-of-type {\n",
       "        vertical-align: middle;\n",
       "    }\n",
       "\n",
       "    .dataframe tbody tr th {\n",
       "        vertical-align: top;\n",
       "    }\n",
       "\n",
       "    .dataframe thead th {\n",
       "        text-align: right;\n",
       "    }\n",
       "</style>\n",
       "<table border=\"1\" class=\"dataframe\">\n",
       "  <thead>\n",
       "    <tr style=\"text-align: right;\">\n",
       "      <th></th>\n",
       "      <th>DOMAIN</th>\n",
       "      <th>RAW_CONTENT</th>\n",
       "      <th>LANGUAGE</th>\n",
       "      <th>RAW_CONTENT_BIGRAM</th>\n",
       "    </tr>\n",
       "  </thead>\n",
       "  <tbody>\n",
       "    <tr>\n",
       "      <th>0</th>\n",
       "      <td>x10-hk.com</td>\n",
       "      <td>automation@home » » | | quick find categories ...</td>\n",
       "      <td>en</td>\n",
       "      <td>[automation@home », » », » |, | |, | quick, qu...</td>\n",
       "    </tr>\n",
       "    <tr>\n",
       "      <th>1</th>\n",
       "      <td>hupshenghware.com</td>\n",
       "      <td>captcha powered by imunify360 english hupsheng...</td>\n",
       "      <td>en</td>\n",
       "      <td>[captcha powered, powered by, by imunify360, i...</td>\n",
       "    </tr>\n",
       "    <tr>\n",
       "      <th>2</th>\n",
       "      <td>soponyonosnack.com</td>\n",
       "      <td>soponyonosnack.com currencies: rupiah language...</td>\n",
       "      <td>en</td>\n",
       "      <td>[soponyonosnack.com currencies:, currencies: r...</td>\n",
       "    </tr>\n",
       "    <tr>\n",
       "      <th>3</th>\n",
       "      <td>theromanticvineyard.com</td>\n",
       "      <td>wine train (blogroll) | the romantic vineyard ...</td>\n",
       "      <td>en</td>\n",
       "      <td>[wine train, train (blogroll), (blogroll) |, |...</td>\n",
       "    </tr>\n",
       "    <tr>\n",
       "      <th>4</th>\n",
       "      <td>eopticians.co.uk</td>\n",
       "      <td>brands, base curve (bc): 8.4, base curve (bc):...</td>\n",
       "      <td>en</td>\n",
       "      <td>[brands, base, base curve, curve (bc):, (bc): ...</td>\n",
       "    </tr>\n",
       "  </tbody>\n",
       "</table>\n",
       "</div>"
      ],
      "text/plain": [
       "                    DOMAIN                                        RAW_CONTENT  \\\n",
       "0               x10-hk.com  automation@home » » | | quick find categories ...   \n",
       "1        hupshenghware.com  captcha powered by imunify360 english hupsheng...   \n",
       "2       soponyonosnack.com  soponyonosnack.com currencies: rupiah language...   \n",
       "3  theromanticvineyard.com  wine train (blogroll) | the romantic vineyard ...   \n",
       "4         eopticians.co.uk  brands, base curve (bc): 8.4, base curve (bc):...   \n",
       "\n",
       "  LANGUAGE                                 RAW_CONTENT_BIGRAM  \n",
       "0       en  [automation@home », » », » |, | |, | quick, qu...  \n",
       "1       en  [captcha powered, powered by, by imunify360, i...  \n",
       "2       en  [soponyonosnack.com currencies:, currencies: r...  \n",
       "3       en  [wine train, train (blogroll), (blogroll) |, |...  \n",
       "4       en  [brands, base, base curve, curve (bc):, (bc): ...  "
      ]
     },
     "execution_count": 5,
     "metadata": {},
     "output_type": "execute_result"
    }
   ],
   "source": [
    "df_en_2['RAW_CONTENT_BIGRAM'] = df_en_2['RAW_CONTENT'].apply(lambda row: [' '.join(phrase) for phrase in nltk.bigrams(row.lower().split())])\n",
    "df_en_2.head()"
   ]
  },
  {
   "cell_type": "code",
   "execution_count": 6,
   "metadata": {
    "colab": {
     "base_uri": "https://localhost:8080/"
    },
    "id": "eWqHlxMGXDtV",
    "outputId": "578fdb3e-5e28-4799-ddc8-7d6e6217f62a"
   },
   "outputs": [
    {
     "name": "stdout",
     "output_type": "stream",
     "text": [
      "!\"#$%&'()*+,-./:;<=>?@[\\]^_`{|}~\n"
     ]
    }
   ],
   "source": [
    "print(string.punctuation)\n",
    "table = str.maketrans('', '', string.punctuation)"
   ]
  },
  {
   "cell_type": "code",
   "execution_count": 7,
   "metadata": {
    "id": "U5PqhWcmXFIX"
   },
   "outputs": [
    {
     "data": {
      "text/plain": [
       "['automationhome »',\n",
       " '» »',\n",
       " 'quick find',\n",
       " 'find categories',\n",
       " 'categories 1',\n",
       " '1 67',\n",
       " '67 2',\n",
       " '2 2',\n",
       " '2 2',\n",
       " '2 9']"
      ]
     },
     "execution_count": 7,
     "metadata": {},
     "output_type": "execute_result"
    }
   ],
   "source": [
    "df_en_2_bigram_tokens = [item for sublist in df_en_2['RAW_CONTENT_BIGRAM'].values for item in sublist]\n",
    "df_en_2_bigram_tokens_stripped = [w.translate(table) for w in df_en_2_bigram_tokens]\n",
    "df_en_2_bigram_tokens_stripped = [phrase.strip() for phrase in df_en_2_bigram_tokens_stripped if len(phrase.strip().split()) == 2]\n",
    "df_en_2_bigram_tokens_stripped[:10]"
   ]
  },
  {
   "cell_type": "markdown",
   "metadata": {
    "id": "OUcaluylk4xW"
   },
   "source": [
    "## StopPhrases"
   ]
  },
  {
   "cell_type": "code",
   "execution_count": 8,
   "metadata": {
    "colab": {
     "base_uri": "https://localhost:8080/"
    },
    "id": "2P4k7clFXIqh",
    "outputId": "79c15f4c-8f39-40ec-c0ed-927f5852678e"
   },
   "outputs": [
    {
     "data": {
      "text/plain": [
       "[('of the', 37760),\n",
       " ('in the', 30012),\n",
       " ('to the', 16900),\n",
       " ('on the', 16354),\n",
       " ('you are', 14466),\n",
       " ('to be', 12955),\n",
       " ('is a', 12808),\n",
       " ('for the', 12685),\n",
       " ('you can', 11075),\n",
       " ('• •', 10966),\n",
       " ('if you', 10878),\n",
       " ('with the', 10290),\n",
       " ('and the', 10173),\n",
       " ('it is', 10091),\n",
       " ('email address', 8691),\n",
       " ('at the', 8399),\n",
       " ('in a', 7988),\n",
       " ('from the', 7628),\n",
       " ('is the', 7371),\n",
       " ('with a', 7245),\n",
       " ('i am', 7119),\n",
       " ('as a', 6970),\n",
       " ('i have', 6958),\n",
       " ('for a', 6928),\n",
       " ('will be', 6767),\n",
       " ('you have', 6638),\n",
       " ('this is', 6500),\n",
       " ('one of', 6310),\n",
       " ('of a', 6267),\n",
       " ('want to', 6244),\n",
       " ('have a', 6149),\n",
       " ('liked by', 6145),\n",
       " ('using your', 5936),\n",
       " ('and i', 5849),\n",
       " ('to get', 5771),\n",
       " ('thank you', 5740),\n",
       " ('are commenting', 5720),\n",
       " ('commenting using', 5720),\n",
       " ('your email', 5720),\n",
       " ('the best', 5668),\n",
       " ('can be', 5653),\n",
       " ('that you', 5621),\n",
       " ('all rights', 5609),\n",
       " ('contact us', 5551),\n",
       " ('as well', 5513),\n",
       " ('we are', 5399),\n",
       " ('in your', 5396),\n",
       " ('rights reserved', 5363),\n",
       " ('i was', 5359),\n",
       " ('© 2020', 5170),\n",
       " ('by the', 5113),\n",
       " ('need to', 5089),\n",
       " ('copyright ©', 5072),\n",
       " ('of your', 5065),\n",
       " ('how to', 5041),\n",
       " ('search for', 5003),\n",
       " ('wordpress themes', 4919),\n",
       " ('of new', 4635),\n",
       " ('all the', 4597),\n",
       " ('to make', 4589)]"
      ]
     },
     "execution_count": 8,
     "metadata": {},
     "output_type": "execute_result"
    }
   ],
   "source": [
    "counts_bigrams = Counter(df_en_2_bigram_tokens_stripped)\n",
    "counts_bigrams.most_common(60)"
   ]
  },
  {
   "cell_type": "markdown",
   "metadata": {
    "id": "yt3GKbsI5xjC"
   },
   "source": [
    "## Heaps' Law Bigrams"
   ]
  },
  {
   "cell_type": "code",
   "execution_count": 9,
   "metadata": {
    "colab": {
     "base_uri": "https://localhost:8080/",
     "height": 204
    },
    "id": "3TZdnZjcX6Z4",
    "outputId": "fa1d0e85-7549-4eaf-8661-dd3139770bb2"
   },
   "outputs": [
    {
     "data": {
      "text/html": [
       "<div>\n",
       "<style scoped>\n",
       "    .dataframe tbody tr th:only-of-type {\n",
       "        vertical-align: middle;\n",
       "    }\n",
       "\n",
       "    .dataframe tbody tr th {\n",
       "        vertical-align: top;\n",
       "    }\n",
       "\n",
       "    .dataframe thead th {\n",
       "        text-align: right;\n",
       "    }\n",
       "</style>\n",
       "<table border=\"1\" class=\"dataframe\">\n",
       "  <thead>\n",
       "    <tr style=\"text-align: right;\">\n",
       "      <th></th>\n",
       "      <th>DOMAIN</th>\n",
       "      <th>RAW_CONTENT</th>\n",
       "      <th>LANGUAGE</th>\n",
       "      <th>RAW_CONTENT_BIGRAM</th>\n",
       "    </tr>\n",
       "  </thead>\n",
       "  <tbody>\n",
       "    <tr>\n",
       "      <th>0</th>\n",
       "      <td>x10-hk.com</td>\n",
       "      <td>automation@home » » | | quick find categories ...</td>\n",
       "      <td>en</td>\n",
       "      <td>[automation@home », » », » |, | |, | quick, qu...</td>\n",
       "    </tr>\n",
       "    <tr>\n",
       "      <th>1</th>\n",
       "      <td>hupshenghware.com</td>\n",
       "      <td>captcha powered by imunify360 english hupsheng...</td>\n",
       "      <td>en</td>\n",
       "      <td>[captcha powered, powered by, by imunify360, i...</td>\n",
       "    </tr>\n",
       "    <tr>\n",
       "      <th>2</th>\n",
       "      <td>soponyonosnack.com</td>\n",
       "      <td>soponyonosnack.com currencies: rupiah language...</td>\n",
       "      <td>en</td>\n",
       "      <td>[soponyonosnack.com currencies:, currencies: r...</td>\n",
       "    </tr>\n",
       "    <tr>\n",
       "      <th>3</th>\n",
       "      <td>theromanticvineyard.com</td>\n",
       "      <td>wine train (blogroll) | the romantic vineyard ...</td>\n",
       "      <td>en</td>\n",
       "      <td>[wine train, train (blogroll), (blogroll) |, |...</td>\n",
       "    </tr>\n",
       "    <tr>\n",
       "      <th>4</th>\n",
       "      <td>eopticians.co.uk</td>\n",
       "      <td>brands, base curve (bc): 8.4, base curve (bc):...</td>\n",
       "      <td>en</td>\n",
       "      <td>[brands, base, base curve, curve (bc):, (bc): ...</td>\n",
       "    </tr>\n",
       "  </tbody>\n",
       "</table>\n",
       "</div>"
      ],
      "text/plain": [
       "                    DOMAIN                                        RAW_CONTENT  \\\n",
       "0               x10-hk.com  automation@home » » | | quick find categories ...   \n",
       "1        hupshenghware.com  captcha powered by imunify360 english hupsheng...   \n",
       "2       soponyonosnack.com  soponyonosnack.com currencies: rupiah language...   \n",
       "3  theromanticvineyard.com  wine train (blogroll) | the romantic vineyard ...   \n",
       "4         eopticians.co.uk  brands, base curve (bc): 8.4, base curve (bc):...   \n",
       "\n",
       "  LANGUAGE                                 RAW_CONTENT_BIGRAM  \n",
       "0       en  [automation@home », » », » |, | |, | quick, qu...  \n",
       "1       en  [captcha powered, powered by, by imunify360, i...  \n",
       "2       en  [soponyonosnack.com currencies:, currencies: r...  \n",
       "3       en  [wine train, train (blogroll), (blogroll) |, |...  \n",
       "4       en  [brands, base, base curve, curve (bc):, (bc): ...  "
      ]
     },
     "execution_count": 9,
     "metadata": {},
     "output_type": "execute_result"
    }
   ],
   "source": [
    "df_en_2.head()"
   ]
  },
  {
   "cell_type": "code",
   "execution_count": 10,
   "metadata": {
    "colab": {
     "base_uri": "https://localhost:8080/",
     "height": 204
    },
    "id": "ydYc_gioX-AO",
    "outputId": "f2cc3135-e802-4b35-f33e-ad2c4d2c6aab"
   },
   "outputs": [
    {
     "data": {
      "text/html": [
       "<div>\n",
       "<style scoped>\n",
       "    .dataframe tbody tr th:only-of-type {\n",
       "        vertical-align: middle;\n",
       "    }\n",
       "\n",
       "    .dataframe tbody tr th {\n",
       "        vertical-align: top;\n",
       "    }\n",
       "\n",
       "    .dataframe thead th {\n",
       "        text-align: right;\n",
       "    }\n",
       "</style>\n",
       "<table border=\"1\" class=\"dataframe\">\n",
       "  <thead>\n",
       "    <tr style=\"text-align: right;\">\n",
       "      <th></th>\n",
       "      <th>DOMAIN</th>\n",
       "      <th>RAW_CONTENT</th>\n",
       "      <th>LANGUAGE</th>\n",
       "      <th>RAW_CONTENT_BIGRAM</th>\n",
       "    </tr>\n",
       "  </thead>\n",
       "  <tbody>\n",
       "    <tr>\n",
       "      <th>0</th>\n",
       "      <td>x10-hk.com</td>\n",
       "      <td>automation@home » » | | quick find categories ...</td>\n",
       "      <td>en</td>\n",
       "      <td>[automation@home », » », » |, | |, | quick, qu...</td>\n",
       "    </tr>\n",
       "    <tr>\n",
       "      <th>1</th>\n",
       "      <td>hupshenghware.com</td>\n",
       "      <td>captcha powered by imunify360 english hupsheng...</td>\n",
       "      <td>en</td>\n",
       "      <td>[captcha powered, powered by, by imunify360, i...</td>\n",
       "    </tr>\n",
       "    <tr>\n",
       "      <th>2</th>\n",
       "      <td>soponyonosnack.com</td>\n",
       "      <td>soponyonosnack.com currencies: rupiah language...</td>\n",
       "      <td>en</td>\n",
       "      <td>[soponyonosnack.com currencies:, currencies: r...</td>\n",
       "    </tr>\n",
       "    <tr>\n",
       "      <th>3</th>\n",
       "      <td>theromanticvineyard.com</td>\n",
       "      <td>wine train (blogroll) | the romantic vineyard ...</td>\n",
       "      <td>en</td>\n",
       "      <td>[wine train, train (blogroll), (blogroll) |, |...</td>\n",
       "    </tr>\n",
       "    <tr>\n",
       "      <th>4</th>\n",
       "      <td>eopticians.co.uk</td>\n",
       "      <td>brands, base curve (bc): 8.4, base curve (bc):...</td>\n",
       "      <td>en</td>\n",
       "      <td>[brands, base, base curve, curve (bc):, (bc): ...</td>\n",
       "    </tr>\n",
       "  </tbody>\n",
       "</table>\n",
       "</div>"
      ],
      "text/plain": [
       "                    DOMAIN                                        RAW_CONTENT  \\\n",
       "0               x10-hk.com  automation@home » » | | quick find categories ...   \n",
       "1        hupshenghware.com  captcha powered by imunify360 english hupsheng...   \n",
       "2       soponyonosnack.com  soponyonosnack.com currencies: rupiah language...   \n",
       "3  theromanticvineyard.com  wine train (blogroll) | the romantic vineyard ...   \n",
       "4         eopticians.co.uk  brands, base curve (bc): 8.4, base curve (bc):...   \n",
       "\n",
       "  LANGUAGE                                 RAW_CONTENT_BIGRAM  \n",
       "0       en  [automation@home », » », » |, | |, | quick, qu...  \n",
       "1       en  [captcha powered, powered by, by imunify360, i...  \n",
       "2       en  [soponyonosnack.com currencies:, currencies: r...  \n",
       "3       en  [wine train, train (blogroll), (blogroll) |, |...  \n",
       "4       en  [brands, base, base curve, curve (bc):, (bc): ...  "
      ]
     },
     "execution_count": 10,
     "metadata": {},
     "output_type": "execute_result"
    }
   ],
   "source": [
    "df_en_2_new = df_en_2.reset_index()\n",
    "df_en_2_new = df_en_2_new.drop(columns=['index'])\n",
    "df_en_2_new.head()"
   ]
  },
  {
   "cell_type": "code",
   "execution_count": 11,
   "metadata": {
    "id": "enGAIElFX_0A"
   },
   "outputs": [],
   "source": [
    "# number of documents processed, number of unique \n",
    "num_docs_num_unique = [(0,0)]\n",
    "unique = set()\n",
    "for index,row in df_en_2_new.iterrows():\n",
    "    unique.update(row['RAW_CONTENT_BIGRAM'])\n",
    "    num_docs = index + 1\n",
    "    num_unique = len(unique)\n",
    "    num_docs_num_unique.append((num_docs, num_unique))"
   ]
  },
  {
   "cell_type": "code",
   "execution_count": 12,
   "metadata": {
    "colab": {
     "base_uri": "https://localhost:8080/",
     "height": 265
    },
    "id": "cuFC4PMIYBQF",
    "outputId": "67a6e6d5-5fdf-4dd5-9ef6-fe91bf0ecee1"
   },
   "outputs": [
    {
     "data": {
      "image/png": "[encoded data removed]",
      "text/plain": [
       "<Figure size 432x288 with 1 Axes>"
      ]
     },
     "metadata": {
      "needs_background": "light"
     },
     "output_type": "display_data"
    }
   ],
   "source": [
    "import matplotlib.pyplot as plt\n",
    "%matplotlib inline\n",
    "\n",
    "x, y = zip(*num_docs_num_unique)\n",
    "plt.scatter(x, y)\n",
    "plt.show()"
   ]
  },
  {
   "cell_type": "code",
   "execution_count": 13,
   "metadata": {
    "id": "wyPIgl8tYC5t"
   },
   "outputs": [],
   "source": [
    "most_to_least = sorted(counts_bigrams.items(), key=lambda item: item[1], reverse=True)\n",
    "most_to_least_plot_items = []\n",
    "for index, item in enumerate(most_to_least):\n",
    "    most_to_least_plot_items.append((index, item[1]))"
   ]
  },
  {
   "cell_type": "code",
   "execution_count": 14,
   "metadata": {
    "colab": {
     "base_uri": "https://localhost:8080/",
     "height": 269
    },
    "id": "cx6tz7dKYEUQ",
    "outputId": "9cd80e20-28af-4ed3-8f73-2d6915a75375"
   },
   "outputs": [
    {
     "data": {
      "image/png": "[encoded data removed]",
      "text/plain": [
       "<Figure size 432x288 with 1 Axes>"
      ]
     },
     "metadata": {
      "needs_background": "light"
     },
     "output_type": "display_data"
    }
   ],
   "source": [
    "x, y = zip(*most_to_least_plot_items)\n",
    "plt.scatter(x, y)\n",
    "plt.show()"
   ]
  },
  {
   "cell_type": "markdown",
   "metadata": {
    "id": "yueNPQ4-580o"
   },
   "source": [
    "## Zipf's Law Bigrams"
   ]
  },
  {
   "cell_type": "code",
   "execution_count": 15,
   "metadata": {
    "id": "XABYTPSbYrK7"
   },
   "outputs": [],
   "source": [
    "most_to_least_2 = sorted(counts_bigrams.items(), key=lambda item: item[1], reverse=True)\n",
    "most_to_least_bigrams_2 = []\n",
    "for index, item in enumerate(most_to_least):\n",
    "    if index < 0:\n",
    "        continue\n",
    "    if index >= 300:\n",
    "        break\n",
    "    most_to_least_bigrams_2.append((index, item[1]))"
   ]
  },
  {
   "cell_type": "code",
   "execution_count": 16,
   "metadata": {
    "colab": {
     "base_uri": "https://localhost:8080/",
     "height": 265
    },
    "id": "8lSF4oxnYtzd",
    "outputId": "813e29c4-44ff-4e4c-bce1-82c5cb9498a8"
   },
   "outputs": [
    {
     "data": {
      "image/png": "[encoded data removed]",
      "text/plain": [
       "<Figure size 432x288 with 1 Axes>"
      ]
     },
     "metadata": {
      "needs_background": "light"
     },
     "output_type": "display_data"
    }
   ],
   "source": [
    "x2, y2 = zip(*most_to_least_bigrams_2)\n",
    "plt.scatter(x2, y2)\n",
    "plt.show()"
   ]
  },
  {
   "cell_type": "markdown",
   "metadata": {
    "id": "LslkDlvVxvBu"
   },
   "source": [
    "## Stop Phrase lists"
   ]
  },
  {
   "cell_type": "code",
   "execution_count": 17,
   "metadata": {
    "id": "_VKxDzKrxyJa"
   },
   "outputs": [],
   "source": [
    "corpus_bigrams = set([i[0] for i in counts_bigrams.most_common(30)])"
   ]
  },
  {
   "cell_type": "code",
   "execution_count": 18,
   "metadata": {},
   "outputs": [],
   "source": [
    "with open('../../processed_files/corpus_bigrams.pickle', 'wb') as file:\n",
    "    pickle.dump(corpus_bigrams, file)"
   ]
  },
  {
   "cell_type": "code",
   "execution_count": null,
   "metadata": {},
   "outputs": [],
   "source": []
  }
 ],
 "metadata": {
  "colab": {
   "collapsed_sections": [],
   "name": "MastersProject.ipynb",
   "provenance": []
  },
  "kernelspec": {
   "display_name": "Python 3",
   "language": "python",
   "name": "python3"
  },
  "language_info": {
   "codemirror_mode": {
    "name": "ipython",
    "version": 3
   },
   "file_extension": ".py",
   "mimetype": "text/x-python",
   "name": "python",
   "nbconvert_exporter": "python",
   "pygments_lexer": "ipython3",
   "version": "3.7.1"
  }
 },
 "nbformat": 4,
 "nbformat_minor": 1
}
