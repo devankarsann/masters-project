{
 "cells": [
  {
   "cell_type": "code",
   "execution_count": 1,
   "metadata": {},
   "outputs": [
    {
     "data": {
      "text/html": [
       "<style>.container { width:95% !important; }</style>"
      ],
      "text/plain": [
       "<IPython.core.display.HTML object>"
      ]
     },
     "metadata": {},
     "output_type": "display_data"
    }
   ],
   "source": [
    "from IPython.core.display import display, HTML\n",
    "display(HTML(\"<style>.container { width:95% !important; }</style>\"))"
   ]
  },
  {
   "cell_type": "markdown",
   "metadata": {
    "id": "FYVUGSFLf_qE"
   },
   "source": [
    "## Libraries and Filesystem Setup"
   ]
  },
  {
   "cell_type": "code",
   "execution_count": 2,
   "metadata": {
    "colab": {
     "base_uri": "https://localhost:8080/"
    },
    "id": "uqRQxTVbf39P",
    "outputId": "aecc64fb-dc6f-4d45-f5a3-98ec0b70cbfe"
   },
   "outputs": [
    {
     "name": "stderr",
     "output_type": "stream",
     "text": [
      "[nltk_data] Downloading package punkt to /Users/dkarsann/nltk_data...\n",
      "[nltk_data]   Package punkt is already up-to-date!\n",
      "[nltk_data] Downloading package stopwords to\n",
      "[nltk_data]     /Users/dkarsann/nltk_data...\n",
      "[nltk_data]   Package stopwords is already up-to-date!\n"
     ]
    }
   ],
   "source": [
    "import nltk\n",
    "nltk.download('punkt')\n",
    "nltk.download('stopwords')\n",
    "from nltk.tokenize import sent_tokenize, word_tokenize \n",
    "import pandas as pd\n",
    "from collections import Counter\n",
    "import string\n",
    "import pickle"
   ]
  },
  {
   "cell_type": "markdown",
   "metadata": {
    "id": "QQ6l1wSdkgzb"
   },
   "source": [
    "## Parsing and Processing Content"
   ]
  },
  {
   "cell_type": "code",
   "execution_count": 4,
   "metadata": {},
   "outputs": [
    {
     "data": {
      "text/html": [
       "<div>\n",
       "<style scoped>\n",
       "    .dataframe tbody tr th:only-of-type {\n",
       "        vertical-align: middle;\n",
       "    }\n",
       "\n",
       "    .dataframe tbody tr th {\n",
       "        vertical-align: top;\n",
       "    }\n",
       "\n",
       "    .dataframe thead th {\n",
       "        text-align: right;\n",
       "    }\n",
       "</style>\n",
       "<table border=\"1\" class=\"dataframe\">\n",
       "  <thead>\n",
       "    <tr style=\"text-align: right;\">\n",
       "      <th></th>\n",
       "      <th>DOMAIN</th>\n",
       "      <th>RAW_CONTENT</th>\n",
       "      <th>LANGUAGE</th>\n",
       "    </tr>\n",
       "  </thead>\n",
       "  <tbody>\n",
       "    <tr>\n",
       "      <th>0</th>\n",
       "      <td>x10-hk.com</td>\n",
       "      <td>automation@home » » | | quick find categories ...</td>\n",
       "      <td>en</td>\n",
       "    </tr>\n",
       "    <tr>\n",
       "      <th>1</th>\n",
       "      <td>hupshenghware.com</td>\n",
       "      <td>captcha powered by imunify360 english hupsheng...</td>\n",
       "      <td>en</td>\n",
       "    </tr>\n",
       "    <tr>\n",
       "      <th>2</th>\n",
       "      <td>soponyonosnack.com</td>\n",
       "      <td>soponyonosnack.com currencies: rupiah language...</td>\n",
       "      <td>en</td>\n",
       "    </tr>\n",
       "    <tr>\n",
       "      <th>3</th>\n",
       "      <td>theromanticvineyard.com</td>\n",
       "      <td>wine train (blogroll) | the romantic vineyard ...</td>\n",
       "      <td>en</td>\n",
       "    </tr>\n",
       "    <tr>\n",
       "      <th>4</th>\n",
       "      <td>eopticians.co.uk</td>\n",
       "      <td>brands, base curve (bc): 8.4, base curve (bc):...</td>\n",
       "      <td>en</td>\n",
       "    </tr>\n",
       "  </tbody>\n",
       "</table>\n",
       "</div>"
      ],
      "text/plain": [
       "                    DOMAIN                                        RAW_CONTENT  \\\n",
       "0               x10-hk.com  automation@home » » | | quick find categories ...   \n",
       "1        hupshenghware.com  captcha powered by imunify360 english hupsheng...   \n",
       "2       soponyonosnack.com  soponyonosnack.com currencies: rupiah language...   \n",
       "3  theromanticvineyard.com  wine train (blogroll) | the romantic vineyard ...   \n",
       "4         eopticians.co.uk  brands, base curve (bc): 8.4, base curve (bc):...   \n",
       "\n",
       "  LANGUAGE  \n",
       "0       en  \n",
       "1       en  \n",
       "2       en  \n",
       "3       en  \n",
       "4       en  "
      ]
     },
     "execution_count": 4,
     "metadata": {},
     "output_type": "execute_result"
    }
   ],
   "source": [
    "df_en = pd.read_csv('../../processed_files/only_en.csv')\n",
    "df_en.head()"
   ]
  },
  {
   "cell_type": "code",
   "execution_count": 5,
   "metadata": {
    "colab": {
     "base_uri": "https://localhost:8080/",
     "height": 306
    },
    "id": "-YWzp2mXW2MW",
    "outputId": "53f6d52f-33be-4bd8-f910-8c2be72bf902"
   },
   "outputs": [
    {
     "data": {
      "text/html": [
       "<div>\n",
       "<style scoped>\n",
       "    .dataframe tbody tr th:only-of-type {\n",
       "        vertical-align: middle;\n",
       "    }\n",
       "\n",
       "    .dataframe tbody tr th {\n",
       "        vertical-align: top;\n",
       "    }\n",
       "\n",
       "    .dataframe thead th {\n",
       "        text-align: right;\n",
       "    }\n",
       "</style>\n",
       "<table border=\"1\" class=\"dataframe\">\n",
       "  <thead>\n",
       "    <tr style=\"text-align: right;\">\n",
       "      <th></th>\n",
       "      <th>DOMAIN</th>\n",
       "      <th>RAW_CONTENT</th>\n",
       "      <th>LANGUAGE</th>\n",
       "      <th>RAW_CONTENT_PARSED</th>\n",
       "    </tr>\n",
       "  </thead>\n",
       "  <tbody>\n",
       "    <tr>\n",
       "      <th>0</th>\n",
       "      <td>x10-hk.com</td>\n",
       "      <td>automation@home » » | | quick find categories ...</td>\n",
       "      <td>en</td>\n",
       "      <td>[automation, @, home, », », |, |, quick, find,...</td>\n",
       "    </tr>\n",
       "    <tr>\n",
       "      <th>1</th>\n",
       "      <td>hupshenghware.com</td>\n",
       "      <td>captcha powered by imunify360 english hupsheng...</td>\n",
       "      <td>en</td>\n",
       "      <td>[captcha, powered, by, imunify360, english, hu...</td>\n",
       "    </tr>\n",
       "    <tr>\n",
       "      <th>2</th>\n",
       "      <td>soponyonosnack.com</td>\n",
       "      <td>soponyonosnack.com currencies: rupiah language...</td>\n",
       "      <td>en</td>\n",
       "      <td>[soponyonosnack.com, currencies, :, rupiah, la...</td>\n",
       "    </tr>\n",
       "    <tr>\n",
       "      <th>3</th>\n",
       "      <td>theromanticvineyard.com</td>\n",
       "      <td>wine train (blogroll) | the romantic vineyard ...</td>\n",
       "      <td>en</td>\n",
       "      <td>[wine, train, (, blogroll, ), |, the, romantic...</td>\n",
       "    </tr>\n",
       "    <tr>\n",
       "      <th>4</th>\n",
       "      <td>eopticians.co.uk</td>\n",
       "      <td>brands, base curve (bc): 8.4, base curve (bc):...</td>\n",
       "      <td>en</td>\n",
       "      <td>[brands, ,, base, curve, (, bc, ), :, 8.4, ,, ...</td>\n",
       "    </tr>\n",
       "  </tbody>\n",
       "</table>\n",
       "</div>"
      ],
      "text/plain": [
       "                    DOMAIN                                        RAW_CONTENT  \\\n",
       "0               x10-hk.com  automation@home » » | | quick find categories ...   \n",
       "1        hupshenghware.com  captcha powered by imunify360 english hupsheng...   \n",
       "2       soponyonosnack.com  soponyonosnack.com currencies: rupiah language...   \n",
       "3  theromanticvineyard.com  wine train (blogroll) | the romantic vineyard ...   \n",
       "4         eopticians.co.uk  brands, base curve (bc): 8.4, base curve (bc):...   \n",
       "\n",
       "  LANGUAGE                                 RAW_CONTENT_PARSED  \n",
       "0       en  [automation, @, home, », », |, |, quick, find,...  \n",
       "1       en  [captcha, powered, by, imunify360, english, hu...  \n",
       "2       en  [soponyonosnack.com, currencies, :, rupiah, la...  \n",
       "3       en  [wine, train, (, blogroll, ), |, the, romantic...  \n",
       "4       en  [brands, ,, base, curve, (, bc, ), :, 8.4, ,, ...  "
      ]
     },
     "execution_count": 5,
     "metadata": {},
     "output_type": "execute_result"
    }
   ],
   "source": [
    "# do not specify axis as parameter when running lambda on series\n",
    "df_en['RAW_CONTENT_PARSED'] = df_en['RAW_CONTENT'].apply(lambda row: word_tokenize(row))\n",
    "df_en.head()"
   ]
  },
  {
   "cell_type": "code",
   "execution_count": 6,
   "metadata": {
    "id": "pfrb73PYW7KF"
   },
   "outputs": [],
   "source": [
    "df_en_content_tokens = [item for sublist in df_en['RAW_CONTENT_PARSED'].values for item in sublist]"
   ]
  },
  {
   "cell_type": "code",
   "execution_count": 7,
   "metadata": {
    "id": "_g_jdNxtW8L9"
   },
   "outputs": [],
   "source": [
    "counts = Counter(df_en_content_tokens)"
   ]
  },
  {
   "cell_type": "code",
   "execution_count": 8,
   "metadata": {
    "colab": {
     "base_uri": "https://localhost:8080/"
    },
    "id": "ylEGUoXUW9xn",
    "outputId": "7a2e6113-aa49-40e1-9751-4d0252b4fc5c"
   },
   "outputs": [
    {
     "data": {
      "text/plain": [
       "[(',', 503415),\n",
       " ('.', 424821),\n",
       " ('the', 383370),\n",
       " ('to', 281473),\n",
       " ('and', 265654),\n",
       " ('of', 206802),\n",
       " ('a', 197159),\n",
       " ('in', 150821),\n",
       " (')', 143235),\n",
       " ('you', 141557)]"
      ]
     },
     "execution_count": 8,
     "metadata": {},
     "output_type": "execute_result"
    }
   ],
   "source": [
    "counts.most_common(10)"
   ]
  },
  {
   "cell_type": "code",
   "execution_count": 9,
   "metadata": {
    "id": "YzpdheaVXAp0"
   },
   "outputs": [],
   "source": [
    "df_en_2 = df_en.copy(deep=True)"
   ]
  },
  {
   "cell_type": "code",
   "execution_count": 10,
   "metadata": {
    "colab": {
     "base_uri": "https://localhost:8080/",
     "height": 204
    },
    "id": "UQE6w9dLXBwV",
    "outputId": "d7e06971-9f7f-4b55-9f03-313e64e39fe9"
   },
   "outputs": [
    {
     "data": {
      "text/html": [
       "<div>\n",
       "<style scoped>\n",
       "    .dataframe tbody tr th:only-of-type {\n",
       "        vertical-align: middle;\n",
       "    }\n",
       "\n",
       "    .dataframe tbody tr th {\n",
       "        vertical-align: top;\n",
       "    }\n",
       "\n",
       "    .dataframe thead th {\n",
       "        text-align: right;\n",
       "    }\n",
       "</style>\n",
       "<table border=\"1\" class=\"dataframe\">\n",
       "  <thead>\n",
       "    <tr style=\"text-align: right;\">\n",
       "      <th></th>\n",
       "      <th>DOMAIN</th>\n",
       "      <th>RAW_CONTENT</th>\n",
       "      <th>LANGUAGE</th>\n",
       "      <th>RAW_CONTENT_PARSED</th>\n",
       "    </tr>\n",
       "  </thead>\n",
       "  <tbody>\n",
       "    <tr>\n",
       "      <th>0</th>\n",
       "      <td>x10-hk.com</td>\n",
       "      <td>automation@home » » | | quick find categories ...</td>\n",
       "      <td>en</td>\n",
       "      <td>[automation@home, », », |, |, quick, find, cat...</td>\n",
       "    </tr>\n",
       "    <tr>\n",
       "      <th>1</th>\n",
       "      <td>hupshenghware.com</td>\n",
       "      <td>captcha powered by imunify360 english hupsheng...</td>\n",
       "      <td>en</td>\n",
       "      <td>[captcha, powered, by, imunify360, english, hu...</td>\n",
       "    </tr>\n",
       "    <tr>\n",
       "      <th>2</th>\n",
       "      <td>soponyonosnack.com</td>\n",
       "      <td>soponyonosnack.com currencies: rupiah language...</td>\n",
       "      <td>en</td>\n",
       "      <td>[soponyonosnack.com, currencies:, rupiah, lang...</td>\n",
       "    </tr>\n",
       "    <tr>\n",
       "      <th>3</th>\n",
       "      <td>theromanticvineyard.com</td>\n",
       "      <td>wine train (blogroll) | the romantic vineyard ...</td>\n",
       "      <td>en</td>\n",
       "      <td>[wine, train, (blogroll), |, the, romantic, vi...</td>\n",
       "    </tr>\n",
       "    <tr>\n",
       "      <th>4</th>\n",
       "      <td>eopticians.co.uk</td>\n",
       "      <td>brands, base curve (bc): 8.4, base curve (bc):...</td>\n",
       "      <td>en</td>\n",
       "      <td>[brands,, base, curve, (bc):, 8.4,, base, curv...</td>\n",
       "    </tr>\n",
       "  </tbody>\n",
       "</table>\n",
       "</div>"
      ],
      "text/plain": [
       "                    DOMAIN                                        RAW_CONTENT  \\\n",
       "0               x10-hk.com  automation@home » » | | quick find categories ...   \n",
       "1        hupshenghware.com  captcha powered by imunify360 english hupsheng...   \n",
       "2       soponyonosnack.com  soponyonosnack.com currencies: rupiah language...   \n",
       "3  theromanticvineyard.com  wine train (blogroll) | the romantic vineyard ...   \n",
       "4         eopticians.co.uk  brands, base curve (bc): 8.4, base curve (bc):...   \n",
       "\n",
       "  LANGUAGE                                 RAW_CONTENT_PARSED  \n",
       "0       en  [automation@home, », », |, |, quick, find, cat...  \n",
       "1       en  [captcha, powered, by, imunify360, english, hu...  \n",
       "2       en  [soponyonosnack.com, currencies:, rupiah, lang...  \n",
       "3       en  [wine, train, (blogroll), |, the, romantic, vi...  \n",
       "4       en  [brands,, base, curve, (bc):, 8.4,, base, curv...  "
      ]
     },
     "execution_count": 10,
     "metadata": {},
     "output_type": "execute_result"
    }
   ],
   "source": [
    "df_en_2['RAW_CONTENT_PARSED'] = df_en_2['RAW_CONTENT'].apply(lambda row: row.split())\n",
    "df_en_2.head()"
   ]
  },
  {
   "cell_type": "code",
   "execution_count": 11,
   "metadata": {
    "colab": {
     "base_uri": "https://localhost:8080/",
     "height": 204
    },
    "id": "ZDozXidB5N-Y",
    "outputId": "eefbe9e5-8540-4cd2-eedd-692943c1342f"
   },
   "outputs": [
    {
     "data": {
      "text/html": [
       "<div>\n",
       "<style scoped>\n",
       "    .dataframe tbody tr th:only-of-type {\n",
       "        vertical-align: middle;\n",
       "    }\n",
       "\n",
       "    .dataframe tbody tr th {\n",
       "        vertical-align: top;\n",
       "    }\n",
       "\n",
       "    .dataframe thead th {\n",
       "        text-align: right;\n",
       "    }\n",
       "</style>\n",
       "<table border=\"1\" class=\"dataframe\">\n",
       "  <thead>\n",
       "    <tr style=\"text-align: right;\">\n",
       "      <th></th>\n",
       "      <th>DOMAIN</th>\n",
       "      <th>RAW_CONTENT</th>\n",
       "      <th>LANGUAGE</th>\n",
       "      <th>RAW_CONTENT_PARSED</th>\n",
       "    </tr>\n",
       "  </thead>\n",
       "  <tbody>\n",
       "    <tr>\n",
       "      <th>0</th>\n",
       "      <td>x10-hk.com</td>\n",
       "      <td>automation@home » » | | quick find categories ...</td>\n",
       "      <td>en</td>\n",
       "      <td>[automation@home, », », |, |, quick, find, cat...</td>\n",
       "    </tr>\n",
       "    <tr>\n",
       "      <th>1</th>\n",
       "      <td>hupshenghware.com</td>\n",
       "      <td>captcha powered by imunify360 english hupsheng...</td>\n",
       "      <td>en</td>\n",
       "      <td>[captcha, powered, by, imunify360, english, hu...</td>\n",
       "    </tr>\n",
       "    <tr>\n",
       "      <th>2</th>\n",
       "      <td>soponyonosnack.com</td>\n",
       "      <td>soponyonosnack.com currencies: rupiah language...</td>\n",
       "      <td>en</td>\n",
       "      <td>[soponyonosnack.com, currencies:, rupiah, lang...</td>\n",
       "    </tr>\n",
       "    <tr>\n",
       "      <th>3</th>\n",
       "      <td>theromanticvineyard.com</td>\n",
       "      <td>wine train (blogroll) | the romantic vineyard ...</td>\n",
       "      <td>en</td>\n",
       "      <td>[wine, train, (blogroll), |, the, romantic, vi...</td>\n",
       "    </tr>\n",
       "    <tr>\n",
       "      <th>4</th>\n",
       "      <td>eopticians.co.uk</td>\n",
       "      <td>brands, base curve (bc): 8.4, base curve (bc):...</td>\n",
       "      <td>en</td>\n",
       "      <td>[brands,, base, curve, (bc):, 8.4,, base, curv...</td>\n",
       "    </tr>\n",
       "  </tbody>\n",
       "</table>\n",
       "</div>"
      ],
      "text/plain": [
       "                    DOMAIN                                        RAW_CONTENT  \\\n",
       "0               x10-hk.com  automation@home » » | | quick find categories ...   \n",
       "1        hupshenghware.com  captcha powered by imunify360 english hupsheng...   \n",
       "2       soponyonosnack.com  soponyonosnack.com currencies: rupiah language...   \n",
       "3  theromanticvineyard.com  wine train (blogroll) | the romantic vineyard ...   \n",
       "4         eopticians.co.uk  brands, base curve (bc): 8.4, base curve (bc):...   \n",
       "\n",
       "  LANGUAGE                                 RAW_CONTENT_PARSED  \n",
       "0       en  [automation@home, », », |, |, quick, find, cat...  \n",
       "1       en  [captcha, powered, by, imunify360, english, hu...  \n",
       "2       en  [soponyonosnack.com, currencies:, rupiah, lang...  \n",
       "3       en  [wine, train, (blogroll), |, the, romantic, vi...  \n",
       "4       en  [brands,, base, curve, (bc):, 8.4,, base, curv...  "
      ]
     },
     "execution_count": 11,
     "metadata": {},
     "output_type": "execute_result"
    }
   ],
   "source": [
    "df_en_2['RAW_CONTENT_PARSED'] = df_en_2['RAW_CONTENT_PARSED'].apply(lambda row: [token.lower() for token in row])\n",
    "df_en_2.head()"
   ]
  },
  {
   "cell_type": "code",
   "execution_count": 12,
   "metadata": {
    "colab": {
     "base_uri": "https://localhost:8080/"
    },
    "id": "eWqHlxMGXDtV",
    "outputId": "578fdb3e-5e28-4799-ddc8-7d6e6217f62a"
   },
   "outputs": [
    {
     "name": "stdout",
     "output_type": "stream",
     "text": [
      "!\"#$%&'()*+,-./:;<=>?@[\\]^_`{|}~\n"
     ]
    }
   ],
   "source": [
    "print(string.punctuation)\n",
    "table = str.maketrans('', '', string.punctuation)"
   ]
  },
  {
   "cell_type": "code",
   "execution_count": 13,
   "metadata": {
    "id": "U5PqhWcmXFIX"
   },
   "outputs": [],
   "source": [
    "table = str.maketrans('', '', string.punctuation)\n",
    "df_en_2_content_tokens = [item for sublist in df_en_2['RAW_CONTENT_PARSED'].values for item in sublist]\n",
    "#df_en_2_content_tokens"
   ]
  },
  {
   "cell_type": "code",
   "execution_count": 14,
   "metadata": {
    "colab": {
     "base_uri": "https://localhost:8080/"
    },
    "id": "7WVtrfGVXHFO",
    "outputId": "060fbe22-6607-4f6f-a843-93e240934abc"
   },
   "outputs": [
    {
     "data": {
      "text/plain": [
       "['automationhome', '»', '»', '', '', 'quick', 'find', 'categories', '1', '67']"
      ]
     },
     "execution_count": 14,
     "metadata": {},
     "output_type": "execute_result"
    }
   ],
   "source": [
    "df_en_2_content_tokens_stripped = [w.translate(table) for w in df_en_2_content_tokens]\n",
    "df_en_2_content_tokens_stripped[:10]"
   ]
  },
  {
   "cell_type": "markdown",
   "metadata": {
    "id": "OUcaluylk4xW"
   },
   "source": [
    "## Stopwords"
   ]
  },
  {
   "cell_type": "code",
   "execution_count": 15,
   "metadata": {
    "colab": {
     "base_uri": "https://localhost:8080/"
    },
    "id": "2P4k7clFXIqh",
    "outputId": "79c15f4c-8f39-40ec-c0ed-927f5852678e"
   },
   "outputs": [
    {
     "data": {
      "text/plain": [
       "[('the', 381516),\n",
       " ('to', 281249),\n",
       " ('and', 265310),\n",
       " ('', 227972),\n",
       " ('of', 206615),\n",
       " ('a', 196801),\n",
       " ('in', 150442),\n",
       " ('you', 130155),\n",
       " ('for', 118715),\n",
       " ('is', 114845),\n",
       " ('i', 101680),\n",
       " ('your', 92100),\n",
       " ('that', 84403),\n",
       " ('on', 83377),\n",
       " ('with', 75019),\n",
       " ('it', 68168),\n",
       " ('this', 67572),\n",
       " ('are', 67458)]"
      ]
     },
     "execution_count": 15,
     "metadata": {},
     "output_type": "execute_result"
    }
   ],
   "source": [
    "counts_2 = Counter(df_en_2_content_tokens_stripped)\n",
    "#nltk stopword list is 179 words\n",
    "counts_2.most_common(18)"
   ]
  },
  {
   "cell_type": "code",
   "execution_count": 16,
   "metadata": {
    "colab": {
     "base_uri": "https://localhost:8080/"
    },
    "id": "jWQqqeX1XKd-",
    "outputId": "7edf34a0-36d8-45f4-9656-4080e3fb1fca"
   },
   "outputs": [
    {
     "name": "stdout",
     "output_type": "stream",
     "text": [
      "['i', 'me', 'my', 'myself', 'we', 'our', 'ours', 'ourselves', 'you', \"you're\", \"you've\", \"you'll\", \"you'd\", 'your', 'yours', 'yourself', 'yourselves', 'he', 'him', 'his', 'himself', 'she', \"she's\", 'her', 'hers', 'herself', 'it', \"it's\", 'its', 'itself', 'they', 'them', 'their', 'theirs', 'themselves', 'what', 'which', 'who', 'whom', 'this', 'that', \"that'll\", 'these', 'those', 'am', 'is', 'are', 'was', 'were', 'be', 'been', 'being', 'have', 'has', 'had', 'having', 'do', 'does', 'did', 'doing', 'a', 'an', 'the', 'and', 'but', 'if', 'or', 'because', 'as', 'until', 'while', 'of', 'at', 'by', 'for', 'with', 'about', 'against', 'between', 'into', 'through', 'during', 'before', 'after', 'above', 'below', 'to', 'from', 'up', 'down', 'in', 'out', 'on', 'off', 'over', 'under', 'again', 'further', 'then', 'once', 'here', 'there', 'when', 'where', 'why', 'how', 'all', 'any', 'both', 'each', 'few', 'more', 'most', 'other', 'some', 'such', 'no', 'nor', 'not', 'only', 'own', 'same', 'so', 'than', 'too', 'very', 's', 't', 'can', 'will', 'just', 'don', \"don't\", 'should', \"should've\", 'now', 'd', 'll', 'm', 'o', 're', 've', 'y', 'ain', 'aren', \"aren't\", 'couldn', \"couldn't\", 'didn', \"didn't\", 'doesn', \"doesn't\", 'hadn', \"hadn't\", 'hasn', \"hasn't\", 'haven', \"haven't\", 'isn', \"isn't\", 'ma', 'mightn', \"mightn't\", 'mustn', \"mustn't\", 'needn', \"needn't\", 'shan', \"shan't\", 'shouldn', \"shouldn't\", 'wasn', \"wasn't\", 'weren', \"weren't\", 'won', \"won't\", 'wouldn', \"wouldn't\"]\n"
     ]
    }
   ],
   "source": [
    "from nltk.corpus import stopwords\n",
    "print(stopwords.words('english'))"
   ]
  },
  {
   "cell_type": "code",
   "execution_count": 17,
   "metadata": {
    "colab": {
     "base_uri": "https://localhost:8080/"
    },
    "id": "3vFFhFQnXMUv",
    "outputId": "98ca5aa3-ef56-43f3-fcca-7c4b416bd343"
   },
   "outputs": [
    {
     "data": {
      "text/plain": [
       "179"
      ]
     },
     "execution_count": 17,
     "metadata": {},
     "output_type": "execute_result"
    }
   ],
   "source": [
    "len(stopwords.words('english'))"
   ]
  },
  {
   "cell_type": "code",
   "execution_count": 18,
   "metadata": {
    "id": "ghHHJM7FXNq7"
   },
   "outputs": [],
   "source": [
    "#counts_2.most_common(179)"
   ]
  },
  {
   "cell_type": "code",
   "execution_count": 19,
   "metadata": {
    "id": "RflMbYxoXPHu"
   },
   "outputs": [],
   "source": [
    "common_stopwords = set(stopwords.words('english'))"
   ]
  },
  {
   "cell_type": "code",
   "execution_count": 20,
   "metadata": {
    "id": "3UhsQdXrXQYY"
   },
   "outputs": [],
   "source": [
    "corpus_stopwords = set([i[0] for i in counts_2.most_common(179)])"
   ]
  },
  {
   "cell_type": "code",
   "execution_count": 21,
   "metadata": {
    "id": "Vt8hPgXLXR7s"
   },
   "outputs": [],
   "source": [
    "in_both_lists = common_stopwords.intersection(corpus_stopwords)"
   ]
  },
  {
   "cell_type": "code",
   "execution_count": 22,
   "metadata": {
    "colab": {
     "base_uri": "https://localhost:8080/"
    },
    "id": "qpH_o2fNXTV_",
    "outputId": "ec915245-464e-4445-9774-5844977cff9a"
   },
   "outputs": [
    {
     "data": {
      "text/plain": [
       "83"
      ]
     },
     "execution_count": 22,
     "metadata": {},
     "output_type": "execute_result"
    }
   ],
   "source": [
    "len(in_both_lists)"
   ]
  },
  {
   "cell_type": "code",
   "execution_count": 23,
   "metadata": {
    "colab": {
     "base_uri": "https://localhost:8080/"
    },
    "id": "eT5HzxsBXU0I",
    "outputId": "bb225898-2e34-44da-b863-cf36baabac84"
   },
   "outputs": [
    {
     "data": {
      "text/plain": [
       "['her', 'up', 'being', 'are', 'over', 'a', 'and', 'more', 'who', 'very']"
      ]
     },
     "execution_count": 23,
     "metadata": {},
     "output_type": "execute_result"
    }
   ],
   "source": [
    "list(in_both_lists)[:10]"
   ]
  },
  {
   "cell_type": "markdown",
   "metadata": {
    "id": "yt3GKbsI5xjC"
   },
   "source": [
    "## Heaps' Law"
   ]
  },
  {
   "cell_type": "code",
   "execution_count": 24,
   "metadata": {
    "colab": {
     "base_uri": "https://localhost:8080/",
     "height": 204
    },
    "id": "3TZdnZjcX6Z4",
    "outputId": "fa1d0e85-7549-4eaf-8661-dd3139770bb2"
   },
   "outputs": [
    {
     "data": {
      "text/html": [
       "<div>\n",
       "<style scoped>\n",
       "    .dataframe tbody tr th:only-of-type {\n",
       "        vertical-align: middle;\n",
       "    }\n",
       "\n",
       "    .dataframe tbody tr th {\n",
       "        vertical-align: top;\n",
       "    }\n",
       "\n",
       "    .dataframe thead th {\n",
       "        text-align: right;\n",
       "    }\n",
       "</style>\n",
       "<table border=\"1\" class=\"dataframe\">\n",
       "  <thead>\n",
       "    <tr style=\"text-align: right;\">\n",
       "      <th></th>\n",
       "      <th>DOMAIN</th>\n",
       "      <th>RAW_CONTENT</th>\n",
       "      <th>LANGUAGE</th>\n",
       "      <th>RAW_CONTENT_PARSED</th>\n",
       "    </tr>\n",
       "  </thead>\n",
       "  <tbody>\n",
       "    <tr>\n",
       "      <th>0</th>\n",
       "      <td>x10-hk.com</td>\n",
       "      <td>automation@home » » | | quick find categories ...</td>\n",
       "      <td>en</td>\n",
       "      <td>[automation@home, », », |, |, quick, find, cat...</td>\n",
       "    </tr>\n",
       "    <tr>\n",
       "      <th>1</th>\n",
       "      <td>hupshenghware.com</td>\n",
       "      <td>captcha powered by imunify360 english hupsheng...</td>\n",
       "      <td>en</td>\n",
       "      <td>[captcha, powered, by, imunify360, english, hu...</td>\n",
       "    </tr>\n",
       "    <tr>\n",
       "      <th>2</th>\n",
       "      <td>soponyonosnack.com</td>\n",
       "      <td>soponyonosnack.com currencies: rupiah language...</td>\n",
       "      <td>en</td>\n",
       "      <td>[soponyonosnack.com, currencies:, rupiah, lang...</td>\n",
       "    </tr>\n",
       "    <tr>\n",
       "      <th>3</th>\n",
       "      <td>theromanticvineyard.com</td>\n",
       "      <td>wine train (blogroll) | the romantic vineyard ...</td>\n",
       "      <td>en</td>\n",
       "      <td>[wine, train, (blogroll), |, the, romantic, vi...</td>\n",
       "    </tr>\n",
       "    <tr>\n",
       "      <th>4</th>\n",
       "      <td>eopticians.co.uk</td>\n",
       "      <td>brands, base curve (bc): 8.4, base curve (bc):...</td>\n",
       "      <td>en</td>\n",
       "      <td>[brands,, base, curve, (bc):, 8.4,, base, curv...</td>\n",
       "    </tr>\n",
       "  </tbody>\n",
       "</table>\n",
       "</div>"
      ],
      "text/plain": [
       "                    DOMAIN                                        RAW_CONTENT  \\\n",
       "0               x10-hk.com  automation@home » » | | quick find categories ...   \n",
       "1        hupshenghware.com  captcha powered by imunify360 english hupsheng...   \n",
       "2       soponyonosnack.com  soponyonosnack.com currencies: rupiah language...   \n",
       "3  theromanticvineyard.com  wine train (blogroll) | the romantic vineyard ...   \n",
       "4         eopticians.co.uk  brands, base curve (bc): 8.4, base curve (bc):...   \n",
       "\n",
       "  LANGUAGE                                 RAW_CONTENT_PARSED  \n",
       "0       en  [automation@home, », », |, |, quick, find, cat...  \n",
       "1       en  [captcha, powered, by, imunify360, english, hu...  \n",
       "2       en  [soponyonosnack.com, currencies:, rupiah, lang...  \n",
       "3       en  [wine, train, (blogroll), |, the, romantic, vi...  \n",
       "4       en  [brands,, base, curve, (bc):, 8.4,, base, curv...  "
      ]
     },
     "execution_count": 24,
     "metadata": {},
     "output_type": "execute_result"
    }
   ],
   "source": [
    "df_en_2.head()"
   ]
  },
  {
   "cell_type": "code",
   "execution_count": 25,
   "metadata": {
    "colab": {
     "base_uri": "https://localhost:8080/",
     "height": 204
    },
    "id": "ydYc_gioX-AO",
    "outputId": "f2cc3135-e802-4b35-f33e-ad2c4d2c6aab"
   },
   "outputs": [
    {
     "data": {
      "text/html": [
       "<div>\n",
       "<style scoped>\n",
       "    .dataframe tbody tr th:only-of-type {\n",
       "        vertical-align: middle;\n",
       "    }\n",
       "\n",
       "    .dataframe tbody tr th {\n",
       "        vertical-align: top;\n",
       "    }\n",
       "\n",
       "    .dataframe thead th {\n",
       "        text-align: right;\n",
       "    }\n",
       "</style>\n",
       "<table border=\"1\" class=\"dataframe\">\n",
       "  <thead>\n",
       "    <tr style=\"text-align: right;\">\n",
       "      <th></th>\n",
       "      <th>DOMAIN</th>\n",
       "      <th>RAW_CONTENT</th>\n",
       "      <th>LANGUAGE</th>\n",
       "      <th>RAW_CONTENT_PARSED</th>\n",
       "    </tr>\n",
       "  </thead>\n",
       "  <tbody>\n",
       "    <tr>\n",
       "      <th>0</th>\n",
       "      <td>x10-hk.com</td>\n",
       "      <td>automation@home » » | | quick find categories ...</td>\n",
       "      <td>en</td>\n",
       "      <td>[automation@home, », », |, |, quick, find, cat...</td>\n",
       "    </tr>\n",
       "    <tr>\n",
       "      <th>1</th>\n",
       "      <td>hupshenghware.com</td>\n",
       "      <td>captcha powered by imunify360 english hupsheng...</td>\n",
       "      <td>en</td>\n",
       "      <td>[captcha, powered, by, imunify360, english, hu...</td>\n",
       "    </tr>\n",
       "    <tr>\n",
       "      <th>2</th>\n",
       "      <td>soponyonosnack.com</td>\n",
       "      <td>soponyonosnack.com currencies: rupiah language...</td>\n",
       "      <td>en</td>\n",
       "      <td>[soponyonosnack.com, currencies:, rupiah, lang...</td>\n",
       "    </tr>\n",
       "    <tr>\n",
       "      <th>3</th>\n",
       "      <td>theromanticvineyard.com</td>\n",
       "      <td>wine train (blogroll) | the romantic vineyard ...</td>\n",
       "      <td>en</td>\n",
       "      <td>[wine, train, (blogroll), |, the, romantic, vi...</td>\n",
       "    </tr>\n",
       "    <tr>\n",
       "      <th>4</th>\n",
       "      <td>eopticians.co.uk</td>\n",
       "      <td>brands, base curve (bc): 8.4, base curve (bc):...</td>\n",
       "      <td>en</td>\n",
       "      <td>[brands,, base, curve, (bc):, 8.4,, base, curv...</td>\n",
       "    </tr>\n",
       "  </tbody>\n",
       "</table>\n",
       "</div>"
      ],
      "text/plain": [
       "                    DOMAIN                                        RAW_CONTENT  \\\n",
       "0               x10-hk.com  automation@home » » | | quick find categories ...   \n",
       "1        hupshenghware.com  captcha powered by imunify360 english hupsheng...   \n",
       "2       soponyonosnack.com  soponyonosnack.com currencies: rupiah language...   \n",
       "3  theromanticvineyard.com  wine train (blogroll) | the romantic vineyard ...   \n",
       "4         eopticians.co.uk  brands, base curve (bc): 8.4, base curve (bc):...   \n",
       "\n",
       "  LANGUAGE                                 RAW_CONTENT_PARSED  \n",
       "0       en  [automation@home, », », |, |, quick, find, cat...  \n",
       "1       en  [captcha, powered, by, imunify360, english, hu...  \n",
       "2       en  [soponyonosnack.com, currencies:, rupiah, lang...  \n",
       "3       en  [wine, train, (blogroll), |, the, romantic, vi...  \n",
       "4       en  [brands,, base, curve, (bc):, 8.4,, base, curv...  "
      ]
     },
     "execution_count": 25,
     "metadata": {},
     "output_type": "execute_result"
    }
   ],
   "source": [
    "df_en_2_new = df_en_2.reset_index()\n",
    "df_en_2_new = df_en_2_new.drop(columns=['index'])\n",
    "df_en_2_new.head()"
   ]
  },
  {
   "cell_type": "code",
   "execution_count": 26,
   "metadata": {
    "id": "enGAIElFX_0A"
   },
   "outputs": [],
   "source": [
    "# number of documents processed, number of unique \n",
    "num_docs_num_unique = [(0,0)]\n",
    "unique = set()\n",
    "for index,row in df_en_2_new.iterrows():\n",
    "    unique.update(row['RAW_CONTENT_PARSED'])\n",
    "    num_docs = index + 1\n",
    "    num_unique = len(unique)\n",
    "    num_docs_num_unique.append((num_docs, num_unique))"
   ]
  },
  {
   "cell_type": "code",
   "execution_count": 27,
   "metadata": {
    "colab": {
     "base_uri": "https://localhost:8080/",
     "height": 265
    },
    "id": "cuFC4PMIYBQF",
    "outputId": "67a6e6d5-5fdf-4dd5-9ef6-fe91bf0ecee1"
   },
   "outputs": [
    {
     "data": {
      "image/png": "[encoded data removed]",
      "text/plain": [
       "<Figure size 432x288 with 1 Axes>"
      ]
     },
     "metadata": {
      "needs_background": "light"
     },
     "output_type": "display_data"
    }
   ],
   "source": [
    "import matplotlib.pyplot as plt\n",
    "%matplotlib inline\n",
    "\n",
    "x, y = zip(*num_docs_num_unique)\n",
    "plt.scatter(x, y)\n",
    "plt.show()"
   ]
  },
  {
   "cell_type": "code",
   "execution_count": 28,
   "metadata": {
    "id": "wyPIgl8tYC5t"
   },
   "outputs": [],
   "source": [
    "most_to_least = sorted(counts_2.items(), key=lambda item: item[1], reverse=True)\n",
    "most_to_least_plot_items = []\n",
    "for index, item in enumerate(most_to_least):\n",
    "    most_to_least_plot_items.append((index, item[1]))"
   ]
  },
  {
   "cell_type": "code",
   "execution_count": 29,
   "metadata": {
    "colab": {
     "base_uri": "https://localhost:8080/",
     "height": 269
    },
    "id": "cx6tz7dKYEUQ",
    "outputId": "9cd80e20-28af-4ed3-8f73-2d6915a75375"
   },
   "outputs": [
    {
     "data": {
      "image/png": "[encoded data removed]",
      "text/plain": [
       "<Figure size 432x288 with 1 Axes>"
      ]
     },
     "metadata": {
      "needs_background": "light"
     },
     "output_type": "display_data"
    }
   ],
   "source": [
    "x, y = zip(*most_to_least_plot_items)\n",
    "plt.scatter(x, y)\n",
    "plt.show()"
   ]
  },
  {
   "cell_type": "markdown",
   "metadata": {
    "id": "yueNPQ4-580o"
   },
   "source": [
    "## Zipf's Law"
   ]
  },
  {
   "cell_type": "code",
   "execution_count": 30,
   "metadata": {
    "id": "XABYTPSbYrK7"
   },
   "outputs": [],
   "source": [
    "most_to_least_2 = sorted(counts_2.items(), key=lambda item: item[1], reverse=True)\n",
    "most_to_least_plot_items_2 = []\n",
    "for index, item in enumerate(most_to_least):\n",
    "    if index < 20:\n",
    "        continue\n",
    "    if index >= 500:\n",
    "        break\n",
    "    most_to_least_plot_items_2.append((index, item[1]))"
   ]
  },
  {
   "cell_type": "code",
   "execution_count": 31,
   "metadata": {
    "colab": {
     "base_uri": "https://localhost:8080/",
     "height": 265
    },
    "id": "8lSF4oxnYtzd",
    "outputId": "813e29c4-44ff-4e4c-bce1-82c5cb9498a8"
   },
   "outputs": [
    {
     "data": {
      "image/png": "[encoded data removed]",
      "text/plain": [
       "<Figure size 432x288 with 1 Axes>"
      ]
     },
     "metadata": {
      "needs_background": "light"
     },
     "output_type": "display_data"
    }
   ],
   "source": [
    "x2, y2 = zip(*most_to_least_plot_items_2)\n",
    "plt.scatter(x2, y2)\n",
    "plt.show()"
   ]
  },
  {
   "cell_type": "code",
   "execution_count": 32,
   "metadata": {
    "id": "mmWNQuH7Yvfx"
   },
   "outputs": [],
   "source": [
    "#most_to_least_plot_items_2"
   ]
  },
  {
   "cell_type": "markdown",
   "metadata": {
    "id": "LslkDlvVxvBu"
   },
   "source": [
    "## Stopword lists"
   ]
  },
  {
   "cell_type": "code",
   "execution_count": 33,
   "metadata": {
    "id": "CZXzRSGIgbKT"
   },
   "outputs": [],
   "source": [
    "common_stopwords = set(stopwords.words('english'))"
   ]
  },
  {
   "cell_type": "code",
   "execution_count": 34,
   "metadata": {},
   "outputs": [],
   "source": [
    "with open('../../processed_files/common_stopwords.pickle', 'wb') as file:\n",
    "    pickle.dump(common_stopwords, file)"
   ]
  },
  {
   "cell_type": "code",
   "execution_count": 35,
   "metadata": {
    "id": "_VKxDzKrxyJa"
   },
   "outputs": [],
   "source": [
    "corpus_stopwords = set([i[0] for i in counts_2.most_common(100)])"
   ]
  },
  {
   "cell_type": "code",
   "execution_count": 36,
   "metadata": {},
   "outputs": [],
   "source": [
    "with open('../../processed_files/corpus_stopwords.pickle', 'wb') as file:\n",
    "    pickle.dump(corpus_stopwords, file)"
   ]
  },
  {
   "cell_type": "code",
   "execution_count": 37,
   "metadata": {
    "id": "YvFlzDn0zuUB"
   },
   "outputs": [],
   "source": [
    "combined_stopwords = common_stopwords.union(corpus_stopwords)"
   ]
  },
  {
   "cell_type": "code",
   "execution_count": 38,
   "metadata": {},
   "outputs": [],
   "source": [
    "with open('../../processed_files/combined_stopwords.pickle', 'wb') as file:\n",
    "    pickle.dump(combined_stopwords, file)"
   ]
  },
  {
   "cell_type": "code",
   "execution_count": null,
   "metadata": {},
   "outputs": [],
   "source": []
  }
 ],
 "metadata": {
  "colab": {
   "collapsed_sections": [],
   "name": "MastersProject.ipynb",
   "provenance": []
  },
  "kernelspec": {
   "display_name": "Python 3",
   "language": "python",
   "name": "python3"
  },
  "language_info": {
   "codemirror_mode": {
    "name": "ipython",
    "version": 3
   },
   "file_extension": ".py",
   "mimetype": "text/x-python",
   "name": "python",
   "nbconvert_exporter": "python",
   "pygments_lexer": "ipython3",
   "version": "3.7.1"
  }
 },
 "nbformat": 4,
 "nbformat_minor": 1
}
