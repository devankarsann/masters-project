{
 "cells": [
  {
   "cell_type": "code",
   "execution_count": 1,
   "metadata": {},
   "outputs": [
    {
     "data": {
      "text/html": [
       "<style>.container { width:95% !important; }</style>"
      ],
      "text/plain": [
       "<IPython.core.display.HTML object>"
      ]
     },
     "metadata": {},
     "output_type": "display_data"
    }
   ],
   "source": [
    "from IPython.core.display import display, HTML\n",
    "display(HTML(\"<style>.container { width:95% !important; }</style>\"))"
   ]
  },
  {
   "cell_type": "markdown",
   "metadata": {
    "id": "FYVUGSFLf_qE"
   },
   "source": [
    "## Libraries and Filesystem Setup"
   ]
  },
  {
   "cell_type": "code",
   "execution_count": 2,
   "metadata": {
    "colab": {
     "base_uri": "https://localhost:8080/"
    },
    "id": "uqRQxTVbf39P",
    "outputId": "aecc64fb-dc6f-4d45-f5a3-98ec0b70cbfe"
   },
   "outputs": [
    {
     "name": "stderr",
     "output_type": "stream",
     "text": [
      "[nltk_data] Downloading package punkt to /Users/dkarsann/nltk_data...\n",
      "[nltk_data]   Package punkt is already up-to-date!\n",
      "[nltk_data] Downloading package stopwords to\n",
      "[nltk_data]     /Users/dkarsann/nltk_data...\n",
      "[nltk_data]   Package stopwords is already up-to-date!\n"
     ]
    }
   ],
   "source": [
    "import nltk\n",
    "nltk.download('punkt')\n",
    "nltk.download('stopwords')\n",
    "from nltk.tokenize import sent_tokenize, word_tokenize \n",
    "import pandas as pd\n",
    "from collections import Counter\n",
    "import string\n",
    "import pickle"
   ]
  },
  {
   "cell_type": "markdown",
   "metadata": {
    "id": "QQ6l1wSdkgzb"
   },
   "source": [
    "## Parsing and Processing Content"
   ]
  },
  {
   "cell_type": "code",
   "execution_count": 4,
   "metadata": {
    "id": "YzpdheaVXAp0"
   },
   "outputs": [],
   "source": [
    "df_en_2 = pd.read_csv('../../processed_files/only_en.csv')"
   ]
  },
  {
   "cell_type": "code",
   "execution_count": 5,
   "metadata": {},
   "outputs": [
    {
     "data": {
      "text/html": [
       "<div>\n",
       "<style scoped>\n",
       "    .dataframe tbody tr th:only-of-type {\n",
       "        vertical-align: middle;\n",
       "    }\n",
       "\n",
       "    .dataframe tbody tr th {\n",
       "        vertical-align: top;\n",
       "    }\n",
       "\n",
       "    .dataframe thead th {\n",
       "        text-align: right;\n",
       "    }\n",
       "</style>\n",
       "<table border=\"1\" class=\"dataframe\">\n",
       "  <thead>\n",
       "    <tr style=\"text-align: right;\">\n",
       "      <th></th>\n",
       "      <th>DOMAIN</th>\n",
       "      <th>RAW_CONTENT</th>\n",
       "      <th>LANGUAGE</th>\n",
       "      <th>RAW_CONTENT_TRIGRAM</th>\n",
       "    </tr>\n",
       "  </thead>\n",
       "  <tbody>\n",
       "    <tr>\n",
       "      <th>0</th>\n",
       "      <td>x10-hk.com</td>\n",
       "      <td>automation@home » » | | quick find categories ...</td>\n",
       "      <td>en</td>\n",
       "      <td>[automation@home » », » » |, » | |, | | quick,...</td>\n",
       "    </tr>\n",
       "    <tr>\n",
       "      <th>1</th>\n",
       "      <td>hupshenghware.com</td>\n",
       "      <td>captcha powered by imunify360 english hupsheng...</td>\n",
       "      <td>en</td>\n",
       "      <td>[captcha powered by, powered by imunify360, by...</td>\n",
       "    </tr>\n",
       "    <tr>\n",
       "      <th>2</th>\n",
       "      <td>soponyonosnack.com</td>\n",
       "      <td>soponyonosnack.com currencies: rupiah language...</td>\n",
       "      <td>en</td>\n",
       "      <td>[soponyonosnack.com currencies: rupiah, curren...</td>\n",
       "    </tr>\n",
       "    <tr>\n",
       "      <th>3</th>\n",
       "      <td>theromanticvineyard.com</td>\n",
       "      <td>wine train (blogroll) | the romantic vineyard ...</td>\n",
       "      <td>en</td>\n",
       "      <td>[wine train (blogroll), train (blogroll) |, (b...</td>\n",
       "    </tr>\n",
       "    <tr>\n",
       "      <th>4</th>\n",
       "      <td>eopticians.co.uk</td>\n",
       "      <td>brands, base curve (bc): 8.4, base curve (bc):...</td>\n",
       "      <td>en</td>\n",
       "      <td>[brands, base curve, base curve (bc):, curve (...</td>\n",
       "    </tr>\n",
       "  </tbody>\n",
       "</table>\n",
       "</div>"
      ],
      "text/plain": [
       "                    DOMAIN                                        RAW_CONTENT  \\\n",
       "0               x10-hk.com  automation@home » » | | quick find categories ...   \n",
       "1        hupshenghware.com  captcha powered by imunify360 english hupsheng...   \n",
       "2       soponyonosnack.com  soponyonosnack.com currencies: rupiah language...   \n",
       "3  theromanticvineyard.com  wine train (blogroll) | the romantic vineyard ...   \n",
       "4         eopticians.co.uk  brands, base curve (bc): 8.4, base curve (bc):...   \n",
       "\n",
       "  LANGUAGE                                RAW_CONTENT_TRIGRAM  \n",
       "0       en  [automation@home » », » » |, » | |, | | quick,...  \n",
       "1       en  [captcha powered by, powered by imunify360, by...  \n",
       "2       en  [soponyonosnack.com currencies: rupiah, curren...  \n",
       "3       en  [wine train (blogroll), train (blogroll) |, (b...  \n",
       "4       en  [brands, base curve, base curve (bc):, curve (...  "
      ]
     },
     "execution_count": 5,
     "metadata": {},
     "output_type": "execute_result"
    }
   ],
   "source": [
    "df_en_2['RAW_CONTENT_TRIGRAM'] = df_en_2['RAW_CONTENT'].apply(lambda row: [' '.join(phrase) for phrase in nltk.trigrams(row.lower().split())])\n",
    "df_en_2.head()"
   ]
  },
  {
   "cell_type": "code",
   "execution_count": 6,
   "metadata": {
    "colab": {
     "base_uri": "https://localhost:8080/"
    },
    "id": "eWqHlxMGXDtV",
    "outputId": "578fdb3e-5e28-4799-ddc8-7d6e6217f62a"
   },
   "outputs": [
    {
     "name": "stdout",
     "output_type": "stream",
     "text": [
      "!\"#$%&'()*+,-./:;<=>?@[\\]^_`{|}~\n"
     ]
    }
   ],
   "source": [
    "print(string.punctuation)\n",
    "table = str.maketrans('', '', string.punctuation)"
   ]
  },
  {
   "cell_type": "code",
   "execution_count": 7,
   "metadata": {
    "colab": {
     "base_uri": "https://localhost:8080/"
    },
    "id": "7WVtrfGVXHFO",
    "outputId": "060fbe22-6607-4f6f-a843-93e240934abc"
   },
   "outputs": [
    {
     "data": {
      "text/plain": [
       "['automationhome » »',\n",
       " 'quick find categories',\n",
       " 'find categories 1',\n",
       " 'categories 1 67',\n",
       " '1 67 2',\n",
       " '67 2 2',\n",
       " '2 2 2',\n",
       " '2 2 9',\n",
       " '2 9 11',\n",
       " '9 11 80']"
      ]
     },
     "execution_count": 7,
     "metadata": {},
     "output_type": "execute_result"
    }
   ],
   "source": [
    "df_en_2_trigram_tokens = [item for sublist in df_en_2['RAW_CONTENT_TRIGRAM'].values for item in sublist]\n",
    "df_en_2_trigram_tokens_stripped = [w.translate(table) for w in df_en_2_trigram_tokens]\n",
    "df_en_2_trigram_tokens_stripped = [phrase.strip() for phrase in df_en_2_trigram_tokens_stripped if len(phrase.strip().split()) == 3]\n",
    "df_en_2_trigram_tokens_stripped[:10]"
   ]
  },
  {
   "cell_type": "markdown",
   "metadata": {
    "id": "OUcaluylk4xW"
   },
   "source": [
    "## StopPhrases"
   ]
  },
  {
   "cell_type": "code",
   "execution_count": 8,
   "metadata": {
    "scrolled": false
   },
   "outputs": [
    {
     "data": {
      "text/plain": [
       "[('• • •', 10535),\n",
       " ('you are commenting', 5720),\n",
       " ('are commenting using', 5720),\n",
       " ('commenting using your', 5720),\n",
       " ('all rights reserved', 5328),\n",
       " ('your email address', 4124),\n",
       " ('as well as', 3898),\n",
       " ('copyright © 2020', 3674),\n",
       " ('one of the', 3669),\n",
       " ('liked by says', 3577),\n",
       " ('notify me of', 2965),\n",
       " ('me of new', 2915),\n",
       " ('leave a reply', 2835),\n",
       " ('of new posts', 2728),\n",
       " ('a lot of', 2627),\n",
       " ('1 1 1', 2611),\n",
       " ('posts by email', 2137),\n",
       " ('thank you for', 2137),\n",
       " ('will not be', 1927),\n",
       " ('you want to', 1877),\n",
       " ('thislike thislike loading', 1845),\n",
       " ('be able to', 1812),\n",
       " ('share thislike thislike', 1794),\n",
       " ('if you are', 1790),\n",
       " ('best wordpress themes', 1767),\n",
       " ('archives categories meta', 1752),\n",
       " ('bloggers like this', 1694),\n",
       " ('d bloggers like', 1693),\n",
       " ('you need to', 1602),\n",
       " ('welcome to our', 1593),\n",
       " ('enter your email', 1570),\n",
       " ('to find out', 1511),\n",
       " ('meta copyright ©', 1477),\n",
       " ('categories meta copyright', 1470),\n",
       " ('to our blog', 1469),\n",
       " ('rights reserved theme', 1469),\n",
       " ('email notify me', 1464),\n",
       " ('reserved theme by', 1464),\n",
       " ('theme by famethemes', 1459),\n",
       " ('search for links', 1457),\n",
       " ('your facebook account', 1455),\n",
       " ('if you have', 1448),\n",
       " ('enter your comment', 1447),\n",
       " ('website you are', 1447),\n",
       " ('email address will', 1444),\n",
       " ('how can i', 1440),\n",
       " ('address will not', 1439),\n",
       " ('not be published', 1439),\n",
       " ('posts via email', 1438),\n",
       " ('your twitter account', 1437),\n",
       " ('your google account', 1434),\n",
       " ('your comment here', 1433),\n",
       " ('using your facebook', 1432),\n",
       " ('address never made', 1431),\n",
       " ('using your google', 1431),\n",
       " ('using your twitter', 1431),\n",
       " ('never made public', 1430),\n",
       " ('made public name', 1430),\n",
       " ('using your wordpresscom', 1430),\n",
       " ('your wordpresscom account', 1430),\n",
       " ('connecting to s', 1430),\n",
       " ('to s notify', 1430),\n",
       " ('s notify me', 1430),\n",
       " ('comments via email', 1430),\n",
       " ('new posts via', 1427),\n",
       " ('of new comments', 1425),\n",
       " ('new comments via', 1425),\n",
       " ('to log in', 1418),\n",
       " ('be published required', 1416),\n",
       " ('via email notify', 1414),\n",
       " ('required fields are', 1409),\n",
       " ('fields are marked', 1408),\n",
       " ('fill in your', 1402),\n",
       " ('published required fields', 1402),\n",
       " ('last post by', 1393),\n",
       " ('log in email', 1392),\n",
       " ('some of the', 1386),\n",
       " ('click an icon', 1383),\n",
       " ('an icon to', 1383),\n",
       " ('in your details', 1380),\n",
       " ('your details below', 1380),\n",
       " ('below or click', 1380),\n",
       " ('icon to log', 1378),\n",
       " ('comment here fill', 1377),\n",
       " ('here fill in', 1377),\n",
       " ('details below or', 1377),\n",
       " ('or click an', 1377),\n",
       " ('can i lose', 1371),\n",
       " ('a reply your', 1368),\n",
       " ('reply your email', 1367),\n",
       " ('wordpress themes for', 1366),\n",
       " ('in order to', 1354),\n",
       " ('this site uses', 1352),\n",
       " ('part of the', 1339),\n",
       " ('to use this', 1311),\n",
       " ('email address to', 1308),\n",
       " ('for more details', 1305),\n",
       " ('new posts by', 1303),\n",
       " ('to help you', 1262),\n",
       " ('email required address', 1255),\n",
       " ('required address never', 1255),\n",
       " ('public name required', 1255),\n",
       " ('name required website', 1255),\n",
       " ('required website you', 1255),\n",
       " ('add to cart', 1244),\n",
       " ('receive notifications of', 1242),\n",
       " ('notifications of new', 1242),\n",
       " ('you agree to', 1236),\n",
       " ('this blog and', 1226),\n",
       " ('and receive notifications', 1225),\n",
       " ('find out more', 1213),\n",
       " ('in email required', 1208),\n",
       " ('website search for', 1202),\n",
       " ('posted on by', 1200),\n",
       " ('service provider for', 1181),\n",
       " ('this is a', 1180),\n",
       " ('for links visitors', 1175),\n",
       " ('visitors archives categories', 1175),\n",
       " ('blog and receive', 1170),\n",
       " ('reply enter your', 1170),\n",
       " ('please contact your', 1169),\n",
       " ('a reply enter', 1169),\n",
       " ('provider for more', 1160),\n",
       " ('is one of', 1155),\n",
       " ('new sponsor for', 1154),\n",
       " ('your service provider', 1153),\n",
       " ('to be a', 1153),\n",
       " ('page cannot be', 1151),\n",
       " ('cannot be displayed', 1151),\n",
       " ('be displayed please', 1151),\n",
       " ('contact your service', 1151),\n",
       " ('error page cannot', 1150),\n",
       " ('displayed please contact', 1150),\n",
       " ('is under construction', 1146),\n",
       " ('sponsor for 2020', 1140),\n",
       " ('says thank you', 1096),\n",
       " ('use this website', 1089),\n",
       " ('by continuing to', 1078),\n",
       " ('the united states', 1070),\n",
       " ('this website you', 1068),\n",
       " ('that you are', 1061),\n",
       " ('name email address', 1057),\n",
       " ('site uses cookies', 1053),\n",
       " ('would like to', 1042),\n",
       " ('website you agree', 1036),\n",
       " ('on on on', 1034),\n",
       " ('address to follow', 1027),\n",
       " ('continuing to use', 1021),\n",
       " ('there is a', 1020),\n",
       " ('uses cookies by', 1015)]"
      ]
     },
     "execution_count": 8,
     "metadata": {},
     "output_type": "execute_result"
    }
   ],
   "source": [
    "counts_trigrams = Counter(df_en_2_trigram_tokens_stripped)\n",
    "counts_trigrams.most_common(150)"
   ]
  },
  {
   "cell_type": "markdown",
   "metadata": {},
   "source": [
    "## Heaps' Law Trigrams"
   ]
  },
  {
   "cell_type": "code",
   "execution_count": 9,
   "metadata": {},
   "outputs": [
    {
     "data": {
      "text/html": [
       "<div>\n",
       "<style scoped>\n",
       "    .dataframe tbody tr th:only-of-type {\n",
       "        vertical-align: middle;\n",
       "    }\n",
       "\n",
       "    .dataframe tbody tr th {\n",
       "        vertical-align: top;\n",
       "    }\n",
       "\n",
       "    .dataframe thead th {\n",
       "        text-align: right;\n",
       "    }\n",
       "</style>\n",
       "<table border=\"1\" class=\"dataframe\">\n",
       "  <thead>\n",
       "    <tr style=\"text-align: right;\">\n",
       "      <th></th>\n",
       "      <th>DOMAIN</th>\n",
       "      <th>RAW_CONTENT</th>\n",
       "      <th>LANGUAGE</th>\n",
       "      <th>RAW_CONTENT_TRIGRAM</th>\n",
       "    </tr>\n",
       "  </thead>\n",
       "  <tbody>\n",
       "    <tr>\n",
       "      <th>0</th>\n",
       "      <td>x10-hk.com</td>\n",
       "      <td>automation@home » » | | quick find categories ...</td>\n",
       "      <td>en</td>\n",
       "      <td>[automation@home » », » » |, » | |, | | quick,...</td>\n",
       "    </tr>\n",
       "    <tr>\n",
       "      <th>1</th>\n",
       "      <td>hupshenghware.com</td>\n",
       "      <td>captcha powered by imunify360 english hupsheng...</td>\n",
       "      <td>en</td>\n",
       "      <td>[captcha powered by, powered by imunify360, by...</td>\n",
       "    </tr>\n",
       "    <tr>\n",
       "      <th>2</th>\n",
       "      <td>soponyonosnack.com</td>\n",
       "      <td>soponyonosnack.com currencies: rupiah language...</td>\n",
       "      <td>en</td>\n",
       "      <td>[soponyonosnack.com currencies: rupiah, curren...</td>\n",
       "    </tr>\n",
       "    <tr>\n",
       "      <th>3</th>\n",
       "      <td>theromanticvineyard.com</td>\n",
       "      <td>wine train (blogroll) | the romantic vineyard ...</td>\n",
       "      <td>en</td>\n",
       "      <td>[wine train (blogroll), train (blogroll) |, (b...</td>\n",
       "    </tr>\n",
       "    <tr>\n",
       "      <th>4</th>\n",
       "      <td>eopticians.co.uk</td>\n",
       "      <td>brands, base curve (bc): 8.4, base curve (bc):...</td>\n",
       "      <td>en</td>\n",
       "      <td>[brands, base curve, base curve (bc):, curve (...</td>\n",
       "    </tr>\n",
       "  </tbody>\n",
       "</table>\n",
       "</div>"
      ],
      "text/plain": [
       "                    DOMAIN                                        RAW_CONTENT  \\\n",
       "0               x10-hk.com  automation@home » » | | quick find categories ...   \n",
       "1        hupshenghware.com  captcha powered by imunify360 english hupsheng...   \n",
       "2       soponyonosnack.com  soponyonosnack.com currencies: rupiah language...   \n",
       "3  theromanticvineyard.com  wine train (blogroll) | the romantic vineyard ...   \n",
       "4         eopticians.co.uk  brands, base curve (bc): 8.4, base curve (bc):...   \n",
       "\n",
       "  LANGUAGE                                RAW_CONTENT_TRIGRAM  \n",
       "0       en  [automation@home » », » » |, » | |, | | quick,...  \n",
       "1       en  [captcha powered by, powered by imunify360, by...  \n",
       "2       en  [soponyonosnack.com currencies: rupiah, curren...  \n",
       "3       en  [wine train (blogroll), train (blogroll) |, (b...  \n",
       "4       en  [brands, base curve, base curve (bc):, curve (...  "
      ]
     },
     "execution_count": 9,
     "metadata": {},
     "output_type": "execute_result"
    }
   ],
   "source": [
    "df_en_2.head()"
   ]
  },
  {
   "cell_type": "code",
   "execution_count": 10,
   "metadata": {},
   "outputs": [
    {
     "data": {
      "text/html": [
       "<div>\n",
       "<style scoped>\n",
       "    .dataframe tbody tr th:only-of-type {\n",
       "        vertical-align: middle;\n",
       "    }\n",
       "\n",
       "    .dataframe tbody tr th {\n",
       "        vertical-align: top;\n",
       "    }\n",
       "\n",
       "    .dataframe thead th {\n",
       "        text-align: right;\n",
       "    }\n",
       "</style>\n",
       "<table border=\"1\" class=\"dataframe\">\n",
       "  <thead>\n",
       "    <tr style=\"text-align: right;\">\n",
       "      <th></th>\n",
       "      <th>DOMAIN</th>\n",
       "      <th>RAW_CONTENT</th>\n",
       "      <th>LANGUAGE</th>\n",
       "      <th>RAW_CONTENT_TRIGRAM</th>\n",
       "    </tr>\n",
       "  </thead>\n",
       "  <tbody>\n",
       "    <tr>\n",
       "      <th>0</th>\n",
       "      <td>x10-hk.com</td>\n",
       "      <td>automation@home » » | | quick find categories ...</td>\n",
       "      <td>en</td>\n",
       "      <td>[automation@home » », » » |, » | |, | | quick,...</td>\n",
       "    </tr>\n",
       "    <tr>\n",
       "      <th>1</th>\n",
       "      <td>hupshenghware.com</td>\n",
       "      <td>captcha powered by imunify360 english hupsheng...</td>\n",
       "      <td>en</td>\n",
       "      <td>[captcha powered by, powered by imunify360, by...</td>\n",
       "    </tr>\n",
       "    <tr>\n",
       "      <th>2</th>\n",
       "      <td>soponyonosnack.com</td>\n",
       "      <td>soponyonosnack.com currencies: rupiah language...</td>\n",
       "      <td>en</td>\n",
       "      <td>[soponyonosnack.com currencies: rupiah, curren...</td>\n",
       "    </tr>\n",
       "    <tr>\n",
       "      <th>3</th>\n",
       "      <td>theromanticvineyard.com</td>\n",
       "      <td>wine train (blogroll) | the romantic vineyard ...</td>\n",
       "      <td>en</td>\n",
       "      <td>[wine train (blogroll), train (blogroll) |, (b...</td>\n",
       "    </tr>\n",
       "    <tr>\n",
       "      <th>4</th>\n",
       "      <td>eopticians.co.uk</td>\n",
       "      <td>brands, base curve (bc): 8.4, base curve (bc):...</td>\n",
       "      <td>en</td>\n",
       "      <td>[brands, base curve, base curve (bc):, curve (...</td>\n",
       "    </tr>\n",
       "  </tbody>\n",
       "</table>\n",
       "</div>"
      ],
      "text/plain": [
       "                    DOMAIN                                        RAW_CONTENT  \\\n",
       "0               x10-hk.com  automation@home » » | | quick find categories ...   \n",
       "1        hupshenghware.com  captcha powered by imunify360 english hupsheng...   \n",
       "2       soponyonosnack.com  soponyonosnack.com currencies: rupiah language...   \n",
       "3  theromanticvineyard.com  wine train (blogroll) | the romantic vineyard ...   \n",
       "4         eopticians.co.uk  brands, base curve (bc): 8.4, base curve (bc):...   \n",
       "\n",
       "  LANGUAGE                                RAW_CONTENT_TRIGRAM  \n",
       "0       en  [automation@home » », » » |, » | |, | | quick,...  \n",
       "1       en  [captcha powered by, powered by imunify360, by...  \n",
       "2       en  [soponyonosnack.com currencies: rupiah, curren...  \n",
       "3       en  [wine train (blogroll), train (blogroll) |, (b...  \n",
       "4       en  [brands, base curve, base curve (bc):, curve (...  "
      ]
     },
     "execution_count": 10,
     "metadata": {},
     "output_type": "execute_result"
    }
   ],
   "source": [
    "df_en_2_new = df_en_2.reset_index()\n",
    "df_en_2_new = df_en_2_new.drop(columns=['index'])\n",
    "df_en_2_new.head()"
   ]
  },
  {
   "cell_type": "code",
   "execution_count": 11,
   "metadata": {},
   "outputs": [],
   "source": [
    "# number of documents processed, number of unique \n",
    "num_docs_num_unique = [(0,0)]\n",
    "unique = set()\n",
    "for index,row in df_en_2_new.iterrows():\n",
    "    unique.update(row['RAW_CONTENT_TRIGRAM'])\n",
    "    num_docs = index + 1\n",
    "    num_unique = len(unique)\n",
    "    num_docs_num_unique.append((num_docs, num_unique))"
   ]
  },
  {
   "cell_type": "code",
   "execution_count": 12,
   "metadata": {},
   "outputs": [
    {
     "data": {
      "image/png": "[encoded data removed]",
      "text/plain": [
       "<Figure size 432x288 with 1 Axes>"
      ]
     },
     "metadata": {
      "needs_background": "light"
     },
     "output_type": "display_data"
    }
   ],
   "source": [
    "import matplotlib.pyplot as plt\n",
    "%matplotlib inline\n",
    "\n",
    "x, y = zip(*num_docs_num_unique)\n",
    "plt.scatter(x, y)\n",
    "plt.show()"
   ]
  },
  {
   "cell_type": "code",
   "execution_count": 13,
   "metadata": {},
   "outputs": [],
   "source": [
    "most_to_least = sorted(counts_trigrams.items(), key=lambda item: item[1], reverse=True)\n",
    "most_to_least_trigrams = []\n",
    "for index, item in enumerate(most_to_least):\n",
    "    most_to_least_trigrams.append((index, item[1]))"
   ]
  },
  {
   "cell_type": "code",
   "execution_count": 14,
   "metadata": {},
   "outputs": [
    {
     "data": {
      "image/png": "[encoded data removed]",
      "text/plain": [
       "<Figure size 432x288 with 1 Axes>"
      ]
     },
     "metadata": {
      "needs_background": "light"
     },
     "output_type": "display_data"
    }
   ],
   "source": [
    "x, y = zip(*most_to_least_trigrams)\n",
    "plt.scatter(x, y)\n",
    "plt.show()"
   ]
  },
  {
   "cell_type": "markdown",
   "metadata": {},
   "source": [
    "## Zipf's Law Trigrams"
   ]
  },
  {
   "cell_type": "code",
   "execution_count": 15,
   "metadata": {},
   "outputs": [],
   "source": [
    "most_to_least_2 = sorted(counts_trigrams.items(), key=lambda item: item[1], reverse=True)\n",
    "most_to_least_trigrams_2 = []\n",
    "for index, item in enumerate(most_to_least):\n",
    "    if index < 0:\n",
    "        continue\n",
    "    if index >= 400:\n",
    "        break\n",
    "    most_to_least_trigrams_2.append((index, item[1]))"
   ]
  },
  {
   "cell_type": "code",
   "execution_count": 16,
   "metadata": {},
   "outputs": [
    {
     "data": {
      "image/png": "[encoded data removed]",
      "text/plain": [
       "<Figure size 432x288 with 1 Axes>"
      ]
     },
     "metadata": {
      "needs_background": "light"
     },
     "output_type": "display_data"
    }
   ],
   "source": [
    "x2, y2 = zip(*most_to_least_trigrams_2)\n",
    "plt.scatter(x2, y2)\n",
    "plt.show()"
   ]
  },
  {
   "cell_type": "code",
   "execution_count": 17,
   "metadata": {},
   "outputs": [
    {
     "data": {
      "text/plain": [
       "[(0, 10535),\n",
       " (1, 5720),\n",
       " (2, 5720),\n",
       " (3, 5720),\n",
       " (4, 5328),\n",
       " (5, 4124),\n",
       " (6, 3898),\n",
       " (7, 3674),\n",
       " (8, 3669),\n",
       " (9, 3577),\n",
       " (10, 2965),\n",
       " (11, 2915),\n",
       " (12, 2835),\n",
       " (13, 2728),\n",
       " (14, 2627),\n",
       " (15, 2611),\n",
       " (16, 2137),\n",
       " (17, 2137),\n",
       " (18, 1927),\n",
       " (19, 1877),\n",
       " (20, 1845),\n",
       " (21, 1812),\n",
       " (22, 1794),\n",
       " (23, 1790),\n",
       " (24, 1767),\n",
       " (25, 1752),\n",
       " (26, 1694),\n",
       " (27, 1693),\n",
       " (28, 1602),\n",
       " (29, 1593)]"
      ]
     },
     "execution_count": 17,
     "metadata": {},
     "output_type": "execute_result"
    }
   ],
   "source": [
    "most_to_least_trigrams_2[:30]"
   ]
  },
  {
   "cell_type": "markdown",
   "metadata": {
    "id": "LslkDlvVxvBu"
   },
   "source": [
    "## Stop Phrase lists"
   ]
  },
  {
   "cell_type": "code",
   "execution_count": 18,
   "metadata": {
    "id": "YvFlzDn0zuUB"
   },
   "outputs": [],
   "source": [
    "corpus_trigrams = set([i[0] for i in counts_trigrams.most_common(30)])"
   ]
  },
  {
   "cell_type": "code",
   "execution_count": 19,
   "metadata": {},
   "outputs": [],
   "source": [
    "with open('../../processed_files/corpus_trigrams.pickle', 'wb') as file:\n",
    "    pickle.dump(corpus_trigrams, file)"
   ]
  },
  {
   "cell_type": "code",
   "execution_count": null,
   "metadata": {},
   "outputs": [],
   "source": []
  }
 ],
 "metadata": {
  "colab": {
   "collapsed_sections": [],
   "name": "MastersProject.ipynb",
   "provenance": []
  },
  "kernelspec": {
   "display_name": "Python 3",
   "language": "python",
   "name": "python3"
  },
  "language_info": {
   "codemirror_mode": {
    "name": "ipython",
    "version": 3
   },
   "file_extension": ".py",
   "mimetype": "text/x-python",
   "name": "python",
   "nbconvert_exporter": "python",
   "pygments_lexer": "ipython3",
   "version": "3.7.1"
  }
 },
 "nbformat": 4,
 "nbformat_minor": 1
}
