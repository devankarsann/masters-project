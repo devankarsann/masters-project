{
 "cells": [
  {
   "cell_type": "code",
   "execution_count": 1,
   "metadata": {},
   "outputs": [
    {
     "data": {
      "text/html": [
       "<style>.container { width:95% !important; }</style>"
      ],
      "text/plain": [
       "<IPython.core.display.HTML object>"
      ]
     },
     "metadata": {},
     "output_type": "display_data"
    }
   ],
   "source": [
    "from IPython.core.display import display, HTML\n",
    "display(HTML(\"<style>.container { width:95% !important; }</style>\"))"
   ]
  },
  {
   "cell_type": "code",
   "execution_count": 2,
   "metadata": {},
   "outputs": [],
   "source": [
    "from clustering_and_metrics_kmeans import bow_stemmed_model, tfidf_model, lda_10_model, lda_25_model, lda_50_model, w2v_model, gv_model, d2v_model\n",
    "import numpy as np\n",
    "import pickle"
   ]
  },
  {
   "cell_type": "markdown",
   "metadata": {},
   "source": [
    "### minimize computation while working on new functionality such as metrics\n",
    "### enable skipping initial processing steps and loading object from disk "
   ]
  },
  {
   "cell_type": "code",
   "execution_count": 3,
   "metadata": {},
   "outputs": [],
   "source": [
    "refresh = True"
   ]
  },
  {
   "cell_type": "markdown",
   "metadata": {},
   "source": [
    "## bag of words"
   ]
  },
  {
   "cell_type": "code",
   "execution_count": 4,
   "metadata": {},
   "outputs": [],
   "source": [
    "def new_bow_stemmed_kmeans():\n",
    "    bow_stemmed_kmeans = bow_stemmed_model('full')\n",
    "    bow_stemmed_kmeans.load_data()\n",
    "    bow_stemmed_kmeans.run_kmeans()\n",
    "    bow_stemmed_kmeans.calculate_intracluster_similarity()\n",
    "    \n",
    "    print('saving bow_stemmed_kmeans')\n",
    "    with open('../../processed_files/bow_stemmed_kmeans.pickle', 'wb') as file:\n",
    "        pickle.dump(bow_stemmed_kmeans, file)\n",
    "    \n",
    "    return bow_stemmed_kmeans"
   ]
  },
  {
   "cell_type": "code",
   "execution_count": 5,
   "metadata": {},
   "outputs": [
    {
     "name": "stdout",
     "output_type": "stream",
     "text": [
      "using file extension .npy for bow_stemmed_matrix\n",
      "loading ../../processed_files/bow_stemmed_matrix.npy\n",
      "loading ../../processed_files/df_merged.pickle\n",
      "finding 20 clusters with full algorithm\n",
      "saving bow_stemmed_kmeans\n"
     ]
    }
   ],
   "source": [
    "bow_stemmed_kmeans = new_bow_stemmed_kmeans()"
   ]
  },
  {
   "cell_type": "code",
   "execution_count": 6,
   "metadata": {},
   "outputs": [],
   "source": [
    "bow_stemmed_centroid_centroi_distances, bow_stemmed_kmeans_inter_dist = bow_stemmed_kmeans.intercluster_dist()"
   ]
  },
  {
   "cell_type": "code",
   "execution_count": 7,
   "metadata": {},
   "outputs": [
    {
     "data": {
      "text/plain": [
       "[0.05269935903648791,\n",
       " 0.08154552452084274,\n",
       " 0.254175296869643,\n",
       " 0.09133653163751619,\n",
       " 0.1021344791790042,\n",
       " 0.054012534961407295,\n",
       " 0.151541634882176,\n",
       " 0.1634031508931921,\n",
       " 0.08530172287987256,\n",
       " 0.07001195311040805,\n",
       " 0.04143257598726387,\n",
       " 0.14284980343083417,\n",
       " 0.07080614374508952,\n",
       " 0.24066662639543143,\n",
       " 0.07489023181748582,\n",
       " 0.0504507169682745,\n",
       " 0.13284289949458095,\n",
       " 0.09757457614459258,\n",
       " 0.05357119491131846,\n",
       " 0.08860645902313555,\n",
       " 0.23467012582947921,\n",
       " 0.10710380104019879,\n",
       " 0.0879617930955481,\n",
       " 0.06215341657550533,\n",
       " 0.17087745363084217,\n",
       " 0.14771492269406397,\n",
       " 0.07199152026000387,\n",
       " 0.09669322808933248,\n",
       " 0.030241214781490607,\n",
       " 0.13648326645655723,\n",
       " 0.05633408231518851,\n",
       " 0.2280382683804519,\n",
       " 0.09210391288362894,\n",
       " 0.030685080353054464,\n",
       " 0.16770573418049065,\n",
       " 0.08107061371485039,\n",
       " 0.0383901592991106,\n",
       " 0.2592277592154065,\n",
       " 0.08432600883730836,\n",
       " 0.07804294703450622,\n",
       " 0.07460132664394022,\n",
       " 0.11331927639434043,\n",
       " 0.18911593535546992,\n",
       " 0.06975244357269071,\n",
       " 0.09359755437811738,\n",
       " 0.07229671703303438,\n",
       " 0.16067450900319039,\n",
       " 0.059941621885089086,\n",
       " 0.20101512097921584,\n",
       " 0.08501897655040258,\n",
       " 0.078900514429194,\n",
       " 0.14631020506542886,\n",
       " 0.0894236428634978,\n",
       " 0.0601348976544208,\n",
       " 0.277948033894695,\n",
       " 0.24651567586086104,\n",
       " 0.25080843078152265,\n",
       " 0.32362168471150754,\n",
       " 0.2681374282446929,\n",
       " 0.2584275314798138,\n",
       " 0.2655278860495849,\n",
       " 0.24300053138366087,\n",
       " 0.2684804360990373,\n",
       " 0.2466364628884421,\n",
       " 0.25533907308689696,\n",
       " 0.262206964384249,\n",
       " 0.2341115964810097,\n",
       " 0.3371388832667292,\n",
       " 0.2452176019400989,\n",
       " 0.24209961859739693,\n",
       " 0.12523190671253692,\n",
       " 0.0986283300940852,\n",
       " 0.11266945725602143,\n",
       " 0.20495502654984724,\n",
       " 0.10493199771798413,\n",
       " 0.10561406302957303,\n",
       " 0.0960601292740509,\n",
       " 0.1806432137417549,\n",
       " 0.0948410820059876,\n",
       " 0.24592857760612488,\n",
       " 0.10128297588870087,\n",
       " 0.0931662610101283,\n",
       " 0.14391232825106343,\n",
       " 0.12764110217413235,\n",
       " 0.09655353206311298,\n",
       " 0.11289422170358089,\n",
       " 0.18347325232812223,\n",
       " 0.16267058330277753,\n",
       " 0.10493371058893655,\n",
       " 0.12198557770264556,\n",
       " 0.09261044859435355,\n",
       " 0.1406049104982326,\n",
       " 0.07772423641869167,\n",
       " 0.16047477125823675,\n",
       " 0.12924246767947487,\n",
       " 0.08721744487970345,\n",
       " 0.19176395028448345,\n",
       " 0.059681101386185376,\n",
       " 0.05832873078259697,\n",
       " 0.12990716211865344,\n",
       " 0.17998809487241507,\n",
       " 0.05510025336586654,\n",
       " 0.07867060841850322,\n",
       " 0.03875928516609892,\n",
       " 0.15960508655284147,\n",
       " 0.06409337127752626,\n",
       " 0.2445950218199462,\n",
       " 0.06187714315312265,\n",
       " 0.057592192147083415,\n",
       " 0.14375941792482896,\n",
       " 0.10785902572108104,\n",
       " 0.06349181597725316,\n",
       " 0.26657646348709885,\n",
       " 0.12968419456500152,\n",
       " 0.14220813550028383,\n",
       " 0.14833534300572573,\n",
       " 0.22886076527132537,\n",
       " 0.13784962869686024,\n",
       " 0.2876820246404003,\n",
       " 0.12414704714636994,\n",
       " 0.15522797686653125,\n",
       " 0.15606234541744282,\n",
       " 0.18618130949193834,\n",
       " 0.15647568356123615,\n",
       " 0.186468535033174,\n",
       " 0.18890071375887807,\n",
       " 0.16192356786474754,\n",
       " 0.19097573681200555,\n",
       " 0.1678182799404799,\n",
       " 0.2580146997626258,\n",
       " 0.1931885348577575,\n",
       " 0.15574409491182156,\n",
       " 0.24511762904281248,\n",
       " 0.1606851594107892,\n",
       " 0.15425960432928978,\n",
       " 0.09876871709088483,\n",
       " 0.052902074009415295,\n",
       " 0.16848317444850378,\n",
       " 0.06212080611846171,\n",
       " 0.23714774728155436,\n",
       " 0.08343037285741915,\n",
       " 0.06898627298138377,\n",
       " 0.15635956658766448,\n",
       " 0.10309496731478114,\n",
       " 0.0629094525991185,\n",
       " 0.08076924719268863,\n",
       " 0.17150088702698105,\n",
       " 0.09173007835932107,\n",
       " 0.2511411981850936,\n",
       " 0.09747503638497633,\n",
       " 0.08916474341746845,\n",
       " 0.12397434826463628,\n",
       " 0.11673818471092433,\n",
       " 0.08626774130171364,\n",
       " 0.14507333646222573,\n",
       " 0.05035031124487727,\n",
       " 0.2329063317005775,\n",
       " 0.07105301505811637,\n",
       " 0.03264488205105576,\n",
       " 0.1487984530836515,\n",
       " 0.08724893005537247,\n",
       " 0.03638465932214789,\n",
       " 0.14771206305731574,\n",
       " 0.23358540768437366,\n",
       " 0.17539724904881832,\n",
       " 0.136562025958277,\n",
       " 0.23605302434985226,\n",
       " 0.1392011815226165,\n",
       " 0.13711444681284932,\n",
       " 0.2156351402468919,\n",
       " 0.08454749793941521,\n",
       " 0.047700400374176874,\n",
       " 0.1653208411954573,\n",
       " 0.08174576962206433,\n",
       " 0.042690199071771115,\n",
       " 0.2511585119826289,\n",
       " 0.22589017028437586,\n",
       " 0.30764999961390416,\n",
       " 0.18851218471308379,\n",
       " 0.20539747883875487,\n",
       " 0.07571336365588875,\n",
       " 0.1454604107173062,\n",
       " 0.1256869436882356,\n",
       " 0.08643751835960922,\n",
       " 0.1690733968643429,\n",
       " 0.08108649680724056,\n",
       " 0.03748804087810635,\n",
       " 0.1907712449914412,\n",
       " 0.15925802210186618,\n",
       " 0.0623723173320865]"
      ]
     },
     "execution_count": 7,
     "metadata": {},
     "output_type": "execute_result"
    }
   ],
   "source": [
    "bow_stemmed_kmeans_inter_dist"
   ]
  },
  {
   "cell_type": "code",
   "execution_count": 8,
   "metadata": {},
   "outputs": [
    {
     "data": {
      "text/plain": [
       "0.13908940279479218"
      ]
     },
     "execution_count": 8,
     "metadata": {},
     "output_type": "execute_result"
    }
   ],
   "source": [
    "bow_stemmed_kmeans_inter_dist_mean = np.average(bow_stemmed_kmeans_inter_dist)\n",
    "bow_stemmed_kmeans_inter_dist_mean"
   ]
  },
  {
   "cell_type": "markdown",
   "metadata": {},
   "source": [
    "## tfidf matrix"
   ]
  },
  {
   "cell_type": "code",
   "execution_count": 41,
   "metadata": {},
   "outputs": [],
   "source": [
    "def new_tfidf_kmeans():\n",
    "    tfidf_kmeans = tfidf_model('auto')\n",
    "    tfidf_kmeans.load_data()\n",
    "    tfidf_kmeans.run_kmeans()\n",
    "    tfidf_kmeans.calculate_intracluster_similarity()\n",
    "    \n",
    "    # cannot serialize more than 4 Gib\n",
    "    #print('saving tfidf_kmeans')\n",
    "    #with open('../../processed_files/tfidf_kmeans.pickle', 'wb') as file:\n",
    "    #    pickle.dump(tfidf_kmeans, file)\n",
    "    \n",
    "    return tfidf_kmeans"
   ]
  },
  {
   "cell_type": "code",
   "execution_count": 42,
   "metadata": {},
   "outputs": [
    {
     "name": "stdout",
     "output_type": "stream",
     "text": [
      "using file extension .npz for tfidf_matrix\n",
      "loading ../../processed_files/tfidf_matrix.npz\n",
      "loading ../../processed_files/df_merged.pickle\n",
      "finding 20 clusters with auto algorithm\n"
     ]
    },
    {
     "ename": "KeyboardInterrupt",
     "evalue": "",
     "output_type": "error",
     "traceback": [
      "\u001b[0;31m---------------------------------------------------------------------------\u001b[0m",
      "\u001b[0;31mKeyboardInterrupt\u001b[0m                         Traceback (most recent call last)",
      "\u001b[0;32m<ipython-input-42-77b3c665b43a>\u001b[0m in \u001b[0;36m<module>\u001b[0;34m\u001b[0m\n\u001b[0;32m----> 1\u001b[0;31m \u001b[0mtfidf_kmeans\u001b[0m \u001b[0;34m=\u001b[0m \u001b[0mnew_tfidf_kmeans\u001b[0m\u001b[0;34m(\u001b[0m\u001b[0;34m)\u001b[0m\u001b[0;34m\u001b[0m\u001b[0;34m\u001b[0m\u001b[0m\n\u001b[0m",
      "\u001b[0;32m<ipython-input-41-9703b3db3864>\u001b[0m in \u001b[0;36mnew_tfidf_kmeans\u001b[0;34m()\u001b[0m\n\u001b[1;32m      2\u001b[0m     \u001b[0mtfidf_kmeans\u001b[0m \u001b[0;34m=\u001b[0m \u001b[0mtfidf_model\u001b[0m\u001b[0;34m(\u001b[0m\u001b[0;34m'auto'\u001b[0m\u001b[0;34m)\u001b[0m\u001b[0;34m\u001b[0m\u001b[0;34m\u001b[0m\u001b[0m\n\u001b[1;32m      3\u001b[0m     \u001b[0mtfidf_kmeans\u001b[0m\u001b[0;34m.\u001b[0m\u001b[0mload_data\u001b[0m\u001b[0;34m(\u001b[0m\u001b[0;34m)\u001b[0m\u001b[0;34m\u001b[0m\u001b[0;34m\u001b[0m\u001b[0m\n\u001b[0;32m----> 4\u001b[0;31m     \u001b[0mtfidf_kmeans\u001b[0m\u001b[0;34m.\u001b[0m\u001b[0mrun_kmeans\u001b[0m\u001b[0;34m(\u001b[0m\u001b[0;34m)\u001b[0m\u001b[0;34m\u001b[0m\u001b[0;34m\u001b[0m\u001b[0m\n\u001b[0m\u001b[1;32m      5\u001b[0m     \u001b[0mtfidf_kmeans\u001b[0m\u001b[0;34m.\u001b[0m\u001b[0mcalculate_intracluster_similarity\u001b[0m\u001b[0;34m(\u001b[0m\u001b[0;34m)\u001b[0m\u001b[0;34m\u001b[0m\u001b[0;34m\u001b[0m\u001b[0m\n\u001b[1;32m      6\u001b[0m \u001b[0;34m\u001b[0m\u001b[0m\n",
      "\u001b[0;32m~/Desktop/ms-project/MastersProjectNew/appdetex/notebooks/kmeans/clustering_and_metrics_kmeans.py\u001b[0m in \u001b[0;36mrun_kmeans\u001b[0;34m(self)\u001b[0m\n\u001b[1;32m     85\u001b[0m         \u001b[0;31m# setting an array element with a sequence\u001b[0m\u001b[0;34m\u001b[0m\u001b[0;34m\u001b[0m\u001b[0;34m\u001b[0m\u001b[0m\n\u001b[1;32m     86\u001b[0m         \u001b[0;31m# should I call to list on the bow data before saving it?\u001b[0m\u001b[0;34m\u001b[0m\u001b[0;34m\u001b[0m\u001b[0;34m\u001b[0m\u001b[0m\n\u001b[0;32m---> 87\u001b[0;31m         \u001b[0mself\u001b[0m\u001b[0;34m.\u001b[0m\u001b[0mkmeans\u001b[0m \u001b[0;34m=\u001b[0m \u001b[0mKMeans\u001b[0m\u001b[0;34m(\u001b[0m\u001b[0mn_clusters\u001b[0m\u001b[0;34m=\u001b[0m\u001b[0mself\u001b[0m\u001b[0;34m.\u001b[0m\u001b[0mnum_clusters\u001b[0m\u001b[0;34m,\u001b[0m \u001b[0mrandom_state\u001b[0m\u001b[0;34m=\u001b[0m\u001b[0;36m0\u001b[0m\u001b[0;34m,\u001b[0m \u001b[0malgorithm\u001b[0m\u001b[0;34m=\u001b[0m\u001b[0mself\u001b[0m\u001b[0;34m.\u001b[0m\u001b[0malgorithm\u001b[0m\u001b[0;34m)\u001b[0m\u001b[0;34m.\u001b[0m\u001b[0mfit\u001b[0m\u001b[0;34m(\u001b[0m\u001b[0mself\u001b[0m\u001b[0;34m.\u001b[0m\u001b[0mmatrix\u001b[0m\u001b[0;34m)\u001b[0m\u001b[0;34m\u001b[0m\u001b[0;34m\u001b[0m\u001b[0m\n\u001b[0m\u001b[1;32m     88\u001b[0m         \u001b[0mself\u001b[0m\u001b[0;34m.\u001b[0m\u001b[0mindex_cluster\u001b[0m \u001b[0;34m=\u001b[0m \u001b[0mzip\u001b[0m\u001b[0;34m(\u001b[0m\u001b[0mrange\u001b[0m\u001b[0;34m(\u001b[0m\u001b[0mlen\u001b[0m\u001b[0;34m(\u001b[0m\u001b[0mself\u001b[0m\u001b[0;34m.\u001b[0m\u001b[0mkmeans\u001b[0m\u001b[0;34m.\u001b[0m\u001b[0mlabels_\u001b[0m\u001b[0;34m)\u001b[0m\u001b[0;34m)\u001b[0m\u001b[0;34m,\u001b[0m \u001b[0mself\u001b[0m\u001b[0;34m.\u001b[0m\u001b[0mkmeans\u001b[0m\u001b[0;34m.\u001b[0m\u001b[0mlabels_\u001b[0m\u001b[0;34m)\u001b[0m\u001b[0;34m\u001b[0m\u001b[0;34m\u001b[0m\u001b[0m\n\u001b[1;32m     89\u001b[0m         \u001b[0mself\u001b[0m\u001b[0;34m.\u001b[0m\u001b[0mindex_cluster_dict\u001b[0m \u001b[0;34m=\u001b[0m \u001b[0mdict\u001b[0m\u001b[0;34m(\u001b[0m\u001b[0mself\u001b[0m\u001b[0;34m.\u001b[0m\u001b[0mindex_cluster\u001b[0m\u001b[0;34m)\u001b[0m\u001b[0;34m\u001b[0m\u001b[0;34m\u001b[0m\u001b[0m\n",
      "\u001b[0;32m~/anaconda3/lib/python3.7/site-packages/sklearn/cluster/_kmeans.py\u001b[0m in \u001b[0;36mfit\u001b[0;34m(self, X, y, sample_weight)\u001b[0m\n\u001b[1;32m   1016\u001b[0m             centers_init = self._init_centroids(\n\u001b[1;32m   1017\u001b[0m                 \u001b[0mX\u001b[0m\u001b[0;34m,\u001b[0m \u001b[0mx_squared_norms\u001b[0m\u001b[0;34m=\u001b[0m\u001b[0mx_squared_norms\u001b[0m\u001b[0;34m,\u001b[0m \u001b[0minit\u001b[0m\u001b[0;34m=\u001b[0m\u001b[0minit\u001b[0m\u001b[0;34m,\u001b[0m\u001b[0;34m\u001b[0m\u001b[0;34m\u001b[0m\u001b[0m\n\u001b[0;32m-> 1018\u001b[0;31m                 random_state=random_state)\n\u001b[0m\u001b[1;32m   1019\u001b[0m             \u001b[0;32mif\u001b[0m \u001b[0mself\u001b[0m\u001b[0;34m.\u001b[0m\u001b[0mverbose\u001b[0m\u001b[0;34m:\u001b[0m\u001b[0;34m\u001b[0m\u001b[0;34m\u001b[0m\u001b[0m\n\u001b[1;32m   1020\u001b[0m                 \u001b[0mprint\u001b[0m\u001b[0;34m(\u001b[0m\u001b[0;34m\"Initialization complete\"\u001b[0m\u001b[0;34m)\u001b[0m\u001b[0;34m\u001b[0m\u001b[0;34m\u001b[0m\u001b[0m\n",
      "\u001b[0;32m~/anaconda3/lib/python3.7/site-packages/sklearn/cluster/_kmeans.py\u001b[0m in \u001b[0;36m_init_centroids\u001b[0;34m(self, X, x_squared_norms, init, random_state, init_size)\u001b[0m\n\u001b[1;32m    934\u001b[0m             centers, _ = _kmeans_plusplus(X, n_clusters,\n\u001b[1;32m    935\u001b[0m                                           \u001b[0mrandom_state\u001b[0m\u001b[0;34m=\u001b[0m\u001b[0mrandom_state\u001b[0m\u001b[0;34m,\u001b[0m\u001b[0;34m\u001b[0m\u001b[0;34m\u001b[0m\u001b[0m\n\u001b[0;32m--> 936\u001b[0;31m                                           x_squared_norms=x_squared_norms)\n\u001b[0m\u001b[1;32m    937\u001b[0m         \u001b[0;32melif\u001b[0m \u001b[0misinstance\u001b[0m\u001b[0;34m(\u001b[0m\u001b[0minit\u001b[0m\u001b[0;34m,\u001b[0m \u001b[0mstr\u001b[0m\u001b[0;34m)\u001b[0m \u001b[0;32mand\u001b[0m \u001b[0minit\u001b[0m \u001b[0;34m==\u001b[0m \u001b[0;34m'random'\u001b[0m\u001b[0;34m:\u001b[0m\u001b[0;34m\u001b[0m\u001b[0;34m\u001b[0m\u001b[0m\n\u001b[1;32m    938\u001b[0m             \u001b[0mseeds\u001b[0m \u001b[0;34m=\u001b[0m \u001b[0mrandom_state\u001b[0m\u001b[0;34m.\u001b[0m\u001b[0mpermutation\u001b[0m\u001b[0;34m(\u001b[0m\u001b[0mn_samples\u001b[0m\u001b[0;34m)\u001b[0m\u001b[0;34m[\u001b[0m\u001b[0;34m:\u001b[0m\u001b[0mn_clusters\u001b[0m\u001b[0;34m]\u001b[0m\u001b[0;34m\u001b[0m\u001b[0;34m\u001b[0m\u001b[0m\n",
      "\u001b[0;32m~/anaconda3/lib/python3.7/site-packages/sklearn/cluster/_kmeans.py\u001b[0m in \u001b[0;36m_kmeans_plusplus\u001b[0;34m(X, n_clusters, x_squared_norms, random_state, n_local_trials)\u001b[0m\n\u001b[1;32m    122\u001b[0m         \u001b[0;31m# Compute distances to center candidates\u001b[0m\u001b[0;34m\u001b[0m\u001b[0;34m\u001b[0m\u001b[0;34m\u001b[0m\u001b[0m\n\u001b[1;32m    123\u001b[0m         distance_to_candidates = euclidean_distances(\n\u001b[0;32m--> 124\u001b[0;31m             X[candidate_ids], X, Y_norm_squared=x_squared_norms, squared=True)\n\u001b[0m\u001b[1;32m    125\u001b[0m \u001b[0;34m\u001b[0m\u001b[0m\n\u001b[1;32m    126\u001b[0m         \u001b[0;31m# update closest distances squared and potential for each candidate\u001b[0m\u001b[0;34m\u001b[0m\u001b[0;34m\u001b[0m\u001b[0;34m\u001b[0m\u001b[0m\n",
      "\u001b[0;32m~/anaconda3/lib/python3.7/site-packages/sklearn/utils/validation.py\u001b[0m in \u001b[0;36minner_f\u001b[0;34m(*args, **kwargs)\u001b[0m\n\u001b[1;32m     61\u001b[0m             \u001b[0mextra_args\u001b[0m \u001b[0;34m=\u001b[0m \u001b[0mlen\u001b[0m\u001b[0;34m(\u001b[0m\u001b[0margs\u001b[0m\u001b[0;34m)\u001b[0m \u001b[0;34m-\u001b[0m \u001b[0mlen\u001b[0m\u001b[0;34m(\u001b[0m\u001b[0mall_args\u001b[0m\u001b[0;34m)\u001b[0m\u001b[0;34m\u001b[0m\u001b[0;34m\u001b[0m\u001b[0m\n\u001b[1;32m     62\u001b[0m             \u001b[0;32mif\u001b[0m \u001b[0mextra_args\u001b[0m \u001b[0;34m<=\u001b[0m \u001b[0;36m0\u001b[0m\u001b[0;34m:\u001b[0m\u001b[0;34m\u001b[0m\u001b[0;34m\u001b[0m\u001b[0m\n\u001b[0;32m---> 63\u001b[0;31m                 \u001b[0;32mreturn\u001b[0m \u001b[0mf\u001b[0m\u001b[0;34m(\u001b[0m\u001b[0;34m*\u001b[0m\u001b[0margs\u001b[0m\u001b[0;34m,\u001b[0m \u001b[0;34m**\u001b[0m\u001b[0mkwargs\u001b[0m\u001b[0;34m)\u001b[0m\u001b[0;34m\u001b[0m\u001b[0;34m\u001b[0m\u001b[0m\n\u001b[0m\u001b[1;32m     64\u001b[0m \u001b[0;34m\u001b[0m\u001b[0m\n\u001b[1;32m     65\u001b[0m             \u001b[0;31m# extra_args > 0\u001b[0m\u001b[0;34m\u001b[0m\u001b[0;34m\u001b[0m\u001b[0;34m\u001b[0m\u001b[0m\n",
      "\u001b[0;32m~/anaconda3/lib/python3.7/site-packages/sklearn/metrics/pairwise.py\u001b[0m in \u001b[0;36meuclidean_distances\u001b[0;34m(X, Y, Y_norm_squared, squared, X_norm_squared)\u001b[0m\n\u001b[1;32m    270\u001b[0m            [1.41421356]])\n\u001b[1;32m    271\u001b[0m     \"\"\"\n\u001b[0;32m--> 272\u001b[0;31m     \u001b[0mX\u001b[0m\u001b[0;34m,\u001b[0m \u001b[0mY\u001b[0m \u001b[0;34m=\u001b[0m \u001b[0mcheck_pairwise_arrays\u001b[0m\u001b[0;34m(\u001b[0m\u001b[0mX\u001b[0m\u001b[0;34m,\u001b[0m \u001b[0mY\u001b[0m\u001b[0;34m)\u001b[0m\u001b[0;34m\u001b[0m\u001b[0;34m\u001b[0m\u001b[0m\n\u001b[0m\u001b[1;32m    273\u001b[0m \u001b[0;34m\u001b[0m\u001b[0m\n\u001b[1;32m    274\u001b[0m     \u001b[0;31m# If norms are passed as float32, they are unused. If arrays are passed as\u001b[0m\u001b[0;34m\u001b[0m\u001b[0;34m\u001b[0m\u001b[0;34m\u001b[0m\u001b[0m\n",
      "\u001b[0;32m~/anaconda3/lib/python3.7/site-packages/sklearn/utils/validation.py\u001b[0m in \u001b[0;36minner_f\u001b[0;34m(*args, **kwargs)\u001b[0m\n\u001b[1;32m     61\u001b[0m             \u001b[0mextra_args\u001b[0m \u001b[0;34m=\u001b[0m \u001b[0mlen\u001b[0m\u001b[0;34m(\u001b[0m\u001b[0margs\u001b[0m\u001b[0;34m)\u001b[0m \u001b[0;34m-\u001b[0m \u001b[0mlen\u001b[0m\u001b[0;34m(\u001b[0m\u001b[0mall_args\u001b[0m\u001b[0;34m)\u001b[0m\u001b[0;34m\u001b[0m\u001b[0;34m\u001b[0m\u001b[0m\n\u001b[1;32m     62\u001b[0m             \u001b[0;32mif\u001b[0m \u001b[0mextra_args\u001b[0m \u001b[0;34m<=\u001b[0m \u001b[0;36m0\u001b[0m\u001b[0;34m:\u001b[0m\u001b[0;34m\u001b[0m\u001b[0;34m\u001b[0m\u001b[0m\n\u001b[0;32m---> 63\u001b[0;31m                 \u001b[0;32mreturn\u001b[0m \u001b[0mf\u001b[0m\u001b[0;34m(\u001b[0m\u001b[0;34m*\u001b[0m\u001b[0margs\u001b[0m\u001b[0;34m,\u001b[0m \u001b[0;34m**\u001b[0m\u001b[0mkwargs\u001b[0m\u001b[0;34m)\u001b[0m\u001b[0;34m\u001b[0m\u001b[0;34m\u001b[0m\u001b[0m\n\u001b[0m\u001b[1;32m     64\u001b[0m \u001b[0;34m\u001b[0m\u001b[0m\n\u001b[1;32m     65\u001b[0m             \u001b[0;31m# extra_args > 0\u001b[0m\u001b[0;34m\u001b[0m\u001b[0;34m\u001b[0m\u001b[0;34m\u001b[0m\u001b[0m\n",
      "\u001b[0;32m~/anaconda3/lib/python3.7/site-packages/sklearn/metrics/pairwise.py\u001b[0m in \u001b[0;36mcheck_pairwise_arrays\u001b[0;34m(X, Y, precomputed, dtype, accept_sparse, force_all_finite, copy)\u001b[0m\n\u001b[1;32m    149\u001b[0m         Y = check_array(Y, accept_sparse=accept_sparse, dtype=dtype,\n\u001b[1;32m    150\u001b[0m                         \u001b[0mcopy\u001b[0m\u001b[0;34m=\u001b[0m\u001b[0mcopy\u001b[0m\u001b[0;34m,\u001b[0m \u001b[0mforce_all_finite\u001b[0m\u001b[0;34m=\u001b[0m\u001b[0mforce_all_finite\u001b[0m\u001b[0;34m,\u001b[0m\u001b[0;34m\u001b[0m\u001b[0;34m\u001b[0m\u001b[0m\n\u001b[0;32m--> 151\u001b[0;31m                         estimator=estimator)\n\u001b[0m\u001b[1;32m    152\u001b[0m \u001b[0;34m\u001b[0m\u001b[0m\n\u001b[1;32m    153\u001b[0m     \u001b[0;32mif\u001b[0m \u001b[0mprecomputed\u001b[0m\u001b[0;34m:\u001b[0m\u001b[0;34m\u001b[0m\u001b[0;34m\u001b[0m\u001b[0m\n",
      "\u001b[0;32m~/anaconda3/lib/python3.7/site-packages/sklearn/utils/validation.py\u001b[0m in \u001b[0;36minner_f\u001b[0;34m(*args, **kwargs)\u001b[0m\n\u001b[1;32m     61\u001b[0m             \u001b[0mextra_args\u001b[0m \u001b[0;34m=\u001b[0m \u001b[0mlen\u001b[0m\u001b[0;34m(\u001b[0m\u001b[0margs\u001b[0m\u001b[0;34m)\u001b[0m \u001b[0;34m-\u001b[0m \u001b[0mlen\u001b[0m\u001b[0;34m(\u001b[0m\u001b[0mall_args\u001b[0m\u001b[0;34m)\u001b[0m\u001b[0;34m\u001b[0m\u001b[0;34m\u001b[0m\u001b[0m\n\u001b[1;32m     62\u001b[0m             \u001b[0;32mif\u001b[0m \u001b[0mextra_args\u001b[0m \u001b[0;34m<=\u001b[0m \u001b[0;36m0\u001b[0m\u001b[0;34m:\u001b[0m\u001b[0;34m\u001b[0m\u001b[0;34m\u001b[0m\u001b[0m\n\u001b[0;32m---> 63\u001b[0;31m                 \u001b[0;32mreturn\u001b[0m \u001b[0mf\u001b[0m\u001b[0;34m(\u001b[0m\u001b[0;34m*\u001b[0m\u001b[0margs\u001b[0m\u001b[0;34m,\u001b[0m \u001b[0;34m**\u001b[0m\u001b[0mkwargs\u001b[0m\u001b[0;34m)\u001b[0m\u001b[0;34m\u001b[0m\u001b[0;34m\u001b[0m\u001b[0m\n\u001b[0m\u001b[1;32m     64\u001b[0m \u001b[0;34m\u001b[0m\u001b[0m\n\u001b[1;32m     65\u001b[0m             \u001b[0;31m# extra_args > 0\u001b[0m\u001b[0;34m\u001b[0m\u001b[0;34m\u001b[0m\u001b[0;34m\u001b[0m\u001b[0m\n",
      "\u001b[0;32m~/anaconda3/lib/python3.7/site-packages/sklearn/utils/validation.py\u001b[0m in \u001b[0;36mcheck_array\u001b[0;34m(array, accept_sparse, accept_large_sparse, dtype, order, copy, force_all_finite, ensure_2d, allow_nd, ensure_min_samples, ensure_min_features, estimator)\u001b[0m\n\u001b[1;32m    719\u001b[0m         \u001b[0;32mif\u001b[0m \u001b[0mforce_all_finite\u001b[0m\u001b[0;34m:\u001b[0m\u001b[0;34m\u001b[0m\u001b[0;34m\u001b[0m\u001b[0m\n\u001b[1;32m    720\u001b[0m             _assert_all_finite(array,\n\u001b[0;32m--> 721\u001b[0;31m                                allow_nan=force_all_finite == 'allow-nan')\n\u001b[0m\u001b[1;32m    722\u001b[0m \u001b[0;34m\u001b[0m\u001b[0m\n\u001b[1;32m    723\u001b[0m     \u001b[0;32mif\u001b[0m \u001b[0mensure_min_samples\u001b[0m \u001b[0;34m>\u001b[0m \u001b[0;36m0\u001b[0m\u001b[0;34m:\u001b[0m\u001b[0;34m\u001b[0m\u001b[0;34m\u001b[0m\u001b[0m\n",
      "\u001b[0;32m~/anaconda3/lib/python3.7/site-packages/sklearn/utils/validation.py\u001b[0m in \u001b[0;36m_assert_all_finite\u001b[0;34m(X, allow_nan, msg_dtype)\u001b[0m\n\u001b[1;32m     94\u001b[0m     \u001b[0;31m# safely to reduce dtype induced overflows.\u001b[0m\u001b[0;34m\u001b[0m\u001b[0;34m\u001b[0m\u001b[0;34m\u001b[0m\u001b[0m\n\u001b[1;32m     95\u001b[0m     \u001b[0mis_float\u001b[0m \u001b[0;34m=\u001b[0m \u001b[0mX\u001b[0m\u001b[0;34m.\u001b[0m\u001b[0mdtype\u001b[0m\u001b[0;34m.\u001b[0m\u001b[0mkind\u001b[0m \u001b[0;32min\u001b[0m \u001b[0;34m'fc'\u001b[0m\u001b[0;34m\u001b[0m\u001b[0;34m\u001b[0m\u001b[0m\n\u001b[0;32m---> 96\u001b[0;31m     \u001b[0;32mif\u001b[0m \u001b[0mis_float\u001b[0m \u001b[0;32mand\u001b[0m \u001b[0;34m(\u001b[0m\u001b[0mnp\u001b[0m\u001b[0;34m.\u001b[0m\u001b[0misfinite\u001b[0m\u001b[0;34m(\u001b[0m\u001b[0m_safe_accumulator_op\u001b[0m\u001b[0;34m(\u001b[0m\u001b[0mnp\u001b[0m\u001b[0;34m.\u001b[0m\u001b[0msum\u001b[0m\u001b[0;34m,\u001b[0m \u001b[0mX\u001b[0m\u001b[0;34m)\u001b[0m\u001b[0;34m)\u001b[0m\u001b[0;34m)\u001b[0m\u001b[0;34m:\u001b[0m\u001b[0;34m\u001b[0m\u001b[0;34m\u001b[0m\u001b[0m\n\u001b[0m\u001b[1;32m     97\u001b[0m         \u001b[0;32mpass\u001b[0m\u001b[0;34m\u001b[0m\u001b[0;34m\u001b[0m\u001b[0m\n\u001b[1;32m     98\u001b[0m     \u001b[0;32melif\u001b[0m \u001b[0mis_float\u001b[0m\u001b[0;34m:\u001b[0m\u001b[0;34m\u001b[0m\u001b[0;34m\u001b[0m\u001b[0m\n",
      "\u001b[0;32m~/anaconda3/lib/python3.7/site-packages/sklearn/utils/extmath.py\u001b[0m in \u001b[0;36m_safe_accumulator_op\u001b[0;34m(op, x, *args, **kwargs)\u001b[0m\n\u001b[1;32m    687\u001b[0m         \u001b[0mresult\u001b[0m \u001b[0;34m=\u001b[0m \u001b[0mop\u001b[0m\u001b[0;34m(\u001b[0m\u001b[0mx\u001b[0m\u001b[0;34m,\u001b[0m \u001b[0;34m*\u001b[0m\u001b[0margs\u001b[0m\u001b[0;34m,\u001b[0m \u001b[0;34m**\u001b[0m\u001b[0mkwargs\u001b[0m\u001b[0;34m,\u001b[0m \u001b[0mdtype\u001b[0m\u001b[0;34m=\u001b[0m\u001b[0mnp\u001b[0m\u001b[0;34m.\u001b[0m\u001b[0mfloat64\u001b[0m\u001b[0;34m)\u001b[0m\u001b[0;34m\u001b[0m\u001b[0;34m\u001b[0m\u001b[0m\n\u001b[1;32m    688\u001b[0m     \u001b[0;32melse\u001b[0m\u001b[0;34m:\u001b[0m\u001b[0;34m\u001b[0m\u001b[0;34m\u001b[0m\u001b[0m\n\u001b[0;32m--> 689\u001b[0;31m         \u001b[0mresult\u001b[0m \u001b[0;34m=\u001b[0m \u001b[0mop\u001b[0m\u001b[0;34m(\u001b[0m\u001b[0mx\u001b[0m\u001b[0;34m,\u001b[0m \u001b[0;34m*\u001b[0m\u001b[0margs\u001b[0m\u001b[0;34m,\u001b[0m \u001b[0;34m**\u001b[0m\u001b[0mkwargs\u001b[0m\u001b[0;34m)\u001b[0m\u001b[0;34m\u001b[0m\u001b[0;34m\u001b[0m\u001b[0m\n\u001b[0m\u001b[1;32m    690\u001b[0m     \u001b[0;32mreturn\u001b[0m \u001b[0mresult\u001b[0m\u001b[0;34m\u001b[0m\u001b[0;34m\u001b[0m\u001b[0m\n\u001b[1;32m    691\u001b[0m \u001b[0;34m\u001b[0m\u001b[0m\n",
      "\u001b[0;32m<__array_function__ internals>\u001b[0m in \u001b[0;36msum\u001b[0;34m(*args, **kwargs)\u001b[0m\n",
      "\u001b[0;32m~/anaconda3/lib/python3.7/site-packages/numpy/core/fromnumeric.py\u001b[0m in \u001b[0;36msum\u001b[0;34m(a, axis, dtype, out, keepdims, initial, where)\u001b[0m\n\u001b[1;32m   2240\u001b[0m \u001b[0;34m\u001b[0m\u001b[0m\n\u001b[1;32m   2241\u001b[0m     return _wrapreduction(a, np.add, 'sum', axis, dtype, out, keepdims=keepdims,\n\u001b[0;32m-> 2242\u001b[0;31m                           initial=initial, where=where)\n\u001b[0m\u001b[1;32m   2243\u001b[0m \u001b[0;34m\u001b[0m\u001b[0m\n\u001b[1;32m   2244\u001b[0m \u001b[0;34m\u001b[0m\u001b[0m\n",
      "\u001b[0;32m~/anaconda3/lib/python3.7/site-packages/numpy/core/fromnumeric.py\u001b[0m in \u001b[0;36m_wrapreduction\u001b[0;34m(obj, ufunc, method, axis, dtype, out, **kwargs)\u001b[0m\n\u001b[1;32m     85\u001b[0m                 \u001b[0;32mreturn\u001b[0m \u001b[0mreduction\u001b[0m\u001b[0;34m(\u001b[0m\u001b[0maxis\u001b[0m\u001b[0;34m=\u001b[0m\u001b[0maxis\u001b[0m\u001b[0;34m,\u001b[0m \u001b[0mout\u001b[0m\u001b[0;34m=\u001b[0m\u001b[0mout\u001b[0m\u001b[0;34m,\u001b[0m \u001b[0;34m**\u001b[0m\u001b[0mpasskwargs\u001b[0m\u001b[0;34m)\u001b[0m\u001b[0;34m\u001b[0m\u001b[0;34m\u001b[0m\u001b[0m\n\u001b[1;32m     86\u001b[0m \u001b[0;34m\u001b[0m\u001b[0m\n\u001b[0;32m---> 87\u001b[0;31m     \u001b[0;32mreturn\u001b[0m \u001b[0mufunc\u001b[0m\u001b[0;34m.\u001b[0m\u001b[0mreduce\u001b[0m\u001b[0;34m(\u001b[0m\u001b[0mobj\u001b[0m\u001b[0;34m,\u001b[0m \u001b[0maxis\u001b[0m\u001b[0;34m,\u001b[0m \u001b[0mdtype\u001b[0m\u001b[0;34m,\u001b[0m \u001b[0mout\u001b[0m\u001b[0;34m,\u001b[0m \u001b[0;34m**\u001b[0m\u001b[0mpasskwargs\u001b[0m\u001b[0;34m)\u001b[0m\u001b[0;34m\u001b[0m\u001b[0;34m\u001b[0m\u001b[0m\n\u001b[0m\u001b[1;32m     88\u001b[0m \u001b[0;34m\u001b[0m\u001b[0m\n\u001b[1;32m     89\u001b[0m \u001b[0;34m\u001b[0m\u001b[0m\n",
      "\u001b[0;31mKeyboardInterrupt\u001b[0m: "
     ]
    }
   ],
   "source": [
    "tfidf_kmeans = new_tfidf_kmeans()"
   ]
  },
  {
   "cell_type": "code",
   "execution_count": 10,
   "metadata": {
    "scrolled": true
   },
   "outputs": [
    {
     "data": {
      "text/plain": [
       "[0.7160360906242393,\n",
       " 0.7232095443454345,\n",
       " 0.7170758124748007,\n",
       " 0.6961348124074368,\n",
       " 0.7156307457908331]"
      ]
     },
     "execution_count": 10,
     "metadata": {},
     "output_type": "execute_result"
    }
   ],
   "source": [
    "tfidf_centroid_centroi_distances, tfidf_kmeans_inter_dist = tfidf_kmeans.intercluster_dist()\n",
    "tfidf_kmeans_inter_dist"
   ]
  },
  {
   "cell_type": "code",
   "execution_count": 11,
   "metadata": {},
   "outputs": [
    {
     "data": {
      "text/plain": [
       "0.7136174011285489"
      ]
     },
     "execution_count": 11,
     "metadata": {},
     "output_type": "execute_result"
    }
   ],
   "source": [
    "tfidf_kmeans_inter_dist_mean = np.average(tfidf_kmeans_inter_dist)\n",
    "tfidf_kmeans_inter_dist_mean"
   ]
  },
  {
   "cell_type": "markdown",
   "metadata": {},
   "source": [
    "# LDA"
   ]
  },
  {
   "cell_type": "markdown",
   "metadata": {},
   "source": [
    "## lda 10 matrix"
   ]
  },
  {
   "cell_type": "code",
   "execution_count": 9,
   "metadata": {},
   "outputs": [],
   "source": [
    "def new_lda_10_kmeans():\n",
    "    lda_10_kmeans = lda_10_model('auto')\n",
    "    lda_10_kmeans.load_data()\n",
    "    lda_10_kmeans.run_kmeans()\n",
    "    lda_10_kmeans.calculate_intracluster_similarity()\n",
    "    \n",
    "    print('saving lda_10_kmeans')\n",
    "    with open('../../processed_files/lda_10_kmeans.pickle', 'wb') as file:\n",
    "        pickle.dump(lda_10_kmeans, file)\n",
    "    \n",
    "    return lda_10_kmeans"
   ]
  },
  {
   "cell_type": "code",
   "execution_count": 10,
   "metadata": {},
   "outputs": [
    {
     "name": "stdout",
     "output_type": "stream",
     "text": [
      "refresh == true, running lda_10_kmeans processing steps\n",
      "using file extension .npy for lda_10_matrix\n",
      "loading ../../processed_files/lda_10_matrix.npy\n",
      "loading ../../processed_files/df_merged.pickle\n",
      "finding 20 clusters with auto algorithm\n",
      "saving lda_10_kmeans\n"
     ]
    }
   ],
   "source": [
    "lda_10_kmeans = None\n",
    "if refresh == False:\n",
    "    try:\n",
    "        print('read lda_10_kmeans object from memory')\n",
    "        lda_10_kmeans = pickle.load(open(\"../../processed_files/lda_10_kmeans.pickle\", \"rb\"))\n",
    "    except:\n",
    "        print('error reading lda_10_kmeans from memory, running processing steps again')\n",
    "        lda_10_kmeans = new_lda_10_kmeans()\n",
    "else:\n",
    "    # run processing steps again\n",
    "    print('refresh == true, running lda_10_kmeans processing steps')\n",
    "    lda_10_kmeans = new_lda_10_kmeans()"
   ]
  },
  {
   "cell_type": "code",
   "execution_count": 12,
   "metadata": {},
   "outputs": [
    {
     "data": {
      "text/plain": [
       "[0.8899033245183108,\n",
       " 1.050243327901305,\n",
       " 0.7969347998783656,\n",
       " 1.1635457289328983,\n",
       " 0.8886192907301828,\n",
       " 0.8382781658495584,\n",
       " 0.7965343825662503,\n",
       " 1.1374087311058356,\n",
       " 1.154941107433442,\n",
       " 0.8672801276571838,\n",
       " 0.33435331746859126,\n",
       " 1.1455962638906443,\n",
       " 0.822123808014359,\n",
       " 0.8656245279129074,\n",
       " 1.0692610697436489,\n",
       " 1.0088924872667535,\n",
       " 0.7963095319142831,\n",
       " 1.098141909201824,\n",
       " 0.9005400644726858,\n",
       " 0.8964818118244882,\n",
       " 0.6687613744622406,\n",
       " 1.067233268002668,\n",
       " 0.8445946644966816,\n",
       " 0.6788676782040705,\n",
       " 0.5913896424234792,\n",
       " 1.022978341378439,\n",
       " 1.0348404366325819,\n",
       " 0.7981874233423182,\n",
       " 0.6383813960963388,\n",
       " 1.0420039637757461,\n",
       " 0.594780665687067,\n",
       " 0.7002320271430428,\n",
       " 0.9664812541227998,\n",
       " 0.8817981228061467,\n",
       " 0.7003349331193832,\n",
       " 0.995986704084786,\n",
       " 0.7327774530179871,\n",
       " 0.8226533667679131,\n",
       " 1.177439328285722,\n",
       " 0.9712366978887254,\n",
       " 0.8233566946652036,\n",
       " 0.3956903864219634,\n",
       " 1.1354126621145801,\n",
       " 1.1556674203312793,\n",
       " 0.9266990299856548,\n",
       " 0.8461663481111674,\n",
       " 1.1578252742205044,\n",
       " 0.8224508151272398,\n",
       " 0.881097911190253,\n",
       " 1.0662624502277749,\n",
       " 0.9070506764365603,\n",
       " 0.8868434237498002,\n",
       " 1.0967100181192053,\n",
       " 0.8526286107067791,\n",
       " 0.9709511153405885,\n",
       " 0.7182003262391611,\n",
       " 0.5958623111662793,\n",
       " 0.507061120820213,\n",
       " 0.8898432886190983,\n",
       " 0.9472286900127036,\n",
       " 0.6928930298669063,\n",
       " 0.5396483263025619,\n",
       " 0.9261716867239006,\n",
       " 0.5734834848794416,\n",
       " 0.6387702511113326,\n",
       " 0.8707182503056252,\n",
       " 0.786643354762005,\n",
       " 0.6154456696213287,\n",
       " 0.9017649796782778,\n",
       " 0.6328548036297379,\n",
       " 1.102297406374326,\n",
       " 1.0174434521013005,\n",
       " 0.9720405408908108,\n",
       " 1.2303181548587332,\n",
       " 1.2497269931918704,\n",
       " 1.080222134242511,\n",
       " 0.9906455912882242,\n",
       " 1.2462749862376223,\n",
       " 1.0044912243244137,\n",
       " 1.0417895710227616,\n",
       " 1.195639421630371,\n",
       " 1.1348694055283026,\n",
       " 1.039620464943985,\n",
       " 1.2180924395471453,\n",
       " 1.0275160806865535,\n",
       " 0.7845250666987326,\n",
       " 0.714678365421962,\n",
       " 1.0676972145933117,\n",
       " 1.0910082477216108,\n",
       " 0.8046729329082246,\n",
       " 0.6471857432672268,\n",
       " 1.074079000464594,\n",
       " 0.7581831549138535,\n",
       " 0.8225358209605529,\n",
       " 1.0107937995576532,\n",
       " 0.939505590481906,\n",
       " 0.7713393354073492,\n",
       " 1.0409393802956703,\n",
       " 0.824150926992314,\n",
       " 0.5298482467163419,\n",
       " 0.9670775523844677,\n",
       " 0.9865299711666267,\n",
       " 0.745225622857526,\n",
       " 0.5876081782978299,\n",
       " 0.9936410290920109,\n",
       " 0.6115205671804773,\n",
       " 0.6489348915704733,\n",
       " 0.9146068217301826,\n",
       " 0.8251958774366108,\n",
       " 0.675209250094041,\n",
       " 0.9368746306068126,\n",
       " 0.6870199244593125,\n",
       " 0.9048333873902141,\n",
       " 0.9366933751113852,\n",
       " 0.6638481140095415,\n",
       " 0.5206092401326614,\n",
       " 0.9465102763089009,\n",
       " 0.515843673096233,\n",
       " 0.5813389150623196,\n",
       " 0.8534641496540192,\n",
       " 0.7198520226044485,\n",
       " 0.5981066497988371,\n",
       " 0.8893699951833735,\n",
       " 0.5894749883824247,\n",
       " 1.2231750165384683,\n",
       " 1.04592089431194,\n",
       " 0.955318772314397,\n",
       " 1.2022154076072353,\n",
       " 0.9607754606519656,\n",
       " 0.9834743273684455,\n",
       " 1.1621241326307088,\n",
       " 1.0912039488515548,\n",
       " 1.0024650772488755,\n",
       " 1.185266312386117,\n",
       " 0.8932850147077257,\n",
       " 1.0630759543136734,\n",
       " 0.9804674799355166,\n",
       " 1.2381835456084962,\n",
       " 0.9789957052631708,\n",
       " 1.0082830504104217,\n",
       " 1.1820695984706138,\n",
       " 1.1227197856360944,\n",
       " 1.0167950930267697,\n",
       " 1.2061322566742159,\n",
       " 1.0216354166854515,\n",
       " 0.6374853467580861,\n",
       " 1.0523756469924257,\n",
       " 0.7151504882945757,\n",
       " 0.7813459297759139,\n",
       " 0.9801984357522976,\n",
       " 0.9019895611436537,\n",
       " 0.7350343773450859,\n",
       " 1.0059538921814934,\n",
       " 0.7766831151518696,\n",
       " 0.9680573545488252,\n",
       " 0.560251674546547,\n",
       " 0.6136861811911049,\n",
       " 0.8865104014163473,\n",
       " 0.8049331578757758,\n",
       " 0.55696396903345,\n",
       " 0.9167093664384747,\n",
       " 0.6642485566997581,\n",
       " 0.9782788567099997,\n",
       " 1.0167603207944143,\n",
       " 1.1770432915356066,\n",
       " 1.1027885212780248,\n",
       " 1.0074945173635321,\n",
       " 1.1902473958373938,\n",
       " 1.004890989353107,\n",
       " 0.6346053009281548,\n",
       " 0.8982801690830932,\n",
       " 0.8070877428267519,\n",
       " 0.6118360921117397,\n",
       " 0.9261832208478001,\n",
       " 0.6544868692087604,\n",
       " 0.9457681921855899,\n",
       " 0.8583791328963307,\n",
       " 0.6909080860234058,\n",
       " 0.9722904253983039,\n",
       " 0.7002629517614152,\n",
       " 1.0460406809723402,\n",
       " 0.9392443534847789,\n",
       " 1.1396840820826126,\n",
       " 0.9340730051334516,\n",
       " 0.8592205698066915,\n",
       " 1.0726171485910236,\n",
       " 0.8519944820540082,\n",
       " 0.9558305812928263,\n",
       " 0.7125403492078309,\n",
       " 0.970362163624077]"
      ]
     },
     "execution_count": 12,
     "metadata": {},
     "output_type": "execute_result"
    }
   ],
   "source": [
    "lda_10_centroid_centroi_distances, lda_10_kmeans_inter_dist = lda_10_kmeans.intercluster_dist()\n",
    "lda_10_kmeans_inter_dist"
   ]
  },
  {
   "cell_type": "code",
   "execution_count": 13,
   "metadata": {},
   "outputs": [
    {
     "data": {
      "text/plain": [
       "0.8930802838187913"
      ]
     },
     "execution_count": 13,
     "metadata": {},
     "output_type": "execute_result"
    }
   ],
   "source": [
    "lda_10_kmeans_inter_dist_mean = np.average(lda_10_kmeans_inter_dist)\n",
    "lda_10_kmeans_inter_dist_mean"
   ]
  },
  {
   "cell_type": "markdown",
   "metadata": {},
   "source": [
    "## lda 25 matrix"
   ]
  },
  {
   "cell_type": "code",
   "execution_count": 14,
   "metadata": {},
   "outputs": [],
   "source": [
    "#refresh = False"
   ]
  },
  {
   "cell_type": "code",
   "execution_count": 15,
   "metadata": {},
   "outputs": [],
   "source": [
    "def new_lda_25_kmeans():\n",
    "    lda_25_kmeans = lda_25_model('auto')\n",
    "    lda_25_kmeans.load_data()\n",
    "    lda_25_kmeans.run_kmeans()\n",
    "    lda_25_kmeans.calculate_intracluster_similarity()\n",
    "    \n",
    "    print('saving lda_25_kmeans')\n",
    "    with open('../../processed_files/lda_25_kmeans.pickle', 'wb') as file:\n",
    "        pickle.dump(lda_25_kmeans, file)\n",
    "    \n",
    "    return lda_25_kmeans"
   ]
  },
  {
   "cell_type": "code",
   "execution_count": 16,
   "metadata": {},
   "outputs": [
    {
     "name": "stdout",
     "output_type": "stream",
     "text": [
      "refresh == true, running lda_25_kmeans processing steps\n",
      "using file extension .npy for lda_25_matrix\n",
      "loading ../../processed_files/lda_25_matrix.npy\n",
      "loading ../../processed_files/df_merged.pickle\n",
      "finding 20 clusters with auto algorithm\n",
      "saving lda_25_kmeans\n"
     ]
    }
   ],
   "source": [
    "lda_25_kmeans = None\n",
    "if refresh == False:\n",
    "    try:\n",
    "        print('read lda_25_kmeans object from memory')\n",
    "        lda_25_kmeans = pickle.load(open(\"../../processed_files/lda_25_kmeans.pickle\", \"rb\"))\n",
    "    except:\n",
    "        print('error reading lda_kmeans from memory, running processing steps again')\n",
    "        lda_25_kmeans = new_lda_25_kmeans()\n",
    "else:\n",
    "    # run processing steps again\n",
    "    print('refresh == true, running lda_25_kmeans processing steps')\n",
    "    lda_25_kmeans = new_lda_25_kmeans()"
   ]
  },
  {
   "cell_type": "code",
   "execution_count": 17,
   "metadata": {},
   "outputs": [
    {
     "data": {
      "text/plain": [
       "[0.9237956756967127,\n",
       " 1.2092901630741855,\n",
       " 0.8990224204157141,\n",
       " 0.9101031704554047,\n",
       " 1.071108240381668,\n",
       " 1.1037660274860588,\n",
       " 1.0621504016591103,\n",
       " 0.9821552313573413,\n",
       " 1.0681130615562078,\n",
       " 1.2369718736643878,\n",
       " 1.0346503473412698,\n",
       " 0.9117740170341028,\n",
       " 1.027425404314495,\n",
       " 1.1060953022518893,\n",
       " 0.9718805635389075,\n",
       " 0.9656999715545154,\n",
       " 0.8413173684429687,\n",
       " 1.124813097219552,\n",
       " 0.9744626444164873,\n",
       " 1.0011849285644723,\n",
       " 0.5336668846320329,\n",
       " 0.5658164790037459,\n",
       " 0.8176703084181918,\n",
       " 0.8314611129633377,\n",
       " 0.8382446513878739,\n",
       " 0.6186622855645935,\n",
       " 0.8012722225335642,\n",
       " 1.0502620663016728,\n",
       " 0.7941010692985341,\n",
       " 0.6121264875980283,\n",
       " 0.7926920729689183,\n",
       " 0.8203437647540682,\n",
       " 0.669097714627784,\n",
       " 0.6558425302720565,\n",
       " 0.5258773319954664,\n",
       " 0.8908587323692959,\n",
       " 0.6783175251741941,\n",
       " 0.9604063906160655,\n",
       " 0.9899870472970238,\n",
       " 1.1425240759862116,\n",
       " 1.1773566703844025,\n",
       " 1.147305496825725,\n",
       " 1.0557664926305321,\n",
       " 1.1376994702125813,\n",
       " 1.3105966898620962,\n",
       " 1.1055067393856601,\n",
       " 0.4840925769876647,\n",
       " 1.0917449030901216,\n",
       " 1.1699947754442235,\n",
       " 1.0438678999274271,\n",
       " 1.0163766845645457,\n",
       " 0.9283170998731421,\n",
       " 1.1855671565233652,\n",
       " 1.0361086352960196,\n",
       " 0.5223820059195327,\n",
       " 0.7907882891868843,\n",
       " 0.8119796065355273,\n",
       " 0.7960169218619424,\n",
       " 0.6156514402265455,\n",
       " 0.7503194255061503,\n",
       " 1.0332352352429472,\n",
       " 0.7509303245141652,\n",
       " 0.5185471737492968,\n",
       " 0.7229018595466843,\n",
       " 0.3768084299790609,\n",
       " 0.6612080504727783,\n",
       " 0.607398106154446,\n",
       " 0.46672363631692376,\n",
       " 0.8650581523023231,\n",
       " 0.605669533387051,\n",
       " 0.7506748614703491,\n",
       " 0.34895467332987895,\n",
       " 0.8316570735611083,\n",
       " 0.5746246440141659,\n",
       " 0.7731113450705038,\n",
       " 1.0371983364344164,\n",
       " 0.7847986959515965,\n",
       " 0.5786411582445925,\n",
       " 0.7515646170995192,\n",
       " 0.8405727968544097,\n",
       " 0.6044217829468342,\n",
       " 0.6625051859446976,\n",
       " 0.4908758042782797,\n",
       " 0.8776871666762007,\n",
       " 0.6279528741884146,\n",
       " 0.998465955662483,\n",
       " 1.0178497064429752,\n",
       " 0.8812808742845775,\n",
       " 1.002994944346867,\n",
       " 1.1917956351028869,\n",
       " 0.9757283159463018,\n",
       " 0.781998790661222,\n",
       " 0.9691788764635235,\n",
       " 1.0421788490641688,\n",
       " 0.8332455571730459,\n",
       " 0.8911946991306461,\n",
       " 0.7588117025967641,\n",
       " 1.0660181695181543,\n",
       " 0.8948984507103778,\n",
       " 1.0371974464724822,\n",
       " 0.8442367401711943,\n",
       " 1.0008828731485209,\n",
       " 1.1969042959309726,\n",
       " 0.9947821510695252,\n",
       " 0.8505424079150966,\n",
       " 0.9709632494793804,\n",
       " 1.0595877893567391,\n",
       " 0.8296725888617549,\n",
       " 0.9004281469597203,\n",
       " 0.7837512746628525,\n",
       " 1.0720930411249974,\n",
       " 0.8738630846144501,\n",
       " 0.9128154897793105,\n",
       " 1.0042690400872962,\n",
       " 1.1664305037778,\n",
       " 0.9731718374466771,\n",
       " 0.8168774771562446,\n",
       " 0.970511476499695,\n",
       " 1.0058902223715718,\n",
       " 0.9044404068274118,\n",
       " 0.8804062976891371,\n",
       " 0.7711303944070376,\n",
       " 1.0591944810816634,\n",
       " 0.8763325771703294,\n",
       " 0.8793446938664654,\n",
       " 1.1051531122918778,\n",
       " 0.8684823069131832,\n",
       " 0.6916873289291381,\n",
       " 0.8636892758935403,\n",
       " 0.9052947441352136,\n",
       " 0.7384076329757596,\n",
       " 0.7469029127994193,\n",
       " 0.6177232083506348,\n",
       " 0.9572624603473623,\n",
       " 0.7285090641584385,\n",
       " 1.1814496757226922,\n",
       " 0.9582642850167759,\n",
       " 0.8027169510466176,\n",
       " 0.9483031281817593,\n",
       " 1.002577913371844,\n",
       " 0.8771874817559469,\n",
       " 0.859300523927695,\n",
       " 0.7395510053515938,\n",
       " 1.0471970881396064,\n",
       " 0.8662360197703736,\n",
       " 1.148470804408137,\n",
       " 1.0472300954774934,\n",
       " 1.1437425995431045,\n",
       " 1.2191505325069147,\n",
       " 1.0920548647314938,\n",
       " 1.0844808276376472,\n",
       " 0.9858558290635238,\n",
       " 1.2236902927880344,\n",
       " 1.0932945104618081,\n",
       " 0.779986245055809,\n",
       " 0.918235787819537,\n",
       " 0.967642321513125,\n",
       " 0.8582948110200922,\n",
       " 0.8429927490216488,\n",
       " 0.7077258713654928,\n",
       " 1.005023754939051,\n",
       " 0.8514040611021041,\n",
       " 0.7342283964290074,\n",
       " 0.8114888886840628,\n",
       " 0.6853407880717493,\n",
       " 0.649823053108778,\n",
       " 0.501251347982778,\n",
       " 0.8866830428354957,\n",
       " 0.6719178954476819,\n",
       " 0.982215444148511,\n",
       " 0.8492997971111164,\n",
       " 0.8344009999822406,\n",
       " 0.7009995771100398,\n",
       " 0.9973123128118324,\n",
       " 0.8251337707144785,\n",
       " 0.9271910442099955,\n",
       " 0.8621450205886616,\n",
       " 0.7872237752742852,\n",
       " 1.0802069705678916,\n",
       " 0.8807188421423012,\n",
       " 0.7580344430367759,\n",
       " 0.6122815237785774,\n",
       " 0.9498438933268757,\n",
       " 0.758370694256738,\n",
       " 0.5961806528605408,\n",
       " 0.9334201946716023,\n",
       " 0.7466118352193388,\n",
       " 0.8129706660489489,\n",
       " 0.604800494012587,\n",
       " 0.9235688411110877]"
      ]
     },
     "execution_count": 17,
     "metadata": {},
     "output_type": "execute_result"
    }
   ],
   "source": [
    "lda_25_centroid_centroi_distances, lda_25_kmeans_inter_dist = lda_25_kmeans.intercluster_dist()\n",
    "lda_25_kmeans_inter_dist"
   ]
  },
  {
   "cell_type": "code",
   "execution_count": 19,
   "metadata": {},
   "outputs": [
    {
     "data": {
      "text/plain": [
       "0.8795598313698613"
      ]
     },
     "execution_count": 19,
     "metadata": {},
     "output_type": "execute_result"
    }
   ],
   "source": [
    "lda_25_kmeans_inter_dist_mean = np.average(lda_25_kmeans_inter_dist)\n",
    "lda_25_kmeans_inter_dist_mean"
   ]
  },
  {
   "cell_type": "markdown",
   "metadata": {},
   "source": [
    "## lda 50 matrix"
   ]
  },
  {
   "cell_type": "code",
   "execution_count": 22,
   "metadata": {},
   "outputs": [],
   "source": [
    "def new_lda_50_kmeans():\n",
    "    lda_50_kmeans = lda_50_model('auto')\n",
    "    lda_50_kmeans.load_data()\n",
    "    lda_50_kmeans.run_kmeans()\n",
    "    lda_50_kmeans.calculate_intracluster_similarity()\n",
    "    \n",
    "    print('saving lda_50_kmeans')\n",
    "    with open('../../processed_files/lda_50_kmeans.pickle', 'wb') as file:\n",
    "        pickle.dump(lda_50_kmeans, file)\n",
    "    \n",
    "    return lda_50_kmeans"
   ]
  },
  {
   "cell_type": "code",
   "execution_count": 23,
   "metadata": {
    "scrolled": true
   },
   "outputs": [
    {
     "name": "stdout",
     "output_type": "stream",
     "text": [
      "refresh == true, running lda_50_kmeans processing steps\n",
      "using file extension .npy for lda_50_matrix\n",
      "loading ../../processed_files/lda_50_matrix.npy\n",
      "loading ../../processed_files/df_merged.pickle\n",
      "finding 20 clusters with auto algorithm\n",
      "saving lda_50_kmeans\n"
     ]
    }
   ],
   "source": [
    "lda_50_kmeans = None\n",
    "if refresh == False:\n",
    "    try:\n",
    "        print('read lda_50_kmeans object from memory')\n",
    "        lda_50_kmeans = pickle.load(open(\"../../processed_files/lda_50_kmeans.pickle\", \"rb\"))\n",
    "    except:\n",
    "        print('error reading lda_50_kmeans from memory, running processing steps again')\n",
    "        lda_50_kmeans = new_lda_kmeans()\n",
    "else:\n",
    "    # run processing steps again\n",
    "    print('refresh == true, running lda_50_kmeans processing steps')\n",
    "    lda_50_kmeans = new_lda_50_kmeans()"
   ]
  },
  {
   "cell_type": "code",
   "execution_count": 24,
   "metadata": {},
   "outputs": [
    {
     "data": {
      "text/plain": [
       "[0.8968047954930803,\n",
       " 0.466825149448855,\n",
       " 0.5160013541951392,\n",
       " 0.477021608266146,\n",
       " 0.8479126428299316,\n",
       " 0.807287199910569,\n",
       " 0.6655517370532789,\n",
       " 0.6900036331863472,\n",
       " 0.7765250312852339,\n",
       " 0.5243683556014365,\n",
       " 0.9675334569522845,\n",
       " 0.593610223309445,\n",
       " 0.7378542874710267,\n",
       " 0.843182351573188,\n",
       " 0.965363512615066,\n",
       " 0.6942809434426263,\n",
       " 0.4978254993771517,\n",
       " 0.7720512218585109,\n",
       " 0.6444800120465236,\n",
       " 0.9357343424267633,\n",
       " 0.9841067548727018,\n",
       " 0.9427748198025803,\n",
       " 1.1407639751228864,\n",
       " 1.1833025009084002,\n",
       " 1.051676276583419,\n",
       " 1.0598558067136383,\n",
       " 1.1230847893193296,\n",
       " 0.9698875845451375,\n",
       " 1.2742554330601144,\n",
       " 0.9979617345798478,\n",
       " 1.0715879781387656,\n",
       " 1.1923717587288274,\n",
       " 1.2727611548448732,\n",
       " 1.0645800567173167,\n",
       " 0.9659007833114266,\n",
       " 1.1339667189429379,\n",
       " 1.0544405176809577,\n",
       " 0.5827133945591879,\n",
       " 0.48813815733753385,\n",
       " 0.8821361869196933,\n",
       " 0.8575058191670388,\n",
       " 0.7171760448674599,\n",
       " 0.7186875434861375,\n",
       " 0.7865503804958276,\n",
       " 0.5748865874184513,\n",
       " 1.0142789165782076,\n",
       " 0.6483219724831739,\n",
       " 0.7597617924025256,\n",
       " 0.4291114815789022,\n",
       " 1.0092312655580922,\n",
       " 0.732778673260031,\n",
       " 0.5354865936839434,\n",
       " 0.7889983588018128,\n",
       " 0.7085979949310371,\n",
       " 0.5445142041289299,\n",
       " 0.944247371728806,\n",
       " 0.33507101828179847,\n",
       " 0.7479736218207378,\n",
       " 0.7910787435832707,\n",
       " 0.8258637800684862,\n",
       " 0.5883560896236616,\n",
       " 1.0540863492183394,\n",
       " 0.6705004569336314,\n",
       " 0.8434931465851919,\n",
       " 0.9287704710453384,\n",
       " 1.0577892951921486,\n",
       " 0.7786853609499824,\n",
       " 0.5035402830677768,\n",
       " 0.8020539924893328,\n",
       " 0.6560444131278184,\n",
       " 0.8824228566975564,\n",
       " 0.8459470738516125,\n",
       " 0.7159002929663498,\n",
       " 0.751226774165136,\n",
       " 0.349882765715017,\n",
       " 0.5507698864311189,\n",
       " 1.0183708870494672,\n",
       " 0.6258156910201614,\n",
       " 0.7884141881481667,\n",
       " 0.8648238848045567,\n",
       " 1.0187844865000601,\n",
       " 0.7517283737590246,\n",
       " 0.4951245675654524,\n",
       " 0.7670995945655956,\n",
       " 0.7039174097178762,\n",
       " 1.1438709890779364,\n",
       " 1.0188579766469923,\n",
       " 1.02364316938015,\n",
       " 1.0790998198809763,\n",
       " 0.9113116474763253,\n",
       " 1.2335613833621728,\n",
       " 0.9523523880154188,\n",
       " 1.0565114539317073,\n",
       " 1.1538549270327805,\n",
       " 1.2310755003940512,\n",
       " 1.0286573393682634,\n",
       " 0.8991227169900653,\n",
       " 1.0786317530081162,\n",
       " 1.0112128558282558,\n",
       " 0.9789898992333974,\n",
       " 1.0095734164078558,\n",
       " 1.0741772190678,\n",
       " 0.8636606039693698,\n",
       " 1.2335638132042324,\n",
       " 0.9263156369799986,\n",
       " 1.0547673154615633,\n",
       " 1.1271467337130645,\n",
       " 1.2336725632202967,\n",
       " 0.9956204797089261,\n",
       " 0.7986023323802215,\n",
       " 1.0531371360881159,\n",
       " 0.880182986256306,\n",
       " 0.8687929382662578,\n",
       " 0.9477384015975022,\n",
       " 0.7599352865342123,\n",
       " 1.1157334205977658,\n",
       " 0.7862569575739291,\n",
       " 0.9138684131416798,\n",
       " 1.0123377909397242,\n",
       " 1.112256774079374,\n",
       " 0.8828317562173575,\n",
       " 0.7123499684595039,\n",
       " 0.928041298975484,\n",
       " 0.8468768851669454,\n",
       " 0.9714713128299699,\n",
       " 0.7878659128884609,\n",
       " 1.1301349291467062,\n",
       " 0.8303016167197298,\n",
       " 0.9179487369171861,\n",
       " 1.0132684214099144,\n",
       " 1.1170635978654204,\n",
       " 0.8970899385449319,\n",
       " 0.7519745382230908,\n",
       " 0.9528114586240299,\n",
       " 0.8670793800604107,\n",
       " 0.8236965211504544,\n",
       " 1.1855590491464219,\n",
       " 0.8878436439842411,\n",
       " 1.0006277092896838,\n",
       " 1.0930453055662084,\n",
       " 1.1880130139543372,\n",
       " 0.9733799804749677,\n",
       " 0.7993198900727123,\n",
       " 1.0130345066297748,\n",
       " 0.9403720883869627,\n",
       " 1.0418210082932735,\n",
       " 0.6952374398082161,\n",
       " 0.8094925766897367,\n",
       " 0.9104378600226976,\n",
       " 1.0428380179228147,\n",
       " 0.7782638912524938,\n",
       " 0.5654336122240331,\n",
       " 0.816551503520888,\n",
       " 0.7139479805716282,\n",
       " 1.0726023899580983,\n",
       " 1.1470842791788114,\n",
       " 1.2404585673212658,\n",
       " 1.3139453084486827,\n",
       " 1.1270269791476712,\n",
       " 1.0307015621851865,\n",
       " 1.1821112241121874,\n",
       " 1.1066121576853196,\n",
       " 0.8273418952463697,\n",
       " 0.970319008449273,\n",
       " 1.08237783903719,\n",
       " 0.8428133072131591,\n",
       " 0.6107308101246844,\n",
       " 0.8529962851676401,\n",
       " 0.8008602783525004,\n",
       " 1.0486250709734466,\n",
       " 1.1558363512274847,\n",
       " 0.944655004591873,\n",
       " 0.7963319391017052,\n",
       " 0.9833008173338941,\n",
       " 0.9169465199809235,\n",
       " 1.2342529824066077,\n",
       " 1.016626449994457,\n",
       " 0.9026491031293338,\n",
       " 1.0820546982560948,\n",
       " 1.0117514887429926,\n",
       " 1.133191047596749,\n",
       " 1.03190169577328,\n",
       " 1.1827366035798565,\n",
       " 1.107734781067831,\n",
       " 0.749515204224398,\n",
       " 0.9392603321836914,\n",
       " 0.8761785848296566,\n",
       " 0.33229743191658484,\n",
       " 0.6867736885270969,\n",
       " 0.9166082676638843]"
      ]
     },
     "execution_count": 24,
     "metadata": {},
     "output_type": "execute_result"
    }
   ],
   "source": [
    "lda_50_centroid_centroi_distances, lda_50_kmeans_inter_dist = lda_50_kmeans.intercluster_dist()\n",
    "lda_50_kmeans_inter_dist"
   ]
  },
  {
   "cell_type": "code",
   "execution_count": 25,
   "metadata": {},
   "outputs": [
    {
     "data": {
      "text/plain": [
       "0.89448149390054"
      ]
     },
     "execution_count": 25,
     "metadata": {},
     "output_type": "execute_result"
    }
   ],
   "source": [
    "lda_50_kmeans_inter_dist_mean = np.average(lda_50_kmeans_inter_dist)\n",
    "lda_50_kmeans_inter_dist_mean"
   ]
  },
  {
   "cell_type": "markdown",
   "metadata": {},
   "source": [
    "## word2vec matrix"
   ]
  },
  {
   "cell_type": "code",
   "execution_count": 26,
   "metadata": {},
   "outputs": [],
   "source": [
    "def new_w2v_kmeans():\n",
    "    w2v_kmeans = w2v_model('auto')\n",
    "    w2v_kmeans.load_data()\n",
    "    w2v_kmeans.run_kmeans()\n",
    "    w2v_kmeans.calculate_intracluster_similarity()\n",
    "    \n",
    "    print('saving w2v_kmeans')\n",
    "    with open('../../processed_files/w2v_kmeans.pickle', 'wb') as file:\n",
    "        pickle.dump(w2v_kmeans, file)\n",
    "    \n",
    "    return w2v_kmeans"
   ]
  },
  {
   "cell_type": "code",
   "execution_count": 27,
   "metadata": {
    "scrolled": true
   },
   "outputs": [
    {
     "name": "stdout",
     "output_type": "stream",
     "text": [
      "refresh == true, running w2v_kmeans processing steps\n",
      "using file extension .npy for w2v_matrix\n",
      "loading ../../processed_files/w2v_matrix.npy\n",
      "loading ../../processed_files/df_merged.pickle\n",
      "finding 20 clusters with auto algorithm\n",
      "saving w2v_kmeans\n"
     ]
    }
   ],
   "source": [
    "w2v_kmeans = None\n",
    "if refresh == False:\n",
    "    try:\n",
    "        print('read w2v_kmeans object from memory')\n",
    "        w2v_kmeans = pickle.load(open(\"../../processed_files/w2v_kmeans.pickle\", \"rb\"))\n",
    "    except:\n",
    "        print('error reading w2v_kmeans from memory, running processing steps again')\n",
    "        w2v_kmeans = new_w2v_kmeans()\n",
    "else:\n",
    "    # run processing steps again\n",
    "    print('refresh == true, running w2v_kmeans processing steps')\n",
    "    w2v_kmeans = new_w2v_kmeans() "
   ]
  },
  {
   "cell_type": "code",
   "execution_count": 29,
   "metadata": {},
   "outputs": [
    {
     "data": {
      "text/plain": [
       "[14576.350685923711,\n",
       " 3539.645890405812,\n",
       " 2956.4434228931755,\n",
       " 278.6628214091165,\n",
       " 1750.0010454515354,\n",
       " 745.8945010938015,\n",
       " 505.1687891417842,\n",
       " 326.5783766084195,\n",
       " 28.619564758895716,\n",
       " 324.75304399107415,\n",
       " 412.91613351391214,\n",
       " 191.25719811074276,\n",
       " 463.6696328225544,\n",
       " 487.4849127748575,\n",
       " 366.48313023434423,\n",
       " 382.4367934094686,\n",
       " 158.3768569188498,\n",
       " 105.85594849332419,\n",
       " 347.7501297988108,\n",
       " 16427.949205626483,\n",
       " 16046.742721747007,\n",
       " 14448.337775338196,\n",
       " 15507.996035502514,\n",
       " 14804.690248830238,\n",
       " 14195.151782151881,\n",
       " 14691.79160175666,\n",
       " 14558.782180985276,\n",
       " 14341.672677691487,\n",
       " 14769.068158224973,\n",
       " 14465.470519372479,\n",
       " 14318.166699241721,\n",
       " 14229.452621715838,\n",
       " 14702.668506106878,\n",
       " 14402.167710486743,\n",
       " 14586.110621273876,\n",
       " 14635.712789136214,\n",
       " 14438.068868786813,\n",
       " 3118.1417821251466,\n",
       " 3678.924857774205,\n",
       " 3056.422196992009,\n",
       " 3246.709230112894,\n",
       " 3848.5796753175464,\n",
       " 3413.341912356218,\n",
       " 3559.6913268390977,\n",
       " 3725.92773570448,\n",
       " 3339.375790830415,\n",
       " 3678.294659714411,\n",
       " 3859.924250999233,\n",
       " 3818.7055495302834,\n",
       " 3452.858891665933,\n",
       " 3762.762561393533,\n",
       " 3531.5754757724685,\n",
       " 3477.080513952016,\n",
       " 3729.477079985968,\n",
       " 3121.5540878927236,\n",
       " 1945.9336139379654,\n",
       " 2550.1994399461073,\n",
       " 3299.4750913330595,\n",
       " 2799.461396400268,\n",
       " 2979.1746310904823,\n",
       " 3195.279809117065,\n",
       " 2633.2199889661238,\n",
       " 3114.7118439506526,\n",
       " 3238.80030562222,\n",
       " 3252.531764965093,\n",
       " 2846.3993378653317,\n",
       " 3275.0559425875313,\n",
       " 2957.256358715538,\n",
       " 2873.6755330980664,\n",
       " 3173.0693742948965,\n",
       " 1914.5407942710292,\n",
       " 909.52625148177,\n",
       " 403.59795072013725,\n",
       " 505.982710869251,\n",
       " 261.0375774937496,\n",
       " 272.17980757626873,\n",
       " 608.2077970326195,\n",
       " 227.92390941008273,\n",
       " 422.97043151393945,\n",
       " 423.7798255361274,\n",
       " 545.7175789404369,\n",
       " 318.88824449629016,\n",
       " 329.0290601501309,\n",
       " 348.2297818369875,\n",
       " 359.50910539314424,\n",
       " 1474.8233451143662,\n",
       " 2123.3833470664085,\n",
       " 1620.6393578670024,\n",
       " 1772.1668140418824,\n",
       " 1994.8374183588796,\n",
       " 1399.8807502708448,\n",
       " 1908.1827862103494,\n",
       " 2036.1197933485116,\n",
       " 2077.849656372888,\n",
       " 1664.3448654135273,\n",
       " 2086.2586741848268,\n",
       " 1759.4463248410887,\n",
       " 1663.510680399757,\n",
       " 1956.0314300767468,\n",
       " 1104.9367303095744,\n",
       " 684.5891327133937,\n",
       " 765.206851554735,\n",
       " 960.6893248258568,\n",
       " 601.9146788187559,\n",
       " 879.0015086116489,\n",
       " 1059.7808477932954,\n",
       " 1037.7826053267534,\n",
       " 729.4430519477407,\n",
       " 1021.8323164403024,\n",
       " 758.2997083563914,\n",
       " 694.0855282764148,\n",
       " 955.4459216183903,\n",
       " 709.6114707189698,\n",
       " 481.7597470918251,\n",
       " 282.83452025857395,\n",
       " 852.2864861761263,\n",
       " 376.5878584744312,\n",
       " 408.8913438060933,\n",
       " 350.60718145675526,\n",
       " 745.1543712269765,\n",
       " 341.061488219598,\n",
       " 526.503291712641,\n",
       " 586.6659737719164,\n",
       " 415.5239245714468,\n",
       " 342.9292389214497,\n",
       " 557.2565011743318,\n",
       " 384.5360117174458,\n",
       " 470.6075377737164,\n",
       " 685.3472334118236,\n",
       " 705.7031333876181,\n",
       " 406.06013415058976,\n",
       " 616.488677736399,\n",
       " 355.2758207679521,\n",
       " 276.4161554035397,\n",
       " 571.5061274245147,\n",
       " 301.4281743726447,\n",
       " 436.00020707794073,\n",
       " 165.24242241153328,\n",
       " 442.7122758887076,\n",
       " 466.2323330088959,\n",
       " 379.89922616163904,\n",
       " 359.28965640152217,\n",
       " 161.92393672142342,\n",
       " 129.94769976272033,\n",
       " 329.1236758120272,\n",
       " 686.8674392934211,\n",
       " 205.11366393499443,\n",
       " 361.29740904900217,\n",
       " 336.9040876795181,\n",
       " 591.4770574506153,\n",
       " 260.9423454250713,\n",
       " 367.5729478384011,\n",
       " 409.2063289296585,\n",
       " 327.31634681906564,\n",
       " 580.2059937038324,\n",
       " 765.3880049426525,\n",
       " 797.9727668103894,\n",
       " 433.4969950189766,\n",
       " 780.8252023024188,\n",
       " 440.8135040277266,\n",
       " 329.2261033413311,\n",
       " 682.958364768536,\n",
       " 330.7270159270122,\n",
       " 375.0278734895893,\n",
       " 482.73157128610535,\n",
       " 250.2765953321648,\n",
       " 257.7343971923245,\n",
       " 286.0388627625061,\n",
       " 256.56423687737765,\n",
       " 408.3546341543784,\n",
       " 685.1500600892214,\n",
       " 411.51047180775544,\n",
       " 500.14824119718645,\n",
       " 532.2018634548484,\n",
       " 408.6474559536607,\n",
       " 711.9950344060841,\n",
       " 405.5985927319916,\n",
       " 526.0204629107125,\n",
       " 562.64328013082,\n",
       " 422.50605532389187,\n",
       " 614.5259651000065,\n",
       " 370.7793794266175,\n",
       " 343.60618528468444,\n",
       " 576.1349526197649,\n",
       " 410.4184959798413,\n",
       " 478.00320445256824,\n",
       " 317.98978746410404,\n",
       " 194.70566558139214,\n",
       " 385.8990001087235,\n",
       " 425.78066613388296]"
      ]
     },
     "execution_count": 29,
     "metadata": {},
     "output_type": "execute_result"
    }
   ],
   "source": [
    "w2v_centroid_centroi_distances, w2v_kmeans_inter_dist = w2v_kmeans.intercluster_dist()\n",
    "w2v_kmeans_inter_dist"
   ]
  },
  {
   "cell_type": "code",
   "execution_count": 30,
   "metadata": {},
   "outputs": [
    {
     "data": {
      "text/plain": [
       "2529.6013910260494"
      ]
     },
     "execution_count": 30,
     "metadata": {},
     "output_type": "execute_result"
    }
   ],
   "source": [
    "w2v_kmeans_inter_dist_mean = np.average(w2v_kmeans_inter_dist)\n",
    "w2v_kmeans_inter_dist_mean"
   ]
  },
  {
   "cell_type": "markdown",
   "metadata": {},
   "source": [
    "## glove matrix"
   ]
  },
  {
   "cell_type": "code",
   "execution_count": 31,
   "metadata": {},
   "outputs": [],
   "source": [
    "def new_gv_kmeans():\n",
    "    gv_kmeans = gv_model('auto')\n",
    "    gv_kmeans.load_data()\n",
    "    gv_kmeans.run_kmeans()\n",
    "    gv_kmeans.calculate_intracluster_similarity()\n",
    "    \n",
    "    print('saving gv_kmeans')\n",
    "    with open('../../processed_files/gv_kmeans.pickle', 'wb') as file:\n",
    "        pickle.dump(gv_kmeans, file)\n",
    "    \n",
    "    return gv_kmeans"
   ]
  },
  {
   "cell_type": "code",
   "execution_count": 32,
   "metadata": {},
   "outputs": [
    {
     "name": "stdout",
     "output_type": "stream",
     "text": [
      "refresh == true, running gv_kmeans processing steps\n",
      "using file extension .npy for gv_matrix\n",
      "loading ../../processed_files/gv_matrix.npy\n",
      "loading ../../processed_files/df_merged.pickle\n",
      "finding 20 clusters with auto algorithm\n",
      "saving gv_kmeans\n"
     ]
    }
   ],
   "source": [
    "gv_kmeans = None\n",
    "if refresh == False:\n",
    "    try:\n",
    "        print('read gv_kmeans object from memory')\n",
    "        gv_kmeans = pickle.load(open(\"../../processed_files/gv_kmeans.pickle\", \"rb\"))\n",
    "    except:\n",
    "        print('error reading gv_kmeans from memory, running processing steps again')\n",
    "        gv_kmeans = new_gv_kmeans()\n",
    "else:\n",
    "    # run processing steps again\n",
    "    print('refresh == true, running gv_kmeans processing steps')\n",
    "    gv_kmeans = new_gv_kmeans()"
   ]
  },
  {
   "cell_type": "code",
   "execution_count": 33,
   "metadata": {},
   "outputs": [
    {
     "data": {
      "text/plain": [
       "[9976.204050619923,\n",
       " 2904.8787065552438,\n",
       " 38.02251164563507,\n",
       " 5676.834305731909,\n",
       " 2678.8579008138836,\n",
       " 1053.9875703355528,\n",
       " 2311.683034072784,\n",
       " 1124.7325316267898,\n",
       " 545.5411558590542,\n",
       " 1027.6988963244712,\n",
       " 1477.223314300853,\n",
       " 2340.766980960807,\n",
       " 808.6430276443376,\n",
       " 213.01749962742008,\n",
       " 434.0854200954152,\n",
       " 125.25130278464678,\n",
       " 309.9183846480595,\n",
       " 956.2142018111265,\n",
       " 91.59790756698237,\n",
       " 7661.176093677095,\n",
       " 10010.127030658788,\n",
       " 5742.282883402337,\n",
       " 12441.20580763872,\n",
       " 10559.786765651286,\n",
       " 8485.477346049809,\n",
       " 10921.426775941058,\n",
       " 9558.400061302522,\n",
       " 9354.21359631281,\n",
       " 11149.012571207506,\n",
       " 12166.7431904584,\n",
       " 10738.01890096053,\n",
       " 9917.765074593299,\n",
       " 9561.55108486773,\n",
       " 9856.130952868261,\n",
       " 10256.28676079139,\n",
       " 9109.493172590686,\n",
       " 10061.59647522729,\n",
       " 2932.6738488958877,\n",
       " 4299.732232800009,\n",
       " 5244.093779235995,\n",
       " 3518.3463831241206,\n",
       " 2548.5176963464537,\n",
       " 3735.75461556786,\n",
       " 2586.022344932777,\n",
       " 2585.4751939937046,\n",
       " 3971.9272084363106,\n",
       " 4855.303178156637,\n",
       " 3546.182369342582,\n",
       " 2874.3306544615334,\n",
       " 2583.3154401600327,\n",
       " 2808.3979305516586,\n",
       " 3143.0967380267994,\n",
       " 2285.173101268301,\n",
       " 2975.12722837319,\n",
       " 5709.553886669326,\n",
       " 2645.421138550233,\n",
       " 1033.868584050628,\n",
       " 2342.322594121806,\n",
       " 1090.8753696932126,\n",
       " 576.5004574582251,\n",
       " 1052.9083879230975,\n",
       " 1447.152726953295,\n",
       " 2305.7728687576996,\n",
       " 773.5212936037757,\n",
       " 228.94227942960117,\n",
       " 469.2742326308681,\n",
       " 161.1119713988152,\n",
       " 273.1753583087852,\n",
       " 992.0679999789085,\n",
       " 54.405752626884876,\n",
       " 7998.638134564287,\n",
       " 6283.925765301175,\n",
       " 4172.663173663037,\n",
       " 6643.358252248319,\n",
       " 5298.800856071019,\n",
       " 5056.185880496801,\n",
       " 7020.00349263977,\n",
       " 7824.828787013184,\n",
       " 6427.449801732046,\n",
       " 5621.370230536001,\n",
       " 5271.563935044779,\n",
       " 5560.590783656126,\n",
       " 5945.335232908816,\n",
       " 4839.30370830758,\n",
       " 5759.058790048965,\n",
       " 2291.616911131292,\n",
       " 4646.972693769541,\n",
       " 1882.2370263801972,\n",
       " 3172.222620355037,\n",
       " 3403.9579043832923,\n",
       " 1940.4433561237408,\n",
       " 1218.200581712784,\n",
       " 2003.6194764832876,\n",
       " 2779.9638983885548,\n",
       " 3072.6012979558773,\n",
       " 2793.1928157941406,\n",
       " 2397.538034783148,\n",
       " 3566.8309954909555,\n",
       " 2595.1506526902317,\n",
       " 2935.299629592562,\n",
       " 1081.9642566343512,\n",
       " 1395.7464366798745,\n",
       " 1721.0338221758416,\n",
       " 1429.2658038649101,\n",
       " 2010.8859697121566,\n",
       " 943.6047430146622,\n",
       " 1113.0014946478148,\n",
       " 1344.6693889314379,\n",
       " 1127.3481573552951,\n",
       " 906.1115197603452,\n",
       " 1783.2240998126538,\n",
       " 1005.1230172496984,\n",
       " 3247.2924659517807,\n",
       " 1966.820555602565,\n",
       " 1880.3515344756674,\n",
       " 3514.2174052980076,\n",
       " 4368.085280534479,\n",
       " 2983.421146293458,\n",
       " 2265.8305146635153,\n",
       " 1990.2552797195851,\n",
       " 2215.9541278176926,\n",
       " 2562.5133848936907,\n",
       " 1665.2922197284126,\n",
       " 2386.8657558958307,\n",
       " 1581.8060610568823,\n",
       " 1940.5000128434508,\n",
       " 937.2255404920498,\n",
       " 1447.880694996099,\n",
       " 573.6791170701744,\n",
       " 1220.0006843725544,\n",
       " 1516.4576464719728,\n",
       " 1236.6822190887049,\n",
       " 858.6022179829674,\n",
       " 2015.7700386840386,\n",
       " 1043.0857987710133,\n",
       " 871.1306043675297,\n",
       " 1877.308471197765,\n",
       " 2798.3159645861983,\n",
       " 1277.407990201058,\n",
       " 461.2592263490547,\n",
       " 343.2057627847827,\n",
       " 452.6068133328436,\n",
       " 825.1357713634259,\n",
       " 600.347767676003,\n",
       " 623.3940047052965,\n",
       " 2255.4790253611295,\n",
       " 3126.729606340339,\n",
       " 1693.40702382448,\n",
       " 1030.8341277731938,\n",
       " 788.8161657033704,\n",
       " 946.8388319409797,\n",
       " 1249.3555319769175,\n",
       " 793.1742492691112,\n",
       " 1091.457884050655,\n",
       " 1469.1411759899934,\n",
       " 920.9629419979585,\n",
       " 1541.7134000898975,\n",
       " 1853.4313960626075,\n",
       " 1583.588546652208,\n",
       " 1250.5115331008537,\n",
       " 2319.069492228592,\n",
       " 1403.3511328119491,\n",
       " 1560.8028132119998,\n",
       " 2414.085566052815,\n",
       " 2760.220878967796,\n",
       " 2462.602037213775,\n",
       " 2057.0218827627523,\n",
       " 3272.270822436086,\n",
       " 2253.4200489804684,\n",
       " 887.3488986301456,\n",
       " 1237.4809678403124,\n",
       " 932.0379534608181,\n",
       " 538.5687508367819,\n",
       " 1748.1552361235908,\n",
       " 721.0784183427828,\n",
       " 430.41411346863515,\n",
       " 213.975447793856,\n",
       " 440.77187083271406,\n",
       " 918.0617772944634,\n",
       " 258.89902829409294,\n",
       " 311.0003567278291,\n",
       " 730.6533101657923,\n",
       " 550.5096798788339,\n",
       " 522.6786716527224,\n",
       " 429.8307236319041,\n",
       " 835.5710224556242,\n",
       " 215.20704254428242,\n",
       " 1256.353314451309,\n",
       " 220.63229231172414,\n",
       " 1045.3699243956469]"
      ]
     },
     "execution_count": 33,
     "metadata": {},
     "output_type": "execute_result"
    }
   ],
   "source": [
    "gv_centroid_centroi_distances, gv_kmeans_inter_dist = gv_kmeans.intercluster_dist()\n",
    "gv_kmeans_inter_dist"
   ]
  },
  {
   "cell_type": "code",
   "execution_count": 34,
   "metadata": {},
   "outputs": [
    {
     "data": {
      "text/plain": [
       "2882.4878343019022"
      ]
     },
     "execution_count": 34,
     "metadata": {},
     "output_type": "execute_result"
    }
   ],
   "source": [
    "gv_kmeans_inter_dist_mean = np.average(gv_kmeans_inter_dist)\n",
    "gv_kmeans_inter_dist_mean"
   ]
  },
  {
   "cell_type": "markdown",
   "metadata": {},
   "source": [
    "## doc2vec matrix"
   ]
  },
  {
   "cell_type": "code",
   "execution_count": 37,
   "metadata": {},
   "outputs": [],
   "source": [
    "def new_d2v_kmeans():\n",
    "    d2v_kmeans = d2v_model('auto')\n",
    "    d2v_kmeans.load_data()\n",
    "    d2v_kmeans.run_kmeans()\n",
    "    d2v_kmeans.calculate_intracluster_similarity()\n",
    "    \n",
    "    print('saving d2v_kmeans')\n",
    "    with open('../../processed_files/d2v_kmeans.pickle', 'wb') as file:\n",
    "        pickle.dump(d2v_kmeans, file)\n",
    "    \n",
    "    return d2v_kmeans"
   ]
  },
  {
   "cell_type": "code",
   "execution_count": 38,
   "metadata": {},
   "outputs": [
    {
     "name": "stdout",
     "output_type": "stream",
     "text": [
      "refresh == true, running d2v_kmeans processing steps\n",
      "using file extension .npy for d2v_matrix\n",
      "loading ../../processed_files/d2v_matrix.npy\n",
      "loading ../../processed_files/df_merged.pickle\n",
      "finding 20 clusters with auto algorithm\n",
      "saving d2v_kmeans\n"
     ]
    }
   ],
   "source": [
    "d2v_kmeans = None\n",
    "if refresh == False:\n",
    "    try:\n",
    "        print('read d2v_kmeans object from memory')\n",
    "        d2v_kmeans = pickle.load(open(\"../../processed_files/d2v_kmeans.pickle\", \"rb\"))\n",
    "    except:\n",
    "        print('error reading d2v_kmeans from memory, running processing steps again')\n",
    "        d2v_kmeans = new_d2v_kmeans()\n",
    "else:\n",
    "    # run processing steps again\n",
    "    print('refresh == true, running d2v_kmeans processing steps')\n",
    "    d2v_kmeans = new_d2v_kmeans()"
   ]
  },
  {
   "cell_type": "code",
   "execution_count": 39,
   "metadata": {},
   "outputs": [
    {
     "data": {
      "text/plain": [
       "[27456.287,\n",
       " 30803.85,\n",
       " 15856.15,\n",
       " 6409.5176,\n",
       " 5724.3105,\n",
       " 5723.282,\n",
       " 684.02893,\n",
       " 2094.1614,\n",
       " 1074.7487,\n",
       " 127.60593,\n",
       " 1178.9122,\n",
       " 967.34674,\n",
       " 65.188995,\n",
       " 870.53284,\n",
       " 889.1136,\n",
       " 313.524,\n",
       " 796.80115,\n",
       " 661.9342,\n",
       " 1249.048,\n",
       " 55677.63,\n",
       " 35867.742,\n",
       " 29762.85,\n",
       " 32665.918,\n",
       " 26245.24,\n",
       " 28066.307,\n",
       " 26160.96,\n",
       " 27191.83,\n",
       " 27339.486,\n",
       " 28097.9,\n",
       " 26805.24,\n",
       " 27515.95,\n",
       " 27830.479,\n",
       " 27153.934,\n",
       " 27736.777,\n",
       " 27779.15,\n",
       " 27164.209,\n",
       " 28590.371,\n",
       " 29063.418,\n",
       " 29485.549,\n",
       " 25977.121,\n",
       " 32728.904,\n",
       " 30193.693,\n",
       " 32102.254,\n",
       " 31153.31,\n",
       " 30919.465,\n",
       " 30290.793,\n",
       " 31467.934,\n",
       " 30745.768,\n",
       " 30399.477,\n",
       " 31227.586,\n",
       " 30523.021,\n",
       " 30549.469,\n",
       " 31054.902,\n",
       " 29699.877,\n",
       " 17237.04,\n",
       " 14786.738,\n",
       " 17160.553,\n",
       " 15598.956,\n",
       " 16713.307,\n",
       " 16065.142,\n",
       " 15906.677,\n",
       " 15655.619,\n",
       " 16248.9795,\n",
       " 15833.616,\n",
       " 15647.617,\n",
       " 16090.017,\n",
       " 15743.245,\n",
       " 15615.423,\n",
       " 15842.51,\n",
       " 15456.369,\n",
       " 7083.4346,\n",
       " 9389.566,\n",
       " 6268.5947,\n",
       " 7381.1123,\n",
       " 6597.1587,\n",
       " 6447.332,\n",
       " 6202.358,\n",
       " 6622.564,\n",
       " 6389.733,\n",
       " 6386.8525,\n",
       " 6537.985,\n",
       " 6311.1064,\n",
       " 6457.1226,\n",
       " 6553.9473,\n",
       " 6164.0776,\n",
       " 9364.556,\n",
       " 5099.0117,\n",
       " 7363.4966,\n",
       " 6139.6787,\n",
       " 5846.2876,\n",
       " 5211.329,\n",
       " 6470.759,\n",
       " 5662.1797,\n",
       " 5351.8345,\n",
       " 6145.726,\n",
       " 5428.2954,\n",
       " 5474.463,\n",
       " 6034.8555,\n",
       " 4568.3496,\n",
       " 5957.7417,\n",
       " 5478.8335,\n",
       " 5749.2476,\n",
       " 5684.856,\n",
       " 6099.5522,\n",
       " 5580.4014,\n",
       " 5744.792,\n",
       " 6007.8926,\n",
       " 5653.06,\n",
       " 5834.547,\n",
       " 5907.1826,\n",
       " 5588.0464,\n",
       " 6204.7397,\n",
       " 2602.3665,\n",
       " 1447.2142,\n",
       " 807.3476,\n",
       " 1022.6018,\n",
       " 1537.9384,\n",
       " 622.33655,\n",
       " 784.3084,\n",
       " 1332.8104,\n",
       " 400.71228,\n",
       " 813.19434,\n",
       " 1121.9559,\n",
       " 644.035,\n",
       " 2097.8538,\n",
       " 2006.4188,\n",
       " 2826.899,\n",
       " 1700.966,\n",
       " 2141.0771,\n",
       " 2555.5613,\n",
       " 1970.084,\n",
       " 2321.9297,\n",
       " 2490.6018,\n",
       " 2019.8905,\n",
       " 3086.0085,\n",
       " 1039.3481,\n",
       " 1701.2346,\n",
       " 1290.3811,\n",
       " 1098.187,\n",
       " 1548.4254,\n",
       " 1175.7749,\n",
       " 1210.7894,\n",
       " 1456.5585,\n",
       " 1277.6853,\n",
       " 1894.1206,\n",
       " 1249.2842,\n",
       " 874.3444,\n",
       " 191.80232,\n",
       " 942.79913,\n",
       " 840.2103,\n",
       " 438.58746,\n",
       " 855.279,\n",
       " 619.7548,\n",
       " 1373.2487,\n",
       " 1791.5774,\n",
       " 1147.3552,\n",
       " 1268.9285,\n",
       " 1640.9329,\n",
       " 1054.471,\n",
       " 1229.4132,\n",
       " 1464.4879,\n",
       " 1238.9445,\n",
       " 1016.6963,\n",
       " 1524.1199,\n",
       " 1074.6625,\n",
       " 1220.2765,\n",
       " 1424.9788,\n",
       " 1019.6602,\n",
       " 2075.9033,\n",
       " 840.03217,\n",
       " 918.9434,\n",
       " 250.94258,\n",
       " 772.5017,\n",
       " 693.77747,\n",
       " 1186.296,\n",
       " 1428.4591,\n",
       " 764.64136,\n",
       " 933.12506,\n",
       " 1179.8772,\n",
       " 1108.9213,\n",
       " 1066.0205,\n",
       " 1308.4231,\n",
       " 1028.325,\n",
       " 1802.1731,\n",
       " 729.5968,\n",
       " 840.5495,\n",
       " 950.4984,\n",
       " 1128.879,\n",
       " 1192.0812,\n",
       " 1638.5634]"
      ]
     },
     "execution_count": 39,
     "metadata": {},
     "output_type": "execute_result"
    }
   ],
   "source": [
    "d2v_centroid_centroi_distances, d2v_kmeans_inter_dist = d2v_kmeans.intercluster_dist()\n",
    "d2v_kmeans_inter_dist"
   ]
  },
  {
   "cell_type": "code",
   "execution_count": 40,
   "metadata": {},
   "outputs": [
    {
     "data": {
      "text/plain": [
       "9345.339"
      ]
     },
     "execution_count": 40,
     "metadata": {},
     "output_type": "execute_result"
    }
   ],
   "source": [
    "d2v_kmeans_inter_dist_mean = np.average(d2v_kmeans_inter_dist)\n",
    "d2v_kmeans_inter_dist_mean"
   ]
  },
  {
   "cell_type": "markdown",
   "metadata": {},
   "source": [
    "## Checking normlizing"
   ]
  },
  {
   "cell_type": "code",
   "execution_count": 46,
   "metadata": {},
   "outputs": [
    {
     "data": {
      "text/plain": [
       "12968"
      ]
     },
     "execution_count": 46,
     "metadata": {},
     "output_type": "execute_result"
    }
   ],
   "source": [
    "num_rows_tfidf_kmeans = len(tfidf_kmeans.matrix)\n",
    "num_rows_tfidf_kmeans"
   ]
  },
  {
   "cell_type": "code",
   "execution_count": 47,
   "metadata": {},
   "outputs": [
    {
     "name": "stdout",
     "output_type": "stream",
     "text": [
      "tfidf_knn --> more_than_one:  2997 , less_than_one:  9971\n"
     ]
    }
   ],
   "source": [
    "more_than_one = 0\n",
    "less_than_one = 0\n",
    "for i in range(num_rows_tfidf_kmeans):\n",
    "    if np.sum(tfidf_kmeans.matrix[i]) > 1:\n",
    "        more_than_one += 1\n",
    "    else:\n",
    "        less_than_one += 1\n",
    "print('tfidf_kmeans --> more_than_one: ', more_than_one, ', less_than_one: ', less_than_one)"
   ]
  },
  {
   "cell_type": "code",
   "execution_count": 48,
   "metadata": {},
   "outputs": [
    {
     "data": {
      "text/plain": [
       "12968"
      ]
     },
     "execution_count": 48,
     "metadata": {},
     "output_type": "execute_result"
    }
   ],
   "source": [
    "num_rows_lda_10_kmeans = len(lda_10_kmeans.matrix)\n",
    "num_rows_lda_10_kmeans"
   ]
  },
  {
   "cell_type": "code",
   "execution_count": 49,
   "metadata": {},
   "outputs": [
    {
     "name": "stdout",
     "output_type": "stream",
     "text": [
      "lda_10_knn --> more_than_one:  0 , less_than_one:  12968\n"
     ]
    }
   ],
   "source": [
    "more_than_one = 0\n",
    "less_than_one = 0\n",
    "for i in range(num_rows_lda_10_kmeans):\n",
    "    if np.sum(lda_10_kmeans.matrix[i]) > 1:\n",
    "        more_than_one += 1\n",
    "    else:\n",
    "        less_than_one += 1\n",
    "print('lda_10_kmeans --> more_than_one: ', more_than_one, ', less_than_one: ', less_than_one)"
   ]
  },
  {
   "cell_type": "code",
   "execution_count": 50,
   "metadata": {},
   "outputs": [
    {
     "data": {
      "text/plain": [
       "12968"
      ]
     },
     "execution_count": 50,
     "metadata": {},
     "output_type": "execute_result"
    }
   ],
   "source": [
    "num_rows_lda_25_kmeans = len(lda_25_kmeans.matrix)\n",
    "num_rows_lda_25_kmeans"
   ]
  },
  {
   "cell_type": "code",
   "execution_count": 51,
   "metadata": {},
   "outputs": [
    {
     "name": "stdout",
     "output_type": "stream",
     "text": [
      "lda_25_knn --> more_than_one:  0 , less_than_one:  12968\n"
     ]
    }
   ],
   "source": [
    "more_than_one = 0\n",
    "less_than_one = 0\n",
    "for i in range(num_rows_lda_25_kmeans):\n",
    "    if np.sum(lda_25_kmeans.matrix[i]) > 1:\n",
    "        more_than_one += 1\n",
    "    else:\n",
    "        less_than_one += 1\n",
    "print('lda_25_kmeans --> more_than_one: ', more_than_one, ', less_than_one: ', less_than_one)"
   ]
  },
  {
   "cell_type": "code",
   "execution_count": 52,
   "metadata": {},
   "outputs": [
    {
     "data": {
      "text/plain": [
       "12968"
      ]
     },
     "execution_count": 52,
     "metadata": {},
     "output_type": "execute_result"
    }
   ],
   "source": [
    "num_rows_lda_50_kmeans = len(lda_50_kmeans.matrix)\n",
    "num_rows_lda_50_kmeans"
   ]
  },
  {
   "cell_type": "code",
   "execution_count": 53,
   "metadata": {},
   "outputs": [
    {
     "name": "stdout",
     "output_type": "stream",
     "text": [
      "lda_50_knn --> more_than_one:  0 , less_than_one:  12968\n"
     ]
    }
   ],
   "source": [
    "more_than_one = 0\n",
    "less_than_one = 0\n",
    "for i in range(num_rows_lda_50_kmeans):\n",
    "    if np.sum(lda_50_kmeans.matrix[i]) > 1:\n",
    "        more_than_one += 1\n",
    "    else:\n",
    "        less_than_one += 1\n",
    "print('lda_50_kmeans --> more_than_one: ', more_than_one, ', less_than_one: ', less_than_one)"
   ]
  },
  {
   "cell_type": "code",
   "execution_count": 54,
   "metadata": {},
   "outputs": [
    {
     "data": {
      "text/plain": [
       "12968"
      ]
     },
     "execution_count": 54,
     "metadata": {},
     "output_type": "execute_result"
    }
   ],
   "source": [
    "num_rows_w2v_kmeans = len(w2v_kmeans.matrix)\n",
    "num_rows_w2v_kmeans"
   ]
  },
  {
   "cell_type": "code",
   "execution_count": 55,
   "metadata": {},
   "outputs": [
    {
     "name": "stdout",
     "output_type": "stream",
     "text": [
      "w2v_knn --> more_than_one:  12034 , less_than_one:  934\n"
     ]
    }
   ],
   "source": [
    "more_than_one = 0\n",
    "less_than_one = 0\n",
    "for i in range(num_rows_w2v_kmeans):\n",
    "    if np.sum(w2v_kmeans.matrix[i]) > 1:\n",
    "        more_than_one += 1\n",
    "    else:\n",
    "        less_than_one += 1\n",
    "print('w2v_kmeans --> more_than_one: ', more_than_one, ', less_than_one: ', less_than_one)"
   ]
  },
  {
   "cell_type": "code",
   "execution_count": 56,
   "metadata": {},
   "outputs": [
    {
     "data": {
      "text/plain": [
       "12968"
      ]
     },
     "execution_count": 56,
     "metadata": {},
     "output_type": "execute_result"
    }
   ],
   "source": [
    "num_rows_glove_kmeans = len(gv_kmeans.matrix)\n",
    "num_rows_glove_kmeans"
   ]
  },
  {
   "cell_type": "code",
   "execution_count": 57,
   "metadata": {},
   "outputs": [
    {
     "name": "stdout",
     "output_type": "stream",
     "text": [
      "glove_knn --> more_than_one:  2343 , less_than_one:  10625\n"
     ]
    }
   ],
   "source": [
    "more_than_one = 0\n",
    "less_than_one = 0\n",
    "for i in range(num_rows_glove_kmeans):\n",
    "    if np.sum(gv_kmeans.matrix[i]) > 1:\n",
    "        more_than_one += 1\n",
    "    else:\n",
    "        less_than_one += 1\n",
    "print('glove_kmeans --> more_than_one: ', more_than_one, ', less_than_one: ', less_than_one)"
   ]
  },
  {
   "cell_type": "code",
   "execution_count": 58,
   "metadata": {},
   "outputs": [
    {
     "data": {
      "text/plain": [
       "12968"
      ]
     },
     "execution_count": 58,
     "metadata": {},
     "output_type": "execute_result"
    }
   ],
   "source": [
    "num_rows_d2v_kmeans = len(d2v_kmeans.matrix)\n",
    "num_rows_d2v_kmeans"
   ]
  },
  {
   "cell_type": "code",
   "execution_count": 59,
   "metadata": {},
   "outputs": [
    {
     "name": "stdout",
     "output_type": "stream",
     "text": [
      "d2v_knn --> more_than_one:  5850 , less_than_one:  7118\n"
     ]
    }
   ],
   "source": [
    "more_than_one = 0\n",
    "less_than_one = 0\n",
    "for i in range(num_rows_d2v_kmeans):\n",
    "    if np.sum(d2v_kmeans.matrix[i]) > 1:\n",
    "        more_than_one += 1\n",
    "    else:\n",
    "        less_than_one += 1\n",
    "print('d2v_kmeans --> more_than_one: ', more_than_one, ', less_than_one: ', less_than_one)"
   ]
  },
  {
   "cell_type": "markdown",
   "metadata": {},
   "source": [
    "## metric analysis"
   ]
  },
  {
   "cell_type": "code",
   "execution_count": 61,
   "metadata": {},
   "outputs": [
    {
     "name": "stdout",
     "output_type": "stream",
     "text": [
      "0.05707090902396378\n",
      "0.5339491118366447\n",
      "3.1610136383170528e-09\n",
      "1.4901161193847657e-09\n",
      "0.0\n",
      "0.0\n",
      "3.793216365980464e-08\n",
      "1.4611187\n"
     ]
    }
   ],
   "source": [
    "print(bow_stemmed_kmeans.intra_avg_list[0])\n",
    "print(tfidf_kmeans.intra_avg_list[0])\n",
    "print(lda_10_kmeans.intra_avg_list[0])\n",
    "print(lda_25_kmeans.intra_avg_list[0])\n",
    "print(lda_50_kmeans.intra_avg_list[0])\n",
    "print(w2v_kmeans.intra_avg_list[0])\n",
    "print(gv_kmeans.intra_avg_list[0])\n",
    "print(d2v_kmeans.intra_avg_list[0])"
   ]
  },
  {
   "cell_type": "markdown",
   "metadata": {},
   "source": [
    "### average intracluster distances"
   ]
  },
  {
   "cell_type": "code",
   "execution_count": 43,
   "metadata": {
    "scrolled": true
   },
   "outputs": [
    {
     "ename": "TypeError",
     "evalue": "unsupported operand type(s) for /: 'NoneType' and 'int'",
     "output_type": "error",
     "traceback": [
      "\u001b[0;31m---------------------------------------------------------------------------\u001b[0m",
      "\u001b[0;31mTypeError\u001b[0m                                 Traceback (most recent call last)",
      "\u001b[0;32m<ipython-input-43-5c08ea0a4428>\u001b[0m in \u001b[0;36m<module>\u001b[0;34m\u001b[0m\n\u001b[1;32m      4\u001b[0m \u001b[0mdata\u001b[0m \u001b[0;34m=\u001b[0m \u001b[0;34m[\u001b[0m\u001b[0mbow_stemmed_kmeans\u001b[0m\u001b[0;34m.\u001b[0m\u001b[0mintra_avg_list\u001b[0m\u001b[0;34m,\u001b[0m \u001b[0mlda_10_kmeans\u001b[0m\u001b[0;34m.\u001b[0m\u001b[0mintra_avg_list\u001b[0m\u001b[0;34m,\u001b[0m \u001b[0mlda_25_kmeans\u001b[0m\u001b[0;34m.\u001b[0m\u001b[0mintra_avg_list\u001b[0m\u001b[0;34m,\u001b[0m \u001b[0mlda_50_kmeans\u001b[0m\u001b[0;34m.\u001b[0m\u001b[0mintra_avg_list\u001b[0m\u001b[0;34m,\u001b[0m \u001b[0mw2v_kmeans\u001b[0m\u001b[0;34m.\u001b[0m\u001b[0mintra_avg_list\u001b[0m\u001b[0;34m,\u001b[0m \u001b[0mgv_kmeans\u001b[0m\u001b[0;34m.\u001b[0m\u001b[0mintra_avg_list\u001b[0m\u001b[0;34m,\u001b[0m \u001b[0md2v_kmeans\u001b[0m\u001b[0;34m.\u001b[0m\u001b[0mintra_avg_list\u001b[0m\u001b[0;34m]\u001b[0m\u001b[0;34m\u001b[0m\u001b[0;34m\u001b[0m\u001b[0m\n\u001b[1;32m      5\u001b[0m \u001b[0mfig\u001b[0m\u001b[0;34m,\u001b[0m \u001b[0max\u001b[0m \u001b[0;34m=\u001b[0m \u001b[0mplt\u001b[0m\u001b[0;34m.\u001b[0m\u001b[0msubplots\u001b[0m\u001b[0;34m(\u001b[0m\u001b[0;34m)\u001b[0m\u001b[0;34m\u001b[0m\u001b[0;34m\u001b[0m\u001b[0m\n\u001b[0;32m----> 6\u001b[0;31m \u001b[0max\u001b[0m\u001b[0;34m.\u001b[0m\u001b[0mboxplot\u001b[0m\u001b[0;34m(\u001b[0m\u001b[0mdata\u001b[0m\u001b[0;34m)\u001b[0m\u001b[0;34m\u001b[0m\u001b[0;34m\u001b[0m\u001b[0m\n\u001b[0m\u001b[1;32m      7\u001b[0m \u001b[0max\u001b[0m\u001b[0;34m.\u001b[0m\u001b[0mset_xticklabels\u001b[0m\u001b[0;34m(\u001b[0m\u001b[0;34m[\u001b[0m\u001b[0;34m'bow_stemmed'\u001b[0m\u001b[0;34m,\u001b[0m \u001b[0;34m'lda_10'\u001b[0m\u001b[0;34m,\u001b[0m \u001b[0;34m'lda_25'\u001b[0m\u001b[0;34m,\u001b[0m \u001b[0;34m'lda_50'\u001b[0m\u001b[0;34m,\u001b[0m \u001b[0;34m'word2vec'\u001b[0m\u001b[0;34m,\u001b[0m \u001b[0;34m'glove'\u001b[0m\u001b[0;34m,\u001b[0m \u001b[0;34m'doc2vec'\u001b[0m\u001b[0;34m]\u001b[0m\u001b[0;34m)\u001b[0m\u001b[0;34m\u001b[0m\u001b[0;34m\u001b[0m\u001b[0m\n\u001b[1;32m      8\u001b[0m \u001b[0mplt\u001b[0m\u001b[0;34m.\u001b[0m\u001b[0mshow\u001b[0m\u001b[0;34m(\u001b[0m\u001b[0;34m)\u001b[0m\u001b[0;34m\u001b[0m\u001b[0;34m\u001b[0m\u001b[0m\n",
      "\u001b[0;32m~/anaconda3/lib/python3.7/site-packages/matplotlib/__init__.py\u001b[0m in \u001b[0;36minner\u001b[0;34m(ax, data, *args, **kwargs)\u001b[0m\n\u001b[1;32m   1808\u001b[0m                         \u001b[0;34m\"the Matplotlib list!)\"\u001b[0m \u001b[0;34m%\u001b[0m \u001b[0;34m(\u001b[0m\u001b[0mlabel_namer\u001b[0m\u001b[0;34m,\u001b[0m \u001b[0mfunc\u001b[0m\u001b[0;34m.\u001b[0m\u001b[0m__name__\u001b[0m\u001b[0;34m)\u001b[0m\u001b[0;34m,\u001b[0m\u001b[0;34m\u001b[0m\u001b[0;34m\u001b[0m\u001b[0m\n\u001b[1;32m   1809\u001b[0m                         RuntimeWarning, stacklevel=2)\n\u001b[0;32m-> 1810\u001b[0;31m             \u001b[0;32mreturn\u001b[0m \u001b[0mfunc\u001b[0m\u001b[0;34m(\u001b[0m\u001b[0max\u001b[0m\u001b[0;34m,\u001b[0m \u001b[0;34m*\u001b[0m\u001b[0margs\u001b[0m\u001b[0;34m,\u001b[0m \u001b[0;34m**\u001b[0m\u001b[0mkwargs\u001b[0m\u001b[0;34m)\u001b[0m\u001b[0;34m\u001b[0m\u001b[0;34m\u001b[0m\u001b[0m\n\u001b[0m\u001b[1;32m   1811\u001b[0m \u001b[0;34m\u001b[0m\u001b[0m\n\u001b[1;32m   1812\u001b[0m         inner.__doc__ = _add_data_doc(inner.__doc__,\n",
      "\u001b[0;32m~/anaconda3/lib/python3.7/site-packages/matplotlib/axes/_axes.py\u001b[0m in \u001b[0;36mboxplot\u001b[0;34m(self, x, notch, sym, vert, whis, positions, widths, patch_artist, bootstrap, usermedians, conf_intervals, meanline, showmeans, showcaps, showbox, showfliers, boxprops, labels, flierprops, medianprops, meanprops, capprops, whiskerprops, manage_xticks, autorange, zorder)\u001b[0m\n\u001b[1;32m   3501\u001b[0m \u001b[0;34m\u001b[0m\u001b[0m\n\u001b[1;32m   3502\u001b[0m         bxpstats = cbook.boxplot_stats(x, whis=whis, bootstrap=bootstrap,\n\u001b[0;32m-> 3503\u001b[0;31m                                        labels=labels, autorange=autorange)\n\u001b[0m\u001b[1;32m   3504\u001b[0m         \u001b[0;32mif\u001b[0m \u001b[0mnotch\u001b[0m \u001b[0;32mis\u001b[0m \u001b[0;32mNone\u001b[0m\u001b[0;34m:\u001b[0m\u001b[0;34m\u001b[0m\u001b[0;34m\u001b[0m\u001b[0m\n\u001b[1;32m   3505\u001b[0m             \u001b[0mnotch\u001b[0m \u001b[0;34m=\u001b[0m \u001b[0mrcParams\u001b[0m\u001b[0;34m[\u001b[0m\u001b[0;34m'boxplot.notch'\u001b[0m\u001b[0;34m]\u001b[0m\u001b[0;34m\u001b[0m\u001b[0;34m\u001b[0m\u001b[0m\n",
      "\u001b[0;32m~/anaconda3/lib/python3.7/site-packages/matplotlib/cbook/__init__.py\u001b[0m in \u001b[0;36mboxplot_stats\u001b[0;34m(X, whis, bootstrap, labels, autorange)\u001b[0m\n\u001b[1;32m   1213\u001b[0m \u001b[0;34m\u001b[0m\u001b[0m\n\u001b[1;32m   1214\u001b[0m         \u001b[0;31m# arithmetic mean\u001b[0m\u001b[0;34m\u001b[0m\u001b[0;34m\u001b[0m\u001b[0;34m\u001b[0m\u001b[0m\n\u001b[0;32m-> 1215\u001b[0;31m         \u001b[0mstats\u001b[0m\u001b[0;34m[\u001b[0m\u001b[0;34m'mean'\u001b[0m\u001b[0;34m]\u001b[0m \u001b[0;34m=\u001b[0m \u001b[0mnp\u001b[0m\u001b[0;34m.\u001b[0m\u001b[0mmean\u001b[0m\u001b[0;34m(\u001b[0m\u001b[0mx\u001b[0m\u001b[0;34m)\u001b[0m\u001b[0;34m\u001b[0m\u001b[0;34m\u001b[0m\u001b[0m\n\u001b[0m\u001b[1;32m   1216\u001b[0m \u001b[0;34m\u001b[0m\u001b[0m\n\u001b[1;32m   1217\u001b[0m         \u001b[0;31m# medians and quartiles\u001b[0m\u001b[0;34m\u001b[0m\u001b[0;34m\u001b[0m\u001b[0;34m\u001b[0m\u001b[0m\n",
      "\u001b[0;32m<__array_function__ internals>\u001b[0m in \u001b[0;36mmean\u001b[0;34m(*args, **kwargs)\u001b[0m\n",
      "\u001b[0;32m~/anaconda3/lib/python3.7/site-packages/numpy/core/fromnumeric.py\u001b[0m in \u001b[0;36mmean\u001b[0;34m(a, axis, dtype, out, keepdims)\u001b[0m\n\u001b[1;32m   3371\u001b[0m \u001b[0;34m\u001b[0m\u001b[0m\n\u001b[1;32m   3372\u001b[0m     return _methods._mean(a, axis=axis, dtype=dtype,\n\u001b[0;32m-> 3373\u001b[0;31m                           out=out, **kwargs)\n\u001b[0m\u001b[1;32m   3374\u001b[0m \u001b[0;34m\u001b[0m\u001b[0m\n\u001b[1;32m   3375\u001b[0m \u001b[0;34m\u001b[0m\u001b[0m\n",
      "\u001b[0;32m~/anaconda3/lib/python3.7/site-packages/numpy/core/_methods.py\u001b[0m in \u001b[0;36m_mean\u001b[0;34m(a, axis, dtype, out, keepdims)\u001b[0m\n\u001b[1;32m    170\u001b[0m             \u001b[0mret\u001b[0m \u001b[0;34m=\u001b[0m \u001b[0mret\u001b[0m\u001b[0;34m.\u001b[0m\u001b[0mdtype\u001b[0m\u001b[0;34m.\u001b[0m\u001b[0mtype\u001b[0m\u001b[0;34m(\u001b[0m\u001b[0mret\u001b[0m \u001b[0;34m/\u001b[0m \u001b[0mrcount\u001b[0m\u001b[0;34m)\u001b[0m\u001b[0;34m\u001b[0m\u001b[0;34m\u001b[0m\u001b[0m\n\u001b[1;32m    171\u001b[0m     \u001b[0;32melse\u001b[0m\u001b[0;34m:\u001b[0m\u001b[0;34m\u001b[0m\u001b[0;34m\u001b[0m\u001b[0m\n\u001b[0;32m--> 172\u001b[0;31m         \u001b[0mret\u001b[0m \u001b[0;34m=\u001b[0m \u001b[0mret\u001b[0m \u001b[0;34m/\u001b[0m \u001b[0mrcount\u001b[0m\u001b[0;34m\u001b[0m\u001b[0;34m\u001b[0m\u001b[0m\n\u001b[0m\u001b[1;32m    173\u001b[0m \u001b[0;34m\u001b[0m\u001b[0m\n\u001b[1;32m    174\u001b[0m     \u001b[0;32mreturn\u001b[0m \u001b[0mret\u001b[0m\u001b[0;34m\u001b[0m\u001b[0;34m\u001b[0m\u001b[0m\n",
      "\u001b[0;31mTypeError\u001b[0m: unsupported operand type(s) for /: 'NoneType' and 'int'"
     ]
    },
    {
     "data": {
      "image/png": "[encoded data removed]",
      "text/plain": [
       "<Figure size 432x288 with 1 Axes>"
      ]
     },
     "metadata": {
      "needs_background": "light"
     },
     "output_type": "display_data"
    }
   ],
   "source": [
    "import matplotlib.pyplot as plt\n",
    "\n",
    "#data = [bow_stemmed_kmeans.intra_avg_list, tfidf_kmeans.intra_avg_list, lda_10_kmeans.intra_avg_list, lda_25_kmeans.intra_avg_list, lda_50_kmeans.intra_avg_list, w2v_kmeans.intra_avg_list, gv_kmeans.intra_avg_list, d2v_kmeans.intra_avg_list]  \n",
    "data = [bow_stemmed_kmeans.intra_avg_list, lda_10_kmeans.intra_avg_list, lda_25_kmeans.intra_avg_list, lda_50_kmeans.intra_avg_list, w2v_kmeans.intra_avg_list, gv_kmeans.intra_avg_list, d2v_kmeans.intra_avg_list]  \n",
    "fig, ax = plt.subplots()\n",
    "ax.boxplot(data)\n",
    "#ax.set_xticklabels(['bow_stemmed', 'tfidf', lda_10', 'lda_25', 'lda_50', 'word2vec', 'glove', 'doc2vec'])\n",
    "ax.set_xticklabels(['bow_stemmed', 'lda_10', 'lda_25', 'lda_50', 'word2vec', 'glove', 'doc2vec'])\n",
    "plt.show()"
   ]
  },
  {
   "cell_type": "code",
   "execution_count": null,
   "metadata": {},
   "outputs": [],
   "source": [
    "plt.savefig('intracluster.png')"
   ]
  },
  {
   "cell_type": "markdown",
   "metadata": {},
   "source": [
    "### average intercluster distances (samples)"
   ]
  },
  {
   "cell_type": "code",
   "execution_count": 45,
   "metadata": {},
   "outputs": [
    {
     "data": {
      "image/png": "[encoded data removed]",
      "text/plain": [
       "<Figure size 432x288 with 1 Axes>"
      ]
     },
     "metadata": {
      "needs_background": "light"
     },
     "output_type": "display_data"
    }
   ],
   "source": [
    "#objects = ('bow_stemmed', 'tfidf', 'lda_10', 'lda_25', 'lda_50', 'w2v', 'glove', 'd2v')\n",
    "objects = ('bow_stemmed', 'lda_10', 'lda_25', 'lda_50', 'w2v', 'glove', 'd2v')\n",
    "y_pos = np.arange(len(objects))\n",
    "#performance = [bow_stemmed_kmeans_inter_dist_mean, tfidf_kmeans_inter_dist_mean, lda_10_kmeans_inter_dist_mean, lda_25_kmeans_inter_dist_mean, lda_50_kmeans_inter_dist_mean, w2v_kmeans_inter_dist_mean, gv_kmeans_inter_dist_mean, d2v_kmeans_inter_dist_mean]\n",
    "performance = [bow_stemmed_kmeans_inter_dist_mean, lda_10_kmeans_inter_dist_mean, lda_25_kmeans_inter_dist_mean, lda_50_kmeans_inter_dist_mean, w2v_kmeans_inter_dist_mean, gv_kmeans_inter_dist_mean, d2v_kmeans_inter_dist_mean]\n",
    "\n",
    "plt.bar(y_pos, performance, align='center', alpha=0.5)\n",
    "plt.xticks(y_pos, objects)\n",
    "plt.ylabel('<label here>')\n",
    "plt.title('Intercluster Distances')\n",
    "\n",
    "plt.show()"
   ]
  },
  {
   "cell_type": "code",
   "execution_count": null,
   "metadata": {},
   "outputs": [],
   "source": [
    "plt.savefig('intercluster.png')"
   ]
  },
  {
   "cell_type": "markdown",
   "metadata": {},
   "source": [
    "### silhouetter coefficient"
   ]
  },
  {
   "cell_type": "code",
   "execution_count": 46,
   "metadata": {},
   "outputs": [
    {
     "ename": "TypeError",
     "evalue": "unsupported operand type(s) for /: 'NoneType' and 'int'",
     "output_type": "error",
     "traceback": [
      "\u001b[0;31m---------------------------------------------------------------------------\u001b[0m",
      "\u001b[0;31mTypeError\u001b[0m                                 Traceback (most recent call last)",
      "\u001b[0;32m<ipython-input-46-f60ded3d92fb>\u001b[0m in \u001b[0;36m<module>\u001b[0;34m\u001b[0m\n\u001b[1;32m      1\u001b[0m \u001b[0;31m#intra_avg_mean_list = [np.mean(avg_list) for avg_list in [bow_stemmed_kmeans.intra_avg_list, tfidf_kmeans.intra_avg_list, lda_10_kmeans.intra_avg_list, lda_25_kmeans.intra_avg_list, lda_50_kmeans.intra_avg_list, w2v_kmeans.intra_avg_list, gv_kmeans.intra_avg_list, d2v_kmeans.intra_avg_list]]\u001b[0m\u001b[0;34m\u001b[0m\u001b[0;34m\u001b[0m\u001b[0;34m\u001b[0m\u001b[0m\n\u001b[1;32m      2\u001b[0m \u001b[0;31m#inter_dist_mean_list = [bow_stemmed_kmeans_inter_dist_mean, tfidf_kmeans_inter_dist_mean, lda_10_kmeans_inter_dist_mean, lda_25_kmeans_inter_dist_mean, lda_50_kmeans_inter_dist_mean, w2v_kmeans_inter_dist_mean, gv_kmeans_inter_dist_mean, d2v_kmeans_inter_dist_mean]\u001b[0m\u001b[0;34m\u001b[0m\u001b[0;34m\u001b[0m\u001b[0;34m\u001b[0m\u001b[0m\n\u001b[0;32m----> 3\u001b[0;31m \u001b[0mintra_avg_mean_list\u001b[0m \u001b[0;34m=\u001b[0m \u001b[0;34m[\u001b[0m\u001b[0mnp\u001b[0m\u001b[0;34m.\u001b[0m\u001b[0mmean\u001b[0m\u001b[0;34m(\u001b[0m\u001b[0mavg_list\u001b[0m\u001b[0;34m)\u001b[0m \u001b[0;32mfor\u001b[0m \u001b[0mavg_list\u001b[0m \u001b[0;32min\u001b[0m \u001b[0;34m[\u001b[0m\u001b[0mbow_stemmed_kmeans\u001b[0m\u001b[0;34m.\u001b[0m\u001b[0mintra_avg_list\u001b[0m\u001b[0;34m,\u001b[0m \u001b[0mlda_10_kmeans\u001b[0m\u001b[0;34m.\u001b[0m\u001b[0mintra_avg_list\u001b[0m\u001b[0;34m,\u001b[0m \u001b[0mlda_25_kmeans\u001b[0m\u001b[0;34m.\u001b[0m\u001b[0mintra_avg_list\u001b[0m\u001b[0;34m,\u001b[0m \u001b[0mlda_50_kmeans\u001b[0m\u001b[0;34m.\u001b[0m\u001b[0mintra_avg_list\u001b[0m\u001b[0;34m,\u001b[0m \u001b[0mw2v_kmeans\u001b[0m\u001b[0;34m.\u001b[0m\u001b[0mintra_avg_list\u001b[0m\u001b[0;34m,\u001b[0m \u001b[0mgv_kmeans\u001b[0m\u001b[0;34m.\u001b[0m\u001b[0mintra_avg_list\u001b[0m\u001b[0;34m,\u001b[0m \u001b[0md2v_kmeans\u001b[0m\u001b[0;34m.\u001b[0m\u001b[0mintra_avg_list\u001b[0m\u001b[0;34m]\u001b[0m\u001b[0;34m]\u001b[0m\u001b[0;34m\u001b[0m\u001b[0;34m\u001b[0m\u001b[0m\n\u001b[0m\u001b[1;32m      4\u001b[0m \u001b[0minter_dist_mean_list\u001b[0m \u001b[0;34m=\u001b[0m \u001b[0;34m[\u001b[0m\u001b[0mbow_stemmed_kmeans_inter_dist_mean\u001b[0m\u001b[0;34m,\u001b[0m \u001b[0mlda_10_kmeans_inter_dist_mean\u001b[0m\u001b[0;34m,\u001b[0m \u001b[0mlda_25_kmeans_inter_dist_mean\u001b[0m\u001b[0;34m,\u001b[0m \u001b[0mlda_50_kmeans_inter_dist_mean\u001b[0m\u001b[0;34m,\u001b[0m \u001b[0mw2v_kmeans_inter_dist_mean\u001b[0m\u001b[0;34m,\u001b[0m \u001b[0mgv_kmeans_inter_dist_mean\u001b[0m\u001b[0;34m,\u001b[0m \u001b[0md2v_kmeans_inter_dist_mean\u001b[0m\u001b[0;34m]\u001b[0m\u001b[0;34m\u001b[0m\u001b[0;34m\u001b[0m\u001b[0m\n",
      "\u001b[0;32m<ipython-input-46-f60ded3d92fb>\u001b[0m in \u001b[0;36m<listcomp>\u001b[0;34m(.0)\u001b[0m\n\u001b[1;32m      1\u001b[0m \u001b[0;31m#intra_avg_mean_list = [np.mean(avg_list) for avg_list in [bow_stemmed_kmeans.intra_avg_list, tfidf_kmeans.intra_avg_list, lda_10_kmeans.intra_avg_list, lda_25_kmeans.intra_avg_list, lda_50_kmeans.intra_avg_list, w2v_kmeans.intra_avg_list, gv_kmeans.intra_avg_list, d2v_kmeans.intra_avg_list]]\u001b[0m\u001b[0;34m\u001b[0m\u001b[0;34m\u001b[0m\u001b[0;34m\u001b[0m\u001b[0m\n\u001b[1;32m      2\u001b[0m \u001b[0;31m#inter_dist_mean_list = [bow_stemmed_kmeans_inter_dist_mean, tfidf_kmeans_inter_dist_mean, lda_10_kmeans_inter_dist_mean, lda_25_kmeans_inter_dist_mean, lda_50_kmeans_inter_dist_mean, w2v_kmeans_inter_dist_mean, gv_kmeans_inter_dist_mean, d2v_kmeans_inter_dist_mean]\u001b[0m\u001b[0;34m\u001b[0m\u001b[0;34m\u001b[0m\u001b[0;34m\u001b[0m\u001b[0m\n\u001b[0;32m----> 3\u001b[0;31m \u001b[0mintra_avg_mean_list\u001b[0m \u001b[0;34m=\u001b[0m \u001b[0;34m[\u001b[0m\u001b[0mnp\u001b[0m\u001b[0;34m.\u001b[0m\u001b[0mmean\u001b[0m\u001b[0;34m(\u001b[0m\u001b[0mavg_list\u001b[0m\u001b[0;34m)\u001b[0m \u001b[0;32mfor\u001b[0m \u001b[0mavg_list\u001b[0m \u001b[0;32min\u001b[0m \u001b[0;34m[\u001b[0m\u001b[0mbow_stemmed_kmeans\u001b[0m\u001b[0;34m.\u001b[0m\u001b[0mintra_avg_list\u001b[0m\u001b[0;34m,\u001b[0m \u001b[0mlda_10_kmeans\u001b[0m\u001b[0;34m.\u001b[0m\u001b[0mintra_avg_list\u001b[0m\u001b[0;34m,\u001b[0m \u001b[0mlda_25_kmeans\u001b[0m\u001b[0;34m.\u001b[0m\u001b[0mintra_avg_list\u001b[0m\u001b[0;34m,\u001b[0m \u001b[0mlda_50_kmeans\u001b[0m\u001b[0;34m.\u001b[0m\u001b[0mintra_avg_list\u001b[0m\u001b[0;34m,\u001b[0m \u001b[0mw2v_kmeans\u001b[0m\u001b[0;34m.\u001b[0m\u001b[0mintra_avg_list\u001b[0m\u001b[0;34m,\u001b[0m \u001b[0mgv_kmeans\u001b[0m\u001b[0;34m.\u001b[0m\u001b[0mintra_avg_list\u001b[0m\u001b[0;34m,\u001b[0m \u001b[0md2v_kmeans\u001b[0m\u001b[0;34m.\u001b[0m\u001b[0mintra_avg_list\u001b[0m\u001b[0;34m]\u001b[0m\u001b[0;34m]\u001b[0m\u001b[0;34m\u001b[0m\u001b[0;34m\u001b[0m\u001b[0m\n\u001b[0m\u001b[1;32m      4\u001b[0m \u001b[0minter_dist_mean_list\u001b[0m \u001b[0;34m=\u001b[0m \u001b[0;34m[\u001b[0m\u001b[0mbow_stemmed_kmeans_inter_dist_mean\u001b[0m\u001b[0;34m,\u001b[0m \u001b[0mlda_10_kmeans_inter_dist_mean\u001b[0m\u001b[0;34m,\u001b[0m \u001b[0mlda_25_kmeans_inter_dist_mean\u001b[0m\u001b[0;34m,\u001b[0m \u001b[0mlda_50_kmeans_inter_dist_mean\u001b[0m\u001b[0;34m,\u001b[0m \u001b[0mw2v_kmeans_inter_dist_mean\u001b[0m\u001b[0;34m,\u001b[0m \u001b[0mgv_kmeans_inter_dist_mean\u001b[0m\u001b[0;34m,\u001b[0m \u001b[0md2v_kmeans_inter_dist_mean\u001b[0m\u001b[0;34m]\u001b[0m\u001b[0;34m\u001b[0m\u001b[0;34m\u001b[0m\u001b[0m\n",
      "\u001b[0;32m<__array_function__ internals>\u001b[0m in \u001b[0;36mmean\u001b[0;34m(*args, **kwargs)\u001b[0m\n",
      "\u001b[0;32m~/anaconda3/lib/python3.7/site-packages/numpy/core/fromnumeric.py\u001b[0m in \u001b[0;36mmean\u001b[0;34m(a, axis, dtype, out, keepdims)\u001b[0m\n\u001b[1;32m   3371\u001b[0m \u001b[0;34m\u001b[0m\u001b[0m\n\u001b[1;32m   3372\u001b[0m     return _methods._mean(a, axis=axis, dtype=dtype,\n\u001b[0;32m-> 3373\u001b[0;31m                           out=out, **kwargs)\n\u001b[0m\u001b[1;32m   3374\u001b[0m \u001b[0;34m\u001b[0m\u001b[0m\n\u001b[1;32m   3375\u001b[0m \u001b[0;34m\u001b[0m\u001b[0m\n",
      "\u001b[0;32m~/anaconda3/lib/python3.7/site-packages/numpy/core/_methods.py\u001b[0m in \u001b[0;36m_mean\u001b[0;34m(a, axis, dtype, out, keepdims)\u001b[0m\n\u001b[1;32m    170\u001b[0m             \u001b[0mret\u001b[0m \u001b[0;34m=\u001b[0m \u001b[0mret\u001b[0m\u001b[0;34m.\u001b[0m\u001b[0mdtype\u001b[0m\u001b[0;34m.\u001b[0m\u001b[0mtype\u001b[0m\u001b[0;34m(\u001b[0m\u001b[0mret\u001b[0m \u001b[0;34m/\u001b[0m \u001b[0mrcount\u001b[0m\u001b[0;34m)\u001b[0m\u001b[0;34m\u001b[0m\u001b[0;34m\u001b[0m\u001b[0m\n\u001b[1;32m    171\u001b[0m     \u001b[0;32melse\u001b[0m\u001b[0;34m:\u001b[0m\u001b[0;34m\u001b[0m\u001b[0;34m\u001b[0m\u001b[0m\n\u001b[0;32m--> 172\u001b[0;31m         \u001b[0mret\u001b[0m \u001b[0;34m=\u001b[0m \u001b[0mret\u001b[0m \u001b[0;34m/\u001b[0m \u001b[0mrcount\u001b[0m\u001b[0;34m\u001b[0m\u001b[0;34m\u001b[0m\u001b[0m\n\u001b[0m\u001b[1;32m    173\u001b[0m \u001b[0;34m\u001b[0m\u001b[0m\n\u001b[1;32m    174\u001b[0m     \u001b[0;32mreturn\u001b[0m \u001b[0mret\u001b[0m\u001b[0;34m\u001b[0m\u001b[0;34m\u001b[0m\u001b[0m\n",
      "\u001b[0;31mTypeError\u001b[0m: unsupported operand type(s) for /: 'NoneType' and 'int'"
     ]
    }
   ],
   "source": [
    "#intra_avg_mean_list = [np.mean(avg_list) for avg_list in [bow_stemmed_kmeans.intra_avg_list, tfidf_kmeans.intra_avg_list, lda_10_kmeans.intra_avg_list, lda_25_kmeans.intra_avg_list, lda_50_kmeans.intra_avg_list, w2v_kmeans.intra_avg_list, gv_kmeans.intra_avg_list, d2v_kmeans.intra_avg_list]]\n",
    "#inter_dist_mean_list = [bow_stemmed_kmeans_inter_dist_mean, tfidf_kmeans_inter_dist_mean, lda_10_kmeans_inter_dist_mean, lda_25_kmeans_inter_dist_mean, lda_50_kmeans_inter_dist_mean, w2v_kmeans_inter_dist_mean, gv_kmeans_inter_dist_mean, d2v_kmeans_inter_dist_mean]\n",
    "intra_avg_mean_list = [np.mean(avg_list) for avg_list in [bow_stemmed_kmeans.intra_avg_list, lda_10_kmeans.intra_avg_list, lda_25_kmeans.intra_avg_list, lda_50_kmeans.intra_avg_list, w2v_kmeans.intra_avg_list, gv_kmeans.intra_avg_list, d2v_kmeans.intra_avg_list]]\n",
    "inter_dist_mean_list = [bow_stemmed_kmeans_inter_dist_mean, lda_10_kmeans_inter_dist_mean, lda_25_kmeans_inter_dist_mean, lda_50_kmeans_inter_dist_mean, w2v_kmeans_inter_dist_mean, gv_kmeans_inter_dist_mean, d2v_kmeans_inter_dist_mean]"
   ]
  },
  {
   "cell_type": "code",
   "execution_count": 65,
   "metadata": {},
   "outputs": [],
   "source": [
    "intra_inter_zipped = zip(intra_avg_mean_list, inter_dist_mean_list)\n",
    "silhouette_scores = []\n",
    "for a, b in intra_inter_zipped:\n",
    "    score = (b - a)/np.max([a, b])\n",
    "    silhouette_scores.append(score)"
   ]
  },
  {
   "cell_type": "code",
   "execution_count": 67,
   "metadata": {},
   "outputs": [
    {
     "data": {
      "image/png": "[encoded data removed]",
      "text/plain": [
       "<Figure size 432x288 with 1 Axes>"
      ]
     },
     "metadata": {
      "needs_background": "light"
     },
     "output_type": "display_data"
    }
   ],
   "source": [
    "#objects = ('bow_stemmed', 'tfidf', 'lda_10', 'lda_25', 'lda_50', 'w2v', 'glove', 'd2v')\n",
    "objects = ('bow_stemmed', 'lda_10', 'lda_25', 'lda_50', 'w2v', 'glove', 'd2v')\n",
    "y_pos = np.arange(len(objects))\n",
    "#performance = [bow_stemmed_kmeans_inter_dist_mean, tfidf_kmeans_inter_dist_mean, lda_10_kmeans_inter_dist_mean, lda_25_kmeans_inter_dist_mean, lda_50_kmeans_inter_dist_mean, w2v_kmeans_inter_dist_mean, gv_kmeans_inter_dist_mean, d2v_kmeans_inter_dist_mean]\n",
    "performance = [bow_stemmed_kmeans_inter_dist_mean, lda_10_kmeans_inter_dist_mean, lda_25_kmeans_inter_dist_mean, lda_50_kmeans_inter_dist_mean, w2v_kmeans_inter_dist_mean, gv_kmeans_inter_dist_mean, d2v_kmeans_inter_dist_mean]\n",
    "\n",
    "plt.bar(y_pos, silhouette_scores, align='center', alpha=0.5)\n",
    "plt.xticks(y_pos, objects)\n",
    "plt.ylabel('<label here>')\n",
    "plt.title('Silhouettes Coefficients')\n",
    "\n",
    "plt.show()"
   ]
  },
  {
   "cell_type": "code",
   "execution_count": null,
   "metadata": {},
   "outputs": [],
   "source": [
    "plt.savefig('silhouette.png')"
   ]
  },
  {
   "cell_type": "code",
   "execution_count": null,
   "metadata": {},
   "outputs": [],
   "source": []
  }
 ],
 "metadata": {
  "kernelspec": {
   "display_name": "Python 3",
   "language": "python",
   "name": "python3"
  },
  "language_info": {
   "codemirror_mode": {
    "name": "ipython",
    "version": 3
   },
   "file_extension": ".py",
   "mimetype": "text/x-python",
   "name": "python",
   "nbconvert_exporter": "python",
   "pygments_lexer": "ipython3",
   "version": "3.7.1"
  }
 },
 "nbformat": 4,
 "nbformat_minor": 2
}
