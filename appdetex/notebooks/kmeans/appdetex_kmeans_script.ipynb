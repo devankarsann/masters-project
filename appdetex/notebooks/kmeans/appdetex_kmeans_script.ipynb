{
 "cells": [
  {
   "cell_type": "markdown",
   "metadata": {},
   "source": [
    "# increasing width of notebook"
   ]
  },
  {
   "cell_type": "code",
   "execution_count": 1,
   "metadata": {},
   "outputs": [
    {
     "ename": "IndexError",
     "evalue": "list index out of range",
     "output_type": "error",
     "traceback": [
      "\u001b[0;31m---------------------------------------------------------------------------\u001b[0m",
      "\u001b[0;31mIndexError\u001b[0m                                Traceback (most recent call last)",
      "\u001b[0;32m<ipython-input-1-f780565c2896>\u001b[0m in \u001b[0;36m<module>\u001b[0;34m\u001b[0m\n\u001b[1;32m      9\u001b[0m \u001b[0mstemmed\u001b[0m \u001b[0;34m=\u001b[0m \u001b[0msys\u001b[0m\u001b[0;34m.\u001b[0m\u001b[0margv\u001b[0m\u001b[0;34m[\u001b[0m\u001b[0;36m1\u001b[0m\u001b[0;34m]\u001b[0m\u001b[0;34m\u001b[0m\u001b[0;34m\u001b[0m\u001b[0m\n\u001b[1;32m     10\u001b[0m \u001b[0mrepresentation\u001b[0m \u001b[0;34m=\u001b[0m \u001b[0msys\u001b[0m\u001b[0;34m.\u001b[0m\u001b[0margv\u001b[0m\u001b[0;34m[\u001b[0m\u001b[0;36m2\u001b[0m\u001b[0;34m]\u001b[0m\u001b[0;34m\u001b[0m\u001b[0;34m\u001b[0m\u001b[0m\n\u001b[0;32m---> 11\u001b[0;31m \u001b[0mtechnique\u001b[0m \u001b[0;34m=\u001b[0m \u001b[0msys\u001b[0m\u001b[0;34m.\u001b[0m\u001b[0margv\u001b[0m\u001b[0;34m[\u001b[0m\u001b[0;36m3\u001b[0m\u001b[0;34m]\u001b[0m\u001b[0;34m\u001b[0m\u001b[0;34m\u001b[0m\u001b[0m\n\u001b[0m\u001b[1;32m     12\u001b[0m \u001b[0mnum_clusters\u001b[0m \u001b[0;34m=\u001b[0m \u001b[0mint\u001b[0m\u001b[0;34m(\u001b[0m\u001b[0msys\u001b[0m\u001b[0;34m.\u001b[0m\u001b[0margv\u001b[0m\u001b[0;34m[\u001b[0m\u001b[0;36m4\u001b[0m\u001b[0;34m]\u001b[0m\u001b[0;34m)\u001b[0m\u001b[0;34m\u001b[0m\u001b[0;34m\u001b[0m\u001b[0m\n\u001b[1;32m     13\u001b[0m \u001b[0;34m\u001b[0m\u001b[0m\n",
      "\u001b[0;31mIndexError\u001b[0m: list index out of range"
     ]
    }
   ],
   "source": [
    "import sys\n",
    "\n",
    "# argument list:\n",
    "# - stemmed: true or false\n",
    "# - representation: BOW, TFIDF, LDA_10, LDA_25, LDA_50, Word2Vec, Glove, Doc2Vec\n",
    "# - technique: full, elkan\n",
    "# - num_clusters: 10, 50, 100, 500, 1000\n",
    "\n",
    "stemmed = sys.argv[1]\n",
    "representation = sys.argv[2]\n",
    "technique = sys.argv[3]\n",
    "num_clusters = int(sys.argv[4])\n",
    "\n",
    "if (stemmed not in ['true', 'false']):\n",
    "    print('incorrect kmeans stemmed argument value: ' + stemmed)\n",
    "    quit()\n",
    "    \n",
    "if (representation not in ['BOW', 'TFIDF', 'LDA_10', 'LDA_25', 'LDA_50', 'Word2Vec', 'Glove', 'Doc2Vec']):\n",
    "    print('incorrect kmeans representation argument value: ' + representation)\n",
    "    quit()\n",
    "    \n",
    "if (technique not in ['full', 'elkan']):\n",
    "    print('incorrect kmeans technique argument value: ' + technique)\n",
    "    quit()\n",
    "    \n",
    "if (nun_clusters not in [5, 10, 20, 40]):\n",
    "    print('incorrect kmeans num_clusters argument value: ' + num_clusters)\n",
    "    quit()"
   ]
  },
  {
   "cell_type": "code",
   "execution_count": 6,
   "metadata": {},
   "outputs": [],
   "source": [
    "stemmed = 'true'\n",
    "representation = 'BOW' # good :)\n",
    "#representation = 'TFIDF' # taking long time\n",
    "#representation = 'LDA_10' # good :)\n",
    "#representation = 'LDA_25' # good :)\n",
    "#representation = 'LDA_50' # good :)\n",
    "#representation = 'Word2Vec' # good :)\n",
    "#representation = 'Glove' # good :)\n",
    "#representation = 'Doc2Vec' # good :)\n",
    "technique = 'full'\n",
    "num_clusters = 20"
   ]
  },
  {
   "cell_type": "code",
   "execution_count": 24,
   "metadata": {},
   "outputs": [],
   "source": [
    "stemmed = 'false'\n",
    "#representation = 'BOW' good :)\n",
    "#representation = 'TFIDF' # probsbly takes a while\n",
    "#representation = 'LDA_10' # good :)\n",
    "#representation = 'LDA_25' # good :)\n",
    "#representation = 'LDA_50' # good :)\n",
    "#representation = 'Word2Vec' # good :)\n",
    "#representation = 'Glove' # good :)\n",
    "#representation = 'Doc2Vec' # good :)\n",
    "technique = 'full'\n",
    "num_clusters = 20"
   ]
  },
  {
   "cell_type": "code",
   "execution_count": 2,
   "metadata": {},
   "outputs": [],
   "source": [
    "from clustering_and_metrics_kmeans import bow_model, tfidf_model, lda_10_model, lda_25_model, lda_50_model, w2v_model, gv_model, d2v_model\n",
    "import numpy as np\n",
    "import pickle\n",
    "from AppDetexKmeansMetricResults import KmeansMetricResults"
   ]
  },
  {
   "cell_type": "markdown",
   "metadata": {},
   "source": [
    "## creating and saving result object"
   ]
  },
  {
   "cell_type": "code",
   "execution_count": 3,
   "metadata": {},
   "outputs": [],
   "source": [
    "def calculate_and_save_metrics(kmeans_results, time_1, time_2):\n",
    "    # interdistance mean\n",
    "    print('calculating interdistance means')\n",
    "    kmeans_centroid_centroid_distances, kmeans_inter_dist = kmeans_results.intercluster_dist()\n",
    "    kmeans_results_inter_dist_mean = np.average(kmeans_inter_dist)\n",
    "    \n",
    "    # silhouette coefficient\n",
    "    print('calculating silhouetete coefficient')\n",
    "    a = np.mean(kmeans_results.avg_list)\n",
    "    b = kmeans_results_inter_dist_mean\n",
    "    silhouette_score = (b - a)/np.max([a, b])\n",
    "\n",
    "    # creating and saving result object\n",
    "    print('creating and saving result object')\n",
    "    kmeansMetricResults = KmeansMetricResults(stemmed, representation, technique, num_clusters)\n",
    "    kmeansMetricResults.set_intra_metrics(kmeans_results.avg_list, kmeans_results.variance_list)\n",
    "    kmeansMetricResults.set_inter_metrics(kmeans_inter_dist, kmeans_results_inter_dist_mean)\n",
    "    kmeansMetricResults.set_silhouette(silhouette_score)\n",
    "    \n",
    "    # set computing time metrics\n",
    "    time_3 = round(time.time() * 1000)\n",
    "    knnMetricResults.set_compute_time(time_2-time_1, time_3-time_2)\n",
    "    \n",
    "    kmeansMetricResults.save()"
   ]
  },
  {
   "cell_type": "markdown",
   "metadata": {},
   "source": [
    "### clustering and metrics methods"
   ]
  },
  {
   "cell_type": "code",
   "execution_count": 7,
   "metadata": {},
   "outputs": [],
   "source": [
    "#d2v_centroid_centroi_distances, d2v_kmeans_inter_dist = d2v_kmeans.intercluster_dist()\n",
    "#d2v_kmeans_inter_dist_mean = np.average(d2v_kmeans_inter_dist)"
   ]
  },
  {
   "cell_type": "markdown",
   "metadata": {},
   "source": [
    "## bag of words"
   ]
  },
  {
   "cell_type": "code",
   "execution_count": 4,
   "metadata": {},
   "outputs": [],
   "source": [
    "def new_bow_kmeans():\n",
    "    bow_kmeans = bow_model(stemmed, technique, num_clusters)\n",
    "    bow_kmeans.load_data()\n",
    "    time_1 = round(time.time() * 1000)\n",
    "    bow_kmeans.run_kmeans()\n",
    "    time_2 = round(time.time() * 1000)\n",
    "    bow_kmeans.calculate_intracluster_similarity()\n",
    "    return bow_kmeans, time_1, time_2"
   ]
  },
  {
   "cell_type": "code",
   "execution_count": 5,
   "metadata": {
    "scrolled": true
   },
   "outputs": [
    {
     "name": "stdout",
     "output_type": "stream",
     "text": [
      "using file extension .npz for bow/bow_matrix\n",
      "loading ../../processed_files/bow/bow_matrix.npz\n",
      "loading ../../processed_files/df_merged.pickle\n",
      "finding 20 clusters with full algorithm\n",
      "calculating interdistance means\n",
      "calculating silhouetete coefficient\n",
      "creating and saving result object\n"
     ]
    }
   ],
   "source": [
    "if representation == 'BOW':\n",
    "    kmeans_results, time_1, time_2 = new_bow_kmeans()\n",
    "    calculate_and_save_metrics(kmeans_results)"
   ]
  },
  {
   "cell_type": "markdown",
   "metadata": {},
   "source": [
    "## tfidf matrix"
   ]
  },
  {
   "cell_type": "code",
   "execution_count": 7,
   "metadata": {},
   "outputs": [],
   "source": [
    "def new_tfidf_kmeans():\n",
    "    tfidf_kmeans = tfidf_model(stemmed, technique, num_clusters)\n",
    "    tfidf_kmeans.load_data()\n",
    "    time_1 = round(time.time() * 1000)\n",
    "    tfidf_kmeans.run_kmeans()\n",
    "    time_2 = round(time.time() * 1000)\n",
    "    tfidf_kmeans.calculate_intracluster_similarity()\n",
    "    return tfidf_kmeans, time_1, time_2"
   ]
  },
  {
   "cell_type": "code",
   "execution_count": null,
   "metadata": {
    "scrolled": true
   },
   "outputs": [
    {
     "name": "stdout",
     "output_type": "stream",
     "text": [
      "using file extension .npz for tfidf/stemmed_tfidf_matrix\n",
      "loading ../../processed_files/tfidf/stemmed_tfidf_matrix.npz\n",
      "loading ../../processed_files/df_merged.pickle\n",
      "finding 20 clusters with full algorithm\n"
     ]
    }
   ],
   "source": [
    "if representation == 'TFIDF':\n",
    "    kmeans_results, time_1, time_2 = new_tfidf_kmeans()\n",
    "    calculate_and_save_metrics(kmeans_results, time_1, time_2)"
   ]
  },
  {
   "cell_type": "markdown",
   "metadata": {},
   "source": [
    "# LDA"
   ]
  },
  {
   "cell_type": "markdown",
   "metadata": {},
   "source": [
    "## lda 10 matrix"
   ]
  },
  {
   "cell_type": "code",
   "execution_count": 7,
   "metadata": {},
   "outputs": [],
   "source": [
    "def new_lda_10_kmeans():\n",
    "    lda_10_kmeans = lda_10_model(stemmed, technique, num_clusters)\n",
    "    lda_10_kmeans.load_data()\n",
    "    time_1 = round(time.time() * 1000)\n",
    "    lda_10_kmeans.run_kmeans()\n",
    "    time_2 = round(time.time() * 1000)\n",
    "    lda_10_kmeans.calculate_intracluster_similarity()\n",
    "    return lda_10_kmeans, time_1, time_2"
   ]
  },
  {
   "cell_type": "code",
   "execution_count": 8,
   "metadata": {},
   "outputs": [
    {
     "name": "stdout",
     "output_type": "stream",
     "text": [
      "using file extension .npy for lda_10/lda_10_matrix\n",
      "loading ../../processed_files/lda_10/lda_10_matrix.npy\n",
      "loading ../../processed_files/df_merged.pickle\n",
      "finding 20 clusters with full algorithm\n",
      "calculating interdistance means\n",
      "calculating silhouetete coefficient\n",
      "creating and saving result object\n"
     ]
    }
   ],
   "source": [
    "if representation == 'LDA_10':\n",
    "    kmeans_results, time_1, time_2 = new_lda_10_kmeans()\n",
    "    calculate_and_save_metrics(kmeans_results, time_1, time_2)"
   ]
  },
  {
   "cell_type": "markdown",
   "metadata": {},
   "source": [
    "## lda 25 matrix"
   ]
  },
  {
   "cell_type": "code",
   "execution_count": 10,
   "metadata": {},
   "outputs": [],
   "source": [
    "def new_lda_25_kmeans():\n",
    "    lda_25_kmeans = lda_25_model(stemmed, technique, num_clusters)\n",
    "    lda_25_kmeans.load_data()\n",
    "    time_1 = round(time.time() * 1000)\n",
    "    lda_25_kmeans.run_kmeans()\n",
    "    time_2 = round(time.time() * 1000)\n",
    "    lda_25_kmeans.calculate_intracluster_similarity()\n",
    "    return lda_25_kmeans, time_1, time_2"
   ]
  },
  {
   "cell_type": "code",
   "execution_count": 11,
   "metadata": {},
   "outputs": [
    {
     "name": "stdout",
     "output_type": "stream",
     "text": [
      "using file extension .npy for lda_25/lda_25_matrix\n",
      "loading ../../processed_files/lda_25/lda_25_matrix.npy\n",
      "loading ../../processed_files/df_merged.pickle\n",
      "finding 20 clusters with full algorithm\n",
      "calculating interdistance means\n",
      "calculating silhouetete coefficient\n",
      "creating and saving result object\n"
     ]
    }
   ],
   "source": [
    "if representation == 'LDA_25':\n",
    "    kmeans_results, time_1, time_2 = new_lda_25_kmeans()\n",
    "    calculate_and_save_metrics(kmeans_results, time_1, time_2)"
   ]
  },
  {
   "cell_type": "markdown",
   "metadata": {},
   "source": [
    "## lda 50 matrix"
   ]
  },
  {
   "cell_type": "code",
   "execution_count": 13,
   "metadata": {},
   "outputs": [],
   "source": [
    "def new_lda_50_kmeans():\n",
    "    lda_50_kmeans = lda_50_model(stemmed, technique, num_clusters)\n",
    "    lda_50_kmeans.load_data()\n",
    "    time_1 = round(time.time() * 1000)\n",
    "    lda_50_kmeans.run_kmeans()\n",
    "    time_2 = round(time.time() * 1000)\n",
    "    lda_50_kmeans.calculate_intracluster_similarity()\n",
    "    return lda_50_kmeans, time_1, time_2"
   ]
  },
  {
   "cell_type": "code",
   "execution_count": 14,
   "metadata": {},
   "outputs": [
    {
     "name": "stdout",
     "output_type": "stream",
     "text": [
      "using file extension .npy for lda_50/lda_50_matrix\n",
      "loading ../../processed_files/lda_50/lda_50_matrix.npy\n",
      "loading ../../processed_files/df_merged.pickle\n",
      "finding 20 clusters with full algorithm\n",
      "calculating interdistance means\n",
      "calculating silhouetete coefficient\n",
      "creating and saving result object\n"
     ]
    }
   ],
   "source": [
    "if representation == 'LDA_50':\n",
    "    kmeans_results, time_1, time_2 = new_lda_50_kmeans()\n",
    "    calculate_and_save_metrics(kmeans_results, time_1, time_2)"
   ]
  },
  {
   "cell_type": "markdown",
   "metadata": {},
   "source": [
    "## word2vec matrix"
   ]
  },
  {
   "cell_type": "code",
   "execution_count": 16,
   "metadata": {},
   "outputs": [],
   "source": [
    "def new_w2v_kmeans():\n",
    "    w2v_kmeans = w2v_model(stemmed, technique, num_clusters)\n",
    "    w2v_kmeans.load_data()\n",
    "    time_1 = round(time.time() * 1000)\n",
    "    w2v_kmeans.run_kmeans()\n",
    "    time_2 = round(time.time() * 1000)\n",
    "    w2v_kmeans.calculate_intracluster_similarity()\n",
    "    return w2v_kmeans, time_1, time_2"
   ]
  },
  {
   "cell_type": "code",
   "execution_count": 17,
   "metadata": {},
   "outputs": [
    {
     "name": "stdout",
     "output_type": "stream",
     "text": [
      "using file extension .npy for w2v/w2v_matrix\n",
      "loading ../../processed_files/w2v/w2v_matrix.npy\n",
      "loading ../../processed_files/df_merged.pickle\n",
      "finding 20 clusters with full algorithm\n",
      "calculating interdistance means\n",
      "calculating silhouetete coefficient\n",
      "creating and saving result object\n"
     ]
    }
   ],
   "source": [
    "if representation == 'Word2Vec':\n",
    "    kmeans_results, time_1, time_2 = new_w2v_kmeans()\n",
    "    calculate_and_save_metrics(kmeans_results, time_1, time_2)"
   ]
  },
  {
   "cell_type": "markdown",
   "metadata": {},
   "source": [
    "## glove matrix"
   ]
  },
  {
   "cell_type": "code",
   "execution_count": 22,
   "metadata": {},
   "outputs": [],
   "source": [
    "def new_gv_kmeans():\n",
    "    gv_kmeans = gv_model(stemmed, technique, num_clusters)\n",
    "    gv_kmeans.load_data()\n",
    "    time_1 = round(time.time() * 1000)\n",
    "    gv_kmeans.run_kmeans()\n",
    "    time_2 = round(time.time() * 1000)\n",
    "    gv_kmeans.calculate_intracluster_similarity()\n",
    "    return gv_kmeans, time_1, time_2"
   ]
  },
  {
   "cell_type": "code",
   "execution_count": 23,
   "metadata": {},
   "outputs": [
    {
     "name": "stdout",
     "output_type": "stream",
     "text": [
      "using file extension .npy for glove/glove_matrix\n",
      "loading ../../processed_files/glove/glove_matrix.npy\n",
      "loading ../../processed_files/df_merged.pickle\n",
      "finding 20 clusters with full algorithm\n",
      "calculating interdistance means\n",
      "calculating silhouetete coefficient\n",
      "creating and saving result object\n"
     ]
    }
   ],
   "source": [
    "if representation == 'Glove':\n",
    "    kmeans_results, time_1, time_2 = new_gv_kmeans()\n",
    "    calculate_and_save_metrics(kmeans_results, time_1, time_2)"
   ]
  },
  {
   "cell_type": "markdown",
   "metadata": {},
   "source": [
    "## doc2vec matrix"
   ]
  },
  {
   "cell_type": "code",
   "execution_count": 25,
   "metadata": {},
   "outputs": [],
   "source": [
    "def new_d2v_kmeans():\n",
    "    d2v_kmeans = d2v_model(stemmed, technique, num_clusters)\n",
    "    d2v_kmeans.load_data()\n",
    "    time_1 = round(time.time() * 1000)\n",
    "    d2v_kmeans.run_kmeans()\n",
    "    time_2 = round(time.time() * 1000)\n",
    "    d2v_kmeans.calculate_intracluster_similarity()\n",
    "    return d2v_kmeans"
   ]
  },
  {
   "cell_type": "code",
   "execution_count": 26,
   "metadata": {},
   "outputs": [
    {
     "name": "stdout",
     "output_type": "stream",
     "text": [
      "using file extension .npy for d2v/d2v_matrix\n",
      "loading ../../processed_files/d2v/d2v_matrix.npy\n",
      "loading ../../processed_files/df_merged.pickle\n",
      "finding 20 clusters with full algorithm\n",
      "calculating interdistance means\n",
      "calculating silhouetete coefficient\n",
      "creating and saving result object\n"
     ]
    }
   ],
   "source": [
    "if representation == 'Doc2Vec':\n",
    "    kmeans_results, time_1, time_2 = new_d2v_kmeans()\n",
    "    calculate_and_save_metrics(kmeans_results, time_1, time_2)"
   ]
  },
  {
   "cell_type": "markdown",
   "metadata": {},
   "source": [
    "## metric analysis"
   ]
  },
  {
   "cell_type": "code",
   "execution_count": 5,
   "metadata": {},
   "outputs": [],
   "source": [
    "kmeans_centroid_centroid_distances, kmeans_inter_dist = kmeans_results.intercluster_dist()\n",
    "kmeans_results_inter_dist_mean = np.average(kmeans_inter_dist)"
   ]
  },
  {
   "cell_type": "code",
   "execution_count": 6,
   "metadata": {},
   "outputs": [
    {
     "data": {
      "text/plain": [
       "[0.8877210040006793,\n",
       " 0.6994753415500407,\n",
       " 1.0577988635480908,\n",
       " 1.0443087778009112,\n",
       " 0.8354274604425623,\n",
       " 1.064469673044679,\n",
       " 0.7025040309419293,\n",
       " 1.032234501977111,\n",
       " 0.9106421652276262,\n",
       " 0.8436968586373815,\n",
       " 1.0931976201009883,\n",
       " 0.7339734640885138,\n",
       " 0.9091937579822751,\n",
       " 0.9659314394324112,\n",
       " 0.8660877087580767,\n",
       " 1.0399779362218005,\n",
       " 0.7846609548917707,\n",
       " 0.8147638755182528,\n",
       " 0.8647552108548208,\n",
       " 0.6949653791070765,\n",
       " 1.0669036950570687,\n",
       " 1.050894286611995,\n",
       " 0.7994609200286208,\n",
       " 1.098414368888834,\n",
       " 0.3376199094848199,\n",
       " 1.056002300351656,\n",
       " 0.9043880484115681,\n",
       " 0.8493997196300511,\n",
       " 1.1104709107353672,\n",
       " 0.6868188561593179,\n",
       " 0.8778467658685879,\n",
       " 0.9242485611568373,\n",
       " 0.8529418492445768,\n",
       " 1.0410260347459124,\n",
       " 0.8072818882328803,\n",
       " 0.7960810425977211,\n",
       " 0.8427341027669885,\n",
       " 0.8647979229789524,\n",
       " 0.8662087886660725,\n",
       " 0.6044094166704629,\n",
       " 0.896906053692769,\n",
       " 0.4237187524776579,\n",
       " 0.8799729896886496,\n",
       " 0.7006338734519936,\n",
       " 0.6378328922963078,\n",
       " 0.9373696707917185,\n",
       " 0.4586180136424217,\n",
       " 0.7045006181300735,\n",
       " 0.7563514150412416,\n",
       " 0.6525543951224596,\n",
       " 0.8663590742644419,\n",
       " 0.5288375262405974,\n",
       " 0.5520051732237653,\n",
       " 0.6409581899352045,\n",
       " 1.190018729204465,\n",
       " 0.9820414233461224,\n",
       " 1.2218501985530519,\n",
       " 0.8743350051347119,\n",
       " 1.1821559719081791,\n",
       " 1.032966722183179,\n",
       " 1.0004108422911508,\n",
       " 1.2211209014450244,\n",
       " 0.852553137175769,\n",
       " 1.0609923830698238,\n",
       " 1.1169447368978944,\n",
       " 0.9983227475136556,\n",
       " 1.1635239123855161,\n",
       " 0.5947617088782611,\n",
       " 0.3521190476981352,\n",
       " 0.9551781579828199,\n",
       " 0.9845199958662045,\n",
       " 1.2134980591177582,\n",
       " 0.8873269364392052,\n",
       " 1.1751155003437181,\n",
       " 1.062889217390652,\n",
       " 1.031380881003411,\n",
       " 1.2272041485239522,\n",
       " 0.9006176233214663,\n",
       " 1.0601367718301895,\n",
       " 1.107184728296412,\n",
       " 1.020273649136537,\n",
       " 1.1680973489314346,\n",
       " 0.9674719491686222,\n",
       " 0.9770515419420314,\n",
       " 1.0309664478382523,\n",
       " 1.0334320665020702,\n",
       " 0.5924274969445785,\n",
       " 0.9991537902236117,\n",
       " 0.8307867120231828,\n",
       " 0.7690207624641165,\n",
       " 1.0490233918764316,\n",
       " 0.6356560245198851,\n",
       " 0.8508209020674505,\n",
       " 0.9029182106929468,\n",
       " 0.7889940347850922,\n",
       " 0.975768899409965,\n",
       " 0.6939420760013764,\n",
       " 0.7228731580164776,\n",
       " 0.7932819180614209,\n",
       " 0.930618337570561,\n",
       " 1.2066856584978258,\n",
       " 1.0807670587793725,\n",
       " 1.0723317847282932,\n",
       " 1.2510969119458208,\n",
       " 0.9571678000503396,\n",
       " 1.0906004391297366,\n",
       " 1.1371343827914324,\n",
       " 1.064853898362384,\n",
       " 1.2113719007000108,\n",
       " 1.0105153600322363,\n",
       " 0.9781633375276286,\n",
       " 1.0723003781875178,\n",
       " 0.893912785163313,\n",
       " 0.7169325724878081,\n",
       " 0.5885764838619322,\n",
       " 0.9571853515522356,\n",
       " 0.4134149701960397,\n",
       " 0.699215053252481,\n",
       " 0.7632352475132775,\n",
       " 0.6314333722523932,\n",
       " 0.8568673689916586,\n",
       " 0.5163156005496167,\n",
       " 0.5512406857817145,\n",
       " 0.6373480418105169,\n",
       " 1.049878045894948,\n",
       " 1.0187680238215508,\n",
       " 1.217666489713767,\n",
       " 0.9075439565101434,\n",
       " 1.0586064844850265,\n",
       " 1.0886500919760613,\n",
       " 1.028577614900269,\n",
       " 1.1717651505414821,\n",
       " 0.959704351128139,\n",
       " 0.9716722213269805,\n",
       " 1.021439270846964,\n",
       " 0.857470023369686,\n",
       " 1.0928334358827803,\n",
       " 0.7370542093222309,\n",
       " 0.9181285732722249,\n",
       " 0.9737738063962865,\n",
       " 0.8754848609684509,\n",
       " 1.047265102079196,\n",
       " 0.7760656987068055,\n",
       " 0.7896972998770918,\n",
       " 0.8616349634395074,\n",
       " 1.060938692363856,\n",
       " 0.6162862328613969,\n",
       " 0.8799705173616639,\n",
       " 0.9403182842880284,\n",
       " 0.812467990700764,\n",
       " 0.9956134868634812,\n",
       " 0.40937864854930683,\n",
       " 0.7372463567640491,\n",
       " 0.7999759813616475,\n",
       " 0.9582793599918995,\n",
       " 1.1094879163407017,\n",
       " 1.1545708364706255,\n",
       " 1.0750277863730444,\n",
       " 1.2185418837546613,\n",
       " 0.9895991440646088,\n",
       " 1.010052419254224,\n",
       " 1.0731044279713167,\n",
       " 0.7443852567942083,\n",
       " 0.807694610799656,\n",
       " 0.6341640750944768,\n",
       " 0.48458129625008484,\n",
       " 0.5029699616852489,\n",
       " 0.5342919245255368,\n",
       " 0.6478339510417092,\n",
       " 0.9567582822777378,\n",
       " 0.8765311328831517,\n",
       " 1.0469921833171765,\n",
       " 0.8069069261092444,\n",
       " 0.8178976795777401,\n",
       " 0.8734794046892185,\n",
       " 0.9067439517419673,\n",
       " 1.0967452468350032,\n",
       " 0.8760440004656916,\n",
       " 0.8884589037858384,\n",
       " 0.9280105987369441,\n",
       " 0.9768133008902304,\n",
       " 0.7251762918982635,\n",
       " 0.7373822745237365,\n",
       " 0.8286450724530238,\n",
       " 0.9237191044209352,\n",
       " 0.9202933357743264,\n",
       " 0.9788367664350075,\n",
       " 0.34933041513178953,\n",
       " 0.6893173232741461,\n",
       " 0.6899972472596316]"
      ]
     },
     "execution_count": 6,
     "metadata": {},
     "output_type": "execute_result"
    }
   ],
   "source": [
    "kmeans_inter_dist"
   ]
  },
  {
   "cell_type": "markdown",
   "metadata": {},
   "source": [
    "### silhouetter coefficient"
   ]
  },
  {
   "cell_type": "code",
   "execution_count": 7,
   "metadata": {},
   "outputs": [],
   "source": [
    "a = np.average(kmeans_results.avg_list)\n",
    "b = kmeans_results_inter_dist_mean"
   ]
  },
  {
   "cell_type": "code",
   "execution_count": 8,
   "metadata": {},
   "outputs": [
    {
     "data": {
      "text/plain": [
       "0.8893437308368606"
      ]
     },
     "execution_count": 8,
     "metadata": {},
     "output_type": "execute_result"
    }
   ],
   "source": [
    "b"
   ]
  },
  {
   "cell_type": "code",
   "execution_count": 9,
   "metadata": {},
   "outputs": [],
   "source": [
    "silhouette_score = (b - a)/np.max([a, b])"
   ]
  },
  {
   "cell_type": "markdown",
   "metadata": {},
   "source": [
    "# creating and saving result object"
   ]
  },
  {
   "cell_type": "code",
   "execution_count": 10,
   "metadata": {},
   "outputs": [],
   "source": [
    "import pickle\n",
    "from AppDetexKmeansMetricResults import KmeansMetricResults"
   ]
  },
  {
   "cell_type": "code",
   "execution_count": 11,
   "metadata": {},
   "outputs": [],
   "source": [
    "kmeansMetricResults = KmeansMetricResults(stemmed, representation, technique, num_clusters)\n",
    "kmeansMetricResults.set_intra_metrics(kmeans_results.avg_list, kmeans_results.variance_list)\n",
    "kmeansMetricResults.set_inter_metrics(kmeans_inter_dist, kmeans_results_inter_dist_mean)\n",
    "kmeansMetricResults.set_silhouette(silhouette_score)"
   ]
  },
  {
   "cell_type": "code",
   "execution_count": 12,
   "metadata": {},
   "outputs": [
    {
     "data": {
      "text/plain": [
       "'AppDetex'"
      ]
     },
     "execution_count": 12,
     "metadata": {},
     "output_type": "execute_result"
    }
   ],
   "source": [
    "kmeansMetricResults.dataset"
   ]
  },
  {
   "cell_type": "code",
   "execution_count": 13,
   "metadata": {},
   "outputs": [
    {
     "data": {
      "text/plain": [
       "'Kmeans'"
      ]
     },
     "execution_count": 13,
     "metadata": {},
     "output_type": "execute_result"
    }
   ],
   "source": [
    "kmeansMetricResults.strategy"
   ]
  },
  {
   "cell_type": "code",
   "execution_count": 14,
   "metadata": {},
   "outputs": [
    {
     "data": {
      "text/plain": [
       "'false'"
      ]
     },
     "execution_count": 14,
     "metadata": {},
     "output_type": "execute_result"
    }
   ],
   "source": [
    "kmeansMetricResults.stemmed"
   ]
  },
  {
   "cell_type": "code",
   "execution_count": 15,
   "metadata": {},
   "outputs": [
    {
     "data": {
      "text/plain": [
       "'LDA_10'"
      ]
     },
     "execution_count": 15,
     "metadata": {},
     "output_type": "execute_result"
    }
   ],
   "source": [
    "kmeansMetricResults.representation"
   ]
  },
  {
   "cell_type": "code",
   "execution_count": 16,
   "metadata": {},
   "outputs": [
    {
     "data": {
      "text/plain": [
       "'full'"
      ]
     },
     "execution_count": 16,
     "metadata": {},
     "output_type": "execute_result"
    }
   ],
   "source": [
    "kmeansMetricResults.technique"
   ]
  },
  {
   "cell_type": "code",
   "execution_count": 17,
   "metadata": {},
   "outputs": [
    {
     "data": {
      "text/plain": [
       "20"
      ]
     },
     "execution_count": 17,
     "metadata": {},
     "output_type": "execute_result"
    }
   ],
   "source": [
    "kmeansMetricResults.num_clusters"
   ]
  },
  {
   "cell_type": "code",
   "execution_count": 18,
   "metadata": {},
   "outputs": [
    {
     "data": {
      "text/plain": [
       "'../../../results/AppDetex_Kmeans_false_LDA_10_full_20.metrics'"
      ]
     },
     "execution_count": 18,
     "metadata": {},
     "output_type": "execute_result"
    }
   ],
   "source": [
    "kmeansMetricResults.filename"
   ]
  },
  {
   "cell_type": "code",
   "execution_count": 19,
   "metadata": {},
   "outputs": [
    {
     "data": {
      "text/plain": [
       "[0.3530385131311425,\n",
       " 0.264106113078291,\n",
       " 0.5743706461019951,\n",
       " 0.1481038944426639,\n",
       " 0.21540630206871333,\n",
       " 0.3370559671607631,\n",
       " 0.17463783201914843,\n",
       " 0.35118944452044465,\n",
       " 0.23160259831787774,\n",
       " 0.343060956445843,\n",
       " 0.2881796442467014,\n",
       " 0.15430385627627066,\n",
       " 0.3335861842714706,\n",
       " 0.359729404927756,\n",
       " 0.2977182562341795,\n",
       " 0.33418572145352105,\n",
       " 0.207120037918125,\n",
       " 0.2554460814302202,\n",
       " 0.3043977443331009,\n",
       " 0.3403012458523596]"
      ]
     },
     "execution_count": 19,
     "metadata": {},
     "output_type": "execute_result"
    }
   ],
   "source": [
    "kmeansMetricResults.intra_average"
   ]
  },
  {
   "cell_type": "code",
   "execution_count": 20,
   "metadata": {},
   "outputs": [
    {
     "data": {
      "text/plain": [
       "[0.009160162760672554,\n",
       " 0.005223644165567997,\n",
       " 0.03173922089897868,\n",
       " 0.002954574131335034,\n",
       " 0.014194077990013931,\n",
       " 0.007871293457489346,\n",
       " 0.012987622525229786,\n",
       " 0.0053835882494957235,\n",
       " 0.01635659415918751,\n",
       " 0.008576609150728436,\n",
       " 0.006672964489135968,\n",
       " 0.02032739025380047,\n",
       " 0.004736603246327281,\n",
       " 0.006129395279753351,\n",
       " 0.009862863742493004,\n",
       " 0.007297916142181224,\n",
       " 0.004954918621302087,\n",
       " 0.005693743881288699,\n",
       " 0.005929170350048975,\n",
       " 0.00697114895026873]"
      ]
     },
     "execution_count": 20,
     "metadata": {},
     "output_type": "execute_result"
    }
   ],
   "source": [
    "kmeansMetricResults.intra_variance"
   ]
  },
  {
   "cell_type": "code",
   "execution_count": 21,
   "metadata": {},
   "outputs": [
    {
     "data": {
      "text/plain": [
       "[0.8877210040006793,\n",
       " 0.6994753415500407,\n",
       " 1.0577988635480908,\n",
       " 1.0443087778009112,\n",
       " 0.8354274604425623,\n",
       " 1.064469673044679,\n",
       " 0.7025040309419293,\n",
       " 1.032234501977111,\n",
       " 0.9106421652276262,\n",
       " 0.8436968586373815,\n",
       " 1.0931976201009883,\n",
       " 0.7339734640885138,\n",
       " 0.9091937579822751,\n",
       " 0.9659314394324112,\n",
       " 0.8660877087580767,\n",
       " 1.0399779362218005,\n",
       " 0.7846609548917707,\n",
       " 0.8147638755182528,\n",
       " 0.8647552108548208,\n",
       " 0.6949653791070765,\n",
       " 1.0669036950570687,\n",
       " 1.050894286611995,\n",
       " 0.7994609200286208,\n",
       " 1.098414368888834,\n",
       " 0.3376199094848199,\n",
       " 1.056002300351656,\n",
       " 0.9043880484115681,\n",
       " 0.8493997196300511,\n",
       " 1.1104709107353672,\n",
       " 0.6868188561593179,\n",
       " 0.8778467658685879,\n",
       " 0.9242485611568373,\n",
       " 0.8529418492445768,\n",
       " 1.0410260347459124,\n",
       " 0.8072818882328803,\n",
       " 0.7960810425977211,\n",
       " 0.8427341027669885,\n",
       " 0.8647979229789524,\n",
       " 0.8662087886660725,\n",
       " 0.6044094166704629,\n",
       " 0.896906053692769,\n",
       " 0.4237187524776579,\n",
       " 0.8799729896886496,\n",
       " 0.7006338734519936,\n",
       " 0.6378328922963078,\n",
       " 0.9373696707917185,\n",
       " 0.4586180136424217,\n",
       " 0.7045006181300735,\n",
       " 0.7563514150412416,\n",
       " 0.6525543951224596,\n",
       " 0.8663590742644419,\n",
       " 0.5288375262405974,\n",
       " 0.5520051732237653,\n",
       " 0.6409581899352045,\n",
       " 1.190018729204465,\n",
       " 0.9820414233461224,\n",
       " 1.2218501985530519,\n",
       " 0.8743350051347119,\n",
       " 1.1821559719081791,\n",
       " 1.032966722183179,\n",
       " 1.0004108422911508,\n",
       " 1.2211209014450244,\n",
       " 0.852553137175769,\n",
       " 1.0609923830698238,\n",
       " 1.1169447368978944,\n",
       " 0.9983227475136556,\n",
       " 1.1635239123855161,\n",
       " 0.5947617088782611,\n",
       " 0.3521190476981352,\n",
       " 0.9551781579828199,\n",
       " 0.9845199958662045,\n",
       " 1.2134980591177582,\n",
       " 0.8873269364392052,\n",
       " 1.1751155003437181,\n",
       " 1.062889217390652,\n",
       " 1.031380881003411,\n",
       " 1.2272041485239522,\n",
       " 0.9006176233214663,\n",
       " 1.0601367718301895,\n",
       " 1.107184728296412,\n",
       " 1.020273649136537,\n",
       " 1.1680973489314346,\n",
       " 0.9674719491686222,\n",
       " 0.9770515419420314,\n",
       " 1.0309664478382523,\n",
       " 1.0334320665020702,\n",
       " 0.5924274969445785,\n",
       " 0.9991537902236117,\n",
       " 0.8307867120231828,\n",
       " 0.7690207624641165,\n",
       " 1.0490233918764316,\n",
       " 0.6356560245198851,\n",
       " 0.8508209020674505,\n",
       " 0.9029182106929468,\n",
       " 0.7889940347850922,\n",
       " 0.975768899409965,\n",
       " 0.6939420760013764,\n",
       " 0.7228731580164776,\n",
       " 0.7932819180614209,\n",
       " 0.930618337570561,\n",
       " 1.2066856584978258,\n",
       " 1.0807670587793725,\n",
       " 1.0723317847282932,\n",
       " 1.2510969119458208,\n",
       " 0.9571678000503396,\n",
       " 1.0906004391297366,\n",
       " 1.1371343827914324,\n",
       " 1.064853898362384,\n",
       " 1.2113719007000108,\n",
       " 1.0105153600322363,\n",
       " 0.9781633375276286,\n",
       " 1.0723003781875178,\n",
       " 0.893912785163313,\n",
       " 0.7169325724878081,\n",
       " 0.5885764838619322,\n",
       " 0.9571853515522356,\n",
       " 0.4134149701960397,\n",
       " 0.699215053252481,\n",
       " 0.7632352475132775,\n",
       " 0.6314333722523932,\n",
       " 0.8568673689916586,\n",
       " 0.5163156005496167,\n",
       " 0.5512406857817145,\n",
       " 0.6373480418105169,\n",
       " 1.049878045894948,\n",
       " 1.0187680238215508,\n",
       " 1.217666489713767,\n",
       " 0.9075439565101434,\n",
       " 1.0586064844850265,\n",
       " 1.0886500919760613,\n",
       " 1.028577614900269,\n",
       " 1.1717651505414821,\n",
       " 0.959704351128139,\n",
       " 0.9716722213269805,\n",
       " 1.021439270846964,\n",
       " 0.857470023369686,\n",
       " 1.0928334358827803,\n",
       " 0.7370542093222309,\n",
       " 0.9181285732722249,\n",
       " 0.9737738063962865,\n",
       " 0.8754848609684509,\n",
       " 1.047265102079196,\n",
       " 0.7760656987068055,\n",
       " 0.7896972998770918,\n",
       " 0.8616349634395074,\n",
       " 1.060938692363856,\n",
       " 0.6162862328613969,\n",
       " 0.8799705173616639,\n",
       " 0.9403182842880284,\n",
       " 0.812467990700764,\n",
       " 0.9956134868634812,\n",
       " 0.40937864854930683,\n",
       " 0.7372463567640491,\n",
       " 0.7999759813616475,\n",
       " 0.9582793599918995,\n",
       " 1.1094879163407017,\n",
       " 1.1545708364706255,\n",
       " 1.0750277863730444,\n",
       " 1.2185418837546613,\n",
       " 0.9895991440646088,\n",
       " 1.010052419254224,\n",
       " 1.0731044279713167,\n",
       " 0.7443852567942083,\n",
       " 0.807694610799656,\n",
       " 0.6341640750944768,\n",
       " 0.48458129625008484,\n",
       " 0.5029699616852489,\n",
       " 0.5342919245255368,\n",
       " 0.6478339510417092,\n",
       " 0.9567582822777378,\n",
       " 0.8765311328831517,\n",
       " 1.0469921833171765,\n",
       " 0.8069069261092444,\n",
       " 0.8178976795777401,\n",
       " 0.8734794046892185,\n",
       " 0.9067439517419673,\n",
       " 1.0967452468350032,\n",
       " 0.8760440004656916,\n",
       " 0.8884589037858384,\n",
       " 0.9280105987369441,\n",
       " 0.9768133008902304,\n",
       " 0.7251762918982635,\n",
       " 0.7373822745237365,\n",
       " 0.8286450724530238,\n",
       " 0.9237191044209352,\n",
       " 0.9202933357743264,\n",
       " 0.9788367664350075,\n",
       " 0.34933041513178953,\n",
       " 0.6893173232741461,\n",
       " 0.6899972472596316]"
      ]
     },
     "execution_count": 21,
     "metadata": {},
     "output_type": "execute_result"
    }
   ],
   "source": [
    "kmeansMetricResults.inter_distance_sample"
   ]
  },
  {
   "cell_type": "code",
   "execution_count": 22,
   "metadata": {},
   "outputs": [
    {
     "data": {
      "text/plain": [
       "0.8893437308368606"
      ]
     },
     "execution_count": 22,
     "metadata": {},
     "output_type": "execute_result"
    }
   ],
   "source": [
    "kmeansMetricResults.inter_distance_mean"
   ]
  },
  {
   "cell_type": "code",
   "execution_count": 23,
   "metadata": {},
   "outputs": [
    {
     "data": {
      "text/plain": [
       "0.6701196488612277"
      ]
     },
     "execution_count": 23,
     "metadata": {},
     "output_type": "execute_result"
    }
   ],
   "source": [
    "kmeansMetricResults.silhouette"
   ]
  },
  {
   "cell_type": "code",
   "execution_count": 24,
   "metadata": {},
   "outputs": [],
   "source": [
    "kmeansMetricResults.save()"
   ]
  },
  {
   "cell_type": "code",
   "execution_count": null,
   "metadata": {},
   "outputs": [],
   "source": []
  }
 ],
 "metadata": {
  "kernelspec": {
   "display_name": "Python 3",
   "language": "python",
   "name": "python3"
  },
  "language_info": {
   "codemirror_mode": {
    "name": "ipython",
    "version": 3
   },
   "file_extension": ".py",
   "mimetype": "text/x-python",
   "name": "python",
   "nbconvert_exporter": "python",
   "pygments_lexer": "ipython3",
   "version": "3.7.1"
  }
 },
 "nbformat": 4,
 "nbformat_minor": 2
}
