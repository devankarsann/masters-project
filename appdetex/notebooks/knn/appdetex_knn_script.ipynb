{
 "cells": [
  {
   "cell_type": "markdown",
   "metadata": {},
   "source": [
    "# script arguments"
   ]
  },
  {
   "cell_type": "code",
   "execution_count": null,
   "metadata": {},
   "outputs": [],
   "source": [
    "import sys\n",
    "\n",
    "# argument list:\n",
    "# - stemmed: true or false\n",
    "# - representation: BOW, TFIDF, LDA-10, LDA-25, LDA-50, Word2Vec, Glove, Doc2Vec\n",
    "# - technique: ball_tree, kd_tree, brute\n",
    "# - k-neighbors: 5, 10, 20, 40\n",
    "\n",
    "stemmed = sys.argv[1]\n",
    "representation = sys.argv[2]\n",
    "technique = sys.argv[3]\n",
    "num_neighbors = int(sys.argv[4])\n",
    "\n",
    "if (stemmed not in ['true', 'false']):\n",
    "    print('incorrect stemmed argument value: ' + stemmed)\n",
    "    quit()\n",
    "    \n",
    "if (representation not in ['BOW', 'TFIDF', 'LDA_10', 'LDA_25', 'LDA_50', 'Word2Vec', 'Glove', 'Doc2Vec']):\n",
    "    print('incorrect representation argument value: ' + representatioon)\n",
    "    quit()\n",
    "    \n",
    "if (technique not in ['ball_tree', 'kd_tree', 'brute']):\n",
    "    print('incorrect knn technique argument value: ' + technique)\n",
    "    quit()\n",
    "    \n",
    "if (num_neighbors not in [5, 10, 20, 40]):\n",
    "    print('incorrect k-neighbors argument value: ' + num_neighbors)\n",
    "    quit()"
   ]
  },
  {
   "cell_type": "code",
   "execution_count": 1,
   "metadata": {},
   "outputs": [],
   "source": [
    "stemmed = 'true'\n",
    "#representation = 'BOW' # good :)\n",
    "#representation = 'TFIDF' # \n",
    "#representation = 'LDA_10' # good :)\n",
    "#representation = 'LDA_25' # good :)\n",
    "#representation = 'LDA_50' # good :)\n",
    "#representation = 'Word2Vec' # good :)\n",
    "#representation = 'Glove' # good :)\n",
    "#representation = 'Doc2Vec' # good :)\n",
    "technique = 'kd_tree'\n",
    "num_neighbors = 10"
   ]
  },
  {
   "cell_type": "code",
   "execution_count": 10,
   "metadata": {},
   "outputs": [],
   "source": [
    "stemmed = 'false'\n",
    "#representation = 'BOW' # takes too long\n",
    "#representation = 'TFIDF' #\n",
    "representation = 'LDA_10' # \n",
    "#representation = 'LDA_25' # \n",
    "#representation = 'LDA_50' # \n",
    "#representation = 'Word2Vec' # \n",
    "#representation = 'Glove' # \n",
    "#representation = 'Doc2Vec' # \n",
    "technique = 'kd_tree'\n",
    "num_neighbors = 10"
   ]
  },
  {
   "cell_type": "code",
   "execution_count": 2,
   "metadata": {},
   "outputs": [],
   "source": [
    "from clustering_and_metrics_knn import bow_model, tfidf_model, lda_10_model, lda_25_model, lda_50_model, w2v_model, gv_model, d2v_model\n",
    "import numpy as np\n",
    "import pickle\n",
    "from AppDetexKnnMetricResults import KnnMetricResults"
   ]
  },
  {
   "cell_type": "markdown",
   "metadata": {},
   "source": [
    "### clustering and metrics methods"
   ]
  },
  {
   "cell_type": "code",
   "execution_count": null,
   "metadata": {},
   "outputs": [],
   "source": [
    "#d2v_knn_inter_dist_sample = [d2v_knn.sample_mean_intercluster_dist(500) for i in range(5)]\n",
    "#d2v_knn_inter_dist_mean = np.average(d2v_knn_inter_dist_sample)"
   ]
  },
  {
   "cell_type": "markdown",
   "metadata": {},
   "source": [
    "## creating and saving result object"
   ]
  },
  {
   "cell_type": "code",
   "execution_count": 3,
   "metadata": {},
   "outputs": [],
   "source": [
    "def calculate_and_save_metrics(knn_results, time_1, time_2):\n",
    "    # interdistance mean\n",
    "    knn_results_inter_dist_sample = [knn_results.sample_mean_intercluster_dist(500) for i in range(5)]\n",
    "    knn_results_inter_dist_mean = np.average(knn_results_inter_dist_sample)\n",
    "    \n",
    "    # silhouette coefficient\n",
    "    a = np.mean(knn_results.intra_avg_list)\n",
    "    b = knn_results_inter_dist_mean\n",
    "    silhouette_score = (b - a)/np.max([a, b])\n",
    "\n",
    "    # creating and saving result object\n",
    "    knnMetricResults = KnnMetricResults(stemmed, representation, technique, num_neighbors)\n",
    "    knnMetricResults.set_intra_metrics(knn_results.intra_avg_list, knn_results.intra_variance_list)\n",
    "    knnMetricResults.set_inter_metrics(knn_results_inter_dist_sample, knn_results_inter_dist_mean)\n",
    "    knnMetricResults.set_silhouette(silhouette_score)\n",
    "    \n",
    "    # set computing time metrics\n",
    "    time_3 = round(time.time() * 1000)\n",
    "    knnMetricResults.set_compute_time(time_2-time_1, time_3-time_2)\n",
    "    \n",
    "    knnMetricResults.save()"
   ]
  },
  {
   "cell_type": "markdown",
   "metadata": {},
   "source": [
    "## bag of words"
   ]
  },
  {
   "cell_type": "code",
   "execution_count": 8,
   "metadata": {},
   "outputs": [],
   "source": [
    "def new_bow_knn():\n",
    "    bow_knn = bow_model(stemmed, technique, num_neighbors)\n",
    "    bow_knn.load_data()\n",
    "    time_1 = round(time.time() * 1000)\n",
    "    bow_knn.run_knn()\n",
    "    time_2 = round(time.time() * 1000)\n",
    "    bow_knn.calculate_intra_average_and_variance()\n",
    "    bow_knn.generate_index_centroid_map()\n",
    "    return bow_knn, time_1, time_2"
   ]
  },
  {
   "cell_type": "code",
   "execution_count": 9,
   "metadata": {},
   "outputs": [
    {
     "name": "stdout",
     "output_type": "stream",
     "text": [
      "using file extension .npz for bow/bow_matrix\n",
      "loading ../../processed_files/bow/bow_matrix.npz\n",
      "loading ../../processed_files/df_merged.pickle\n",
      "finding nearest 10 neighbors with kd_tree algorithm\n",
      "type of metrix: <class 'scipy.sparse.csr.csr_matrix'>\n"
     ]
    },
    {
     "name": "stderr",
     "output_type": "stream",
     "text": [
      "/Users/dkarsann/anaconda3/lib/python3.7/site-packages/sklearn/utils/validation.py:72: FutureWarning: Pass n_neighbors=10, radius=kd_tree as keyword args. From version 1.0 (renaming of 0.25) passing these as positional arguments will result in an error\n",
      "  \"will result in an error\", FutureWarning)\n"
     ]
    },
    {
     "name": "stdout",
     "output_type": "stream",
     "text": [
      "calculating metrics for intracluster average and variance\n"
     ]
    }
   ],
   "source": [
    "if representation == 'BOW':\n",
    "    knn_results, time_1, time_2 = new_bow_knn()\n",
    "    calculate_and_save_metrics(knn_results, time_1, time_2)"
   ]
  },
  {
   "cell_type": "markdown",
   "metadata": {},
   "source": [
    "## tfidf matrix"
   ]
  },
  {
   "cell_type": "code",
   "execution_count": 10,
   "metadata": {},
   "outputs": [],
   "source": [
    "def new_tfidf_knn():\n",
    "    tfidf_knn = tfidf_model(stemmed, technique, num_neighbors)\n",
    "    tfidf_knn.load_data()\n",
    "    time_1 = round(time.time() * 1000)\n",
    "    tfidf_knn.run_knn()\n",
    "    time_2 = round(time.time() * 1000)\n",
    "    tfidf_knn.calculate_intra_average_and_variance()\n",
    "    tfidf_knn.generate_index_centroid_map()\n",
    "    return tfidf_knn, time_1, time_2"
   ]
  },
  {
   "cell_type": "code",
   "execution_count": 11,
   "metadata": {},
   "outputs": [
    {
     "name": "stdout",
     "output_type": "stream",
     "text": [
      "using file extension .npz for tfidf/stemmed_tfidf_matrix\n",
      "loading ../../processed_files/tfidf/stemmed_tfidf_matrix.npz\n",
      "loading ../../processed_files/df_merged.pickle\n",
      "finding nearest 10 neighbors with kd_tree algorithm\n"
     ]
    },
    {
     "name": "stderr",
     "output_type": "stream",
     "text": [
      "/Users/dkarsann/anaconda3/lib/python3.7/site-packages/sklearn/utils/validation.py:72: FutureWarning: Pass n_neighbors=10, radius=kd_tree as keyword args. From version 1.0 (renaming of 0.25) passing these as positional arguments will result in an error\n",
      "  \"will result in an error\", FutureWarning)\n"
     ]
    },
    {
     "name": "stdout",
     "output_type": "stream",
     "text": [
      "calculating metrics for intracluster average and variance\n"
     ]
    }
   ],
   "source": [
    "if representation == 'TFIDF':\n",
    "    knn_results, time_1, time_2 = new_tfidf_knn()\n",
    "    calculate_and_save_metrics(knn_results, time_1, time_2)"
   ]
  },
  {
   "cell_type": "markdown",
   "metadata": {},
   "source": [
    "# LDA"
   ]
  },
  {
   "cell_type": "markdown",
   "metadata": {},
   "source": [
    "## lda 10 matrix"
   ]
  },
  {
   "cell_type": "code",
   "execution_count": 11,
   "metadata": {},
   "outputs": [],
   "source": [
    "def new_lda_10_knn():\n",
    "    lda_10_knn = lda_10_model(stemmed, technique, num_neighbors)\n",
    "    lda_10_knn.load_data()\n",
    "    time_1 = round(time.time() * 1000)\n",
    "    lda_10_knn.run_knn()\n",
    "    time_2 = round(time.time() * 1000)\n",
    "    lda_10_knn.calculate_intra_average_and_variance()\n",
    "    lda_10_knn.generate_index_centroid_map()\n",
    "    return lda_10_knn, time_1, time_2"
   ]
  },
  {
   "cell_type": "code",
   "execution_count": 12,
   "metadata": {},
   "outputs": [
    {
     "name": "stdout",
     "output_type": "stream",
     "text": [
      "using file extension .npy for lda_10/lda_10_matrix\n",
      "loading ../../processed_files/lda_10/lda_10_matrix.npy\n",
      "loading ../../processed_files/df_merged.pickle\n",
      "finding nearest 10 neighbors with kd_tree algorithm\n",
      "type of metrix: <class 'numpy.ndarray'>\n"
     ]
    },
    {
     "name": "stderr",
     "output_type": "stream",
     "text": [
      "/Users/dkarsann/anaconda3/lib/python3.7/site-packages/sklearn/utils/validation.py:72: FutureWarning: Pass n_neighbors=10, radius=kd_tree as keyword args. From version 1.0 (renaming of 0.25) passing these as positional arguments will result in an error\n",
      "  \"will result in an error\", FutureWarning)\n"
     ]
    },
    {
     "name": "stdout",
     "output_type": "stream",
     "text": [
      "calculating metrics for intracluster average and variance\n"
     ]
    }
   ],
   "source": [
    "if representation == 'LDA_10':\n",
    "    knn_results, time_1, time_2 = new_lda_10_knn()\n",
    "    calculate_and_save_metrics(knn_results, time_1, time_2)"
   ]
  },
  {
   "cell_type": "code",
   "execution_count": 11,
   "metadata": {},
   "outputs": [
    {
     "data": {
      "text/plain": [
       "False"
      ]
     },
     "execution_count": 11,
     "metadata": {},
     "output_type": "execute_result"
    }
   ],
   "source": [
    "np.any(np.isnan(knn_results.matrix))"
   ]
  },
  {
   "cell_type": "markdown",
   "metadata": {},
   "source": [
    "## lda 25 matrix"
   ]
  },
  {
   "cell_type": "code",
   "execution_count": 11,
   "metadata": {},
   "outputs": [],
   "source": [
    "def new_lda_25_knn():\n",
    "    lda_25_knn = lda_25_model(stemmed, technique, num_neighbors)\n",
    "    lda_25_knn.load_data()\n",
    "    time_1 = round(time.time() * 1000)\n",
    "    lda_25_knn.run_knn()\n",
    "    time_2 = round(time.time() * 1000)\n",
    "    lda_25_knn.calculate_intra_average_and_variance()\n",
    "    lda_25_knn.generate_index_centroid_map()\n",
    "    return lda_25_knn, time_1, time_2"
   ]
  },
  {
   "cell_type": "code",
   "execution_count": 13,
   "metadata": {},
   "outputs": [
    {
     "name": "stdout",
     "output_type": "stream",
     "text": [
      "using file extension .npy for lda_25/stemmed_lda_25_matrix\n",
      "loading ../../processed_files/lda_25/stemmed_lda_25_matrix.npy\n",
      "loading ../../processed_files/df_merged.pickle\n",
      "finding nearest 10 neighbors with kd_tree algorithm\n",
      "type of metrix: <class 'numpy.ndarray'>\n"
     ]
    },
    {
     "name": "stderr",
     "output_type": "stream",
     "text": [
      "/Users/dkarsann/anaconda3/lib/python3.7/site-packages/sklearn/utils/validation.py:72: FutureWarning: Pass n_neighbors=10, radius=kd_tree as keyword args. From version 1.0 (renaming of 0.25) passing these as positional arguments will result in an error\n",
      "  \"will result in an error\", FutureWarning)\n"
     ]
    },
    {
     "name": "stdout",
     "output_type": "stream",
     "text": [
      "calculating metrics for intracluster average and variance\n"
     ]
    }
   ],
   "source": [
    "if representation == 'LDA_25':\n",
    "    knn_results, time_1, time_2 = new_lda_25_knn()\n",
    "    calculate_and_save_metrics(knn_results, time_1, time_2)"
   ]
  },
  {
   "cell_type": "markdown",
   "metadata": {},
   "source": [
    "## lda 50 matrix"
   ]
  },
  {
   "cell_type": "code",
   "execution_count": 15,
   "metadata": {},
   "outputs": [],
   "source": [
    "def new_lda_50_knn():\n",
    "    lda_50_knn = lda_50_model(stemmed, technique, num_neighbors)\n",
    "    lda_50_knn.load_data()\n",
    "    time_1 = round(time.time() * 1000)\n",
    "    lda_50_knn.run_knn()\n",
    "    time_2 = round(time.time() * 1000)\n",
    "    lda_50_knn.calculate_intra_average_and_variance()\n",
    "    lda_50_knn.generate_index_centroid_map()\n",
    "    return lda_50_knn, time_1, time_2"
   ]
  },
  {
   "cell_type": "code",
   "execution_count": 18,
   "metadata": {},
   "outputs": [
    {
     "name": "stdout",
     "output_type": "stream",
     "text": [
      "using file extension .npy for lda_50/stemmed_lda_50_matrix\n",
      "loading ../../processed_files/lda_50/stemmed_lda_50_matrix.npy\n",
      "loading ../../processed_files/df_merged.pickle\n",
      "finding nearest 10 neighbors with kd_tree algorithm\n",
      "type of metrix: <class 'numpy.ndarray'>\n"
     ]
    },
    {
     "name": "stderr",
     "output_type": "stream",
     "text": [
      "/Users/dkarsann/anaconda3/lib/python3.7/site-packages/sklearn/utils/validation.py:72: FutureWarning: Pass n_neighbors=10, radius=kd_tree as keyword args. From version 1.0 (renaming of 0.25) passing these as positional arguments will result in an error\n",
      "  \"will result in an error\", FutureWarning)\n"
     ]
    },
    {
     "name": "stdout",
     "output_type": "stream",
     "text": [
      "calculating metrics for intracluster average and variance\n"
     ]
    }
   ],
   "source": [
    "if representation == 'LDA_50':\n",
    "    knn_results, time_1, time_2 = new_lda_50_knn()\n",
    "    calculate_and_save_metrics(knn_results, time_1, time_2)"
   ]
  },
  {
   "cell_type": "markdown",
   "metadata": {},
   "source": [
    "## word2vec matrix"
   ]
  },
  {
   "cell_type": "code",
   "execution_count": 20,
   "metadata": {},
   "outputs": [],
   "source": [
    "def new_w2v_knn():\n",
    "    w2v_knn = w2v_model(stemmed, technique, num_neighbors)\n",
    "    w2v_knn.load_data()\n",
    "    time_1 = round(time.time() * 1000)\n",
    "    w2v_knn.run_knn()\n",
    "    time_2 = round(time.time() * 1000)\n",
    "    w2v_knn.calculate_intra_average_and_variance()\n",
    "    w2v_knn.generate_index_centroid_map()\n",
    "    return w2v_knn, time_1, time_2"
   ]
  },
  {
   "cell_type": "code",
   "execution_count": 21,
   "metadata": {},
   "outputs": [
    {
     "name": "stdout",
     "output_type": "stream",
     "text": [
      "using file extension .npy for w2v/stemmed_w2v_matrix\n",
      "loading ../../processed_files/w2v/stemmed_w2v_matrix.npy\n",
      "loading ../../processed_files/df_merged.pickle\n",
      "finding nearest 10 neighbors with kd_tree algorithm\n",
      "type of metrix: <class 'numpy.ndarray'>\n"
     ]
    },
    {
     "name": "stderr",
     "output_type": "stream",
     "text": [
      "/Users/dkarsann/anaconda3/lib/python3.7/site-packages/sklearn/utils/validation.py:72: FutureWarning: Pass n_neighbors=10, radius=kd_tree as keyword args. From version 1.0 (renaming of 0.25) passing these as positional arguments will result in an error\n",
      "  \"will result in an error\", FutureWarning)\n"
     ]
    },
    {
     "name": "stdout",
     "output_type": "stream",
     "text": [
      "calculating metrics for intracluster average and variance\n"
     ]
    }
   ],
   "source": [
    "if representation == 'Word2Vec':\n",
    "    knn_results, time_1, time_2 = new_w2v_knn()\n",
    "    calculate_and_save_metrics(knn_results, time_1, time_2)"
   ]
  },
  {
   "cell_type": "markdown",
   "metadata": {},
   "source": [
    "## glove matrix"
   ]
  },
  {
   "cell_type": "code",
   "execution_count": 4,
   "metadata": {},
   "outputs": [],
   "source": [
    "def new_gv_knn():\n",
    "    gv_knn = gv_model(stemmed, technique, num_neighbors)\n",
    "    gv_knn.load_data()\n",
    "    time_1 = round(time.time() * 1000)\n",
    "    gv_knn.run_knn()\n",
    "    time_2 = round(time.time() * 1000)\n",
    "    gv_knn.calculate_intra_average_and_variance()\n",
    "    gv_knn.generate_index_centroid_map()\n",
    "    return gv_knn, time_1, time_2"
   ]
  },
  {
   "cell_type": "code",
   "execution_count": 5,
   "metadata": {},
   "outputs": [
    {
     "name": "stdout",
     "output_type": "stream",
     "text": [
      "using file extension .npy for glove/stemmed_glove_matrix\n",
      "loading ../../processed_files/glove/stemmed_glove_matrix.npy\n",
      "loading ../../processed_files/df_merged.pickle\n",
      "finding nearest 10 neighbors with kd_tree algorithm\n",
      "type of metrix: <class 'numpy.ndarray'>\n"
     ]
    },
    {
     "name": "stderr",
     "output_type": "stream",
     "text": [
      "/Users/dkarsann/anaconda3/lib/python3.7/site-packages/sklearn/utils/validation.py:72: FutureWarning: Pass n_neighbors=10, radius=kd_tree as keyword args. From version 1.0 (renaming of 0.25) passing these as positional arguments will result in an error\n",
      "  \"will result in an error\", FutureWarning)\n"
     ]
    },
    {
     "name": "stdout",
     "output_type": "stream",
     "text": [
      "calculating metrics for intracluster average and variance\n"
     ]
    }
   ],
   "source": [
    "if representation == 'Glove':\n",
    "    knn_results, time_1, time_2 = new_gv_knn()\n",
    "    calculate_and_save_metrics(knn_results, time_1, time_2)"
   ]
  },
  {
   "cell_type": "markdown",
   "metadata": {},
   "source": [
    "## doc2vec matrix"
   ]
  },
  {
   "cell_type": "code",
   "execution_count": 4,
   "metadata": {},
   "outputs": [],
   "source": [
    "def new_d2v_knn():\n",
    "    d2v_knn = d2v_model(stemmed, technique, num_neighbors)\n",
    "    d2v_knn.load_data()\n",
    "    time_1 = round(time.time() * 1000)\n",
    "    d2v_knn.run_knn()\n",
    "    time_2 = round(time.time() * 1000)\n",
    "    d2v_knn.calculate_intra_average_and_variance()\n",
    "    d2v_knn.generate_index_centroid_map()\n",
    "    return d2v_knn, time_1, time_2"
   ]
  },
  {
   "cell_type": "code",
   "execution_count": 6,
   "metadata": {},
   "outputs": [
    {
     "name": "stdout",
     "output_type": "stream",
     "text": [
      "using file extension .npy for d2v/stemmed_d2v_matrix\n",
      "loading ../../processed_files/d2v/stemmed_d2v_matrix.npy\n",
      "loading ../../processed_files/df_merged.pickle\n",
      "finding nearest 10 neighbors with kd_tree algorithm\n",
      "type of metrix: <class 'numpy.ndarray'>\n"
     ]
    },
    {
     "name": "stderr",
     "output_type": "stream",
     "text": [
      "/Users/dkarsann/anaconda3/lib/python3.7/site-packages/sklearn/utils/validation.py:72: FutureWarning: Pass n_neighbors=10, radius=kd_tree as keyword args. From version 1.0 (renaming of 0.25) passing these as positional arguments will result in an error\n",
      "  \"will result in an error\", FutureWarning)\n"
     ]
    },
    {
     "name": "stdout",
     "output_type": "stream",
     "text": [
      "calculating metrics for intracluster average and variance\n"
     ]
    }
   ],
   "source": [
    "if representation == 'Doc2Vec':\n",
    "    knn_results, time_1, time_2 = new_d2v_knn()\n",
    "    calculate_and_save_metrics(knn_results, time_1, time_2)"
   ]
  },
  {
   "cell_type": "markdown",
   "metadata": {},
   "source": [
    "## metric analysis"
   ]
  },
  {
   "cell_type": "markdown",
   "metadata": {},
   "source": [
    "### Interdistance mean"
   ]
  },
  {
   "cell_type": "code",
   "execution_count": 6,
   "metadata": {},
   "outputs": [],
   "source": [
    "knn_results_inter_dist_sample = [knn_results.sample_mean_intercluster_dist(100) for i in range(1)]\n",
    "knn_results_inter_dist_mean = np.average(knn_results_inter_dist_sample)"
   ]
  },
  {
   "cell_type": "code",
   "execution_count": 7,
   "metadata": {},
   "outputs": [
    {
     "data": {
      "text/plain": [
       "array([0.06195896, 0.        , 0.18693263, ..., 0.        , 0.19070351,\n",
       "       0.34003941])"
      ]
     },
     "execution_count": 7,
     "metadata": {},
     "output_type": "execute_result"
    }
   ],
   "source": [
    "knn_results.intra_avg_list"
   ]
  },
  {
   "cell_type": "markdown",
   "metadata": {},
   "source": [
    "### silhouetter coefficient"
   ]
  },
  {
   "cell_type": "code",
   "execution_count": 8,
   "metadata": {},
   "outputs": [],
   "source": [
    "a = np.average(knn_results.intra_avg_list)\n",
    "b = knn_results_inter_dist_mean"
   ]
  },
  {
   "cell_type": "code",
   "execution_count": 9,
   "metadata": {},
   "outputs": [],
   "source": [
    "silhouette_score = (b - a)/np.max([a, b])"
   ]
  },
  {
   "cell_type": "markdown",
   "metadata": {},
   "source": [
    "# creating and saving result object"
   ]
  },
  {
   "cell_type": "code",
   "execution_count": 10,
   "metadata": {},
   "outputs": [],
   "source": [
    "import pickle\n",
    "from AppDetexKnnMetricResults import KnnMetricResults"
   ]
  },
  {
   "cell_type": "code",
   "execution_count": 11,
   "metadata": {},
   "outputs": [],
   "source": [
    "knnMetricResults = KnnMetricResults(stemmed, representation, technique, num_neighbors)\n",
    "knnMetricResults.set_intra_metrics(knn_results.intra_avg_list, knn_results.intra_variance_list)\n",
    "knnMetricResults.set_inter_metrics(knn_results_inter_dist_sample, knn_results_inter_dist_mean)\n",
    "knnMetricResults.set_silhouette(silhouette_score)"
   ]
  },
  {
   "cell_type": "code",
   "execution_count": 12,
   "metadata": {},
   "outputs": [
    {
     "data": {
      "text/plain": [
       "'AppDetex'"
      ]
     },
     "execution_count": 12,
     "metadata": {},
     "output_type": "execute_result"
    }
   ],
   "source": [
    "knnMetricResults.dataset"
   ]
  },
  {
   "cell_type": "code",
   "execution_count": 13,
   "metadata": {},
   "outputs": [
    {
     "data": {
      "text/plain": [
       "'Knn'"
      ]
     },
     "execution_count": 13,
     "metadata": {},
     "output_type": "execute_result"
    }
   ],
   "source": [
    "knnMetricResults.strategy"
   ]
  },
  {
   "cell_type": "code",
   "execution_count": 14,
   "metadata": {},
   "outputs": [
    {
     "data": {
      "text/plain": [
       "'true'"
      ]
     },
     "execution_count": 14,
     "metadata": {},
     "output_type": "execute_result"
    }
   ],
   "source": [
    "knnMetricResults.stemmed"
   ]
  },
  {
   "cell_type": "code",
   "execution_count": 15,
   "metadata": {},
   "outputs": [
    {
     "data": {
      "text/plain": [
       "'LDA_10'"
      ]
     },
     "execution_count": 15,
     "metadata": {},
     "output_type": "execute_result"
    }
   ],
   "source": [
    "knnMetricResults.representation"
   ]
  },
  {
   "cell_type": "code",
   "execution_count": 16,
   "metadata": {},
   "outputs": [
    {
     "data": {
      "text/plain": [
       "'kd_tree'"
      ]
     },
     "execution_count": 16,
     "metadata": {},
     "output_type": "execute_result"
    }
   ],
   "source": [
    "knnMetricResults.technique"
   ]
  },
  {
   "cell_type": "code",
   "execution_count": 17,
   "metadata": {},
   "outputs": [
    {
     "data": {
      "text/plain": [
       "10"
      ]
     },
     "execution_count": 17,
     "metadata": {},
     "output_type": "execute_result"
    }
   ],
   "source": [
    "knnMetricResults.num_neighbors"
   ]
  },
  {
   "cell_type": "code",
   "execution_count": 18,
   "metadata": {},
   "outputs": [
    {
     "data": {
      "text/plain": [
       "'../../../results/AppDetex_Knn_true_LDA_10_kd_tree_10.metrics'"
      ]
     },
     "execution_count": 18,
     "metadata": {},
     "output_type": "execute_result"
    }
   ],
   "source": [
    "knnMetricResults.filename"
   ]
  },
  {
   "cell_type": "code",
   "execution_count": 19,
   "metadata": {},
   "outputs": [
    {
     "data": {
      "text/plain": [
       "array([0.06195896, 0.        , 0.18693263, ..., 0.        , 0.19070351,\n",
       "       0.34003941])"
      ]
     },
     "execution_count": 19,
     "metadata": {},
     "output_type": "execute_result"
    }
   ],
   "source": [
    "knnMetricResults.intra_average"
   ]
  },
  {
   "cell_type": "code",
   "execution_count": 20,
   "metadata": {},
   "outputs": [
    {
     "data": {
      "text/plain": [
       "array([0.00683871, 0.        , 0.00601564, ..., 0.        , 0.0046002 ,\n",
       "       0.03060874])"
      ]
     },
     "execution_count": 20,
     "metadata": {},
     "output_type": "execute_result"
    }
   ],
   "source": [
    "knnMetricResults.intra_variance"
   ]
  },
  {
   "cell_type": "code",
   "execution_count": 21,
   "metadata": {},
   "outputs": [
    {
     "data": {
      "text/plain": [
       "[0.7921576060777858]"
      ]
     },
     "execution_count": 21,
     "metadata": {},
     "output_type": "execute_result"
    }
   ],
   "source": [
    "knnMetricResults.inter_distance_sample"
   ]
  },
  {
   "cell_type": "code",
   "execution_count": 22,
   "metadata": {},
   "outputs": [
    {
     "data": {
      "text/plain": [
       "0.7921576060777858"
      ]
     },
     "execution_count": 22,
     "metadata": {},
     "output_type": "execute_result"
    }
   ],
   "source": [
    "knnMetricResults.inter_distance_mean"
   ]
  },
  {
   "cell_type": "code",
   "execution_count": 23,
   "metadata": {},
   "outputs": [
    {
     "data": {
      "text/plain": [
       "0.8680048092274136"
      ]
     },
     "execution_count": 23,
     "metadata": {},
     "output_type": "execute_result"
    }
   ],
   "source": [
    "knnMetricResults.silhouette"
   ]
  },
  {
   "cell_type": "code",
   "execution_count": 24,
   "metadata": {},
   "outputs": [],
   "source": [
    "knnMetricResults.save()"
   ]
  },
  {
   "cell_type": "code",
   "execution_count": null,
   "metadata": {},
   "outputs": [],
   "source": []
  }
 ],
 "metadata": {
  "kernelspec": {
   "display_name": "Python 3",
   "language": "python",
   "name": "python3"
  },
  "language_info": {
   "codemirror_mode": {
    "name": "ipython",
    "version": 3
   },
   "file_extension": ".py",
   "mimetype": "text/x-python",
   "name": "python",
   "nbconvert_exporter": "python",
   "pygments_lexer": "ipython3",
   "version": "3.7.1"
  }
 },
 "nbformat": 4,
 "nbformat_minor": 2
}
