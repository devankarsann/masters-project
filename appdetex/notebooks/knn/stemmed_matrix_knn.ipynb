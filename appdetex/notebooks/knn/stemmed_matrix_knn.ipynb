{
 "cells": [
  {
   "cell_type": "code",
   "execution_count": 1,
   "metadata": {},
   "outputs": [
    {
     "data": {
      "text/html": [
       "<style>.container { width:95% !important; }</style>"
      ],
      "text/plain": [
       "<IPython.core.display.HTML object>"
      ]
     },
     "metadata": {},
     "output_type": "display_data"
    }
   ],
   "source": [
    "from IPython.core.display import display, HTML\n",
    "display(HTML(\"<style>.container { width:95% !important; }</style>\"))"
   ]
  },
  {
   "cell_type": "code",
   "execution_count": 2,
   "metadata": {},
   "outputs": [],
   "source": [
    "from clustering_and_metrics_knn import stemmed_bow_model, stemmed_tfidf_model, stemmed_lda_10_model, stemmed_lda_25_model, stemmed_lda_50_model, stemmed_w2v_model, stemmed_gv_model, stemmed_d2v_model\n",
    "import numpy as np\n",
    "import pickle"
   ]
  },
  {
   "cell_type": "markdown",
   "metadata": {},
   "source": [
    "### minimize computation while working on new functionality such as metrics\n",
    "### enable skipping initial processing steps and loading object from disk "
   ]
  },
  {
   "cell_type": "code",
   "execution_count": 3,
   "metadata": {},
   "outputs": [],
   "source": [
    "refresh = True"
   ]
  },
  {
   "cell_type": "markdown",
   "metadata": {},
   "source": [
    "## bag of words"
   ]
  },
  {
   "cell_type": "code",
   "execution_count": 4,
   "metadata": {},
   "outputs": [],
   "source": [
    "def new_stemmed_bow_knn():\n",
    "    stemmed_bow_knn = stemmed_bow_model('ball_tree')\n",
    "    stemmed_bow_knn.load_data()\n",
    "    stemmed_bow_knn.run_knn()\n",
    "    stemmed_bow_knn.calculate_intra_average_and_variance()\n",
    "    stemmed_bow_knn.generate_index_centroid_map()\n",
    "    \n",
    "    #print('saving bow_stemmed_knn')\n",
    "    #with open('../../processed_files/bow_stemmed_knn.pickle', 'wb') as file:\n",
    "    #    pickle.dump(bow_stemmed_knn, file)\n",
    "    \n",
    "    return stemmed_bow_knn"
   ]
  },
  {
   "cell_type": "code",
   "execution_count": 5,
   "metadata": {},
   "outputs": [
    {
     "name": "stdout",
     "output_type": "stream",
     "text": [
      "using file extension .npz for bow/stemmed_bow_matrix\n",
      "loading ../../processed_files/bow/stemmed_bow_matrix.npz\n",
      "loading ../../processed_files/df_merged.pickle\n",
      "finding nearest 10 neighbors with ball_tree algorithm\n"
     ]
    },
    {
     "name": "stderr",
     "output_type": "stream",
     "text": [
      "/Users/dkarsann/anaconda3/lib/python3.7/site-packages/sklearn/utils/validation.py:72: FutureWarning: Pass n_neighbors=10, radius=ball_tree as keyword args. From version 1.0 (renaming of 0.25) passing these as positional arguments will result in an error\n",
      "  \"will result in an error\", FutureWarning)\n"
     ]
    },
    {
     "name": "stdout",
     "output_type": "stream",
     "text": [
      "calculating metrics for intracluster average and variance\n"
     ]
    }
   ],
   "source": [
    "stemmed_bow_knn = new_stemmed_bow_knn()"
   ]
  },
  {
   "cell_type": "code",
   "execution_count": 7,
   "metadata": {},
   "outputs": [
    {
     "data": {
      "text/plain": [
       "[0.8910579120094163,\n",
       " 0.8922526020152413,\n",
       " 0.9021946260292663,\n",
       " 0.8953809842558094,\n",
       " 0.8971511881225808]"
      ]
     },
     "execution_count": 7,
     "metadata": {},
     "output_type": "execute_result"
    }
   ],
   "source": [
    "stemmed_bow_knn_inter_dist_sample = [stemmed_bow_knn.sample_mean_intercluster_dist(500) for i in range(5)]\n",
    "#bow_knn_inter_dist_sample = [0.9016629769778474, 0.9006886090554161, 0.8923767494843687, 0.9026806522086671, 0.8988289848130686]\n",
    "stemmed_bow_knn_inter_dist_sample"
   ]
  },
  {
   "cell_type": "code",
   "execution_count": 8,
   "metadata": {},
   "outputs": [
    {
     "data": {
      "text/plain": [
       "0.8956074624864628"
      ]
     },
     "execution_count": 8,
     "metadata": {},
     "output_type": "execute_result"
    }
   ],
   "source": [
    "stemmed_bow_knn_inter_dist_mean = np.average(stemmed_bow_knn_inter_dist_sample)\n",
    "#bow_knn_inter_dist_mean = 0.8992475945078736\n",
    "stemmed_bow_knn_inter_dist_mean"
   ]
  },
  {
   "cell_type": "markdown",
   "metadata": {},
   "source": [
    "## tfidf matrix"
   ]
  },
  {
   "cell_type": "code",
   "execution_count": 4,
   "metadata": {},
   "outputs": [],
   "source": [
    "def new_tfidf_knn():\n",
    "    tfidf_knn = tfidf_model('ball_tree')\n",
    "    tfidf_knn.load_data()\n",
    "    tfidf_knn.run_knn()\n",
    "    tfidf_knn.calculate_intra_average_and_variance()\n",
    "    tfidf_knn.generate_index_centroid_map()\n",
    "    \n",
    "    # cannot serialize more than 4 Gib\n",
    "    #print('saving tfidf_knn')\n",
    "    #with open('../../processed_files/tfidf_knn.pickle', 'wb') as file:\n",
    "    #    pickle.dump(tfidf_knn, file)\n",
    "    \n",
    "    return tfidf_knn"
   ]
  },
  {
   "cell_type": "code",
   "execution_count": null,
   "metadata": {},
   "outputs": [
    {
     "name": "stdout",
     "output_type": "stream",
     "text": [
      "using file extension .npz for tfidf_matrix\n",
      "loading ../../processed_files/tfidf_matrix.npz\n",
      "loading ../../processed_files/df_merged.pickle\n",
      "finding nearest 10 neighbors with ball_tree algorithm\n"
     ]
    },
    {
     "name": "stderr",
     "output_type": "stream",
     "text": [
      "/Users/dkarsann/anaconda3/lib/python3.7/site-packages/sklearn/utils/validation.py:72: FutureWarning: Pass n_neighbors=10, radius=ball_tree as keyword args. From version 1.0 (renaming of 0.25) passing these as positional arguments will result in an error\n",
      "  \"will result in an error\", FutureWarning)\n"
     ]
    },
    {
     "name": "stdout",
     "output_type": "stream",
     "text": [
      "calculating metrics for intracluster average and variance\n"
     ]
    }
   ],
   "source": [
    "tfidf_knn = new_tfidf_knn()"
   ]
  },
  {
   "cell_type": "code",
   "execution_count": 10,
   "metadata": {
    "scrolled": true
   },
   "outputs": [
    {
     "data": {
      "text/plain": [
       "[0.7160360906242393,\n",
       " 0.7232095443454345,\n",
       " 0.7170758124748007,\n",
       " 0.6961348124074368,\n",
       " 0.7156307457908331]"
      ]
     },
     "execution_count": 10,
     "metadata": {},
     "output_type": "execute_result"
    }
   ],
   "source": [
    "tfidf_knn_inter_dist_sample = [tfidf_knn.sample_mean_intercluster_dist(500) for i in range(5)]\n",
    "#tfidf_knn_inter_dist_sample = [0.9016629769778474, 0.9006886090554161, 0.8923767494843687, 0.9026806522086671, 0.8988289848130686]\n",
    "tfidf_knn_inter_dist_sample"
   ]
  },
  {
   "cell_type": "code",
   "execution_count": 11,
   "metadata": {},
   "outputs": [
    {
     "data": {
      "text/plain": [
       "0.7136174011285489"
      ]
     },
     "execution_count": 11,
     "metadata": {},
     "output_type": "execute_result"
    }
   ],
   "source": [
    "tfidf_knn_inter_dist_mean = np.average(tfidf_knn_inter_dist_sample)\n",
    "#tfidf_knn_inter_dist_mean = 0.8992475945078736\n",
    "tfidf_knn_inter_dist_mean"
   ]
  },
  {
   "cell_type": "markdown",
   "metadata": {},
   "source": [
    "# LDA"
   ]
  },
  {
   "cell_type": "code",
   "execution_count": null,
   "metadata": {},
   "outputs": [],
   "source": [
    "#def new_lda_knn(matrix_name):\n",
    "#    lda_knn = lda_10_model(matrix_name, 'ball_tree')\n",
    "#    lda_knn.load_data()\n",
    "#    lda_knn.run_knn()\n",
    "#    lda_knn.calculate_intra_average_and_variance()\n",
    "#    lda_knn.generate_index_centroid_map()\n",
    "#    \n",
    "#    print('saving ', matrix_name)\n",
    "#    with open('processed_files/' + matrix_name + '.pickle', 'wb') as file:\n",
    "#        pickle.dump(lda_knn, file)\n",
    "#    \n",
    "#    return lda_knn"
   ]
  },
  {
   "cell_type": "code",
   "execution_count": null,
   "metadata": {},
   "outputs": [],
   "source": [
    "#row_sums = lda_10_knn.matrix.sum(axis = 1)\n",
    "#copy_matrix = lda_10_knn.matrix.copy()\n",
    "#asdf = np.divide(copy_matrix, row_sums.reshape(len(row_sums), 1))"
   ]
  },
  {
   "cell_type": "code",
   "execution_count": null,
   "metadata": {},
   "outputs": [],
   "source": [
    "#row_sums = lda_10_knn.matrix.sum(axis = 1)"
   ]
  },
  {
   "cell_type": "code",
   "execution_count": null,
   "metadata": {},
   "outputs": [],
   "source": [
    "#row_sums[7]"
   ]
  },
  {
   "cell_type": "code",
   "execution_count": null,
   "metadata": {},
   "outputs": [],
   "source": [
    "#copy_matrix = lda_10_knn.matrix.copy()"
   ]
  },
  {
   "cell_type": "code",
   "execution_count": null,
   "metadata": {},
   "outputs": [],
   "source": [
    "#from sklearn.preprocessing import MinMaxScaler\n",
    "#scaler = MinMaxScaler()\n",
    "#scaler.fit(copy_matrix)\n",
    "#new_lda_10_knn_matrix = scaler.transform(copy_matrix)\n",
    "#new_lda_10_knn_matrix = scaler.fit_transform(copy_matrix)"
   ]
  },
  {
   "cell_type": "code",
   "execution_count": null,
   "metadata": {},
   "outputs": [],
   "source": [
    "#X_std = (lda_10_knn.matrix - lda_10_knn.matrix.min(axis=0)) / (lda_10_knn.matrix.max(axis=0) - lda_10_knn.matrix.min(axis=0))\n",
    "#X_scaled = X_std * (1 - 0) + 0"
   ]
  },
  {
   "cell_type": "code",
   "execution_count": null,
   "metadata": {},
   "outputs": [],
   "source": [
    "#X_std.shape"
   ]
  },
  {
   "cell_type": "code",
   "execution_count": null,
   "metadata": {},
   "outputs": [],
   "source": [
    "#new_row_sums = new_lda_10_knn_matrix.sum(axis = 1)"
   ]
  },
  {
   "cell_type": "code",
   "execution_count": null,
   "metadata": {},
   "outputs": [],
   "source": [
    "#new_row_sums[34]"
   ]
  },
  {
   "cell_type": "code",
   "execution_count": null,
   "metadata": {},
   "outputs": [],
   "source": []
  },
  {
   "cell_type": "markdown",
   "metadata": {},
   "source": [
    "## lda 10 matrix"
   ]
  },
  {
   "cell_type": "code",
   "execution_count": 12,
   "metadata": {},
   "outputs": [],
   "source": [
    "def new_lda_10_knn():\n",
    "    lda_10_knn = lda_10_model('ball_tree')\n",
    "    lda_10_knn.load_data()\n",
    "    lda_10_knn.run_knn()\n",
    "    lda_10_knn.calculate_intra_average_and_variance()\n",
    "    lda_10_knn.generate_index_centroid_map()\n",
    "    \n",
    "    print('saving lda_10_knn')\n",
    "    with open('../../processed_files/lda_10_knn.pickle', 'wb') as file:\n",
    "        pickle.dump(lda_10_knn, file)\n",
    "    \n",
    "    return lda_10_knn"
   ]
  },
  {
   "cell_type": "code",
   "execution_count": 13,
   "metadata": {},
   "outputs": [
    {
     "name": "stdout",
     "output_type": "stream",
     "text": [
      "refresh == true, running lda_10_knn processing steps\n",
      "using file extension .npy for lda_10_matrix\n",
      "loading ../../processed_files/lda_10_matrix.npy\n",
      "loading ../../processed_files/df_merged.pickle\n",
      "finding nearest 10 neighbors with ball_tree algorithm\n"
     ]
    },
    {
     "name": "stderr",
     "output_type": "stream",
     "text": [
      "/Users/dkarsann/anaconda3/lib/python3.7/site-packages/sklearn/utils/validation.py:72: FutureWarning: Pass n_neighbors=10, radius=ball_tree as keyword args. From version 1.0 (renaming of 0.25) passing these as positional arguments will result in an error\n",
      "  \"will result in an error\", FutureWarning)\n"
     ]
    },
    {
     "name": "stdout",
     "output_type": "stream",
     "text": [
      "calculating metrics for intracluster average and variance\n",
      "saving lda_10_knn\n"
     ]
    }
   ],
   "source": [
    "lda_10_knn = None\n",
    "if refresh == False:\n",
    "    try:\n",
    "        print('read lda_10_knn object from memory')\n",
    "        lda_10_knn = pickle.load(open(\"../../processed_files/lda_10_knn.pickle\", \"rb\"))\n",
    "    except:\n",
    "        print('error reading lda_10_knn from memory, running processing steps again')\n",
    "        lda_10_knn = new_lda_10_knn()\n",
    "else:\n",
    "    # run processing steps again\n",
    "    print('refresh == true, running lda_10_knn processing steps')\n",
    "    lda_10_knn = new_lda_10_knn()"
   ]
  },
  {
   "cell_type": "code",
   "execution_count": 14,
   "metadata": {},
   "outputs": [],
   "source": [
    "#lda_10_knn.index_centroid.shape"
   ]
  },
  {
   "cell_type": "code",
   "execution_count": 15,
   "metadata": {},
   "outputs": [
    {
     "data": {
      "text/plain": [
       "[0.8067276620940432,\n",
       " 0.8267591543367513,\n",
       " 0.8206804382642052,\n",
       " 0.8003532614004125,\n",
       " 0.8068814136674661]"
      ]
     },
     "execution_count": 15,
     "metadata": {},
     "output_type": "execute_result"
    }
   ],
   "source": [
    "lda_10_knn_inter_dist_sample = [lda_10_knn.sample_mean_intercluster_dist(500) for i in range(5)]\n",
    "lda_10_knn_inter_dist_sample"
   ]
  },
  {
   "cell_type": "code",
   "execution_count": 16,
   "metadata": {},
   "outputs": [
    {
     "data": {
      "text/plain": [
       "0.8122803859525757"
      ]
     },
     "execution_count": 16,
     "metadata": {},
     "output_type": "execute_result"
    }
   ],
   "source": [
    "lda_10_knn_inter_dist_mean = np.average(lda_10_knn_inter_dist_sample)\n",
    "lda_10_knn_inter_dist_mean"
   ]
  },
  {
   "cell_type": "markdown",
   "metadata": {},
   "source": [
    "## lda 25 matrix"
   ]
  },
  {
   "cell_type": "code",
   "execution_count": 17,
   "metadata": {},
   "outputs": [],
   "source": [
    "#refresh = False"
   ]
  },
  {
   "cell_type": "code",
   "execution_count": 20,
   "metadata": {},
   "outputs": [],
   "source": [
    "def new_lda_25_knn():\n",
    "    lda_25_knn = lda_25_model('ball_tree')\n",
    "    lda_25_knn.load_data()\n",
    "    lda_25_knn.run_knn()\n",
    "    lda_25_knn.calculate_intra_average_and_variance()\n",
    "    lda_25_knn.generate_index_centroid_map()\n",
    "    \n",
    "    print('saving lda_25_knn')\n",
    "    with open('../../processed_files/lda_25_knn.pickle', 'wb') as file:\n",
    "        pickle.dump(lda_25_knn, file)\n",
    "    \n",
    "    return lda_25_knn"
   ]
  },
  {
   "cell_type": "code",
   "execution_count": 21,
   "metadata": {},
   "outputs": [
    {
     "name": "stdout",
     "output_type": "stream",
     "text": [
      "refresh == true, running lda_25_knn processing steps\n",
      "using file extension .npy for lda_25_matrix\n",
      "loading ../../processed_files/lda_25_matrix.npy\n",
      "loading ../../processed_files/df_merged.pickle\n",
      "finding nearest 10 neighbors with ball_tree algorithm\n"
     ]
    },
    {
     "name": "stderr",
     "output_type": "stream",
     "text": [
      "/Users/dkarsann/anaconda3/lib/python3.7/site-packages/sklearn/utils/validation.py:72: FutureWarning: Pass n_neighbors=10, radius=ball_tree as keyword args. From version 1.0 (renaming of 0.25) passing these as positional arguments will result in an error\n",
      "  \"will result in an error\", FutureWarning)\n"
     ]
    },
    {
     "name": "stdout",
     "output_type": "stream",
     "text": [
      "calculating metrics for intracluster average and variance\n",
      "saving lda_25_knn\n"
     ]
    }
   ],
   "source": [
    "lda_25_knn = None\n",
    "if refresh == False:\n",
    "    try:\n",
    "        print('read lda_25_knn object from memory')\n",
    "        lda_25_knn = pickle.load(open(\"../../processed_files/lda_25_knn.pickle\", \"rb\"))\n",
    "    except:\n",
    "        print('error reading lda_knn from memory, running processing steps again')\n",
    "        lda_25_knn = new_lda_25_knn()\n",
    "else:\n",
    "    # run processing steps again\n",
    "    print('refresh == true, running lda_25_knn processing steps')\n",
    "    lda_25_knn = new_lda_25_knn()"
   ]
  },
  {
   "cell_type": "code",
   "execution_count": 22,
   "metadata": {},
   "outputs": [
    {
     "data": {
      "text/plain": [
       "[0.8043695529459819,\n",
       " 0.8054883662580338,\n",
       " 0.8033990660953371,\n",
       " 0.7979527298023774,\n",
       " 0.8001006067129204]"
      ]
     },
     "execution_count": 22,
     "metadata": {},
     "output_type": "execute_result"
    }
   ],
   "source": [
    "lda_25_knn_inter_dist_sample = [lda_25_knn.sample_mean_intercluster_dist(500) for i in range(5)]\n",
    "lda_25_knn_inter_dist_sample"
   ]
  },
  {
   "cell_type": "code",
   "execution_count": 23,
   "metadata": {},
   "outputs": [
    {
     "data": {
      "text/plain": [
       "0.8022620643629301"
      ]
     },
     "execution_count": 23,
     "metadata": {},
     "output_type": "execute_result"
    }
   ],
   "source": [
    "lda_25_knn_inter_dist_mean = np.average(lda_25_knn_inter_dist_sample)\n",
    "lda_25_knn_inter_dist_mean"
   ]
  },
  {
   "cell_type": "markdown",
   "metadata": {},
   "source": [
    "## lda 50 matrix"
   ]
  },
  {
   "cell_type": "code",
   "execution_count": 26,
   "metadata": {},
   "outputs": [],
   "source": [
    "def new_lda_50_knn():\n",
    "    lda_50_knn = lda_50_model('ball_tree')\n",
    "    lda_50_knn.load_data()\n",
    "    lda_50_knn.run_knn()\n",
    "    lda_50_knn.calculate_intra_average_and_variance()\n",
    "    lda_50_knn.generate_index_centroid_map()\n",
    "    \n",
    "    print('saving lda_50_knn')\n",
    "    with open('../../processed_files/lda_50_knn.pickle', 'wb') as file:\n",
    "        pickle.dump(lda_50_knn, file)\n",
    "    \n",
    "    return lda_50_knn"
   ]
  },
  {
   "cell_type": "code",
   "execution_count": 27,
   "metadata": {
    "scrolled": true
   },
   "outputs": [
    {
     "name": "stdout",
     "output_type": "stream",
     "text": [
      "refresh == true, running lda_50_knn processing steps\n",
      "using file extension .npy for lda_50_matrix\n",
      "loading ../../processed_files/lda_50_matrix.npy\n",
      "loading ../../processed_files/df_merged.pickle\n",
      "finding nearest 10 neighbors with ball_tree algorithm\n"
     ]
    },
    {
     "name": "stderr",
     "output_type": "stream",
     "text": [
      "/Users/dkarsann/anaconda3/lib/python3.7/site-packages/sklearn/utils/validation.py:72: FutureWarning: Pass n_neighbors=10, radius=ball_tree as keyword args. From version 1.0 (renaming of 0.25) passing these as positional arguments will result in an error\n",
      "  \"will result in an error\", FutureWarning)\n"
     ]
    },
    {
     "name": "stdout",
     "output_type": "stream",
     "text": [
      "calculating metrics for intracluster average and variance\n",
      "saving lda_50_knn\n"
     ]
    }
   ],
   "source": [
    "lda_50_knn = None\n",
    "if refresh == False:\n",
    "    try:\n",
    "        print('read lda_50_knn object from memory')\n",
    "        lda_50_knn = pickle.load(open(\"../../processed_files/lda_50_knn.pickle\", \"rb\"))\n",
    "    except:\n",
    "        print('error reading lda_50_knn from memory, running processing steps again')\n",
    "        lda_50_knn = new_lda_knn()\n",
    "else:\n",
    "    # run processing steps again\n",
    "    print('refresh == true, running lda_50_knn processing steps')\n",
    "    lda_50_knn = new_lda_50_knn()"
   ]
  },
  {
   "cell_type": "code",
   "execution_count": 28,
   "metadata": {},
   "outputs": [
    {
     "data": {
      "text/plain": [
       "[0.7903269885890054,\n",
       " 0.7797755008328043,\n",
       " 0.7701390191416284,\n",
       " 0.7828534220812442,\n",
       " 0.7818136868659543]"
      ]
     },
     "execution_count": 28,
     "metadata": {},
     "output_type": "execute_result"
    }
   ],
   "source": [
    "lda_50_knn_inter_dist_sample = [lda_50_knn.sample_mean_intercluster_dist(500) for i in range(5)]\n",
    "lda_50_knn_inter_dist_sample"
   ]
  },
  {
   "cell_type": "code",
   "execution_count": 29,
   "metadata": {},
   "outputs": [
    {
     "data": {
      "text/plain": [
       "0.7809817235021274"
      ]
     },
     "execution_count": 29,
     "metadata": {},
     "output_type": "execute_result"
    }
   ],
   "source": [
    "lda_50_knn_inter_dist_mean = np.average(lda_50_knn_inter_dist_sample)\n",
    "lda_50_knn_inter_dist_mean"
   ]
  },
  {
   "cell_type": "code",
   "execution_count": null,
   "metadata": {},
   "outputs": [],
   "source": [
    "#from jqmcvi import base\n",
    "#cluster_list = [clus0.values, clus1.values, clus2.values]\n",
    "#base.dunn(cluster_list)"
   ]
  },
  {
   "cell_type": "markdown",
   "metadata": {},
   "source": [
    "## word2vec matrix"
   ]
  },
  {
   "cell_type": "code",
   "execution_count": 32,
   "metadata": {},
   "outputs": [],
   "source": [
    "def new_w2v_knn():\n",
    "    w2v_knn = w2v_model('ball_tree')\n",
    "    w2v_knn.load_data()\n",
    "    w2v_knn.run_knn()\n",
    "    w2v_knn.calculate_intra_average_and_variance()\n",
    "    w2v_knn.generate_index_centroid_map()\n",
    "    \n",
    "    print('saving w2v_knn')\n",
    "    with open('../../processed_files/w2v_knn.pickle', 'wb') as file:\n",
    "        pickle.dump(w2v_knn, file)\n",
    "    \n",
    "    return w2v_knn"
   ]
  },
  {
   "cell_type": "code",
   "execution_count": 33,
   "metadata": {
    "scrolled": true
   },
   "outputs": [
    {
     "name": "stdout",
     "output_type": "stream",
     "text": [
      "refresh == true, running w2v_knn processing steps\n",
      "using file extension .npy for w2v_matrix\n",
      "loading ../../processed_files/w2v_matrix.npy\n",
      "loading ../../processed_files/df_merged.pickle\n",
      "finding nearest 10 neighbors with ball_tree algorithm\n"
     ]
    },
    {
     "name": "stderr",
     "output_type": "stream",
     "text": [
      "/Users/dkarsann/anaconda3/lib/python3.7/site-packages/sklearn/utils/validation.py:72: FutureWarning: Pass n_neighbors=10, radius=ball_tree as keyword args. From version 1.0 (renaming of 0.25) passing these as positional arguments will result in an error\n",
      "  \"will result in an error\", FutureWarning)\n"
     ]
    },
    {
     "name": "stdout",
     "output_type": "stream",
     "text": [
      "calculating metrics for intracluster average and variance\n",
      "saving w2v_knn\n"
     ]
    }
   ],
   "source": [
    "w2v_knn = None\n",
    "if refresh == False:\n",
    "    try:\n",
    "        print('read w2v_knn object from memory')\n",
    "        w2v_knn = pickle.load(open(\"../../processed_files/w2v_knn.pickle\", \"rb\"))\n",
    "    except:\n",
    "        print('error reading w2v_knn from memory, running processing steps again')\n",
    "        w2v_knn = new_w2v_knn()\n",
    "else:\n",
    "    # run processing steps again\n",
    "    print('refresh == true, running w2v_knn processing steps')\n",
    "    w2v_knn = new_w2v_knn() "
   ]
  },
  {
   "cell_type": "code",
   "execution_count": 34,
   "metadata": {
    "scrolled": true
   },
   "outputs": [],
   "source": [
    "#w2v_knn.index_centroid[1]\n",
    "#w2v_knn.sample_mean_intercluster_dist(10)"
   ]
  },
  {
   "cell_type": "code",
   "execution_count": 35,
   "metadata": {},
   "outputs": [
    {
     "data": {
      "text/plain": [
       "[0.42198631732960146,\n",
       " 0.4225408367184457,\n",
       " 0.45855037707768664,\n",
       " 0.48481743454272,\n",
       " 0.46645664026795036]"
      ]
     },
     "execution_count": 35,
     "metadata": {},
     "output_type": "execute_result"
    }
   ],
   "source": [
    "w2v_knn_inter_dist_sample = [w2v_knn.sample_mean_intercluster_dist(500) for i in range(5)]\n",
    "w2v_knn_inter_dist_sample"
   ]
  },
  {
   "cell_type": "code",
   "execution_count": 36,
   "metadata": {},
   "outputs": [],
   "source": [
    "#w2v_knn.index_centroid7500"
   ]
  },
  {
   "cell_type": "code",
   "execution_count": 37,
   "metadata": {},
   "outputs": [
    {
     "data": {
      "text/plain": [
       "0.4508703211872809"
      ]
     },
     "execution_count": 37,
     "metadata": {},
     "output_type": "execute_result"
    }
   ],
   "source": [
    "w2v_knn_inter_dist_mean = np.average(w2v_knn_inter_dist_sample)\n",
    "w2v_knn_inter_dist_mean"
   ]
  },
  {
   "cell_type": "markdown",
   "metadata": {},
   "source": [
    "## glove matrix"
   ]
  },
  {
   "cell_type": "code",
   "execution_count": 38,
   "metadata": {},
   "outputs": [],
   "source": [
    "def new_gv_knn():\n",
    "    gv_knn = gv_model('ball_tree')\n",
    "    gv_knn.load_data()\n",
    "    gv_knn.run_knn()\n",
    "    gv_knn.calculate_intra_average_and_variance()\n",
    "    gv_knn.generate_index_centroid_map()\n",
    "    \n",
    "    print('saving gv_knn')\n",
    "    with open('../../processed_files/gv_knn.pickle', 'wb') as file:\n",
    "        pickle.dump(gv_knn, file)\n",
    "    \n",
    "    return gv_knn"
   ]
  },
  {
   "cell_type": "code",
   "execution_count": 39,
   "metadata": {},
   "outputs": [
    {
     "name": "stdout",
     "output_type": "stream",
     "text": [
      "refresh == true, running gv_knn processing steps\n",
      "using file extension .npy for gv_matrix\n",
      "loading ../../processed_files/gv_matrix.npy\n",
      "loading ../../processed_files/df_merged.pickle\n",
      "finding nearest 10 neighbors with ball_tree algorithm\n"
     ]
    },
    {
     "name": "stderr",
     "output_type": "stream",
     "text": [
      "/Users/dkarsann/anaconda3/lib/python3.7/site-packages/sklearn/utils/validation.py:72: FutureWarning: Pass n_neighbors=10, radius=ball_tree as keyword args. From version 1.0 (renaming of 0.25) passing these as positional arguments will result in an error\n",
      "  \"will result in an error\", FutureWarning)\n"
     ]
    },
    {
     "name": "stdout",
     "output_type": "stream",
     "text": [
      "calculating metrics for intracluster average and variance\n",
      "saving gv_knn\n"
     ]
    }
   ],
   "source": [
    "gv_knn = None\n",
    "if refresh == False:\n",
    "    try:\n",
    "        print('read gv_knn object from memory')\n",
    "        gv_knn = pickle.load(open(\"../../processed_files/gv_knn.pickle\", \"rb\"))\n",
    "    except:\n",
    "        print('error reading gv_knn from memory, running processing steps again')\n",
    "        gv_knn = new_gv_knn()\n",
    "else:\n",
    "    # run processing steps again\n",
    "    print('refresh == true, running gv_knn processing steps')\n",
    "    gv_knn = new_gv_knn()"
   ]
  },
  {
   "cell_type": "code",
   "execution_count": 40,
   "metadata": {},
   "outputs": [
    {
     "data": {
      "text/plain": [
       "[0.6780858875569288,\n",
       " 0.6728071403949017,\n",
       " 0.6523776862917637,\n",
       " 0.6527962119807438,\n",
       " 0.6216535819119203]"
      ]
     },
     "execution_count": 40,
     "metadata": {},
     "output_type": "execute_result"
    }
   ],
   "source": [
    "gv_knn_inter_dist_sample = [gv_knn.sample_mean_intercluster_dist(500) for i in range(5)]\n",
    "gv_knn_inter_dist_sample"
   ]
  },
  {
   "cell_type": "code",
   "execution_count": 41,
   "metadata": {},
   "outputs": [
    {
     "data": {
      "text/plain": [
       "0.6555441016272516"
      ]
     },
     "execution_count": 41,
     "metadata": {},
     "output_type": "execute_result"
    }
   ],
   "source": [
    "gv_knn_inter_dist_mean = np.average(gv_knn_inter_dist_sample)\n",
    "gv_knn_inter_dist_mean"
   ]
  },
  {
   "cell_type": "markdown",
   "metadata": {},
   "source": [
    "## doc2vec matrix"
   ]
  },
  {
   "cell_type": "code",
   "execution_count": 42,
   "metadata": {},
   "outputs": [],
   "source": [
    "def new_d2v_knn():\n",
    "    d2v_knn = d2v_model('ball_tree')\n",
    "    d2v_knn.load_data()\n",
    "    d2v_knn.run_knn()\n",
    "    d2v_knn.calculate_intra_average_and_variance()\n",
    "    d2v_knn.generate_index_centroid_map()\n",
    "    \n",
    "    print('saving d2v_knn')\n",
    "    with open('../../processed_files/d2v_knn.pickle', 'wb') as file:\n",
    "        pickle.dump(d2v_knn, file)\n",
    "    \n",
    "    return d2v_knn"
   ]
  },
  {
   "cell_type": "code",
   "execution_count": 43,
   "metadata": {},
   "outputs": [
    {
     "name": "stdout",
     "output_type": "stream",
     "text": [
      "refresh == true, running d2v_knn processing steps\n",
      "using file extension .npy for d2v_matrix\n",
      "loading ../../processed_files/d2v_matrix.npy\n",
      "loading ../../processed_files/df_merged.pickle\n",
      "finding nearest 10 neighbors with ball_tree algorithm\n"
     ]
    },
    {
     "name": "stderr",
     "output_type": "stream",
     "text": [
      "/Users/dkarsann/anaconda3/lib/python3.7/site-packages/sklearn/utils/validation.py:72: FutureWarning: Pass n_neighbors=10, radius=ball_tree as keyword args. From version 1.0 (renaming of 0.25) passing these as positional arguments will result in an error\n",
      "  \"will result in an error\", FutureWarning)\n"
     ]
    },
    {
     "name": "stdout",
     "output_type": "stream",
     "text": [
      "calculating metrics for intracluster average and variance\n",
      "saving d2v_knn\n"
     ]
    }
   ],
   "source": [
    "d2v_knn = None\n",
    "if refresh == False:\n",
    "    try:\n",
    "        print('read d2v_knn object from memory')\n",
    "        d2v_knn = pickle.load(open(\"../../processed_files/d2v_knn.pickle\", \"rb\"))\n",
    "    except:\n",
    "        print('error reading d2v_knn from memory, running processing steps again')\n",
    "        d2v_knn = new_d2v_knn()\n",
    "else:\n",
    "    # run processing steps again\n",
    "    print('refresh == true, running d2v_knn processing steps')\n",
    "    d2v_knn = new_d2v_knn()"
   ]
  },
  {
   "cell_type": "code",
   "execution_count": 44,
   "metadata": {},
   "outputs": [
    {
     "data": {
      "text/plain": [
       "[0.9872756, 0.98359275, 0.97849846, 0.9841404, 0.98277456]"
      ]
     },
     "execution_count": 44,
     "metadata": {},
     "output_type": "execute_result"
    }
   ],
   "source": [
    "d2v_knn_inter_dist_sample = [d2v_knn.sample_mean_intercluster_dist(500) for i in range(5)]\n",
    "d2v_knn_inter_dist_sample"
   ]
  },
  {
   "cell_type": "code",
   "execution_count": 45,
   "metadata": {},
   "outputs": [
    {
     "data": {
      "text/plain": [
       "0.98325634"
      ]
     },
     "execution_count": 45,
     "metadata": {},
     "output_type": "execute_result"
    }
   ],
   "source": [
    "d2v_knn_inter_dist_mean = np.average(d2v_knn_inter_dist_sample)\n",
    "d2v_knn_inter_dist_mean"
   ]
  },
  {
   "cell_type": "markdown",
   "metadata": {},
   "source": [
    "## Checking normlizing"
   ]
  },
  {
   "cell_type": "code",
   "execution_count": 46,
   "metadata": {},
   "outputs": [
    {
     "data": {
      "text/plain": [
       "12968"
      ]
     },
     "execution_count": 46,
     "metadata": {},
     "output_type": "execute_result"
    }
   ],
   "source": [
    "num_rows_tfidf_knn = len(tfidf_knn.matrix)\n",
    "num_rows_tfidf_knn"
   ]
  },
  {
   "cell_type": "code",
   "execution_count": 47,
   "metadata": {},
   "outputs": [
    {
     "name": "stdout",
     "output_type": "stream",
     "text": [
      "tfidf_knn --> more_than_one:  2997 , less_than_one:  9971\n"
     ]
    }
   ],
   "source": [
    "more_than_one = 0\n",
    "less_than_one = 0\n",
    "for i in range(num_rows_tfidf_knn):\n",
    "    if np.sum(tfidf_knn.matrix[i]) > 1:\n",
    "        more_than_one += 1\n",
    "    else:\n",
    "        less_than_one += 1\n",
    "print('tfidf_knn --> more_than_one: ', more_than_one, ', less_than_one: ', less_than_one)"
   ]
  },
  {
   "cell_type": "code",
   "execution_count": 48,
   "metadata": {},
   "outputs": [
    {
     "data": {
      "text/plain": [
       "12968"
      ]
     },
     "execution_count": 48,
     "metadata": {},
     "output_type": "execute_result"
    }
   ],
   "source": [
    "num_rows_lda_10_knn = len(lda_10_knn.matrix)\n",
    "num_rows_lda_10_knn"
   ]
  },
  {
   "cell_type": "code",
   "execution_count": 49,
   "metadata": {},
   "outputs": [
    {
     "name": "stdout",
     "output_type": "stream",
     "text": [
      "lda_10_knn --> more_than_one:  0 , less_than_one:  12968\n"
     ]
    }
   ],
   "source": [
    "more_than_one = 0\n",
    "less_than_one = 0\n",
    "for i in range(num_rows_lda_10_knn):\n",
    "    if np.sum(lda_10_knn.matrix[i]) > 1:\n",
    "        more_than_one += 1\n",
    "    else:\n",
    "        less_than_one += 1\n",
    "print('lda_10_knn --> more_than_one: ', more_than_one, ', less_than_one: ', less_than_one)"
   ]
  },
  {
   "cell_type": "code",
   "execution_count": 50,
   "metadata": {},
   "outputs": [
    {
     "data": {
      "text/plain": [
       "12968"
      ]
     },
     "execution_count": 50,
     "metadata": {},
     "output_type": "execute_result"
    }
   ],
   "source": [
    "num_rows_lda_25_knn = len(lda_25_knn.matrix)\n",
    "num_rows_lda_25_knn"
   ]
  },
  {
   "cell_type": "code",
   "execution_count": 51,
   "metadata": {},
   "outputs": [
    {
     "name": "stdout",
     "output_type": "stream",
     "text": [
      "lda_25_knn --> more_than_one:  0 , less_than_one:  12968\n"
     ]
    }
   ],
   "source": [
    "more_than_one = 0\n",
    "less_than_one = 0\n",
    "for i in range(num_rows_lda_25_knn):\n",
    "    if np.sum(lda_25_knn.matrix[i]) > 1:\n",
    "        more_than_one += 1\n",
    "    else:\n",
    "        less_than_one += 1\n",
    "print('lda_25_knn --> more_than_one: ', more_than_one, ', less_than_one: ', less_than_one)"
   ]
  },
  {
   "cell_type": "code",
   "execution_count": 52,
   "metadata": {},
   "outputs": [
    {
     "data": {
      "text/plain": [
       "12968"
      ]
     },
     "execution_count": 52,
     "metadata": {},
     "output_type": "execute_result"
    }
   ],
   "source": [
    "num_rows_lda_50_knn = len(lda_50_knn.matrix)\n",
    "num_rows_lda_50_knn"
   ]
  },
  {
   "cell_type": "code",
   "execution_count": 53,
   "metadata": {},
   "outputs": [
    {
     "name": "stdout",
     "output_type": "stream",
     "text": [
      "lda_50_knn --> more_than_one:  0 , less_than_one:  12968\n"
     ]
    }
   ],
   "source": [
    "more_than_one = 0\n",
    "less_than_one = 0\n",
    "for i in range(num_rows_lda_50_knn):\n",
    "    if np.sum(lda_50_knn.matrix[i]) > 1:\n",
    "        more_than_one += 1\n",
    "    else:\n",
    "        less_than_one += 1\n",
    "print('lda_50_knn --> more_than_one: ', more_than_one, ', less_than_one: ', less_than_one)"
   ]
  },
  {
   "cell_type": "code",
   "execution_count": 54,
   "metadata": {},
   "outputs": [
    {
     "data": {
      "text/plain": [
       "12968"
      ]
     },
     "execution_count": 54,
     "metadata": {},
     "output_type": "execute_result"
    }
   ],
   "source": [
    "num_rows_w2v_knn = len(w2v_knn.matrix)\n",
    "num_rows_w2v_knn"
   ]
  },
  {
   "cell_type": "code",
   "execution_count": 55,
   "metadata": {},
   "outputs": [
    {
     "name": "stdout",
     "output_type": "stream",
     "text": [
      "w2v_knn --> more_than_one:  12034 , less_than_one:  934\n"
     ]
    }
   ],
   "source": [
    "more_than_one = 0\n",
    "less_than_one = 0\n",
    "for i in range(num_rows_w2v_knn):\n",
    "    if np.sum(w2v_knn.matrix[i]) > 1:\n",
    "        more_than_one += 1\n",
    "    else:\n",
    "        less_than_one += 1\n",
    "print('w2v_knn --> more_than_one: ', more_than_one, ', less_than_one: ', less_than_one)"
   ]
  },
  {
   "cell_type": "code",
   "execution_count": 56,
   "metadata": {},
   "outputs": [
    {
     "data": {
      "text/plain": [
       "12968"
      ]
     },
     "execution_count": 56,
     "metadata": {},
     "output_type": "execute_result"
    }
   ],
   "source": [
    "num_rows_glove_knn = len(gv_knn.matrix)\n",
    "num_rows_glove_knn"
   ]
  },
  {
   "cell_type": "code",
   "execution_count": 57,
   "metadata": {},
   "outputs": [
    {
     "name": "stdout",
     "output_type": "stream",
     "text": [
      "glove_knn --> more_than_one:  2343 , less_than_one:  10625\n"
     ]
    }
   ],
   "source": [
    "more_than_one = 0\n",
    "less_than_one = 0\n",
    "for i in range(num_rows_glove_knn):\n",
    "    if np.sum(gv_knn.matrix[i]) > 1:\n",
    "        more_than_one += 1\n",
    "    else:\n",
    "        less_than_one += 1\n",
    "print('glove_knn --> more_than_one: ', more_than_one, ', less_than_one: ', less_than_one)"
   ]
  },
  {
   "cell_type": "code",
   "execution_count": 58,
   "metadata": {},
   "outputs": [
    {
     "data": {
      "text/plain": [
       "12968"
      ]
     },
     "execution_count": 58,
     "metadata": {},
     "output_type": "execute_result"
    }
   ],
   "source": [
    "num_rows_d2v_knn = len(d2v_knn.matrix)\n",
    "num_rows_d2v_knn"
   ]
  },
  {
   "cell_type": "code",
   "execution_count": 59,
   "metadata": {},
   "outputs": [
    {
     "name": "stdout",
     "output_type": "stream",
     "text": [
      "d2v_knn --> more_than_one:  5850 , less_than_one:  7118\n"
     ]
    }
   ],
   "source": [
    "more_than_one = 0\n",
    "less_than_one = 0\n",
    "for i in range(num_rows_d2v_knn):\n",
    "    if np.sum(d2v_knn.matrix[i]) > 1:\n",
    "        more_than_one += 1\n",
    "    else:\n",
    "        less_than_one += 1\n",
    "print('d2v_knn --> more_than_one: ', more_than_one, ', less_than_one: ', less_than_one)"
   ]
  },
  {
   "cell_type": "markdown",
   "metadata": {},
   "source": [
    "## metric analysis"
   ]
  },
  {
   "cell_type": "code",
   "execution_count": 61,
   "metadata": {},
   "outputs": [
    {
     "name": "stdout",
     "output_type": "stream",
     "text": [
      "0.05707090902396378\n",
      "0.5339491118366447\n",
      "3.1610136383170528e-09\n",
      "1.4901161193847657e-09\n",
      "0.0\n",
      "0.0\n",
      "3.793216365980464e-08\n",
      "1.4611187\n"
     ]
    }
   ],
   "source": [
    "print(bow_stemmed_knn.intra_avg_list[0])\n",
    "print(tfidf_knn.intra_avg_list[0])\n",
    "print(lda_10_knn.intra_avg_list[0])\n",
    "print(lda_25_knn.intra_avg_list[0])\n",
    "print(lda_50_knn.intra_avg_list[0])\n",
    "print(w2v_knn.intra_avg_list[0])\n",
    "print(gv_knn.intra_avg_list[0])\n",
    "print(d2v_knn.intra_avg_list[0])"
   ]
  },
  {
   "cell_type": "markdown",
   "metadata": {},
   "source": [
    "### average intracluster distances"
   ]
  },
  {
   "cell_type": "code",
   "execution_count": 62,
   "metadata": {},
   "outputs": [
    {
     "name": "stderr",
     "output_type": "stream",
     "text": [
      "/Users/dkarsann/anaconda3/lib/python3.7/site-packages/numpy/core/_asarray.py:83: VisibleDeprecationWarning: Creating an ndarray from ragged nested sequences (which is a list-or-tuple of lists-or-tuples-or ndarrays with different lengths or shapes) is deprecated. If you meant to do this, you must specify 'dtype=object' when creating the ndarray\n",
      "  return array(a, dtype, copy=False, order=order)\n"
     ]
    },
    {
     "data": {
      "image/png": "[encoded data removed]",
      "text/plain": [
       "<Figure size 432x288 with 1 Axes>"
      ]
     },
     "metadata": {
      "needs_background": "light"
     },
     "output_type": "display_data"
    }
   ],
   "source": [
    "import matplotlib.pyplot as plt\n",
    "\n",
    "data = [bow_stemmed_knn.intra_avg_list, tfidf_knn.intra_avg_list, lda_10_knn.intra_avg_list, lda_25_knn.intra_avg_list, lda_50_knn.intra_avg_list, w2v_knn.intra_avg_list, gv_knn.intra_avg_list, d2v_knn.intra_avg_list]  \n",
    "#data = [lda_knn.intra_avg_list, w2v_knn.intra_avg_list, gv_knn.intra_avg_list, d2v_knn.intra_avg_list]  \n",
    "fig, ax = plt.subplots()\n",
    "ax.boxplot(data)\n",
    "ax.set_xticklabels(['bow_stemmed', 'tfidf', 'lda_10', 'lda_25', 'lda_50', 'word2vec', 'glove', 'doc2vec'])\n",
    "plt.show()"
   ]
  },
  {
   "cell_type": "code",
   "execution_count": null,
   "metadata": {},
   "outputs": [],
   "source": [
    "plt.savefig('intracluster.png')"
   ]
  },
  {
   "cell_type": "markdown",
   "metadata": {},
   "source": [
    "### average intercluster distances (samples)"
   ]
  },
  {
   "cell_type": "code",
   "execution_count": 63,
   "metadata": {},
   "outputs": [
    {
     "data": {
      "image/png": "[encoded data removed]",
      "text/plain": [
       "<Figure size 432x288 with 1 Axes>"
      ]
     },
     "metadata": {
      "needs_background": "light"
     },
     "output_type": "display_data"
    }
   ],
   "source": [
    "objects = ('bow_stemmed', 'tfidf', 'lda_10', 'lda_25', 'lda_50', 'w2v', 'glove', 'd2v')\n",
    "#objects = ('lda', 'w2v', 'glove', 'd2v')\n",
    "y_pos = np.arange(len(objects))\n",
    "performance = [bow_stemmed_knn_inter_dist_mean, tfidf_knn_inter_dist_mean, lda_10_knn_inter_dist_mean, lda_25_knn_inter_dist_mean, lda_50_knn_inter_dist_mean, w2v_knn_inter_dist_mean, gv_knn_inter_dist_mean, d2v_knn_inter_dist_mean]\n",
    "#performance = [lda_knn_inter_dist_mean, w2v_knn_inter_dist_mean, gv_knn_inter_dist_mean, d2v_knn_inter_dist_mean]\n",
    "\n",
    "plt.bar(y_pos, performance, align='center', alpha=0.5)\n",
    "plt.xticks(y_pos, objects)\n",
    "plt.ylabel('sampled average (500 cluster, 5 iterations)')\n",
    "plt.title('Intercluster Distances')\n",
    "\n",
    "plt.show()"
   ]
  },
  {
   "cell_type": "code",
   "execution_count": null,
   "metadata": {},
   "outputs": [],
   "source": [
    "plt.savefig('intercluster.png')"
   ]
  },
  {
   "cell_type": "markdown",
   "metadata": {},
   "source": [
    "### silhouetter coefficient"
   ]
  },
  {
   "cell_type": "code",
   "execution_count": 64,
   "metadata": {},
   "outputs": [],
   "source": [
    "intra_avg_mean_list = [np.mean(avg_list) for avg_list in [bow_stemmed_knn.intra_avg_list, tfidf_knn.intra_avg_list, lda_10_knn.intra_avg_list, lda_25_knn.intra_avg_list, lda_50_knn.intra_avg_list, w2v_knn.intra_avg_list, gv_knn.intra_avg_list, d2v_knn.intra_avg_list]]\n",
    "inter_dist_mean_list = [bow_stemmed_knn_inter_dist_mean, tfidf_knn_inter_dist_mean, lda_10_knn_inter_dist_mean, lda_25_knn_inter_dist_mean, lda_50_knn_inter_dist_mean, w2v_knn_inter_dist_mean, gv_knn_inter_dist_mean, d2v_knn_inter_dist_mean]"
   ]
  },
  {
   "cell_type": "code",
   "execution_count": 65,
   "metadata": {},
   "outputs": [],
   "source": [
    "intra_inter_zipped = zip(intra_avg_mean_list, inter_dist_mean_list)\n",
    "silhouette_scores = []\n",
    "for a, b in intra_inter_zipped:\n",
    "    score = (b - a)/np.max([a, b])\n",
    "    silhouette_scores.append(score)"
   ]
  },
  {
   "cell_type": "code",
   "execution_count": 67,
   "metadata": {},
   "outputs": [
    {
     "data": {
      "image/png": "[encoded data removed]",
      "text/plain": [
       "<Figure size 432x288 with 1 Axes>"
      ]
     },
     "metadata": {
      "needs_background": "light"
     },
     "output_type": "display_data"
    }
   ],
   "source": [
    "#objects = ('tfidf', 'lda', 'w2v', 'glove', 'd2v')\n",
    "objects = ('bow_stemmed', 'tfidf', 'lda_10', 'lda_25', 'lda_50', 'w2v', 'glove', 'd2v')\n",
    "y_pos = np.arange(len(objects))\n",
    "performance = [bow_stemmed_knn_inter_dist_mean, tfidf_knn_inter_dist_mean, lda_10_knn_inter_dist_mean, lda_25_knn_inter_dist_mean, lda_50_knn_inter_dist_mean, w2v_knn_inter_dist_mean, gv_knn_inter_dist_mean, d2v_knn_inter_dist_mean]\n",
    "#performance = [lda_knn_inter_dist_mean, w2v_knn_inter_dist_mean, gv_knn_inter_dist_mean, d2v_knn_inter_dist_mean]\n",
    "\n",
    "plt.bar(y_pos, silhouette_scores, align='center', alpha=0.5)\n",
    "plt.xticks(y_pos, objects)\n",
    "plt.ylabel('sampled average (500 cluster, 5 iterations)')\n",
    "plt.title('Silhouettes Coefficients')\n",
    "\n",
    "plt.show()"
   ]
  },
  {
   "cell_type": "code",
   "execution_count": null,
   "metadata": {},
   "outputs": [],
   "source": [
    "plt.savefig('silhouette.png')"
   ]
  },
  {
   "cell_type": "code",
   "execution_count": null,
   "metadata": {},
   "outputs": [],
   "source": []
  }
 ],
 "metadata": {
  "kernelspec": {
   "display_name": "Python 3",
   "language": "python",
   "name": "python3"
  },
  "language_info": {
   "codemirror_mode": {
    "name": "ipython",
    "version": 3
   },
   "file_extension": ".py",
   "mimetype": "text/x-python",
   "name": "python",
   "nbconvert_exporter": "python",
   "pygments_lexer": "ipython3",
   "version": "3.7.1"
  }
 },
 "nbformat": 4,
 "nbformat_minor": 2
}
