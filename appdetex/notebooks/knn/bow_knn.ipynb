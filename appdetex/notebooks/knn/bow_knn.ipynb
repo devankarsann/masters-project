{
 "cells": [
  {
   "cell_type": "code",
   "execution_count": 1,
   "metadata": {},
   "outputs": [
    {
     "data": {
      "text/html": [
       "<style>.container { width:95% !important; }</style>"
      ],
      "text/plain": [
       "<IPython.core.display.HTML object>"
      ]
     },
     "metadata": {},
     "output_type": "display_data"
    }
   ],
   "source": [
    "from IPython.core.display import display, HTML\n",
    "display(HTML(\"<style>.container { width:95% !important; }</style>\"))"
   ]
  },
  {
   "cell_type": "markdown",
   "metadata": {
    "id": "FYVUGSFLf_qE"
   },
   "source": [
    "## Libraries and Filesystem Setup"
   ]
  },
  {
   "cell_type": "code",
   "execution_count": 2,
   "metadata": {
    "colab": {
     "base_uri": "https://localhost:8080/"
    },
    "id": "uqRQxTVbf39P",
    "outputId": "aecc64fb-dc6f-4d45-f5a3-98ec0b70cbfe"
   },
   "outputs": [],
   "source": [
    "import pandas as pd\n",
    "import pickle\n",
    "from sklearn.neighbors import NearestNeighbors\n",
    "import numpy as np\n",
    "import matplotlib.pyplot as plt\n",
    "from random import sample\n",
    "import scipy"
   ]
  },
  {
   "cell_type": "markdown",
   "metadata": {},
   "source": [
    "### Import BOW document vectors"
   ]
  },
  {
   "cell_type": "code",
   "execution_count": 3,
   "metadata": {},
   "outputs": [],
   "source": [
    "#BOW = pickle.load(open(\"../processing_files/bow.pickle\", \"rb\"))\n",
    "#BOW = np.load(\"../../processed_files/bow/bow_matrix.npy\")\n",
    "BOW = scipy.sparse.load_npz('../../processed_files/bow/bow_matrix.npz')"
   ]
  },
  {
   "cell_type": "code",
   "execution_count": 4,
   "metadata": {},
   "outputs": [],
   "source": [
    "#stemmed_BOW = np.load(\"../../processed_files/bow/bow_stemmed_matrix.npy\")\n",
    "#BOW = scipy.sparse.load_npz('../../processed_files/bow/stemmed_bow_matrix.npz')"
   ]
  },
  {
   "cell_type": "code",
   "execution_count": 5,
   "metadata": {},
   "outputs": [],
   "source": [
    "df_merged = pickle.load(open(\"../../processed_files/df_merged.pickle\", \"rb\"))"
   ]
  },
  {
   "cell_type": "code",
   "execution_count": 6,
   "metadata": {},
   "outputs": [
    {
     "data": {
      "text/html": [
       "<div>\n",
       "<style scoped>\n",
       "    .dataframe tbody tr th:only-of-type {\n",
       "        vertical-align: middle;\n",
       "    }\n",
       "\n",
       "    .dataframe tbody tr th {\n",
       "        vertical-align: top;\n",
       "    }\n",
       "\n",
       "    .dataframe thead th {\n",
       "        text-align: right;\n",
       "    }\n",
       "</style>\n",
       "<table border=\"1\" class=\"dataframe\">\n",
       "  <thead>\n",
       "    <tr style=\"text-align: right;\">\n",
       "      <th></th>\n",
       "      <th>DOMAIN</th>\n",
       "      <th>RAW_CONTENT</th>\n",
       "      <th>RAW_CONTENT_PROCESSED</th>\n",
       "      <th>RAW_CONTENT_PROCESSED_STEMMED</th>\n",
       "    </tr>\n",
       "  </thead>\n",
       "  <tbody>\n",
       "    <tr>\n",
       "      <th>0</th>\n",
       "      <td>0-my.com</td>\n",
       "      <td>0-my.com related searches: related searches:</td>\n",
       "      <td>[mycom, related, searches, related, searches]</td>\n",
       "      <td>[mycom, relat, search, relat, search]</td>\n",
       "    </tr>\n",
       "    <tr>\n",
       "      <th>1</th>\n",
       "      <td>00bitz.com</td>\n",
       "      <td>error. page cannot be displayed. please contac...</td>\n",
       "      <td>[error, page, cannot, displayed, please, conta...</td>\n",
       "      <td>[error, page, cannot, display, pleas, contact,...</td>\n",
       "    </tr>\n",
       "    <tr>\n",
       "      <th>2</th>\n",
       "      <td>01187.com</td>\n",
       "      <td>01187.com is available for purchase! - wwwv1.c...</td>\n",
       "      <td>[com, vailable, purchase, wwwvcom, welcome, uu...</td>\n",
       "      <td>[com, vailabl, purchas, wwwvcom, welcom, uunic...</td>\n",
       "    </tr>\n",
       "    <tr>\n",
       "      <th>3</th>\n",
       "      <td>027.ir</td>\n",
       "      <td>027.ir - dns4.ir 027.ir hits: 7,267 under cons...</td>\n",
       "      <td>[ir, dnsir, ir, hits, construction, coming, so...</td>\n",
       "      <td>[ir, dnsir, ir, hit, construct, come, soon, ho...</td>\n",
       "    </tr>\n",
       "    <tr>\n",
       "      <th>4</th>\n",
       "      <td>03h.org</td>\n",
       "      <td>february | 2014 | online marketing review sear...</td>\n",
       "      <td>[february, online, marketing, review, search, ...</td>\n",
       "      <td>[februari, onlin, market, review, search, rece...</td>\n",
       "    </tr>\n",
       "  </tbody>\n",
       "</table>\n",
       "</div>"
      ],
      "text/plain": [
       "       DOMAIN                                        RAW_CONTENT  \\\n",
       "0    0-my.com       0-my.com related searches: related searches:   \n",
       "1  00bitz.com  error. page cannot be displayed. please contac...   \n",
       "2   01187.com  01187.com is available for purchase! - wwwv1.c...   \n",
       "3      027.ir  027.ir - dns4.ir 027.ir hits: 7,267 under cons...   \n",
       "4     03h.org  february | 2014 | online marketing review sear...   \n",
       "\n",
       "                               RAW_CONTENT_PROCESSED  \\\n",
       "0      [mycom, related, searches, related, searches]   \n",
       "1  [error, page, cannot, displayed, please, conta...   \n",
       "2  [com, vailable, purchase, wwwvcom, welcome, uu...   \n",
       "3  [ir, dnsir, ir, hits, construction, coming, so...   \n",
       "4  [february, online, marketing, review, search, ...   \n",
       "\n",
       "                       RAW_CONTENT_PROCESSED_STEMMED  \n",
       "0              [mycom, relat, search, relat, search]  \n",
       "1  [error, page, cannot, display, pleas, contact,...  \n",
       "2  [com, vailabl, purchas, wwwvcom, welcom, uunic...  \n",
       "3  [ir, dnsir, ir, hit, construct, come, soon, ho...  \n",
       "4  [februari, onlin, market, review, search, rece...  "
      ]
     },
     "execution_count": 6,
     "metadata": {},
     "output_type": "execute_result"
    }
   ],
   "source": [
    "df_merged.head()"
   ]
  },
  {
   "cell_type": "code",
   "execution_count": 7,
   "metadata": {},
   "outputs": [
    {
     "data": {
      "text/plain": [
       "(12975, 4)"
      ]
     },
     "execution_count": 7,
     "metadata": {},
     "output_type": "execute_result"
    }
   ],
   "source": [
    "df_merged.shape"
   ]
  },
  {
   "cell_type": "code",
   "execution_count": 8,
   "metadata": {},
   "outputs": [
    {
     "data": {
      "text/plain": [
       "(12975, 310826)"
      ]
     },
     "execution_count": 8,
     "metadata": {},
     "output_type": "execute_result"
    }
   ],
   "source": [
    "BOW.shape"
   ]
  },
  {
   "cell_type": "code",
   "execution_count": 9,
   "metadata": {},
   "outputs": [],
   "source": [
    "#stemmed_BOW.shape"
   ]
  },
  {
   "cell_type": "markdown",
   "metadata": {},
   "source": [
    "## knn"
   ]
  },
  {
   "cell_type": "code",
   "execution_count": 10,
   "metadata": {},
   "outputs": [
    {
     "name": "stderr",
     "output_type": "stream",
     "text": [
      "/Users/dkarsann/anaconda3/lib/python3.7/site-packages/sklearn/neighbors/_base.py:462: UserWarning: cannot use tree with sparse input: using brute force\n",
      "  warnings.warn(\"cannot use tree with sparse input: \"\n"
     ]
    },
    {
     "name": "stdout",
     "output_type": "stream",
     "text": [
      "CPU times: user 9.5 s, sys: 1.75 s, total: 11.3 s\n",
      "Wall time: 11.3 s\n"
     ]
    }
   ],
   "source": [
    "%%time\n",
    "nbrs50 = NearestNeighbors(n_neighbors=50, algorithm='ball_tree').fit(BOW)\n",
    "distances50, indices50 = nbrs50.kneighbors(BOW)"
   ]
  },
  {
   "cell_type": "code",
   "execution_count": 11,
   "metadata": {},
   "outputs": [],
   "source": [
    "#%%time\n",
    "#stemmed_nbrs50 = NearestNeighbors(n_neighbors=50, algorithm='ball_tree').fit(stemmed_BOW)\n",
    "#stemmed_distances50, stemmed_indices50 = stemmed_nbrs50.kneighbors(stemmed_BOW)"
   ]
  },
  {
   "cell_type": "code",
   "execution_count": 12,
   "metadata": {},
   "outputs": [
    {
     "name": "stdout",
     "output_type": "stream",
     "text": [
      "CPU times: user 8.89 s, sys: 1.56 s, total: 10.4 s\n",
      "Wall time: 10.4 s\n"
     ]
    }
   ],
   "source": [
    "%%time\n",
    "nbrs10 = NearestNeighbors(n_neighbors=10, algorithm='ball_tree').fit(BOW)\n",
    "distances10, indices10 = nbrs10.kneighbors(BOW)"
   ]
  },
  {
   "cell_type": "code",
   "execution_count": 13,
   "metadata": {},
   "outputs": [],
   "source": [
    "#%%time\n",
    "#stemmed_nbrs10 = NearestNeighbors(n_neighbors=10, algorithm='ball_tree').fit(stemmed_BOW)\n",
    "#stemmed_distances10, stemmed_indices10 = stemmed_nbrs10.kneighbors(stemmed_BOW)"
   ]
  },
  {
   "cell_type": "code",
   "execution_count": 14,
   "metadata": {
    "id": "njnHPQgtpZeC"
   },
   "outputs": [
    {
     "name": "stdout",
     "output_type": "stream",
     "text": [
      "(12975, 50)\n",
      "(12975, 50)\n"
     ]
    }
   ],
   "source": [
    "print(distances50.shape)\n",
    "print(indices50.shape)"
   ]
  },
  {
   "cell_type": "code",
   "execution_count": 15,
   "metadata": {},
   "outputs": [
    {
     "name": "stdout",
     "output_type": "stream",
     "text": [
      "(12975, 10)\n",
      "(12975, 10)\n"
     ]
    }
   ],
   "source": [
    "print(distances10.shape)\n",
    "print(distances10.shape)"
   ]
  },
  {
   "cell_type": "code",
   "execution_count": 16,
   "metadata": {},
   "outputs": [
    {
     "data": {
      "text/plain": [
       "array([0.        , 1.41421356, 1.41421356, 1.41421356, 1.41421356,\n",
       "       1.41421356, 1.41421356, 1.41421356, 1.41421356, 1.41421356,\n",
       "       1.41421356, 1.41421356, 1.41421356, 1.41421356, 1.41421356,\n",
       "       1.41421356, 1.41421356, 1.41421356, 1.41421356, 1.41421356,\n",
       "       1.41421356, 1.41421356, 1.41421356, 1.41421356, 1.41421356,\n",
       "       1.41421356, 1.41421356, 1.41421356, 1.41421356, 1.41421356,\n",
       "       1.41421356, 1.41421356, 1.41421356, 1.41421356, 1.41421356,\n",
       "       1.41421356, 1.41421356, 1.41421356, 1.41421356, 1.41421356,\n",
       "       1.41421356, 1.41421356, 1.41421356, 1.41421356, 1.41421356,\n",
       "       1.41421356, 1.41421356, 1.41421356, 1.41421356, 1.41421356])"
      ]
     },
     "execution_count": 16,
     "metadata": {},
     "output_type": "execute_result"
    }
   ],
   "source": [
    "distances50[0]"
   ]
  },
  {
   "cell_type": "code",
   "execution_count": 17,
   "metadata": {},
   "outputs": [
    {
     "data": {
      "text/plain": [
       "array([    0, 12204,  2077,  3969,  8250,  3970,  3975,   160,  9992,\n",
       "        6235,  8480,  6234, 12752,  2060,  4743,  8560,   662,  7585,\n",
       "        9055,  5450,  5314, 11465,  9212,  3216, 10938,  2082, 10062,\n",
       "         166,  7476,  7424,  7399,   570, 12432,  1162,  3650,  7921,\n",
       "        7959,  7185,  2137,  7124,   480, 12394,  2102, 10801,   139,\n",
       "        3258, 10860,  6588,  2000,  1968])"
      ]
     },
     "execution_count": 17,
     "metadata": {},
     "output_type": "execute_result"
    }
   ],
   "source": [
    "indices50[0]"
   ]
  },
  {
   "cell_type": "code",
   "execution_count": 18,
   "metadata": {},
   "outputs": [],
   "source": [
    "import statistics\n",
    "\n",
    "def intracluster_similarity(index, indices):\n",
    "    cluster_centroid = BOW[index].toarray()\n",
    "    sum_dist = 0\n",
    "    dist_list = []\n",
    "    for i in indices[index][1:]:\n",
    "        distance = np.linalg.norm(cluster_centroid-BOW[i].toarray())\n",
    "        sum_dist += distance\n",
    "        dist_list.append(distance)\n",
    "        #print(index, ',', i, '=', distance)\n",
    "        \n",
    "    avg = sum_dist/(len(indices[index])-1)\n",
    "    #print('average:', avg)\n",
    "    \n",
    "    variance = statistics.variance(dist_list)\n",
    "    #print('variance:', variance)\n",
    "    \n",
    "    return avg, variance"
   ]
  },
  {
   "cell_type": "code",
   "execution_count": 19,
   "metadata": {},
   "outputs": [
    {
     "data": {
      "text/plain": [
       "(1.414213562373094, 0.0)"
      ]
     },
     "execution_count": 19,
     "metadata": {},
     "output_type": "execute_result"
    }
   ],
   "source": [
    "intracluster_similarity(0, indices50)"
   ]
  },
  {
   "cell_type": "code",
   "execution_count": null,
   "metadata": {},
   "outputs": [],
   "source": [
    "def generate_raw_content_cluster_df(index, indices, distances):\n",
    "    index_list = list(indices[index])\n",
    "    distance_list = list(distances[index])\n",
    "    cluster_seed = df_merged.loc[index].to_frame().T\n",
    "    cluster_seed['DISTANCE'] = 0\n",
    "    cluster_df = df_merged.loc[index_list[1:]]\n",
    "    cluster_df['DISTANCE'] = distance_list[1:]\n",
    "    combined = pd.concat([cluster_seed, cluster_df.sort_values(by='DISTANCE', ascending=True)])\n",
    "    return combined.style.set_properties(subset=['RAW_CONTENT'], **{'width-min': '100px'})"
   ]
  },
  {
   "cell_type": "code",
   "execution_count": null,
   "metadata": {
    "scrolled": true
   },
   "outputs": [
    {
     "data": {
      "text/html": [
       "<style  type=\"text/css\" >\n",
       "    #T_e51fbeee_217a_11ec_847c_acde48001122row0_col1 {\n",
       "            width-min:  100px;\n",
       "        }    #T_e51fbeee_217a_11ec_847c_acde48001122row1_col1 {\n",
       "            width-min:  100px;\n",
       "        }    #T_e51fbeee_217a_11ec_847c_acde48001122row2_col1 {\n",
       "            width-min:  100px;\n",
       "        }    #T_e51fbeee_217a_11ec_847c_acde48001122row3_col1 {\n",
       "            width-min:  100px;\n",
       "        }    #T_e51fbeee_217a_11ec_847c_acde48001122row4_col1 {\n",
       "            width-min:  100px;\n",
       "        }    #T_e51fbeee_217a_11ec_847c_acde48001122row5_col1 {\n",
       "            width-min:  100px;\n",
       "        }    #T_e51fbeee_217a_11ec_847c_acde48001122row6_col1 {\n",
       "            width-min:  100px;\n",
       "        }    #T_e51fbeee_217a_11ec_847c_acde48001122row7_col1 {\n",
       "            width-min:  100px;\n",
       "        }    #T_e51fbeee_217a_11ec_847c_acde48001122row8_col1 {\n",
       "            width-min:  100px;\n",
       "        }    #T_e51fbeee_217a_11ec_847c_acde48001122row9_col1 {\n",
       "            width-min:  100px;\n",
       "        }    #T_e51fbeee_217a_11ec_847c_acde48001122row10_col1 {\n",
       "            width-min:  100px;\n",
       "        }    #T_e51fbeee_217a_11ec_847c_acde48001122row11_col1 {\n",
       "            width-min:  100px;\n",
       "        }    #T_e51fbeee_217a_11ec_847c_acde48001122row12_col1 {\n",
       "            width-min:  100px;\n",
       "        }    #T_e51fbeee_217a_11ec_847c_acde48001122row13_col1 {\n",
       "            width-min:  100px;\n",
       "        }    #T_e51fbeee_217a_11ec_847c_acde48001122row14_col1 {\n",
       "            width-min:  100px;\n",
       "        }    #T_e51fbeee_217a_11ec_847c_acde48001122row15_col1 {\n",
       "            width-min:  100px;\n",
       "        }    #T_e51fbeee_217a_11ec_847c_acde48001122row16_col1 {\n",
       "            width-min:  100px;\n",
       "        }    #T_e51fbeee_217a_11ec_847c_acde48001122row17_col1 {\n",
       "            width-min:  100px;\n",
       "        }    #T_e51fbeee_217a_11ec_847c_acde48001122row18_col1 {\n",
       "            width-min:  100px;\n",
       "        }    #T_e51fbeee_217a_11ec_847c_acde48001122row19_col1 {\n",
       "            width-min:  100px;\n",
       "        }    #T_e51fbeee_217a_11ec_847c_acde48001122row20_col1 {\n",
       "            width-min:  100px;\n",
       "        }    #T_e51fbeee_217a_11ec_847c_acde48001122row21_col1 {\n",
       "            width-min:  100px;\n",
       "        }    #T_e51fbeee_217a_11ec_847c_acde48001122row22_col1 {\n",
       "            width-min:  100px;\n",
       "        }    #T_e51fbeee_217a_11ec_847c_acde48001122row23_col1 {\n",
       "            width-min:  100px;\n",
       "        }    #T_e51fbeee_217a_11ec_847c_acde48001122row24_col1 {\n",
       "            width-min:  100px;\n",
       "        }    #T_e51fbeee_217a_11ec_847c_acde48001122row25_col1 {\n",
       "            width-min:  100px;\n",
       "        }    #T_e51fbeee_217a_11ec_847c_acde48001122row26_col1 {\n",
       "            width-min:  100px;\n",
       "        }    #T_e51fbeee_217a_11ec_847c_acde48001122row27_col1 {\n",
       "            width-min:  100px;\n",
       "        }    #T_e51fbeee_217a_11ec_847c_acde48001122row28_col1 {\n",
       "            width-min:  100px;\n",
       "        }    #T_e51fbeee_217a_11ec_847c_acde48001122row29_col1 {\n",
       "            width-min:  100px;\n",
       "        }    #T_e51fbeee_217a_11ec_847c_acde48001122row30_col1 {\n",
       "            width-min:  100px;\n",
       "        }    #T_e51fbeee_217a_11ec_847c_acde48001122row31_col1 {\n",
       "            width-min:  100px;\n",
       "        }    #T_e51fbeee_217a_11ec_847c_acde48001122row32_col1 {\n",
       "            width-min:  100px;\n",
       "        }    #T_e51fbeee_217a_11ec_847c_acde48001122row33_col1 {\n",
       "            width-min:  100px;\n",
       "        }    #T_e51fbeee_217a_11ec_847c_acde48001122row34_col1 {\n",
       "            width-min:  100px;\n",
       "        }    #T_e51fbeee_217a_11ec_847c_acde48001122row35_col1 {\n",
       "            width-min:  100px;\n",
       "        }    #T_e51fbeee_217a_11ec_847c_acde48001122row36_col1 {\n",
       "            width-min:  100px;\n",
       "        }    #T_e51fbeee_217a_11ec_847c_acde48001122row37_col1 {\n",
       "            width-min:  100px;\n",
       "        }    #T_e51fbeee_217a_11ec_847c_acde48001122row38_col1 {\n",
       "            width-min:  100px;\n",
       "        }    #T_e51fbeee_217a_11ec_847c_acde48001122row39_col1 {\n",
       "            width-min:  100px;\n",
       "        }    #T_e51fbeee_217a_11ec_847c_acde48001122row40_col1 {\n",
       "            width-min:  100px;\n",
       "        }    #T_e51fbeee_217a_11ec_847c_acde48001122row41_col1 {\n",
       "            width-min:  100px;\n",
       "        }    #T_e51fbeee_217a_11ec_847c_acde48001122row42_col1 {\n",
       "            width-min:  100px;\n",
       "        }    #T_e51fbeee_217a_11ec_847c_acde48001122row43_col1 {\n",
       "            width-min:  100px;\n",
       "        }    #T_e51fbeee_217a_11ec_847c_acde48001122row44_col1 {\n",
       "            width-min:  100px;\n",
       "        }    #T_e51fbeee_217a_11ec_847c_acde48001122row45_col1 {\n",
       "            width-min:  100px;\n",
       "        }    #T_e51fbeee_217a_11ec_847c_acde48001122row46_col1 {\n",
       "            width-min:  100px;\n",
       "        }    #T_e51fbeee_217a_11ec_847c_acde48001122row47_col1 {\n",
       "            width-min:  100px;\n",
       "        }    #T_e51fbeee_217a_11ec_847c_acde48001122row48_col1 {\n",
       "            width-min:  100px;\n",
       "        }    #T_e51fbeee_217a_11ec_847c_acde48001122row49_col1 {\n",
       "            width-min:  100px;\n",
       "        }</style>  \n",
       "<table id=\"T_e51fbeee_217a_11ec_847c_acde48001122\" > \n",
       "<thead>    <tr> \n",
       "        <th class=\"blank level0\" ></th> \n",
       "        <th class=\"col_heading level0 col0\" >DOMAIN</th> \n",
       "        <th class=\"col_heading level0 col1\" >RAW_CONTENT</th> \n",
       "        <th class=\"col_heading level0 col2\" >RAW_CONTENT_PROCESSED</th> \n",
       "        <th class=\"col_heading level0 col3\" >RAW_CONTENT_PROCESSED_STEMMED</th> \n",
       "        <th class=\"col_heading level0 col4\" >DISTANCE</th> \n",
       "    </tr></thead> \n",
       "<tbody>    <tr> \n",
       "        <th id=\"T_e51fbeee_217a_11ec_847c_acde48001122level0_row0\" class=\"row_heading level0 row0\" >2</th> \n",
       "        <td id=\"T_e51fbeee_217a_11ec_847c_acde48001122row0_col0\" class=\"data row0 col0\" >01187.com</td> \n",
       "        <td id=\"T_e51fbeee_217a_11ec_847c_acde48001122row0_col1\" class=\"data row0 col1\" >01187.com is available for purchase! - wwwv1.com welcome to uunic.com,these domain names are for sale,feel free to contact us! filter by suffix on sale $22600 01187.com 01187.com this domain is of unlimited value. this domain is for sale - $22600 usd! inquery this domain : reach agreementreasonable price start transactionfair and safe payment sentdomain transfered both confirmedtransaction closed make offer online domain: your name: offer price: usd sorry,your offer is too low,we will never consider e-mail: inquiry: enteraccess code: * send recommended payment method easy,big amount,low fees! my bank information intermediary bank: china merchants bank co. ltd., new york. bank swift code：cmbcus33 beneficiary’s bank: china merchants bank, h.o. bank address：cmb tower,7088 shennan boulevard, shenzhen, china. bank swift code：cmbccnbs my bank account name： my bank account number： my phone number: (+86)400-601-5335 domain: your name: domain transfer by:godaddy pushauthorization code domain price: usd paypal fees: buyer pay50% eachseller pay payment detail: paypal fees:,buyer pay:,total: usd e-mail: message: newbie why buy? contact us | | © 2005-2014 wwwv1.com all rights reserved.</td> \n",
       "        <td id=\"T_e51fbeee_217a_11ec_847c_acde48001122row0_col2\" class=\"data row0 col2\" >['com', 'vailable', 'purchase', 'wwwvcom', 'welcome', 'uuniccomthese', 'domain', 'names', 'salefeel', 'free', 'contact', 'us', 'filter', 'suffix', 'sale', 'com', 'com', 'domain', 'unlimited', 'value', 'domain', 'sale', 'usd', 'inquery', 'domain', 'reach', 'agreementreasonable', 'price', 'start', 'transactionfair', 'safe', 'payment', 'sentdomain', 'transfered', 'confirmedtransaction', 'closed', 'make', 'offer', 'online', 'domain', 'name', 'offer', 'price', 'usd', 'sorryyour', 'offer', 'lowwe', 'never', 'consider', 'email', 'inquiry', 'enteraccess', 'code', 'send', 'recommended', 'payment', 'method', 'easybig', 'amountlow', 'fees', 'bank', 'information', 'intermediary', 'bank', 'china', 'merchants', 'bank', 'co', 'ltd', 'new', 'york', 'bank', 'swift', 'code：cmbcus', 'beneficiary’s', 'bank', 'china', 'merchants', 'bank', 'ho', 'bank', 'address：cmb', 'tower', 'shennan', 'boulevard', 'shenzhen', 'china', 'bank', 'swift', 'code：cmbccnbs', 'bank', 'account', 'name：', 'bank', 'account', 'number：', 'phone', 'number', 'domain', 'name', 'domain', 'transfer', 'bygodaddy', 'pushauthorization', 'code', 'domain', 'price', 'usd', 'paypal', 'fees', 'buyer', 'pay', 'eachseller', 'pay', 'payment', 'detail', 'paypal', 'feesbuyer', 'paytotal', 'usd', 'email', 'message', 'newbie', 'buy', 'contact', 'us', '©', 'wwwvcom']</td> \n",
       "        <td id=\"T_e51fbeee_217a_11ec_847c_acde48001122row0_col3\" class=\"data row0 col3\" >['com', 'vailabl', 'purchas', 'wwwvcom', 'welcom', 'uuniccomthes', 'domain', 'name', 'salefeel', 'free', 'contact', 'us', 'filter', 'suffix', 'sale', 'com', 'com', 'domain', 'unlimit', 'valu', 'domain', 'sale', 'usd', 'inqueri', 'domain', 'reach', 'agreementreason', 'price', 'start', 'transactionfair', 'safe', 'payment', 'sentdomain', 'transfer', 'confirmedtransact', 'close', 'make', 'offer', 'onlin', 'domain', 'name', 'offer', 'price', 'usd', 'sorryyour', 'offer', 'loww', 'never', 'consid', 'email', 'inquiri', 'enteraccess', 'code', 'send', 'recommend', 'payment', 'method', 'easybig', 'amountlow', 'fee', 'bank', 'inform', 'intermediari', 'bank', 'china', 'merchant', 'bank', 'co', 'ltd', 'new', 'york', 'bank', 'swift', 'code：cmbcu', 'beneficiary’', 'bank', 'china', 'merchant', 'bank', 'ho', 'bank', 'address：cmb', 'tower', 'shennan', 'boulevard', 'shenzhen', 'china', 'bank', 'swift', 'code：cmbccnb', 'bank', 'account', 'name：', 'bank', 'account', 'number：', 'phone', 'number', 'domain', 'name', 'domain', 'transfer', 'bygodaddi', 'pushauthor', 'code', 'domain', 'price', 'usd', 'paypal', 'fee', 'buyer', 'pay', 'eachsel', 'pay', 'payment', 'detail', 'paypal', 'feesbuy', 'paytot', 'usd', 'email', 'messag', 'newbi', 'buy', 'contact', 'us', '©', 'wwwvcom']</td> \n",
       "        <td id=\"T_e51fbeee_217a_11ec_847c_acde48001122row0_col4\" class=\"data row0 col4\" >0</td> \n",
       "    </tr>    <tr> \n",
       "        <th id=\"T_e51fbeee_217a_11ec_847c_acde48001122level0_row1\" class=\"row_heading level0 row1\" >954</th> \n",
       "        <td id=\"T_e51fbeee_217a_11ec_847c_acde48001122row1_col0\" class=\"data row1 col0\" >assettowing.com</td> \n",
       "        <td id=\"T_e51fbeee_217a_11ec_847c_acde48001122row1_col1\" class=\"data row1 col1\" >assettowing.com domain name is for sale. inquire now. assettowing.com this premium domain name is available for purchase! your domain name is your identity on the internet establish instant trust and credibility with customers premium domain names appreciate in value over time boost your business and invest in the right domain name make an offer</td> \n",
       "        <td id=\"T_e51fbeee_217a_11ec_847c_acde48001122row1_col2\" class=\"data row1 col2\" >['assettowingcom', 'domain', 'name', 'sale', 'inquire', 'assettowingcom', 'premium', 'domain', 'name', 'vailable', 'purchase', 'domain', 'name', 'identity', 'internet', 'establish', 'instant', 'trust', 'credibility', 'customers', 'premium', 'domain', 'names', 'appreciate', 'value', 'time', 'boost', 'business', 'invest', 'right', 'domain', 'name', 'make', 'offer']</td> \n",
       "        <td id=\"T_e51fbeee_217a_11ec_847c_acde48001122row1_col3\" class=\"data row1 col3\" >['assettowingcom', 'domain', 'name', 'sale', 'inquir', 'assettowingcom', 'premium', 'domain', 'name', 'vailabl', 'purchas', 'domain', 'name', 'ident', 'internet', 'establish', 'instant', 'trust', 'credibl', 'custom', 'premium', 'domain', 'name', 'appreci', 'valu', 'time', 'boost', 'busi', 'invest', 'right', 'domain', 'name', 'make', 'offer']</td> \n",
       "        <td id=\"T_e51fbeee_217a_11ec_847c_acde48001122row1_col4\" class=\"data row1 col4\" >17.2047</td> \n",
       "    </tr>    <tr> \n",
       "        <th id=\"T_e51fbeee_217a_11ec_847c_acde48001122level0_row2\" class=\"row_heading level0 row2\" >9069</th> \n",
       "        <td id=\"T_e51fbeee_217a_11ec_847c_acde48001122row2_col0\" class=\"data row2 col0\" >poptropica.com.au</td> \n",
       "        <td id=\"T_e51fbeee_217a_11ec_847c_acde48001122row2_col1\" class=\"data row2 col1\" >poptropica.com.au domain name is for sale. inquire now. poptropica.com.au this premium domain name is available for purchase! your domain name is your identity on the internet establish instant trust and credibility with customers premium domain names appreciate in value over time boost your business and invest in the right domain name make your offer</td> \n",
       "        <td id=\"T_e51fbeee_217a_11ec_847c_acde48001122row2_col2\" class=\"data row2 col2\" >['poptropicacomau', 'domain', 'name', 'sale', 'inquire', 'poptropicacomau', 'premium', 'domain', 'name', 'vailable', 'purchase', 'domain', 'name', 'identity', 'internet', 'establish', 'instant', 'trust', 'credibility', 'customers', 'premium', 'domain', 'names', 'appreciate', 'value', 'time', 'boost', 'business', 'invest', 'right', 'domain', 'name', 'make', 'offer']</td> \n",
       "        <td id=\"T_e51fbeee_217a_11ec_847c_acde48001122row2_col3\" class=\"data row2 col3\" >['poptropicacomau', 'domain', 'name', 'sale', 'inquir', 'poptropicacomau', 'premium', 'domain', 'name', 'vailabl', 'purchas', 'domain', 'name', 'ident', 'internet', 'establish', 'instant', 'trust', 'credibl', 'custom', 'premium', 'domain', 'name', 'appreci', 'valu', 'time', 'boost', 'busi', 'invest', 'right', 'domain', 'name', 'make', 'offer']</td> \n",
       "        <td id=\"T_e51fbeee_217a_11ec_847c_acde48001122row2_col4\" class=\"data row2 col4\" >17.2047</td> \n",
       "    </tr>    <tr> \n",
       "        <th id=\"T_e51fbeee_217a_11ec_847c_acde48001122level0_row3\" class=\"row_heading level0 row3\" >5453</th> \n",
       "        <td id=\"T_e51fbeee_217a_11ec_847c_acde48001122row3_col0\" class=\"data row3 col0\" >humilityandcompassion.com</td> \n",
       "        <td id=\"T_e51fbeee_217a_11ec_847c_acde48001122row3_col1\" class=\"data row3 col1\" >humilityandcompassion.com domain name is for sale. inquire now. humilityandcompassion.com humilityandcompassion.com this premium domain name is available for purchase! your domain name is your identity on the internet establish instant trust and credibility with customers premium domain names appreciate in value over time boost your business and invest in the right domain name make an offer name email phone offer message</td> \n",
       "        <td id=\"T_e51fbeee_217a_11ec_847c_acde48001122row3_col2\" class=\"data row3 col2\" >['humilityandcompassioncom', 'domain', 'name', 'sale', 'inquire', 'humilityandcompassioncom', 'humilityandcompassioncom', 'premium', 'domain', 'name', 'vailable', 'purchase', 'domain', 'name', 'identity', 'internet', 'establish', 'instant', 'trust', 'credibility', 'customers', 'premium', 'domain', 'names', 'appreciate', 'value', 'time', 'boost', 'business', 'invest', 'right', 'domain', 'name', 'make', 'offer', 'name', 'email', 'phfer', 'message']</td> \n",
       "        <td id=\"T_e51fbeee_217a_11ec_847c_acde48001122row3_col3\" class=\"data row3 col3\" >['humilityandcompassioncom', 'domain', 'name', 'sale', 'inquir', 'humilityandcompassioncom', 'humilityandcompassioncom', 'premium', 'domain', 'name', 'vailabl', 'purchas', 'domain', 'name', 'ident', 'internet', 'establish', 'instant', 'trust', 'credibl', 'custom', 'premium', 'domain', 'name', 'appreci', 'valu', 'time', 'boost', 'busi', 'invest', 'right', 'domain', 'name', 'make', 'offer', 'name', 'email', 'phfer', 'messag']</td> \n",
       "        <td id=\"T_e51fbeee_217a_11ec_847c_acde48001122row3_col4\" class=\"data row3 col4\" >17.4069</td> \n",
       "    </tr>    <tr> \n",
       "        <th id=\"T_e51fbeee_217a_11ec_847c_acde48001122level0_row4\" class=\"row_heading level0 row4\" >3441</th> \n",
       "        <td id=\"T_e51fbeee_217a_11ec_847c_acde48001122row4_col0\" class=\"data row4 col0\" >dungsbayii.com</td> \n",
       "        <td id=\"T_e51fbeee_217a_11ec_847c_acde48001122row4_col1\" class=\"data row4 col1\" >dungsbayii.com this domain has expired! this domain has expired. if you owned this domain, contact your domain registration service provider for further assistance. dungsbayii.com</td> \n",
       "        <td id=\"T_e51fbeee_217a_11ec_847c_acde48001122row4_col2\" class=\"data row4 col2\" >['dungsbayiicom', 'domain', 'expired', 'domain', 'expired', 'owned', 'domain', 'contact', 'domain', 'registration', 'service', 'provider', 'assistance', 'dungsbayiicom']</td> \n",
       "        <td id=\"T_e51fbeee_217a_11ec_847c_acde48001122row4_col3\" class=\"data row4 col3\" >['dungsbayiicom', 'domain', 'expir', 'domain', 'expir', 'own', 'domain', 'contact', 'domain', 'registr', 'servic', 'provid', 'assist', 'dungsbayiicom']</td> \n",
       "        <td id=\"T_e51fbeee_217a_11ec_847c_acde48001122row4_col4\" class=\"data row4 col4\" >17.4356</td> \n",
       "    </tr>    <tr> \n",
       "        <th id=\"T_e51fbeee_217a_11ec_847c_acde48001122level0_row5\" class=\"row_heading level0 row5\" >5020</th> \n",
       "        <td id=\"T_e51fbeee_217a_11ec_847c_acde48001122row5_col0\" class=\"data row5 col0\" >halftimescore.com</td> \n",
       "        <td id=\"T_e51fbeee_217a_11ec_847c_acde48001122row5_col1\" class=\"data row5 col1\" >halftimescore.com domain name is for sale. inquire now. this premium domain is for sale acquire ownership & invest in your online identity domain age: 14+ years (registered: august 17, 2006) premium domain names appreciate in value over time payment plans & leasing options available safe & secure transactions via escrow.com make an offer contact details inquiry@toprank.domains</td> \n",
       "        <td id=\"T_e51fbeee_217a_11ec_847c_acde48001122row5_col2\" class=\"data row5 col2\" >['halftimescorecom', 'domain', 'name', 'sale', 'inquire', 'premium', 'domain', 'sale', 'acquire', 'ownership', 'invest', 'online', 'identity', 'domage', 'years', 'registered', 'august', 'premium', 'domain', 'names', 'appreciate', 'value', 'time', 'payment', 'plans', 'leasing', 'options', 'available', 'safe', 'secure', 'transactions', 'via', 'escrowcom', 'make', 'offer', 'contact', 'details', 'inquirytoprankdomains']</td> \n",
       "        <td id=\"T_e51fbeee_217a_11ec_847c_acde48001122row5_col3\" class=\"data row5 col3\" >['halftimescorecom', 'domain', 'name', 'sale', 'inquir', 'premium', 'domain', 'sale', 'acquir', 'ownership', 'invest', 'onlin', 'ident', 'domag', 'year', 'regist', 'august', 'premium', 'domain', 'name', 'appreci', 'valu', 'time', 'payment', 'plan', 'leas', 'option', 'avail', 'safe', 'secur', 'transact', 'via', 'escrowcom', 'make', 'offer', 'contact', 'detail', 'inquirytoprankdomain']</td> \n",
       "        <td id=\"T_e51fbeee_217a_11ec_847c_acde48001122row5_col4\" class=\"data row5 col4\" >17.4356</td> \n",
       "    </tr>    <tr> \n",
       "        <th id=\"T_e51fbeee_217a_11ec_847c_acde48001122level0_row6\" class=\"row_heading level0 row6\" >10791</th> \n",
       "        <td id=\"T_e51fbeee_217a_11ec_847c_acde48001122row6_col0\" class=\"data row6 col0\" >sumberrejeki-furniture.com</td> \n",
       "        <td id=\"T_e51fbeee_217a_11ec_847c_acde48001122row6_col1\" class=\"data row6 col1\" >sumberrejeki-furniture.com - domain expired sumberrejeki-furniture.com. your domain has expired, if you are the owner of this domain, please immediately renew your domain names.</td> \n",
       "        <td id=\"T_e51fbeee_217a_11ec_847c_acde48001122row6_col2\" class=\"data row6 col2\" >['sumberrejekifurniturecom', 'domain', 'expired', 'sumberrejekifurniturecom', 'domain', 'expired', 'owner', 'domain', 'please', 'immediately', 'renew', 'domain', 'names']</td> \n",
       "        <td id=\"T_e51fbeee_217a_11ec_847c_acde48001122row6_col3\" class=\"data row6 col3\" >['sumberrejekifurniturecom', 'domain', 'expir', 'sumberrejekifurniturecom', 'domain', 'expir', 'owner', 'domain', 'pleas', 'immedi', 'renew', 'domain', 'name']</td> \n",
       "        <td id=\"T_e51fbeee_217a_11ec_847c_acde48001122row6_col4\" class=\"data row6 col4\" >17.4642</td> \n",
       "    </tr>    <tr> \n",
       "        <th id=\"T_e51fbeee_217a_11ec_847c_acde48001122level0_row7\" class=\"row_heading level0 row7\" >3741</th> \n",
       "        <td id=\"T_e51fbeee_217a_11ec_847c_acde48001122row7_col0\" class=\"data row7 col0\" >engineparts.co.uk</td> \n",
       "        <td id=\"T_e51fbeee_217a_11ec_847c_acde48001122row7_col1\" class=\"data row7 col1\" >engineparts.co.uk is for sale engineparts.co.uk this domain is for sale £€&dollar; send message to seller this domain may be for sale. if you are interested and want to make an offer and/or contact the seller please use the form on this page. you will be requested to verify your contact via email. domain parking by</td> \n",
       "        <td id=\"T_e51fbeee_217a_11ec_847c_acde48001122row7_col2\" class=\"data row7 col2\" >['enginepartscouk', 'sale', 'enginepartscouk', 'domain', 'sale', '£€dollar', 'send', 'message', 'seller', 'domain', 'may', 'sale', 'interested', 'make', 'offer', 'andor', 'contact', 'seller', 'please', 'use', 'form', 'page', 'requested', 'verify', 'contact', 'via', 'email', 'domain', 'parking']</td> \n",
       "        <td id=\"T_e51fbeee_217a_11ec_847c_acde48001122row7_col3\" class=\"data row7 col3\" >['enginepartscouk', 'sale', 'enginepartscouk', 'domain', 'sale', '£€dollar', 'send', 'messag', 'seller', 'domain', 'may', 'sale', 'interest', 'make', 'offer', 'andor', 'contact', 'seller', 'pleas', 'use', 'form', 'page', 'request', 'verifi', 'contact', 'via', 'email', 'domain', 'park']</td> \n",
       "        <td id=\"T_e51fbeee_217a_11ec_847c_acde48001122row7_col4\" class=\"data row7 col4\" >17.4642</td> \n",
       "    </tr>    <tr> \n",
       "        <th id=\"T_e51fbeee_217a_11ec_847c_acde48001122level0_row8\" class=\"row_heading level0 row8\" >95</th> \n",
       "        <td id=\"T_e51fbeee_217a_11ec_847c_acde48001122row8_col0\" class=\"data row8 col0\" >3002345.com</td> \n",
       "        <td id=\"T_e51fbeee_217a_11ec_847c_acde48001122row8_col1\" class=\"data row8 col1\" >3002345.com-域名店铺 3002345.com the domain is for sale！ leimi@juming.cn if you are interested in this domain name, please contact the email above。</td> \n",
       "        <td id=\"T_e51fbeee_217a_11ec_847c_acde48001122row8_col2\" class=\"data row8 col2\" >['com域名店铺', 'com', 'domain', 'sale！', 'leimijumingcn', 'interested', 'domain', 'name', 'please', 'contact', 'email', 'above。']</td> \n",
       "        <td id=\"T_e51fbeee_217a_11ec_847c_acde48001122row8_col3\" class=\"data row8 col3\" >['com域名店铺', 'com', 'domain', 'sale！', 'leimijumingcn', 'interest', 'domain', 'name', 'pleas', 'contact', 'email', 'above。']</td> \n",
       "        <td id=\"T_e51fbeee_217a_11ec_847c_acde48001122row8_col4\" class=\"data row8 col4\" >17.4929</td> \n",
       "    </tr>    <tr> \n",
       "        <th id=\"T_e51fbeee_217a_11ec_847c_acde48001122level0_row9\" class=\"row_heading level0 row9\" >10454</th> \n",
       "        <td id=\"T_e51fbeee_217a_11ec_847c_acde48001122row9_col0\" class=\"data row9 col0\" >solterastv.com</td> \n",
       "        <td id=\"T_e51fbeee_217a_11ec_847c_acde48001122row9_col1\" class=\"data row9 col1\" >solterastv.com domain name is for sale. inquire now. solterastv.com this premium domain name is available for purchase! your domain name is your identity on the internet establish instant trust and credibility with customers premium domain names appreciate in value over time boost your business and invest in the right domain name solterastv.com</td> \n",
       "        <td id=\"T_e51fbeee_217a_11ec_847c_acde48001122row9_col2\" class=\"data row9 col2\" >['solterastvcom', 'domain', 'name', 'sale', 'inquire', 'solterastvcom', 'premium', 'domain', 'name', 'vailable', 'purchase', 'domain', 'name', 'identity', 'internet', 'establish', 'instant', 'trust', 'credibility', 'customers', 'premium', 'domain', 'names', 'appreciate', 'value', 'time', 'boost', 'business', 'invest', 'right', 'domain', 'name', 'solterastvcom']</td> \n",
       "        <td id=\"T_e51fbeee_217a_11ec_847c_acde48001122row9_col3\" class=\"data row9 col3\" >['solterastvcom', 'domain', 'name', 'sale', 'inquir', 'solterastvcom', 'premium', 'domain', 'name', 'vailabl', 'purchas', 'domain', 'name', 'ident', 'internet', 'establish', 'instant', 'trust', 'credibl', 'custom', 'premium', 'domain', 'name', 'appreci', 'valu', 'time', 'boost', 'busi', 'invest', 'right', 'domain', 'name', 'solterastvcom']</td> \n",
       "        <td id=\"T_e51fbeee_217a_11ec_847c_acde48001122row9_col4\" class=\"data row9 col4\" >17.5214</td> \n",
       "    </tr>    <tr> \n",
       "        <th id=\"T_e51fbeee_217a_11ec_847c_acde48001122level0_row10\" class=\"row_heading level0 row10\" >12928</th> \n",
       "        <td id=\"T_e51fbeee_217a_11ec_847c_acde48001122row10_col0\" class=\"data row10 col0\" >zelmox.com</td> \n",
       "        <td id=\"T_e51fbeee_217a_11ec_847c_acde48001122row10_col1\" class=\"data row10 col1\" >the domain name zelmox.com is for sale the domain name zelmox.com is for sale. a fashionable, intellectual, and futuristic name.$2755 usd</td> \n",
       "        <td id=\"T_e51fbeee_217a_11ec_847c_acde48001122row10_col2\" class=\"data row10 col2\" >['domain', 'name', 'zelmoxcom', 'sale', 'domain', 'name', 'zelmoxcom', 'sale', 'fashionable', 'intellectual', 'futuristic', 'name', 'usd']</td> \n",
       "        <td id=\"T_e51fbeee_217a_11ec_847c_acde48001122row10_col3\" class=\"data row10 col3\" >['domain', 'name', 'zelmoxcom', 'sale', 'domain', 'name', 'zelmoxcom', 'sale', 'fashion', 'intellectu', 'futurist', 'name', 'usd']</td> \n",
       "        <td id=\"T_e51fbeee_217a_11ec_847c_acde48001122row10_col4\" class=\"data row10 col4\" >17.5214</td> \n",
       "    </tr>    <tr> \n",
       "        <th id=\"T_e51fbeee_217a_11ec_847c_acde48001122level0_row11\" class=\"row_heading level0 row11\" >12944</th> \n",
       "        <td id=\"T_e51fbeee_217a_11ec_847c_acde48001122row11_col0\" class=\"data row11 col0\" >zhuravkov.ru</td> \n",
       "        <td id=\"T_e51fbeee_217a_11ec_847c_acde48001122row11_col1\" class=\"data row11 col1\" >zhuravkov.ru is for sale zhuravkov.ru this domain is for sale the domain is actually the site name and its correct choice influences greatly on the your endeavors success. often, cost of the domain change during the project running is comparable with the re-branding, so the best way is to choose the right domain at the beginning, and to position your product or service once precisely. get a price ₽ by submitting this form, you agree to get price © domain is parked by service contact me</td> \n",
       "        <td id=\"T_e51fbeee_217a_11ec_847c_acde48001122row11_col2\" class=\"data row11 col2\" >['zhuravkovru', 'sale', 'zhuravkovru', 'domain', 'sale', 'domain', 'ctually', 'site', 'name', 'correct', 'choice', 'influences', 'greatly', 'endeavors', 'success', 'often', 'cost', 'domain', 'change', 'project', 'running', 'comparable', 'rebranding', 'best', 'way', 'choose', 'right', 'domain', 'beginning', 'position', 'product', 'service', 'precisely', 'get', 'price', '₽', 'submitting', 'form', 'agree', 'get', 'price', '©', 'domain', 'parked', 'service', 'contact']</td> \n",
       "        <td id=\"T_e51fbeee_217a_11ec_847c_acde48001122row11_col3\" class=\"data row11 col3\" >['zhuravkovru', 'sale', 'zhuravkovru', 'domain', 'sale', 'domain', 'ctualli', 'site', 'name', 'correct', 'choic', 'influenc', 'greatli', 'endeavor', 'success', 'often', 'cost', 'domain', 'chang', 'project', 'run', 'compar', 'rebrand', 'best', 'way', 'choos', 'right', 'domain', 'begin', 'posit', 'product', 'servic', 'precis', 'get', 'price', '₽', 'submit', 'form', 'agre', 'get', 'price', '©', 'domain', 'park', 'servic', 'contact']</td> \n",
       "        <td id=\"T_e51fbeee_217a_11ec_847c_acde48001122row11_col4\" class=\"data row11 col4\" >17.5499</td> \n",
       "    </tr>    <tr> \n",
       "        <th id=\"T_e51fbeee_217a_11ec_847c_acde48001122level0_row12\" class=\"row_heading level0 row12\" >10352</th> \n",
       "        <td id=\"T_e51fbeee_217a_11ec_847c_acde48001122row12_col0\" class=\"data row12 col0\" >smartadvertising.ru</td> \n",
       "        <td id=\"T_e51fbeee_217a_11ec_847c_acde48001122row12_col1\" class=\"data row12 col1\" >smartadvertising.ru is for sale smartadvertising.ru this domain is for sale the domain is actually the site name and its correct choice influences greatly on the your endeavors success. often, cost of the domain change during the project running is comparable with the re-branding, so the best way is to choose the right domain at the beginning, and to position your product or service once precisely. get a price ₽ by submitting this form, you agree to get price © domain is parked by service contact me</td> \n",
       "        <td id=\"T_e51fbeee_217a_11ec_847c_acde48001122row12_col2\" class=\"data row12 col2\" >['smartadvertisingru', 'sale', 'smartadvertisingru', 'domain', 'sale', 'domain', 'ctually', 'site', 'name', 'correct', 'choice', 'influences', 'greatly', 'endeavors', 'success', 'often', 'cost', 'domain', 'change', 'project', 'running', 'comparable', 'rebranding', 'best', 'way', 'choose', 'right', 'domain', 'beginning', 'position', 'product', 'service', 'precisely', 'get', 'price', '₽', 'submitting', 'form', 'agree', 'get', 'price', '©', 'domain', 'parked', 'service', 'contact']</td> \n",
       "        <td id=\"T_e51fbeee_217a_11ec_847c_acde48001122row12_col3\" class=\"data row12 col3\" >['smartadvertisingru', 'sale', 'smartadvertisingru', 'domain', 'sale', 'domain', 'ctualli', 'site', 'name', 'correct', 'choic', 'influenc', 'greatli', 'endeavor', 'success', 'often', 'cost', 'domain', 'chang', 'project', 'run', 'compar', 'rebrand', 'best', 'way', 'choos', 'right', 'domain', 'begin', 'posit', 'product', 'servic', 'precis', 'get', 'price', '₽', 'submit', 'form', 'agre', 'get', 'price', '©', 'domain', 'park', 'servic', 'contact']</td> \n",
       "        <td id=\"T_e51fbeee_217a_11ec_847c_acde48001122row12_col4\" class=\"data row12 col4\" >17.5499</td> \n",
       "    </tr>    <tr> \n",
       "        <th id=\"T_e51fbeee_217a_11ec_847c_acde48001122level0_row13\" class=\"row_heading level0 row13\" >6530</th> \n",
       "        <td id=\"T_e51fbeee_217a_11ec_847c_acde48001122row13_col0\" class=\"data row13 col0\" >kultmag.ru</td> \n",
       "        <td id=\"T_e51fbeee_217a_11ec_847c_acde48001122row13_col1\" class=\"data row13 col1\" >kultmag.ru is for sale kultmag.ru this domain is for sale the domain is actually the site name and its correct choice influences greatly on the your endeavors success. often, cost of the domain change during the project running is comparable with the re-branding, so the best way is to choose the right domain at the beginning, and to position your product or service once precisely. get a price ₽ by submitting this form, you agree to get price © domain is parked by service contact me</td> \n",
       "        <td id=\"T_e51fbeee_217a_11ec_847c_acde48001122row13_col2\" class=\"data row13 col2\" >['kultmagru', 'sale', 'kultmagru', 'domain', 'sale', 'domain', 'ctually', 'site', 'name', 'correct', 'choice', 'influences', 'greatly', 'endeavors', 'success', 'often', 'cost', 'domain', 'change', 'project', 'running', 'comparable', 'rebranding', 'best', 'way', 'choose', 'right', 'domain', 'beginning', 'position', 'product', 'service', 'precisely', 'get', 'price', '₽', 'submitting', 'form', 'agree', 'get', 'price', '©', 'domain', 'parked', 'service', 'contact']</td> \n",
       "        <td id=\"T_e51fbeee_217a_11ec_847c_acde48001122row13_col3\" class=\"data row13 col3\" >['kultmagru', 'sale', 'kultmagru', 'domain', 'sale', 'domain', 'ctualli', 'site', 'name', 'correct', 'choic', 'influenc', 'greatli', 'endeavor', 'success', 'often', 'cost', 'domain', 'chang', 'project', 'run', 'compar', 'rebrand', 'best', 'way', 'choos', 'right', 'domain', 'begin', 'posit', 'product', 'servic', 'precis', 'get', 'price', '₽', 'submit', 'form', 'agre', 'get', 'price', '©', 'domain', 'park', 'servic', 'contact']</td> \n",
       "        <td id=\"T_e51fbeee_217a_11ec_847c_acde48001122row13_col4\" class=\"data row13 col4\" >17.5499</td> \n",
       "    </tr>    <tr> \n",
       "        <th id=\"T_e51fbeee_217a_11ec_847c_acde48001122level0_row14\" class=\"row_heading level0 row14\" >3431</th> \n",
       "        <td id=\"T_e51fbeee_217a_11ec_847c_acde48001122row14_col0\" class=\"data row14 col0\" >dueperthal.ru</td> \n",
       "        <td id=\"T_e51fbeee_217a_11ec_847c_acde48001122row14_col1\" class=\"data row14 col1\" >dueperthal.ru. domain dueperthal.ru is registered contact us: domain dueperthal.ru is registered domain name dueperthal.ru is not used © domain is parked by service svg modal background name phone e-mail comment by submitting this form, you agree to contact me</td> \n",
       "        <td id=\"T_e51fbeee_217a_11ec_847c_acde48001122row14_col2\" class=\"data row14 col2\" >['dueperthalru', 'domain', 'dueperthalru', 'registered', 'contact', 'us', 'domain', 'dueperthalru', 'registered', 'domain', 'name', 'dueperthalru', 'used', '©', 'domain', 'parked', 'service', 'svg', 'modal', 'background', 'name', 'phone', 'email', 'comment', 'submitting', 'form', 'agree', 'contact']</td> \n",
       "        <td id=\"T_e51fbeee_217a_11ec_847c_acde48001122row14_col3\" class=\"data row14 col3\" >['dueperthalru', 'domain', 'dueperthalru', 'regist', 'contact', 'us', 'domain', 'dueperthalru', 'regist', 'domain', 'name', 'dueperthalru', 'use', '©', 'domain', 'park', 'servic', 'svg', 'modal', 'background', 'name', 'phone', 'email', 'comment', 'submit', 'form', 'agre', 'contact']</td> \n",
       "        <td id=\"T_e51fbeee_217a_11ec_847c_acde48001122row14_col4\" class=\"data row14 col4\" >17.5499</td> \n",
       "    </tr>    <tr> \n",
       "        <th id=\"T_e51fbeee_217a_11ec_847c_acde48001122level0_row15\" class=\"row_heading level0 row15\" >11051</th> \n",
       "        <td id=\"T_e51fbeee_217a_11ec_847c_acde48001122row15_col0\" class=\"data row15 col0\" >tehkeramika.ru</td> \n",
       "        <td id=\"T_e51fbeee_217a_11ec_847c_acde48001122row15_col1\" class=\"data row15 col1\" >tehkeramika.ru is for sale tehkeramika.ru this domain is for sale the domain is actually the site name and its correct choice influences greatly on the your endeavors success. often, cost of the domain change during the project running is comparable with the re-branding, so the best way is to choose the right domain at the beginning, and to position your product or service once precisely. get a price ₽ by submitting this form, you agree to get price © domain is parked by service contact me</td> \n",
       "        <td id=\"T_e51fbeee_217a_11ec_847c_acde48001122row15_col2\" class=\"data row15 col2\" >['tehkeramikaru', 'sale', 'tehkeramikaru', 'domain', 'sale', 'domain', 'ctually', 'site', 'name', 'correct', 'choice', 'influences', 'greatly', 'endeavors', 'success', 'often', 'cost', 'domain', 'change', 'project', 'running', 'comparable', 'rebranding', 'best', 'way', 'choose', 'right', 'domain', 'beginning', 'position', 'product', 'service', 'precisely', 'get', 'price', '₽', 'submitting', 'form', 'agree', 'get', 'price', '©', 'domain', 'parked', 'service', 'contact']</td> \n",
       "        <td id=\"T_e51fbeee_217a_11ec_847c_acde48001122row15_col3\" class=\"data row15 col3\" >['tehkeramikaru', 'sale', 'tehkeramikaru', 'domain', 'sale', 'domain', 'ctualli', 'site', 'name', 'correct', 'choic', 'influenc', 'greatli', 'endeavor', 'success', 'often', 'cost', 'domain', 'chang', 'project', 'run', 'compar', 'rebrand', 'best', 'way', 'choos', 'right', 'domain', 'begin', 'posit', 'product', 'servic', 'precis', 'get', 'price', '₽', 'submit', 'form', 'agre', 'get', 'price', '©', 'domain', 'park', 'servic', 'contact']</td> \n",
       "        <td id=\"T_e51fbeee_217a_11ec_847c_acde48001122row15_col4\" class=\"data row15 col4\" >17.5499</td> \n",
       "    </tr>    <tr> \n",
       "        <th id=\"T_e51fbeee_217a_11ec_847c_acde48001122level0_row16\" class=\"row_heading level0 row16\" >6949</th> \n",
       "        <td id=\"T_e51fbeee_217a_11ec_847c_acde48001122row16_col0\" class=\"data row16 col0\" >ll8.ru</td> \n",
       "        <td id=\"T_e51fbeee_217a_11ec_847c_acde48001122row16_col1\" class=\"data row16 col1\" >ll8.ru is for sale ll8.ru this domain is for sale the domain is actually the site name and its correct choice influences greatly on the your endeavors success. often, cost of the domain change during the project running is comparable with the re-branding, so the best way is to choose the right domain at the beginning, and to position your product or service once precisely. get a price ₽ by submitting this form, you agree to get price © domain is parked by service contact me</td> \n",
       "        <td id=\"T_e51fbeee_217a_11ec_847c_acde48001122row16_col2\" class=\"data row16 col2\" >['llru', 'sale', 'llru', 'domain', 'sale', 'domain', 'ctually', 'site', 'name', 'correct', 'choice', 'influences', 'greatly', 'endeavors', 'success', 'often', 'cost', 'domain', 'change', 'project', 'running', 'comparable', 'rebranding', 'best', 'way', 'choose', 'right', 'domain', 'beginning', 'position', 'product', 'service', 'precisely', 'get', 'price', '₽', 'submitting', 'form', 'agree', 'get', 'price', '©', 'domain', 'parked', 'service', 'contact']</td> \n",
       "        <td id=\"T_e51fbeee_217a_11ec_847c_acde48001122row16_col3\" class=\"data row16 col3\" >['llru', 'sale', 'llru', 'domain', 'sale', 'domain', 'ctualli', 'site', 'name', 'correct', 'choic', 'influenc', 'greatli', 'endeavor', 'success', 'often', 'cost', 'domain', 'chang', 'project', 'run', 'compar', 'rebrand', 'best', 'way', 'choos', 'right', 'domain', 'begin', 'posit', 'product', 'servic', 'precis', 'get', 'price', '₽', 'submit', 'form', 'agre', 'get', 'price', '©', 'domain', 'park', 'servic', 'contact']</td> \n",
       "        <td id=\"T_e51fbeee_217a_11ec_847c_acde48001122row16_col4\" class=\"data row16 col4\" >17.5499</td> \n",
       "    </tr>    <tr> \n",
       "        <th id=\"T_e51fbeee_217a_11ec_847c_acde48001122level0_row17\" class=\"row_heading level0 row17\" >10495</th> \n",
       "        <td id=\"T_e51fbeee_217a_11ec_847c_acde48001122row17_col0\" class=\"data row17 col0\" >southernstylegreen.com</td> \n",
       "        <td id=\"T_e51fbeee_217a_11ec_847c_acde48001122row17_col1\" class=\"data row17 col1\" >welcome southernstylegreen.com - bluehost.com affordable, reliableweb hosting solutions the domain southernstylegreen.com has expired. if you are currently the domain owner please to your domain manager to renew your domain. ©2012 bluehost.com. all rights reserved.</td> \n",
       "        <td id=\"T_e51fbeee_217a_11ec_847c_acde48001122row17_col2\" class=\"data row17 col2\" >['welcome', 'southernstylegreencom', 'bluehostcom', 'affordable', 'reliableweb', 'hosting', 'solutions', 'domain', 'southernstylegreencom', 'expired', 'currently', 'domain', 'owner', 'please', 'domain', 'manager', 'renew', 'domain', '©', 'bluehostcom']</td> \n",
       "        <td id=\"T_e51fbeee_217a_11ec_847c_acde48001122row17_col3\" class=\"data row17 col3\" >['welcom', 'southernstylegreencom', 'bluehostcom', 'afford', 'reliableweb', 'host', 'solut', 'domain', 'southernstylegreencom', 'expir', 'current', 'domain', 'owner', 'pleas', 'domain', 'manag', 'renew', 'domain', '©', 'bluehostcom']</td> \n",
       "        <td id=\"T_e51fbeee_217a_11ec_847c_acde48001122row17_col4\" class=\"data row17 col4\" >17.6068</td> \n",
       "    </tr>    <tr> \n",
       "        <th id=\"T_e51fbeee_217a_11ec_847c_acde48001122level0_row18\" class=\"row_heading level0 row18\" >2841</th> \n",
       "        <td id=\"T_e51fbeee_217a_11ec_847c_acde48001122row18_col0\" class=\"data row18 col0\" >customshirts.in</td> \n",
       "        <td id=\"T_e51fbeee_217a_11ec_847c_acde48001122row18_col1\" class=\"data row18 col1\" >customshirts.in domain name is for sale. inquire now. customshirts.in this domain is reserved for a future project. however, meanwhile, it might be available to others. please inquire to explore the possibility. make an offer your domain name is your identity on the internet establish instant trust and credibility with customers premium domain names appreciate in value over time boost your business and invest in the right domain name customshirts.in</td> \n",
       "        <td id=\"T_e51fbeee_217a_11ec_847c_acde48001122row18_col2\" class=\"data row18 col2\" >['customshirtsin', 'domain', 'name', 'sale', 'inquire', 'customshirtsin', 'domain', 'reserved', 'future', 'project', 'however', 'meanwhile', 'might', 'available', 'others', 'please', 'inquire', 'explore', 'possibility', 'make', 'offer', 'domain', 'name', 'identity', 'internet', 'establish', 'instant', 'trust', 'credibility', 'customers', 'premium', 'domain', 'names', 'appreciate', 'value', 'time', 'boost', 'business', 'invest', 'right', 'domain', 'name', 'customshirtsin']</td> \n",
       "        <td id=\"T_e51fbeee_217a_11ec_847c_acde48001122row18_col3\" class=\"data row18 col3\" >['customshirtsin', 'domain', 'name', 'sale', 'inquir', 'customshirtsin', 'domain', 'reserv', 'futur', 'project', 'howev', 'meanwhil', 'might', 'avail', 'other', 'pleas', 'inquir', 'explor', 'possibl', 'make', 'offer', 'domain', 'name', 'ident', 'internet', 'establish', 'instant', 'trust', 'credibl', 'custom', 'premium', 'domain', 'name', 'appreci', 'valu', 'time', 'boost', 'busi', 'invest', 'right', 'domain', 'name', 'customshirtsin']</td> \n",
       "        <td id=\"T_e51fbeee_217a_11ec_847c_acde48001122row18_col4\" class=\"data row18 col4\" >17.6352</td> \n",
       "    </tr>    <tr> \n",
       "        <th id=\"T_e51fbeee_217a_11ec_847c_acde48001122level0_row19\" class=\"row_heading level0 row19\" >5970</th> \n",
       "        <td id=\"T_e51fbeee_217a_11ec_847c_acde48001122row19_col0\" class=\"data row19 col0\" >jammy.me</td> \n",
       "        <td id=\"T_e51fbeee_217a_11ec_847c_acde48001122row19_col1\" class=\"data row19 col1\" >porkbun.com | expired domain this domain is expired. jammy.me is registered at . it has expired and will likely be deleting soon. if this is your domain, you can renew it by logging into your account. find your own great domain: submit</td> \n",
       "        <td id=\"T_e51fbeee_217a_11ec_847c_acde48001122row19_col2\" class=\"data row19 col2\" >['porkbuncom', 'expired', 'domain', 'domain', 'expired', 'jammyme', 'registered', 'expired', 'likely', 'deleting', 'soon', 'domain', 'renew', 'logging', 'account', 'find', 'great', 'domain', 'submit']</td> \n",
       "        <td id=\"T_e51fbeee_217a_11ec_847c_acde48001122row19_col3\" class=\"data row19 col3\" >['porkbuncom', 'expir', 'domain', 'domain', 'expir', 'jammym', 'regist', 'expir', 'like', 'delet', 'soon', 'domain', 'renew', 'log', 'account', 'find', 'great', 'domain', 'submit']</td> \n",
       "        <td id=\"T_e51fbeee_217a_11ec_847c_acde48001122row19_col4\" class=\"data row19 col4\" >17.6352</td> \n",
       "    </tr>    <tr> \n",
       "        <th id=\"T_e51fbeee_217a_11ec_847c_acde48001122level0_row20\" class=\"row_heading level0 row20\" >9380</th> \n",
       "        <td id=\"T_e51fbeee_217a_11ec_847c_acde48001122row20_col0\" class=\"data row20 col0\" >rapidtechlab.co.uk</td> \n",
       "        <td id=\"T_e51fbeee_217a_11ec_847c_acde48001122row20_col1\" class=\"data row20 col1\" >home page this domain is for sale purchase this domain today!email s.cooper@post.com your best offer for my consideration.thanks</td> \n",
       "        <td id=\"T_e51fbeee_217a_11ec_847c_acde48001122row20_col2\" class=\"data row20 col2\" >['home', 'page', 'domain', 'sale', 'purchase', 'domain', 'todayemail', 'scooperpostcom', 'best', 'offer', 'considerationthanks']</td> \n",
       "        <td id=\"T_e51fbeee_217a_11ec_847c_acde48001122row20_col3\" class=\"data row20 col3\" >['home', 'page', 'domain', 'sale', 'purchas', 'domain', 'todayemail', 'scooperpostcom', 'best', 'offer', 'considerationthank']</td> \n",
       "        <td id=\"T_e51fbeee_217a_11ec_847c_acde48001122row20_col4\" class=\"data row20 col4\" >17.6352</td> \n",
       "    </tr>    <tr> \n",
       "        <th id=\"T_e51fbeee_217a_11ec_847c_acde48001122level0_row21\" class=\"row_heading level0 row21\" >6478</th> \n",
       "        <td id=\"T_e51fbeee_217a_11ec_847c_acde48001122row21_col0\" class=\"data row21 col0\" >kobimagazin.com</td> \n",
       "        <td id=\"T_e51fbeee_217a_11ec_847c_acde48001122row21_col1\" class=\"data row21 col1\" >porkbun.com | expired domain this domain is expired. kobimagazin.com is registered at . it has expired and will likely be deleting soon. if this is your domain, you can renew it by logging into your account. find your own great domain: submit</td> \n",
       "        <td id=\"T_e51fbeee_217a_11ec_847c_acde48001122row21_col2\" class=\"data row21 col2\" >['porkbuncom', 'expired', 'domain', 'domain', 'expired', 'kobimagazincom', 'registered', 'expired', 'likely', 'deleting', 'soon', 'domain', 'renew', 'logging', 'account', 'find', 'great', 'domain', 'submit']</td> \n",
       "        <td id=\"T_e51fbeee_217a_11ec_847c_acde48001122row21_col3\" class=\"data row21 col3\" >['porkbuncom', 'expir', 'domain', 'domain', 'expir', 'kobimagazincom', 'regist', 'expir', 'like', 'delet', 'soon', 'domain', 'renew', 'log', 'account', 'find', 'great', 'domain', 'submit']</td> \n",
       "        <td id=\"T_e51fbeee_217a_11ec_847c_acde48001122row21_col4\" class=\"data row21 col4\" >17.6352</td> \n",
       "    </tr>    <tr> \n",
       "        <th id=\"T_e51fbeee_217a_11ec_847c_acde48001122level0_row22\" class=\"row_heading level0 row22\" >2273</th> \n",
       "        <td id=\"T_e51fbeee_217a_11ec_847c_acde48001122row22_col0\" class=\"data row22 col0\" >chinamh.com</td> \n",
       "        <td id=\"T_e51fbeee_217a_11ec_847c_acde48001122row22_col1\" class=\"data row22 col1\" >chinamh.com-域名交易-聚集天下好域名 chinamh.com the domain is for sale！ leimi@juming.cn if you are interested in this domain name, please contact the email above。</td> \n",
       "        <td id=\"T_e51fbeee_217a_11ec_847c_acde48001122row22_col2\" class=\"data row22 col2\" >['chinamhcom域名交易聚集天下好域名', 'chinamhcom', 'domain', 'sale！', 'leimijumingcn', 'interested', 'domain', 'name', 'please', 'contact', 'email', 'above。']</td> \n",
       "        <td id=\"T_e51fbeee_217a_11ec_847c_acde48001122row22_col3\" class=\"data row22 col3\" >['chinamhcom域名交易聚集天下好域名', 'chinamhcom', 'domain', 'sale！', 'leimijumingcn', 'interest', 'domain', 'name', 'pleas', 'contact', 'email', 'above。']</td> \n",
       "        <td id=\"T_e51fbeee_217a_11ec_847c_acde48001122row22_col4\" class=\"data row22 col4\" >17.6635</td> \n",
       "    </tr>    <tr> \n",
       "        <th id=\"T_e51fbeee_217a_11ec_847c_acde48001122level0_row23\" class=\"row_heading level0 row23\" >8063</th> \n",
       "        <td id=\"T_e51fbeee_217a_11ec_847c_acde48001122row23_col0\" class=\"data row23 col0\" >myww.org</td> \n",
       "        <td id=\"T_e51fbeee_217a_11ec_847c_acde48001122row23_col1\" class=\"data row23 col1\" >domain registered at safenames domain registration in over 800 different extensions enterprise domain management since 1999 mark protecttm online brand monitoring and enforcement domain consultancy and strategy domain name acquisition domain disputes and recovery web hosting and data center solutions please visit for more information. europe, middle east and africa: +44 1908 200022 usa, canada & south america: +1 703 574 5313 australia & asia-pacific: +61 755 245 575</td> \n",
       "        <td id=\"T_e51fbeee_217a_11ec_847c_acde48001122row23_col2\" class=\"data row23 col2\" >['domain', 'registered', 'safenames', 'domain', 'registration', 'different', 'extensions', 'enterprise', 'domain', 'management', 'since', 'mark', 'protecttm', 'online', 'brand', 'monitoring', 'enforcement', 'domain', 'consultancy', 'strategy', 'domain', 'name', 'acquisition', 'domain', 'disputes', 'recovery', 'web', 'hosting', 'data', 'center', 'solutions', 'please', 'visit', 'information', 'europe', 'middle', 'east', 'africa', 'usa', 'canada', 'south', 'america', 'australia', 'asiapacific']</td> \n",
       "        <td id=\"T_e51fbeee_217a_11ec_847c_acde48001122row23_col3\" class=\"data row23 col3\" >['domain', 'regist', 'safenam', 'domain', 'registr', 'differ', 'extens', 'enterpris', 'domain', 'manag', 'sinc', 'mark', 'protecttm', 'onlin', 'brand', 'monitor', 'enforc', 'domain', 'consult', 'strategi', 'domain', 'name', 'acquisit', 'domain', 'disput', 'recoveri', 'web', 'host', 'data', 'center', 'solut', 'pleas', 'visit', 'inform', 'europ', 'middl', 'east', 'africa', 'usa', 'canada', 'south', 'america', 'australia', 'asiapacif']</td> \n",
       "        <td id=\"T_e51fbeee_217a_11ec_847c_acde48001122row23_col4\" class=\"data row23 col4\" >17.6635</td> \n",
       "    </tr>    <tr> \n",
       "        <th id=\"T_e51fbeee_217a_11ec_847c_acde48001122level0_row24\" class=\"row_heading level0 row24\" >4240</th> \n",
       "        <td id=\"T_e51fbeee_217a_11ec_847c_acde48001122row24_col0\" class=\"data row24 col0\" >fitsia.com</td> \n",
       "        <td id=\"T_e51fbeee_217a_11ec_847c_acde48001122row24_col1\" class=\"data row24 col1\" >the domain name fitsia.com is for sale the domain name fitsia.com is for sale. an active name centered around the word \"\"fit\"\" to get your heart racing.$2495 usd</td> \n",
       "        <td id=\"T_e51fbeee_217a_11ec_847c_acde48001122row24_col2\" class=\"data row24 col2\" >['domain', 'name', 'fitsiacom', 'sale', 'domain', 'name', 'fitsiacom', 'sale', 'active', 'name', 'centered', 'around', 'word', 'fit', 'get', 'heart', 'racing', 'usd']</td> \n",
       "        <td id=\"T_e51fbeee_217a_11ec_847c_acde48001122row24_col3\" class=\"data row24 col3\" >['domain', 'name', 'fitsiacom', 'sale', 'domain', 'name', 'fitsiacom', 'sale', 'activ', 'name', 'center', 'around', 'word', 'fit', 'get', 'heart', 'race', 'usd']</td> \n",
       "        <td id=\"T_e51fbeee_217a_11ec_847c_acde48001122row24_col4\" class=\"data row24 col4\" >17.6635</td> \n",
       "    </tr>    <tr> \n",
       "        <th id=\"T_e51fbeee_217a_11ec_847c_acde48001122level0_row25\" class=\"row_heading level0 row25\" >9936</th> \n",
       "        <td id=\"T_e51fbeee_217a_11ec_847c_acde48001122row25_col0\" class=\"data row25 col0\" >schoolnurse.uk</td> \n",
       "        <td id=\"T_e51fbeee_217a_11ec_847c_acde48001122row25_col1\" class=\"data row25 col1\" >domain name enquiry thank you for visiting. for enquiries about this domain name, please contact: mailpaul@paulregs.com</td> \n",
       "        <td id=\"T_e51fbeee_217a_11ec_847c_acde48001122row25_col2\" class=\"data row25 col2\" >['domain', 'name', 'enquiry', 'visiting', 'enquiries', 'domain', 'name', 'please', 'contact', 'mailpaulpaulregscom']</td> \n",
       "        <td id=\"T_e51fbeee_217a_11ec_847c_acde48001122row25_col3\" class=\"data row25 col3\" >['domain', 'name', 'enquiri', 'visit', 'enquiri', 'domain', 'name', 'pleas', 'contact', 'mailpaulpaulregscom']</td> \n",
       "        <td id=\"T_e51fbeee_217a_11ec_847c_acde48001122row25_col4\" class=\"data row25 col4\" >17.6635</td> \n",
       "    </tr>    <tr> \n",
       "        <th id=\"T_e51fbeee_217a_11ec_847c_acde48001122level0_row26\" class=\"row_heading level0 row26\" >1433</th> \n",
       "        <td id=\"T_e51fbeee_217a_11ec_847c_acde48001122row26_col0\" class=\"data row26 col0\" >bimbom.ru</td> \n",
       "        <td id=\"T_e51fbeee_217a_11ec_847c_acde48001122row26_col1\" class=\"data row26 col1\" >bimbom.ru is for sale bimbom.ru this domain is for sale got questions about buying this domain? the domain is actually the site name and its correct choice influences greatly on the your endeavors success. often, cost of the domain change during the project running is comparable with the re-branding, so the best way is to choose the right domain at the beginning, and to position your product or service once precisely. get a price ₽ by submitting this form, you agree to get price © domain is parked by service contact me</td> \n",
       "        <td id=\"T_e51fbeee_217a_11ec_847c_acde48001122row26_col2\" class=\"data row26 col2\" >['bimbomru', 'sale', 'bimbomru', 'domain', 'sale', 'got', 'questions', 'buying', 'doma', 'domain', 'ctually', 'site', 'name', 'correct', 'choice', 'influences', 'greatly', 'endeavors', 'success', 'often', 'cost', 'domain', 'change', 'project', 'running', 'comparable', 'rebranding', 'best', 'way', 'choose', 'right', 'domain', 'beginning', 'position', 'product', 'service', 'precisely', 'get', 'price', '₽', 'submitting', 'form', 'agree', 'get', 'price', '©', 'domain', 'parked', 'service', 'contact']</td> \n",
       "        <td id=\"T_e51fbeee_217a_11ec_847c_acde48001122row26_col3\" class=\"data row26 col3\" >['bimbomru', 'sale', 'bimbomru', 'domain', 'sale', 'got', 'question', 'buy', 'doma', 'domain', 'ctualli', 'site', 'name', 'correct', 'choic', 'influenc', 'greatli', 'endeavor', 'success', 'often', 'cost', 'domain', 'chang', 'project', 'run', 'compar', 'rebrand', 'best', 'way', 'choos', 'right', 'domain', 'begin', 'posit', 'product', 'servic', 'precis', 'get', 'price', '₽', 'submit', 'form', 'agre', 'get', 'price', '©', 'domain', 'park', 'servic', 'contact']</td> \n",
       "        <td id=\"T_e51fbeee_217a_11ec_847c_acde48001122row26_col4\" class=\"data row26 col4\" >17.6635</td> \n",
       "    </tr>    <tr> \n",
       "        <th id=\"T_e51fbeee_217a_11ec_847c_acde48001122level0_row27\" class=\"row_heading level0 row27\" >389</th> \n",
       "        <td id=\"T_e51fbeee_217a_11ec_847c_acde48001122row27_col0\" class=\"data row27 col0\" >aheadoftime.co.uk</td> \n",
       "        <td id=\"T_e51fbeee_217a_11ec_847c_acde48001122row27_col1\" class=\"data row27 col1\" >domain reserved domain reserved this domain has been reserved. to complete payment and/or arrange setup of your domains please</td> \n",
       "        <td id=\"T_e51fbeee_217a_11ec_847c_acde48001122row27_col2\" class=\"data row27 col2\" >['domain', 'reserved', 'domain', 'reserved', 'domain', 'reserved', 'complete', 'payment', 'andor', 'arrange', 'setup', 'domains', 'please']</td> \n",
       "        <td id=\"T_e51fbeee_217a_11ec_847c_acde48001122row27_col3\" class=\"data row27 col3\" >['domain', 'reserv', 'domain', 'reserv', 'domain', 'reserv', 'complet', 'payment', 'andor', 'arrang', 'setup', 'domain', 'pleas']</td> \n",
       "        <td id=\"T_e51fbeee_217a_11ec_847c_acde48001122row27_col4\" class=\"data row27 col4\" >17.6918</td> \n",
       "    </tr>    <tr> \n",
       "        <th id=\"T_e51fbeee_217a_11ec_847c_acde48001122level0_row28\" class=\"row_heading level0 row28\" >8812</th> \n",
       "        <td id=\"T_e51fbeee_217a_11ec_847c_acde48001122row28_col0\" class=\"data row28 col0\" >peat.cn</td> \n",
       "        <td id=\"T_e51fbeee_217a_11ec_847c_acde48001122row28_col1\" class=\"data row28 col1\" >peat.cn - the domain is available for purchase peat.cn 您正在访问的域名 peat.cn 正在筹划中， 或许可以转让出售。 this domain name peat.cn is for sale if you would like to purchase this domain name, please to make an offer. 13811877128 qq： 699331 email: 699331@qq.com 微信：13811877128 escrow through 4.cn www.4.cn is a famous domain name escrow company in china. for the detail process, you can or contact support@goldenname.com.the whole process needs about 5 working days. 好域名只为有经济实力和战略眼光的企业或个人保留！ 友情链接： copyright © 1998 - 2009 all rights reserved</td> \n",
       "        <td id=\"T_e51fbeee_217a_11ec_847c_acde48001122row28_col2\" class=\"data row28 col2\" >['peatcn', 'domain', 'vailable', 'purchase', 'peatcn', '您正在访问的域名', 'peatcn', '正在筹划中，', '或许可以转让出售。', 'domain', 'name', 'peatcn', 'sale', 'would', 'like', 'purchase', 'domain', 'name', 'please', 'make', 'offer', 'qq：', 'email', 'qqcom', '微信：', 'escrow', 'cn', 'wwwcn', 'famous', 'domain', 'name', 'escrow', 'company', 'china', 'detail', 'process', 'contact', 'supportgoldennamecomthe', 'whole', 'process', 'needs', 'working', 'days', '好域名只为有经济实力和战略眼光的企业或个人保留！', '友情链接：', 'copyright', '©']</td> \n",
       "        <td id=\"T_e51fbeee_217a_11ec_847c_acde48001122row28_col3\" class=\"data row28 col3\" >['peatcn', 'domain', 'vailabl', 'purchas', 'peatcn', '您正在访问的域名', 'peatcn', '正在筹划中，', '或许可以转让出售。', 'domain', 'name', 'peatcn', 'sale', 'would', 'like', 'purchas', 'domain', 'name', 'pleas', 'make', 'offer', 'qq：', 'email', 'qqcom', '微信：', 'escrow', 'cn', 'wwwcn', 'famou', 'domain', 'name', 'escrow', 'compani', 'china', 'detail', 'process', 'contact', 'supportgoldennamecomth', 'whole', 'process', 'need', 'work', 'day', '好域名只为有经济实力和战略眼光的企业或个人保留！', '友情链接：', 'copyright', '©']</td> \n",
       "        <td id=\"T_e51fbeee_217a_11ec_847c_acde48001122row28_col4\" class=\"data row28 col4\" >17.6918</td> \n",
       "    </tr>    <tr> \n",
       "        <th id=\"T_e51fbeee_217a_11ec_847c_acde48001122level0_row29\" class=\"row_heading level0 row29\" >4361</th> \n",
       "        <td id=\"T_e51fbeee_217a_11ec_847c_acde48001122row29_col0\" class=\"data row29 col0\" >fourposter.ca</td> \n",
       "        <td id=\"T_e51fbeee_217a_11ec_847c_acde48001122row29_col1\" class=\"data row29 col1\" >domain registered with canspace this domain is registered with canspace solutions if you are the owner of this domain, take a look at our if you'd like to host a website with your domain. get your own domain today with canada's leading domain registrar and web hosting provider. © copyright 2020, canspace solutions inc.</td> \n",
       "        <td id=\"T_e51fbeee_217a_11ec_847c_acde48001122row29_col2\" class=\"data row29 col2\" >['domain', 'registered', 'canspace', 'domain', 'registered', 'canspace', 'solutions', 'owner', 'domain', 'take', 'look', 'like', 'host', 'website', 'domain', 'get', 'domain', 'today', 'canadas', 'leading', 'domain', 'registrar', 'web', 'hosting', 'provider', '©', 'copyright', 'canspace', 'solutions', 'inc']</td> \n",
       "        <td id=\"T_e51fbeee_217a_11ec_847c_acde48001122row29_col3\" class=\"data row29 col3\" >['domain', 'regist', 'canspac', 'domain', 'regist', 'canspac', 'solut', 'owner', 'domain', 'take', 'look', 'like', 'host', 'websit', 'domain', 'get', 'domain', 'today', 'canada', 'lead', 'domain', 'registrar', 'web', 'host', 'provid', '©', 'copyright', 'canspac', 'solut', 'inc']</td> \n",
       "        <td id=\"T_e51fbeee_217a_11ec_847c_acde48001122row29_col4\" class=\"data row29 col4\" >17.72</td> \n",
       "    </tr>    <tr> \n",
       "        <th id=\"T_e51fbeee_217a_11ec_847c_acde48001122level0_row30\" class=\"row_heading level0 row30\" >3172</th> \n",
       "        <td id=\"T_e51fbeee_217a_11ec_847c_acde48001122row30_col0\" class=\"data row30 col0\" >diederich.co.uk</td> \n",
       "        <td id=\"T_e51fbeee_217a_11ec_847c_acde48001122row30_col1\" class=\"data row30 col1\" >free domain names free domain names</td> \n",
       "        <td id=\"T_e51fbeee_217a_11ec_847c_acde48001122row30_col2\" class=\"data row30 col2\" >['free', 'domain', 'names', 'free', 'domain', 'names']</td> \n",
       "        <td id=\"T_e51fbeee_217a_11ec_847c_acde48001122row30_col3\" class=\"data row30 col3\" >['free', 'domain', 'name', 'free', 'domain', 'name']</td> \n",
       "        <td id=\"T_e51fbeee_217a_11ec_847c_acde48001122row30_col4\" class=\"data row30 col4\" >17.72</td> \n",
       "    </tr>    <tr> \n",
       "        <th id=\"T_e51fbeee_217a_11ec_847c_acde48001122level0_row31\" class=\"row_heading level0 row31\" >12913</th> \n",
       "        <td id=\"T_e51fbeee_217a_11ec_847c_acde48001122row31_col0\" class=\"data row31 col0\" >zahq.com</td> \n",
       "        <td id=\"T_e51fbeee_217a_11ec_847c_acde48001122row31_col1\" class=\"data row31 col1\" >zahq.com domain name is for sale. inquire now. zahq.com sales@dotstore.com your domain name is your identity on the internet establish instant trust and credibility with customers premium domain names appreciate in value over time boost your business and invest in the right domain name make an offer! with this form, we collect your name and contact information so that we can process your inquiry. please refer to our to learn about how we protect and manage this data. i consent to having this information stored in order to process my inquiry.</td> \n",
       "        <td id=\"T_e51fbeee_217a_11ec_847c_acde48001122row31_col2\" class=\"data row31 col2\" >['zahqcom', 'domain', 'name', 'sale', 'inquire', 'zahqcom', 'salesdotstorecom', 'domain', 'name', 'identity', 'internet', 'establish', 'instant', 'trust', 'credibility', 'customers', 'premium', 'domain', 'names', 'appreciate', 'value', 'time', 'boost', 'business', 'invest', 'right', 'domain', 'name', 'make', 'offer', 'form', 'collect', 'name', 'contact', 'information', 'process', 'inquiry', 'please', 'refer', 'learn', 'protect', 'manage', 'data', 'consent', 'information', 'stored', 'order', 'process', 'inquiry']</td> \n",
       "        <td id=\"T_e51fbeee_217a_11ec_847c_acde48001122row31_col3\" class=\"data row31 col3\" >['zahqcom', 'domain', 'name', 'sale', 'inquir', 'zahqcom', 'salesdotstorecom', 'domain', 'name', 'ident', 'internet', 'establish', 'instant', 'trust', 'credibl', 'custom', 'premium', 'domain', 'name', 'appreci', 'valu', 'time', 'boost', 'busi', 'invest', 'right', 'domain', 'name', 'make', 'offer', 'form', 'collect', 'name', 'contact', 'inform', 'process', 'inquiri', 'pleas', 'refer', 'learn', 'protect', 'manag', 'data', 'consent', 'inform', 'store', 'order', 'process', 'inquiri']</td> \n",
       "        <td id=\"T_e51fbeee_217a_11ec_847c_acde48001122row31_col4\" class=\"data row31 col4\" >17.7482</td> \n",
       "    </tr>    <tr> \n",
       "        <th id=\"T_e51fbeee_217a_11ec_847c_acde48001122level0_row32\" class=\"row_heading level0 row32\" >12874</th> \n",
       "        <td id=\"T_e51fbeee_217a_11ec_847c_acde48001122row32_col0\" class=\"data row32 col0\" >youngstownmortgage.com</td> \n",
       "        <td id=\"T_e51fbeee_217a_11ec_847c_acde48001122row32_col1\" class=\"data row32 col1\" >youngstownmortgage.com - misconfigured the domain name youngstownmortgage.com is misconfiguredthe owner of this domain is using the nameserver configuration of dan.com but has not listed this domain yet.get inspiredhere are some domains you may like is this your domain?list this domain on dan.comcopyright © 2013 - 2020 dan.com an undeveloped bv subsidiary. all rights reserved.english</td> \n",
       "        <td id=\"T_e51fbeee_217a_11ec_847c_acde48001122row32_col2\" class=\"data row32 col2\" >['youngstownmortgagecom', 'misconfigured', 'domain', 'name', 'youngstownmortgagecom', 'misconfiguredthe', 'owner', 'domain', 'using', 'nameserver', 'configuration', 'dancom', 'listed', 'domain', 'yetget', 'inspiredhere', 'domains', 'may', 'like', 'domainlist', 'domain', 'dancomcopyright', '©', 'dancom', 'undeveloped', 'bv', 'subsidiary', 'english']</td> \n",
       "        <td id=\"T_e51fbeee_217a_11ec_847c_acde48001122row32_col3\" class=\"data row32 col3\" >['youngstownmortgagecom', 'misconfigur', 'domain', 'name', 'youngstownmortgagecom', 'misconfiguredth', 'owner', 'domain', 'use', 'nameserv', 'configur', 'dancom', 'list', 'domain', 'yetget', 'inspiredher', 'domain', 'may', 'like', 'domainlist', 'domain', 'dancomcopyright', '©', 'dancom', 'undevelop', 'bv', 'subsidiari', 'english']</td> \n",
       "        <td id=\"T_e51fbeee_217a_11ec_847c_acde48001122row32_col4\" class=\"data row32 col4\" >17.7764</td> \n",
       "    </tr>    <tr> \n",
       "        <th id=\"T_e51fbeee_217a_11ec_847c_acde48001122level0_row33\" class=\"row_heading level0 row33\" >8128</th> \n",
       "        <td id=\"T_e51fbeee_217a_11ec_847c_acde48001122row33_col0\" class=\"data row33 col0\" >navikarana.com</td> \n",
       "        <td id=\"T_e51fbeee_217a_11ec_847c_acde48001122row33_col1\" class=\"data row33 col1\" >navikarana.com - misconfigured the domain name navikarana.com is misconfiguredthe owner of this domain is using the nameserver configuration of dan.com but has not listed this domain yet.get inspiredhere are some domains you may like is this your domain?list this domain on dan.comcopyright © 2013 - 2020 dan.com an undeveloped bv subsidiary. all rights reserved.english</td> \n",
       "        <td id=\"T_e51fbeee_217a_11ec_847c_acde48001122row33_col2\" class=\"data row33 col2\" >['navikaranacom', 'misconfigured', 'domain', 'name', 'navikaranacom', 'misconfiguredthe', 'owner', 'domain', 'using', 'nameserver', 'configuration', 'dancom', 'listed', 'domain', 'yetget', 'inspiredhere', 'domains', 'may', 'like', 'domainlist', 'domain', 'dancomcopyright', '©', 'dancom', 'undeveloped', 'bv', 'subsidiary', 'english']</td> \n",
       "        <td id=\"T_e51fbeee_217a_11ec_847c_acde48001122row33_col3\" class=\"data row33 col3\" >['navikaranacom', 'misconfigur', 'domain', 'name', 'navikaranacom', 'misconfiguredth', 'owner', 'domain', 'use', 'nameserv', 'configur', 'dancom', 'list', 'domain', 'yetget', 'inspiredher', 'domain', 'may', 'like', 'domainlist', 'domain', 'dancomcopyright', '©', 'dancom', 'undevelop', 'bv', 'subsidiari', 'english']</td> \n",
       "        <td id=\"T_e51fbeee_217a_11ec_847c_acde48001122row33_col4\" class=\"data row33 col4\" >17.7764</td> \n",
       "    </tr>    <tr> \n",
       "        <th id=\"T_e51fbeee_217a_11ec_847c_acde48001122level0_row34\" class=\"row_heading level0 row34\" >10316</th> \n",
       "        <td id=\"T_e51fbeee_217a_11ec_847c_acde48001122row34_col0\" class=\"data row34 col0\" >skyflystudios.com</td> \n",
       "        <td id=\"T_e51fbeee_217a_11ec_847c_acde48001122row34_col1\" class=\"data row34 col1\" >domain for sale: skyflystudios.com skyflystudios.com this domain is for sale please for pricing information. powered by</td> \n",
       "        <td id=\"T_e51fbeee_217a_11ec_847c_acde48001122row34_col2\" class=\"data row34 col2\" >['domain', 'sale', 'skyflystudioscom', 'skyflystudioscom', 'domain', 'sale', 'please', 'pricing', 'information', 'powered']</td> \n",
       "        <td id=\"T_e51fbeee_217a_11ec_847c_acde48001122row34_col3\" class=\"data row34 col3\" >['domain', 'sale', 'skyflystudioscom', 'skyflystudioscom', 'domain', 'sale', 'pleas', 'price', 'inform', 'power']</td> \n",
       "        <td id=\"T_e51fbeee_217a_11ec_847c_acde48001122row34_col4\" class=\"data row34 col4\" >17.7764</td> \n",
       "    </tr>    <tr> \n",
       "        <th id=\"T_e51fbeee_217a_11ec_847c_acde48001122level0_row35\" class=\"row_heading level0 row35\" >12011</th> \n",
       "        <td id=\"T_e51fbeee_217a_11ec_847c_acde48001122row35_col0\" class=\"data row35 col0\" >uncorkandunwined.com</td> \n",
       "        <td id=\"T_e51fbeee_217a_11ec_847c_acde48001122row35_col1\" class=\"data row35 col1\" >uncorkandunwined.com - misconfigured the domain name uncorkandunwined.com is misconfiguredthe owner of this domain is using the nameserver configuration of dan.com but has not listed this domain yet.get inspiredhere are some domains you may like is this your domain?list this domain on dan.comcopyright © 2013 - 2020 dan.com an undeveloped bv subsidiary. all rights reserved.english</td> \n",
       "        <td id=\"T_e51fbeee_217a_11ec_847c_acde48001122row35_col2\" class=\"data row35 col2\" >['uncorkandunwinedcom', 'misconfigured', 'domain', 'name', 'uncorkandunwinedcom', 'misconfiguredthe', 'owner', 'domain', 'using', 'nameserver', 'configuration', 'dancom', 'listed', 'domain', 'yetget', 'inspiredhere', 'domains', 'may', 'like', 'domainlist', 'domain', 'dancomcopyright', '©', 'dancom', 'undeveloped', 'bv', 'subsidiary', 'english']</td> \n",
       "        <td id=\"T_e51fbeee_217a_11ec_847c_acde48001122row35_col3\" class=\"data row35 col3\" >['uncorkandunwinedcom', 'misconfigur', 'domain', 'name', 'uncorkandunwinedcom', 'misconfiguredth', 'owner', 'domain', 'use', 'nameserv', 'configur', 'dancom', 'list', 'domain', 'yetget', 'inspiredher', 'domain', 'may', 'like', 'domainlist', 'domain', 'dancomcopyright', '©', 'dancom', 'undevelop', 'bv', 'subsidiari', 'english']</td> \n",
       "        <td id=\"T_e51fbeee_217a_11ec_847c_acde48001122row35_col4\" class=\"data row35 col4\" >17.7764</td> \n",
       "    </tr>    <tr> \n",
       "        <th id=\"T_e51fbeee_217a_11ec_847c_acde48001122level0_row36\" class=\"row_heading level0 row36\" >1871</th> \n",
       "        <td id=\"T_e51fbeee_217a_11ec_847c_acde48001122row36_col0\" class=\"data row36 col0\" >buymycafe.co.uk</td> \n",
       "        <td id=\"T_e51fbeee_217a_11ec_847c_acde48001122row36_col1\" class=\"data row36 col1\" >buymycafe.co.uk - misconfigured the domain name buymycafe.co.uk is misconfiguredthe owner of this domain is using the nameserver configuration of dan.com but has not listed this domain yet.get inspiredhere are some domains you may like is this your domain?list this domain on dan.comcopyright © 2013 - 2020 dan.com an undeveloped bv subsidiary. all rights reserved.english</td> \n",
       "        <td id=\"T_e51fbeee_217a_11ec_847c_acde48001122row36_col2\" class=\"data row36 col2\" >['buymycafecouk', 'misconfigured', 'domain', 'name', 'buymycafecouk', 'misconfiguredthe', 'owner', 'domain', 'using', 'nameserver', 'configuration', 'dancom', 'listed', 'domain', 'yetget', 'inspiredhere', 'domains', 'may', 'like', 'domainlist', 'domain', 'dancomcopyright', '©', 'dancom', 'undeveloped', 'bv', 'subsidiary', 'english']</td> \n",
       "        <td id=\"T_e51fbeee_217a_11ec_847c_acde48001122row36_col3\" class=\"data row36 col3\" >['buymycafecouk', 'misconfigur', 'domain', 'name', 'buymycafecouk', 'misconfiguredth', 'owner', 'domain', 'use', 'nameserv', 'configur', 'dancom', 'list', 'domain', 'yetget', 'inspiredher', 'domain', 'may', 'like', 'domainlist', 'domain', 'dancomcopyright', '©', 'dancom', 'undevelop', 'bv', 'subsidiari', 'english']</td> \n",
       "        <td id=\"T_e51fbeee_217a_11ec_847c_acde48001122row36_col4\" class=\"data row36 col4\" >17.7764</td> \n",
       "    </tr>    <tr> \n",
       "        <th id=\"T_e51fbeee_217a_11ec_847c_acde48001122level0_row37\" class=\"row_heading level0 row37\" >6484</th> \n",
       "        <td id=\"T_e51fbeee_217a_11ec_847c_acde48001122row37_col0\" class=\"data row37 col0\" >koloz.ru</td> \n",
       "        <td id=\"T_e51fbeee_217a_11ec_847c_acde48001122row37_col1\" class=\"data row37 col1\" >koloz.ru domain has expiredkoloz.ru this domain has expired</td> \n",
       "        <td id=\"T_e51fbeee_217a_11ec_847c_acde48001122row37_col2\" class=\"data row37 col2\" >['kolozru', 'domain', 'expiredkolozru', 'domain', 'expired']</td> \n",
       "        <td id=\"T_e51fbeee_217a_11ec_847c_acde48001122row37_col3\" class=\"data row37 col3\" >['kolozru', 'domain', 'expiredkolozru', 'domain', 'expir']</td> \n",
       "        <td id=\"T_e51fbeee_217a_11ec_847c_acde48001122row37_col4\" class=\"data row37 col4\" >17.8045</td> \n",
       "    </tr>    <tr> \n",
       "        <th id=\"T_e51fbeee_217a_11ec_847c_acde48001122level0_row38\" class=\"row_heading level0 row38\" >6095</th> \n",
       "        <td id=\"T_e51fbeee_217a_11ec_847c_acde48001122row38_col0\" class=\"data row38 col0\" >jobladderlk.com</td> \n",
       "        <td id=\"T_e51fbeee_217a_11ec_847c_acde48001122row38_col1\" class=\"data row38 col1\" >this domain (jobladderlk.com) expired on 13/06/2020. you can retrieve your domain by</td> \n",
       "        <td id=\"T_e51fbeee_217a_11ec_847c_acde48001122row38_col2\" class=\"data row38 col2\" >['domain', 'jobladderlkcom', 'expired', 'retrieve', 'domain']</td> \n",
       "        <td id=\"T_e51fbeee_217a_11ec_847c_acde48001122row38_col3\" class=\"data row38 col3\" >['domain', 'jobladderlkcom', 'expir', 'retriev', 'domain']</td> \n",
       "        <td id=\"T_e51fbeee_217a_11ec_847c_acde48001122row38_col4\" class=\"data row38 col4\" >17.8045</td> \n",
       "    </tr>    <tr> \n",
       "        <th id=\"T_e51fbeee_217a_11ec_847c_acde48001122level0_row39\" class=\"row_heading level0 row39\" >12903</th> \n",
       "        <td id=\"T_e51fbeee_217a_11ec_847c_acde48001122row39_col0\" class=\"data row39 col0\" >ytele.com</td> \n",
       "        <td id=\"T_e51fbeee_217a_11ec_847c_acde48001122row39_col1\" class=\"data row39 col1\" >ytele.com - the domain is available for purchase ytele.com 正在访问的域名 (ytele.com) 可以转让! this domain name (ytele.com) is for sale 如果您对该域名感兴趣，请提供您的报价。 if you would like to purchase this domain name, please to make an offer. 米表： ★域名转让，价格公道，过户的工作一条龙服务到家, 欢迎联系。 联系方式：qq: 760171 (点击图标可直接聊天) e-mail: 760171@qq.com 微信：domain1 （扫二维码，加微信） 经纪人电话：0571-56638515 copyright © 1998 - 2016 all rights reserved</td> \n",
       "        <td id=\"T_e51fbeee_217a_11ec_847c_acde48001122row39_col2\" class=\"data row39 col2\" >['ytelecom', 'domain', 'vailable', 'purchase', 'ytelecom', '正在访问的域名', 'ytelecom', '可以转让', 'domain', 'name', 'ytelecom', 'sale', '如果您对该域名感兴趣，请提供您的报价。', 'would', 'like', 'purchase', 'domain', 'name', 'please', 'make', 'offer', '米表：', '★域名转让，价格公道，过户的工作一条龙服务到家', '欢迎联系。', '联系方式：qq', '点击图标可直接聊天', 'email', 'qqcom', '微信：domain', '（扫二维码，加微信）', '经纪人电话：', 'copyright', '©']</td> \n",
       "        <td id=\"T_e51fbeee_217a_11ec_847c_acde48001122row39_col3\" class=\"data row39 col3\" >['ytelecom', 'domain', 'vailabl', 'purchas', 'ytelecom', '正在访问的域名', 'ytelecom', '可以转让', 'domain', 'name', 'ytelecom', 'sale', '如果您对该域名感兴趣，请提供您的报价。', 'would', 'like', 'purchas', 'domain', 'name', 'pleas', 'make', 'offer', '米表：', '★域名转让，价格公道，过户的工作一条龙服务到家', '欢迎联系。', '联系方式：qq', '点击图标可直接聊天', 'email', 'qqcom', '微信：domain', '（扫二维码，加微信）', '经纪人电话：', 'copyright', '©']</td> \n",
       "        <td id=\"T_e51fbeee_217a_11ec_847c_acde48001122row39_col4\" class=\"data row39 col4\" >17.8045</td> \n",
       "    </tr>    <tr> \n",
       "        <th id=\"T_e51fbeee_217a_11ec_847c_acde48001122level0_row40\" class=\"row_heading level0 row40\" >5496</th> \n",
       "        <td id=\"T_e51fbeee_217a_11ec_847c_acde48001122row40_col0\" class=\"data row40 col0\" >hywi.com</td> \n",
       "        <td id=\"T_e51fbeee_217a_11ec_847c_acde48001122row40_col1\" class=\"data row40 col1\" >this domain is registered at namepal this domain is expired, you can renew it . this domain is registered at namepal this domain is expired, you can renew it . 2015 copyright. all rights reserved. the sponsored listings displayed above are served automatically by a third party. neither parkingcrew nor the domain owner maintain any relationship with the advertisers. in case of trademark issues please contact the domain owner directly (contact information can be found in whois).</td> \n",
       "        <td id=\"T_e51fbeee_217a_11ec_847c_acde48001122row40_col2\" class=\"data row40 col2\" >['domain', 'registered', 'namepal', 'domain', 'expired', 'renew', 'domain', 'registered', 'namepal', 'domain', 'expired', 'renew', 'copyright', 'sponsored', 'listings', 'displayed', 'served', 'automatically', 'third', 'party', 'neither', 'parkingcrew', 'domain', 'owner', 'maintany', 'relationship', 'advertisers', 'case', 'trademark', 'issues', 'please', 'contact', 'domain', 'owner', 'directly', 'contact', 'information', 'found', 'whois']</td> \n",
       "        <td id=\"T_e51fbeee_217a_11ec_847c_acde48001122row40_col3\" class=\"data row40 col3\" >['domain', 'regist', 'namep', 'domain', 'expir', 'renew', 'domain', 'regist', 'namep', 'domain', 'expir', 'renew', 'copyright', 'sponsor', 'list', 'display', 'serv', 'automat', 'third', 'parti', 'neither', 'parkingcrew', 'domain', 'owner', 'maintani', 'relationship', 'advertis', 'case', 'trademark', 'issu', 'pleas', 'contact', 'domain', 'owner', 'directli', 'contact', 'inform', 'found', 'whoi']</td> \n",
       "        <td id=\"T_e51fbeee_217a_11ec_847c_acde48001122row40_col4\" class=\"data row40 col4\" >17.8045</td> \n",
       "    </tr>    <tr> \n",
       "        <th id=\"T_e51fbeee_217a_11ec_847c_acde48001122level0_row41\" class=\"row_heading level0 row41\" >4356</th> \n",
       "        <td id=\"T_e51fbeee_217a_11ec_847c_acde48001122row41_col0\" class=\"data row41 col0\" >fotnu.ru</td> \n",
       "        <td id=\"T_e51fbeee_217a_11ec_847c_acde48001122row41_col1\" class=\"data row41 col1\" >fotnu.ru domain has expiredfotnu.ru this domain has expired</td> \n",
       "        <td id=\"T_e51fbeee_217a_11ec_847c_acde48001122row41_col2\" class=\"data row41 col2\" >['fotnuru', 'domain', 'expiredfotnuru', 'domain', 'expired']</td> \n",
       "        <td id=\"T_e51fbeee_217a_11ec_847c_acde48001122row41_col3\" class=\"data row41 col3\" >['fotnuru', 'domain', 'expiredfotnuru', 'domain', 'expir']</td> \n",
       "        <td id=\"T_e51fbeee_217a_11ec_847c_acde48001122row41_col4\" class=\"data row41 col4\" >17.8045</td> \n",
       "    </tr>    <tr> \n",
       "        <th id=\"T_e51fbeee_217a_11ec_847c_acde48001122level0_row42\" class=\"row_heading level0 row42\" >3832</th> \n",
       "        <td id=\"T_e51fbeee_217a_11ec_847c_acde48001122row42_col0\" class=\"data row42 col0\" >eucleia-group.net</td> \n",
       "        <td id=\"T_e51fbeee_217a_11ec_847c_acde48001122row42_col1\" class=\"data row42 col1\" >eucleia-group.net this domain name has been registered with gandi.net to see the domain’s public registration information.want your own domain name?</td> \n",
       "        <td id=\"T_e51fbeee_217a_11ec_847c_acde48001122row42_col2\" class=\"data row42 col2\" >['eucleiagroupnet', 'domain', 'name', 'registered', 'gandinet', 'see', 'domain’s', 'public', 'registration', 'informationwant', 'domain', 'name']</td> \n",
       "        <td id=\"T_e51fbeee_217a_11ec_847c_acde48001122row42_col3\" class=\"data row42 col3\" >['eucleiagroupnet', 'domain', 'name', 'regist', 'gandinet', 'see', 'domain’', 'public', 'registr', 'informationw', 'domain', 'name']</td> \n",
       "        <td id=\"T_e51fbeee_217a_11ec_847c_acde48001122row42_col4\" class=\"data row42 col4\" >17.8326</td> \n",
       "    </tr>    <tr> \n",
       "        <th id=\"T_e51fbeee_217a_11ec_847c_acde48001122level0_row43\" class=\"row_heading level0 row43\" >3050</th> \n",
       "        <td id=\"T_e51fbeee_217a_11ec_847c_acde48001122row43_col0\" class=\"data row43 col0\" >delicitea.com</td> \n",
       "        <td id=\"T_e51fbeee_217a_11ec_847c_acde48001122row43_col1\" class=\"data row43 col1\" >delicitea.com this domain name has been registered with gandi.net to see the domain’s public registration information.want your own domain name?</td> \n",
       "        <td id=\"T_e51fbeee_217a_11ec_847c_acde48001122row43_col2\" class=\"data row43 col2\" >['deliciteacom', 'domain', 'name', 'registered', 'gandinet', 'see', 'domain’s', 'public', 'registration', 'informationwant', 'domain', 'name']</td> \n",
       "        <td id=\"T_e51fbeee_217a_11ec_847c_acde48001122row43_col3\" class=\"data row43 col3\" >['deliciteacom', 'domain', 'name', 'regist', 'gandinet', 'see', 'domain’', 'public', 'registr', 'informationw', 'domain', 'name']</td> \n",
       "        <td id=\"T_e51fbeee_217a_11ec_847c_acde48001122row43_col4\" class=\"data row43 col4\" >17.8326</td> \n",
       "    </tr>    <tr> \n",
       "        <th id=\"T_e51fbeee_217a_11ec_847c_acde48001122level0_row44\" class=\"row_heading level0 row44\" >580</th> \n",
       "        <td id=\"T_e51fbeee_217a_11ec_847c_acde48001122row44_col0\" class=\"data row44 col0\" >altak.app</td> \n",
       "        <td id=\"T_e51fbeee_217a_11ec_847c_acde48001122row44_col1\" class=\"data row44 col1\" >altak.app this domain name has been registered with gandi.net to see the domain’s public registration information.want your own domain name?</td> \n",
       "        <td id=\"T_e51fbeee_217a_11ec_847c_acde48001122row44_col2\" class=\"data row44 col2\" >['altakapp', 'domain', 'name', 'registered', 'gandinet', 'see', 'domain’s', 'public', 'registration', 'informationwant', 'domain', 'name']</td> \n",
       "        <td id=\"T_e51fbeee_217a_11ec_847c_acde48001122row44_col3\" class=\"data row44 col3\" >['altakapp', 'domain', 'name', 'regist', 'gandinet', 'see', 'domain’', 'public', 'registr', 'informationw', 'domain', 'name']</td> \n",
       "        <td id=\"T_e51fbeee_217a_11ec_847c_acde48001122row44_col4\" class=\"data row44 col4\" >17.8326</td> \n",
       "    </tr>    <tr> \n",
       "        <th id=\"T_e51fbeee_217a_11ec_847c_acde48001122level0_row45\" class=\"row_heading level0 row45\" >9146</th> \n",
       "        <td id=\"T_e51fbeee_217a_11ec_847c_acde48001122row45_col0\" class=\"data row45 col0\" >prestapaye.fr</td> \n",
       "        <td id=\"T_e51fbeee_217a_11ec_847c_acde48001122row45_col1\" class=\"data row45 col1\" >prestapaye.fr this domain name has been registered with gandi.net to see the domain’s public registration information.want your own domain name?</td> \n",
       "        <td id=\"T_e51fbeee_217a_11ec_847c_acde48001122row45_col2\" class=\"data row45 col2\" >['prestapayefr', 'domain', 'name', 'registered', 'gandinet', 'see', 'domain’s', 'public', 'registration', 'informationwant', 'domain', 'name']</td> \n",
       "        <td id=\"T_e51fbeee_217a_11ec_847c_acde48001122row45_col3\" class=\"data row45 col3\" >['prestapayefr', 'domain', 'name', 'regist', 'gandinet', 'see', 'domain’', 'public', 'registr', 'informationw', 'domain', 'name']</td> \n",
       "        <td id=\"T_e51fbeee_217a_11ec_847c_acde48001122row45_col4\" class=\"data row45 col4\" >17.8326</td> \n",
       "    </tr>    <tr> \n",
       "        <th id=\"T_e51fbeee_217a_11ec_847c_acde48001122level0_row46\" class=\"row_heading level0 row46\" >4816</th> \n",
       "        <td id=\"T_e51fbeee_217a_11ec_847c_acde48001122row46_col0\" class=\"data row46 col0\" >gophersociety.org</td> \n",
       "        <td id=\"T_e51fbeee_217a_11ec_847c_acde48001122row46_col1\" class=\"data row46 col1\" >gophersociety.org this domain name has been registered with gandi.net to see the domain’s public registration information.want your own domain name?</td> \n",
       "        <td id=\"T_e51fbeee_217a_11ec_847c_acde48001122row46_col2\" class=\"data row46 col2\" >['gophersocietyorg', 'domain', 'name', 'registered', 'gandinet', 'see', 'domain’s', 'public', 'registration', 'informationwant', 'domain', 'name']</td> \n",
       "        <td id=\"T_e51fbeee_217a_11ec_847c_acde48001122row46_col3\" class=\"data row46 col3\" >['gophersocietyorg', 'domain', 'name', 'regist', 'gandinet', 'see', 'domain’', 'public', 'registr', 'informationw', 'domain', 'name']</td> \n",
       "        <td id=\"T_e51fbeee_217a_11ec_847c_acde48001122row46_col4\" class=\"data row46 col4\" >17.8326</td> \n",
       "    </tr>    <tr> \n",
       "        <th id=\"T_e51fbeee_217a_11ec_847c_acde48001122level0_row47\" class=\"row_heading level0 row47\" >164</th> \n",
       "        <td id=\"T_e51fbeee_217a_11ec_847c_acde48001122row47_col0\" class=\"data row47 col0\" >88.team</td> \n",
       "        <td id=\"T_e51fbeee_217a_11ec_847c_acde48001122row47_col1\" class=\"data row47 col1\" >welcome to 88.team welcome to 88.team this domain is for sale want to buy it, please send an email to: shileiye@gmail.com other domain: 、、、、、、 copyright © 2020 88.team. all rights reserved.</td> \n",
       "        <td id=\"T_e51fbeee_217a_11ec_847c_acde48001122row47_col2\" class=\"data row47 col2\" >['welcome', 'team', 'welcome', 'team', 'domain', 'sale', 'buy', 'please', 'send', 'email', 'shileiyegmailcom', 'domain', '、、、、、、', 'copyright', '©', 'team']</td> \n",
       "        <td id=\"T_e51fbeee_217a_11ec_847c_acde48001122row47_col3\" class=\"data row47 col3\" >['welcom', 'team', 'welcom', 'team', 'domain', 'sale', 'buy', 'pleas', 'send', 'email', 'shileiyegmailcom', 'domain', '、、、、、、', 'copyright', '©', 'team']</td> \n",
       "        <td id=\"T_e51fbeee_217a_11ec_847c_acde48001122row47_col4\" class=\"data row47 col4\" >17.8326</td> \n",
       "    </tr>    <tr> \n",
       "        <th id=\"T_e51fbeee_217a_11ec_847c_acde48001122level0_row48\" class=\"row_heading level0 row48\" >2227</th> \n",
       "        <td id=\"T_e51fbeee_217a_11ec_847c_acde48001122row48_col0\" class=\"data row48 col0\" >chateaudeprade.com</td> \n",
       "        <td id=\"T_e51fbeee_217a_11ec_847c_acde48001122row48_col1\" class=\"data row48 col1\" >chateaudeprade.com this domain name has been registered with gandi.net to see the domain’s public registration information.want your own domain name?</td> \n",
       "        <td id=\"T_e51fbeee_217a_11ec_847c_acde48001122row48_col2\" class=\"data row48 col2\" >['chateaudepradecom', 'domain', 'name', 'registered', 'gandinet', 'see', 'domain’s', 'public', 'registration', 'informationwant', 'domain', 'name']</td> \n",
       "        <td id=\"T_e51fbeee_217a_11ec_847c_acde48001122row48_col3\" class=\"data row48 col3\" >['chateaudepradecom', 'domain', 'name', 'regist', 'gandinet', 'see', 'domain’', 'public', 'registr', 'informationw', 'domain', 'name']</td> \n",
       "        <td id=\"T_e51fbeee_217a_11ec_847c_acde48001122row48_col4\" class=\"data row48 col4\" >17.8326</td> \n",
       "    </tr>    <tr> \n",
       "        <th id=\"T_e51fbeee_217a_11ec_847c_acde48001122level0_row49\" class=\"row_heading level0 row49\" >2232</th> \n",
       "        <td id=\"T_e51fbeee_217a_11ec_847c_acde48001122row49_col0\" class=\"data row49 col0\" >chazy.fr</td> \n",
       "        <td id=\"T_e51fbeee_217a_11ec_847c_acde48001122row49_col1\" class=\"data row49 col1\" >chazy.fr this domain name has been registered with gandi.net to see the domain’s public registration information.want your own domain name?</td> \n",
       "        <td id=\"T_e51fbeee_217a_11ec_847c_acde48001122row49_col2\" class=\"data row49 col2\" >['chazyfr', 'domain', 'name', 'registered', 'gandinet', 'see', 'domain’s', 'public', 'registration', 'informationwant', 'domain', 'name']</td> \n",
       "        <td id=\"T_e51fbeee_217a_11ec_847c_acde48001122row49_col3\" class=\"data row49 col3\" >['chazyfr', 'domain', 'name', 'regist', 'gandinet', 'see', 'domain’', 'public', 'registr', 'informationw', 'domain', 'name']</td> \n",
       "        <td id=\"T_e51fbeee_217a_11ec_847c_acde48001122row49_col4\" class=\"data row49 col4\" >17.8326</td> \n",
       "    </tr></tbody> \n",
       "</table> "
      ],
      "text/plain": [
       "<pandas.io.formats.style.Styler at 0x1a70bfee10>"
      ]
     },
     "execution_count": 21,
     "metadata": {},
     "output_type": "execute_result"
    }
   ],
   "source": [
    "# non-unique index errors\n",
    "# 14 is a good example\n",
    "# 21 can we stop output after distance goes from 3 to 10.583?\n",
    "# 22 is lots of similar basic pages\n",
    "generate_raw_content_cluster_df(2, indices50, distances50)"
   ]
  },
  {
   "cell_type": "code",
   "execution_count": null,
   "metadata": {},
   "outputs": [],
   "source": [
    "avg_list = []\n",
    "variance_list = []\n",
    "\n",
    "for i in range(BOW.shape[0]):\n",
    "    avg, variance = intracluster_similarity(i, indices50)\n",
    "    avg_list.append(avg)\n",
    "    variance_list.append(variance)\n",
    "    #print()"
   ]
  },
  {
   "cell_type": "code",
   "execution_count": null,
   "metadata": {
    "scrolled": false
   },
   "outputs": [],
   "source": [
    "bins= [0,0.1,0.2,0.3,0.4,0.5,0.6,0.7,0.8,0.9,1.0]\n",
    "plt.hist(avg_list, bins=bins, edgecolor=\"k\")\n",
    "plt.xticks(bins)"
   ]
  },
  {
   "cell_type": "code",
   "execution_count": null,
   "metadata": {},
   "outputs": [],
   "source": [
    "bins= [0,0.1,0.2,0.3,0.4,0.5,0.6,0.7,0.8,0.9,1.0]\n",
    "plt.hist(variance_list, bins=bins, edgecolor=\"k\")\n",
    "plt.xticks(bins)"
   ]
  },
  {
   "cell_type": "code",
   "execution_count": null,
   "metadata": {},
   "outputs": [],
   "source": [
    "len(avg_list)"
   ]
  },
  {
   "cell_type": "code",
   "execution_count": null,
   "metadata": {},
   "outputs": [],
   "source": [
    "len(variance_list)"
   ]
  },
  {
   "cell_type": "markdown",
   "metadata": {},
   "source": [
    "## Intercluster Similarity"
   ]
  },
  {
   "cell_type": "code",
   "execution_count": null,
   "metadata": {},
   "outputs": [],
   "source": [
    "#def intercluster_similarity(index):"
   ]
  },
  {
   "cell_type": "code",
   "execution_count": null,
   "metadata": {},
   "outputs": [],
   "source": [
    "def calculate_centroid(index):\n",
    "    cluster_centroid = BOW[index].toarray()\n",
    "    for i in indices50[index][1:]:\n",
    "        cluster_centroid = np.add(cluster_centroid, BOW[i].toarray())\n",
    "    return cluster_centroid/len(indices50[index][1:])"
   ]
  },
  {
   "cell_type": "code",
   "execution_count": null,
   "metadata": {},
   "outputs": [],
   "source": [
    "index_centroid = dict()\n",
    "for i in range(BOW.shape[0]):\n",
    "    index_centroid[i] = calculate_centroid(i)"
   ]
  },
  {
   "cell_type": "code",
   "execution_count": null,
   "metadata": {},
   "outputs": [],
   "source": [
    "#centroid_centroid_distance = {}\n",
    "#for i in range(BOW.shape[0]):\n",
    "#    for j in range(BOW.shape[0]):\n",
    "#        if i < j:\n",
    "#            key = str(i) + \"::\" + str(j)\n",
    "#            centroid_centroid_distance[key] = np.linalg.norm(index_centroid[i]-index_centroid[j])\n",
    "#centroid_centroid_distance"
   ]
  },
  {
   "cell_type": "markdown",
   "metadata": {},
   "source": [
    "## 10 documents sample"
   ]
  },
  {
   "cell_type": "code",
   "execution_count": null,
   "metadata": {},
   "outputs": [],
   "source": [
    "indices10sample = sample(range(BOW.shape[0]),10)"
   ]
  },
  {
   "cell_type": "code",
   "execution_count": null,
   "metadata": {
    "scrolled": true
   },
   "outputs": [],
   "source": [
    "centroid_centroid_distance_10 = {}\n",
    "for i in indices10sample:\n",
    "    for j in indices10sample:\n",
    "        if i < j:\n",
    "            key = str(i) + \"::\" + str(j)\n",
    "            centroid_centroid_distance_10[key] = np.linalg.norm(index_centroid[i]-index_centroid[j])\n",
    "centroid_centroid_distance_10"
   ]
  },
  {
   "cell_type": "code",
   "execution_count": null,
   "metadata": {},
   "outputs": [],
   "source": [
    "# 9, 6, 21, 10\n",
    "np.array(list(centroid_centroid_distance_10.values())).mean()"
   ]
  },
  {
   "cell_type": "markdown",
   "metadata": {},
   "source": [
    "## 100 documents samples"
   ]
  },
  {
   "cell_type": "code",
   "execution_count": null,
   "metadata": {},
   "outputs": [],
   "source": [
    "indices100sample = sample(range(BOW.shape[0]),100)"
   ]
  },
  {
   "cell_type": "code",
   "execution_count": null,
   "metadata": {},
   "outputs": [],
   "source": [
    "centroid_centroid_distance_100 = {}\n",
    "for i in indices100sample:\n",
    "    for j in indices100sample:\n",
    "        if i < j:\n",
    "            key = str(i) + \"::\" + str(j)\n",
    "            centroid_centroid_distance_100[key] = np.linalg.norm(index_centroid[i]-index_centroid[j])\n",
    "centroid_centroid_distance_100"
   ]
  },
  {
   "cell_type": "code",
   "execution_count": null,
   "metadata": {},
   "outputs": [],
   "source": [
    "# 12, 46, 15, 17, 20\n",
    "np.array(list(centroid_centroid_distance_100.values())).mean()"
   ]
  },
  {
   "cell_type": "markdown",
   "metadata": {},
   "source": [
    "## 200 documents sample"
   ]
  },
  {
   "cell_type": "code",
   "execution_count": null,
   "metadata": {},
   "outputs": [],
   "source": [
    "indices200sample = sample(range(BOW.shape[0]),200)"
   ]
  },
  {
   "cell_type": "code",
   "execution_count": null,
   "metadata": {},
   "outputs": [],
   "source": [
    "centroid_centroid_distance_200 = {}\n",
    "for i in indices200sample:\n",
    "    for j in indices200sample:\n",
    "        if i < j:\n",
    "            key = str(i) + \"::\" + str(j)\n",
    "            centroid_centroid_distance_200[key] = np.linalg.norm(index_centroid[i]-index_centroid[j])\n",
    "centroid_centroid_distance_200"
   ]
  },
  {
   "cell_type": "code",
   "execution_count": null,
   "metadata": {},
   "outputs": [],
   "source": [
    "# 23, 22, 25, 13, 19, 20\n",
    "np.array(list(centroid_centroid_distance_200.values())).mean()"
   ]
  },
  {
   "cell_type": "markdown",
   "metadata": {},
   "source": [
    "## 300 documents sample"
   ]
  },
  {
   "cell_type": "code",
   "execution_count": null,
   "metadata": {},
   "outputs": [],
   "source": [
    "indices300sample = sample(range(BOW.shape[0]),300)"
   ]
  },
  {
   "cell_type": "code",
   "execution_count": null,
   "metadata": {},
   "outputs": [],
   "source": [
    "centroid_centroid_distance_300 = {}\n",
    "for i in indices300sample:\n",
    "    for j in indices300sample:\n",
    "        if i < j:\n",
    "            key = str(i) + \"::\" + str(j)\n",
    "            centroid_centroid_distance_300[key] = np.linalg.norm(index_centroid[i]-index_centroid[j])\n",
    "centroid_centroid_distance_300"
   ]
  },
  {
   "cell_type": "code",
   "execution_count": null,
   "metadata": {},
   "outputs": [],
   "source": [
    "# 17, 19, 24, 17\n",
    "np.array(list(centroid_centroid_distance_300.values())).mean()"
   ]
  },
  {
   "cell_type": "markdown",
   "metadata": {},
   "source": [
    "## 400 documents sample"
   ]
  },
  {
   "cell_type": "code",
   "execution_count": null,
   "metadata": {},
   "outputs": [],
   "source": [
    "indices400sample = sample(range(BOW.shape[0]),400)"
   ]
  },
  {
   "cell_type": "code",
   "execution_count": null,
   "metadata": {},
   "outputs": [],
   "source": [
    "centroid_centroid_distance_400 = {}\n",
    "for i in indices400sample:\n",
    "    for j in indices400sample:\n",
    "        if i < j:\n",
    "            key = str(i) + \"::\" + str(j)\n",
    "            centroid_centroid_distance_400[key] = np.linalg.norm(index_centroid[i]-index_centroid[j])\n",
    "centroid_centroid_distance_400"
   ]
  },
  {
   "cell_type": "code",
   "execution_count": null,
   "metadata": {},
   "outputs": [],
   "source": [
    "# 22, 16, 17, 17\n",
    "np.array(list(centroid_centroid_distance_400.values())).mean()"
   ]
  },
  {
   "cell_type": "markdown",
   "metadata": {},
   "source": [
    "## 500 documents sample"
   ]
  },
  {
   "cell_type": "code",
   "execution_count": null,
   "metadata": {},
   "outputs": [],
   "source": [
    "indices500sample = sample(range(BOW.shape[0]),500)"
   ]
  },
  {
   "cell_type": "code",
   "execution_count": null,
   "metadata": {},
   "outputs": [],
   "source": [
    "centroid_centroid_distance_500 = {}\n",
    "for i in indices500sample:\n",
    "    for j in indices500sample:\n",
    "        if i < j:\n",
    "            key = str(i) + \"::\" + str(j)\n",
    "            centroid_centroid_distance_500[key] = np.linalg.norm(index_centroid[i]-index_centroid[j])\n",
    "centroid_centroid_distance_500"
   ]
  },
  {
   "cell_type": "code",
   "execution_count": null,
   "metadata": {},
   "outputs": [],
   "source": [
    "# 15, 19, 17, 22, 18, 17\n",
    "np.array(list(centroid_centroid_distance_500.values())).mean()"
   ]
  },
  {
   "cell_type": "code",
   "execution_count": null,
   "metadata": {},
   "outputs": [],
   "source": []
  }
 ],
 "metadata": {
  "colab": {
   "collapsed_sections": [],
   "name": "MastersProject.ipynb",
   "provenance": []
  },
  "kernelspec": {
   "display_name": "Python 3",
   "language": "python",
   "name": "python3"
  },
  "language_info": {
   "codemirror_mode": {
    "name": "ipython",
    "version": 3
   },
   "file_extension": ".py",
   "mimetype": "text/x-python",
   "name": "python",
   "nbconvert_exporter": "python",
   "pygments_lexer": "ipython3",
   "version": "3.7.1"
  }
 },
 "nbformat": 4,
 "nbformat_minor": 1
}
