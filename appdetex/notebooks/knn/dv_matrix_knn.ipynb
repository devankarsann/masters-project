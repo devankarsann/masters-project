{
 "cells": [
  {
   "cell_type": "code",
   "execution_count": 1,
   "metadata": {},
   "outputs": [
    {
     "data": {
      "text/html": [
       "<style>.container { width:95% !important; }</style>"
      ],
      "text/plain": [
       "<IPython.core.display.HTML object>"
      ]
     },
     "metadata": {},
     "output_type": "display_data"
    }
   ],
   "source": [
    "from IPython.core.display import display, HTML\n",
    "display(HTML(\"<style>.container { width:95% !important; }</style>\"))"
   ]
  },
  {
   "cell_type": "markdown",
   "metadata": {
    "id": "FYVUGSFLf_qE"
   },
   "source": [
    "## Libraries and Filesystem Setup"
   ]
  },
  {
   "cell_type": "code",
   "execution_count": 2,
   "metadata": {
    "colab": {
     "base_uri": "https://localhost:8080/"
    },
    "id": "uqRQxTVbf39P",
    "outputId": "aecc64fb-dc6f-4d45-f5a3-98ec0b70cbfe"
   },
   "outputs": [],
   "source": [
    "import pandas as pd\n",
    "import pickle\n",
    "from sklearn.neighbors import NearestNeighbors\n",
    "import numpy as np\n",
    "import matplotlib.pyplot as plt\n",
    "import scipy.sparse"
   ]
  },
  {
   "cell_type": "markdown",
   "metadata": {},
   "source": [
    "### Import Doc2Vec document vectors"
   ]
  },
  {
   "cell_type": "code",
   "execution_count": 3,
   "metadata": {},
   "outputs": [],
   "source": [
    "dv_matrix = np.load(open(\"../processed_files/dv_matrix.npy\", \"rb\"), allow_pickle=True)\n",
    "df_merged = pickle.load(open(\"../processed_files/df_merged.pickle\", \"rb\"))"
   ]
  },
  {
   "cell_type": "code",
   "execution_count": 4,
   "metadata": {},
   "outputs": [
    {
     "name": "stdout",
     "output_type": "stream",
     "text": [
      "(12956, 300)\n",
      "(300,)\n"
     ]
    }
   ],
   "source": [
    "print(dv_matrix.shape)\n",
    "print(dv_matrix[0].shape)"
   ]
  },
  {
   "cell_type": "code",
   "execution_count": 5,
   "metadata": {},
   "outputs": [],
   "source": [
    "#dv_mat = np.load('../processed_files/dv_matrix.npy', allow_pickle = True)"
   ]
  },
  {
   "cell_type": "code",
   "execution_count": 6,
   "metadata": {
    "scrolled": true
   },
   "outputs": [
    {
     "data": {
      "text/plain": [
       "array([ 0.03604639,  0.13157497, -0.15107524,  0.04952792,  0.10527853,\n",
       "       -0.17297259, -0.06993171,  0.40140012, -0.3131112 , -0.10516197,\n",
       "       -0.15801504, -0.06474262,  0.06297238, -0.16530246, -0.32713166,\n",
       "       -0.01795422,  0.01369349, -0.01286896,  0.06122278,  0.3125197 ,\n",
       "       -0.16601239, -0.3649068 , -0.16268912,  0.08684894, -0.21271873,\n",
       "       -0.14799328, -0.07843824,  0.19604656, -0.16349131,  0.21223599,\n",
       "       -0.3285773 , -0.1741543 ,  0.4267438 ,  0.20463504,  0.12851113,\n",
       "       -0.04915418,  0.10453223,  0.02351662,  0.48286504,  0.1685224 ,\n",
       "        0.1201156 , -0.06911872,  0.0330828 , -0.11538547,  0.61140984,\n",
       "       -0.0829362 , -0.01042583,  0.16370074,  0.08389823,  0.1815935 ,\n",
       "       -0.03590801,  0.01826324, -0.10699306,  0.13231613, -0.35821298,\n",
       "        0.3702536 , -0.0377877 ,  0.16298805,  0.0118171 ,  0.24093275,\n",
       "       -0.21661487,  0.1680813 ,  0.02111592,  0.00080282, -0.28270203,\n",
       "        0.00504151,  0.00791699, -0.20062318, -0.37629476,  0.18950367,\n",
       "       -0.07671437,  0.04391251, -0.28049496, -0.48412794, -0.33352935,\n",
       "        0.31562197,  0.5847032 ,  0.4871523 ,  0.21335918, -0.00532709,\n",
       "       -0.20910116, -0.07470454, -0.01307375,  0.19362092,  0.06886024,\n",
       "       -0.22428067, -0.17829385,  0.05377434,  0.202955  ,  0.28025034,\n",
       "        0.08660155, -0.11897205, -0.14148478,  0.35534975, -0.12799068,\n",
       "       -0.06090518,  0.13002524,  0.23295215,  0.27549502, -0.22204801,\n",
       "        0.16809115, -0.33736658,  0.254887  , -0.01582951,  0.4526199 ,\n",
       "        0.39273125,  0.26905337, -0.41047788,  0.15990321,  0.13731046,\n",
       "       -0.18613288,  0.12926395, -0.20666501, -0.06466378, -0.28746212,\n",
       "       -0.00987799, -0.53233933, -0.54380345, -0.14702566,  0.14304245,\n",
       "        0.22312959, -0.34072685, -0.23485416, -0.23208344, -0.01386775,\n",
       "        0.1641727 ,  0.12337877, -0.30042425,  0.10166681,  0.30743387,\n",
       "        0.34568557, -0.24317254,  0.07821686, -0.2595806 ,  0.29797623,\n",
       "       -0.07458176,  0.06444732,  0.33530927, -0.25084493,  0.30294797,\n",
       "        0.02391894,  0.1540276 , -0.24800088,  0.03602787,  0.07052817,\n",
       "        0.21966363, -0.3346717 , -0.06559763, -0.2157725 ,  0.07517269,\n",
       "        0.1182835 , -0.20658322,  0.19176802,  0.3908867 , -0.19552831,\n",
       "       -0.16639316,  0.14765733, -0.36814252, -0.00226003,  0.32702112,\n",
       "       -0.00652479,  0.3461037 , -0.14554656,  0.00910427, -0.13083385,\n",
       "       -0.09780504,  0.0727846 , -0.06664348, -0.14026196, -0.1843717 ,\n",
       "       -0.11793619,  0.25538474,  0.14986533,  0.24563462,  0.1612978 ,\n",
       "       -0.22831367, -0.2023263 , -0.02650164,  0.5616055 , -0.02222418,\n",
       "       -0.00361414,  0.13332595, -0.21405415, -0.08709256,  0.07095494,\n",
       "        0.08247095, -0.28543693,  0.41893438, -0.6616311 ,  0.00190765,\n",
       "        0.01238877,  0.01943464, -0.36827356, -0.31974682,  0.38128814,\n",
       "       -0.32172692,  0.06513795,  0.1139966 , -0.07398763,  0.21005408,\n",
       "        0.2720558 , -0.29691657, -0.04770299,  0.26097354, -0.37820014,\n",
       "        0.00781953, -0.4278489 , -0.23601036, -0.15530185, -0.28799585,\n",
       "        0.28060558,  0.07845189, -0.07197838, -0.14634275,  0.32354572,\n",
       "       -0.11789134,  0.34855366, -0.00727582,  0.16591161, -0.35871825,\n",
       "       -0.09954769,  0.24108785, -0.31329867, -0.10357089, -0.12451404,\n",
       "        0.1690802 , -0.15402779,  0.05396812,  0.11577844, -0.21439932,\n",
       "       -0.2737097 ,  0.1923319 , -0.20902814,  0.35506624,  0.09921129,\n",
       "       -0.00281366, -0.00391865,  0.12726861,  0.05284143,  0.10023058,\n",
       "       -0.08176196,  0.22251959,  0.13666715, -0.10466733, -0.03562767,\n",
       "        0.29374558,  0.36522004,  0.09476131,  0.15687202,  0.05504434,\n",
       "        0.37014487, -0.45996886, -0.01527727, -0.01021794,  0.1175866 ,\n",
       "        0.18739514,  0.5001696 ,  0.08544454,  0.56616   , -0.14172204,\n",
       "        0.30584294,  0.33759534,  0.07162218,  0.15009058, -0.37643796,\n",
       "        0.21751773,  0.21632034, -0.15593691, -0.02210584, -0.26762405,\n",
       "        0.10725993,  0.3334106 ,  0.26722464,  0.03703159,  0.53129625,\n",
       "        0.12289479,  0.16674349, -0.5594125 , -0.03681111,  0.07680572,\n",
       "        0.33897164, -0.30741298, -0.01414455,  0.09420751,  0.24042675,\n",
       "        0.15748236, -0.05823684, -0.01798014, -0.2778344 , -0.02267657,\n",
       "       -0.14145778, -0.02127763,  0.12104071,  0.05663937,  0.13829547,\n",
       "        0.16757928, -0.14461152,  0.28997383,  0.29201406,  0.03259696],\n",
       "      dtype=float32)"
      ]
     },
     "execution_count": 6,
     "metadata": {},
     "output_type": "execute_result"
    }
   ],
   "source": [
    "dv_matrix[0]"
   ]
  },
  {
   "cell_type": "code",
   "execution_count": 7,
   "metadata": {},
   "outputs": [],
   "source": [
    "#dv_mat = np.matrix(dv_mat.tolist())\n",
    "#dv_mat"
   ]
  },
  {
   "cell_type": "code",
   "execution_count": 8,
   "metadata": {},
   "outputs": [],
   "source": [
    "#for i in range(len(dv_mat)):\n",
    "#    try:\n",
    "#        #print(type(dv_matrix[i])\n",
    "#        len(dv_matrix[i])\n",
    "#    except:\n",
    "#        dv_mat[i] = np.asmatrix(np.zeros(300))"
   ]
  },
  {
   "cell_type": "markdown",
   "metadata": {},
   "source": [
    "## doc2vec"
   ]
  },
  {
   "cell_type": "code",
   "execution_count": 9,
   "metadata": {},
   "outputs": [],
   "source": [
    "from sklearn.preprocessing import normalize\n",
    "dv_mat = normalize(dv_matrix, norm='l2', axis=1)"
   ]
  },
  {
   "cell_type": "code",
   "execution_count": 10,
   "metadata": {},
   "outputs": [
    {
     "name": "stdout",
     "output_type": "stream",
     "text": [
      "CPU times: user 1min 20s, sys: 104 ms, total: 1min 20s\n",
      "Wall time: 1min 21s\n"
     ]
    }
   ],
   "source": [
    "%%time\n",
    "nbrs = NearestNeighbors(n_neighbors=10, algorithm='ball_tree').fit(dv_mat)\n",
    "distances, indices = nbrs.kneighbors(dv_mat)"
   ]
  },
  {
   "cell_type": "code",
   "execution_count": 75,
   "metadata": {
    "id": "njnHPQgtpZeC"
   },
   "outputs": [
    {
     "name": "stdout",
     "output_type": "stream",
     "text": [
      "(12956, 20)\n",
      "(12956, 20)\n"
     ]
    }
   ],
   "source": [
    "print(distances.shape)\n",
    "print(indices.shape)"
   ]
  },
  {
   "cell_type": "code",
   "execution_count": 76,
   "metadata": {},
   "outputs": [
    {
     "data": {
      "text/plain": [
       "array([0.        , 0.25809519, 0.27388345, 0.27495014, 0.275294  ,\n",
       "       0.27649198, 0.27698166, 0.27805731, 0.27874369, 0.27936859,\n",
       "       0.28115546, 0.28123149, 0.28367055, 0.28416784, 0.28609574,\n",
       "       0.28655612, 0.28894667, 0.29128302, 0.29131243, 0.29136885])"
      ]
     },
     "execution_count": 76,
     "metadata": {},
     "output_type": "execute_result"
    }
   ],
   "source": [
    "distances[0]"
   ]
  },
  {
   "cell_type": "code",
   "execution_count": 77,
   "metadata": {},
   "outputs": [
    {
     "data": {
      "text/plain": [
       "array([    0,  4027,  3925,  9761,  7570,  4965,  8721,  4399,  3211,\n",
       "        9198, 12206, 10045,  1963,  4119,  4786,  4736,  2245,  4002,\n",
       "        2072, 12377])"
      ]
     },
     "execution_count": 77,
     "metadata": {},
     "output_type": "execute_result"
    }
   ],
   "source": [
    "indices[0]"
   ]
  },
  {
   "cell_type": "code",
   "execution_count": 126,
   "metadata": {},
   "outputs": [],
   "source": [
    "import statistics\n",
    "\n",
    "def intracluster_similarity(index):\n",
    "    cluster_centroid = dv_mat[index]\n",
    "    dist_list = []\n",
    "    for i in indices[index][1:]:\n",
    "        distance = np.linalg.norm(cluster_centroid-dv_mat[i])\n",
    "        dist_list.append(distance)\n",
    "        \n",
    "    #avg = sum_dist/(len(indices[index])-1)\n",
    "    avg = np.average(dist_list)\n",
    "\n",
    "    #variance = statistics.variance(dist_list)\n",
    "    variance = np.var(dist_list)\n",
    "    \n",
    "    return avg, variance"
   ]
  },
  {
   "cell_type": "code",
   "execution_count": 127,
   "metadata": {},
   "outputs": [
    {
     "data": {
      "text/plain": [
       "(0.28092918, 6.073953e-05)"
      ]
     },
     "execution_count": 127,
     "metadata": {},
     "output_type": "execute_result"
    }
   ],
   "source": [
    "intracluster_similarity(0)"
   ]
  },
  {
   "cell_type": "code",
   "execution_count": 80,
   "metadata": {},
   "outputs": [],
   "source": [
    "def generate_raw_content_cluster_df(index):\n",
    "    index_list = list(indices[index])\n",
    "    distance_list = list(distances[index])\n",
    "    cluster_seed = df_merged.loc[index].to_frame().T\n",
    "    cluster_seed['DISTANCE'] = 0\n",
    "    cluster_df = df_merged.loc[index_list[1:]]\n",
    "    cluster_df['DISTANCE'] = distance_list[1:]\n",
    "    combined = pd.concat([cluster_seed, cluster_df.sort_values(by='DISTANCE', ascending=True)])\n",
    "    return combined.style.set_properties(subset=['RAW_CONTENT'], **{'width-min': '100px'})\n",
    "    #return combined"
   ]
  },
  {
   "cell_type": "code",
   "execution_count": 83,
   "metadata": {
    "scrolled": true
   },
   "outputs": [
    {
     "data": {
      "text/html": [
       "<style  type=\"text/css\" >\n",
       "    #T_ba99e970_a0e1_11eb_a14c_f2189879e589row0_col1 {\n",
       "            width-min:  100px;\n",
       "        }    #T_ba99e970_a0e1_11eb_a14c_f2189879e589row1_col1 {\n",
       "            width-min:  100px;\n",
       "        }    #T_ba99e970_a0e1_11eb_a14c_f2189879e589row2_col1 {\n",
       "            width-min:  100px;\n",
       "        }    #T_ba99e970_a0e1_11eb_a14c_f2189879e589row3_col1 {\n",
       "            width-min:  100px;\n",
       "        }    #T_ba99e970_a0e1_11eb_a14c_f2189879e589row4_col1 {\n",
       "            width-min:  100px;\n",
       "        }    #T_ba99e970_a0e1_11eb_a14c_f2189879e589row5_col1 {\n",
       "            width-min:  100px;\n",
       "        }    #T_ba99e970_a0e1_11eb_a14c_f2189879e589row6_col1 {\n",
       "            width-min:  100px;\n",
       "        }    #T_ba99e970_a0e1_11eb_a14c_f2189879e589row7_col1 {\n",
       "            width-min:  100px;\n",
       "        }    #T_ba99e970_a0e1_11eb_a14c_f2189879e589row8_col1 {\n",
       "            width-min:  100px;\n",
       "        }    #T_ba99e970_a0e1_11eb_a14c_f2189879e589row9_col1 {\n",
       "            width-min:  100px;\n",
       "        }    #T_ba99e970_a0e1_11eb_a14c_f2189879e589row10_col1 {\n",
       "            width-min:  100px;\n",
       "        }    #T_ba99e970_a0e1_11eb_a14c_f2189879e589row11_col1 {\n",
       "            width-min:  100px;\n",
       "        }    #T_ba99e970_a0e1_11eb_a14c_f2189879e589row12_col1 {\n",
       "            width-min:  100px;\n",
       "        }    #T_ba99e970_a0e1_11eb_a14c_f2189879e589row13_col1 {\n",
       "            width-min:  100px;\n",
       "        }    #T_ba99e970_a0e1_11eb_a14c_f2189879e589row14_col1 {\n",
       "            width-min:  100px;\n",
       "        }    #T_ba99e970_a0e1_11eb_a14c_f2189879e589row15_col1 {\n",
       "            width-min:  100px;\n",
       "        }    #T_ba99e970_a0e1_11eb_a14c_f2189879e589row16_col1 {\n",
       "            width-min:  100px;\n",
       "        }    #T_ba99e970_a0e1_11eb_a14c_f2189879e589row17_col1 {\n",
       "            width-min:  100px;\n",
       "        }    #T_ba99e970_a0e1_11eb_a14c_f2189879e589row18_col1 {\n",
       "            width-min:  100px;\n",
       "        }    #T_ba99e970_a0e1_11eb_a14c_f2189879e589row19_col1 {\n",
       "            width-min:  100px;\n",
       "        }</style>  \n",
       "<table id=\"T_ba99e970_a0e1_11eb_a14c_f2189879e589\" > \n",
       "<thead>    <tr> \n",
       "        <th class=\"blank level0\" ></th> \n",
       "        <th class=\"col_heading level0 col0\" >DOMAIN</th> \n",
       "        <th class=\"col_heading level0 col1\" >RAW_CONTENT</th> \n",
       "        <th class=\"col_heading level0 col2\" >RAW_CONTENT_PARSED</th> \n",
       "        <th class=\"col_heading level0 col3\" >DISTANCE</th> \n",
       "    </tr></thead> \n",
       "<tbody>    <tr> \n",
       "        <th id=\"T_ba99e970_a0e1_11eb_a14c_f2189879e589level0_row0\" class=\"row_heading level0 row0\" >393</th> \n",
       "        <td id=\"T_ba99e970_a0e1_11eb_a14c_f2189879e589row0_col0\" class=\"data row0 col0\" >ahistoryofnewyork.com</td> \n",
       "        <td id=\"T_ba99e970_a0e1_11eb_a14c_f2189879e589row0_col1\" class=\"data row0 col1\" >patell and waterman's history of new york | being a ... course, companion, blog, and book. select page by | sep 20, 2015 | , bryan and i had the good fortune last week to be able to hear the visionary kronos quartet twice each during their week-long residence at nyu abu dhabi where we’re presently teaching. the ensemble played at nyuad arts center’s black box... by | nov 22, 2014 | , the good folks at genius.com asked me to annotate a passage from my 33 1/3 volume on television’s marquee moon. here’s what i came up with: read by | oct 23, 2014 | , , friends of our too-long moribund writing new york site, i hope you’ll come say hello while i’m in town, briefly, to participate in the following event, which draws on a new research project i’ve undertaken re: new york in the age of warhol. andy... by | mar 17, 2014 | , , , in march 1974, a band called television by | oct 29, 2013 | , , so it’s just about three days since lou reed died and i admit i’m kind of holding my breath, waiting to see if he rises from the tomb on the morning of the third day. it’s hard to imagine him as anything other than transformed into a more perfect... by | oct 19, 2013 | two years ago, we ran a virtual book club by | sep 30, 2013 | , in anticipation of the nyuad theater program and theater mitu’s presentation of md (or, the whale) later this week, the program in literature and creative writing is sponsoring a marathon reading of novel, which the play takes as its inspiration. the reading... by | sep 12, 2013 | , one of the great delights of the decade cyrus and i spent teaching our writing new york class was the repeated opportunity to screen clips from ric burns’s monumental new york: a documentary film. without a doubt, the highlight of that film is — for me, at... by | sep 9, 2013 | , today’s installment in our discussion of teju cole’s novel comes from guest blogger martha nadell, who teaches at brooklyn college and is at work on a literary history of brooklyn. the author of a book on image and text in early twentieth-century african... by | sep 4, 2013 | , today’s installment in our book club discussion comes from long-time friend-of-the-blog sunny stalter, an associate professor in the english department at auburn university. her research examines technology in american literature and culture. her book,... search for: featured posts our sites recent posts recent comments on on on on on on on categoriescategories select category architecture art books city on stage conferences cultural history events exhibitions fashion film food history lost new york microblogging music neighborhood scenes networked new york new york sports odds and ends out and about people politics pop culture port of new york resources signs of the times sports teaching television this day in new york history uncategorized writing new york archives archives select month september 2015 november 2014 october 2014 march 2014 october 2013 september 2013 august 2013 march 2013 february 2013 january 2013 december 2012 november 2012 october 2012 september 2012 august 2012 july 2012 june 2012 may 2012 april 2012 march 2012 february 2012 january 2012 december 2011 november 2011 october 2011 september 2011 august 2011 july 2011 june 2011 may 2011 april 2011 march 2011 february 2011 january 2011 december 2010 november 2010 october 2010 september 2010 august 2010 july 2010 june 2010 may 2010 april 2010 march 2010 february 2010 january 2010 december 2009 november 2009 october 2009 september 2009 august 2009 july 2009 june 2009 may 2009 april 2009 march 2009 february 2009 january 2009 december 2008 november 2008 october 2008 september 2008 august 2008 july 2008 june 2008 may 2008 april 2008 march 2008 february 2008 january 2008 december 2007 november 2007 october 2007 september 2007 keys to the city sites we like meta designed by | powered by</td> \n",
       "        <td id=\"T_ba99e970_a0e1_11eb_a14c_f2189879e589row0_col2\" class=\"data row0 col2\" >patell and waterman's history of new york | being a ... course, companion, blog, and book. select page by | sep ,  | , bryan and i had the good fortune last week to be able to hear the visionary kronos quartet twice each during their week-long residence at nyu abu dhabi where we’re presently teaching. the ensemble played at nyuad arts center’s black box... by | nov ,  | , the good folks at genius.com asked me to annotate a passage from my  / volume on television’s marquee moon. here’s what i came up with: read by | oct ,  | , , friends of our too-long moribund writing new york site, i hope you’ll come say hello while i’m in town, briefly, to participate in the following event, which draws on a new research project i’ve undertaken re: new york in the age of warhol. andy... by | mar ,  | , , , in march , a band called television by | oct ,  | , , so it’s just about three days since lou reed died and i admit i’m kind of holding my breath, waiting to see if he rises from the tomb on the morning of the third day. it’s hard to imagine him as anything other than transformed into a more perfect... by | oct ,  | two years ago, we ran a virtual book club by | sep ,  | , in anticipation of the nyuad theater program and theater mitu’s presentation of md (or, the whale) later this week, the program in literature and creative writing is sponsoring a marathon reading of novel, which the play takes as its inspiration. the reading... by | sep ,  | , one of the great delights of the decade cyrus and i spent teaching our writing new york class was the repeated opportunity to screen clips from ric burns’s monumental new york: a documentary film. without a doubt, the highlight of that film is — for me, at... by | sep ,  | , today’s installment in our discussion of teju cole’s novel comes from guest blogger martha nadell, who teaches at brooklyn college and is at work on a literary history of brooklyn. the author of a book on image and text in early twentieth-century african... by | sep ,  | , today’s installment in our book club discussion comes from long-time friend-of-the-blog sunny stalter, an associate professor in the english department at auburn university. her research examines technology in american literature and culture. her book,... search for: featured posts our sites recent posts recent comments on on on on on on on categoriescategories select category architecture art books city on stage conferences cultural history events exhibitions fashion film food history lost new york microblogging music neighborhood scenes networked new york new york sports odds and ends out and about people politics pop culture port of new york resources signs of the times sports teaching television this day in new york history uncategorized writing new york archives archives select month september  november  october  march  october  september  august  march  february  january  december  november  october  september  august  july  june  may  april  march  february  january  december  november  october  september  august  july  june  may  april  march  february  january  december  november  october  september  august  july  june  may  april  march  february  january  december  november  october  september  august  july  june  may  april  march  february  january  december  november  october  september  august  july  june  may  april  march  february  january  december  november  october  september  keys to the city sites we like meta designed by | powered by</td> \n",
       "        <td id=\"T_ba99e970_a0e1_11eb_a14c_f2189879e589row0_col3\" class=\"data row0 col3\" >0</td> \n",
       "    </tr>    <tr> \n",
       "        <th id=\"T_ba99e970_a0e1_11eb_a14c_f2189879e589level0_row1\" class=\"row_heading level0 row1\" >12731</th> \n",
       "        <td id=\"T_ba99e970_a0e1_11eb_a14c_f2189879e589row1_col0\" class=\"data row1 col0\" >wwvn.com</td> \n",
       "        <td id=\"T_ba99e970_a0e1_11eb_a14c_f2189879e589row1_col1\" class=\"data row1 col1\" >wwvn.com -&nbspthis website is for sale! -&nbspwwvn resources and information.</td> \n",
       "        <td id=\"T_ba99e970_a0e1_11eb_a14c_f2189879e589row1_col2\" class=\"data row1 col2\" >wwvn.com -&nbspthis website is for sale! -&nbspwwvn resources and information.</td> \n",
       "        <td id=\"T_ba99e970_a0e1_11eb_a14c_f2189879e589row1_col3\" class=\"data row1 col3\" >1.14903</td> \n",
       "    </tr>    <tr> \n",
       "        <th id=\"T_ba99e970_a0e1_11eb_a14c_f2189879e589level0_row2\" class=\"row_heading level0 row2\" >12938</th> \n",
       "        <td id=\"T_ba99e970_a0e1_11eb_a14c_f2189879e589row2_col0\" class=\"data row2 col0\" >zlsenterprises.com</td> \n",
       "        <td id=\"T_ba99e970_a0e1_11eb_a14c_f2189879e589row2_col1\" class=\"data row2 col1\" >index of / index of / 2019-05-22 19:52 -</td> \n",
       "        <td id=\"T_ba99e970_a0e1_11eb_a14c_f2189879e589row2_col2\" class=\"data row2 col2\" >index of / index of / -- : -</td> \n",
       "        <td id=\"T_ba99e970_a0e1_11eb_a14c_f2189879e589row2_col3\" class=\"data row2 col3\" >1.16964</td> \n",
       "    </tr>    <tr> \n",
       "        <th id=\"T_ba99e970_a0e1_11eb_a14c_f2189879e589level0_row3\" class=\"row_heading level0 row3\" >5729</th> \n",
       "        <td id=\"T_ba99e970_a0e1_11eb_a14c_f2189879e589row3_col0\" class=\"data row3 col0\" >inspiral.info</td> \n",
       "        <td id=\"T_ba99e970_a0e1_11eb_a14c_f2189879e589row3_col1\" class=\"data row3 col1\" >captcha powered by imunify360 english inspiral.info is protected by imunify360 we have noticed an unusual activity from your ip 207.183.143.91 and blocked access to this website. please confirm that you are not a robot loader</td> \n",
       "        <td id=\"T_ba99e970_a0e1_11eb_a14c_f2189879e589row3_col2\" class=\"data row3 col2\" >captcha powered by imunify english inspiral.info is protected by imunify we have noticed an unusual activity from your ip ... and blocked access to this website. please confirm that you are not a robot loader</td> \n",
       "        <td id=\"T_ba99e970_a0e1_11eb_a14c_f2189879e589row3_col3\" class=\"data row3 col3\" >1.1721</td> \n",
       "    </tr>    <tr> \n",
       "        <th id=\"T_ba99e970_a0e1_11eb_a14c_f2189879e589level0_row4\" class=\"row_heading level0 row4\" >12540</th> \n",
       "        <td id=\"T_ba99e970_a0e1_11eb_a14c_f2189879e589row4_col0\" class=\"data row4 col0\" >widmedia.com</td> \n",
       "        <td id=\"T_ba99e970_a0e1_11eb_a14c_f2189879e589row4_col1\" class=\"data row4 col1\" >widmedia.com -&nbspthis website is for sale! -&nbspwidme dia resources and information.</td> \n",
       "        <td id=\"T_ba99e970_a0e1_11eb_a14c_f2189879e589row4_col2\" class=\"data row4 col2\" >widmedia.com -&nbspthis website is for sale! -&nbspwidme dia resources and information.</td> \n",
       "        <td id=\"T_ba99e970_a0e1_11eb_a14c_f2189879e589row4_col3\" class=\"data row4 col3\" >1.17376</td> \n",
       "    </tr>    <tr> \n",
       "        <th id=\"T_ba99e970_a0e1_11eb_a14c_f2189879e589level0_row5\" class=\"row_heading level0 row5\" >5313</th> \n",
       "        <td id=\"T_ba99e970_a0e1_11eb_a14c_f2189879e589row5_col0\" class=\"data row5 col0\" >homehardwaresupport.com</td> \n",
       "        <td id=\"T_ba99e970_a0e1_11eb_a14c_f2189879e589row5_col1\" class=\"data row5 col1\" >homehardwaresupport.com -&nbsphomehardwaresupport resources and information.this domain name has expired - .</td> \n",
       "        <td id=\"T_ba99e970_a0e1_11eb_a14c_f2189879e589row5_col2\" class=\"data row5 col2\" >homehardwaresupport.com -&nbsphomehardwaresupport resources and information.this domain name has expired - .</td> \n",
       "        <td id=\"T_ba99e970_a0e1_11eb_a14c_f2189879e589row5_col3\" class=\"data row5 col3\" >1.17719</td> \n",
       "    </tr>    <tr> \n",
       "        <th id=\"T_ba99e970_a0e1_11eb_a14c_f2189879e589level0_row6\" class=\"row_heading level0 row6\" >3878</th> \n",
       "        <td id=\"T_ba99e970_a0e1_11eb_a14c_f2189879e589row6_col0\" class=\"data row6 col0\" >execucaosumaria.info</td> \n",
       "        <td id=\"T_ba99e970_a0e1_11eb_a14c_f2189879e589row6_col1\" class=\"data row6 col1\" >captcha powered by imunify360 english execucaosumaria.info is protected by imunify360 we have noticed an unusual activity from your ip 94.131.179.104 and blocked access to this website. please confirm that you are not a robot loader</td> \n",
       "        <td id=\"T_ba99e970_a0e1_11eb_a14c_f2189879e589row6_col2\" class=\"data row6 col2\" >captcha powered by imunify english execucaosumaria.info is protected by imunify we have noticed an unusual activity from your ip ... and blocked access to this website. please confirm that you are not a robot loader</td> \n",
       "        <td id=\"T_ba99e970_a0e1_11eb_a14c_f2189879e589row6_col3\" class=\"data row6 col3\" >1.17724</td> \n",
       "    </tr>    <tr> \n",
       "        <th id=\"T_ba99e970_a0e1_11eb_a14c_f2189879e589level0_row7\" class=\"row_heading level0 row7\" >8406</th> \n",
       "        <td id=\"T_ba99e970_a0e1_11eb_a14c_f2189879e589row7_col0\" class=\"data row7 col0\" >nyne.co.uk</td> \n",
       "        <td id=\"T_ba99e970_a0e1_11eb_a14c_f2189879e589row7_col1\" class=\"data row7 col1\" >want your own website? | 123 reg</td> \n",
       "        <td id=\"T_ba99e970_a0e1_11eb_a14c_f2189879e589row7_col2\" class=\"data row7 col2\" >want your own website? |  reg</td> \n",
       "        <td id=\"T_ba99e970_a0e1_11eb_a14c_f2189879e589row7_col3\" class=\"data row7 col3\" >1.17727</td> \n",
       "    </tr>    <tr> \n",
       "        <th id=\"T_ba99e970_a0e1_11eb_a14c_f2189879e589level0_row8\" class=\"row_heading level0 row8\" >8888</th> \n",
       "        <td id=\"T_ba99e970_a0e1_11eb_a14c_f2189879e589row8_col0\" class=\"data row8 col0\" >phimoxy.com</td> \n",
       "        <td id=\"T_ba99e970_a0e1_11eb_a14c_f2189879e589row8_col1\" class=\"data row8 col1\" >captcha powered by imunify360 english phimoxy.com is protected by imunify360 we have noticed an unusual activity from your ip 185.200.247.4 and blocked access to this website. please confirm that you are not a robot loader</td> \n",
       "        <td id=\"T_ba99e970_a0e1_11eb_a14c_f2189879e589row8_col2\" class=\"data row8 col2\" >captcha powered by imunify english phimoxy.com is protected by imunify we have noticed an unusual activity from your ip ... and blocked access to this website. please confirm that you are not a robot loader</td> \n",
       "        <td id=\"T_ba99e970_a0e1_11eb_a14c_f2189879e589row8_col3\" class=\"data row8 col3\" >1.17747</td> \n",
       "    </tr>    <tr> \n",
       "        <th id=\"T_ba99e970_a0e1_11eb_a14c_f2189879e589level0_row9\" class=\"row_heading level0 row9\" >11073</th> \n",
       "        <td id=\"T_ba99e970_a0e1_11eb_a14c_f2189879e589row9_col0\" class=\"data row9 col0\" >textilpflege-barth.net</td> \n",
       "        <td id=\"T_ba99e970_a0e1_11eb_a14c_f2189879e589row9_col1\" class=\"data row9 col1\" >textilpflege barth textilpflege barth</td> \n",
       "        <td id=\"T_ba99e970_a0e1_11eb_a14c_f2189879e589row9_col2\" class=\"data row9 col2\" >textilpflege barth textilpflege barth</td> \n",
       "        <td id=\"T_ba99e970_a0e1_11eb_a14c_f2189879e589row9_col3\" class=\"data row9 col3\" >1.1775</td> \n",
       "    </tr>    <tr> \n",
       "        <th id=\"T_ba99e970_a0e1_11eb_a14c_f2189879e589level0_row10\" class=\"row_heading level0 row10\" >123</th> \n",
       "        <td id=\"T_ba99e970_a0e1_11eb_a14c_f2189879e589row10_col0\" class=\"data row10 col0\" >3dlenticular.com.sg</td> \n",
       "        <td id=\"T_ba99e970_a0e1_11eb_a14c_f2189879e589row10_col1\" class=\"data row10 col1\" >index of / index of / 2019-01-23 02:47 -</td> \n",
       "        <td id=\"T_ba99e970_a0e1_11eb_a14c_f2189879e589row10_col2\" class=\"data row10 col2\" >index of / index of / -- : -</td> \n",
       "        <td id=\"T_ba99e970_a0e1_11eb_a14c_f2189879e589row10_col3\" class=\"data row10 col3\" >1.17776</td> \n",
       "    </tr>    <tr> \n",
       "        <th id=\"T_ba99e970_a0e1_11eb_a14c_f2189879e589level0_row11\" class=\"row_heading level0 row11\" >2401</th> \n",
       "        <td id=\"T_ba99e970_a0e1_11eb_a14c_f2189879e589row11_col0\" class=\"data row11 col0\" >clickorice.com</td> \n",
       "        <td id=\"T_ba99e970_a0e1_11eb_a14c_f2189879e589row11_col1\" class=\"data row11 col1\" >index of / index of / 2020-09-15 18:57 -</td> \n",
       "        <td id=\"T_ba99e970_a0e1_11eb_a14c_f2189879e589row11_col2\" class=\"data row11 col2\" >index of / index of / -- : -</td> \n",
       "        <td id=\"T_ba99e970_a0e1_11eb_a14c_f2189879e589row11_col3\" class=\"data row11 col3\" >1.17857</td> \n",
       "    </tr>    <tr> \n",
       "        <th id=\"T_ba99e970_a0e1_11eb_a14c_f2189879e589level0_row12\" class=\"row_heading level0 row12\" >2356</th> \n",
       "        <td id=\"T_ba99e970_a0e1_11eb_a14c_f2189879e589row12_col0\" class=\"data row12 col0\" >cityvalet.nyc</td> \n",
       "        <td id=\"T_ba99e970_a0e1_11eb_a14c_f2189879e589row12_col1\" class=\"data row12 col1\" >cityvalet.nyc related searches: related searches:</td> \n",
       "        <td id=\"T_ba99e970_a0e1_11eb_a14c_f2189879e589row12_col2\" class=\"data row12 col2\" >cityvalet.nyc related searches: related searches:</td> \n",
       "        <td id=\"T_ba99e970_a0e1_11eb_a14c_f2189879e589row12_col3\" class=\"data row12 col3\" >1.179</td> \n",
       "    </tr>    <tr> \n",
       "        <th id=\"T_ba99e970_a0e1_11eb_a14c_f2189879e589level0_row13\" class=\"row_heading level0 row13\" >12878</th> \n",
       "        <td id=\"T_ba99e970_a0e1_11eb_a14c_f2189879e589row13_col0\" class=\"data row13 col0\" >yousaveit.org</td> \n",
       "        <td id=\"T_ba99e970_a0e1_11eb_a14c_f2189879e589row13_col1\" class=\"data row13 col1\" >members arealoading...</td> \n",
       "        <td id=\"T_ba99e970_a0e1_11eb_a14c_f2189879e589row13_col2\" class=\"data row13 col2\" >members arealoading...</td> \n",
       "        <td id=\"T_ba99e970_a0e1_11eb_a14c_f2189879e589row13_col3\" class=\"data row13 col3\" >1.17956</td> \n",
       "    </tr>    <tr> \n",
       "        <th id=\"T_ba99e970_a0e1_11eb_a14c_f2189879e589level0_row14\" class=\"row_heading level0 row14\" >11707</th> \n",
       "        <td id=\"T_ba99e970_a0e1_11eb_a14c_f2189879e589row14_col0\" class=\"data row14 col0\" >tonicfilms.com</td> \n",
       "        <td id=\"T_ba99e970_a0e1_11eb_a14c_f2189879e589row14_col1\" class=\"data row14 col1\" >tonic films sin título 6</td> \n",
       "        <td id=\"T_ba99e970_a0e1_11eb_a14c_f2189879e589row14_col2\" class=\"data row14 col2\" >tonic films sin título </td> \n",
       "        <td id=\"T_ba99e970_a0e1_11eb_a14c_f2189879e589row14_col3\" class=\"data row14 col3\" >1.17993</td> \n",
       "    </tr>    <tr> \n",
       "        <th id=\"T_ba99e970_a0e1_11eb_a14c_f2189879e589level0_row15\" class=\"row_heading level0 row15\" >1848</th> \n",
       "        <td id=\"T_ba99e970_a0e1_11eb_a14c_f2189879e589row15_col0\" class=\"data row15 col0\" >businesssupplieslookupes.gq</td> \n",
       "        <td id=\"T_ba99e970_a0e1_11eb_a14c_f2189879e589row15_col1\" class=\"data row15 col1\" >captcha powered by imunify360 english businesssupplieslookupes.gq is protected by imunify360 we have noticed an unusual activity from your ip 207.183.143.95 and blocked access to this website. please confirm that you are not a robot loader</td> \n",
       "        <td id=\"T_ba99e970_a0e1_11eb_a14c_f2189879e589row15_col2\" class=\"data row15 col2\" >captcha powered by imunify english businesssupplieslookupes.gq is protected by imunify we have noticed an unusual activity from your ip ... and blocked access to this website. please confirm that you are not a robot loader</td> \n",
       "        <td id=\"T_ba99e970_a0e1_11eb_a14c_f2189879e589row15_col3\" class=\"data row15 col3\" >1.18048</td> \n",
       "    </tr>    <tr> \n",
       "        <th id=\"T_ba99e970_a0e1_11eb_a14c_f2189879e589level0_row16\" class=\"row_heading level0 row16\" >199</th> \n",
       "        <td id=\"T_ba99e970_a0e1_11eb_a14c_f2189879e589row16_col0\" class=\"data row16 col0\" >abbisecraa.org</td> \n",
       "        <td id=\"T_ba99e970_a0e1_11eb_a14c_f2189879e589row16_col1\" class=\"data row16 col1\" >captcha powered by imunify360 english abbisecraa.org is protected by imunify360 we have noticed an unusual activity from your ip 192.255.103.47 and blocked access to this website. please confirm that you are not a robot loader</td> \n",
       "        <td id=\"T_ba99e970_a0e1_11eb_a14c_f2189879e589row16_col2\" class=\"data row16 col2\" >captcha powered by imunify english abbisecraa.org is protected by imunify we have noticed an unusual activity from your ip ... and blocked access to this website. please confirm that you are not a robot loader</td> \n",
       "        <td id=\"T_ba99e970_a0e1_11eb_a14c_f2189879e589row16_col3\" class=\"data row16 col3\" >1.18105</td> \n",
       "    </tr>    <tr> \n",
       "        <th id=\"T_ba99e970_a0e1_11eb_a14c_f2189879e589level0_row17\" class=\"row_heading level0 row17\" >6629</th> \n",
       "        <td id=\"T_ba99e970_a0e1_11eb_a14c_f2189879e589row17_col0\" class=\"data row17 col0\" >lauraelliottphoto.com</td> \n",
       "        <td id=\"T_ba99e970_a0e1_11eb_a14c_f2189879e589row17_col1\" class=\"data row17 col1\" >welcome lauraelliottphoto.com - bluehost.com affordable, reliableweb hosting solutions ©2012 bluehost.com. all rights reserved.</td> \n",
       "        <td id=\"T_ba99e970_a0e1_11eb_a14c_f2189879e589row17_col2\" class=\"data row17 col2\" >welcome lauraelliottphoto.com - bluehost.com affordable, reliableweb hosting solutions © bluehost.com. all rights reserved.</td> \n",
       "        <td id=\"T_ba99e970_a0e1_11eb_a14c_f2189879e589row17_col3\" class=\"data row17 col3\" >1.1813</td> \n",
       "    </tr>    <tr> \n",
       "        <th id=\"T_ba99e970_a0e1_11eb_a14c_f2189879e589level0_row18\" class=\"row_heading level0 row18\" >4505</th> \n",
       "        <td id=\"T_ba99e970_a0e1_11eb_a14c_f2189879e589row18_col0\" class=\"data row18 col0\" >fuwaost.net</td> \n",
       "        <td id=\"T_ba99e970_a0e1_11eb_a14c_f2189879e589row18_col1\" class=\"data row18 col1\" >account suspended account suspended this account has been suspended. for more information.</td> \n",
       "        <td id=\"T_ba99e970_a0e1_11eb_a14c_f2189879e589row18_col2\" class=\"data row18 col2\" >account suspended account suspended this account has been suspended. for more information.</td> \n",
       "        <td id=\"T_ba99e970_a0e1_11eb_a14c_f2189879e589row18_col3\" class=\"data row18 col3\" >1.18143</td> \n",
       "    </tr>    <tr> \n",
       "        <th id=\"T_ba99e970_a0e1_11eb_a14c_f2189879e589level0_row19\" class=\"row_heading level0 row19\" >1346</th> \n",
       "        <td id=\"T_ba99e970_a0e1_11eb_a14c_f2189879e589row19_col0\" class=\"data row19 col0\" >best2u.info</td> \n",
       "        <td id=\"T_ba99e970_a0e1_11eb_a14c_f2189879e589row19_col1\" class=\"data row19 col1\" >account suspended account suspended this account has been suspended. for more information.</td> \n",
       "        <td id=\"T_ba99e970_a0e1_11eb_a14c_f2189879e589row19_col2\" class=\"data row19 col2\" >account suspended account suspended this account has been suspended. for more information.</td> \n",
       "        <td id=\"T_ba99e970_a0e1_11eb_a14c_f2189879e589row19_col3\" class=\"data row19 col3\" >1.18163</td> \n",
       "    </tr></tbody> \n",
       "</table> "
      ],
      "text/plain": [
       "<pandas.io.formats.style.Styler at 0x13e9b4630>"
      ]
     },
     "execution_count": 83,
     "metadata": {},
     "output_type": "execute_result"
    }
   ],
   "source": [
    "# non-unique index errors\n",
    "# 14 is a good example\n",
    "# 21 can we stop output after distance goes from 3 to 10.583?\n",
    "# 22 is lots of similar basic e\n",
    "generate_raw_content_cluster_df(393)"
   ]
  },
  {
   "cell_type": "code",
   "execution_count": 145,
   "metadata": {},
   "outputs": [],
   "source": [
    "avg_list = []\n",
    "variance_list = []\n",
    "\n",
    "for i in range(dv_mat.shape[0]):\n",
    "    avg, variance = intracluster_similarity(i)\n",
    "    avg_list.append(avg)\n",
    "    variance_list.append(variance)\n",
    "    #print()"
   ]
  },
  {
   "cell_type": "code",
   "execution_count": 146,
   "metadata": {},
   "outputs": [
    {
     "data": {
      "text/plain": [
       "([<matplotlib.axis.XTick at 0x1424a82b0>,\n",
       "  <matplotlib.axis.XTick at 0x1424b1ba8>,\n",
       "  <matplotlib.axis.XTick at 0x1424b1908>,\n",
       "  <matplotlib.axis.XTick at 0x14206d0b8>,\n",
       "  <matplotlib.axis.XTick at 0x14206d588>,\n",
       "  <matplotlib.axis.XTick at 0x14206da58>,\n",
       "  <matplotlib.axis.XTick at 0x14206d208>,\n",
       "  <matplotlib.axis.XTick at 0x142069198>,\n",
       "  <matplotlib.axis.XTick at 0x142069668>,\n",
       "  <matplotlib.axis.XTick at 0x142069b38>,\n",
       "  <matplotlib.axis.XTick at 0x14205c0b8>],\n",
       " <a list of 11 Text xticklabel objects>)"
      ]
     },
     "execution_count": 146,
     "metadata": {},
     "output_type": "execute_result"
    },
    {
     "data": {
      "image/png": "[encoded data removed]",
      "text/plain": [
       "<Figure size 432x288 with 1 Axes>"
      ]
     },
     "metadata": {
      "needs_background": "light"
     },
     "output_type": "display_data"
    }
   ],
   "source": [
    "# neighbors = 10\n",
    "bins= [0,0.1,0.2,0.3,0.4,0.5,0.6,0.7,0.8,0.9,1.0]\n",
    "plt.hist(avg_list, bins=bins, edgecolor=\"k\")\n",
    "plt.xticks(bins)"
   ]
  },
  {
   "cell_type": "code",
   "execution_count": 129,
   "metadata": {
    "scrolled": false
   },
   "outputs": [
    {
     "data": {
      "text/plain": [
       "([<matplotlib.axis.XTick at 0x142466b38>,\n",
       "  <matplotlib.axis.XTick at 0x142466470>,\n",
       "  <matplotlib.axis.XTick at 0x142466320>,\n",
       "  <matplotlib.axis.XTick at 0x14240f358>,\n",
       "  <matplotlib.axis.XTick at 0x14240f908>,\n",
       "  <matplotlib.axis.XTick at 0x14240f588>,\n",
       "  <matplotlib.axis.XTick at 0x1424160b8>,\n",
       "  <matplotlib.axis.XTick at 0x142416518>,\n",
       "  <matplotlib.axis.XTick at 0x1424169e8>,\n",
       "  <matplotlib.axis.XTick at 0x142416eb8>,\n",
       "  <matplotlib.axis.XTick at 0x14241e3c8>],\n",
       " <a list of 11 Text xticklabel objects>)"
      ]
     },
     "execution_count": 129,
     "metadata": {},
     "output_type": "execute_result"
    },
    {
     "data": {
      "image/png": "[encoded data removed]",
      "text/plain": [
       "<Figure size 432x288 with 1 Axes>"
      ]
     },
     "metadata": {
      "needs_background": "light"
     },
     "output_type": "display_data"
    }
   ],
   "source": [
    "# neighbors = 20\n",
    "bins= [0,0.1,0.2,0.3,0.4,0.5,0.6,0.7,0.8,0.9,1.0]\n",
    "plt.hist(avg_list, bins=bins, edgecolor=\"k\")\n",
    "plt.xticks(bins)"
   ]
  },
  {
   "cell_type": "code",
   "execution_count": 147,
   "metadata": {},
   "outputs": [
    {
     "data": {
      "text/plain": [
       "([<matplotlib.axis.XTick at 0x1420c3208>,\n",
       "  <matplotlib.axis.XTick at 0x1420c90f0>,\n",
       "  <matplotlib.axis.XTick at 0x13ebc0a90>,\n",
       "  <matplotlib.axis.XTick at 0x144dc6d68>,\n",
       "  <matplotlib.axis.XTick at 0x144dd54e0>,\n",
       "  <matplotlib.axis.XTick at 0x144dd59b0>,\n",
       "  <matplotlib.axis.XTick at 0x144dd5e80>,\n",
       "  <matplotlib.axis.XTick at 0x144dd5a90>,\n",
       "  <matplotlib.axis.XTick at 0x144ddc320>,\n",
       "  <matplotlib.axis.XTick at 0x144ddc7f0>,\n",
       "  <matplotlib.axis.XTick at 0x144ddccc0>],\n",
       " <a list of 11 Text xticklabel objects>)"
      ]
     },
     "execution_count": 147,
     "metadata": {},
     "output_type": "execute_result"
    },
    {
     "data": {
      "image/png": "[encoded data removed]",
      "text/plain": [
       "<Figure size 432x288 with 1 Axes>"
      ]
     },
     "metadata": {
      "needs_background": "light"
     },
     "output_type": "display_data"
    }
   ],
   "source": [
    "# neighbors = 10\n",
    "bins= [0,0.1,0.2,0.3,0.4,0.5,0.6,0.7,0.8,0.9,1.0]\n",
    "plt.hist(variance_list, bins=bins, edgecolor=\"k\")\n",
    "plt.xticks(bins)"
   ]
  },
  {
   "cell_type": "code",
   "execution_count": 130,
   "metadata": {},
   "outputs": [
    {
     "data": {
      "text/plain": [
       "([<matplotlib.axis.XTick at 0x1421b8550>,\n",
       "  <matplotlib.axis.XTick at 0x1424326a0>,\n",
       "  <matplotlib.axis.XTick at 0x142444390>,\n",
       "  <matplotlib.axis.XTick at 0x1421e82e8>,\n",
       "  <matplotlib.axis.XTick at 0x1421e8898>,\n",
       "  <matplotlib.axis.XTick at 0x1421e8d68>,\n",
       "  <matplotlib.axis.XTick at 0x1421e89e8>,\n",
       "  <matplotlib.axis.XTick at 0x142171160>,\n",
       "  <matplotlib.axis.XTick at 0x142171828>,\n",
       "  <matplotlib.axis.XTick at 0x142171cf8>,\n",
       "  <matplotlib.axis.XTick at 0x142179208>],\n",
       " <a list of 11 Text xticklabel objects>)"
      ]
     },
     "execution_count": 130,
     "metadata": {},
     "output_type": "execute_result"
    },
    {
     "data": {
      "image/png": "[encoded data removed]",
      "text/plain": [
       "<Figure size 432x288 with 1 Axes>"
      ]
     },
     "metadata": {
      "needs_background": "light"
     },
     "output_type": "display_data"
    }
   ],
   "source": [
    "# neighbors = 20\n",
    "bins= [0,0.1,0.2,0.3,0.4,0.5,0.6,0.7,0.8,0.9,1.0]\n",
    "plt.hist(variance_list, bins=bins, edgecolor=\"k\")\n",
    "plt.xticks(bins)"
   ]
  },
  {
   "cell_type": "code",
   "execution_count": 18,
   "metadata": {},
   "outputs": [
    {
     "data": {
      "text/plain": [
       "12949"
      ]
     },
     "execution_count": 18,
     "metadata": {},
     "output_type": "execute_result"
    }
   ],
   "source": [
    "print(len(avg_list), len(variance_list))"
   ]
  },
  {
   "cell_type": "markdown",
   "metadata": {},
   "source": [
    "## Intercluster Similarity"
   ]
  },
  {
   "cell_type": "code",
   "execution_count": 134,
   "metadata": {},
   "outputs": [],
   "source": [
    "def calculate_centroid(index):\n",
    "    cluster_centroid = dv_mat[index]\n",
    "    for i in indices[index][1:]:\n",
    "        cluster_centroid = np.add(cluster_centroid, dv_mat[i])\n",
    "    return cluster_centroid/len(indices[index][1:])"
   ]
  },
  {
   "cell_type": "code",
   "execution_count": 148,
   "metadata": {},
   "outputs": [],
   "source": [
    "index_centroid = dict()\n",
    "for i in range(dv_mat.shape[0]):\n",
    "    index_centroid[i] = calculate_centroid(i)"
   ]
  },
  {
   "cell_type": "code",
   "execution_count": 136,
   "metadata": {
    "scrolled": true
   },
   "outputs": [
    {
     "data": {
      "text/plain": [
       "array([ 1.28414758e-04, -2.08522659e-02,  8.54330361e-02,  2.46596485e-02,\n",
       "        1.13146575e-02,  3.08373626e-02,  1.98179819e-02, -7.40225092e-02,\n",
       "       -9.57031921e-02, -4.81029265e-02,  1.02208689e-01, -4.08956483e-02,\n",
       "        1.87641643e-02,  9.00758877e-02, -1.82558876e-02,  5.13871200e-02,\n",
       "        1.17934877e-02, -3.27849388e-02,  3.05435248e-03, -5.00569269e-02,\n",
       "       -6.96634501e-02, -6.04096204e-02, -6.14010803e-02, -8.40272754e-02,\n",
       "        1.03784181e-01,  4.48104888e-02, -1.39390556e-02, -4.43885028e-02,\n",
       "        9.97580886e-02, -2.17618942e-02, -8.11996758e-02, -1.14581885e-03,\n",
       "       -6.39794916e-02,  4.46968228e-02,  1.15394630e-02, -1.71768423e-02,\n",
       "       -1.75368246e-02, -9.62024108e-02,  2.32559815e-02,  6.55947626e-02,\n",
       "        1.16894536e-01,  7.17528164e-02,  2.96825427e-03,  7.94791877e-02,\n",
       "        6.76064566e-02,  3.42977680e-02,  6.48518512e-03, -3.18209343e-02,\n",
       "       -1.80143937e-02, -1.70408580e-02, -1.91577617e-02,  2.35039145e-02,\n",
       "        4.86574247e-02, -6.05626665e-02, -8.89725089e-02,  4.21041995e-02,\n",
       "       -1.80745516e-02, -9.33786556e-02,  8.62139389e-02,  4.17461433e-02,\n",
       "       -1.21509455e-01,  7.55114332e-02, -3.61912698e-02, -1.05217554e-01,\n",
       "        7.50633627e-02,  1.86179727e-02, -1.27058504e-02, -2.05382165e-02,\n",
       "        1.71480849e-02, -7.36817643e-02, -1.31325752e-01,  1.34088203e-01,\n",
       "       -5.98989017e-02, -2.28726845e-02,  1.12423696e-01,  1.23954918e-02,\n",
       "        1.33537978e-01, -3.31670120e-02,  3.52437384e-02, -2.53505558e-02,\n",
       "        9.30055827e-02,  3.04928478e-02, -3.89544927e-02, -4.81080823e-02,\n",
       "        3.75611521e-02, -2.51918677e-02,  6.49960637e-02, -6.08515833e-03,\n",
       "       -1.07249372e-01, -2.59968583e-02, -1.77572425e-02,  5.43648936e-02,\n",
       "        5.05459532e-02, -2.02576276e-02, -7.69239515e-02, -3.62728387e-02,\n",
       "       -1.08405519e-02,  2.16850620e-02,  5.66254882e-03,  3.79070379e-02,\n",
       "       -5.27898371e-02,  5.70474230e-02, -8.03389121e-03,  6.31127432e-02,\n",
       "        7.15763425e-04,  3.59742567e-02,  1.18971951e-01,  3.71417478e-02,\n",
       "        4.56617773e-02, -1.77950040e-02, -2.23644916e-02, -2.21865848e-02,\n",
       "        2.16898043e-02, -2.05074493e-02,  1.33854169e-02,  3.08080502e-02,\n",
       "       -4.02484611e-02,  2.47093532e-02, -8.11343640e-03,  2.88308989e-02,\n",
       "       -5.52992076e-02, -1.13523208e-01, -8.30940604e-02,  6.70550615e-02,\n",
       "        3.89117151e-02, -1.34551777e-02, -4.60559130e-02,  1.96789093e-02,\n",
       "        1.17009729e-02,  4.21808707e-03,  8.56162161e-02, -4.24888916e-02,\n",
       "       -2.94287987e-02,  4.01472636e-02, -1.32825989e-02, -1.16854377e-01,\n",
       "        7.62455491e-03, -3.28596197e-02,  6.18714988e-02,  9.11747441e-02,\n",
       "        8.50058421e-02,  4.50494923e-02, -1.03538044e-01,  2.23614424e-02,\n",
       "        1.58816859e-01, -4.37914319e-02,  5.63852601e-02, -1.69618875e-02,\n",
       "       -7.31623769e-02,  9.54566672e-02,  1.03806607e-01, -2.51504257e-02,\n",
       "        1.47931995e-02, -4.67557609e-02, -1.71644352e-02, -5.17614223e-02,\n",
       "       -2.01291144e-02,  2.12203041e-02, -3.57391723e-02, -9.24345758e-03,\n",
       "       -1.04934447e-01,  7.90457278e-02,  7.78987408e-02,  3.51851434e-02,\n",
       "        2.11582109e-02, -3.52261332e-03,  1.12843893e-01, -6.97802156e-02,\n",
       "       -1.21283159e-03,  7.87455123e-03,  5.24701104e-02, -1.42919794e-01,\n",
       "       -7.69448876e-02, -5.39281033e-03,  1.92836579e-02,  4.32351753e-02,\n",
       "        3.86935212e-02,  6.54673278e-02,  1.09438822e-01,  1.98089927e-02,\n",
       "        3.95467095e-02, -8.99052396e-02, -3.64490636e-02,  4.20988463e-02,\n",
       "       -2.57732552e-02, -4.39468585e-02,  4.26989980e-02, -3.39276828e-02,\n",
       "       -4.03110571e-02,  1.19700156e-01,  7.91643187e-03, -7.11921006e-02,\n",
       "        2.71058232e-02,  6.66778833e-02,  1.02036567e-02, -1.68169290e-02,\n",
       "        3.01349517e-02, -2.71055233e-02,  1.52543094e-03,  4.69329394e-02,\n",
       "        3.16189118e-02, -5.07699288e-02, -6.34583086e-03,  9.70848575e-02,\n",
       "       -1.13936923e-01,  1.76932868e-02,  1.16569018e-02, -1.26297185e-02,\n",
       "       -1.21535443e-01,  1.52210265e-01,  3.80982421e-02, -7.09209442e-02,\n",
       "       -4.26138937e-02, -3.19588296e-02, -2.00360473e-02, -5.41682802e-02,\n",
       "        1.13525614e-01,  4.37889509e-02, -5.45061342e-02, -4.60931249e-02,\n",
       "       -5.52396141e-02, -6.73517361e-02, -6.62658960e-02, -5.32594658e-02,\n",
       "       -6.41844887e-03, -2.12057661e-02, -1.05399109e-01,  8.42457917e-03,\n",
       "        1.36505552e-02,  3.13326158e-03,  4.47083116e-02,  2.97917072e-02,\n",
       "        1.53001873e-02,  3.25818509e-02, -5.14279678e-02, -7.56970122e-02,\n",
       "       -1.42567277e-01, -4.47071306e-02, -2.23942790e-02, -3.12747359e-02,\n",
       "        1.54453412e-01, -7.82655850e-02, -3.09715867e-02, -3.09048053e-02,\n",
       "       -4.28252406e-02,  2.59766374e-02, -9.97701809e-02, -3.94415855e-02,\n",
       "        6.62439838e-02,  1.51100392e-02,  3.04481573e-02, -1.15945756e-01,\n",
       "       -2.85749789e-02,  5.58144972e-02,  9.15708113e-03, -6.63911272e-03,\n",
       "        1.61434747e-02, -2.68060844e-02,  4.17561159e-02, -9.87324864e-03,\n",
       "        9.58977342e-02, -8.48877579e-02,  8.06863047e-03, -1.80754007e-03,\n",
       "        7.31068477e-03, -3.98431458e-02, -7.36641660e-02,  6.49753511e-02,\n",
       "        9.80907083e-02,  2.25335490e-02, -7.08968565e-02,  5.01715839e-02,\n",
       "       -5.46228141e-02,  7.69573227e-02,  5.34358844e-02,  5.00433482e-02,\n",
       "        6.25922978e-02, -4.59718220e-02, -3.56199443e-02, -7.03659505e-02,\n",
       "       -6.32606000e-02, -9.43649486e-02,  6.47115111e-02, -3.89982131e-03,\n",
       "        2.22018994e-02, -4.97390889e-02,  9.07452628e-02, -5.29460423e-02,\n",
       "        3.54347974e-02, -5.38075715e-02, -1.38313519e-02, -1.14217307e-02,\n",
       "        6.26284480e-02,  8.55866671e-02, -5.98013476e-02, -9.15113762e-02,\n",
       "        1.93298217e-02,  1.28845905e-03,  5.56495674e-02, -8.62558708e-02],\n",
       "      dtype=float32)"
      ]
     },
     "execution_count": 136,
     "metadata": {},
     "output_type": "execute_result"
    }
   ],
   "source": [
    "index_centroid[0]"
   ]
  },
  {
   "cell_type": "code",
   "execution_count": 24,
   "metadata": {},
   "outputs": [],
   "source": [
    "#centroid_centroid_distance = {}\n",
    "#for i in range(dv_mat.shape[0]):\n",
    "#    centroid_centroid_distance[i] = {}\n",
    "#    for j in range(dv_mat.shape[0]):\n",
    "#        if i < j:\n",
    "#            centroid_centroid_distance[i][j] = np.linalg.norm(index_centroid[i]-index_centroid[j])"
   ]
  },
  {
   "cell_type": "code",
   "execution_count": 25,
   "metadata": {},
   "outputs": [],
   "source": [
    "#centroid_centroid_distance"
   ]
  },
  {
   "cell_type": "code",
   "execution_count": 139,
   "metadata": {},
   "outputs": [],
   "source": [
    "from random import sample\n",
    "def sample_mean_intercluster_dist(sample_size):\n",
    "    indices_sample = sample(range(dv_mat.shape[0]),sample_size)\n",
    "    centroid_centroid_distance = {}\n",
    "    for i in indices_sample:\n",
    "        for j in indices_sample:\n",
    "            if i < j:\n",
    "                key = str(i) + \"::\" + str(j)\n",
    "                centroid_centroid_distance[key] = np.linalg.norm(index_centroid[i]-index_centroid[j])\n",
    "    return np.array(list(centroid_centroid_distance.values())).mean()"
   ]
  },
  {
   "cell_type": "markdown",
   "metadata": {},
   "source": [
    "# neighbors = 10"
   ]
  },
  {
   "cell_type": "markdown",
   "metadata": {},
   "source": [
    "## 10 documents sample"
   ]
  },
  {
   "cell_type": "code",
   "execution_count": 149,
   "metadata": {},
   "outputs": [
    {
     "name": "stdout",
     "output_type": "stream",
     "text": [
      "[0.6164917, 0.5153907, 0.6736452, 0.47853005, 0.598818]\n",
      "\n",
      "0.57657516\n"
     ]
    }
   ],
   "source": [
    "sample_10_data = [sample_mean_intercluster_dist(10) for i in range(5)]\n",
    "print(sample_10_data)\n",
    "print()\n",
    "print(np.average(sample_10_data))"
   ]
  },
  {
   "cell_type": "markdown",
   "metadata": {},
   "source": [
    "## 100 documents sample"
   ]
  },
  {
   "cell_type": "code",
   "execution_count": 150,
   "metadata": {},
   "outputs": [
    {
     "name": "stdout",
     "output_type": "stream",
     "text": [
      "[0.56610596, 0.60592026, 0.5784322, 0.62448066, 0.6017158]\n",
      "\n",
      "0.59533095\n"
     ]
    }
   ],
   "source": [
    "sample_100_data = [sample_mean_intercluster_dist(100) for i in range(5)]\n",
    "print(sample_100_data)\n",
    "print()\n",
    "print(np.average(sample_100_data))"
   ]
  },
  {
   "cell_type": "markdown",
   "metadata": {},
   "source": [
    "## 500 documents sample"
   ]
  },
  {
   "cell_type": "code",
   "execution_count": 151,
   "metadata": {},
   "outputs": [
    {
     "name": "stdout",
     "output_type": "stream",
     "text": [
      "[0.5762318, 0.60566944, 0.59359497, 0.5925135, 0.588205]\n",
      "\n",
      "0.59124297\n"
     ]
    }
   ],
   "source": [
    "sample_500_data = [sample_mean_intercluster_dist(500) for i in range(5)]\n",
    "print(sample_500_data)\n",
    "print()\n",
    "print(np.average(sample_500_data))"
   ]
  },
  {
   "cell_type": "markdown",
   "metadata": {},
   "source": [
    "# neighbors = 20"
   ]
  },
  {
   "cell_type": "markdown",
   "metadata": {},
   "source": [
    "## 10 documents sample"
   ]
  },
  {
   "cell_type": "code",
   "execution_count": 140,
   "metadata": {},
   "outputs": [
    {
     "name": "stdout",
     "output_type": "stream",
     "text": [
      "[0.44116002, 0.45280504, 0.59016997, 0.4076249, 0.3117897]\n",
      "\n",
      "0.44070992\n"
     ]
    }
   ],
   "source": [
    "sample_10_data = [sample_mean_intercluster_dist(10) for i in range(5)]\n",
    "print(sample_10_data)\n",
    "print()\n",
    "print(np.average(sample_10_data))"
   ]
  },
  {
   "cell_type": "markdown",
   "metadata": {},
   "source": [
    "## 100 documents sample"
   ]
  },
  {
   "cell_type": "code",
   "execution_count": 141,
   "metadata": {},
   "outputs": [
    {
     "name": "stdout",
     "output_type": "stream",
     "text": [
      "[0.4688207, 0.43424538, 0.4026276, 0.42618105, 0.4686674]\n",
      "\n",
      "0.4401084\n"
     ]
    }
   ],
   "source": [
    "sample_100_data = [sample_mean_intercluster_dist(100) for i in range(5)]\n",
    "print(sample_100_data)\n",
    "print()\n",
    "print(np.average(sample_100_data))"
   ]
  },
  {
   "cell_type": "markdown",
   "metadata": {},
   "source": [
    "## 500 documents sample"
   ]
  },
  {
   "cell_type": "code",
   "execution_count": 142,
   "metadata": {},
   "outputs": [
    {
     "name": "stdout",
     "output_type": "stream",
     "text": [
      "[0.43513295, 0.45055667, 0.45079657, 0.44550946, 0.45433947]\n",
      "\n",
      "0.447267\n"
     ]
    }
   ],
   "source": [
    "sample_500_data = [sample_mean_intercluster_dist(500) for i in range(5)]\n",
    "print(sample_500_data)\n",
    "print()\n",
    "print(np.average(sample_500_data))"
   ]
  },
  {
   "cell_type": "code",
   "execution_count": null,
   "metadata": {},
   "outputs": [],
   "source": []
  }
 ],
 "metadata": {
  "colab": {
   "collapsed_sections": [],
   "name": "MastersProject.ipynb",
   "provenance": []
  },
  "kernelspec": {
   "display_name": "Python 3",
   "language": "python",
   "name": "python3"
  },
  "language_info": {
   "codemirror_mode": {
    "name": "ipython",
    "version": 3
   },
   "file_extension": ".py",
   "mimetype": "text/x-python",
   "name": "python",
   "nbconvert_exporter": "python",
   "pygments_lexer": "ipython3",
   "version": "3.7.1"
  }
 },
 "nbformat": 4,
 "nbformat_minor": 1
}
