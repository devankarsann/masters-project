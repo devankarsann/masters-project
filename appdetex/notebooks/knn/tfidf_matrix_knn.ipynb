{
 "cells": [
  {
   "cell_type": "code",
   "execution_count": 1,
   "metadata": {},
   "outputs": [
    {
     "data": {
      "text/html": [
       "<style>.container { width:95% !important; }</style>"
      ],
      "text/plain": [
       "<IPython.core.display.HTML object>"
      ]
     },
     "metadata": {},
     "output_type": "display_data"
    }
   ],
   "source": [
    "from IPython.core.display import display, HTML\n",
    "display(HTML(\"<style>.container { width:95% !important; }</style>\"))\n",
    "from sklearn.preprocessing import normalize"
   ]
  },
  {
   "cell_type": "markdown",
   "metadata": {
    "id": "FYVUGSFLf_qE"
   },
   "source": [
    "## Libraries and Filesystem Setup"
   ]
  },
  {
   "cell_type": "code",
   "execution_count": 2,
   "metadata": {
    "colab": {
     "base_uri": "https://localhost:8080/"
    },
    "id": "uqRQxTVbf39P",
    "outputId": "aecc64fb-dc6f-4d45-f5a3-98ec0b70cbfe"
   },
   "outputs": [],
   "source": [
    "import pandas as pd\n",
    "import pickle\n",
    "from sklearn.neighbors import NearestNeighbors\n",
    "import numpy as np\n",
    "import matplotlib.pyplot as plt\n",
    "from scipy.sparse import csr_matrix\n",
    "import scipy"
   ]
  },
  {
   "cell_type": "markdown",
   "metadata": {},
   "source": [
    "### Import LDA document vectors"
   ]
  },
  {
   "cell_type": "code",
   "execution_count": 4,
   "metadata": {},
   "outputs": [],
   "source": [
    "#tfidf_matrix = np.load(open(\"../processed_files/tfidf_matrix.npy\"))\n",
    "tfidf_matrix = scipy.sparse.load_npz('../../processed_files/tfidf_matrix.npz')\n",
    "df_merged = pickle.load(open(\"../../processed_files/df_merged.pickle\", \"rb\"))"
   ]
  },
  {
   "cell_type": "code",
   "execution_count": 5,
   "metadata": {},
   "outputs": [
    {
     "data": {
      "text/html": [
       "<div>\n",
       "<style scoped>\n",
       "    .dataframe tbody tr th:only-of-type {\n",
       "        vertical-align: middle;\n",
       "    }\n",
       "\n",
       "    .dataframe tbody tr th {\n",
       "        vertical-align: top;\n",
       "    }\n",
       "\n",
       "    .dataframe thead th {\n",
       "        text-align: right;\n",
       "    }\n",
       "</style>\n",
       "<table border=\"1\" class=\"dataframe\">\n",
       "  <thead>\n",
       "    <tr style=\"text-align: right;\">\n",
       "      <th></th>\n",
       "      <th>DOMAIN</th>\n",
       "      <th>RAW_CONTENT</th>\n",
       "      <th>RAW_CONTENT_PROCESSED</th>\n",
       "      <th>RAW_CONTENT_PROCESSED_STEMMED</th>\n",
       "    </tr>\n",
       "  </thead>\n",
       "  <tbody>\n",
       "    <tr>\n",
       "      <th>0</th>\n",
       "      <td>0-my.com</td>\n",
       "      <td>0-my.com related searches: related searches:</td>\n",
       "      <td>[mycom, related, searches, related, searches]</td>\n",
       "      <td>[0, -, m, y, ., c, o, m,  , r, e, l, a, t, e, ...</td>\n",
       "    </tr>\n",
       "    <tr>\n",
       "      <th>1</th>\n",
       "      <td>00bitz.com</td>\n",
       "      <td>error. page cannot be displayed. please contac...</td>\n",
       "      <td>[error, page, cannot, displayed, please, conta...</td>\n",
       "      <td>[e, r, r, o, r, .,  , p, a, g, e,  , c, a, n, ...</td>\n",
       "    </tr>\n",
       "    <tr>\n",
       "      <th>2</th>\n",
       "      <td>01187.com</td>\n",
       "      <td>01187.com is available for purchase! - wwwv1.c...</td>\n",
       "      <td>[com, vailable, purchase, wwwvcom, welcome, uu...</td>\n",
       "      <td>[0, 1, 1, 8, 7, ., c, o, m,  , i, s,  , a, v, ...</td>\n",
       "    </tr>\n",
       "    <tr>\n",
       "      <th>3</th>\n",
       "      <td>027.ir</td>\n",
       "      <td>027.ir - dns4.ir 027.ir hits: 7,267 under cons...</td>\n",
       "      <td>[ir, dnsir, ir, hits, construction, coming, so...</td>\n",
       "      <td>[0, 2, 7, ., i, r,  , -,  , d, n, s, 4, ., i, ...</td>\n",
       "    </tr>\n",
       "    <tr>\n",
       "      <th>4</th>\n",
       "      <td>03h.org</td>\n",
       "      <td>february | 2014 | online marketing review sear...</td>\n",
       "      <td>[february, online, marketing, review, search, ...</td>\n",
       "      <td>[f, e, b, r, u, a, r, y,  , |,  , 2, 0, 1, 4, ...</td>\n",
       "    </tr>\n",
       "  </tbody>\n",
       "</table>\n",
       "</div>"
      ],
      "text/plain": [
       "       DOMAIN                                        RAW_CONTENT  \\\n",
       "0    0-my.com       0-my.com related searches: related searches:   \n",
       "1  00bitz.com  error. page cannot be displayed. please contac...   \n",
       "2   01187.com  01187.com is available for purchase! - wwwv1.c...   \n",
       "3      027.ir  027.ir - dns4.ir 027.ir hits: 7,267 under cons...   \n",
       "4     03h.org  february | 2014 | online marketing review sear...   \n",
       "\n",
       "                               RAW_CONTENT_PROCESSED  \\\n",
       "0      [mycom, related, searches, related, searches]   \n",
       "1  [error, page, cannot, displayed, please, conta...   \n",
       "2  [com, vailable, purchase, wwwvcom, welcome, uu...   \n",
       "3  [ir, dnsir, ir, hits, construction, coming, so...   \n",
       "4  [february, online, marketing, review, search, ...   \n",
       "\n",
       "                       RAW_CONTENT_PROCESSED_STEMMED  \n",
       "0  [0, -, m, y, ., c, o, m,  , r, e, l, a, t, e, ...  \n",
       "1  [e, r, r, o, r, .,  , p, a, g, e,  , c, a, n, ...  \n",
       "2  [0, 1, 1, 8, 7, ., c, o, m,  , i, s,  , a, v, ...  \n",
       "3  [0, 2, 7, ., i, r,  , -,  , d, n, s, 4, ., i, ...  \n",
       "4  [f, e, b, r, u, a, r, y,  , |,  , 2, 0, 1, 4, ...  "
      ]
     },
     "execution_count": 5,
     "metadata": {},
     "output_type": "execute_result"
    }
   ],
   "source": [
    "df_merged.head()"
   ]
  },
  {
   "cell_type": "code",
   "execution_count": 6,
   "metadata": {},
   "outputs": [
    {
     "data": {
      "text/plain": [
       "(12975, 4)"
      ]
     },
     "execution_count": 6,
     "metadata": {},
     "output_type": "execute_result"
    }
   ],
   "source": [
    "df_merged.shape"
   ]
  },
  {
   "cell_type": "code",
   "execution_count": 7,
   "metadata": {},
   "outputs": [
    {
     "name": "stdout",
     "output_type": "stream",
     "text": [
      "(12968, 272069)\n",
      "(1, 272069)\n"
     ]
    }
   ],
   "source": [
    "print(tfidf_matrix.shape)\n",
    "print(tfidf_matrix[0].shape)"
   ]
  },
  {
   "cell_type": "markdown",
   "metadata": {},
   "source": [
    "## tfidf"
   ]
  },
  {
   "cell_type": "code",
   "execution_count": 8,
   "metadata": {},
   "outputs": [],
   "source": [
    "#from sklearn.preprocessing import normalize\n",
    "#tfidf_matrix = normalize(tfidf_matrix, norm='l2', axis=1)"
   ]
  },
  {
   "cell_type": "code",
   "execution_count": 10,
   "metadata": {},
   "outputs": [
    {
     "data": {
      "text/plain": [
       "(12968, 272069)"
      ]
     },
     "execution_count": 10,
     "metadata": {},
     "output_type": "execute_result"
    }
   ],
   "source": [
    "tfidf_matrix.shape"
   ]
  },
  {
   "cell_type": "code",
   "execution_count": 11,
   "metadata": {},
   "outputs": [
    {
     "data": {
      "text/plain": [
       "(1, 272069)"
      ]
     },
     "execution_count": 11,
     "metadata": {},
     "output_type": "execute_result"
    }
   ],
   "source": [
    "tfidf_matrix[0].shape"
   ]
  },
  {
   "cell_type": "code",
   "execution_count": 9,
   "metadata": {},
   "outputs": [
    {
     "ename": "ValueError",
     "evalue": "dimension mismatch",
     "output_type": "error",
     "traceback": [
      "\u001b[0;31m---------------------------------------------------------------------------\u001b[0m",
      "\u001b[0;31mValueError\u001b[0m                                Traceback (most recent call last)",
      "\u001b[0;32m<ipython-input-9-7cbd346cfef6>\u001b[0m in \u001b[0;36m<module>\u001b[0;34m\u001b[0m\n\u001b[0;32m----> 1\u001b[0;31m \u001b[0mnew_tfidf_matrix\u001b[0m \u001b[0;34m=\u001b[0m \u001b[0mtfidf_matrix\u001b[0m \u001b[0;34m/\u001b[0m \u001b[0mnp\u001b[0m\u001b[0;34m.\u001b[0m\u001b[0mlinalg\u001b[0m\u001b[0;34m.\u001b[0m\u001b[0mnorm\u001b[0m\u001b[0;34m(\u001b[0m\u001b[0mtfidf_matrix\u001b[0m\u001b[0;34m)\u001b[0m\u001b[0;34m\u001b[0m\u001b[0;34m\u001b[0m\u001b[0m\n\u001b[0m",
      "\u001b[0;32m<__array_function__ internals>\u001b[0m in \u001b[0;36mnorm\u001b[0;34m(*args, **kwargs)\u001b[0m\n",
      "\u001b[0;32m~/anaconda3/lib/python3.7/site-packages/numpy/linalg/linalg.py\u001b[0m in \u001b[0;36mnorm\u001b[0;34m(x, ord, axis, keepdims)\u001b[0m\n\u001b[1;32m   2528\u001b[0m                 \u001b[0msqnorm\u001b[0m \u001b[0;34m=\u001b[0m \u001b[0mdot\u001b[0m\u001b[0;34m(\u001b[0m\u001b[0mx\u001b[0m\u001b[0;34m.\u001b[0m\u001b[0mreal\u001b[0m\u001b[0;34m,\u001b[0m \u001b[0mx\u001b[0m\u001b[0;34m.\u001b[0m\u001b[0mreal\u001b[0m\u001b[0;34m)\u001b[0m \u001b[0;34m+\u001b[0m \u001b[0mdot\u001b[0m\u001b[0;34m(\u001b[0m\u001b[0mx\u001b[0m\u001b[0;34m.\u001b[0m\u001b[0mimag\u001b[0m\u001b[0;34m,\u001b[0m \u001b[0mx\u001b[0m\u001b[0;34m.\u001b[0m\u001b[0mimag\u001b[0m\u001b[0;34m)\u001b[0m\u001b[0;34m\u001b[0m\u001b[0;34m\u001b[0m\u001b[0m\n\u001b[1;32m   2529\u001b[0m             \u001b[0;32melse\u001b[0m\u001b[0;34m:\u001b[0m\u001b[0;34m\u001b[0m\u001b[0;34m\u001b[0m\u001b[0m\n\u001b[0;32m-> 2530\u001b[0;31m                 \u001b[0msqnorm\u001b[0m \u001b[0;34m=\u001b[0m \u001b[0mdot\u001b[0m\u001b[0;34m(\u001b[0m\u001b[0mx\u001b[0m\u001b[0;34m,\u001b[0m \u001b[0mx\u001b[0m\u001b[0;34m)\u001b[0m\u001b[0;34m\u001b[0m\u001b[0;34m\u001b[0m\u001b[0m\n\u001b[0m\u001b[1;32m   2531\u001b[0m             \u001b[0mret\u001b[0m \u001b[0;34m=\u001b[0m \u001b[0msqrt\u001b[0m\u001b[0;34m(\u001b[0m\u001b[0msqnorm\u001b[0m\u001b[0;34m)\u001b[0m\u001b[0;34m\u001b[0m\u001b[0;34m\u001b[0m\u001b[0m\n\u001b[1;32m   2532\u001b[0m             \u001b[0;32mif\u001b[0m \u001b[0mkeepdims\u001b[0m\u001b[0;34m:\u001b[0m\u001b[0;34m\u001b[0m\u001b[0;34m\u001b[0m\u001b[0m\n",
      "\u001b[0;32m<__array_function__ internals>\u001b[0m in \u001b[0;36mdot\u001b[0;34m(*args, **kwargs)\u001b[0m\n",
      "\u001b[0;32m~/anaconda3/lib/python3.7/site-packages/scipy/sparse/base.py\u001b[0m in \u001b[0;36m__mul__\u001b[0;34m(self, other)\u001b[0m\n\u001b[1;32m    479\u001b[0m         \u001b[0;32mif\u001b[0m \u001b[0missparse\u001b[0m\u001b[0;34m(\u001b[0m\u001b[0mother\u001b[0m\u001b[0;34m)\u001b[0m\u001b[0;34m:\u001b[0m\u001b[0;34m\u001b[0m\u001b[0;34m\u001b[0m\u001b[0m\n\u001b[1;32m    480\u001b[0m             \u001b[0;32mif\u001b[0m \u001b[0mself\u001b[0m\u001b[0;34m.\u001b[0m\u001b[0mshape\u001b[0m\u001b[0;34m[\u001b[0m\u001b[0;36m1\u001b[0m\u001b[0;34m]\u001b[0m \u001b[0;34m!=\u001b[0m \u001b[0mother\u001b[0m\u001b[0;34m.\u001b[0m\u001b[0mshape\u001b[0m\u001b[0;34m[\u001b[0m\u001b[0;36m0\u001b[0m\u001b[0;34m]\u001b[0m\u001b[0;34m:\u001b[0m\u001b[0;34m\u001b[0m\u001b[0;34m\u001b[0m\u001b[0m\n\u001b[0;32m--> 481\u001b[0;31m                 \u001b[0;32mraise\u001b[0m \u001b[0mValueError\u001b[0m\u001b[0;34m(\u001b[0m\u001b[0;34m'dimension mismatch'\u001b[0m\u001b[0;34m)\u001b[0m\u001b[0;34m\u001b[0m\u001b[0;34m\u001b[0m\u001b[0m\n\u001b[0m\u001b[1;32m    482\u001b[0m             \u001b[0;32mreturn\u001b[0m \u001b[0mself\u001b[0m\u001b[0;34m.\u001b[0m\u001b[0m_mul_sparse_matrix\u001b[0m\u001b[0;34m(\u001b[0m\u001b[0mother\u001b[0m\u001b[0;34m)\u001b[0m\u001b[0;34m\u001b[0m\u001b[0;34m\u001b[0m\u001b[0m\n\u001b[1;32m    483\u001b[0m \u001b[0;34m\u001b[0m\u001b[0m\n",
      "\u001b[0;31mValueError\u001b[0m: dimension mismatch"
     ]
    }
   ],
   "source": [
    "new_tfidf_matrix = tfidf_matrix / np.linalg.norm(tfidf_matrix)"
   ]
  },
  {
   "cell_type": "code",
   "execution_count": 26,
   "metadata": {},
   "outputs": [],
   "source": [
    "new_tfidf_matrix = tfidf_matrix.todense() / np.linalg.norm(tfidf_matrix.todense())"
   ]
  },
  {
   "cell_type": "code",
   "execution_count": 12,
   "metadata": {},
   "outputs": [
    {
     "name": "stderr",
     "output_type": "stream",
     "text": [
      "/Users/dkarsann/anaconda3/lib/python3.7/site-packages/sklearn/neighbors/_base.py:462: UserWarning: cannot use tree with sparse input: using brute force\n",
      "  warnings.warn(\"cannot use tree with sparse input: \"\n"
     ]
    },
    {
     "name": "stdout",
     "output_type": "stream",
     "text": [
      "CPU times: user 30.1 s, sys: 6.77 s, total: 36.9 s\n",
      "Wall time: 38 s\n"
     ]
    }
   ],
   "source": [
    "%%time\n",
    "nbrs = NearestNeighbors(n_neighbors = 10, algorithm = 'ball_tree').fit(tfidf_matrix)\n",
    "distances, indices = nbrs.kneighbors(tfidf_matrix)"
   ]
  },
  {
   "cell_type": "code",
   "execution_count": 61,
   "metadata": {
    "id": "njnHPQgtpZeC"
   },
   "outputs": [
    {
     "name": "stdout",
     "output_type": "stream",
     "text": [
      "(12956, 20)\n",
      "(12956, 20)\n"
     ]
    }
   ],
   "source": [
    "print(distances.shape)\n",
    "print(indices.shape)"
   ]
  },
  {
   "cell_type": "code",
   "execution_count": 62,
   "metadata": {},
   "outputs": [
    {
     "data": {
      "text/plain": [
       "array([0.        , 0.        , 0.4460879 , 0.49713873, 0.55559218,\n",
       "       0.56599868, 0.59746107, 0.74252772, 0.76912187, 0.77833471,\n",
       "       0.78997678, 0.80890761, 0.80933426, 0.80933426, 0.80933426,\n",
       "       0.80933426, 0.80933426, 0.80933426, 0.80933426, 0.80933426])"
      ]
     },
     "execution_count": 62,
     "metadata": {},
     "output_type": "execute_result"
    }
   ],
   "source": [
    "distances[0]"
   ]
  },
  {
   "cell_type": "code",
   "execution_count": 63,
   "metadata": {},
   "outputs": [
    {
     "data": {
      "text/plain": [
       "array([    0,   160,  6206,  6387,  1160,   166,  1694,  4272,  5568,\n",
       "        5742,   139,  2575,  8471,  7384,  7410, 12188,  3646,  5564,\n",
       "       10781,  2072])"
      ]
     },
     "execution_count": 63,
     "metadata": {},
     "output_type": "execute_result"
    }
   ],
   "source": [
    "indices[0]"
   ]
  },
  {
   "cell_type": "code",
   "execution_count": 76,
   "metadata": {},
   "outputs": [],
   "source": [
    "import statistics\n",
    "\n",
    "def intracluster_similarity(index):\n",
    "    cluster_centroid = tfidf_matrix[index]\n",
    "    dist_list = []\n",
    "    for i in indices[index][1:]:\n",
    "        distance = np.linalg.norm(cluster_centroid.toarray()-tfidf_matrix[i].toarray())\n",
    "        dist_list.append(distance)\n",
    "        #print(index, ',', i, '=', distance)\n",
    "        \n",
    "    #avg = sum_dist/(len(indices[index])-1)\n",
    "    avg = np.average(dist_list)\n",
    "    \n",
    "    #variance = statistics.variance(dist_list)\n",
    "    variance = np.var(dist_list)\n",
    "    #print('variance:', variance)\n",
    "    \n",
    "    return avg, variance"
   ]
  },
  {
   "cell_type": "code",
   "execution_count": 77,
   "metadata": {},
   "outputs": [
    {
     "data": {
      "text/plain": [
       "(1.2348086215729488, 0.002008545107742311)"
      ]
     },
     "execution_count": 77,
     "metadata": {},
     "output_type": "execute_result"
    }
   ],
   "source": [
    "intracluster_similarity(1234)"
   ]
  },
  {
   "cell_type": "code",
   "execution_count": 55,
   "metadata": {},
   "outputs": [],
   "source": [
    "def generate_raw_content_cluster_df(index):\n",
    "    index_list = list(indices[index])\n",
    "    distance_list = list(distances[index])\n",
    "    cluster_seed = df_merged.loc[index].to_frame().T\n",
    "    cluster_seed['DISTANCE'] = 0\n",
    "    cluster_df = df_merged.loc[index_list[1:]]\n",
    "    cluster_df['DISTANCE'] = distance_list[1:]\n",
    "    combined = pd.concat([cluster_seed, cluster_df.sort_values(by='DISTANCE', ascending=True)])\n",
    "    return combined.style.set_properties(subset=['RAW_CONTENT'], **{'width-min': '100px'})\n",
    "    #return combined"
   ]
  },
  {
   "cell_type": "code",
   "execution_count": 66,
   "metadata": {
    "scrolled": true
   },
   "outputs": [
    {
     "data": {
      "text/html": [
       "<style  type=\"text/css\" >\n",
       "    #T_96ba6408_a0e1_11eb_a819_f2189879e589row0_col1 {\n",
       "            width-min:  100px;\n",
       "        }    #T_96ba6408_a0e1_11eb_a819_f2189879e589row1_col1 {\n",
       "            width-min:  100px;\n",
       "        }    #T_96ba6408_a0e1_11eb_a819_f2189879e589row2_col1 {\n",
       "            width-min:  100px;\n",
       "        }    #T_96ba6408_a0e1_11eb_a819_f2189879e589row3_col1 {\n",
       "            width-min:  100px;\n",
       "        }    #T_96ba6408_a0e1_11eb_a819_f2189879e589row4_col1 {\n",
       "            width-min:  100px;\n",
       "        }    #T_96ba6408_a0e1_11eb_a819_f2189879e589row5_col1 {\n",
       "            width-min:  100px;\n",
       "        }    #T_96ba6408_a0e1_11eb_a819_f2189879e589row6_col1 {\n",
       "            width-min:  100px;\n",
       "        }    #T_96ba6408_a0e1_11eb_a819_f2189879e589row7_col1 {\n",
       "            width-min:  100px;\n",
       "        }    #T_96ba6408_a0e1_11eb_a819_f2189879e589row8_col1 {\n",
       "            width-min:  100px;\n",
       "        }    #T_96ba6408_a0e1_11eb_a819_f2189879e589row9_col1 {\n",
       "            width-min:  100px;\n",
       "        }    #T_96ba6408_a0e1_11eb_a819_f2189879e589row10_col1 {\n",
       "            width-min:  100px;\n",
       "        }    #T_96ba6408_a0e1_11eb_a819_f2189879e589row11_col1 {\n",
       "            width-min:  100px;\n",
       "        }    #T_96ba6408_a0e1_11eb_a819_f2189879e589row12_col1 {\n",
       "            width-min:  100px;\n",
       "        }    #T_96ba6408_a0e1_11eb_a819_f2189879e589row13_col1 {\n",
       "            width-min:  100px;\n",
       "        }    #T_96ba6408_a0e1_11eb_a819_f2189879e589row14_col1 {\n",
       "            width-min:  100px;\n",
       "        }    #T_96ba6408_a0e1_11eb_a819_f2189879e589row15_col1 {\n",
       "            width-min:  100px;\n",
       "        }    #T_96ba6408_a0e1_11eb_a819_f2189879e589row16_col1 {\n",
       "            width-min:  100px;\n",
       "        }    #T_96ba6408_a0e1_11eb_a819_f2189879e589row17_col1 {\n",
       "            width-min:  100px;\n",
       "        }    #T_96ba6408_a0e1_11eb_a819_f2189879e589row18_col1 {\n",
       "            width-min:  100px;\n",
       "        }    #T_96ba6408_a0e1_11eb_a819_f2189879e589row19_col1 {\n",
       "            width-min:  100px;\n",
       "        }</style>  \n",
       "<table id=\"T_96ba6408_a0e1_11eb_a819_f2189879e589\" > \n",
       "<thead>    <tr> \n",
       "        <th class=\"blank level0\" ></th> \n",
       "        <th class=\"col_heading level0 col0\" >DOMAIN</th> \n",
       "        <th class=\"col_heading level0 col1\" >RAW_CONTENT</th> \n",
       "        <th class=\"col_heading level0 col2\" >RAW_CONTENT_PARSED</th> \n",
       "        <th class=\"col_heading level0 col3\" >DISTANCE</th> \n",
       "    </tr></thead> \n",
       "<tbody>    <tr> \n",
       "        <th id=\"T_96ba6408_a0e1_11eb_a819_f2189879e589level0_row0\" class=\"row_heading level0 row0\" >64</th> \n",
       "        <td id=\"T_96ba6408_a0e1_11eb_a819_f2189879e589row0_col0\" class=\"data row0 col0\" >1stlincslimo.co.uk</td> \n",
       "        <td id=\"T_96ba6408_a0e1_11eb_a819_f2189879e589row0_col1\" class=\"data row0 col1\" >1st lincs limo & wedding cars | lincolnshire prom limousine hire lincolnshire prom limousine hire home now booking 2021 2022 wedding car hire and 2020 2021 prom car hire, prom limo hire. tel 01522595236 or 07702693448 tel 01522595236 or 07702693448 here at 1st lincs limo & wedding cars we have been offering luxury car hire in lincoln and the lincolnshire area since 2000, we have limousine covering wedding car and wedding limousines hire. prom limo hire lincoln lincolnshire, we still have some availability for 2020 prom limousine hire. tel 01522595236 – 07702693448 party limo hire lincolnshire wedding cars, 2020 and 2021/2 lincoln wedding car bookings now being taken with just a £130 deposit/booking fee your lincolnshire luxury wedding transport can be secured today. we have a range of classic 1920’s style car and modern saloons. lincoln registry office wedding, lincoln church wedding, civil wedding cars all on offer from 1st lincs limo & wedding cars please call for lincoln wedding car packages. tel 01522595236 – 07702693448 stag and hen parties in lincoln with anything from 1 hour’s limo hire,restaurant hen party with transport there and back or a limousine to a lincoln nightclub and back. lincoln kids parties and kids limo party’s with 1st lincs limo in a fun and safe environment. tel 01522595236 – 07702693448 social</td> \n",
       "        <td id=\"T_96ba6408_a0e1_11eb_a819_f2189879e589row0_col2\" class=\"data row0 col2\" >st lincs limo & wedding cars | lincolnshire prom limousine hire lincolnshire prom limousine hire home now booking   wedding car hire and   prom car hire, prom limo hire. tel  or  tel  or  here at st lincs limo & wedding cars we have been offering luxury car hire in lincoln and the lincolnshire area since , we have limousine covering wedding car and wedding limousines hire. prom limo hire lincoln lincolnshire, we still have some availability for  prom limousine hire. tel  –  party limo hire lincolnshire wedding cars,  and / lincoln wedding car bookings now being taken with just a £ deposit/booking fee your lincolnshire luxury wedding transport can be secured today. we have a range of classic ’s style car and modern saloons. lincoln registry office wedding, lincoln church wedding, civil wedding cars all on offer from st lincs limo & wedding cars please call for lincoln wedding car packages. tel  –  stag and hen parties in lincoln with anything from  hour’s limo hire,restaurant hen party with transport there and back or a limousine to a lincoln nightclub and back. lincoln kids parties and kids limo party’s with st lincs limo in a fun and safe environment. tel  –  social</td> \n",
       "        <td id=\"T_96ba6408_a0e1_11eb_a819_f2189879e589row0_col3\" class=\"data row0 col3\" >0</td> \n",
       "    </tr>    <tr> \n",
       "        <th id=\"T_96ba6408_a0e1_11eb_a819_f2189879e589level0_row1\" class=\"row_heading level0 row1\" >6455</th> \n",
       "        <td id=\"T_96ba6408_a0e1_11eb_a819_f2189879e589row1_col0\" class=\"data row1 col0\" >knightservice.net</td> \n",
       "        <td id=\"T_96ba6408_a0e1_11eb_a819_f2189879e589row1_col1\" class=\"data row1 col1\" >knight's services limo llc</td> \n",
       "        <td id=\"T_96ba6408_a0e1_11eb_a819_f2189879e589row1_col2\" class=\"data row1 col2\" >knight's services limo llc</td> \n",
       "        <td id=\"T_96ba6408_a0e1_11eb_a819_f2189879e589row1_col3\" class=\"data row1 col3\" >1.1784</td> \n",
       "    </tr>    <tr> \n",
       "        <th id=\"T_96ba6408_a0e1_11eb_a819_f2189879e589level0_row2\" class=\"row_heading level0 row2\" >4300</th> \n",
       "        <td id=\"T_96ba6408_a0e1_11eb_a819_f2189879e589row2_col0\" class=\"data row2 col0\" >follettphotography.com.au</td> \n",
       "        <td id=\"T_96ba6408_a0e1_11eb_a819_f2189879e589row2_col1\" class=\"data row2 col1\" >highly recommended gold coast wedding photographer search for: gold coast wedding photographer2020-07-01t14:40:54+10:00 gold coast wedding photographeri am a wedding photographer. yes, i am based on the gold coast, but i travel between byron bay to brisbane and, well, all around australia and the world to capture beautiful wedding stories.every minute of your wedding day is worth cherishing, so i want to make sure as much as possible is documented for you. your wedding day should be re-lived over and over! that is why i include the very highest quality wedding albums in my packages. i envision each of my clients sitting down in 20-30 years, using their wedding album to help plan the wedding of their children. i started only as a gold coast wedding photographer but now also photograph beautiful wedding stories in brisbane, sunshine coast, byron bay, hawaii, fiji, new zealand … well anywhere in the world really… so no matter where your wedding, give me a call! but how do you even choose a wedding photographer? before you even start to look for a wedding photographer, you should think of how much you value your wedding images. what style are you attracted to? what specially do you want out of your experience? then, start the journey of finding a photographer with the style and personality that suit your vision. my imagery has been described as classic and timeless. i focus on a ‘stunning’ outcome, not just a wedding image that looks the same as everyone else. your wedding photographer needs to offer you more than just the right package price. your wedding photographer needs to have the experience and personality to handle all that a wedding day offers. who you choose needs to have the ability to keep you calm, on time and enjoying each moment as it comes. i offer wedding photography that is special and unique to each wedding and we never take for granted the privilege to share in someones wedding day. i also offer wedding photography packages to suit your budget, without compromising quality. how? by allowing you to pay for your album after your wedding day. we know locations, we have some of the best equipment and we know what to do… all you need is to relax and enjoy the first day of the rest of your life… to see my packages, videography packages available! cover image taken at ‘one tree hill’ in maleny, wedding at . get in touch bride's name* first last what's your phone number?*groom's namewhat's your email address?* wedding date* dd mm yyyy interested in...* full coverage - bride and groom prep through to end of the night full coverage - bride and groom prep through to end of first dance and party shots most of the day - bride and groom prep through to reception entrance and decorations other wedding venue*where did you hear about me?*wedding expogooglesocial mediabraeside chapelother (specify in comments)who are you?bridegroommotheranything else you would like me to know?...regardingweddingportraitsthird choice © copyright 2012 - | follett photography | all rights reserved | powered by</td> \n",
       "        <td id=\"T_96ba6408_a0e1_11eb_a819_f2189879e589row2_col2\" class=\"data row2 col2\" >highly recommended gold coast wedding photographer search for: gold coast wedding photographer--t::+: gold coast wedding photographeri am a wedding photographer. yes, i am based on the gold coast, but i travel between byron bay to brisbane and, well, all around australia and the world to capture beautiful wedding stories.every minute of your wedding day is worth cherishing, so i want to make sure as much as possible is documented for you. your wedding day should be re-lived over and over! that is why i include the very highest quality wedding albums in my packages. i envision each of my clients sitting down in - years, using their wedding album to help plan the wedding of their children. i started only as a gold coast wedding photographer but now also photograph beautiful wedding stories in brisbane, sunshine coast, byron bay, hawaii, fiji, new zealand … well anywhere in the world really… so no matter where your wedding, give me a call! but how do you even choose a wedding photographer? before you even start to look for a wedding photographer, you should think of how much you value your wedding images. what style are you attracted to? what specially do you want out of your experience? then, start the journey of finding a photographer with the style and personality that suit your vision. my imagery has been described as classic and timeless. i focus on a ‘stunning’ outcome, not just a wedding image that looks the same as everyone else. your wedding photographer needs to offer you more than just the right package price. your wedding photographer needs to have the experience and personality to handle all that a wedding day offers. who you choose needs to have the ability to keep you calm, on time and enjoying each moment as it comes. i offer wedding photography that is special and unique to each wedding and we never take for granted the privilege to share in someones wedding day. i also offer wedding photography packages to suit your budget, without compromising quality. how? by allowing you to pay for your album after your wedding day. we know locations, we have some of the best equipment and we know what to do… all you need is to relax and enjoy the first day of the rest of your life… to see my packages, videography packages available! cover image taken at ‘one tree hill’ in maleny, wedding at . get in touch bride's name* first last what's your phone number?*groom's namewhat's your email address?* wedding date* dd mm yyyy interested in...* full coverage - bride and groom prep through to end of the night full coverage - bride and groom prep through to end of first dance and party shots most of the day - bride and groom prep through to reception entrance and decorations other wedding venue*where did you hear about me?*wedding expogooglesocial mediabraeside chapelother (specify in comments)who are you?bridegroommotheranything else you would like me to know?...regardingweddingportraitsthird choice © copyright  - | follett photography | all rights reserved | powered by</td> \n",
       "        <td id=\"T_96ba6408_a0e1_11eb_a819_f2189879e589row2_col3\" class=\"data row2 col3\" >1.19376</td> \n",
       "    </tr>    <tr> \n",
       "        <th id=\"T_96ba6408_a0e1_11eb_a819_f2189879e589level0_row3\" class=\"row_heading level0 row3\" >12419</th> \n",
       "        <td id=\"T_96ba6408_a0e1_11eb_a819_f2189879e589row3_col0\" class=\"data row3 col0\" >weddingallabout.com</td> \n",
       "        <td id=\"T_96ba6408_a0e1_11eb_a819_f2189879e589row3_col1\" class=\"data row3 col1\" >august, 2014 | all about wedding your place for wedding planning. great wedding ideas. archive for august, 2014 while browsing, personalising and ordering your wedding invitations & other wedding stationery may seem like a daunting task, planning ahead and setting out a clear timeline and budget will help you breeze through the process with minimum hassle. with such a range of colours, themes and paper types to choose from, you may find yourself a bit overwhelmed by all the wedding invitation designs available. keep things simple with this quick guide highlighting key points to keep in mind when choosing and personalising your wedding invitations. choosing a theme for your wedding invitations before you get down to ordering your wedding invitations, it’s best to sit down with your fiancee and decide on an overall theme or colour palette for your wedding. this can be anything from subtle wedding styles such as classic vintage to more unusual offbeat wedding themes inspired by your favorite cartoon characters or your other interests as a couple such as rock n’ roll music or a gothic wedding theme.once you have decided on a suitable theme. you can then easily translate this onto your invitation design for instance by using geometric shapes, lavish brooches and metallic gold to create opulent great gatsby wedding invitations for a wedding theme based on the classic novel by f.scott fitzgerald. experiment with different shapes and sizes while traditional wedding invitations are usually square or rectangular shaped, couples after something different are now channeling their creativity into experimenting with unusual shapes such as circular wedding invites, star shaped wedding stationery or even scalloped invitation designs. it’s important to keep in mind that while it may be fun to try out different shapes, you will need to choose a shape that will fit into standard envelope sizes and unusual shaped wedding invites may result in a higher postage charge too. are your wedding invitations easy to read? whether you’re just adding a few personal touches to generic wedding invitations or working with a wedding stationery company to create a customized wedding invitation, it’s important to follow the simple rule of keeping things simple for the wedding invitation design. avoid overcrowding your card by including only key details such as the date, time, location and dress code, while reserving other information like directions, gift registry details etc for separate enclosure cards.following this simple strategy will ensure the wording on your wedding invitations is easy to read, while also adding an overall look of elegance to your invitation card. the general rule of thumb to ensure good readability is to avoid using light inks on light backgrounds and ensure the background used for your wedding invitation is a contrasting color that clearly highlights the wording. avoid using hard-to-read fonts too like complex scripted fonts and use proper font spacing to make it easy on the eye. proof your wedding invitations this is an important part of purchasing your wedding invitations and you should ideally triple-check the proof your stationer sends you and then ask your partner, grammar-savy bridesmaids, friends and others to take a look too- you’d be surprised at what a fresh set of eyes can spot! don’t be in a hurry to approve the invitation proof, instead leisurely glance through it several times to look for any new errors. nicole williams is a passionate blogger who loves digging into the nitty gritty details of wedding planning and simplifying it for brides. intrigued by unique wedding stationery, she regularly blogs on this topic for 20 aug 2014 tags: , , posted in | wedding drink calculator follow us on categories archives all rights reserved</td> \n",
       "        <td id=\"T_96ba6408_a0e1_11eb_a819_f2189879e589row3_col2\" class=\"data row3 col2\" >august,  | all about wedding your place for wedding planning. great wedding ideas. archive for august,  while browsing, personalising and ordering your wedding invitations & other wedding stationery may seem like a daunting task, planning ahead and setting out a clear timeline and budget will help you breeze through the process with minimum hassle. with such a range of colours, themes and paper types to choose from, you may find yourself a bit overwhelmed by all the wedding invitation designs available. keep things simple with this quick guide highlighting key points to keep in mind when choosing and personalising your wedding invitations. choosing a theme for your wedding invitations before you get down to ordering your wedding invitations, it’s best to sit down with your fiancee and decide on an overall theme or colour palette for your wedding. this can be anything from subtle wedding styles such as classic vintage to more unusual offbeat wedding themes inspired by your favorite cartoon characters or your other interests as a couple such as rock n’ roll music or a gothic wedding theme.once you have decided on a suitable theme. you can then easily translate this onto your invitation design for instance by using geometric shapes, lavish brooches and metallic gold to create opulent great gatsby wedding invitations for a wedding theme based on the classic novel by f.scott fitzgerald. experiment with different shapes and sizes while traditional wedding invitations are usually square or rectangular shaped, couples after something different are now channeling their creativity into experimenting with unusual shapes such as circular wedding invites, star shaped wedding stationery or even scalloped invitation designs. it’s important to keep in mind that while it may be fun to try out different shapes, you will need to choose a shape that will fit into standard envelope sizes and unusual shaped wedding invites may result in a higher postage charge too. are your wedding invitations easy to read? whether you’re just adding a few personal touches to generic wedding invitations or working with a wedding stationery company to create a customized wedding invitation, it’s important to follow the simple rule of keeping things simple for the wedding invitation design. avoid overcrowding your card by including only key details such as the date, time, location and dress code, while reserving other information like directions, gift registry details etc for separate enclosure cards.following this simple strategy will ensure the wording on your wedding invitations is easy to read, while also adding an overall look of elegance to your invitation card. the general rule of thumb to ensure good readability is to avoid using light inks on light backgrounds and ensure the background used for your wedding invitation is a contrasting color that clearly highlights the wording. avoid using hard-to-read fonts too like complex scripted fonts and use proper font spacing to make it easy on the eye. proof your wedding invitations this is an important part of purchasing your wedding invitations and you should ideally triple-check the proof your stationer sends you and then ask your partner, grammar-savy bridesmaids, friends and others to take a look too- you’d be surprised at what a fresh set of eyes can spot! don’t be in a hurry to approve the invitation proof, instead leisurely glance through it several times to look for any new errors. nicole williams is a passionate blogger who loves digging into the nitty gritty details of wedding planning and simplifying it for brides. intrigued by unique wedding stationery, she regularly blogs on this topic for  aug  tags: , , posted in | wedding drink calculator follow us on categories archives all rights reserved</td> \n",
       "        <td id=\"T_96ba6408_a0e1_11eb_a819_f2189879e589row3_col3\" class=\"data row3 col3\" >1.21779</td> \n",
       "    </tr>    <tr> \n",
       "        <th id=\"T_96ba6408_a0e1_11eb_a819_f2189879e589level0_row4\" class=\"row_heading level0 row4\" >3418</th> \n",
       "        <td id=\"T_96ba6408_a0e1_11eb_a819_f2189879e589row4_col0\" class=\"data row4 col0\" >dsweddingstudio.com</td> \n",
       "        <td id=\"T_96ba6408_a0e1_11eb_a819_f2189879e589row4_col1\" class=\"data row4 col1\" >ds wedding studio main menu menu toggle we are ds wedding studio ds wedding studio is a team of pro photographers and videographers committed to telling your wedding story in a catchy and cinematic way. we’re a modern brand with active and passionate camera enthusiasts who don’t look back when it comes to photography and videography. we are ds wedding studio ds wedding studio is a team of pro photographers and videographers committed to telling your wedding story in a catchy and cinematic way. we’re a modern brand with active and passionate camera enthusiasts who don’t look back when it comes to photography and videography. remembering every moment when it comes to capturing your special day, no one helps you remember every moment like us. cinematography ds wedding studio is a chicago wedding videography service provider that aims to offer you a wedding video you’ll love forever. we follow a professional approach to all our wedding photography service, and we draw on our years of experience and mastery of video equipment to film and edit detailed wedding videos. photography ds wedding studio specializes in professional and artistic wedding videography and photography in chicago, and we’re proud to let you know that we’re available for your coming wedding event. our photo services are tailored to suit your particular needs, ensuring that we deliver quality pictures you can’t resist. note : all packages are customized accordingly to our couples preferences and requests. we strive to help design the best package for each of our couples during our consultation. photography artwork examples see the best shots, that we’ve arranged into a portfolio what customers say about us cindy ds wedding studio came highly recommended and they exceeded all my expectations! eddie our videographer was very responsive and accommodating with all the questions i had. he was prompt and attentive throughout the wedding day. he worked so hard on the dance floor capturing the spontaneous and special moments. the quality and music of the finished video was excellent! we are grateful to ds wedding studio for capturing one of the most important days in our lives forever. thank you ds wedding studio! jori i searched google to find a videographer because i did not have one in mind. i needed someone in my price range and ds wedding studio had many different package sizes that you could pick based off your price range. when i first reached out to eddie, he responded quickly and answered my long list of questions i had. throughout the process he responded whenever i had a question and called before the wedding to go over final details. i was pleased with our final wedding video! sonja prifti great experience we hired ds wedding studio for my daughter’s baptism party october, 2018. we had worked with eddie before too, for my older child’s baptism party as well. amazing work and dedication and attention!! eddie has the best attitude and knows how to capture all the important and funny moments! he is our guy! will definitely hire him again! thank you ds wedding studio!!! arsiola & uljan very professional and creative. they don’t rush you and are very flexible. we were very, very pleased with ds wedding studio. thank you, eddie! arsiola and uljan desi we were very pleased with the experience of working with ds wedding studio! they were so friendly and professional throughout the entire process. we are very happy with the photographer and videographer. they captured the best and most beautiful moments of our wedding night for us. we are very grateful that we chose to work with ds wedding studio for our wedding. we highly recommend ds wedding studio. check available booking dates name *firstlastemail *phone *date *single line text *paragraph textwebsitesubmit follow us on navigation links portfolio contact info wedding photography & videography in chicagoland area info@dsweddingstudio.com copyright 2019 ds wedding studio all rights reserved .</td> \n",
       "        <td id=\"T_96ba6408_a0e1_11eb_a819_f2189879e589row4_col2\" class=\"data row4 col2\" >ds wedding studio main menu menu toggle we are ds wedding studio ds wedding studio is a team of pro photographers and videographers committed to telling your wedding story in a catchy and cinematic way. we’re a modern brand with active and passionate camera enthusiasts who don’t look back when it comes to photography and videography. we are ds wedding studio ds wedding studio is a team of pro photographers and videographers committed to telling your wedding story in a catchy and cinematic way. we’re a modern brand with active and passionate camera enthusiasts who don’t look back when it comes to photography and videography. remembering every moment when it comes to capturing your special day, no one helps you remember every moment like us. cinematography ds wedding studio is a chicago wedding videography service provider that aims to offer you a wedding video you’ll love forever. we follow a professional approach to all our wedding photography service, and we draw on our years of experience and mastery of video equipment to film and edit detailed wedding videos. photography ds wedding studio specializes in professional and artistic wedding videography and photography in chicago, and we’re proud to let you know that we’re available for your coming wedding event. our photo services are tailored to suit your particular needs, ensuring that we deliver quality pictures you can’t resist. note : all packages are customized accordingly to our couples preferences and requests. we strive to help design the best package for each of our couples during our consultation. photography artwork examples see the best shots, that we’ve arranged into a portfolio what customers say about us cindy ds wedding studio came highly recommended and they exceeded all my expectations! eddie our videographer was very responsive and accommodating with all the questions i had. he was prompt and attentive throughout the wedding day. he worked so hard on the dance floor capturing the spontaneous and special moments. the quality and music of the finished video was excellent! we are grateful to ds wedding studio for capturing one of the most important days in our lives forever. thank you ds wedding studio! jori i searched google to find a videographer because i did not have one in mind. i needed someone in my price range and ds wedding studio had many different package sizes that you could pick based off your price range. when i first reached out to eddie, he responded quickly and answered my long list of questions i had. throughout the process he responded whenever i had a question and called before the wedding to go over final details. i was pleased with our final wedding video! sonja prifti great experience we hired ds wedding studio for my daughter’s baptism party october, . we had worked with eddie before too, for my older child’s baptism party as well. amazing work and dedication and attention!! eddie has the best attitude and knows how to capture all the important and funny moments! he is our guy! will definitely hire him again! thank you ds wedding studio!!! arsiola & uljan very professional and creative. they don’t rush you and are very flexible. we were very, very pleased with ds wedding studio. thank you, eddie! arsiola and uljan desi we were very pleased with the experience of working with ds wedding studio! they were so friendly and professional throughout the entire process. we are very happy with the photographer and videographer. they captured the best and most beautiful moments of our wedding night for us. we are very grateful that we chose to work with ds wedding studio for our wedding. we highly recommend ds wedding studio. check available booking dates name *firstlastemail *phone *date *single line text *paragraph textwebsitesubmit follow us on navigation links portfolio contact info wedding photography & videography in chicagoland area info@dsweddingstudio.com copyright  ds wedding studio all rights reserved .</td> \n",
       "        <td id=\"T_96ba6408_a0e1_11eb_a819_f2189879e589row4_col3\" class=\"data row4 col3\" >1.23386</td> \n",
       "    </tr>    <tr> \n",
       "        <th id=\"T_96ba6408_a0e1_11eb_a819_f2189879e589level0_row5\" class=\"row_heading level0 row5\" >11741</th> \n",
       "        <td id=\"T_96ba6408_a0e1_11eb_a819_f2189879e589row5_col0\" class=\"data row5 col0\" >total-wedding.com</td> \n",
       "        <td id=\"T_96ba6408_a0e1_11eb_a819_f2189879e589row5_col1\" class=\"data row5 col1\" >wedding supplier directory - find wedding suppliers - total wedding menu search our online member directory start searching members here what do you need: accessories bands beauty bridal wear cake caterers dj favours fireworks florists groom wear marquee hire mobile bars photo booths photographers planners seamstresses speech writers stag/hen do stationary sweet carts toast masters transport venues search by location: search now search members browse to find members review members compare members you find contact members connect with members you like are you a wedding supplier or venue? list your company to connect with more customers now about total wedding.com finding local wedding suppliers or venues is easy with total-wedding.com. search our website to instantly connect with businesses. for businesses, our website works as a powerful tool for attracting more clients. about finding wedding suppliers is easy by searching our trusted network of top-rated wedding suppliers. website search support © 2020 all rights reserved × member login* email address* passwordforgot your password? × join our newsletter * i understand that the email i enter will be stored by the website. i understand that i may be contacted by the admin of the website at this email. * answer security question</td> \n",
       "        <td id=\"T_96ba6408_a0e1_11eb_a819_f2189879e589row5_col2\" class=\"data row5 col2\" >wedding supplier directory - find wedding suppliers - total wedding menu search our online member directory start searching members here what do you need: accessories bands beauty bridal wear cake caterers dj favours fireworks florists groom wear marquee hire mobile bars photo booths photographers planners seamstresses speech writers stag/hen do stationary sweet carts toast masters transport venues search by location: search now search members browse to find members review members compare members you find contact members connect with members you like are you a wedding supplier or venue? list your company to connect with more customers now about total wedding.com finding local wedding suppliers or venues is easy with total-wedding.com. search our website to instantly connect with businesses. for businesses, our website works as a powerful tool for attracting more clients. about finding wedding suppliers is easy by searching our trusted network of top-rated wedding suppliers. website search support ©  all rights reserved × member login* email address* passwordforgot your password? × join our newsletter * i understand that the email i enter will be stored by the website. i understand that i may be contacted by the admin of the website at this email. * answer security question</td> \n",
       "        <td id=\"T_96ba6408_a0e1_11eb_a819_f2189879e589row5_col3\" class=\"data row5 col3\" >1.24792</td> \n",
       "    </tr>    <tr> \n",
       "        <th id=\"T_96ba6408_a0e1_11eb_a819_f2189879e589level0_row6\" class=\"row_heading level0 row6\" >2097</th> \n",
       "        <td id=\"T_96ba6408_a0e1_11eb_a819_f2189879e589row6_col0\" class=\"data row6 col0\" >catchloveweddings.com</td> \n",
       "        <td id=\"T_96ba6408_a0e1_11eb_a819_f2189879e589row6_col1\" class=\"data row6 col1\" >new mexico wedding photography & video | catch love weddings photographymorenew mexico wedding photography & videography catch love weddings new mexico wedding photography & videography p:505.340.2187 e:catchloveweddings@gmail.com</td> \n",
       "        <td id=\"T_96ba6408_a0e1_11eb_a819_f2189879e589row6_col2\" class=\"data row6 col2\" >new mexico wedding photography & video | catch love weddings photographymorenew mexico wedding photography & videography catch love weddings new mexico wedding photography & videography p:.. e:catchloveweddings@gmail.com</td> \n",
       "        <td id=\"T_96ba6408_a0e1_11eb_a819_f2189879e589row6_col3\" class=\"data row6 col3\" >1.26067</td> \n",
       "    </tr>    <tr> \n",
       "        <th id=\"T_96ba6408_a0e1_11eb_a819_f2189879e589level0_row7\" class=\"row_heading level0 row7\" >9942</th> \n",
       "        <td id=\"T_96ba6408_a0e1_11eb_a819_f2189879e589row7_col0\" class=\"data row7 col0\" >scottdavidphotography.com</td> \n",
       "        <td id=\"T_96ba6408_a0e1_11eb_a819_f2189879e589row7_col1\" class=\"data row7 col1\" >scott david photography - premier orlando wedding and lifestyle photographer premier orlando wedding and lifestyle photographer main content innovative.personal.timeless what i do weddings trusted by over 400 couples in the last 12 years engagements celebrate your love with an engagement session in a location of your choice. family family, senior, children, new borns: celebrate each important event with priceless images. reviews morgan and adam history center wedding thank you so much for all your hard work to make our wedding day amazing!! you took photos that will last a lifetime and they look awesome too. thanks again. danielle and alex royal crest room wedding you truly did an amazing job. alex and i could not have asked for a better photographer to capture our special day! each and every picture captures us perfectly. thank you so much for all of your hard work! chadd and amanda tuscawilla cc wedding thank you for the beautiful memories! we couldn't have picked a better photographer! amanda and drew port orange wedding there are so many amazing shots that it is hard to choose our favorites! megan and tim ana maria island wedding our pictures came out better than we could have imagined and you captured us in our silly moments too! angie s. mother of the bride you are very talented!! thanks for making our daughter's wedding gorgeous!!! royal crest room and your photography were a hit!! mark and maria alaqua wedding many of our guests commented on how it was so nice to see a photographer that did not get it the way, in many cases scott stopped to take photos or waited while our guests took some of their own. he captured every magical moment of our special day and even some we would not have thought of. footer cell 407.687.9555  </td> \n",
       "        <td id=\"T_96ba6408_a0e1_11eb_a819_f2189879e589row7_col2\" class=\"data row7 col2\" >scott david photography - premier orlando wedding and lifestyle photographer premier orlando wedding and lifestyle photographer main content innovative.personal.timeless what i do weddings trusted by over  couples in the last  years engagements celebrate your love with an engagement session in a location of your choice. family family, senior, children, new borns: celebrate each important event with priceless images. reviews morgan and adam history center wedding thank you so much for all your hard work to make our wedding day amazing!! you took photos that will last a lifetime and they look awesome too. thanks again. danielle and alex royal crest room wedding you truly did an amazing job. alex and i could not have asked for a better photographer to capture our special day! each and every picture captures us perfectly. thank you so much for all of your hard work! chadd and amanda tuscawilla cc wedding thank you for the beautiful memories! we couldn't have picked a better photographer! amanda and drew port orange wedding there are so many amazing shots that it is hard to choose our favorites! megan and tim ana maria island wedding our pictures came out better than we could have imagined and you captured us in our silly moments too! angie s. mother of the bride you are very talented!! thanks for making our daughter's wedding gorgeous!!! royal crest room and your photography were a hit!! mark and maria alaqua wedding many of our guests commented on how it was so nice to see a photographer that did not get it the way, in many cases scott stopped to take photos or waited while our guests took some of their own. he captured every magical moment of our special day and even some we would not have thought of. footer cell ..  </td> \n",
       "        <td id=\"T_96ba6408_a0e1_11eb_a819_f2189879e589row7_col3\" class=\"data row7 col3\" >1.26261</td> \n",
       "    </tr>    <tr> \n",
       "        <th id=\"T_96ba6408_a0e1_11eb_a819_f2189879e589level0_row8\" class=\"row_heading level0 row8\" >8469</th> \n",
       "        <td id=\"T_96ba6408_a0e1_11eb_a819_f2189879e589row8_col0\" class=\"data row8 col0\" >ohsheglows.com</td> \n",
       "        <td id=\"T_96ba6408_a0e1_11eb_a819_f2189879e589row8_col1\" class=\"data row8 col1\" >wedding — oh she glows close close close close close close wedding january 15, 2009 angela (oh she glows) after almost 8 years of dating, i married my best friend on august 31, 2008. here are some of our favourite wedding pictures below. click on each thumbnail for the full gallery. 30 photos 18 photos 22 photos 27 photos to go back to the wedding home page, . you can also read about my (opens to another blog) story and our . be sure to also check out our page documenting our mediterranean cruise. | | | { 16 comments… read them below or } gorgeous! where is that beautiful purple dress from? what a beautiful wedding and honeymoon. you look so *glowing* and truly in love! these pictures are absolutely stunning. your wedding looks simply gorgeous… inspiration for me (some day)! alexandra you had your wedding at the exact same place where i recently went for another wedding! it is absolutely gorgeous! i love the one of you and your bridesmaids laying down! so cute! gorgeous! i love how candid the shots are. i’m coming up on my 1 year anniversary…oh, how the time flies! talia hey, was your wedding cake vegan? if so would you be able to tell me the bakery that made it. thanks talia nope it wasn’t…i wasn’t a vegan at the time. i found these online that might help you: and so gorgeous! i love looking at wedding dresses ash awesome pictures. your day looked amazing! good luck to you and your husband! s.v. these are such beautiful pictures. they brought tears to my eyes. i don’t really know you guys, but when i see these pictures it is so easy to feel happy for you :) what a beautiful wedding, and your pictures are simply amazing. i hope your still as happy today a you were then. gorgeous pictures, you look so happy! who was your wedding photographer? i didn’t see a name anywhere.. thanks!! hi jen, dave biesse shot our wedding (and engagement photos) elizabeth hi angela, i really love your blog and trying out all the delicious recipes! i tend to prefer vegan dishes and my husband is more of a meat and potatoes kind of a guy. not sure if you already posted something like this, but i thought it would be cool to see a post that lists your husband’s all time favorite recipes from the blog:) thanks, elizabeth very nice photos. leave a comment name * e-mail * website tried this recipe?rate it: join over 1 million followers!recent posts trending now oh she glows for dinner …get your oven ready available now! x © 2008 - 2020 glo bakery corporation. all rights reserved. | |</td> \n",
       "        <td id=\"T_96ba6408_a0e1_11eb_a819_f2189879e589row8_col2\" class=\"data row8 col2\" >wedding — oh she glows close close close close close close wedding january ,  angela (oh she glows) after almost  years of dating, i married my best friend on august , . here are some of our favourite wedding pictures below. click on each thumbnail for the full gallery.  photos  photos  photos  photos to go back to the wedding home page, . you can also read about my (opens to another blog) story and our . be sure to also check out our page documenting our mediterranean cruise. | | | {  comments… read them below or } gorgeous! where is that beautiful purple dress from? what a beautiful wedding and honeymoon. you look so *glowing* and truly in love! these pictures are absolutely stunning. your wedding looks simply gorgeous… inspiration for me (some day)! alexandra you had your wedding at the exact same place where i recently went for another wedding! it is absolutely gorgeous! i love the one of you and your bridesmaids laying down! so cute! gorgeous! i love how candid the shots are. i’m coming up on my  year anniversary…oh, how the time flies! talia hey, was your wedding cake vegan? if so would you be able to tell me the bakery that made it. thanks talia nope it wasn’t…i wasn’t a vegan at the time. i found these online that might help you: and so gorgeous! i love looking at wedding dresses ash awesome pictures. your day looked amazing! good luck to you and your husband! s.v. these are such beautiful pictures. they brought tears to my eyes. i don’t really know you guys, but when i see these pictures it is so easy to feel happy for you :) what a beautiful wedding, and your pictures are simply amazing. i hope your still as happy today a you were then. gorgeous pictures, you look so happy! who was your wedding photographer? i didn’t see a name anywhere.. thanks!! hi jen, dave biesse shot our wedding (and engagement photos) elizabeth hi angela, i really love your blog and trying out all the delicious recipes! i tend to prefer vegan dishes and my husband is more of a meat and potatoes kind of a guy. not sure if you already posted something like this, but i thought it would be cool to see a post that lists your husband’s all time favorite recipes from the blog:) thanks, elizabeth very nice photos. leave a comment name * e-mail * website tried this recipe?rate it: join over  million followers!recent posts trending now oh she glows for dinner …get your oven ready available now! x ©  -  glo bakery corporation. all rights reserved. | |</td> \n",
       "        <td id=\"T_96ba6408_a0e1_11eb_a819_f2189879e589row8_col3\" class=\"data row8 col3\" >1.26729</td> \n",
       "    </tr>    <tr> \n",
       "        <th id=\"T_96ba6408_a0e1_11eb_a819_f2189879e589level0_row9\" class=\"row_heading level0 row9\" >5878</th> \n",
       "        <td id=\"T_96ba6408_a0e1_11eb_a819_f2189879e589row9_col0\" class=\"data row9 col0\" >itheefilm.com</td> \n",
       "        <td id=\"T_96ba6408_a0e1_11eb_a819_f2189879e589row9_col1\" class=\"data row9 col1\" >savannah wedding videography - i thee film contact name email phone number what can we do for you? wedding location (city, state) wedding date how did you find us? select one... google wedding wire the knot facebook instagram referral other we want to make ourselves available to you any time. send us a message or give us a phone call. we’d love to hear from you! whether you have a wedding video inquiry or just a general comment, feel free to get in touch with us about anything at all. nothing is too small or too big. before you leave, make sure to check out our recent and the latest posts in our . we hope to talk with you soon. additional info bert jolley (912) 308-0224 tim kurtz (405) 802-4828 copyright 2020 i thee film</td> \n",
       "        <td id=\"T_96ba6408_a0e1_11eb_a819_f2189879e589row9_col2\" class=\"data row9 col2\" >savannah wedding videography - i thee film contact name email phone number what can we do for you? wedding location (city, state) wedding date how did you find us? select one... google wedding wire the knot facebook instagram referral other we want to make ourselves available to you any time. send us a message or give us a phone call. we’d love to hear from you! whether you have a wedding video inquiry or just a general comment, feel free to get in touch with us about anything at all. nothing is too small or too big. before you leave, make sure to check out our recent and the latest posts in our . we hope to talk with you soon. additional info bert jolley () - tim kurtz () - copyright  i thee film</td> \n",
       "        <td id=\"T_96ba6408_a0e1_11eb_a819_f2189879e589row9_col3\" class=\"data row9 col3\" >1.26907</td> \n",
       "    </tr>    <tr> \n",
       "        <th id=\"T_96ba6408_a0e1_11eb_a819_f2189879e589level0_row10\" class=\"row_heading level0 row10\" >8090</th> \n",
       "        <td id=\"T_96ba6408_a0e1_11eb_a819_f2189879e589row10_col0\" class=\"data row10 col0\" >nataliesolankeweddings.co.uk</td> \n",
       "        <td id=\"T_96ba6408_a0e1_11eb_a819_f2189879e589row10_col1\" class=\"data row10 col1\" >spring wedding menu tag: spring wedding wedding & event planner covering essex & suffolk specialising in outdoor events.tipis, marquee and yurts in a field, in your back garden, farm or in a barn.no wedding, couple or marriage is the same, so let your creativity run wild! posted in , , tagged , , , , , , , , , , , , , , , , , , , , , , , , , , , , , , , , , , , , , , , , , , , , , , , , , , , , , , , , , , , , , , , , , , , , , , , , , , , , , , post to</td> \n",
       "        <td id=\"T_96ba6408_a0e1_11eb_a819_f2189879e589row10_col2\" class=\"data row10 col2\" >spring wedding menu tag: spring wedding wedding & event planner covering essex & suffolk specialising in outdoor events.tipis, marquee and yurts in a field, in your back garden, farm or in a barn.no wedding, couple or marriage is the same, so let your creativity run wild! posted in , , tagged , , , , , , , , , , , , , , , , , , , , , , , , , , , , , , , , , , , , , , , , , , , , , , , , , , , , , , , , , , , , , , , , , , , , , , , , , , , , , , post to</td> \n",
       "        <td id=\"T_96ba6408_a0e1_11eb_a819_f2189879e589row10_col3\" class=\"data row10 col3\" >1.26953</td> \n",
       "    </tr>    <tr> \n",
       "        <th id=\"T_96ba6408_a0e1_11eb_a819_f2189879e589level0_row11\" class=\"row_heading level0 row11\" >9622</th> \n",
       "        <td id=\"T_96ba6408_a0e1_11eb_a819_f2189879e589row11_col0\" class=\"data row11 col0\" >rockpaperscissorsphotography.com</td> \n",
       "        <td id=\"T_96ba6408_a0e1_11eb_a819_f2189879e589row11_col1\" class=\"data row11 col1\" >rock paper scissors | cebu wedding photographer » fun fresh editorial wedding photography page contents page contents fun fresh editorial wedding photography shoot from home lifestyle food photography by rock wedding planner: t carcel events planning by tonette wedding planner: ralyn sevilla makeup: raisa bercede hair & makeup: emi ayag cebu wedding photographer bohol wedding photographer: rock paper scissors wedding planner: bbf events ph by leah doris doria stylist> geof lagria videographer> franz arrogante wedding coordinator: t carcel events planning stylist: hair and makeup: nicko dela peña wedding coordinator: debut event planner: tcarcel events planning by tonette 1 … © 2017 rock paper scissors photography | international destination wedding photographer| by</td> \n",
       "        <td id=\"T_96ba6408_a0e1_11eb_a819_f2189879e589row11_col2\" class=\"data row11 col2\" >rock paper scissors | cebu wedding photographer » fun fresh editorial wedding photography page contents page contents fun fresh editorial wedding photography shoot from home lifestyle food photography by rock wedding planner: t carcel events planning by tonette wedding planner: ralyn sevilla makeup: raisa bercede hair & makeup: emi ayag cebu wedding photographer bohol wedding photographer: rock paper scissors wedding planner: bbf events ph by leah doris doria stylist> geof lagria videographer> franz arrogante wedding coordinator: t carcel events planning stylist: hair and makeup: nicko dela peña wedding coordinator: debut event planner: tcarcel events planning by tonette  … ©  rock paper scissors photography | international destination wedding photographer| by</td> \n",
       "        <td id=\"T_96ba6408_a0e1_11eb_a819_f2189879e589row11_col3\" class=\"data row11 col3\" >1.27329</td> \n",
       "    </tr>    <tr> \n",
       "        <th id=\"T_96ba6408_a0e1_11eb_a819_f2189879e589level0_row12\" class=\"row_heading level0 row12\" >2026</th> \n",
       "        <td id=\"T_96ba6408_a0e1_11eb_a819_f2189879e589row12_col0\" class=\"data row12 col0\" >carinventorytogo.com</td> \n",
       "        <td id=\"T_96ba6408_a0e1_11eb_a819_f2189879e589row12_col1\" class=\"data row12 col1\" >car inventory to go car inventory to go what is car inventory to go? car inventory to go is a hosted inventory tracking system - this means no software to install or servers needed! car inventory to go is the mobile and online solution that streamlines the tracking of your costs, expenses and sales as well as making reporting easier. who uses it? any car wholesale and retailer who spends too much time on paperwork or doesn't have timely financial information. what is included? iphone/ipad app (click link): android app (click link): same features from phones are available on the web setup of your companyall state reporting and custom reporting text or phone us at:1-314-339-6966 free 30-day trial watch the video features adding cars check cars into inventory by scanning a vin bar code and using the camera on your iphone/ipad or android or manually enter the vin with a click of a button, the vin is decoded to year, make, model, style and engine type easily assign purchase date, amount and purchased from and stock into inventory reports interface to quick books © for less time and money spent on accounting print standard sales documents (buyers guide, bill of sale, notice of sale, notice of lien) automate state reporting for dealers licensed in missouri and texas (but can easily customize for other states as well) aged inventory, commission and other reports also available watch these videos on reporting options: reports you can run from the iphone/ipad/android how to interface data to quick books © how to submit dealership required reporting to the state of missouri car details assign other costs per car and sales to track profitability and commissions automatically print buyers guide when stocking in cars (for printers with email address) marking cars sold assign sold to and address (for reporting) assign sold amount add trade in information, payoff company, fees and taxes, and warranty sales if applicable enter lien information enter expenses there are many ways to enter expenses: one car at a time, apply bill from one vendor to many cars easily, or track non-car expenses such as utilities, rent, marketing or many other items select vendor, amount, and date can have many methods of payments including check, cash, credit card, wire or the ability to mark as pay later deposits/pay later entering expenses as incurred rather than as paid allows you to track expenses more accurately. then later you can easily enter check information for accounting entering deposits for the day is also necessary for accounting about us contact us email: support@carinventorytogo.comphone: 1-314-339-6966 we are a small car dealership ourselves - with similar difficulties as most dealers. it became increasingly difficult to collect all the expenses and apply them to the correct cars so that we knew the total cost at the time of sale. we looked for a product that could help us collect the car details timely and easily from anywhere. when we didnt find anything for used car inventory management that met our needs, we decided to develop a system ourselves. we have been using car inventory to go since june 2012. it is an easy-to-use system so that smaller car companies feel like they have a full time accounting staff like the bigger car companies without the cost. since the data is stored in the “cloud”, all the salespeople instantly have access to the same data. our key success points are: before after accounting 16 hours 4 hours state reporting 2 hours 30 minutes number of times data entered 4-5 times 1 time analysis little analysis was performedbecause data was not easy to review a click of the button to show aged inventory and profitability sales documents hand written and time consuming couple of mouse clicks and printed car inventory to go met our needs so well, that we decided to sell it to other car companies, who probably have the same frustrations we did. please check out the rest of the website for more information and download the app from the apple store or google play store to take for a test drive! pricing unlimited users $199 per month * setup iphone/ipad and android application web application web storage/backup of all data bank level security (ssl) state reporting ** quick books © interface other accounting interfaces review required other reports review required * 60 day money back guarantee ** simply scan and send clean copies of reports and details on any electronic uploads. system requirements: web application browsers: internet explorer 7 or higher fire fox safari google chrome to print reports: adobe reader © version 10 or higher ie setting to allow pop-ups from this website iphone/ipad app operating system: version 8.0 or higher hardware: 5 iphone or later android app operating system: lollipop (version 5.0) or higher requires zxing © application installed for vin scan feature if you get a message \"sorry, the camera encountered a problem. you may need to restart the device.\",please go to settings - apps - find car inventory to go - select permissions and switch camera to on. once you have decided that car inventory to go is the best answer for you, click on the free trial link to create your unique user id and password. we will contact you about payment 30 days later. free trial create an id from one of the two options on this page. then download the app from the apple store or google play store. or use the web interface by clicking on this button login option 1 - create a new company with only your data. create user id option 2 - enter/edit existing test data. not sure about signing up? just login and review test data already entered. you can also enter new cars or play with other features until you are ready to start your trial memebership. user id: test password: test tips buy here pay here if you are selling cars under a buy-here-pay-here plan, car inventory to go can help in a couple of ways. we can setup an email to send you a reminder to contact the customer 3 days before payment is due. just send an email to support@carinventorytogo.com with your company name, your stocknumber, the payment day of the month, the payment amount and the email address. you can review items setup by logging into the web, click on admin and then select buy here pay here. when you enter the car as sold for the first time, on the iphone, click the multiple deposits switch. enter the first payment amount. then every month, enter each payment. it will show a running total of the amount remaining. on the web, when entering the sold amount, click on cancel when asked if you want to apply the whole purchase amount to one deposit. then click on add deposit to add the first deposit. both these items should help with your used car inventory management. managing aged inventory managing costs is an important process in any business but smaller independent dealers have different challenges. used car inventory management is critical to make sure your money isnt sitting around and not making you money. some dealers have a strict policy to get rid of any cars over 45 days old. that can be limiting knowing that some of that time you could be missing the title or that other more pressing cars were put first for your mechanics time. in reviewing your older cars, you should keep these points in mind: if the car is sitting around so you dont realize an eventual loss, remember your first loss is your best loss. also the longer you hold onto a car, the less its worth. sell the car to free up the money so this car quits depreciating and the next car can be profitable. if the car is simply in the wrong season (for example a convertible, suv or van), it makes sense to consider the cost of keeping it if the profit difference is worthy. make sure you know the physical location of each car. its easy to forgot that you put a car in a body shop and out of sight is out of mind. discuss the delays with the shop and get that car back on your sales list asap. car inventory or car accounting systems like car inventory to go can help generate aging reports easily so this information is readily available. font size you can make the font size on the phone bigger. select settings from the main menu then select preferences select your prefered font size and press save all screens will now be at the new size. texting feature to send car highlights via text: select the car in car details screen select the top right \"forward\" icon select the last option - text details once selected, your texting screen appears select who to send it to and add or change any details in the message. then just press send. adding reporting the quickest reporting can be viewed on the phone including inventory aging and commissions. many of the reports will need to be run from the web/computer system including specific state reports. if we do not have your states reports, we need copies of the forms. the methods you can send them to us are: send the url link to a blank form from your state website to our email at support@carinventorytogo.com scan the document and email it to us at support@carinventorytogo.com mail us the form directly to 330 portico court, chesterfield, mo 63017 it is important we get an unfolded and clean copy as any marks will appear on the report you print. then our team will pull in the data youve already entered and you can print the forms without hand-writing information. once we receive the form, we will send you an email with the estimated time it will take before you can use it (usually between 1 day and 1 week depending on our volume of requests). all the state reporting is free and included with your monthly rate. if youd like a different report for commissions or other items, email us the details and we will also send you a time estimate. if it is a simple request, the cost is also free and included with your monthly rate. closing commissions simple commissions are set up already. however you will want to close this either monthly or annually. all of this activity needs to be done from the web/computer. you can also run prior months commissions from the web if needed. here are the steps: log into web at www.carinventorytogo.com select “sales and other reports” icon. select the “commissions report” tab. select either “commissions without pack” or “commissions with pack” report. (note: this may require you to enter the same login user id and password again). select the end of month date and press run report. this report will show all cars that have not been closed out previous. review and print. when you want to close the month, press the \"mark cars as commission paid\" button at the bottom of the screen. after you close the month, you will need to run the “commissions for prior months” report and enter the same date to see this information again. reminders if you have the latest iphone/ipad car inventory to go version 4.0, there is a new feature called reminders. it is on the main screen. it is the same functionality as on your calendar app. it allows you to set alerts monthly or annually as reminders. examples of alerts are to remind yourself to slow down on buying cars in the fall or start to pick up buying cars before tax season. printing buyers guides automatically many of the printers have the ability to have an email address. this will allow us to automatically print buyers guides every time you stock in a car. here are the links for some printer manufacturers: epson ©: hp ©: follow their steps to create an account, set up your printer and set up the email address. if you need help, email us and we can help you or the printer company will be able to help you. other manufacturers may have this ability but we have tested with these two. then send us the email you created and we will get those setup for you. this will print the front of the buyer’s guide that you can tape in the window to comply with federal law more easily. mileage tips for tax deductions one of the best tax deductions for car wholesalers is deducting all the miles you drive for work. once you qualify for the irs regulations, you still need to provide documentation of miles driven to your tax accountant. they would prefer dates, from and to locations and the number of miles between those locations. most of us wouldnt have the time and patience to record this manually. this is where other iphone apps can help to eliminate the hassle, but provide enough information that even your tax accountant will be happy. one application is mile iq. it records everywhere you go through the location feature on your phone. once a month, it emails you to update if your trips have been personal or for business. it is simple to make these updates and provide additional detail too. then at the end of the year, you can download this information for your tax accountant for the whole year. chances are that they have been underestimating the miles driven by you and this could help increase your tax deductions. some of these applications have a cost - this one is a monthly charge. (disclaimer: of course, you should review everything with your tax accountants to make sure you comply with irs rules.) posts copyright © 2012</td> \n",
       "        <td id=\"T_96ba6408_a0e1_11eb_a819_f2189879e589row12_col2\" class=\"data row12 col2\" >car inventory to go car inventory to go what is car inventory to go? car inventory to go is a hosted inventory tracking system - this means no software to install or servers needed! car inventory to go is the mobile and online solution that streamlines the tracking of your costs, expenses and sales as well as making reporting easier. who uses it? any car wholesale and retailer who spends too much time on paperwork or doesn't have timely financial information. what is included? iphone/ipad app (click link): android app (click link): same features from phones are available on the web setup of your companyall state reporting and custom reporting text or phone us at:--- free -day trial watch the video features adding cars check cars into inventory by scanning a vin bar code and using the camera on your iphone/ipad or android or manually enter the vin with a click of a button, the vin is decoded to year, make, model, style and engine type easily assign purchase date, amount and purchased from and stock into inventory reports interface to quick books © for less time and money spent on accounting print standard sales documents (buyers guide, bill of sale, notice of sale, notice of lien) automate state reporting for dealers licensed in missouri and texas (but can easily customize for other states as well) aged inventory, commission and other reports also available watch these videos on reporting options: reports you can run from the iphone/ipad/android how to interface data to quick books © how to submit dealership required reporting to the state of missouri car details assign other costs per car and sales to track profitability and commissions automatically print buyers guide when stocking in cars (for printers with email address) marking cars sold assign sold to and address (for reporting) assign sold amount add trade in information, payoff company, fees and taxes, and warranty sales if applicable enter lien information enter expenses there are many ways to enter expenses: one car at a time, apply bill from one vendor to many cars easily, or track non-car expenses such as utilities, rent, marketing or many other items select vendor, amount, and date can have many methods of payments including check, cash, credit card, wire or the ability to mark as pay later deposits/pay later entering expenses as incurred rather than as paid allows you to track expenses more accurately. then later you can easily enter check information for accounting entering deposits for the day is also necessary for accounting about us contact us email: support@carinventorytogo.comphone: --- we are a small car dealership ourselves - with similar difficulties as most dealers. it became increasingly difficult to collect all the expenses and apply them to the correct cars so that we knew the total cost at the time of sale. we looked for a product that could help us collect the car details timely and easily from anywhere. when we didnt find anything for used car inventory management that met our needs, we decided to develop a system ourselves. we have been using car inventory to go since june . it is an easy-to-use system so that smaller car companies feel like they have a full time accounting staff like the bigger car companies without the cost. since the data is stored in the “cloud”, all the salespeople instantly have access to the same data. our key success points are: before after accounting  hours  hours state reporting  hours  minutes number of times data entered - times  time analysis little analysis was performedbecause data was not easy to review a click of the button to show aged inventory and profitability sales documents hand written and time consuming couple of mouse clicks and printed car inventory to go met our needs so well, that we decided to sell it to other car companies, who probably have the same frustrations we did. please check out the rest of the website for more information and download the app from the apple store or google play store to take for a test drive! pricing unlimited users $ per month * setup iphone/ipad and android application web application web storage/backup of all data bank level security (ssl) state reporting ** quick books © interface other accounting interfaces review required other reports review required *  day money back guarantee ** simply scan and send clean copies of reports and details on any electronic uploads. system requirements: web application browsers: internet explorer  or higher fire fox safari google chrome to print reports: adobe reader © version  or higher ie setting to allow pop-ups from this website iphone/ipad app operating system: version . or higher hardware:  iphone or later android app operating system: lollipop (version .) or higher requires zxing © application installed for vin scan feature if you get a message \"sorry, the camera encountered a problem. you may need to restart the device.\",please go to settings - apps - find car inventory to go - select permissions and switch camera to on. once you have decided that car inventory to go is the best answer for you, click on the free trial link to create your unique user id and password. we will contact you about payment  days later. free trial create an id from one of the two options on this page. then download the app from the apple store or google play store. or use the web interface by clicking on this button login option  - create a new company with only your data. create user id option  - enter/edit existing test data. not sure about signing up? just login and review test data already entered. you can also enter new cars or play with other features until you are ready to start your trial memebership. user id: test password: test tips buy here pay here if you are selling cars under a buy-here-pay-here plan, car inventory to go can help in a couple of ways. we can setup an email to send you a reminder to contact the customer  days before payment is due. just send an email to support@carinventorytogo.com with your company name, your stocknumber, the payment day of the month, the payment amount and the email address. you can review items setup by logging into the web, click on admin and then select buy here pay here. when you enter the car as sold for the first time, on the iphone, click the multiple deposits switch. enter the first payment amount. then every month, enter each payment. it will show a running total of the amount remaining. on the web, when entering the sold amount, click on cancel when asked if you want to apply the whole purchase amount to one deposit. then click on add deposit to add the first deposit. both these items should help with your used car inventory management. managing aged inventory managing costs is an important process in any business but smaller independent dealers have different challenges. used car inventory management is critical to make sure your money isnt sitting around and not making you money. some dealers have a strict policy to get rid of any cars over  days old. that can be limiting knowing that some of that time you could be missing the title or that other more pressing cars were put first for your mechanics time. in reviewing your older cars, you should keep these points in mind: if the car is sitting around so you dont realize an eventual loss, remember your first loss is your best loss. also the longer you hold onto a car, the less its worth. sell the car to free up the money so this car quits depreciating and the next car can be profitable. if the car is simply in the wrong season (for example a convertible, suv or van), it makes sense to consider the cost of keeping it if the profit difference is worthy. make sure you know the physical location of each car. its easy to forgot that you put a car in a body shop and out of sight is out of mind. discuss the delays with the shop and get that car back on your sales list asap. car inventory or car accounting systems like car inventory to go can help generate aging reports easily so this information is readily available. font size you can make the font size on the phone bigger. select settings from the main menu then select preferences select your prefered font size and press save all screens will now be at the new size. texting feature to send car highlights via text: select the car in car details screen select the top right \"forward\" icon select the last option - text details once selected, your texting screen appears select who to send it to and add or change any details in the message. then just press send. adding reporting the quickest reporting can be viewed on the phone including inventory aging and commissions. many of the reports will need to be run from the web/computer system including specific state reports. if we do not have your states reports, we need copies of the forms. the methods you can send them to us are: send the url link to a blank form from your state website to our email at support@carinventorytogo.com scan the document and email it to us at support@carinventorytogo.com mail us the form directly to  portico court, chesterfield, mo  it is important we get an unfolded and clean copy as any marks will appear on the report you print. then our team will pull in the data youve already entered and you can print the forms without hand-writing information. once we receive the form, we will send you an email with the estimated time it will take before you can use it (usually between  day and  week depending on our volume of requests). all the state reporting is free and included with your monthly rate. if youd like a different report for commissions or other items, email us the details and we will also send you a time estimate. if it is a simple request, the cost is also free and included with your monthly rate. closing commissions simple commissions are set up already. however you will want to close this either monthly or annually. all of this activity needs to be done from the web/computer. you can also run prior months commissions from the web if needed. here are the steps: log into web at www.carinventorytogo.com select “sales and other reports” icon. select the “commissions report” tab. select either “commissions without pack” or “commissions with pack” report. (note: this may require you to enter the same login user id and password again). select the end of month date and press run report. this report will show all cars that have not been closed out previous. review and print. when you want to close the month, press the \"mark cars as commission paid\" button at the bottom of the screen. after you close the month, you will need to run the “commissions for prior months” report and enter the same date to see this information again. reminders if you have the latest iphone/ipad car inventory to go version ., there is a new feature called reminders. it is on the main screen. it is the same functionality as on your calendar app. it allows you to set alerts monthly or annually as reminders. examples of alerts are to remind yourself to slow down on buying cars in the fall or start to pick up buying cars before tax season. printing buyers guides automatically many of the printers have the ability to have an email address. this will allow us to automatically print buyers guides every time you stock in a car. here are the links for some printer manufacturers: epson ©: hp ©: follow their steps to create an account, set up your printer and set up the email address. if you need help, email us and we can help you or the printer company will be able to help you. other manufacturers may have this ability but we have tested with these two. then send us the email you created and we will get those setup for you. this will print the front of the buyer’s guide that you can tape in the window to comply with federal law more easily. mileage tips for tax deductions one of the best tax deductions for car wholesalers is deducting all the miles you drive for work. once you qualify for the irs regulations, you still need to provide documentation of miles driven to your tax accountant. they would prefer dates, from and to locations and the number of miles between those locations. most of us wouldnt have the time and patience to record this manually. this is where other iphone apps can help to eliminate the hassle, but provide enough information that even your tax accountant will be happy. one application is mile iq. it records everywhere you go through the location feature on your phone. once a month, it emails you to update if your trips have been personal or for business. it is simple to make these updates and provide additional detail too. then at the end of the year, you can download this information for your tax accountant for the whole year. chances are that they have been underestimating the miles driven by you and this could help increase your tax deductions. some of these applications have a cost - this one is a monthly charge. (disclaimer: of course, you should review everything with your tax accountants to make sure you comply with irs rules.) posts copyright © </td> \n",
       "        <td id=\"T_96ba6408_a0e1_11eb_a819_f2189879e589row12_col3\" class=\"data row12 col3\" >1.28269</td> \n",
       "    </tr>    <tr> \n",
       "        <th id=\"T_96ba6408_a0e1_11eb_a819_f2189879e589level0_row13\" class=\"row_heading level0 row13\" >12421</th> \n",
       "        <td id=\"T_96ba6408_a0e1_11eb_a819_f2189879e589row13_col0\" class=\"data row13 col0\" >weddingdesign.info</td> \n",
       "        <td id=\"T_96ba6408_a0e1_11eb_a819_f2189879e589row13_col1\" class=\"data row13 col1\" >five things you didn't know about white textured wedding ﻿ five things you didn’t know about white textured wedding cake five things you didn’t know about white textured wedding cake 2 years ago five things you didn’t know about white textured wedding cake – white textured wedding cake | encouraged to help the blog site, in this particular time period i will provide you with with regards to keyword. now, this is actually the first photograph: textured wedding cakes – wedding cakes – white textured wedding cake | white textured wedding cake think about image above? will be in which awesome???. if you think maybe therefore, i’l m provide you with a few photograph all over again under: so, if you like to get all these magnificent images about (five things you didn’t know about white textured wedding cake), simply click save link to store the shots for your personal computer. these are available for down load, if you’d prefer and wish to take it, just click save symbol on the page, and it’ll be instantly down loaded in your notebook computer.} finally if you want to find unique and recent photo related to (five things you didn’t know about white textured wedding cake), please follow us on google plus or book mark this website, we attempt our best to provide regular up grade with fresh and new pics. we do hope you like keeping right here. for many up-dates and recent news about (five things you didn’t know about white textured wedding cake) pics, please kindly  here you are at our website, contentabove (five things you didn’t know about white textured wedding cake) published . today we’re pleased to announce that we have discovered an awfullyinteresting topicto be pointed out, namely (five things you didn’t know about white textured wedding cake) some people looking for specifics of(five things you didn’t know about white textured wedding cake) and certainly one of them is you, is not it?cakes + desserts photos – white textured cake with sugar .. | white textured wedding cakea trend we’re loving: textured wedding cakes | martha .. | white textured wedding cakesarah + jean | wedding cake | textured wedding cakes .. | white textured wedding cakewhite textured cake | tammy odell photography .. | white textured wedding cakewedding cake: beautiful white wedding cakes in various .. | white textured wedding cakethe smarter way to wed | textured wedding cakes, buttercream .. | white textured wedding cakegrand, all white textured wedding cake with modern handmade .. | white textured wedding cakerustic chic white textured wedding cake trio topped with .. | white textured wedding cake related posts may 7, 2018 october 4, 2017 october 17, 2017 october 17, 2017 november 9, 2017 november 14, 2017 october 14, 2017 october 23, 2017 march 20, 2018 add comment save my name, email, and website in this browser for the next time i comment. recent post popular post 0 0 0 0 0 0 0 0 0 0 copyright © 2020. theme by</td> \n",
       "        <td id=\"T_96ba6408_a0e1_11eb_a819_f2189879e589row13_col2\" class=\"data row13 col2\" >five things you didn't know about white textured wedding ﻿ five things you didn’t know about white textured wedding cake five things you didn’t know about white textured wedding cake  years ago five things you didn’t know about white textured wedding cake – white textured wedding cake | encouraged to help the blog site, in this particular time period i will provide you with with regards to keyword. now, this is actually the first photograph: textured wedding cakes – wedding cakes – white textured wedding cake | white textured wedding cake think about image above? will be in which awesome???. if you think maybe therefore, i’l m provide you with a few photograph all over again under: so, if you like to get all these magnificent images about (five things you didn’t know about white textured wedding cake), simply click save link to store the shots for your personal computer. these are available for down load, if you’d prefer and wish to take it, just click save symbol on the page, and it’ll be instantly down loaded in your notebook computer.} finally if you want to find unique and recent photo related to (five things you didn’t know about white textured wedding cake), please follow us on google plus or book mark this website, we attempt our best to provide regular up grade with fresh and new pics. we do hope you like keeping right here. for many up-dates and recent news about (five things you didn’t know about white textured wedding cake) pics, please kindly  here you are at our website, contentabove (five things you didn’t know about white textured wedding cake) published . today we’re pleased to announce that we have discovered an awfullyinteresting topicto be pointed out, namely (five things you didn’t know about white textured wedding cake) some people looking for specifics of(five things you didn’t know about white textured wedding cake) and certainly one of them is you, is not it?cakes + desserts photos – white textured cake with sugar .. | white textured wedding cakea trend we’re loving: textured wedding cakes | martha .. | white textured wedding cakesarah + jean | wedding cake | textured wedding cakes .. | white textured wedding cakewhite textured cake | tammy odell photography .. | white textured wedding cakewedding cake: beautiful white wedding cakes in various .. | white textured wedding cakethe smarter way to wed | textured wedding cakes, buttercream .. | white textured wedding cakegrand, all white textured wedding cake with modern handmade .. | white textured wedding cakerustic chic white textured wedding cake trio topped with .. | white textured wedding cake related posts may ,  october ,  october ,  october ,  november ,  november ,  october ,  october ,  march ,  add comment save my name, email, and website in this browser for the next time i comment. recent post popular post           copyright © . theme by</td> \n",
       "        <td id=\"T_96ba6408_a0e1_11eb_a819_f2189879e589row13_col3\" class=\"data row13 col3\" >1.28287</td> \n",
       "    </tr>    <tr> \n",
       "        <th id=\"T_96ba6408_a0e1_11eb_a819_f2189879e589level0_row14\" class=\"row_heading level0 row14\" >5996</th> \n",
       "        <td id=\"T_96ba6408_a0e1_11eb_a819_f2189879e589row14_col0\" class=\"data row14 col0\" >jbcounsellingandsandplay.co.uk</td> \n",
       "        <td id=\"T_96ba6408_a0e1_11eb_a819_f2189879e589row14_col1\" class=\"data row14 col1\" >jb counselling & sandplay “often the hands will solve a mystery that the intellect has struggled with in vain” carl jung thank you for taking the time to visit my website. my name is james barker and i work as a counsellor and a jungian sandplay therapist in lincoln, uk. in my counselling practice i work with children, adolescents and adults from a number of different walks of life. i also work for a number of different counselling organizations in and around lincolnshire. my office is based close to the centre of lincoln with car parking. contact us we're not around right now. but you can send us an email and we'll get back to you, asap. send start typing and press enter to search</td> \n",
       "        <td id=\"T_96ba6408_a0e1_11eb_a819_f2189879e589row14_col2\" class=\"data row14 col2\" >jb counselling & sandplay “often the hands will solve a mystery that the intellect has struggled with in vain” carl jung thank you for taking the time to visit my website. my name is james barker and i work as a counsellor and a jungian sandplay therapist in lincoln, uk. in my counselling practice i work with children, adolescents and adults from a number of different walks of life. i also work for a number of different counselling organizations in and around lincolnshire. my office is based close to the centre of lincoln with car parking. contact us we're not around right now. but you can send us an email and we'll get back to you, asap. send start typing and press enter to search</td> \n",
       "        <td id=\"T_96ba6408_a0e1_11eb_a819_f2189879e589row14_col3\" class=\"data row14 col3\" >1.28432</td> \n",
       "    </tr>    <tr> \n",
       "        <th id=\"T_96ba6408_a0e1_11eb_a819_f2189879e589level0_row15\" class=\"row_heading level0 row15\" >9187</th> \n",
       "        <td id=\"T_96ba6408_a0e1_11eb_a819_f2189879e589row15_col0\" class=\"data row15 col0\" >prombook.co.uk</td> \n",
       "        <td id=\"T_96ba6408_a0e1_11eb_a819_f2189879e589row15_col1\" class=\"data row15 col1\" >prombook | the hottest site for all things prom prombook.co.uk | | | | | | girls guys getting there welcome to prombook.co.uk we are your ultimate prom resource, covering every element of the planning process leading up to your prom! we're here to help you every step of the way so you can achieve the look you really want, on a budget you can afford. plus, we'll help you find all the shops in your area that can help you look your very best at your prom! frocks that rock! we'll help you find the perfect prom dress! find a hot prom suit to make you look cool! get the perfect hair and beauty look! get the perfect hair and beauty look! prombook © 2009 | | | | |</td> \n",
       "        <td id=\"T_96ba6408_a0e1_11eb_a819_f2189879e589row15_col2\" class=\"data row15 col2\" >prombook | the hottest site for all things prom prombook.co.uk | | | | | | girls guys getting there welcome to prombook.co.uk we are your ultimate prom resource, covering every element of the planning process leading up to your prom! we're here to help you every step of the way so you can achieve the look you really want, on a budget you can afford. plus, we'll help you find all the shops in your area that can help you look your very best at your prom! frocks that rock! we'll help you find the perfect prom dress! find a hot prom suit to make you look cool! get the perfect hair and beauty look! get the perfect hair and beauty look! prombook ©  | | | | |</td> \n",
       "        <td id=\"T_96ba6408_a0e1_11eb_a819_f2189879e589row15_col3\" class=\"data row15 col3\" >1.28547</td> \n",
       "    </tr>    <tr> \n",
       "        <th id=\"T_96ba6408_a0e1_11eb_a819_f2189879e589level0_row16\" class=\"row_heading level0 row16\" >7064</th> \n",
       "        <td id=\"T_96ba6408_a0e1_11eb_a819_f2189879e589row16_col0\" class=\"data row16 col0\" >luxuryweddinginvites.com</td> \n",
       "        <td id=\"T_96ba6408_a0e1_11eb_a819_f2189879e589row16_col1\" class=\"data row16 col1\" >rsvp cards archives - luxury wedding invites rsvp cards archives - luxury wedding invites | / / / / rsvp cards rsvp cards showing the single result sort by popularity sort by latest sort by price: low to high sort by price: high to low our matching products feature helps you find the coordinating reply card to your chosen wedding invitation design. the reply cards or rsvp cards should be included in your wedding invitation mailing. so make sure it is smaller in size to fit in your wedding invitation envelope. it provides an easy way for your guests to mail back a response to you. then you will know whether they are attending your wedding, how many guests in their party will be coming and sometimes their meal choice. reply cards can be in the form of a flat card with an envelope for mailing or a postcard. zazzle, the printer, provides plain white envelopes with the flat card rsvps you order. to address these with your return address you can purchase address labels to match. don't forget to check out the fabulous customizable matching postage stamps you will need to pre-pay the postage for your rsvp envelopes. order all your items at once and receive discounts from our printer. the zazzle volume discounts apply per product type. if you order 100 wedding invitations, 100 reply cards and 100 reception cards and the are all of the same type of product, in this case \"flat cards\", your volume discount will be based on the 300 you ordered. style (7) color (7) (7) (7) (7) (7) (7) designer (7) size (7) about me hi! my name is elke clarke, and through my , i have been a top zazzle designer since 2007. in 2014, i was awarded diamond seller status by zazzle. this means that my products are consistently amongst the top-selling products in their categories, specifically wedding stationery and accessories. i am so happy that brides and grooms around the world chose my wedding designs to announce their special day and more. i created luxury wedding invites to showcase both my wedding invitation collections and those of other amazing artists on zazzle. the other purpose of this site is to help couples easily find the matching products they would need for all aspects of their wedding journey, from announcing your engagement with save the date cards to sending out your thank you cards as newlyweds. i would love to get your feedback. contact elke clarke @luxury wedding invites name email address message message | * this item is already in one of your wishlistsrsvp cards archives - luxury wedding invites rsvp cards archives - luxury wedding invites | / / / / rsvp cards rsvp cards no products were found matching your selection. style (2) color (1) (1) (2) (2) designer (2) size (2) about me hi! my name is elke clarke, and through my , i have been a top zazzle designer since 2007. in 2014, i was awarded diamond seller status by zazzle. this means that my products are consistently amongst the top-selling products in their categories, specifically wedding stationery and accessories. i am so happy that brides and grooms around the world chose my wedding designs to announce their special day and more. i created luxury wedding invites to showcase both my wedding invitation collections and those of other amazing artists on zazzle. the other purpose of this site is to help couples easily find the matching products they would need for all aspects of their wedding journey, from announcing your engagement with save the date cards to sending out your thank you cards as newlyweds. i would love to get your feedback. contact elke clarke @luxury wedding invites name email address message message | * this item is already in one of your wishlists</td> \n",
       "        <td id=\"T_96ba6408_a0e1_11eb_a819_f2189879e589row16_col2\" class=\"data row16 col2\" >rsvp cards archives - luxury wedding invites rsvp cards archives - luxury wedding invites | / / / / rsvp cards rsvp cards showing the single result sort by popularity sort by latest sort by price: low to high sort by price: high to low our matching products feature helps you find the coordinating reply card to your chosen wedding invitation design. the reply cards or rsvp cards should be included in your wedding invitation mailing. so make sure it is smaller in size to fit in your wedding invitation envelope. it provides an easy way for your guests to mail back a response to you. then you will know whether they are attending your wedding, how many guests in their party will be coming and sometimes their meal choice. reply cards can be in the form of a flat card with an envelope for mailing or a postcard. zazzle, the printer, provides plain white envelopes with the flat card rsvps you order. to address these with your return address you can purchase address labels to match. don't forget to check out the fabulous customizable matching postage stamps you will need to pre-pay the postage for your rsvp envelopes. order all your items at once and receive discounts from our printer. the zazzle volume discounts apply per product type. if you order  wedding invitations,  reply cards and  reception cards and the are all of the same type of product, in this case \"flat cards\", your volume discount will be based on the  you ordered. style () color () () () () () () designer () size () about me hi! my name is elke clarke, and through my , i have been a top zazzle designer since . in , i was awarded diamond seller status by zazzle. this means that my products are consistently amongst the top-selling products in their categories, specifically wedding stationery and accessories. i am so happy that brides and grooms around the world chose my wedding designs to announce their special day and more. i created luxury wedding invites to showcase both my wedding invitation collections and those of other amazing artists on zazzle. the other purpose of this site is to help couples easily find the matching products they would need for all aspects of their wedding journey, from announcing your engagement with save the date cards to sending out your thank you cards as newlyweds. i would love to get your feedback. contact elke clarke @luxury wedding invites name email address message message | * this item is already in one of your wishlistsrsvp cards archives - luxury wedding invites rsvp cards archives - luxury wedding invites | / / / / rsvp cards rsvp cards no products were found matching your selection. style () color () () () () designer () size () about me hi! my name is elke clarke, and through my , i have been a top zazzle designer since . in , i was awarded diamond seller status by zazzle. this means that my products are consistently amongst the top-selling products in their categories, specifically wedding stationery and accessories. i am so happy that brides and grooms around the world chose my wedding designs to announce their special day and more. i created luxury wedding invites to showcase both my wedding invitation collections and those of other amazing artists on zazzle. the other purpose of this site is to help couples easily find the matching products they would need for all aspects of their wedding journey, from announcing your engagement with save the date cards to sending out your thank you cards as newlyweds. i would love to get your feedback. contact elke clarke @luxury wedding invites name email address message message | * this item is already in one of your wishlists</td> \n",
       "        <td id=\"T_96ba6408_a0e1_11eb_a819_f2189879e589row16_col3\" class=\"data row16 col3\" >1.2856</td> \n",
       "    </tr>    <tr> \n",
       "        <th id=\"T_96ba6408_a0e1_11eb_a819_f2189879e589level0_row17\" class=\"row_heading level0 row17\" >7023</th> \n",
       "        <td id=\"T_96ba6408_a0e1_11eb_a819_f2189879e589row17_col0\" class=\"data row17 col0\" >loyaltynissanrichmond.com</td> \n",
       "        <td id=\"T_96ba6408_a0e1_11eb_a819_f2189879e589row17_col1\" class=\"data row17 col1\" >loyalty nissan | nissan dealership in chester, va × monday 9 am - 9 pm giving you more starts with a lifetime of savings on every new car and many used cars, too. lifetimepowertrainwarranty lfl-white-engine lifetimeengineguarantee lifetimeoil & filterchanges lifetimestateinspections lifetimeemergencytowing shop new all vehiclescarscrossovers & suvssports carstruckscommercial see what people are saying about k p.3/20/2020 great customer service! tina lewis was great, i would definitely recommend her! to anyone who is looking for a great car go see her, she will get you done.ken b.3/17/2020 i had an oil change and tire rotation, with the amount of people in the waiting room i figured hour and a half, i sat and played a game on my kindle for a little while and in less than... i had an oil change and tire rotation, with the amount of people in the waiting room i figured hour and a half, i sat and played a game on my kindle for a little while and in less than an hour i was ready to go. so yes i was happy! carlos r.3/17/2020 fast and friendly service.wanda w.3/17/2020 i was able to purchase a vehicle that fit all my needs and the lifetime warranties was more of a reason to feel at ease with the purchase.brian c.3/16/2020 treat you wellchris b.3/16/2020 oil change and tire rotationsadonna r.3/16/2020 sherrod was great. he was patient and very kind , and knowledgeable able the car.trica p.3/16/2020 i had great experience it was so good i bought a car thanks anthony he is the saleman that help me.deja g.3/09/2020 christian z. was the salesperson who helped me find and purchase my first car and i must say that he definitely made my first car buying experience very easy and comfortable. he answered every question and concern i had and... christian z. was the salesperson who helped me find and purchase my first car and i must say that he definitely made my first car buying experience very easy and comfortable. he answered every question and concern i had and made sure i was satisfied with everything before leaving! definitely 10/10 service! thanks again christian ginny s.3/09/2020 recently took car in because inspection was due. i also needed an oil change. i made my appointment and dropped the car off the night before. i filled out the little packet asking to be able to pick... recently took car in because inspection was due. i also needed an oil change. i made my appointment and dropped the car off the night before. i filled out the little packet asking to be able to pick up my car by 3pm. i was called that morning to confirm the service that i needed and asked if i would like the courtesy car wash. i was called before noon to let me know that my car was completed with no issues to address. when i went to pick up my car, they offered to pull it up for me, which i declined. the car was cleaned as offered and ready to go. it cost me nothing. that is awesome. rob t.3/09/2020 trey delivered our new rogue on his day offbrandon j.3/09/2020 my last visit was great, i didn't have to wait too long and my advisor was very helpful!brian j.3/09/2020 everyone was nice to me and my grandma and charles harris went above and beyond to get me in my new ride and the finance team was awesomejohn d.3/02/2020 all work was done as requestedglenn w.3/02/2020 great customer service welcome to anybody can sell you a car loyalty gives you more welcome to loyalty, an all-new richmond nissan dealership built on trust and transparency. commitment to customers and community. and giving you more. like a good honest deal on new and used cars. fair value for your trade. hassle-free service. and , our extra value program. it’s good for as long as you own your loyalty vehicle, and it comes at no charge with every new car and many used cars we sell. lifetime loyalties lifetime powertrain warranty lifetime engine guarantee lifetime oil & filter changes lifetime state inspections lifetime towing within 50 miles 7-day exchange when you buy a car at loyalty, we want to make sure you’re 100% satisfied which is why we offer customers a 7-day exchange. if you don’t love your new car, bring it back. and we’ll exchange it for a car of equal or greater value. if we can help while you’re visiting us online, please feel free to contact us . we’d love to answer any questions you have or schedule a test drive. thanks for visiting. we hope to see you soon. - the loyalty nissan teamcontactus@loyaltyauto.com home of your lifetime loyalties dealer venom apis stay connected call us get directions quick links copyright © loyalty nissan. advanced automotive dealer websites by: dealer venom get $500 offthe purchase of any vehicle.*can be combined with other offers.name* first last email* phone*emailthis field is for validation purposes and should be left unchanged.</td> \n",
       "        <td id=\"T_96ba6408_a0e1_11eb_a819_f2189879e589row17_col2\" class=\"data row17 col2\" >loyalty nissan | nissan dealership in chester, va × monday  am -  pm giving you more starts with a lifetime of savings on every new car and many used cars, too. lifetimepowertrainwarranty lfl-white-engine lifetimeengineguarantee lifetimeoil & filterchanges lifetimestateinspections lifetimeemergencytowing shop new all vehiclescarscrossovers & suvssports carstruckscommercial see what people are saying about k p.// great customer service! tina lewis was great, i would definitely recommend her! to anyone who is looking for a great car go see her, she will get you done.ken b.// i had an oil change and tire rotation, with the amount of people in the waiting room i figured hour and a half, i sat and played a game on my kindle for a little while and in less than... i had an oil change and tire rotation, with the amount of people in the waiting room i figured hour and a half, i sat and played a game on my kindle for a little while and in less than an hour i was ready to go. so yes i was happy! carlos r.// fast and friendly service.wanda w.// i was able to purchase a vehicle that fit all my needs and the lifetime warranties was more of a reason to feel at ease with the purchase.brian c.// treat you wellchris b.// oil change and tire rotationsadonna r.// sherrod was great. he was patient and very kind , and knowledgeable able the car.trica p.// i had great experience it was so good i bought a car thanks anthony he is the saleman that help me.deja g.// christian z. was the salesperson who helped me find and purchase my first car and i must say that he definitely made my first car buying experience very easy and comfortable. he answered every question and concern i had and... christian z. was the salesperson who helped me find and purchase my first car and i must say that he definitely made my first car buying experience very easy and comfortable. he answered every question and concern i had and made sure i was satisfied with everything before leaving! definitely / service! thanks again christian ginny s.// recently took car in because inspection was due. i also needed an oil change. i made my appointment and dropped the car off the night before. i filled out the little packet asking to be able to pick... recently took car in because inspection was due. i also needed an oil change. i made my appointment and dropped the car off the night before. i filled out the little packet asking to be able to pick up my car by pm. i was called that morning to confirm the service that i needed and asked if i would like the courtesy car wash. i was called before noon to let me know that my car was completed with no issues to address. when i went to pick up my car, they offered to pull it up for me, which i declined. the car was cleaned as offered and ready to go. it cost me nothing. that is awesome. rob t.// trey delivered our new rogue on his day offbrandon j.// my last visit was great, i didn't have to wait too long and my advisor was very helpful!brian j.// everyone was nice to me and my grandma and charles harris went above and beyond to get me in my new ride and the finance team was awesomejohn d.// all work was done as requestedglenn w.// great customer service welcome to anybody can sell you a car loyalty gives you more welcome to loyalty, an all-new richmond nissan dealership built on trust and transparency. commitment to customers and community. and giving you more. like a good honest deal on new and used cars. fair value for your trade. hassle-free service. and , our extra value program. it’s good for as long as you own your loyalty vehicle, and it comes at no charge with every new car and many used cars we sell. lifetime loyalties lifetime powertrain warranty lifetime engine guarantee lifetime oil & filter changes lifetime state inspections lifetime towing within  miles -day exchange when you buy a car at loyalty, we want to make sure you’re % satisfied which is why we offer customers a -day exchange. if you don’t love your new car, bring it back. and we’ll exchange it for a car of equal or greater value. if we can help while you’re visiting us online, please feel free to contact us . we’d love to answer any questions you have or schedule a test drive. thanks for visiting. we hope to see you soon. - the loyalty nissan teamcontactus@loyaltyauto.com home of your lifetime loyalties dealer venom apis stay connected call us get directions quick links copyright © loyalty nissan. advanced automotive dealer websites by: dealer venom get $ offthe purchase of any vehicle.*can be combined with other offers.name* first last email* phone*emailthis field is for validation purposes and should be left unchanged.</td> \n",
       "        <td id=\"T_96ba6408_a0e1_11eb_a819_f2189879e589row17_col3\" class=\"data row17 col3\" >1.28625</td> \n",
       "    </tr>    <tr> \n",
       "        <th id=\"T_96ba6408_a0e1_11eb_a819_f2189879e589level0_row18\" class=\"row_heading level0 row18\" >130</th> \n",
       "        <td id=\"T_96ba6408_a0e1_11eb_a819_f2189879e589row18_col0\" class=\"data row18 col0\" >3wheelerhirenorthyorkshire.co.uk</td> \n",
       "        <td id=\"T_96ba6408_a0e1_11eb_a819_f2189879e589row18_col1\" class=\"data row18 col1\" >morgan 3 wheeler hire north yorkshire - car hire, accommodation #m3whny car hire coming soon#m3whny car hire coming soon#m3whny car hire coming soon#m3whny car hire coming soon#m3whny car hire coming soonmorgan 3 wheeler hire north yorkshire offers bespoke car hire packages with or without accommodation #m3whnythe morgan 3 wheelerthe morgan 3 wheelerthe morgan 3 wheelerwhen did you last consider a journey by car as an adventure? the morgan 3 wheeler is guaranteed to bring back the fun and passion to motoring. fix your hamper to the luggage rack, start the engine on the push button and choose your destination.horbutt barnthe morgan 3 wheelerthe morgan 3 wheelerlocated at the end of a quiet lane in idyllic rural north yorkshire, horbutt barn is the perfect destination for your special celebration country escape. linen from the white company, tempur pillows and experienced airbnb superhosts will make your stay relaxing and memorable. north yorkshirethe morgan 3 wheelernorth yorkshirefour miles from wetherby just off the a1(m), m3whny are perfectly placed for your open-top adventure. head to the north yorkshire moors or the yorkshire dales for the views, castles, stately homes and the open road. register interestcontact usnameemail*sendm3whnyfancy the m3w just for a day? maybe it's a special occasion, a gift for a loved one, or just a treat to get away for a couple of nights, when a full weekend with the morgan and somewhere to stay is required. whatever your trip, m3whnyorks are able to offer bespoke packages starting at just £495 including 2 nights accommodation from summer 2020. contact us today and start your adventure!morgan 3 wheeler hire north yorkshireyo26 8dy, cattal, north yorkshire, england, united kingdom copyright © 2018 morgan 3 wheeler hire north yorkshire - all rights reserved.powered by godaddy</td> \n",
       "        <td id=\"T_96ba6408_a0e1_11eb_a819_f2189879e589row18_col2\" class=\"data row18 col2\" >morgan  wheeler hire north yorkshire - car hire, accommodation #mwhny car hire coming soon#mwhny car hire coming soon#mwhny car hire coming soon#mwhny car hire coming soon#mwhny car hire coming soonmorgan  wheeler hire north yorkshire offers bespoke car hire packages with or without accommodation #mwhnythe morgan  wheelerthe morgan  wheelerthe morgan  wheelerwhen did you last consider a journey by car as an adventure? the morgan  wheeler is guaranteed to bring back the fun and passion to motoring. fix your hamper to the luggage rack, start the engine on the push button and choose your destination.horbutt barnthe morgan  wheelerthe morgan  wheelerlocated at the end of a quiet lane in idyllic rural north yorkshire, horbutt barn is the perfect destination for your special celebration country escape. linen from the white company, tempur pillows and experienced airbnb superhosts will make your stay relaxing and memorable. north yorkshirethe morgan  wheelernorth yorkshirefour miles from wetherby just off the a(m), mwhny are perfectly placed for your open-top adventure. head to the north yorkshire moors or the yorkshire dales for the views, castles, stately homes and the open road. register interestcontact usnameemail*sendmwhnyfancy the mw just for a day? maybe it's a special occasion, a gift for a loved one, or just a treat to get away for a couple of nights, when a full weekend with the morgan and somewhere to stay is required. whatever your trip, mwhnyorks are able to offer bespoke packages starting at just £ including  nights accommodation from summer . contact us today and start your adventure!morgan  wheeler hire north yorkshireyo dy, cattal, north yorkshire, england, united kingdom copyright ©  morgan  wheeler hire north yorkshire - all rights reserved.powered by godaddy</td> \n",
       "        <td id=\"T_96ba6408_a0e1_11eb_a819_f2189879e589row18_col3\" class=\"data row18 col3\" >1.28626</td> \n",
       "    </tr>    <tr> \n",
       "        <th id=\"T_96ba6408_a0e1_11eb_a819_f2189879e589level0_row19\" class=\"row_heading level0 row19\" >11538</th> \n",
       "        <td id=\"T_96ba6408_a0e1_11eb_a819_f2189879e589row19_col0\" class=\"data row19 col0\" >theweddingdude.com</td> \n",
       "        <td id=\"T_96ba6408_a0e1_11eb_a819_f2189879e589row19_col1\" class=\"data row19 col1\" >contact – the wedding dude wedding celebrations menu contact would you like more information? you can download my pdf that will give you much more information about ceremonies here, together with information about my prices. just put your details into the form below and you will be able to download an information pack.</td> \n",
       "        <td id=\"T_96ba6408_a0e1_11eb_a819_f2189879e589row19_col2\" class=\"data row19 col2\" >contact – the wedding dude wedding celebrations menu contact would you like more information? you can download my pdf that will give you much more information about ceremonies here, together with information about my prices. just put your details into the form below and you will be able to download an information pack.</td> \n",
       "        <td id=\"T_96ba6408_a0e1_11eb_a819_f2189879e589row19_col3\" class=\"data row19 col3\" >1.28788</td> \n",
       "    </tr></tbody> \n",
       "</table> "
      ],
      "text/plain": [
       "<pandas.io.formats.style.Styler at 0x13ca2bb38>"
      ]
     },
     "execution_count": 66,
     "metadata": {},
     "output_type": "execute_result"
    }
   ],
   "source": [
    "# non-unique index errors\n",
    "# 14 is a good example\n",
    "# 21 can we stop output after distance goes from 3 to 10.583?\n",
    "# 22 is lots of similar basic e\n",
    "generate_raw_content_cluster_df(64)"
   ]
  },
  {
   "cell_type": "code",
   "execution_count": 101,
   "metadata": {},
   "outputs": [],
   "source": [
    "avg_list = []\n",
    "variance_list = []\n",
    "\n",
    "for i in range(tfidf_matrix.shape[0]):\n",
    "    avg, variance = intracluster_similarity(i)\n",
    "    avg_list.append(avg)\n",
    "    variance_list.append(variance)\n",
    "    #print()"
   ]
  },
  {
   "cell_type": "code",
   "execution_count": 102,
   "metadata": {},
   "outputs": [
    {
     "data": {
      "text/plain": [
       "([<matplotlib.axis.XTick at 0x132a5a3c8>,\n",
       "  <matplotlib.axis.XTick at 0x132a60cc0>,\n",
       "  <matplotlib.axis.XTick at 0x132a60a20>,\n",
       "  <matplotlib.axis.XTick at 0x13656e128>,\n",
       "  <matplotlib.axis.XTick at 0x13656e6d8>,\n",
       "  <matplotlib.axis.XTick at 0x13656eba8>,\n",
       "  <matplotlib.axis.XTick at 0x136578128>,\n",
       "  <matplotlib.axis.XTick at 0x136578588>,\n",
       "  <matplotlib.axis.XTick at 0x136578a90>,\n",
       "  <matplotlib.axis.XTick at 0x136578e80>,\n",
       "  <matplotlib.axis.XTick at 0x13656e550>],\n",
       " <a list of 11 Text xticklabel objects>)"
      ]
     },
     "execution_count": 102,
     "metadata": {},
     "output_type": "execute_result"
    },
    {
     "data": {
      "image/png": "[encoded data removed]",
      "text/plain": [
       "<Figure size 432x288 with 1 Axes>"
      ]
     },
     "metadata": {
      "needs_background": "light"
     },
     "output_type": "display_data"
    }
   ],
   "source": [
    "# neighbors = 10\n",
    "bins= [0,0.1,0.2,0.3,0.4,0.5,0.6,0.7,0.8,0.9,1.0]\n",
    "plt.hist(avg_list, bins=bins, edgecolor=\"k\")\n",
    "plt.xticks(bins)"
   ]
  },
  {
   "cell_type": "code",
   "execution_count": 79,
   "metadata": {
    "scrolled": false
   },
   "outputs": [
    {
     "data": {
      "text/plain": [
       "([<matplotlib.axis.XTick at 0x127eb3ba8>,\n",
       "  <matplotlib.axis.XTick at 0x137b32e48>,\n",
       "  <matplotlib.axis.XTick at 0x137b32cf8>,\n",
       "  <matplotlib.axis.XTick at 0x1303252e8>,\n",
       "  <matplotlib.axis.XTick at 0x130325898>,\n",
       "  <matplotlib.axis.XTick at 0x130325d68>,\n",
       "  <matplotlib.axis.XTick at 0x130332278>,\n",
       "  <matplotlib.axis.XTick at 0x130332748>,\n",
       "  <matplotlib.axis.XTick at 0x130332c18>,\n",
       "  <matplotlib.axis.XTick at 0x1336c5198>,\n",
       "  <matplotlib.axis.XTick at 0x1336c5668>],\n",
       " <a list of 11 Text xticklabel objects>)"
      ]
     },
     "execution_count": 79,
     "metadata": {},
     "output_type": "execute_result"
    },
    {
     "data": {
      "image/png": "[encoded data removed]",
      "text/plain": [
       "<Figure size 432x288 with 1 Axes>"
      ]
     },
     "metadata": {
      "needs_background": "light"
     },
     "output_type": "display_data"
    }
   ],
   "source": [
    "# neighbors = 20\n",
    "bins= [0,0.1,0.2,0.3,0.4,0.5,0.6,0.7,0.8,0.9,1.0]\n",
    "plt.hist(avg_list, bins=bins, edgecolor=\"k\")\n",
    "plt.xticks(bins)"
   ]
  },
  {
   "cell_type": "code",
   "execution_count": 103,
   "metadata": {},
   "outputs": [
    {
     "data": {
      "text/plain": [
       "([<matplotlib.axis.XTick at 0x137254908>,\n",
       "  <matplotlib.axis.XTick at 0x137254240>,\n",
       "  <matplotlib.axis.XTick at 0x137254160>,\n",
       "  <matplotlib.axis.XTick at 0x1365aa7f0>,\n",
       "  <matplotlib.axis.XTick at 0x1365aada0>,\n",
       "  <matplotlib.axis.XTick at 0x1365b52b0>,\n",
       "  <matplotlib.axis.XTick at 0x1365aa940>,\n",
       "  <matplotlib.axis.XTick at 0x1365b5978>,\n",
       "  <matplotlib.axis.XTick at 0x1365b5dd8>,\n",
       "  <matplotlib.axis.XTick at 0x1365b3320>,\n",
       "  <matplotlib.axis.XTick at 0x1365b3828>],\n",
       " <a list of 11 Text xticklabel objects>)"
      ]
     },
     "execution_count": 103,
     "metadata": {},
     "output_type": "execute_result"
    },
    {
     "data": {
      "image/png": "[encoded data removed]",
      "text/plain": [
       "<Figure size 432x288 with 1 Axes>"
      ]
     },
     "metadata": {
      "needs_background": "light"
     },
     "output_type": "display_data"
    }
   ],
   "source": [
    "# neighbors = 10\n",
    "bins= [0,0.1,0.2,0.3,0.4,0.5,0.6,0.7,0.8,0.9,1.0]\n",
    "plt.hist(variance_list, bins=bins, edgecolor=\"k\")\n",
    "plt.xticks(bins)"
   ]
  },
  {
   "cell_type": "code",
   "execution_count": 80,
   "metadata": {},
   "outputs": [
    {
     "data": {
      "text/plain": [
       "([<matplotlib.axis.XTick at 0x133727d30>,\n",
       "  <matplotlib.axis.XTick at 0x1337276a0>,\n",
       "  <matplotlib.axis.XTick at 0x133727358>,\n",
       "  <matplotlib.axis.XTick at 0x1337b3da0>,\n",
       "  <matplotlib.axis.XTick at 0x1337c0208>,\n",
       "  <matplotlib.axis.XTick at 0x1337c06d8>,\n",
       "  <matplotlib.axis.XTick at 0x1337c0be0>,\n",
       "  <matplotlib.axis.XTick at 0x1337c02b0>,\n",
       "  <matplotlib.axis.XTick at 0x1337c6240>,\n",
       "  <matplotlib.axis.XTick at 0x1337c6748>,\n",
       "  <matplotlib.axis.XTick at 0x1337c6c50>],\n",
       " <a list of 11 Text xticklabel objects>)"
      ]
     },
     "execution_count": 80,
     "metadata": {},
     "output_type": "execute_result"
    },
    {
     "data": {
      "image/png": "[encoded data removed]",
      "text/plain": [
       "<Figure size 432x288 with 1 Axes>"
      ]
     },
     "metadata": {
      "needs_background": "light"
     },
     "output_type": "display_data"
    }
   ],
   "source": [
    "# neighbors = 20\n",
    "bins= [0,0.1,0.2,0.3,0.4,0.5,0.6,0.7,0.8,0.9,1.0]\n",
    "plt.hist(variance_list, bins=bins, edgecolor=\"k\")\n",
    "plt.xticks(bins)"
   ]
  },
  {
   "cell_type": "code",
   "execution_count": 81,
   "metadata": {},
   "outputs": [
    {
     "name": "stdout",
     "output_type": "stream",
     "text": [
      "12956 12956\n"
     ]
    }
   ],
   "source": [
    "print(len(avg_list), len(variance_list))"
   ]
  },
  {
   "cell_type": "markdown",
   "metadata": {},
   "source": [
    "## Intercluster Similarity"
   ]
  },
  {
   "cell_type": "code",
   "execution_count": 82,
   "metadata": {},
   "outputs": [],
   "source": [
    "def calculate_centroid(index):\n",
    "    cluster_centroid = tfidf_matrix[index]\n",
    "    for i in indices[index][1:]:\n",
    "        cluster_centroid = np.add(cluster_centroid, tfidf_matrix[i])\n",
    "    return cluster_centroid/len(indices[index][1:])"
   ]
  },
  {
   "cell_type": "code",
   "execution_count": 104,
   "metadata": {},
   "outputs": [],
   "source": [
    "index_centroid = dict()\n",
    "for i in range(tfidf_matrix.shape[0]):\n",
    "    index_centroid[i] = calculate_centroid(i)"
   ]
  },
  {
   "cell_type": "code",
   "execution_count": 86,
   "metadata": {},
   "outputs": [
    {
     "data": {
      "text/plain": [
       "<1x182058 sparse matrix of type '<class 'numpy.float64'>'\n",
       "\twith 35 stored elements in Compressed Sparse Row format>"
      ]
     },
     "execution_count": 86,
     "metadata": {},
     "output_type": "execute_result"
    }
   ],
   "source": [
    "index_centroid[0]"
   ]
  },
  {
   "cell_type": "code",
   "execution_count": 24,
   "metadata": {},
   "outputs": [],
   "source": [
    "#centroid_centroid_distance = {}\n",
    "#for i in range(tfidf_matrix.shape[0]):\n",
    "#    centroid_centroid_distance[i] = {}\n",
    "#    for j in range(tfidf_matrix.shape[0]):\n",
    "#        if i < j:\n",
    "#            centroid_centroid_distance[i][j] = np.linalg.norm(index_centroid[i]-index_centroid[j])"
   ]
  },
  {
   "cell_type": "code",
   "execution_count": 25,
   "metadata": {},
   "outputs": [],
   "source": [
    "#centroid_centroid_distance"
   ]
  },
  {
   "cell_type": "code",
   "execution_count": 92,
   "metadata": {},
   "outputs": [],
   "source": [
    "from random import sample\n",
    "def sample_mean_intercluster_dist(sample_size):\n",
    "    indices_sample = sample(range(tfidf_matrix.shape[0]),sample_size)\n",
    "    centroid_centroid_distance = {}\n",
    "    for i in indices_sample:\n",
    "        for j in indices_sample:\n",
    "            if i < j:\n",
    "                key = str(i) + \"::\" + str(j)\n",
    "                centroid_centroid_distance[key] = np.linalg.norm(index_centroid[i].toarray()-index_centroid[j].toarray())\n",
    "    return np.array(list(centroid_centroid_distance.values())).mean()"
   ]
  },
  {
   "cell_type": "markdown",
   "metadata": {},
   "source": [
    "# neighbors = 10"
   ]
  },
  {
   "cell_type": "markdown",
   "metadata": {},
   "source": [
    "## 10 documents sample"
   ]
  },
  {
   "cell_type": "code",
   "execution_count": 105,
   "metadata": {},
   "outputs": [
    {
     "name": "stdout",
     "output_type": "stream",
     "text": [
      "[1.0265882660850332, 0.8893661258181672, 0.9221959795016821, 0.991759429592663, 1.0456249348921955]\n",
      "\n",
      "0.9751069471779482\n"
     ]
    }
   ],
   "source": [
    "sample_10_data = [sample_mean_intercluster_dist(10) for i in range(5)]\n",
    "print(sample_10_data)\n",
    "print()\n",
    "print(np.average(sample_10_data))"
   ]
  },
  {
   "cell_type": "markdown",
   "metadata": {},
   "source": [
    "## 100 documents sample"
   ]
  },
  {
   "cell_type": "code",
   "execution_count": 106,
   "metadata": {},
   "outputs": [
    {
     "name": "stdout",
     "output_type": "stream",
     "text": [
      "[0.9427808675433548, 0.9863879483761095, 0.921370224692027, 0.9858748839241905, 1.0308106594184985]\n",
      "\n",
      "0.9734449167908361\n"
     ]
    }
   ],
   "source": [
    "sample_100_data = [sample_mean_intercluster_dist(100) for i in range(5)]\n",
    "print(sample_100_data)\n",
    "print()\n",
    "print(np.average(sample_100_data))"
   ]
  },
  {
   "cell_type": "markdown",
   "metadata": {},
   "source": [
    "## 500 documents sample"
   ]
  },
  {
   "cell_type": "code",
   "execution_count": 107,
   "metadata": {},
   "outputs": [
    {
     "name": "stdout",
     "output_type": "stream",
     "text": [
      "[0.9944982252883817, 0.9853412022084705, 0.9864363061508223, 0.9986238729540432, 0.9875694061293777]\n",
      "\n",
      "0.990493802546219\n"
     ]
    }
   ],
   "source": [
    "sample_500_data = [sample_mean_intercluster_dist(500) for i in range(5)]\n",
    "print(sample_500_data)\n",
    "print()\n",
    "print(np.average(sample_500_data))"
   ]
  },
  {
   "cell_type": "markdown",
   "metadata": {},
   "source": [
    "# neighbors = 20"
   ]
  },
  {
   "cell_type": "markdown",
   "metadata": {},
   "source": [
    "## 10 documents sample"
   ]
  },
  {
   "cell_type": "code",
   "execution_count": 96,
   "metadata": {
    "scrolled": true
   },
   "outputs": [
    {
     "name": "stdout",
     "output_type": "stream",
     "text": [
      "[0.7005023728264059, 0.6648928706198498, 0.6822978329784922, 0.9462235648251783, 0.7249165514962914]\n",
      "\n",
      "0.7437666385492436\n"
     ]
    }
   ],
   "source": [
    "sample_10_data = [sample_mean_intercluster_dist(10) for i in range(5)]\n",
    "print(sample_10_data)\n",
    "print()\n",
    "print(np.average(sample_10_data))"
   ]
  },
  {
   "cell_type": "markdown",
   "metadata": {},
   "source": [
    "## 100 documents sample"
   ]
  },
  {
   "cell_type": "code",
   "execution_count": 97,
   "metadata": {},
   "outputs": [
    {
     "name": "stdout",
     "output_type": "stream",
     "text": [
      "[0.8126034462496546, 0.8468211359616783, 0.8086582894775923, 0.8214938757484384, 0.8255235574439705]\n",
      "\n",
      "0.8230200609762669\n"
     ]
    }
   ],
   "source": [
    "sample_100_data = [sample_mean_intercluster_dist(100) for i in range(5)]\n",
    "print(sample_100_data)\n",
    "print()\n",
    "print(np.average(sample_100_data))"
   ]
  },
  {
   "cell_type": "markdown",
   "metadata": {},
   "source": [
    "## 500 documents sample"
   ]
  },
  {
   "cell_type": "code",
   "execution_count": 98,
   "metadata": {},
   "outputs": [
    {
     "name": "stdout",
     "output_type": "stream",
     "text": [
      "[0.8266176600737934, 0.8439198960262345, 0.8290923575993873, 0.8305318532592579, 0.8356948282647645]\n",
      "\n",
      "0.8331713190446877\n"
     ]
    }
   ],
   "source": [
    "sample_500_data = [sample_mean_intercluster_dist(500) for i in range(5)]\n",
    "print(sample_500_data)\n",
    "print()\n",
    "print(np.average(sample_500_data))"
   ]
  },
  {
   "cell_type": "code",
   "execution_count": null,
   "metadata": {},
   "outputs": [],
   "source": []
  }
 ],
 "metadata": {
  "colab": {
   "collapsed_sections": [],
   "name": "MastersProject.ipynb",
   "provenance": []
  },
  "kernelspec": {
   "display_name": "Python 3",
   "language": "python",
   "name": "python3"
  },
  "language_info": {
   "codemirror_mode": {
    "name": "ipython",
    "version": 3
   },
   "file_extension": ".py",
   "mimetype": "text/x-python",
   "name": "python",
   "nbconvert_exporter": "python",
   "pygments_lexer": "ipython3",
   "version": "3.7.1"
  }
 },
 "nbformat": 4,
 "nbformat_minor": 1
}
