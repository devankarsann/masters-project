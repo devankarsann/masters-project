{
 "cells": [
  {
   "cell_type": "code",
   "execution_count": 1,
   "metadata": {},
   "outputs": [
    {
     "data": {
      "text/html": [
       "<style>.container { width:95% !important; }</style>"
      ],
      "text/plain": [
       "<IPython.core.display.HTML object>"
      ]
     },
     "metadata": {},
     "output_type": "display_data"
    }
   ],
   "source": [
    "from IPython.core.display import display, HTML\n",
    "display(HTML(\"<style>.container { width:95% !important; }</style>\"))"
   ]
  },
  {
   "cell_type": "code",
   "execution_count": 2,
   "metadata": {},
   "outputs": [],
   "source": [
    "from clustering_and_metrics_knn import bow_model, tfidf_model, lda_10_model, lda_25_model, lda_50_model, w2v_model, gv_model, d2v_model\n",
    "import numpy as np\n",
    "import pickle"
   ]
  },
  {
   "cell_type": "markdown",
   "metadata": {},
   "source": [
    "### minimize computation while working on new functionality such as metrics\n",
    "### enable skipping initial processing steps and loading object from disk "
   ]
  },
  {
   "cell_type": "code",
   "execution_count": 3,
   "metadata": {},
   "outputs": [],
   "source": [
    "refresh = True"
   ]
  },
  {
   "cell_type": "markdown",
   "metadata": {},
   "source": [
    "## poc work for metric object"
   ]
  },
  {
   "cell_type": "code",
   "execution_count": 59,
   "metadata": {},
   "outputs": [],
   "source": [
    "# inter, intra: calculated list of metric values\n",
    "# silhouette: calculated metric value\n",
    "class Metrics:\n",
    "    def __init__(self, inter, intra, silhouette):\n",
    "        self.inter = inter\n",
    "        self.intra = intra\n",
    "        self.silhouette = silhouette"
   ]
  },
  {
   "cell_type": "markdown",
   "metadata": {},
   "source": [
    "## bag of words"
   ]
  },
  {
   "cell_type": "code",
   "execution_count": 4,
   "metadata": {},
   "outputs": [],
   "source": [
    "def new_bow_knn():\n",
    "    bow_knn = bow_model('ball_tree')\n",
    "    bow_knn.load_data()\n",
    "    bow_knn.run_knn()\n",
    "    bow_knn.calculate_intra_average_and_variance()\n",
    "    bow_knn.generate_index_centroid_map()\n",
    "    \n",
    "    #print('saving bow_knn')\n",
    "    #with open('../../processed_files/bow_knn.pickle', 'wb') as file:\n",
    "    #    pickle.dump(bow_knn, file)\n",
    "    \n",
    "    return bow_knn"
   ]
  },
  {
   "cell_type": "code",
   "execution_count": 5,
   "metadata": {},
   "outputs": [
    {
     "name": "stdout",
     "output_type": "stream",
     "text": [
      "using file extension .npz for bow/bow_matrix\n",
      "loading ../../processed_files/bow/bow_matrix.npz\n",
      "loading ../../processed_files/df_merged.pickle\n",
      "finding nearest 10 neighbors with ball_tree algorithm\n"
     ]
    },
    {
     "name": "stderr",
     "output_type": "stream",
     "text": [
      "/Users/dkarsann/anaconda3/lib/python3.7/site-packages/sklearn/utils/validation.py:72: FutureWarning: Pass n_neighbors=10, radius=ball_tree as keyword args. From version 1.0 (renaming of 0.25) passing these as positional arguments will result in an error\n",
      "  \"will result in an error\", FutureWarning)\n"
     ]
    },
    {
     "name": "stdout",
     "output_type": "stream",
     "text": [
      "calculating metrics for intracluster average and variance\n"
     ]
    }
   ],
   "source": [
    "bow_knn = new_bow_knn()"
   ]
  },
  {
   "cell_type": "code",
   "execution_count": 6,
   "metadata": {},
   "outputs": [
    {
     "data": {
      "text/plain": [
       "[0.915625939224667,\n",
       " 0.9260901226961469,\n",
       " 0.915344371567823,\n",
       " 0.9076158526719855,\n",
       " 0.9141381352260416]"
      ]
     },
     "execution_count": 6,
     "metadata": {},
     "output_type": "execute_result"
    }
   ],
   "source": [
    "bow_knn_inter_dist_sample = [bow_knn.sample_mean_intercluster_dist(500) for i in range(5)]\n",
    "#bow_knn_inter_dist_sample = [0.9016629769778474, 0.9006886090554161, 0.8923767494843687, 0.9026806522086671, 0.8988289848130686]\n",
    "bow_knn_inter_dist_sample"
   ]
  },
  {
   "cell_type": "code",
   "execution_count": 52,
   "metadata": {},
   "outputs": [
    {
     "ename": "NameError",
     "evalue": "name 'bow_knn_inter_dist_sample' is not defined",
     "output_type": "error",
     "traceback": [
      "\u001b[0;31m---------------------------------------------------------------------------\u001b[0m",
      "\u001b[0;31mNameError\u001b[0m                                 Traceback (most recent call last)",
      "\u001b[0;32m<ipython-input-52-23da748676aa>\u001b[0m in \u001b[0;36m<module>\u001b[0;34m\u001b[0m\n\u001b[0;32m----> 1\u001b[0;31m \u001b[0mbow_knn_inter_dist_mean\u001b[0m \u001b[0;34m=\u001b[0m \u001b[0mnp\u001b[0m\u001b[0;34m.\u001b[0m\u001b[0maverage\u001b[0m\u001b[0;34m(\u001b[0m\u001b[0mbow_knn_inter_dist_sample\u001b[0m\u001b[0;34m)\u001b[0m\u001b[0;34m\u001b[0m\u001b[0;34m\u001b[0m\u001b[0m\n\u001b[0m\u001b[1;32m      2\u001b[0m \u001b[0;31m#bow_knn_inter_dist_mean = 0.8992475945078736\u001b[0m\u001b[0;34m\u001b[0m\u001b[0;34m\u001b[0m\u001b[0;34m\u001b[0m\u001b[0m\n\u001b[1;32m      3\u001b[0m \u001b[0mbow_knn_inter_dist_mean\u001b[0m\u001b[0;34m\u001b[0m\u001b[0;34m\u001b[0m\u001b[0m\n",
      "\u001b[0;31mNameError\u001b[0m: name 'bow_knn_inter_dist_sample' is not defined"
     ]
    }
   ],
   "source": [
    "bow_knn_inter_dist_mean = np.average(bow_knn_inter_dist_sample)\n",
    "#bow_knn_inter_dist_mean = 0.8992475945078736\n",
    "bow_knn_inter_dist_mean"
   ]
  },
  {
   "cell_type": "markdown",
   "metadata": {},
   "source": [
    "## tfidf matrix"
   ]
  },
  {
   "cell_type": "code",
   "execution_count": 4,
   "metadata": {},
   "outputs": [],
   "source": [
    "def new_tfidf_knn():\n",
    "    tfidf_knn = tfidf_model('ball_tree')\n",
    "    tfidf_knn.load_data()\n",
    "    tfidf_knn.run_knn()\n",
    "    tfidf_knn.calculate_intra_average_and_variance()\n",
    "    tfidf_knn.generate_index_centroid_map()\n",
    "    \n",
    "    # cannot serialize more than 4 Gib\n",
    "    #print('saving tfidf_knn')\n",
    "    #with open('../../processed_files/tfidf_knn.pickle', 'wb') as file:\n",
    "    #    pickle.dump(tfidf_knn, file)\n",
    "    \n",
    "    return tfidf_knn"
   ]
  },
  {
   "cell_type": "code",
   "execution_count": 5,
   "metadata": {},
   "outputs": [
    {
     "name": "stdout",
     "output_type": "stream",
     "text": [
      "using file extension .npz for tfidf/tfidf_matrix\n",
      "loading ../../processed_files/tfidf/tfidf_matrix.npz\n",
      "loading ../../processed_files/df_merged.pickle\n",
      "finding nearest 10 neighbors with ball_tree algorithm\n"
     ]
    },
    {
     "name": "stderr",
     "output_type": "stream",
     "text": [
      "/Users/dkarsann/anaconda3/lib/python3.7/site-packages/sklearn/utils/validation.py:72: FutureWarning: Pass n_neighbors=10, radius=ball_tree as keyword args. From version 1.0 (renaming of 0.25) passing these as positional arguments will result in an error\n",
      "  \"will result in an error\", FutureWarning)\n"
     ]
    },
    {
     "name": "stdout",
     "output_type": "stream",
     "text": [
      "calculating metrics for intracluster average and variance\n"
     ]
    }
   ],
   "source": [
    "tfidf_knn = new_tfidf_knn()"
   ]
  },
  {
   "cell_type": "code",
   "execution_count": 6,
   "metadata": {
    "scrolled": true
   },
   "outputs": [
    {
     "data": {
      "text/plain": [
       "[0.7211363604941481,\n",
       " 0.7381030285980862,\n",
       " 0.7220314606088173,\n",
       " 0.7023434886240839,\n",
       " 0.7363830839623386]"
      ]
     },
     "execution_count": 6,
     "metadata": {},
     "output_type": "execute_result"
    }
   ],
   "source": [
    "tfidf_knn_inter_dist_sample = [tfidf_knn.sample_mean_intercluster_dist(500) for i in range(5)]\n",
    "#tfidf_knn_inter_dist_sample = [0.9016629769778474, 0.9006886090554161, 0.8923767494843687, 0.9026806522086671, 0.8988289848130686]\n",
    "tfidf_knn_inter_dist_sample"
   ]
  },
  {
   "cell_type": "code",
   "execution_count": 53,
   "metadata": {},
   "outputs": [
    {
     "data": {
      "text/plain": [
       "0.7239994844574948"
      ]
     },
     "execution_count": 53,
     "metadata": {},
     "output_type": "execute_result"
    }
   ],
   "source": [
    "tfidf_knn_inter_dist_mean = np.average(tfidf_knn_inter_dist_sample)\n",
    "#tfidf_knn_inter_dist_mean = 0.8992475945078736\n",
    "tfidf_knn_inter_dist_mean"
   ]
  },
  {
   "cell_type": "markdown",
   "metadata": {},
   "source": [
    "# LDA"
   ]
  },
  {
   "cell_type": "code",
   "execution_count": null,
   "metadata": {},
   "outputs": [],
   "source": [
    "#def new_lda_knn(matrix_name):\n",
    "#    lda_knn = lda_10_model(matrix_name, 'ball_tree')\n",
    "#    lda_knn.load_data()\n",
    "#    lda_knn.run_knn()\n",
    "#    lda_knn.calculate_intra_average_and_variance()\n",
    "#    lda_knn.generate_index_centroid_map()\n",
    "#    \n",
    "#    print('saving ', matrix_name)\n",
    "#    with open('processed_files/' + matrix_name + '.pickle', 'wb') as file:\n",
    "#        pickle.dump(lda_knn, file)\n",
    "#    \n",
    "#    return lda_knn"
   ]
  },
  {
   "cell_type": "code",
   "execution_count": null,
   "metadata": {},
   "outputs": [],
   "source": [
    "#row_sums = lda_10_knn.matrix.sum(axis = 1)\n",
    "#copy_matrix = lda_10_knn.matrix.copy()\n",
    "#asdf = np.divide(copy_matrix, row_sums.reshape(len(row_sums), 1))"
   ]
  },
  {
   "cell_type": "code",
   "execution_count": null,
   "metadata": {},
   "outputs": [],
   "source": [
    "#row_sums = lda_10_knn.matrix.sum(axis = 1)"
   ]
  },
  {
   "cell_type": "code",
   "execution_count": null,
   "metadata": {},
   "outputs": [],
   "source": [
    "#row_sums[7]"
   ]
  },
  {
   "cell_type": "code",
   "execution_count": null,
   "metadata": {},
   "outputs": [],
   "source": [
    "#copy_matrix = lda_10_knn.matrix.copy()"
   ]
  },
  {
   "cell_type": "code",
   "execution_count": null,
   "metadata": {},
   "outputs": [],
   "source": [
    "#from sklearn.preprocessing import MinMaxScaler\n",
    "#scaler = MinMaxScaler()\n",
    "#scaler.fit(copy_matrix)\n",
    "#new_lda_10_knn_matrix = scaler.transform(copy_matrix)\n",
    "#new_lda_10_knn_matrix = scaler.fit_transform(copy_matrix)"
   ]
  },
  {
   "cell_type": "code",
   "execution_count": null,
   "metadata": {},
   "outputs": [],
   "source": [
    "#X_std = (lda_10_knn.matrix - lda_10_knn.matrix.min(axis=0)) / (lda_10_knn.matrix.max(axis=0) - lda_10_knn.matrix.min(axis=0))\n",
    "#X_scaled = X_std * (1 - 0) + 0"
   ]
  },
  {
   "cell_type": "code",
   "execution_count": null,
   "metadata": {},
   "outputs": [],
   "source": [
    "#X_std.shape"
   ]
  },
  {
   "cell_type": "code",
   "execution_count": null,
   "metadata": {},
   "outputs": [],
   "source": [
    "#new_row_sums = new_lda_10_knn_matrix.sum(axis = 1)"
   ]
  },
  {
   "cell_type": "code",
   "execution_count": null,
   "metadata": {},
   "outputs": [],
   "source": [
    "#new_row_sums[34]"
   ]
  },
  {
   "cell_type": "code",
   "execution_count": null,
   "metadata": {},
   "outputs": [],
   "source": []
  },
  {
   "cell_type": "markdown",
   "metadata": {},
   "source": [
    "## lda 10 matrix"
   ]
  },
  {
   "cell_type": "code",
   "execution_count": 8,
   "metadata": {},
   "outputs": [],
   "source": [
    "def new_lda_10_knn():\n",
    "    lda_10_knn = lda_10_model('ball_tree')\n",
    "    lda_10_knn.load_data()\n",
    "    lda_10_knn.run_knn()\n",
    "    lda_10_knn.calculate_intra_average_and_variance()\n",
    "    lda_10_knn.generate_index_centroid_map()\n",
    "    \n",
    "    print('saving lda_10_knn')\n",
    "    with open('../../processed_files/lda_10_knn.pickle', 'wb') as file:\n",
    "        pickle.dump(lda_10_knn, file)\n",
    "    \n",
    "    return lda_10_knn"
   ]
  },
  {
   "cell_type": "code",
   "execution_count": 9,
   "metadata": {},
   "outputs": [
    {
     "name": "stdout",
     "output_type": "stream",
     "text": [
      "refresh == true, running lda_10_knn processing steps\n",
      "using file extension .npy for lda/lda_10_matrix\n",
      "loading ../../processed_files/lda/lda_10_matrix.npy\n",
      "loading ../../processed_files/df_merged.pickle\n",
      "finding nearest 10 neighbors with ball_tree algorithm\n"
     ]
    },
    {
     "name": "stderr",
     "output_type": "stream",
     "text": [
      "/Users/dkarsann/anaconda3/lib/python3.7/site-packages/sklearn/utils/validation.py:72: FutureWarning: Pass n_neighbors=10, radius=ball_tree as keyword args. From version 1.0 (renaming of 0.25) passing these as positional arguments will result in an error\n",
      "  \"will result in an error\", FutureWarning)\n"
     ]
    },
    {
     "name": "stdout",
     "output_type": "stream",
     "text": [
      "calculating metrics for intracluster average and variance\n",
      "saving lda_10_knn\n"
     ]
    }
   ],
   "source": [
    "lda_10_knn = None\n",
    "if refresh == False:\n",
    "    try:\n",
    "        print('read lda_10_knn object from memory')\n",
    "        lda_10_knn = pickle.load(open(\"../../processed_files/lda_10_knn.pickle\", \"rb\"))\n",
    "    except:\n",
    "        print('error reading lda_10_knn from memory, running processing steps again')\n",
    "        lda_10_knn = new_lda_10_knn()\n",
    "else:\n",
    "    # run processing steps again\n",
    "    print('refresh == true, running lda_10_knn processing steps')\n",
    "    lda_10_knn = new_lda_10_knn()"
   ]
  },
  {
   "cell_type": "code",
   "execution_count": 10,
   "metadata": {},
   "outputs": [],
   "source": [
    "#lda_10_knn.index_centroid.shape"
   ]
  },
  {
   "cell_type": "code",
   "execution_count": 11,
   "metadata": {},
   "outputs": [
    {
     "data": {
      "text/plain": [
       "[0.7998945290863305,\n",
       " 0.7997567263884243,\n",
       " 0.8082412130424395,\n",
       " 0.8039029693594637,\n",
       " 0.8087311800591686]"
      ]
     },
     "execution_count": 11,
     "metadata": {},
     "output_type": "execute_result"
    }
   ],
   "source": [
    "lda_10_knn_inter_dist_sample = [lda_10_knn.sample_mean_intercluster_dist(500) for i in range(5)]\n",
    "lda_10_knn_inter_dist_sample"
   ]
  },
  {
   "cell_type": "code",
   "execution_count": 12,
   "metadata": {},
   "outputs": [
    {
     "data": {
      "text/plain": [
       "0.8041053235871652"
      ]
     },
     "execution_count": 12,
     "metadata": {},
     "output_type": "execute_result"
    }
   ],
   "source": [
    "lda_10_knn_inter_dist_mean = np.average(lda_10_knn_inter_dist_sample)\n",
    "lda_10_knn_inter_dist_mean"
   ]
  },
  {
   "cell_type": "markdown",
   "metadata": {},
   "source": [
    "## lda 25 matrix"
   ]
  },
  {
   "cell_type": "code",
   "execution_count": 13,
   "metadata": {},
   "outputs": [],
   "source": [
    "#refresh = False"
   ]
  },
  {
   "cell_type": "code",
   "execution_count": 14,
   "metadata": {},
   "outputs": [],
   "source": [
    "def new_lda_25_knn():\n",
    "    lda_25_knn = lda_25_model('ball_tree')\n",
    "    lda_25_knn.load_data()\n",
    "    lda_25_knn.run_knn()\n",
    "    lda_25_knn.calculate_intra_average_and_variance()\n",
    "    lda_25_knn.generate_index_centroid_map()\n",
    "    \n",
    "    print('saving lda_25_knn')\n",
    "    with open('../../processed_files/lda_25_knn.pickle', 'wb') as file:\n",
    "        pickle.dump(lda_25_knn, file)\n",
    "    \n",
    "    return lda_25_knn"
   ]
  },
  {
   "cell_type": "code",
   "execution_count": 15,
   "metadata": {},
   "outputs": [
    {
     "name": "stdout",
     "output_type": "stream",
     "text": [
      "refresh == true, running lda_25_knn processing steps\n",
      "using file extension .npy for lda/lda_25_matrix\n",
      "loading ../../processed_files/lda/lda_25_matrix.npy\n",
      "loading ../../processed_files/df_merged.pickle\n",
      "finding nearest 10 neighbors with ball_tree algorithm\n"
     ]
    },
    {
     "name": "stderr",
     "output_type": "stream",
     "text": [
      "/Users/dkarsann/anaconda3/lib/python3.7/site-packages/sklearn/utils/validation.py:72: FutureWarning: Pass n_neighbors=10, radius=ball_tree as keyword args. From version 1.0 (renaming of 0.25) passing these as positional arguments will result in an error\n",
      "  \"will result in an error\", FutureWarning)\n"
     ]
    },
    {
     "name": "stdout",
     "output_type": "stream",
     "text": [
      "calculating metrics for intracluster average and variance\n",
      "saving lda_25_knn\n"
     ]
    }
   ],
   "source": [
    "lda_25_knn = None\n",
    "if refresh == False:\n",
    "    try:\n",
    "        print('read lda_25_knn object from memory')\n",
    "        lda_25_knn = pickle.load(open(\"../../processed_files/lda_25_knn.pickle\", \"rb\"))\n",
    "    except:\n",
    "        print('error reading lda_knn from memory, running processing steps again')\n",
    "        lda_25_knn = new_lda_25_knn()\n",
    "else:\n",
    "    # run processing steps again\n",
    "    print('refresh == true, running lda_25_knn processing steps')\n",
    "    lda_25_knn = new_lda_25_knn()"
   ]
  },
  {
   "cell_type": "code",
   "execution_count": 16,
   "metadata": {},
   "outputs": [
    {
     "data": {
      "text/plain": [
       "[0.8128241508868257,\n",
       " 0.810605936472948,\n",
       " 0.816825908759831,\n",
       " 0.8119292210316121,\n",
       " 0.8146154808319197]"
      ]
     },
     "execution_count": 16,
     "metadata": {},
     "output_type": "execute_result"
    }
   ],
   "source": [
    "lda_25_knn_inter_dist_sample = [lda_25_knn.sample_mean_intercluster_dist(500) for i in range(5)]\n",
    "lda_25_knn_inter_dist_sample"
   ]
  },
  {
   "cell_type": "code",
   "execution_count": 17,
   "metadata": {},
   "outputs": [
    {
     "data": {
      "text/plain": [
       "0.8133601395966273"
      ]
     },
     "execution_count": 17,
     "metadata": {},
     "output_type": "execute_result"
    }
   ],
   "source": [
    "lda_25_knn_inter_dist_mean = np.average(lda_25_knn_inter_dist_sample)\n",
    "lda_25_knn_inter_dist_mean"
   ]
  },
  {
   "cell_type": "markdown",
   "metadata": {},
   "source": [
    "## lda 50 matrix"
   ]
  },
  {
   "cell_type": "code",
   "execution_count": 18,
   "metadata": {},
   "outputs": [],
   "source": [
    "def new_lda_50_knn():\n",
    "    lda_50_knn = lda_50_model('ball_tree')\n",
    "    lda_50_knn.load_data()\n",
    "    lda_50_knn.run_knn()\n",
    "    lda_50_knn.calculate_intra_average_and_variance()\n",
    "    lda_50_knn.generate_index_centroid_map()\n",
    "    \n",
    "    print('saving lda_50_knn')\n",
    "    with open('../../processed_files/lda_50_knn.pickle', 'wb') as file:\n",
    "        pickle.dump(lda_50_knn, file)\n",
    "    \n",
    "    return lda_50_knn"
   ]
  },
  {
   "cell_type": "code",
   "execution_count": 19,
   "metadata": {
    "scrolled": true
   },
   "outputs": [
    {
     "name": "stdout",
     "output_type": "stream",
     "text": [
      "refresh == true, running lda_50_knn processing steps\n",
      "using file extension .npy for lda/lda_50_matrix\n",
      "loading ../../processed_files/lda/lda_50_matrix.npy\n",
      "loading ../../processed_files/df_merged.pickle\n",
      "finding nearest 10 neighbors with ball_tree algorithm\n"
     ]
    },
    {
     "name": "stderr",
     "output_type": "stream",
     "text": [
      "/Users/dkarsann/anaconda3/lib/python3.7/site-packages/sklearn/utils/validation.py:72: FutureWarning: Pass n_neighbors=10, radius=ball_tree as keyword args. From version 1.0 (renaming of 0.25) passing these as positional arguments will result in an error\n",
      "  \"will result in an error\", FutureWarning)\n"
     ]
    },
    {
     "name": "stdout",
     "output_type": "stream",
     "text": [
      "calculating metrics for intracluster average and variance\n",
      "saving lda_50_knn\n"
     ]
    }
   ],
   "source": [
    "lda_50_knn = None\n",
    "if refresh == False:\n",
    "    try:\n",
    "        print('read lda_50_knn object from memory')\n",
    "        lda_50_knn = pickle.load(open(\"../../processed_files/lda_50_knn.pickle\", \"rb\"))\n",
    "    except:\n",
    "        print('error reading lda_50_knn from memory, running processing steps again')\n",
    "        lda_50_knn = new_lda_knn()\n",
    "else:\n",
    "    # run processing steps again\n",
    "    print('refresh == true, running lda_50_knn processing steps')\n",
    "    lda_50_knn = new_lda_50_knn()"
   ]
  },
  {
   "cell_type": "code",
   "execution_count": 20,
   "metadata": {},
   "outputs": [
    {
     "data": {
      "text/plain": [
       "[0.8046454601066108,\n",
       " 0.8058182840785012,\n",
       " 0.8093015935809361,\n",
       " 0.8103280359075401,\n",
       " 0.797233382399755]"
      ]
     },
     "execution_count": 20,
     "metadata": {},
     "output_type": "execute_result"
    }
   ],
   "source": [
    "lda_50_knn_inter_dist_sample = [lda_50_knn.sample_mean_intercluster_dist(500) for i in range(5)]\n",
    "lda_50_knn_inter_dist_sample"
   ]
  },
  {
   "cell_type": "code",
   "execution_count": 21,
   "metadata": {},
   "outputs": [
    {
     "data": {
      "text/plain": [
       "0.8054653512146686"
      ]
     },
     "execution_count": 21,
     "metadata": {},
     "output_type": "execute_result"
    }
   ],
   "source": [
    "lda_50_knn_inter_dist_mean = np.average(lda_50_knn_inter_dist_sample)\n",
    "lda_50_knn_inter_dist_mean"
   ]
  },
  {
   "cell_type": "code",
   "execution_count": 22,
   "metadata": {},
   "outputs": [],
   "source": [
    "#from jqmcvi import base\n",
    "#cluster_list = [clus0.values, clus1.values, clus2.values]\n",
    "#base.dunn(cluster_list)"
   ]
  },
  {
   "cell_type": "markdown",
   "metadata": {},
   "source": [
    "## word2vec matrix"
   ]
  },
  {
   "cell_type": "code",
   "execution_count": 25,
   "metadata": {},
   "outputs": [],
   "source": [
    "def new_w2v_knn():\n",
    "    w2v_knn = w2v_model('ball_tree')\n",
    "    w2v_knn.load_data()\n",
    "    w2v_knn.run_knn()\n",
    "    w2v_knn.calculate_intra_average_and_variance()\n",
    "    w2v_knn.generate_index_centroid_map()\n",
    "    \n",
    "    print('saving w2v_knn')\n",
    "    with open('../../processed_files/w2v_knn.pickle', 'wb') as file:\n",
    "        pickle.dump(w2v_knn, file)\n",
    "    \n",
    "    return w2v_knn"
   ]
  },
  {
   "cell_type": "code",
   "execution_count": 26,
   "metadata": {
    "scrolled": true
   },
   "outputs": [
    {
     "name": "stdout",
     "output_type": "stream",
     "text": [
      "refresh == true, running w2v_knn processing steps\n",
      "using file extension .npy for w2v/w2v_matrix\n",
      "loading ../../processed_files/w2v/w2v_matrix.npy\n",
      "loading ../../processed_files/df_merged.pickle\n",
      "finding nearest 10 neighbors with ball_tree algorithm\n"
     ]
    },
    {
     "name": "stderr",
     "output_type": "stream",
     "text": [
      "/Users/dkarsann/anaconda3/lib/python3.7/site-packages/sklearn/utils/validation.py:72: FutureWarning: Pass n_neighbors=10, radius=ball_tree as keyword args. From version 1.0 (renaming of 0.25) passing these as positional arguments will result in an error\n",
      "  \"will result in an error\", FutureWarning)\n"
     ]
    },
    {
     "name": "stdout",
     "output_type": "stream",
     "text": [
      "calculating metrics for intracluster average and variance\n",
      "saving w2v_knn\n"
     ]
    }
   ],
   "source": [
    "w2v_knn = None\n",
    "if refresh == False:\n",
    "    try:\n",
    "        print('read w2v_knn object from memory')\n",
    "        w2v_knn = pickle.load(open(\"../../processed_files/w2v_knn.pickle\", \"rb\"))\n",
    "    except:\n",
    "        print('error reading w2v_knn from memory, running processing steps again')\n",
    "        w2v_knn = new_w2v_knn()\n",
    "else:\n",
    "    # run processing steps again\n",
    "    print('refresh == true, running w2v_knn processing steps')\n",
    "    w2v_knn = new_w2v_knn() "
   ]
  },
  {
   "cell_type": "code",
   "execution_count": 27,
   "metadata": {
    "scrolled": true
   },
   "outputs": [],
   "source": [
    "#w2v_knn.index_centroid[1]\n",
    "#w2v_knn.sample_mean_intercluster_dist(10)"
   ]
  },
  {
   "cell_type": "code",
   "execution_count": 28,
   "metadata": {},
   "outputs": [
    {
     "data": {
      "text/plain": [
       "[0.4468785554388278,\n",
       " 0.4512086506228626,\n",
       " 0.45486707853549424,\n",
       " 0.43967964309270097,\n",
       " 0.39932186706775324]"
      ]
     },
     "execution_count": 28,
     "metadata": {},
     "output_type": "execute_result"
    }
   ],
   "source": [
    "w2v_knn_inter_dist_sample = [w2v_knn.sample_mean_intercluster_dist(500) for i in range(5)]\n",
    "w2v_knn_inter_dist_sample"
   ]
  },
  {
   "cell_type": "code",
   "execution_count": 29,
   "metadata": {},
   "outputs": [],
   "source": [
    "#w2v_knn.index_centroid7500"
   ]
  },
  {
   "cell_type": "code",
   "execution_count": 44,
   "metadata": {},
   "outputs": [
    {
     "data": {
      "text/plain": [
       "0.4383911589515278"
      ]
     },
     "execution_count": 44,
     "metadata": {},
     "output_type": "execute_result"
    }
   ],
   "source": [
    "w2v_knn_inter_dist_mean = np.average(w2v_knn_inter_dist_sample)\n",
    "w2v_knn_inter_dist_mean"
   ]
  },
  {
   "cell_type": "markdown",
   "metadata": {},
   "source": [
    "## glove matrix"
   ]
  },
  {
   "cell_type": "code",
   "execution_count": 31,
   "metadata": {},
   "outputs": [],
   "source": [
    "def new_gv_knn():\n",
    "    gv_knn = gv_model('ball_tree')\n",
    "    gv_knn.load_data()\n",
    "    gv_knn.run_knn()\n",
    "    gv_knn.calculate_intra_average_and_variance()\n",
    "    gv_knn.generate_index_centroid_map()\n",
    "    \n",
    "    print('saving gv_knn')\n",
    "    with open('../../processed_files/gv_knn.pickle', 'wb') as file:\n",
    "        pickle.dump(gv_knn, file)\n",
    "    \n",
    "    return gv_knn"
   ]
  },
  {
   "cell_type": "code",
   "execution_count": 32,
   "metadata": {},
   "outputs": [
    {
     "name": "stdout",
     "output_type": "stream",
     "text": [
      "refresh == true, running gv_knn processing steps\n",
      "using file extension .npy for glove/gv_matrix\n",
      "loading ../../processed_files/glove/gv_matrix.npy\n",
      "loading ../../processed_files/df_merged.pickle\n",
      "finding nearest 10 neighbors with ball_tree algorithm\n"
     ]
    },
    {
     "name": "stderr",
     "output_type": "stream",
     "text": [
      "/Users/dkarsann/anaconda3/lib/python3.7/site-packages/sklearn/utils/validation.py:72: FutureWarning: Pass n_neighbors=10, radius=ball_tree as keyword args. From version 1.0 (renaming of 0.25) passing these as positional arguments will result in an error\n",
      "  \"will result in an error\", FutureWarning)\n"
     ]
    },
    {
     "name": "stdout",
     "output_type": "stream",
     "text": [
      "calculating metrics for intracluster average and variance\n",
      "saving gv_knn\n"
     ]
    }
   ],
   "source": [
    "gv_knn = None\n",
    "if refresh == False:\n",
    "    try:\n",
    "        print('read gv_knn object from memory')\n",
    "        gv_knn = pickle.load(open(\"../../processed_files/gv_knn.pickle\", \"rb\"))\n",
    "    except:\n",
    "        print('error reading gv_knn from memory, running processing steps again')\n",
    "        gv_knn = new_gv_knn()\n",
    "else:\n",
    "    # run processing steps again\n",
    "    print('refresh == true, running gv_knn processing steps')\n",
    "    gv_knn = new_gv_knn()"
   ]
  },
  {
   "cell_type": "code",
   "execution_count": 33,
   "metadata": {},
   "outputs": [
    {
     "data": {
      "text/plain": [
       "[0.6912888662762582,\n",
       " 0.6769785976052521,\n",
       " 0.6276974631924467,\n",
       " 0.6573620931744227,\n",
       " 0.5940136356291921]"
      ]
     },
     "execution_count": 33,
     "metadata": {},
     "output_type": "execute_result"
    }
   ],
   "source": [
    "gv_knn_inter_dist_sample = [gv_knn.sample_mean_intercluster_dist(500) for i in range(5)]\n",
    "gv_knn_inter_dist_sample"
   ]
  },
  {
   "cell_type": "code",
   "execution_count": 45,
   "metadata": {},
   "outputs": [
    {
     "data": {
      "text/plain": [
       "0.6494681311755144"
      ]
     },
     "execution_count": 45,
     "metadata": {},
     "output_type": "execute_result"
    }
   ],
   "source": [
    "gv_knn_inter_dist_mean = np.average(gv_knn_inter_dist_sample)\n",
    "gv_knn_inter_dist_mean"
   ]
  },
  {
   "cell_type": "markdown",
   "metadata": {},
   "source": [
    "## doc2vec matrix"
   ]
  },
  {
   "cell_type": "code",
   "execution_count": 35,
   "metadata": {},
   "outputs": [],
   "source": [
    "def new_d2v_knn():\n",
    "    d2v_knn = d2v_model('ball_tree')\n",
    "    d2v_knn.load_data()\n",
    "    d2v_knn.run_knn()\n",
    "    d2v_knn.calculate_intra_average_and_variance()\n",
    "    d2v_knn.generate_index_centroid_map()\n",
    "    \n",
    "    print('saving d2v_knn')\n",
    "    with open('../../processed_files/d2v_knn.pickle', 'wb') as file:\n",
    "        pickle.dump(d2v_knn, file)\n",
    "    \n",
    "    return d2v_knn"
   ]
  },
  {
   "cell_type": "code",
   "execution_count": 36,
   "metadata": {},
   "outputs": [
    {
     "name": "stdout",
     "output_type": "stream",
     "text": [
      "refresh == true, running d2v_knn processing steps\n",
      "using file extension .npy for d2v/d2v_matrix\n",
      "loading ../../processed_files/d2v/d2v_matrix.npy\n",
      "loading ../../processed_files/df_merged.pickle\n",
      "finding nearest 10 neighbors with ball_tree algorithm\n"
     ]
    },
    {
     "name": "stderr",
     "output_type": "stream",
     "text": [
      "/Users/dkarsann/anaconda3/lib/python3.7/site-packages/sklearn/utils/validation.py:72: FutureWarning: Pass n_neighbors=10, radius=ball_tree as keyword args. From version 1.0 (renaming of 0.25) passing these as positional arguments will result in an error\n",
      "  \"will result in an error\", FutureWarning)\n"
     ]
    },
    {
     "name": "stdout",
     "output_type": "stream",
     "text": [
      "calculating metrics for intracluster average and variance\n",
      "saving d2v_knn\n"
     ]
    }
   ],
   "source": [
    "d2v_knn = None\n",
    "if refresh == False:\n",
    "    try:\n",
    "        print('read d2v_knn object from memory')\n",
    "        d2v_knn = pickle.load(open(\"../../processed_files/d2v_knn.pickle\", \"rb\"))\n",
    "    except:\n",
    "        print('error reading d2v_knn from memory, running processing steps again')\n",
    "        d2v_knn = new_d2v_knn()\n",
    "else:\n",
    "    # run processing steps again\n",
    "    print('refresh == true, running d2v_knn processing steps')\n",
    "    d2v_knn = new_d2v_knn()"
   ]
  },
  {
   "cell_type": "code",
   "execution_count": 37,
   "metadata": {},
   "outputs": [
    {
     "data": {
      "text/plain": [
       "[0.6854714, 0.6847114, 0.66950256, 0.7605184, 0.73916954]"
      ]
     },
     "execution_count": 37,
     "metadata": {},
     "output_type": "execute_result"
    }
   ],
   "source": [
    "d2v_knn_inter_dist_sample = [d2v_knn.sample_mean_intercluster_dist(500) for i in range(5)]\n",
    "d2v_knn_inter_dist_sample"
   ]
  },
  {
   "cell_type": "code",
   "execution_count": 46,
   "metadata": {},
   "outputs": [
    {
     "data": {
      "text/plain": [
       "0.70787466"
      ]
     },
     "execution_count": 46,
     "metadata": {},
     "output_type": "execute_result"
    }
   ],
   "source": [
    "d2v_knn_inter_dist_mean = np.average(d2v_knn_inter_dist_sample)\n",
    "d2v_knn_inter_dist_mean"
   ]
  },
  {
   "cell_type": "markdown",
   "metadata": {},
   "source": [
    "## Checking normlizing"
   ]
  },
  {
   "cell_type": "code",
   "execution_count": 46,
   "metadata": {},
   "outputs": [
    {
     "data": {
      "text/plain": [
       "12968"
      ]
     },
     "execution_count": 46,
     "metadata": {},
     "output_type": "execute_result"
    }
   ],
   "source": [
    "num_rows_tfidf_knn = len(tfidf_knn.matrix)\n",
    "num_rows_tfidf_knn"
   ]
  },
  {
   "cell_type": "code",
   "execution_count": 47,
   "metadata": {},
   "outputs": [
    {
     "name": "stdout",
     "output_type": "stream",
     "text": [
      "tfidf_knn --> more_than_one:  2997 , less_than_one:  9971\n"
     ]
    }
   ],
   "source": [
    "more_than_one = 0\n",
    "less_than_one = 0\n",
    "for i in range(num_rows_tfidf_knn):\n",
    "    if np.sum(tfidf_knn.matrix[i]) > 1:\n",
    "        more_than_one += 1\n",
    "    else:\n",
    "        less_than_one += 1\n",
    "print('tfidf_knn --> more_than_one: ', more_than_one, ', less_than_one: ', less_than_one)"
   ]
  },
  {
   "cell_type": "code",
   "execution_count": 48,
   "metadata": {},
   "outputs": [
    {
     "data": {
      "text/plain": [
       "12968"
      ]
     },
     "execution_count": 48,
     "metadata": {},
     "output_type": "execute_result"
    }
   ],
   "source": [
    "num_rows_lda_10_knn = len(lda_10_knn.matrix)\n",
    "num_rows_lda_10_knn"
   ]
  },
  {
   "cell_type": "code",
   "execution_count": 49,
   "metadata": {},
   "outputs": [
    {
     "name": "stdout",
     "output_type": "stream",
     "text": [
      "lda_10_knn --> more_than_one:  0 , less_than_one:  12968\n"
     ]
    }
   ],
   "source": [
    "more_than_one = 0\n",
    "less_than_one = 0\n",
    "for i in range(num_rows_lda_10_knn):\n",
    "    if np.sum(lda_10_knn.matrix[i]) > 1:\n",
    "        more_than_one += 1\n",
    "    else:\n",
    "        less_than_one += 1\n",
    "print('lda_10_knn --> more_than_one: ', more_than_one, ', less_than_one: ', less_than_one)"
   ]
  },
  {
   "cell_type": "code",
   "execution_count": 50,
   "metadata": {},
   "outputs": [
    {
     "data": {
      "text/plain": [
       "12968"
      ]
     },
     "execution_count": 50,
     "metadata": {},
     "output_type": "execute_result"
    }
   ],
   "source": [
    "num_rows_lda_25_knn = len(lda_25_knn.matrix)\n",
    "num_rows_lda_25_knn"
   ]
  },
  {
   "cell_type": "code",
   "execution_count": 51,
   "metadata": {},
   "outputs": [
    {
     "name": "stdout",
     "output_type": "stream",
     "text": [
      "lda_25_knn --> more_than_one:  0 , less_than_one:  12968\n"
     ]
    }
   ],
   "source": [
    "more_than_one = 0\n",
    "less_than_one = 0\n",
    "for i in range(num_rows_lda_25_knn):\n",
    "    if np.sum(lda_25_knn.matrix[i]) > 1:\n",
    "        more_than_one += 1\n",
    "    else:\n",
    "        less_than_one += 1\n",
    "print('lda_25_knn --> more_than_one: ', more_than_one, ', less_than_one: ', less_than_one)"
   ]
  },
  {
   "cell_type": "code",
   "execution_count": 52,
   "metadata": {},
   "outputs": [
    {
     "data": {
      "text/plain": [
       "12968"
      ]
     },
     "execution_count": 52,
     "metadata": {},
     "output_type": "execute_result"
    }
   ],
   "source": [
    "num_rows_lda_50_knn = len(lda_50_knn.matrix)\n",
    "num_rows_lda_50_knn"
   ]
  },
  {
   "cell_type": "code",
   "execution_count": 53,
   "metadata": {},
   "outputs": [
    {
     "name": "stdout",
     "output_type": "stream",
     "text": [
      "lda_50_knn --> more_than_one:  0 , less_than_one:  12968\n"
     ]
    }
   ],
   "source": [
    "more_than_one = 0\n",
    "less_than_one = 0\n",
    "for i in range(num_rows_lda_50_knn):\n",
    "    if np.sum(lda_50_knn.matrix[i]) > 1:\n",
    "        more_than_one += 1\n",
    "    else:\n",
    "        less_than_one += 1\n",
    "print('lda_50_knn --> more_than_one: ', more_than_one, ', less_than_one: ', less_than_one)"
   ]
  },
  {
   "cell_type": "code",
   "execution_count": 54,
   "metadata": {},
   "outputs": [
    {
     "data": {
      "text/plain": [
       "12968"
      ]
     },
     "execution_count": 54,
     "metadata": {},
     "output_type": "execute_result"
    }
   ],
   "source": [
    "num_rows_w2v_knn = len(w2v_knn.matrix)\n",
    "num_rows_w2v_knn"
   ]
  },
  {
   "cell_type": "code",
   "execution_count": 55,
   "metadata": {},
   "outputs": [
    {
     "name": "stdout",
     "output_type": "stream",
     "text": [
      "w2v_knn --> more_than_one:  12034 , less_than_one:  934\n"
     ]
    }
   ],
   "source": [
    "more_than_one = 0\n",
    "less_than_one = 0\n",
    "for i in range(num_rows_w2v_knn):\n",
    "    if np.sum(w2v_knn.matrix[i]) > 1:\n",
    "        more_than_one += 1\n",
    "    else:\n",
    "        less_than_one += 1\n",
    "print('w2v_knn --> more_than_one: ', more_than_one, ', less_than_one: ', less_than_one)"
   ]
  },
  {
   "cell_type": "code",
   "execution_count": 56,
   "metadata": {},
   "outputs": [
    {
     "data": {
      "text/plain": [
       "12968"
      ]
     },
     "execution_count": 56,
     "metadata": {},
     "output_type": "execute_result"
    }
   ],
   "source": [
    "num_rows_glove_knn = len(gv_knn.matrix)\n",
    "num_rows_glove_knn"
   ]
  },
  {
   "cell_type": "code",
   "execution_count": 57,
   "metadata": {},
   "outputs": [
    {
     "name": "stdout",
     "output_type": "stream",
     "text": [
      "glove_knn --> more_than_one:  2343 , less_than_one:  10625\n"
     ]
    }
   ],
   "source": [
    "more_than_one = 0\n",
    "less_than_one = 0\n",
    "for i in range(num_rows_glove_knn):\n",
    "    if np.sum(gv_knn.matrix[i]) > 1:\n",
    "        more_than_one += 1\n",
    "    else:\n",
    "        less_than_one += 1\n",
    "print('glove_knn --> more_than_one: ', more_than_one, ', less_than_one: ', less_than_one)"
   ]
  },
  {
   "cell_type": "code",
   "execution_count": 58,
   "metadata": {},
   "outputs": [
    {
     "data": {
      "text/plain": [
       "12968"
      ]
     },
     "execution_count": 58,
     "metadata": {},
     "output_type": "execute_result"
    }
   ],
   "source": [
    "num_rows_d2v_knn = len(d2v_knn.matrix)\n",
    "num_rows_d2v_knn"
   ]
  },
  {
   "cell_type": "code",
   "execution_count": 59,
   "metadata": {},
   "outputs": [
    {
     "name": "stdout",
     "output_type": "stream",
     "text": [
      "d2v_knn --> more_than_one:  5850 , less_than_one:  7118\n"
     ]
    }
   ],
   "source": [
    "more_than_one = 0\n",
    "less_than_one = 0\n",
    "for i in range(num_rows_d2v_knn):\n",
    "    if np.sum(d2v_knn.matrix[i]) > 1:\n",
    "        more_than_one += 1\n",
    "    else:\n",
    "        less_than_one += 1\n",
    "print('d2v_knn --> more_than_one: ', more_than_one, ', less_than_one: ', less_than_one)"
   ]
  },
  {
   "cell_type": "markdown",
   "metadata": {},
   "source": [
    "## metric analysis"
   ]
  },
  {
   "cell_type": "code",
   "execution_count": 48,
   "metadata": {},
   "outputs": [
    {
     "ename": "NameError",
     "evalue": "name 'bow_knn' is not defined",
     "output_type": "error",
     "traceback": [
      "\u001b[0;31m---------------------------------------------------------------------------\u001b[0m",
      "\u001b[0;31mNameError\u001b[0m                                 Traceback (most recent call last)",
      "\u001b[0;32m<ipython-input-48-dd3da7454bc3>\u001b[0m in \u001b[0;36m<module>\u001b[0;34m\u001b[0m\n\u001b[0;32m----> 1\u001b[0;31m \u001b[0mprint\u001b[0m\u001b[0;34m(\u001b[0m\u001b[0mbow_knn\u001b[0m\u001b[0;34m.\u001b[0m\u001b[0mintra_avg_list\u001b[0m\u001b[0;34m[\u001b[0m\u001b[0;36m0\u001b[0m\u001b[0;34m]\u001b[0m\u001b[0;34m)\u001b[0m\u001b[0;34m\u001b[0m\u001b[0;34m\u001b[0m\u001b[0m\n\u001b[0m\u001b[1;32m      2\u001b[0m \u001b[0mprint\u001b[0m\u001b[0;34m(\u001b[0m\u001b[0mtfidf_knn\u001b[0m\u001b[0;34m.\u001b[0m\u001b[0mintra_avg_list\u001b[0m\u001b[0;34m[\u001b[0m\u001b[0;36m0\u001b[0m\u001b[0;34m]\u001b[0m\u001b[0;34m)\u001b[0m\u001b[0;34m\u001b[0m\u001b[0;34m\u001b[0m\u001b[0m\n\u001b[1;32m      3\u001b[0m \u001b[0mprint\u001b[0m\u001b[0;34m(\u001b[0m\u001b[0mlda_10_knn\u001b[0m\u001b[0;34m.\u001b[0m\u001b[0mintra_avg_list\u001b[0m\u001b[0;34m[\u001b[0m\u001b[0;36m0\u001b[0m\u001b[0;34m]\u001b[0m\u001b[0;34m)\u001b[0m\u001b[0;34m\u001b[0m\u001b[0;34m\u001b[0m\u001b[0m\n\u001b[1;32m      4\u001b[0m \u001b[0mprint\u001b[0m\u001b[0;34m(\u001b[0m\u001b[0mlda_25_knn\u001b[0m\u001b[0;34m.\u001b[0m\u001b[0mintra_avg_list\u001b[0m\u001b[0;34m[\u001b[0m\u001b[0;36m0\u001b[0m\u001b[0;34m]\u001b[0m\u001b[0;34m)\u001b[0m\u001b[0;34m\u001b[0m\u001b[0;34m\u001b[0m\u001b[0m\n\u001b[1;32m      5\u001b[0m \u001b[0mprint\u001b[0m\u001b[0;34m(\u001b[0m\u001b[0mlda_50_knn\u001b[0m\u001b[0;34m.\u001b[0m\u001b[0mintra_avg_list\u001b[0m\u001b[0;34m[\u001b[0m\u001b[0;36m0\u001b[0m\u001b[0;34m]\u001b[0m\u001b[0;34m)\u001b[0m\u001b[0;34m\u001b[0m\u001b[0;34m\u001b[0m\u001b[0m\n",
      "\u001b[0;31mNameError\u001b[0m: name 'bow_knn' is not defined"
     ]
    }
   ],
   "source": [
    "print(bow_knn.intra_avg_list[0])\n",
    "print(tfidf_knn.intra_avg_list[0])\n",
    "print(lda_10_knn.intra_avg_list[0])\n",
    "print(lda_25_knn.intra_avg_list[0])\n",
    "print(lda_50_knn.intra_avg_list[0])\n",
    "print(w2v_knn.intra_avg_list[0])\n",
    "print(gv_knn.intra_avg_list[0])\n",
    "print(d2v_knn.intra_avg_list[0])"
   ]
  },
  {
   "cell_type": "code",
   "execution_count": 49,
   "metadata": {},
   "outputs": [
    {
     "name": "stdout",
     "output_type": "stream",
     "text": [
      "0.27678707\n"
     ]
    }
   ],
   "source": [
    "print(d2v_knn.intra_avg_list[0])"
   ]
  },
  {
   "cell_type": "markdown",
   "metadata": {},
   "source": [
    "### average intracluster distances"
   ]
  },
  {
   "cell_type": "code",
   "execution_count": 62,
   "metadata": {},
   "outputs": [
    {
     "name": "stderr",
     "output_type": "stream",
     "text": [
      "/Users/dkarsann/anaconda3/lib/python3.7/site-packages/numpy/core/_asarray.py:83: VisibleDeprecationWarning: Creating an ndarray from ragged nested sequences (which is a list-or-tuple of lists-or-tuples-or ndarrays with different lengths or shapes) is deprecated. If you meant to do this, you must specify 'dtype=object' when creating the ndarray\n",
      "  return array(a, dtype, copy=False, order=order)\n"
     ]
    },
    {
     "data": {
      "image/png": "[encoded data removed]",
      "text/plain": [
       "<Figure size 432x288 with 1 Axes>"
      ]
     },
     "metadata": {
      "needs_background": "light"
     },
     "output_type": "display_data"
    }
   ],
   "source": [
    "import matplotlib.pyplot as plt\n",
    "\n",
    "data = [bow_stemmed_knn.intra_avg_list, tfidf_knn.intra_avg_list, lda_10_knn.intra_avg_list, lda_25_knn.intra_avg_list, lda_50_knn.intra_avg_list, w2v_knn.intra_avg_list, gv_knn.intra_avg_list, d2v_knn.intra_avg_list]  \n",
    "#data = [lda_knn.intra_avg_list, w2v_knn.intra_avg_list, gv_knn.intra_avg_list, d2v_knn.intra_avg_list]  \n",
    "fig, ax = plt.subplots()\n",
    "ax.boxplot(data)\n",
    "ax.set_xticklabels(['bow_stemmed', 'tfidf', 'lda_10', 'lda_25', 'lda_50', 'word2vec', 'glove', 'doc2vec'])\n",
    "plt.show()"
   ]
  },
  {
   "cell_type": "code",
   "execution_count": null,
   "metadata": {},
   "outputs": [],
   "source": [
    "plt.savefig('intracluster.png')"
   ]
  },
  {
   "cell_type": "markdown",
   "metadata": {},
   "source": [
    "### average intercluster distances (samples)"
   ]
  },
  {
   "cell_type": "code",
   "execution_count": 43,
   "metadata": {},
   "outputs": [
    {
     "ename": "NameError",
     "evalue": "name 'bow_stemmed_knn_inter_dist_mean' is not defined",
     "output_type": "error",
     "traceback": [
      "\u001b[0;31m---------------------------------------------------------------------------\u001b[0m",
      "\u001b[0;31mNameError\u001b[0m                                 Traceback (most recent call last)",
      "\u001b[0;32m<ipython-input-43-234397841615>\u001b[0m in \u001b[0;36m<module>\u001b[0;34m\u001b[0m\n\u001b[1;32m      2\u001b[0m \u001b[0;31m#objects = ('lda', 'w2v', 'glove', 'd2v')\u001b[0m\u001b[0;34m\u001b[0m\u001b[0;34m\u001b[0m\u001b[0;34m\u001b[0m\u001b[0m\n\u001b[1;32m      3\u001b[0m \u001b[0my_pos\u001b[0m \u001b[0;34m=\u001b[0m \u001b[0mnp\u001b[0m\u001b[0;34m.\u001b[0m\u001b[0marange\u001b[0m\u001b[0;34m(\u001b[0m\u001b[0mlen\u001b[0m\u001b[0;34m(\u001b[0m\u001b[0mobjects\u001b[0m\u001b[0;34m)\u001b[0m\u001b[0;34m)\u001b[0m\u001b[0;34m\u001b[0m\u001b[0;34m\u001b[0m\u001b[0m\n\u001b[0;32m----> 4\u001b[0;31m \u001b[0mperformance\u001b[0m \u001b[0;34m=\u001b[0m \u001b[0;34m[\u001b[0m\u001b[0mbow_stemmed_knn_inter_dist_mean\u001b[0m\u001b[0;34m,\u001b[0m \u001b[0mtfidf_knn_inter_dist_mean\u001b[0m\u001b[0;34m,\u001b[0m \u001b[0mlda_10_knn_inter_dist_mean\u001b[0m\u001b[0;34m,\u001b[0m \u001b[0mlda_25_knn_inter_dist_mean\u001b[0m\u001b[0;34m,\u001b[0m \u001b[0mlda_50_knn_inter_dist_mean\u001b[0m\u001b[0;34m,\u001b[0m \u001b[0mw2v_knn_inter_dist_mean\u001b[0m\u001b[0;34m,\u001b[0m \u001b[0mgv_knn_inter_dist_mean\u001b[0m\u001b[0;34m,\u001b[0m \u001b[0md2v_knn_inter_dist_mean\u001b[0m\u001b[0;34m]\u001b[0m\u001b[0;34m\u001b[0m\u001b[0;34m\u001b[0m\u001b[0m\n\u001b[0m\u001b[1;32m      5\u001b[0m \u001b[0;31m#performance = [lda_knn_inter_dist_mean, w2v_knn_inter_dist_mean, gv_knn_inter_dist_mean, d2v_knn_inter_dist_mean]\u001b[0m\u001b[0;34m\u001b[0m\u001b[0;34m\u001b[0m\u001b[0;34m\u001b[0m\u001b[0m\n\u001b[1;32m      6\u001b[0m \u001b[0;34m\u001b[0m\u001b[0m\n",
      "\u001b[0;31mNameError\u001b[0m: name 'bow_stemmed_knn_inter_dist_mean' is not defined"
     ]
    }
   ],
   "source": [
    "objects = ('bow_stemmed', 'tfidf', 'lda_10', 'lda_25', 'lda_50', 'w2v', 'glove', 'd2v')\n",
    "#objects = ('lda', 'w2v', 'glove', 'd2v')\n",
    "y_pos = np.arange(len(objects))\n",
    "performance = [bow_stemmed_knn_inter_dist_mean, tfidf_knn_inter_dist_mean, lda_10_knn_inter_dist_mean, lda_25_knn_inter_dist_mean, lda_50_knn_inter_dist_mean, w2v_knn_inter_dist_mean, gv_knn_inter_dist_mean, d2v_knn_inter_dist_mean]\n",
    "#performance = [lda_knn_inter_dist_mean, w2v_knn_inter_dist_mean, gv_knn_inter_dist_mean, d2v_knn_inter_dist_mean]\n",
    "\n",
    "plt.bar(y_pos, performance, align='center', alpha=0.5)\n",
    "plt.xticks(y_pos, objects)\n",
    "plt.ylabel('sampled average (500 cluster, 5 iterations)')\n",
    "plt.title('Intercluster Distances')\n",
    "\n",
    "plt.show()"
   ]
  },
  {
   "cell_type": "code",
   "execution_count": null,
   "metadata": {},
   "outputs": [],
   "source": [
    "plt.savefig('intercluster.png')"
   ]
  },
  {
   "cell_type": "markdown",
   "metadata": {},
   "source": [
    "### silhouetter coefficient"
   ]
  },
  {
   "cell_type": "code",
   "execution_count": 55,
   "metadata": {},
   "outputs": [],
   "source": [
    "#intra_avg_mean_list = [np.mean(avg_list) for avg_list in [bow_stemmed_knn.intra_avg_list, tfidf_knn.intra_avg_list, lda_10_knn.intra_avg_list, lda_25_knn.intra_avg_list, lda_50_knn.intra_avg_list, w2v_knn.intra_avg_list, gv_knn.intra_avg_list, d2v_knn.intra_avg_list]]\n",
    "#inter_dist_mean_list = [bow_stemmed_knn_inter_dist_mean, tfidf_knn_inter_dist_mean, lda_10_knn_inter_dist_mean, lda_25_knn_inter_dist_mean, lda_50_knn_inter_dist_mean, w2v_knn_inter_dist_mean, gv_knn_inter_dist_mean, d2v_knn_inter_dist_mean]\n",
    "\n",
    "intra_avg_mean_list = [np.mean(avg_list) for avg_list in [tfidf_knn.intra_avg_list]]\n",
    "inter_dist_mean_list = [tfidf_knn_inter_dist_mean]"
   ]
  },
  {
   "cell_type": "code",
   "execution_count": 56,
   "metadata": {},
   "outputs": [],
   "source": [
    "intra_inter_zipped = zip(intra_avg_mean_list, inter_dist_mean_list)\n",
    "silhouette_scores = []\n",
    "for a, b in intra_inter_zipped:\n",
    "    score = (b - a)/np.max([a, b])\n",
    "    silhouette_scores.append(score)"
   ]
  },
  {
   "cell_type": "code",
   "execution_count": 57,
   "metadata": {},
   "outputs": [
    {
     "data": {
      "text/plain": [
       "[0.7948812877454907]"
      ]
     },
     "execution_count": 57,
     "metadata": {},
     "output_type": "execute_result"
    }
   ],
   "source": [
    "silhouette_scores"
   ]
  },
  {
   "cell_type": "code",
   "execution_count": 60,
   "metadata": {},
   "outputs": [],
   "source": [
    "regular_tfidf_knn_x = Metrics(tfidf_knn.intra_avg_list, tfidf_knn_inter_dist_sample, silhouette_scores[0])"
   ]
  },
  {
   "cell_type": "code",
   "execution_count": 61,
   "metadata": {},
   "outputs": [],
   "source": [
    "import pickle"
   ]
  },
  {
   "cell_type": "code",
   "execution_count": 62,
   "metadata": {},
   "outputs": [],
   "source": [
    "pickle.dump(regular_tfidf_knn_x, open(\"regular_tfidf_knn_x.metrics\", \"wb\"))"
   ]
  },
  {
   "cell_type": "code",
   "execution_count": 63,
   "metadata": {},
   "outputs": [],
   "source": [
    "metrics_from_memory = pickle.load(open(\"regular_tfidf_knn_x.metrics\", \"rb\"))"
   ]
  },
  {
   "cell_type": "code",
   "execution_count": 65,
   "metadata": {},
   "outputs": [
    {
     "data": {
      "text/plain": [
       "[0.7211363604941481,\n",
       " 0.7381030285980862,\n",
       " 0.7220314606088173,\n",
       " 0.7023434886240839,\n",
       " 0.7363830839623386]"
      ]
     },
     "execution_count": 65,
     "metadata": {},
     "output_type": "execute_result"
    }
   ],
   "source": [
    "metrics_from_memory.intra"
   ]
  },
  {
   "cell_type": "code",
   "execution_count": 66,
   "metadata": {},
   "outputs": [
    {
     "data": {
      "text/plain": [
       "array([0.46667944, 0.        , 0.12149935, ..., 0.16368037, 0.15672935,\n",
       "       0.36245913])"
      ]
     },
     "execution_count": 66,
     "metadata": {},
     "output_type": "execute_result"
    }
   ],
   "source": [
    "metrics_from_memory.inter"
   ]
  },
  {
   "cell_type": "code",
   "execution_count": 67,
   "metadata": {},
   "outputs": [
    {
     "data": {
      "text/plain": [
       "0.7948812877454907"
      ]
     },
     "execution_count": 67,
     "metadata": {},
     "output_type": "execute_result"
    }
   ],
   "source": [
    "metrics_from_memory.silhouette"
   ]
  },
  {
   "cell_type": "code",
   "execution_count": 42,
   "metadata": {},
   "outputs": [
    {
     "ename": "NameError",
     "evalue": "name 'bow_stemmed_knn_inter_dist_mean' is not defined",
     "output_type": "error",
     "traceback": [
      "\u001b[0;31m---------------------------------------------------------------------------\u001b[0m",
      "\u001b[0;31mNameError\u001b[0m                                 Traceback (most recent call last)",
      "\u001b[0;32m<ipython-input-42-d9a07afe4bf7>\u001b[0m in \u001b[0;36m<module>\u001b[0;34m\u001b[0m\n\u001b[1;32m      2\u001b[0m \u001b[0mobjects\u001b[0m \u001b[0;34m=\u001b[0m \u001b[0;34m(\u001b[0m\u001b[0;34m'bow_stemmed'\u001b[0m\u001b[0;34m,\u001b[0m \u001b[0;34m'tfidf'\u001b[0m\u001b[0;34m,\u001b[0m \u001b[0;34m'lda_10'\u001b[0m\u001b[0;34m,\u001b[0m \u001b[0;34m'lda_25'\u001b[0m\u001b[0;34m,\u001b[0m \u001b[0;34m'lda_50'\u001b[0m\u001b[0;34m,\u001b[0m \u001b[0;34m'w2v'\u001b[0m\u001b[0;34m,\u001b[0m \u001b[0;34m'glove'\u001b[0m\u001b[0;34m,\u001b[0m \u001b[0;34m'd2v'\u001b[0m\u001b[0;34m)\u001b[0m\u001b[0;34m\u001b[0m\u001b[0;34m\u001b[0m\u001b[0m\n\u001b[1;32m      3\u001b[0m \u001b[0my_pos\u001b[0m \u001b[0;34m=\u001b[0m \u001b[0mnp\u001b[0m\u001b[0;34m.\u001b[0m\u001b[0marange\u001b[0m\u001b[0;34m(\u001b[0m\u001b[0mlen\u001b[0m\u001b[0;34m(\u001b[0m\u001b[0mobjects\u001b[0m\u001b[0;34m)\u001b[0m\u001b[0;34m)\u001b[0m\u001b[0;34m\u001b[0m\u001b[0;34m\u001b[0m\u001b[0m\n\u001b[0;32m----> 4\u001b[0;31m \u001b[0mperformance\u001b[0m \u001b[0;34m=\u001b[0m \u001b[0;34m[\u001b[0m\u001b[0mbow_stemmed_knn_inter_dist_mean\u001b[0m\u001b[0;34m,\u001b[0m \u001b[0mtfidf_knn_inter_dist_mean\u001b[0m\u001b[0;34m,\u001b[0m \u001b[0mlda_10_knn_inter_dist_mean\u001b[0m\u001b[0;34m,\u001b[0m \u001b[0mlda_25_knn_inter_dist_mean\u001b[0m\u001b[0;34m,\u001b[0m \u001b[0mlda_50_knn_inter_dist_mean\u001b[0m\u001b[0;34m,\u001b[0m \u001b[0mw2v_knn_inter_dist_mean\u001b[0m\u001b[0;34m,\u001b[0m \u001b[0mgv_knn_inter_dist_mean\u001b[0m\u001b[0;34m,\u001b[0m \u001b[0md2v_knn_inter_dist_mean\u001b[0m\u001b[0;34m]\u001b[0m\u001b[0;34m\u001b[0m\u001b[0;34m\u001b[0m\u001b[0m\n\u001b[0m\u001b[1;32m      5\u001b[0m \u001b[0;31m#performance = [lda_knn_inter_dist_mean, w2v_knn_inter_dist_mean, gv_knn_inter_dist_mean, d2v_knn_inter_dist_mean]\u001b[0m\u001b[0;34m\u001b[0m\u001b[0;34m\u001b[0m\u001b[0;34m\u001b[0m\u001b[0m\n\u001b[1;32m      6\u001b[0m \u001b[0;34m\u001b[0m\u001b[0m\n",
      "\u001b[0;31mNameError\u001b[0m: name 'bow_stemmed_knn_inter_dist_mean' is not defined"
     ]
    }
   ],
   "source": [
    "#objects = ('tfidf', 'lda', 'w2v', 'glove', 'd2v')\n",
    "objects = ('bow_stemmed', 'tfidf', 'lda_10', 'lda_25', 'lda_50', 'w2v', 'glove', 'd2v')\n",
    "y_pos = np.arange(len(objects))\n",
    "performance = [bow_stemmed_knn_inter_dist_mean, tfidf_knn_inter_dist_mean, lda_10_knn_inter_dist_mean, lda_25_knn_inter_dist_mean, lda_50_knn_inter_dist_mean, w2v_knn_inter_dist_mean, gv_knn_inter_dist_mean, d2v_knn_inter_dist_mean]\n",
    "#performance = [lda_knn_inter_dist_mean, w2v_knn_inter_dist_mean, gv_knn_inter_dist_mean, d2v_knn_inter_dist_mean]\n",
    "\n",
    "plt.bar(y_pos, silhouette_scores, align='center', alpha=0.5)\n",
    "plt.xticks(y_pos, objects)\n",
    "plt.ylabel('sampled average (500 cluster, 5 iterations)')\n",
    "plt.title('Silhouettes Coefficients')\n",
    "\n",
    "plt.show()"
   ]
  },
  {
   "cell_type": "code",
   "execution_count": null,
   "metadata": {},
   "outputs": [],
   "source": [
    "plt.savefig('silhouette.png')"
   ]
  },
  {
   "cell_type": "code",
   "execution_count": null,
   "metadata": {},
   "outputs": [],
   "source": []
  }
 ],
 "metadata": {
  "kernelspec": {
   "display_name": "Python 3",
   "language": "python",
   "name": "python3"
  },
  "language_info": {
   "codemirror_mode": {
    "name": "ipython",
    "version": 3
   },
   "file_extension": ".py",
   "mimetype": "text/x-python",
   "name": "python",
   "nbconvert_exporter": "python",
   "pygments_lexer": "ipython3",
   "version": "3.7.1"
  }
 },
 "nbformat": 4,
 "nbformat_minor": 2
}
