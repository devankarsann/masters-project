{
 "cells": [
  {
   "cell_type": "code",
   "execution_count": 1,
   "metadata": {},
   "outputs": [],
   "source": [
    "import pandas as pd\n",
    "import numpy as np\n",
    "import seaborn as sns\n",
    "from tqdm.auto import tqdm\n",
    "tqdm.pandas()\n",
    "import matplotlib.pyplot as plt\n",
    "import sys\n",
    "import scipy\n",
    "import torch\n",
    "import pickle"
   ]
  },
  {
   "cell_type": "markdown",
   "metadata": {},
   "source": [
    "to-do: include bow vector generation here"
   ]
  },
  {
   "cell_type": "markdown",
   "metadata": {},
   "source": [
    "### appdetex"
   ]
  },
  {
   "cell_type": "code",
   "execution_count": 2,
   "metadata": {},
   "outputs": [
    {
     "data": {
      "text/html": [
       "<div>\n",
       "<style scoped>\n",
       "    .dataframe tbody tr th:only-of-type {\n",
       "        vertical-align: middle;\n",
       "    }\n",
       "\n",
       "    .dataframe tbody tr th {\n",
       "        vertical-align: top;\n",
       "    }\n",
       "\n",
       "    .dataframe thead th {\n",
       "        text-align: right;\n",
       "    }\n",
       "</style>\n",
       "<table border=\"1\" class=\"dataframe\">\n",
       "  <thead>\n",
       "    <tr style=\"text-align: right;\">\n",
       "      <th></th>\n",
       "      <th>DOMAIN</th>\n",
       "      <th>RAW_CONTENT</th>\n",
       "      <th>RAW_CONTENT_PROCESSED</th>\n",
       "      <th>RAW_CONTENT_PROCESSED_STEMMED</th>\n",
       "    </tr>\n",
       "  </thead>\n",
       "  <tbody>\n",
       "    <tr>\n",
       "      <th>0</th>\n",
       "      <td>0-my.com</td>\n",
       "      <td>0-my.com related searches: related searches:</td>\n",
       "      <td>[mycom, related, searches, related, searches]</td>\n",
       "      <td>[mycom, relat, search, relat, search]</td>\n",
       "    </tr>\n",
       "    <tr>\n",
       "      <th>1</th>\n",
       "      <td>00bitz.com</td>\n",
       "      <td>error. page cannot be displayed. please contac...</td>\n",
       "      <td>[error, page, cannot, displayed, please, conta...</td>\n",
       "      <td>[error, page, cannot, display, pleas, contact,...</td>\n",
       "    </tr>\n",
       "    <tr>\n",
       "      <th>2</th>\n",
       "      <td>01187.com</td>\n",
       "      <td>01187.com is available for purchase! - wwwv1.c...</td>\n",
       "      <td>[com, vailable, purchase, wwwvcom, welcome, uu...</td>\n",
       "      <td>[com, vailabl, purchas, wwwvcom, welcom, uunic...</td>\n",
       "    </tr>\n",
       "    <tr>\n",
       "      <th>3</th>\n",
       "      <td>027.ir</td>\n",
       "      <td>027.ir - dns4.ir 027.ir hits: 7,267 under cons...</td>\n",
       "      <td>[ir, dnsir, ir, hits, construction, coming, so...</td>\n",
       "      <td>[ir, dnsir, ir, hit, construct, come, soon, ho...</td>\n",
       "    </tr>\n",
       "    <tr>\n",
       "      <th>4</th>\n",
       "      <td>03h.org</td>\n",
       "      <td>february | 2014 | online marketing review sear...</td>\n",
       "      <td>[february, online, marketing, review, search, ...</td>\n",
       "      <td>[februari, onlin, market, review, search, rece...</td>\n",
       "    </tr>\n",
       "  </tbody>\n",
       "</table>\n",
       "</div>"
      ],
      "text/plain": [
       "       DOMAIN                                        RAW_CONTENT  \\\n",
       "0    0-my.com       0-my.com related searches: related searches:   \n",
       "1  00bitz.com  error. page cannot be displayed. please contac...   \n",
       "2   01187.com  01187.com is available for purchase! - wwwv1.c...   \n",
       "3      027.ir  027.ir - dns4.ir 027.ir hits: 7,267 under cons...   \n",
       "4     03h.org  february | 2014 | online marketing review sear...   \n",
       "\n",
       "                               RAW_CONTENT_PROCESSED  \\\n",
       "0      [mycom, related, searches, related, searches]   \n",
       "1  [error, page, cannot, displayed, please, conta...   \n",
       "2  [com, vailable, purchase, wwwvcom, welcome, uu...   \n",
       "3  [ir, dnsir, ir, hits, construction, coming, so...   \n",
       "4  [february, online, marketing, review, search, ...   \n",
       "\n",
       "                       RAW_CONTENT_PROCESSED_STEMMED  \n",
       "0              [mycom, relat, search, relat, search]  \n",
       "1  [error, page, cannot, display, pleas, contact,...  \n",
       "2  [com, vailabl, purchas, wwwvcom, welcom, uunic...  \n",
       "3  [ir, dnsir, ir, hit, construct, come, soon, ho...  \n",
       "4  [februari, onlin, market, review, search, rece...  "
      ]
     },
     "execution_count": 2,
     "metadata": {},
     "output_type": "execute_result"
    }
   ],
   "source": [
    "df_merged = pickle.load(open(\"../../processed_files/df_processed.pickle\", \"rb\"))\n",
    "df_merged.head()"
   ]
  },
  {
   "cell_type": "markdown",
   "metadata": {},
   "source": [
    "# Models"
   ]
  },
  {
   "cell_type": "code",
   "execution_count": 3,
   "metadata": {
    "scrolled": true
   },
   "outputs": [],
   "source": [
    "#from util import CountVec, aggregate"
   ]
  },
  {
   "cell_type": "code",
   "execution_count": 4,
   "metadata": {
    "scrolled": true
   },
   "outputs": [],
   "source": [
    "from Models import TFIDF, LDA, Glove, W2V, DOC2VEC"
   ]
  },
  {
   "cell_type": "markdown",
   "metadata": {},
   "source": [
    "## TFIDF non-stemmed"
   ]
  },
  {
   "cell_type": "code",
   "execution_count": 5,
   "metadata": {},
   "outputs": [
    {
     "name": "stdout",
     "output_type": "stream",
     "text": [
      "CPU times: user 3.59 s, sys: 155 ms, total: 3.75 s\n",
      "Wall time: 3.76 s\n"
     ]
    }
   ],
   "source": [
    "%%time\n",
    "tfidf = TFIDF()\n",
    "tfidf.load_preprocessed(df_merged['RAW_CONTENT_PROCESSED'])\n",
    "tfidf_matrix = tfidf.fit()"
   ]
  },
  {
   "cell_type": "code",
   "execution_count": 6,
   "metadata": {},
   "outputs": [
    {
     "data": {
      "text/plain": [
       "<12968x309559 sparse matrix of type '<class 'numpy.float64'>'\n",
       "\twith 2695448 stored elements in Compressed Sparse Row format>"
      ]
     },
     "execution_count": 6,
     "metadata": {},
     "output_type": "execute_result"
    }
   ],
   "source": [
    "tfidf_matrix"
   ]
  },
  {
   "cell_type": "code",
   "execution_count": 7,
   "metadata": {},
   "outputs": [
    {
     "name": "stdout",
     "output_type": "stream",
     "text": [
      "(12968, 309559)\n",
      "(1, 309559)\n"
     ]
    }
   ],
   "source": [
    "print(tfidf_matrix.shape)\n",
    "print(tfidf_matrix[0].shape)"
   ]
  },
  {
   "cell_type": "code",
   "execution_count": 8,
   "metadata": {},
   "outputs": [],
   "source": [
    "scipy.sparse.save_npz('../../processed_files/tfidf/tfidf_matrix.npz', tfidf_matrix)"
   ]
  },
  {
   "cell_type": "markdown",
   "metadata": {},
   "source": [
    "# TFIDF"
   ]
  },
  {
   "cell_type": "markdown",
   "metadata": {},
   "source": [
    "pre-processd corpus"
   ]
  },
  {
   "cell_type": "code",
   "execution_count": 9,
   "metadata": {},
   "outputs": [
    {
     "name": "stdout",
     "output_type": "stream",
     "text": [
      "CPU times: user 3.02 s, sys: 112 ms, total: 3.13 s\n",
      "Wall time: 3.14 s\n"
     ]
    }
   ],
   "source": [
    "%%time\n",
    "tfidf = TFIDF()\n",
    "tfidf.load_preprocessed(df_merged['RAW_CONTENT_PROCESSED_STEMMED'])\n",
    "tfidf_matrix = tfidf.fit()"
   ]
  },
  {
   "cell_type": "code",
   "execution_count": 10,
   "metadata": {},
   "outputs": [
    {
     "data": {
      "text/plain": [
       "<12968x272069 sparse matrix of type '<class 'numpy.float64'>'\n",
       "\twith 2407528 stored elements in Compressed Sparse Row format>"
      ]
     },
     "execution_count": 10,
     "metadata": {},
     "output_type": "execute_result"
    }
   ],
   "source": [
    "tfidf_matrix"
   ]
  },
  {
   "cell_type": "code",
   "execution_count": 11,
   "metadata": {},
   "outputs": [
    {
     "name": "stdout",
     "output_type": "stream",
     "text": [
      "(12968, 272069)\n",
      "(1, 272069)\n"
     ]
    }
   ],
   "source": [
    "print(tfidf_matrix.shape)\n",
    "print(tfidf_matrix[0].shape)"
   ]
  },
  {
   "cell_type": "code",
   "execution_count": 12,
   "metadata": {},
   "outputs": [],
   "source": [
    "scipy.sparse.save_npz('../../processed_files/stemmed_tfidf_matrix.npz', tfidf_matrix)"
   ]
  },
  {
   "cell_type": "markdown",
   "metadata": {},
   "source": [
    "# LDA 10 non-stemmed"
   ]
  },
  {
   "cell_type": "code",
   "execution_count": 13,
   "metadata": {},
   "outputs": [
    {
     "name": "stderr",
     "output_type": "stream",
     "text": [
      "/Users/dkarsann/anaconda3/lib/python3.7/site-packages/sklearn/utils/validation.py:72: FutureWarning: Pass doc_topic_prior=0 as keyword args. From version 1.0 (renaming of 0.25) passing these as positional arguments will result in an error\n",
      "  \"will result in an error\", FutureWarning)\n",
      "/Users/dkarsann/anaconda3/lib/python3.7/site-packages/sklearn/decomposition/_lda.py:694: RuntimeWarning: invalid value encountered in multiply\n",
      "  score = np.sum((prior - distr) * dirichlet_distr)\n",
      "/Users/dkarsann/anaconda3/lib/python3.7/site-packages/sklearn/decomposition/_lda.py:695: RuntimeWarning: invalid value encountered in subtract\n",
      "  score += np.sum(gammaln(distr) - gammaln(prior))\n"
     ]
    }
   ],
   "source": [
    "lda = LDA(10)\n",
    "lda.load_preprocessed(df_merged['RAW_CONTENT_PROCESSED'])\n",
    "lda_matrix = lda.fit()"
   ]
  },
  {
   "cell_type": "code",
   "execution_count": 14,
   "metadata": {},
   "outputs": [
    {
     "name": "stdout",
     "output_type": "stream",
     "text": [
      "(12968, 20)\n",
      "(20,)\n"
     ]
    }
   ],
   "source": [
    "print(lda_matrix.shape)\n",
    "print(lda_matrix[0].shape)"
   ]
  },
  {
   "cell_type": "code",
   "execution_count": 15,
   "metadata": {},
   "outputs": [],
   "source": [
    "# saving model\n",
    "np.save('../../processed_files/lda/lda_10_matrix.npy', lda_matrix)\n",
    "#scipy.sparse.save_npz('processed_files/lda_matrix.npz', lda_matrix)"
   ]
  },
  {
   "cell_type": "markdown",
   "metadata": {},
   "source": [
    "# LDA 10 stemmed"
   ]
  },
  {
   "cell_type": "markdown",
   "metadata": {},
   "source": [
    "pre-processed corpus"
   ]
  },
  {
   "cell_type": "code",
   "execution_count": 5,
   "metadata": {},
   "outputs": [
    {
     "name": "stderr",
     "output_type": "stream",
     "text": [
      "/Users/dkarsann/anaconda3/lib/python3.7/site-packages/sklearn/utils/validation.py:72: FutureWarning: Pass doc_topic_prior=0 as keyword args. From version 1.0 (renaming of 0.25) passing these as positional arguments will result in an error\n",
      "  \"will result in an error\", FutureWarning)\n",
      "/Users/dkarsann/anaconda3/lib/python3.7/site-packages/sklearn/decomposition/_lda.py:694: RuntimeWarning: invalid value encountered in multiply\n",
      "  score = np.sum((prior - distr) * dirichlet_distr)\n",
      "/Users/dkarsann/anaconda3/lib/python3.7/site-packages/sklearn/decomposition/_lda.py:695: RuntimeWarning: invalid value encountered in subtract\n",
      "  score += np.sum(gammaln(distr) - gammaln(prior))\n"
     ]
    }
   ],
   "source": [
    "lda = LDA(10)\n",
    "lda.load_preprocessed(df_merged['RAW_CONTENT_PROCESSED_STEMMED'])\n",
    "lda_matrix = lda.fit()"
   ]
  },
  {
   "cell_type": "code",
   "execution_count": 6,
   "metadata": {},
   "outputs": [],
   "source": [
    "#lda = LDA()\n",
    "#lda.preprocess(df_merged, 'RAW_CONTENT')\n",
    "#lda_matrix = lda.fit()"
   ]
  },
  {
   "cell_type": "code",
   "execution_count": 7,
   "metadata": {},
   "outputs": [
    {
     "name": "stdout",
     "output_type": "stream",
     "text": [
      "(12968, 20)\n",
      "(20,)\n"
     ]
    }
   ],
   "source": [
    "print(lda_matrix.shape)\n",
    "print(lda_matrix[0].shape)"
   ]
  },
  {
   "cell_type": "code",
   "execution_count": 19,
   "metadata": {},
   "outputs": [],
   "source": [
    "# saving model\n",
    "np.save('../../processed_files/lda/stemmed_lda_10_matrix.npy', lda_matrix)\n",
    "#scipy.sparse.save_npz('processed_files/lda_matrix.npz', lda_matrix)"
   ]
  },
  {
   "cell_type": "markdown",
   "metadata": {},
   "source": []
  },
  {
   "cell_type": "markdown",
   "metadata": {},
   "source": [
    "# LDA 25 non-stemmed"
   ]
  },
  {
   "cell_type": "code",
   "execution_count": 20,
   "metadata": {},
   "outputs": [],
   "source": [
    "lda = LDA(25)\n",
    "lda.load_preprocessed(df_merged['RAW_CONTENT_PROCESSED'])\n",
    "lda_matrix = lda.fit()"
   ]
  },
  {
   "cell_type": "code",
   "execution_count": 21,
   "metadata": {},
   "outputs": [],
   "source": [
    "# saving model\n",
    "np.save('../../processed_files/lda/lda_25_matrix.npy', lda_matrix)\n",
    "#scipy.sparse.save_npz('processed_files/lda_matrix.npz', lda_matrix)"
   ]
  },
  {
   "cell_type": "markdown",
   "metadata": {},
   "source": [
    "# LDA 25 stemmed"
   ]
  },
  {
   "cell_type": "code",
   "execution_count": 22,
   "metadata": {},
   "outputs": [],
   "source": [
    "lda = LDA(25)\n",
    "lda.load_preprocessed(df_merged['RAW_CONTENT_PROCESSED_STEMMED'])\n",
    "lda_matrix = lda.fit()"
   ]
  },
  {
   "cell_type": "code",
   "execution_count": 23,
   "metadata": {},
   "outputs": [
    {
     "name": "stdout",
     "output_type": "stream",
     "text": [
      "(12968, 20)\n",
      "(20,)\n"
     ]
    }
   ],
   "source": [
    "print(lda_matrix.shape)\n",
    "print(lda_matrix[0].shape)"
   ]
  },
  {
   "cell_type": "code",
   "execution_count": 24,
   "metadata": {},
   "outputs": [],
   "source": [
    "# saving model\n",
    "np.save('../../processed_files/lda/stemmed_lda_25_matrix.npy', lda_matrix)\n",
    "#scipy.sparse.save_npz('processed_files/lda_matrix.npz', lda_matrix)"
   ]
  },
  {
   "cell_type": "markdown",
   "metadata": {},
   "source": []
  },
  {
   "cell_type": "markdown",
   "metadata": {},
   "source": [
    "# LDA 50 non-stemmed"
   ]
  },
  {
   "cell_type": "code",
   "execution_count": 25,
   "metadata": {},
   "outputs": [],
   "source": [
    "lda = LDA(50)\n",
    "lda.load_preprocessed(df_merged['RAW_CONTENT_PROCESSED'])\n",
    "lda_matrix = lda.fit()"
   ]
  },
  {
   "cell_type": "code",
   "execution_count": 26,
   "metadata": {},
   "outputs": [
    {
     "name": "stdout",
     "output_type": "stream",
     "text": [
      "(12968, 20)\n",
      "(20,)\n"
     ]
    }
   ],
   "source": [
    "print(lda_matrix.shape)\n",
    "print(lda_matrix[0].shape)"
   ]
  },
  {
   "cell_type": "code",
   "execution_count": 27,
   "metadata": {},
   "outputs": [],
   "source": [
    "# saving model\n",
    "np.save('../../processed_files/lda/lda_50_matrix.npy', lda_matrix)\n",
    "#scipy.sparse.save_npz('processed_files/lda_matrix.npz', lda_matrix)"
   ]
  },
  {
   "cell_type": "markdown",
   "metadata": {},
   "source": [
    "# LDA 50 stemmed"
   ]
  },
  {
   "cell_type": "code",
   "execution_count": 28,
   "metadata": {},
   "outputs": [],
   "source": [
    "lda = LDA(50)\n",
    "lda.load_preprocessed(df_merged['RAW_CONTENT_PROCESSED_STEMMED'])\n",
    "lda_matrix = lda.fit()"
   ]
  },
  {
   "cell_type": "code",
   "execution_count": 29,
   "metadata": {},
   "outputs": [],
   "source": [
    "# saving model\n",
    "np.save('../../processed_files/lda/stemmed_lda_50_matrix.npy', lda_matrix)\n",
    "#scipy.sparse.save_npz('processed_files/lda_matrix.npz', lda_matrix)"
   ]
  },
  {
   "cell_type": "markdown",
   "metadata": {},
   "source": [
    "# Embedding Models"
   ]
  },
  {
   "cell_type": "markdown",
   "metadata": {},
   "source": [
    "## word2vec non-stemmed\n",
    "1. pre processed corpus\n",
    "2. pre-trained model"
   ]
  },
  {
   "cell_type": "code",
   "execution_count": 30,
   "metadata": {},
   "outputs": [
    {
     "name": "stderr",
     "output_type": "stream",
     "text": [
      "/Users/dkarsann/anaconda3/lib/python3.7/site-packages/numpy/core/fromnumeric.py:3373: RuntimeWarning: Mean of empty slice.\n",
      "  out=out, **kwargs)\n"
     ]
    }
   ],
   "source": [
    "wv = W2V()\n",
    "wv.load_preprocessed(df_merged['RAW_CONTENT_PROCESSED'])\n",
    "wv.load_pretrained()\n",
    "wv_matrix = wv.fit()"
   ]
  },
  {
   "cell_type": "markdown",
   "metadata": {},
   "source": [
    "1. process corpus\n",
    "2. pre-trained model"
   ]
  },
  {
   "cell_type": "code",
   "execution_count": 31,
   "metadata": {},
   "outputs": [],
   "source": [
    "#wv1 = W2V()\n",
    "#wv1.preprocess(df_merged, 'RAW_CONTENT')\n",
    "#wv1.load_pretrained()\n",
    "#wv_matrix = wv1.fit()\n",
    "#wv_matrix[0].shape"
   ]
  },
  {
   "cell_type": "code",
   "execution_count": 32,
   "metadata": {},
   "outputs": [],
   "source": [
    "#wv_matrix"
   ]
  },
  {
   "cell_type": "code",
   "execution_count": 33,
   "metadata": {
    "scrolled": true
   },
   "outputs": [
    {
     "name": "stdout",
     "output_type": "stream",
     "text": [
      "172\n",
      "nan\n",
      "198\n",
      "nan\n",
      "393\n",
      "nan\n",
      "398\n",
      "nan\n",
      "627\n",
      "nan\n",
      "896\n",
      "nan\n",
      "1022\n",
      "nan\n",
      "1078\n",
      "nan\n",
      "1194\n",
      "nan\n",
      "1225\n",
      "nan\n",
      "1395\n",
      "nan\n",
      "1493\n",
      "nan\n",
      "1663\n",
      "nan\n",
      "1664\n",
      "nan\n",
      "1710\n",
      "nan\n",
      "2079\n",
      "nan\n",
      "2154\n",
      "nan\n",
      "2163\n",
      "nan\n",
      "2277\n",
      "nan\n",
      "2434\n",
      "nan\n",
      "2580\n",
      "nan\n",
      "2581\n",
      "nan\n",
      "2607\n",
      "nan\n",
      "3083\n",
      "nan\n",
      "3308\n",
      "nan\n",
      "3509\n",
      "nan\n",
      "3944\n",
      "nan\n",
      "4123\n",
      "nan\n",
      "4179\n",
      "nan\n",
      "4265\n",
      "nan\n",
      "4268\n",
      "nan\n",
      "4310\n",
      "nan\n",
      "4682\n",
      "nan\n",
      "4900\n",
      "nan\n",
      "4945\n",
      "nan\n",
      "4980\n",
      "nan\n",
      "5043\n",
      "nan\n",
      "5255\n",
      "nan\n",
      "5276\n",
      "nan\n",
      "5815\n",
      "nan\n",
      "6407\n",
      "nan\n",
      "6495\n",
      "nan\n",
      "6734\n",
      "nan\n",
      "6761\n",
      "nan\n",
      "6778\n",
      "nan\n",
      "7020\n",
      "nan\n",
      "7441\n",
      "nan\n",
      "7469\n",
      "nan\n",
      "7500\n",
      "nan\n",
      "7730\n",
      "nan\n",
      "7769\n",
      "nan\n",
      "7870\n",
      "nan\n",
      "7984\n",
      "nan\n",
      "8471\n",
      "nan\n",
      "8516\n",
      "nan\n",
      "8952\n",
      "nan\n",
      "9397\n",
      "nan\n",
      "9672\n",
      "nan\n",
      "9674\n",
      "nan\n",
      "9690\n",
      "nan\n",
      "10353\n",
      "nan\n",
      "10401\n",
      "nan\n",
      "10533\n",
      "nan\n",
      "10609\n",
      "nan\n",
      "10886\n",
      "nan\n",
      "10934\n",
      "nan\n",
      "10969\n",
      "nan\n",
      "10987\n",
      "nan\n",
      "11078\n",
      "nan\n",
      "11107\n",
      "nan\n",
      "11110\n",
      "nan\n",
      "11393\n",
      "nan\n",
      "11564\n",
      "nan\n",
      "11619\n",
      "nan\n",
      "11926\n",
      "nan\n",
      "11961\n",
      "nan\n",
      "12070\n",
      "nan\n",
      "12078\n",
      "nan\n",
      "12364\n",
      "nan\n",
      "12595\n",
      "nan\n",
      "12616\n",
      "nan\n",
      "12646\n",
      "nan\n",
      "12900\n",
      "nan\n",
      "12920\n",
      "nan\n"
     ]
    }
   ],
   "source": [
    "for index, w in wv_matrix.items():\n",
    "    try:\n",
    "        if w.shape[0] != 300:\n",
    "            print(index)\n",
    "    except:\n",
    "        print(index)\n",
    "        print(w)\n",
    "        wv_matrix[index] = np.zeros(300)"
   ]
  },
  {
   "cell_type": "code",
   "execution_count": 34,
   "metadata": {},
   "outputs": [
    {
     "data": {
      "text/plain": [
       "(12968, 300)"
      ]
     },
     "execution_count": 34,
     "metadata": {},
     "output_type": "execute_result"
    }
   ],
   "source": [
    "wv_mat = np.matrix(wv_matrix.tolist())\n",
    "wv_mat.shape"
   ]
  },
  {
   "cell_type": "code",
   "execution_count": 26,
   "metadata": {},
   "outputs": [],
   "source": [
    "#wv_mat"
   ]
  },
  {
   "cell_type": "code",
   "execution_count": 35,
   "metadata": {},
   "outputs": [],
   "source": [
    "# saving model\n",
    "np.save('../../processed_files/w2v/w2v_matrix.npy', wv_mat)\n",
    "#scipy.sparse.save_npz('processed_files/wv_matrix.npz', wv_mat)"
   ]
  },
  {
   "cell_type": "markdown",
   "metadata": {},
   "source": [
    "# word2vec stemmed"
   ]
  },
  {
   "cell_type": "code",
   "execution_count": 36,
   "metadata": {},
   "outputs": [
    {
     "name": "stderr",
     "output_type": "stream",
     "text": [
      "/Users/dkarsann/anaconda3/lib/python3.7/site-packages/numpy/core/fromnumeric.py:3373: RuntimeWarning: Mean of empty slice.\n",
      "  out=out, **kwargs)\n"
     ]
    }
   ],
   "source": [
    "wv = W2V()\n",
    "wv.load_preprocessed(df_merged['RAW_CONTENT_PROCESSED_STEMMED'])\n",
    "wv.load_pretrained()\n",
    "wv_matrix = wv.fit()"
   ]
  },
  {
   "cell_type": "code",
   "execution_count": 37,
   "metadata": {},
   "outputs": [
    {
     "name": "stdout",
     "output_type": "stream",
     "text": [
      "169\n",
      "nan\n",
      "172\n",
      "nan\n",
      "198\n",
      "nan\n",
      "393\n",
      "nan\n",
      "398\n",
      "nan\n",
      "627\n",
      "nan\n",
      "896\n",
      "nan\n",
      "1022\n",
      "nan\n",
      "1078\n",
      "nan\n",
      "1194\n",
      "nan\n",
      "1225\n",
      "nan\n",
      "1305\n",
      "nan\n",
      "1395\n",
      "nan\n",
      "1493\n",
      "nan\n",
      "1663\n",
      "nan\n",
      "1664\n",
      "nan\n",
      "1710\n",
      "nan\n",
      "1799\n",
      "nan\n",
      "2079\n",
      "nan\n",
      "2154\n",
      "nan\n",
      "2163\n",
      "nan\n",
      "2277\n",
      "nan\n",
      "2434\n",
      "nan\n",
      "2580\n",
      "nan\n",
      "2581\n",
      "nan\n",
      "2607\n",
      "nan\n",
      "2719\n",
      "nan\n",
      "2782\n",
      "nan\n",
      "3083\n",
      "nan\n",
      "3194\n",
      "nan\n",
      "3308\n",
      "nan\n",
      "3371\n",
      "nan\n",
      "3509\n",
      "nan\n",
      "3944\n",
      "nan\n",
      "4123\n",
      "nan\n",
      "4179\n",
      "nan\n",
      "4265\n",
      "nan\n",
      "4268\n",
      "nan\n",
      "4275\n",
      "nan\n",
      "4310\n",
      "nan\n",
      "4682\n",
      "nan\n",
      "4900\n",
      "nan\n",
      "4945\n",
      "nan\n",
      "4980\n",
      "nan\n",
      "5043\n",
      "nan\n",
      "5118\n",
      "nan\n",
      "5255\n",
      "nan\n",
      "5276\n",
      "nan\n",
      "5815\n",
      "nan\n",
      "6407\n",
      "nan\n",
      "6495\n",
      "nan\n",
      "6734\n",
      "nan\n",
      "6761\n",
      "nan\n",
      "6778\n",
      "nan\n",
      "7007\n",
      "nan\n",
      "7020\n",
      "nan\n",
      "7079\n",
      "nan\n",
      "7441\n",
      "nan\n",
      "7469\n",
      "nan\n",
      "7500\n",
      "nan\n",
      "7730\n",
      "nan\n",
      "7734\n",
      "nan\n",
      "7769\n",
      "nan\n",
      "7870\n",
      "nan\n",
      "7984\n",
      "nan\n",
      "8471\n",
      "nan\n",
      "8516\n",
      "nan\n",
      "8952\n",
      "nan\n",
      "9322\n",
      "nan\n",
      "9397\n",
      "nan\n",
      "9672\n",
      "nan\n",
      "9674\n",
      "nan\n",
      "9690\n",
      "nan\n",
      "10353\n",
      "nan\n",
      "10401\n",
      "nan\n",
      "10484\n",
      "nan\n",
      "10533\n",
      "nan\n",
      "10609\n",
      "nan\n",
      "10886\n",
      "nan\n",
      "10902\n",
      "nan\n",
      "10934\n",
      "nan\n",
      "10969\n",
      "nan\n",
      "10987\n",
      "nan\n",
      "11078\n",
      "nan\n",
      "11107\n",
      "nan\n",
      "11110\n",
      "nan\n",
      "11299\n",
      "nan\n",
      "11393\n",
      "nan\n",
      "11564\n",
      "nan\n",
      "11619\n",
      "nan\n",
      "11635\n",
      "nan\n",
      "11926\n",
      "nan\n",
      "11961\n",
      "nan\n",
      "12070\n",
      "nan\n",
      "12078\n",
      "nan\n",
      "12364\n",
      "nan\n",
      "12400\n",
      "nan\n",
      "12531\n",
      "nan\n",
      "12581\n",
      "nan\n",
      "12595\n",
      "nan\n",
      "12616\n",
      "nan\n",
      "12643\n",
      "nan\n",
      "12646\n",
      "nan\n",
      "12900\n",
      "nan\n",
      "12920\n",
      "nan\n"
     ]
    }
   ],
   "source": [
    "for index, w in wv_matrix.items():\n",
    "    try:\n",
    "        if w.shape[0] != 300:\n",
    "            print(index)\n",
    "    except:\n",
    "        print(index)\n",
    "        print(w)\n",
    "        wv_matrix[index] = np.zeros(300)"
   ]
  },
  {
   "cell_type": "code",
   "execution_count": 38,
   "metadata": {},
   "outputs": [
    {
     "data": {
      "text/plain": [
       "(12968, 300)"
      ]
     },
     "execution_count": 38,
     "metadata": {},
     "output_type": "execute_result"
    }
   ],
   "source": [
    "wv_mat = np.matrix(wv_matrix.tolist())\n",
    "wv_mat.shape"
   ]
  },
  {
   "cell_type": "code",
   "execution_count": 39,
   "metadata": {},
   "outputs": [],
   "source": [
    "# saving model\n",
    "np.save('../../processed_files/w2v/stemmed_w2v_matrix.npy', wv_mat)\n",
    "#scipy.sparse.save_npz('processed_files/wv_matrix.npz', wv_mat)"
   ]
  },
  {
   "cell_type": "markdown",
   "metadata": {},
   "source": [
    "## Glove non-stemmed\n",
    "Glove doesn't have train"
   ]
  },
  {
   "cell_type": "markdown",
   "metadata": {},
   "source": [
    "1. pre-processed corpus\n",
    "2. pre-trained model"
   ]
  },
  {
   "cell_type": "code",
   "execution_count": 8,
   "metadata": {},
   "outputs": [],
   "source": [
    "#path='glove.840B.300d.txt'\n",
    "#embedding_dict={}\n",
    "\n",
    "#with open(path,'r') as f:\n",
    "#    for line in f:\n",
    "#        print(line)\n",
    "#        print()\n",
    "#        values = line.split()\n",
    "#        print(values)\n",
    "#        print()\n",
    "#        word = values[0]\n",
    "#        print(word)\n",
    "#        print()\n",
    "#        vectors=np.asarray(values[1:],'float32')\n",
    "#        print(vectors)\n",
    "#        print()\n",
    "#        embedding_dict[word]=vectors\n",
    "#f.close()"
   ]
  },
  {
   "cell_type": "code",
   "execution_count": 40,
   "metadata": {},
   "outputs": [],
   "source": [
    "gv = Glove()\n",
    "#gv.load_preprocessed(doc_tokens)\n",
    "gv.load_preprocessed(df_merged['RAW_CONTENT_PROCESSED'])\n",
    "gv.load_pretrained()\n",
    "gv_matrix = gv.fit()"
   ]
  },
  {
   "cell_type": "markdown",
   "metadata": {},
   "source": [
    "1. process corpus\n",
    "2. pre-trained model"
   ]
  },
  {
   "cell_type": "code",
   "execution_count": 41,
   "metadata": {},
   "outputs": [],
   "source": [
    "#gv = Glove()\n",
    "#gv.preprocess(df_merged, 'RAW_CONTENT')\n",
    "#gv.load_pretrained()\n",
    "#gv_matrix = gv.fit()"
   ]
  },
  {
   "cell_type": "code",
   "execution_count": 42,
   "metadata": {},
   "outputs": [
    {
     "name": "stdout",
     "output_type": "stream",
     "text": [
      "(12968,)\n",
      "(300,)\n"
     ]
    }
   ],
   "source": [
    "print(gv_matrix.shape)\n",
    "print(gv_matrix[0].shape)"
   ]
  },
  {
   "cell_type": "code",
   "execution_count": 43,
   "metadata": {},
   "outputs": [
    {
     "data": {
      "text/plain": [
       "pandas.core.series.Series"
      ]
     },
     "execution_count": 43,
     "metadata": {},
     "output_type": "execute_result"
    }
   ],
   "source": [
    "type(gv_matrix)"
   ]
  },
  {
   "cell_type": "code",
   "execution_count": 44,
   "metadata": {},
   "outputs": [
    {
     "data": {
      "text/plain": [
       "numpy.ndarray"
      ]
     },
     "execution_count": 44,
     "metadata": {},
     "output_type": "execute_result"
    }
   ],
   "source": [
    "type(gv_matrix[0])"
   ]
  },
  {
   "cell_type": "code",
   "execution_count": 45,
   "metadata": {},
   "outputs": [
    {
     "name": "stdout",
     "output_type": "stream",
     "text": [
      "172\n",
      "nan\n",
      "198\n",
      "nan\n",
      "393\n",
      "nan\n",
      "398\n",
      "nan\n",
      "627\n",
      "nan\n",
      "896\n",
      "nan\n",
      "1022\n",
      "nan\n",
      "1078\n",
      "nan\n",
      "1194\n",
      "nan\n",
      "1225\n",
      "nan\n",
      "1395\n",
      "nan\n",
      "1493\n",
      "nan\n",
      "1663\n",
      "nan\n",
      "1664\n",
      "nan\n",
      "1710\n",
      "nan\n",
      "2079\n",
      "nan\n",
      "2163\n",
      "nan\n",
      "2277\n",
      "nan\n",
      "2434\n",
      "nan\n",
      "2580\n",
      "nan\n",
      "2581\n",
      "nan\n",
      "2607\n",
      "nan\n",
      "3083\n",
      "nan\n",
      "3308\n",
      "nan\n",
      "3509\n",
      "nan\n",
      "3944\n",
      "nan\n",
      "4123\n",
      "nan\n",
      "4179\n",
      "nan\n",
      "4265\n",
      "nan\n",
      "4268\n",
      "nan\n",
      "4310\n",
      "nan\n",
      "4682\n",
      "nan\n",
      "4945\n",
      "nan\n",
      "4980\n",
      "nan\n",
      "5043\n",
      "nan\n",
      "5276\n",
      "nan\n",
      "5815\n",
      "nan\n",
      "6407\n",
      "nan\n",
      "6734\n",
      "nan\n",
      "6761\n",
      "nan\n",
      "6778\n",
      "nan\n",
      "7020\n",
      "nan\n",
      "7469\n",
      "nan\n",
      "7500\n",
      "nan\n",
      "7730\n",
      "nan\n",
      "7769\n",
      "nan\n",
      "7870\n",
      "nan\n",
      "7984\n",
      "nan\n",
      "8471\n",
      "nan\n",
      "8516\n",
      "nan\n",
      "9397\n",
      "nan\n",
      "9672\n",
      "nan\n",
      "9674\n",
      "nan\n",
      "9690\n",
      "nan\n",
      "10353\n",
      "nan\n",
      "10401\n",
      "nan\n",
      "10533\n",
      "nan\n",
      "10609\n",
      "nan\n",
      "10886\n",
      "nan\n",
      "10934\n",
      "nan\n",
      "10969\n",
      "nan\n",
      "10987\n",
      "nan\n",
      "11107\n",
      "nan\n",
      "11110\n",
      "nan\n",
      "11393\n",
      "nan\n",
      "11564\n",
      "nan\n",
      "11619\n",
      "nan\n",
      "11926\n",
      "nan\n",
      "11961\n",
      "nan\n",
      "12070\n",
      "nan\n",
      "12078\n",
      "nan\n",
      "12364\n",
      "nan\n",
      "12595\n",
      "nan\n",
      "12616\n",
      "nan\n",
      "12646\n",
      "nan\n",
      "12900\n",
      "nan\n",
      "12920\n",
      "nan\n"
     ]
    }
   ],
   "source": [
    "for index, w in gv_matrix.items():\n",
    "    try:\n",
    "        if w.shape[0] != 300:\n",
    "            print(index)\n",
    "    except:\n",
    "        print(index)\n",
    "        print(w)\n",
    "        gv_matrix[index] = np.zeros(300)"
   ]
  },
  {
   "cell_type": "code",
   "execution_count": 46,
   "metadata": {},
   "outputs": [
    {
     "data": {
      "text/plain": [
       "pandas.core.series.Series"
      ]
     },
     "execution_count": 46,
     "metadata": {},
     "output_type": "execute_result"
    }
   ],
   "source": [
    "type(gv_matrix)"
   ]
  },
  {
   "cell_type": "code",
   "execution_count": 47,
   "metadata": {},
   "outputs": [
    {
     "data": {
      "text/plain": [
       "(12968, 300)"
      ]
     },
     "execution_count": 47,
     "metadata": {},
     "output_type": "execute_result"
    }
   ],
   "source": [
    "gv_mat = np.matrix(gv_matrix.tolist())\n",
    "gv_mat.shape"
   ]
  },
  {
   "cell_type": "code",
   "execution_count": 48,
   "metadata": {},
   "outputs": [],
   "source": [
    "# saving model\n",
    "np.save('../../processed_files/glove/gv_matrix.npy', gv_mat)\n",
    "#scipy.sparse.save_npz('processed_files/gv_matrix.npy', gv_mat)"
   ]
  },
  {
   "cell_type": "markdown",
   "metadata": {},
   "source": [
    "# Glove stemmed"
   ]
  },
  {
   "cell_type": "code",
   "execution_count": 49,
   "metadata": {},
   "outputs": [],
   "source": [
    "gv = Glove()\n",
    "#gv.load_preprocessed(doc_tokens)\n",
    "gv.load_preprocessed(df_merged['RAW_CONTENT_PROCESSED_STEMMED'])\n",
    "gv.load_pretrained()\n",
    "gv_matrix = gv.fit()"
   ]
  },
  {
   "cell_type": "code",
   "execution_count": 50,
   "metadata": {},
   "outputs": [
    {
     "name": "stdout",
     "output_type": "stream",
     "text": [
      "172\n",
      "nan\n",
      "198\n",
      "nan\n",
      "393\n",
      "nan\n",
      "398\n",
      "nan\n",
      "627\n",
      "nan\n",
      "896\n",
      "nan\n",
      "1022\n",
      "nan\n",
      "1078\n",
      "nan\n",
      "1194\n",
      "nan\n",
      "1225\n",
      "nan\n",
      "1395\n",
      "nan\n",
      "1493\n",
      "nan\n",
      "1663\n",
      "nan\n",
      "1664\n",
      "nan\n",
      "1710\n",
      "nan\n",
      "1799\n",
      "nan\n",
      "2079\n",
      "nan\n",
      "2163\n",
      "nan\n",
      "2277\n",
      "nan\n",
      "2434\n",
      "nan\n",
      "2580\n",
      "nan\n",
      "2581\n",
      "nan\n",
      "2607\n",
      "nan\n",
      "3083\n",
      "nan\n",
      "3308\n",
      "nan\n",
      "3509\n",
      "nan\n",
      "3944\n",
      "nan\n",
      "4123\n",
      "nan\n",
      "4179\n",
      "nan\n",
      "4265\n",
      "nan\n",
      "4268\n",
      "nan\n",
      "4682\n",
      "nan\n",
      "4945\n",
      "nan\n",
      "4980\n",
      "nan\n",
      "5043\n",
      "nan\n",
      "5276\n",
      "nan\n",
      "5815\n",
      "nan\n",
      "6407\n",
      "nan\n",
      "6734\n",
      "nan\n",
      "6761\n",
      "nan\n",
      "6778\n",
      "nan\n",
      "7020\n",
      "nan\n",
      "7469\n",
      "nan\n",
      "7500\n",
      "nan\n",
      "7730\n",
      "nan\n",
      "7769\n",
      "nan\n",
      "7870\n",
      "nan\n",
      "7984\n",
      "nan\n",
      "8471\n",
      "nan\n",
      "8516\n",
      "nan\n",
      "9397\n",
      "nan\n",
      "9672\n",
      "nan\n",
      "9674\n",
      "nan\n",
      "9690\n",
      "nan\n",
      "10353\n",
      "nan\n",
      "10401\n",
      "nan\n",
      "10533\n",
      "nan\n",
      "10609\n",
      "nan\n",
      "10886\n",
      "nan\n",
      "10934\n",
      "nan\n",
      "10969\n",
      "nan\n",
      "10987\n",
      "nan\n",
      "11107\n",
      "nan\n",
      "11110\n",
      "nan\n",
      "11393\n",
      "nan\n",
      "11564\n",
      "nan\n",
      "11619\n",
      "nan\n",
      "11926\n",
      "nan\n",
      "11961\n",
      "nan\n",
      "12070\n",
      "nan\n",
      "12078\n",
      "nan\n",
      "12364\n",
      "nan\n",
      "12581\n",
      "nan\n",
      "12595\n",
      "nan\n",
      "12616\n",
      "nan\n",
      "12646\n",
      "nan\n",
      "12900\n",
      "nan\n",
      "12920\n",
      "nan\n"
     ]
    }
   ],
   "source": [
    "for index, w in gv_matrix.items():\n",
    "    try:\n",
    "        if w.shape[0] != 300:\n",
    "            print(index)\n",
    "    except:\n",
    "        print(index)\n",
    "        print(w)\n",
    "        gv_matrix[index] = np.zeros(300)"
   ]
  },
  {
   "cell_type": "code",
   "execution_count": 51,
   "metadata": {},
   "outputs": [
    {
     "data": {
      "text/plain": [
       "(12968, 300)"
      ]
     },
     "execution_count": 51,
     "metadata": {},
     "output_type": "execute_result"
    }
   ],
   "source": [
    "gv_mat = np.matrix(gv_matrix.tolist())\n",
    "gv_mat.shape"
   ]
  },
  {
   "cell_type": "code",
   "execution_count": 52,
   "metadata": {},
   "outputs": [],
   "source": [
    "# saving model\n",
    "np.save('../../processed_files/glove/stemmed_gv_matrix.npy', gv_mat)\n",
    "#scipy.sparse.save_npz('processed_files/gv_matrix.npy', gv_mat)"
   ]
  },
  {
   "cell_type": "markdown",
   "metadata": {},
   "source": [
    "## Doc2Vec non-stemmed\n",
    "doc2vec doesn't have pretrain"
   ]
  },
  {
   "cell_type": "markdown",
   "metadata": {},
   "source": [
    "1. pre-processed corpus\n",
    "2. train model"
   ]
  },
  {
   "cell_type": "code",
   "execution_count": 53,
   "metadata": {},
   "outputs": [],
   "source": [
    "dv = DOC2VEC()\n",
    "#dv.load_preprocessed(doc_tokens)\n",
    "dv.load_preprocessed(df_merged['RAW_CONTENT_PROCESSED'])\n",
    "dv.train()\n",
    "dv_matrix = dv.fit()"
   ]
  },
  {
   "cell_type": "markdown",
   "metadata": {},
   "source": [
    "1. Process corpus\n",
    "2. train model"
   ]
  },
  {
   "cell_type": "code",
   "execution_count": 54,
   "metadata": {},
   "outputs": [],
   "source": [
    "#dv = DOC2VEC()\n",
    "#dv.preprocess(df_merged, 'RAW_CONTENT')\n",
    "#dv.train()\n",
    "#dv_matrix = dv.fit()"
   ]
  },
  {
   "cell_type": "code",
   "execution_count": 55,
   "metadata": {},
   "outputs": [
    {
     "name": "stdout",
     "output_type": "stream",
     "text": [
      "(12968,)\n",
      "(300,)\n"
     ]
    }
   ],
   "source": [
    "print(dv_matrix.shape)\n",
    "print(dv_matrix[0].shape)"
   ]
  },
  {
   "cell_type": "code",
   "execution_count": 56,
   "metadata": {},
   "outputs": [],
   "source": [
    "dv_mat = np.matrix(dv_matrix.tolist())"
   ]
  },
  {
   "cell_type": "code",
   "execution_count": 57,
   "metadata": {},
   "outputs": [
    {
     "name": "stdout",
     "output_type": "stream",
     "text": [
      "(12968, 300)\n",
      "(1, 300)\n"
     ]
    }
   ],
   "source": [
    "print(dv_mat.shape)\n",
    "print(dv_mat[0].shape)"
   ]
  },
  {
   "cell_type": "code",
   "execution_count": 58,
   "metadata": {
    "scrolled": true
   },
   "outputs": [
    {
     "data": {
      "text/plain": [
       "0        [0.013368123, 0.0058741723, -0.008007221, 0.00...\n",
       "1        [0.02941141, -0.01524621, 0.0062705767, 0.0274...\n",
       "2        [0.26385644, 0.051302668, -0.24732797, 0.42285...\n",
       "3        [0.06117065, -0.1085349, 0.14910859, -0.146172...\n",
       "4        [-0.07580211, -0.14315306, -0.15966386, 0.1988...\n",
       "5        [0.18735996, -0.003892093, 0.004463923, 0.2217...\n",
       "6        [0.15335399, 0.06443429, 0.07126558, 0.2064771...\n",
       "7        [-0.066568695, -0.028516179, 0.1073304, -0.005...\n",
       "8        [0.047098707, -0.0017760539, 0.02860105, 0.075...\n",
       "9        [0.017359365, -0.090074405, -0.061003715, 0.15...\n",
       "10       [0.07009874, 0.093385, -0.11190152, 0.07952435...\n",
       "11       [0.13135213, -0.42749044, -0.17976387, 0.30592...\n",
       "12       [-0.06264768, -0.022311386, 0.3344493, 0.52320...\n",
       "13       [0.23659623, -0.026979767, 0.026066953, 0.2727...\n",
       "14       [0.18797928, 0.105304636, 0.798159, -0.5767231...\n",
       "15       [-0.59756947, -0.17413864, -0.30697855, 0.4081...\n",
       "16       [0.039771948, -0.0020692423, 0.36978236, 0.371...\n",
       "17       [0.20756367, 0.007781053, -0.043144472, 0.1650...\n",
       "18       [0.22716792, 0.038692296, -0.09279426, 0.18674...\n",
       "19       [0.07273593, 0.32147852, 0.31378123, 0.4279939...\n",
       "20       [0.16723758, -0.03422272, -0.036855146, 0.2715...\n",
       "21       [0.18821774, 0.012157614, -0.031961378, 0.2727...\n",
       "22       [0.03932721, -0.040082425, 0.027780976, 0.0782...\n",
       "23       [1.2451718, 0.67444324, -0.5541585, 0.8400412,...\n",
       "24       [0.07323166, 0.013397343, 0.0041539967, 0.1178...\n",
       "25       [0.0137267765, 0.0011196025, 0.0069100265, 0.0...\n",
       "26       [0.4330328, 0.3020629, -0.0025060074, 0.395050...\n",
       "27       [0.014846006, -0.025095826, 0.033734027, 0.013...\n",
       "28       [-0.012246973, 0.029406363, -0.023982668, 0.01...\n",
       "29       [0.097492225, 0.15802963, 0.019982748, -0.0130...\n",
       "                               ...                        \n",
       "12938    [0.13778473, -0.11070606, 0.10322342, 0.046009...\n",
       "12939    [-0.2748817, -0.17780821, 0.1677075, 1.2644384...\n",
       "12940    [0.13795698, 0.06069007, -0.018306183, 0.06509...\n",
       "12941    [0.02258859, -0.01854744, 0.025354816, 0.03399...\n",
       "12942    [0.084984355, 0.08507058, -0.0975251, 0.225626...\n",
       "12943    [0.3956211, 0.1828068, -0.17937578, 0.32513836...\n",
       "12944    [0.473601, -0.04045709, -0.55341756, 0.8635055...\n",
       "12945    [0.30086994, -0.08140363, -0.112600826, 0.1780...\n",
       "12946    [-0.007803119, 0.016433988, -0.012017057, 0.03...\n",
       "12947    [0.3305648, -0.29317823, -0.20790349, 0.706896...\n",
       "12948    [0.6533936, 0.12040985, -0.48977807, 0.0432051...\n",
       "12949    [0.015805878, 0.0027177176, 0.02097667, 0.1235...\n",
       "12950    [0.023555726, 0.010707299, -0.019141007, 0.004...\n",
       "12951    [0.2359934, -0.35297298, 0.046730973, 0.160031...\n",
       "12952    [0.3127999, -0.24255387, 0.05065821, 0.1490068...\n",
       "12953    [0.045499034, -0.0075537474, -0.0006527517, 0....\n",
       "12954    [0.013320048, 0.0400831, -0.11054995, 0.078976...\n",
       "12955    [0.28873372, 0.0666565, 0.31837797, 0.92239815...\n",
       "12956    [1.082613, -1.5873516, 0.39338204, -0.24434769...\n",
       "12957    [0.74413437, 0.93784153, 0.80619866, 0.2367636...\n",
       "12958    [1.1994499, 0.4099164, -0.1642635, 0.528652, -...\n",
       "12959    [0.07458158, 0.2136436, -0.082123205, 0.176483...\n",
       "12960    [0.16633643, 0.52154446, 0.047620032, 0.111303...\n",
       "12961    [0.7687836, 0.25799897, -0.9603379, 1.1500803,...\n",
       "12962    [0.34493384, 0.26255006, -0.43266037, 0.623026...\n",
       "12963    [-0.04707593, 0.32427058, -0.114730835, 0.5899...\n",
       "12964    [0.14569433, -0.06076575, -0.04287969, 0.17400...\n",
       "12965    [0.04434162, -0.004083754, -0.009782297, 0.038...\n",
       "12966    [-0.053422373, 0.056191336, -0.29231173, 0.480...\n",
       "12967    [0.09993271, 0.024756275, 0.09995042, 0.046555...\n",
       "Name: RAW_CONTENT_PROCESSED, Length: 12968, dtype: object"
      ]
     },
     "execution_count": 58,
     "metadata": {},
     "output_type": "execute_result"
    }
   ],
   "source": [
    "dv_matrix"
   ]
  },
  {
   "cell_type": "code",
   "execution_count": 59,
   "metadata": {},
   "outputs": [],
   "source": [
    "# saving model\n",
    "np.save('../../processed_files/d2v/d2v_matrix.npy', dv_mat)\n",
    "#scipy.sparse.save_npz('processed_files/dv_matrix.npz', dv_matrix)"
   ]
  },
  {
   "cell_type": "markdown",
   "metadata": {},
   "source": [
    "# Doc2Vec stemmed"
   ]
  },
  {
   "cell_type": "code",
   "execution_count": 60,
   "metadata": {},
   "outputs": [],
   "source": [
    "dv = DOC2VEC()\n",
    "#dv.load_preprocessed(doc_tokens)\n",
    "dv.load_preprocessed(df_merged['RAW_CONTENT_PROCESSED_STEMMED'])\n",
    "dv.train()\n",
    "dv_matrix = dv.fit()"
   ]
  },
  {
   "cell_type": "code",
   "execution_count": 61,
   "metadata": {},
   "outputs": [],
   "source": [
    "dv_mat = np.matrix(dv_matrix.tolist())"
   ]
  },
  {
   "cell_type": "code",
   "execution_count": 62,
   "metadata": {},
   "outputs": [],
   "source": [
    "# saving model\n",
    "np.save('../../processed_files/d2v/stemmed_d2v_matrix.npy', dv_mat)\n",
    "#scipy.sparse.save_npz('processed_files/dv_matrix.npz', dv_matrix)"
   ]
  },
  {
   "cell_type": "code",
   "execution_count": null,
   "metadata": {},
   "outputs": [],
   "source": []
  }
 ],
 "metadata": {
  "kernelspec": {
   "display_name": "Python 3",
   "language": "python",
   "name": "python3"
  },
  "language_info": {
   "codemirror_mode": {
    "name": "ipython",
    "version": 3
   },
   "file_extension": ".py",
   "mimetype": "text/x-python",
   "name": "python",
   "nbconvert_exporter": "python",
   "pygments_lexer": "ipython3",
   "version": "3.7.1"
  }
 },
 "nbformat": 4,
 "nbformat_minor": 2
}
