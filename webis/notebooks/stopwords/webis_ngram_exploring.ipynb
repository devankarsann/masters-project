{
 "cells": [
  {
   "cell_type": "code",
   "execution_count": 2,
   "metadata": {},
   "outputs": [
    {
     "data": {
      "text/html": [
       "<style>.container { width:95% !important; }</style>"
      ],
      "text/plain": [
       "<IPython.core.display.HTML object>"
      ]
     },
     "metadata": {},
     "output_type": "display_data"
    }
   ],
   "source": [
    "from IPython.core.display import display, HTML\n",
    "display(HTML(\"<style>.container { width:95% !important; }</style>\"))"
   ]
  },
  {
   "cell_type": "markdown",
   "metadata": {
    "id": "FYVUGSFLf_qE"
   },
   "source": [
    "## Libraries and Filesystem Setup"
   ]
  },
  {
   "cell_type": "code",
   "execution_count": 3,
   "metadata": {
    "colab": {
     "base_uri": "https://localhost:8080/"
    },
    "id": "uqRQxTVbf39P",
    "outputId": "aecc64fb-dc6f-4d45-f5a3-98ec0b70cbfe"
   },
   "outputs": [
    {
     "name": "stderr",
     "output_type": "stream",
     "text": [
      "[nltk_data] Downloading package punkt to /Users/dkarsann/nltk_data...\n",
      "[nltk_data]   Package punkt is already up-to-date!\n",
      "[nltk_data] Downloading package stopwords to\n",
      "[nltk_data]     /Users/dkarsann/nltk_data...\n",
      "[nltk_data]   Package stopwords is already up-to-date!\n"
     ]
    }
   ],
   "source": [
    "import nltk\n",
    "nltk.download('punkt')\n",
    "nltk.download('stopwords')\n",
    "import pandas as pd\n",
    "from sklearn.feature_extraction.text import CountVectorizer\n",
    "import pickle\n",
    "from matplotlib.pyplot import figure\n",
    "import matplotlib.pyplot as plt\n",
    "%matplotlib inline"
   ]
  },
  {
   "cell_type": "markdown",
   "metadata": {},
   "source": [
    "### (already have imported / processed dataframe and stopwords)"
   ]
  },
  {
   "cell_type": "markdown",
   "metadata": {
    "id": "QQ6l1wSdkgzb"
   },
   "source": [
    "## Parsing and Processing Content"
   ]
  },
  {
   "cell_type": "code",
   "execution_count": 15,
   "metadata": {},
   "outputs": [
    {
     "data": {
      "text/html": [
       "<div>\n",
       "<style scoped>\n",
       "    .dataframe tbody tr th:only-of-type {\n",
       "        vertical-align: middle;\n",
       "    }\n",
       "\n",
       "    .dataframe tbody tr th {\n",
       "        vertical-align: top;\n",
       "    }\n",
       "\n",
       "    .dataframe thead th {\n",
       "        text-align: right;\n",
       "    }\n",
       "</style>\n",
       "<table border=\"1\" class=\"dataframe\">\n",
       "  <thead>\n",
       "    <tr style=\"text-align: right;\">\n",
       "      <th></th>\n",
       "      <th>file_number</th>\n",
       "      <th>file_type</th>\n",
       "      <th>filename</th>\n",
       "      <th>text</th>\n",
       "      <th>paraphrase</th>\n",
       "    </tr>\n",
       "  </thead>\n",
       "  <tbody>\n",
       "    <tr>\n",
       "      <th>0</th>\n",
       "      <td>1</td>\n",
       "      <td>original.txt</td>\n",
       "      <td>1-original.txt</td>\n",
       "      <td>M. Comte would not advise so irrational a proc...</td>\n",
       "      <td>True</td>\n",
       "    </tr>\n",
       "    <tr>\n",
       "      <th>1</th>\n",
       "      <td>1</td>\n",
       "      <td>paraphrase.txt</td>\n",
       "      <td>1-paraphrase.txt</td>\n",
       "      <td>Even M. Comte would spurn such irrational reas...</td>\n",
       "      <td>True</td>\n",
       "    </tr>\n",
       "    <tr>\n",
       "      <th>2</th>\n",
       "      <td>10</td>\n",
       "      <td>original.txt</td>\n",
       "      <td>10-original.txt</td>\n",
       "      <td>Picture illustrating the shortest and easiest ...</td>\n",
       "      <td>True</td>\n",
       "    </tr>\n",
       "    <tr>\n",
       "      <th>3</th>\n",
       "      <td>10</td>\n",
       "      <td>paraphrase.txt</td>\n",
       "      <td>10-paraphrase.txt</td>\n",
       "      <td>This picture exemplifies the straight and easi...</td>\n",
       "      <td>True</td>\n",
       "    </tr>\n",
       "    <tr>\n",
       "      <th>4</th>\n",
       "      <td>100</td>\n",
       "      <td>original.txt</td>\n",
       "      <td>100-original.txt</td>\n",
       "      <td>Thad, of course. And, Bill, we're going to get...</td>\n",
       "      <td>True</td>\n",
       "    </tr>\n",
       "  </tbody>\n",
       "</table>\n",
       "</div>"
      ],
      "text/plain": [
       "   file_number       file_type           filename  \\\n",
       "0            1    original.txt     1-original.txt   \n",
       "1            1  paraphrase.txt   1-paraphrase.txt   \n",
       "2           10    original.txt    10-original.txt   \n",
       "3           10  paraphrase.txt  10-paraphrase.txt   \n",
       "4          100    original.txt   100-original.txt   \n",
       "\n",
       "                                                text  paraphrase  \n",
       "0  M. Comte would not advise so irrational a proc...        True  \n",
       "1  Even M. Comte would spurn such irrational reas...        True  \n",
       "2  Picture illustrating the shortest and easiest ...        True  \n",
       "3  This picture exemplifies the straight and easi...        True  \n",
       "4  Thad, of course. And, Bill, we're going to get...        True  "
      ]
     },
     "execution_count": 15,
     "metadata": {},
     "output_type": "execute_result"
    }
   ],
   "source": [
    "df = pd.read_csv('../../processed_files/webis/webis.csv')\n",
    "df.head()"
   ]
  },
  {
   "cell_type": "markdown",
   "metadata": {},
   "source": [
    "### load stopword lists from MastersProjectStopwords.ipynb"
   ]
  },
  {
   "cell_type": "code",
   "execution_count": 16,
   "metadata": {},
   "outputs": [],
   "source": [
    "common_stopwords = pickle.load(open(\"../../processed_files/stopwords/common_stopwords.pickle\", \"rb\"))\n",
    "corpus_stopwords = pickle.load(open(\"../../processed_files/stopwords/corpus_stopwords.pickle\", \"rb\"))\n",
    "combined_stopwords = pickle.load(open(\"../../processed_files/stopwords/combined_stopwords.pickle\", \"rb\"))\n",
    "corpus_bigrams = pickle.load(open(\"../../processed_files/stopwords/corpus_bigrams.pickle\", \"rb\"))\n",
    "corpus_trigrams = pickle.load(open(\"../../processed_files/stopwords/corpus_trigrams.pickle\", \"rb\"))"
   ]
  },
  {
   "cell_type": "code",
   "execution_count": 17,
   "metadata": {
    "scrolled": true
   },
   "outputs": [],
   "source": [
    "#corpus_bigrams"
   ]
  },
  {
   "cell_type": "code",
   "execution_count": 18,
   "metadata": {
    "scrolled": true
   },
   "outputs": [],
   "source": [
    "#corpus_trigrams"
   ]
  },
  {
   "cell_type": "code",
   "execution_count": 19,
   "metadata": {},
   "outputs": [
    {
     "data": {
      "text/html": [
       "<div>\n",
       "<style scoped>\n",
       "    .dataframe tbody tr th:only-of-type {\n",
       "        vertical-align: middle;\n",
       "    }\n",
       "\n",
       "    .dataframe tbody tr th {\n",
       "        vertical-align: top;\n",
       "    }\n",
       "\n",
       "    .dataframe thead th {\n",
       "        text-align: right;\n",
       "    }\n",
       "</style>\n",
       "<table border=\"1\" class=\"dataframe\">\n",
       "  <thead>\n",
       "    <tr style=\"text-align: right;\">\n",
       "      <th></th>\n",
       "      <th>file_number</th>\n",
       "      <th>file_type</th>\n",
       "      <th>filename</th>\n",
       "      <th>text</th>\n",
       "      <th>paraphrase</th>\n",
       "    </tr>\n",
       "  </thead>\n",
       "  <tbody>\n",
       "    <tr>\n",
       "      <th>0</th>\n",
       "      <td>1</td>\n",
       "      <td>original.txt</td>\n",
       "      <td>1-original.txt</td>\n",
       "      <td>M. Comte would not advise so irrational a proc...</td>\n",
       "      <td>True</td>\n",
       "    </tr>\n",
       "    <tr>\n",
       "      <th>1</th>\n",
       "      <td>1</td>\n",
       "      <td>paraphrase.txt</td>\n",
       "      <td>1-paraphrase.txt</td>\n",
       "      <td>Even M. Comte would spurn such irrational reas...</td>\n",
       "      <td>True</td>\n",
       "    </tr>\n",
       "    <tr>\n",
       "      <th>2</th>\n",
       "      <td>10</td>\n",
       "      <td>original.txt</td>\n",
       "      <td>10-original.txt</td>\n",
       "      <td>Picture illustrating the shortest and easiest ...</td>\n",
       "      <td>True</td>\n",
       "    </tr>\n",
       "    <tr>\n",
       "      <th>3</th>\n",
       "      <td>10</td>\n",
       "      <td>paraphrase.txt</td>\n",
       "      <td>10-paraphrase.txt</td>\n",
       "      <td>This picture exemplifies the straight and easi...</td>\n",
       "      <td>True</td>\n",
       "    </tr>\n",
       "    <tr>\n",
       "      <th>4</th>\n",
       "      <td>100</td>\n",
       "      <td>original.txt</td>\n",
       "      <td>100-original.txt</td>\n",
       "      <td>Thad, of course. And, Bill, we're going to get...</td>\n",
       "      <td>True</td>\n",
       "    </tr>\n",
       "  </tbody>\n",
       "</table>\n",
       "</div>"
      ],
      "text/plain": [
       "   file_number       file_type           filename  \\\n",
       "0            1    original.txt     1-original.txt   \n",
       "1            1  paraphrase.txt   1-paraphrase.txt   \n",
       "2           10    original.txt    10-original.txt   \n",
       "3           10  paraphrase.txt  10-paraphrase.txt   \n",
       "4          100    original.txt   100-original.txt   \n",
       "\n",
       "                                                text  paraphrase  \n",
       "0  M. Comte would not advise so irrational a proc...        True  \n",
       "1  Even M. Comte would spurn such irrational reas...        True  \n",
       "2  Picture illustrating the shortest and easiest ...        True  \n",
       "3  This picture exemplifies the straight and easi...        True  \n",
       "4  Thad, of course. And, Bill, we're going to get...        True  "
      ]
     },
     "execution_count": 19,
     "metadata": {},
     "output_type": "execute_result"
    }
   ],
   "source": [
    "df.head()"
   ]
  },
  {
   "cell_type": "markdown",
   "metadata": {},
   "source": [
    "## Merging duplicate domain"
   ]
  },
  {
   "cell_type": "code",
   "execution_count": 12,
   "metadata": {},
   "outputs": [],
   "source": [
    "#df_merged = pd.DataFrame(df_en.groupby('DOMAIN')['RAW_CONTENT'].agg('sum')).reset_index()\n",
    "#df_merged.head()"
   ]
  },
  {
   "cell_type": "code",
   "execution_count": 20,
   "metadata": {},
   "outputs": [
    {
     "data": {
      "text/plain": [
       "11326"
      ]
     },
     "execution_count": 20,
     "metadata": {},
     "output_type": "execute_result"
    }
   ],
   "source": [
    "number_files = df['text'].nunique()\n",
    "number_files"
   ]
  },
  {
   "cell_type": "code",
   "execution_count": 21,
   "metadata": {},
   "outputs": [
    {
     "data": {
      "text/plain": [
       "(15718, 5)"
      ]
     },
     "execution_count": 21,
     "metadata": {},
     "output_type": "execute_result"
    }
   ],
   "source": [
    "df.shape"
   ]
  },
  {
   "cell_type": "code",
   "execution_count": 23,
   "metadata": {},
   "outputs": [],
   "source": [
    "with open('../../processed_files/webis/df.pickle', 'wb') as file:\n",
    "    pickle.dump(df, file)"
   ]
  },
  {
   "cell_type": "markdown",
   "metadata": {},
   "source": [
    "## TEXT Processing"
   ]
  },
  {
   "cell_type": "code",
   "execution_count": 24,
   "metadata": {},
   "outputs": [],
   "source": [
    "doc_length_list_orig = []\n",
    "doc_length_list_no_digits = []\n",
    "doc_length_list_no_tri = []\n",
    "doc_length_list_no_bi = []\n",
    "doc_length_list_tokenized = []\n",
    "doc_length_list_no_stop = []\n",
    "doc_length_list_stemmed = []"
   ]
  },
  {
   "cell_type": "code",
   "execution_count": 27,
   "metadata": {},
   "outputs": [],
   "source": [
    "from nltk.tokenize import RegexpTokenizer\n",
    "tokenizer = RegexpTokenizer(r'\\w+')\n",
    "from nltk.corpus import stopwords \n",
    "stop_words = set(stopwords.words('english')) \n",
    "from nltk.stem import PorterStemmer\n",
    "ps = PorterStemmer()\n",
    "from string import digits\n",
    "remove_digits = str.maketrans('', '', digits)\n",
    "from IPython.display import display\n",
    "\n",
    "def process(content):\n",
    "    \n",
    "    #--------original--------#\n",
    "    doc_length_list_orig.append(len(content))\n",
    "    \n",
    "    #--------no digits--------#\n",
    "    processed = content.translate(remove_digits)\n",
    "    doc_length_list_no_digits.append(len(processed))\n",
    "    \n",
    "    #--------lower case--------#\n",
    "    processed = processed.lower()\n",
    "    \n",
    "    # remove punctuation with translation table before trigram step\n",
    "    \n",
    "    #--------remove trigrams--------#\n",
    "    for trigram in corpus_trigrams:\n",
    "        processed = processed.replace(trigram.lower(), '')\n",
    "    doc_length_list_no_tri.append(len(processed))\n",
    "\n",
    "    #--------remove bigrams--------#\n",
    "    for bigram in corpus_bigrams:\n",
    "        processed = processed.replace(bigram.lower(), '') \n",
    "    doc_length_list_no_bi.append(len(processed))\n",
    "    \n",
    "    #--------tokenize--------#\n",
    "    processed = tokenizer.tokenize(processed)\n",
    "    doc_length_list_tokenized.append(len(' '.join(processed)))\n",
    "    \n",
    "    #--------remove stopwords--------#\n",
    "    processed = [token for token in processed if token not in stop_words]\n",
    "    doc_length_list_no_stop.append(len(' '.join(processed)))\n",
    "    \n",
    "    #--------stem tokens--------#\n",
    "    processed = [ps.stem(token) for token in processed]\n",
    "    doc_length_list_stemmed.append(len(' '.join(processed)))\n",
    "    \n",
    "    return processed"
   ]
  },
  {
   "cell_type": "code",
   "execution_count": 29,
   "metadata": {},
   "outputs": [
    {
     "data": {
      "text/html": [
       "<div>\n",
       "<style scoped>\n",
       "    .dataframe tbody tr th:only-of-type {\n",
       "        vertical-align: middle;\n",
       "    }\n",
       "\n",
       "    .dataframe tbody tr th {\n",
       "        vertical-align: top;\n",
       "    }\n",
       "\n",
       "    .dataframe thead th {\n",
       "        text-align: right;\n",
       "    }\n",
       "</style>\n",
       "<table border=\"1\" class=\"dataframe\">\n",
       "  <thead>\n",
       "    <tr style=\"text-align: right;\">\n",
       "      <th></th>\n",
       "      <th>file_number</th>\n",
       "      <th>file_type</th>\n",
       "      <th>filename</th>\n",
       "      <th>text</th>\n",
       "      <th>paraphrase</th>\n",
       "      <th>text_processed</th>\n",
       "    </tr>\n",
       "  </thead>\n",
       "  <tbody>\n",
       "    <tr>\n",
       "      <th>0</th>\n",
       "      <td>1</td>\n",
       "      <td>original.txt</td>\n",
       "      <td>1-original.txt</td>\n",
       "      <td>M. Comte would not advise so irrational a proc...</td>\n",
       "      <td>True</td>\n",
       "      <td>[comt, would, advis, irrat, proceed, comt, con...</td>\n",
       "    </tr>\n",
       "    <tr>\n",
       "      <th>1</th>\n",
       "      <td>1</td>\n",
       "      <td>paraphrase.txt</td>\n",
       "      <td>1-paraphrase.txt</td>\n",
       "      <td>Even M. Comte would spurn such irrational reas...</td>\n",
       "      <td>True</td>\n",
       "      <td>[even, comt, would, spurn, irrat, reason, howe...</td>\n",
       "    </tr>\n",
       "    <tr>\n",
       "      <th>2</th>\n",
       "      <td>10</td>\n",
       "      <td>original.txt</td>\n",
       "      <td>10-original.txt</td>\n",
       "      <td>Picture illustrating the shortest and easiest ...</td>\n",
       "      <td>True</td>\n",
       "      <td>[pictur, illustr, shortest, easiest, way, catc...</td>\n",
       "    </tr>\n",
       "    <tr>\n",
       "      <th>3</th>\n",
       "      <td>10</td>\n",
       "      <td>paraphrase.txt</td>\n",
       "      <td>10-paraphrase.txt</td>\n",
       "      <td>This picture exemplifies the straight and easi...</td>\n",
       "      <td>True</td>\n",
       "      <td>[pictur, exemplifi, straight, easiest, way, re...</td>\n",
       "    </tr>\n",
       "    <tr>\n",
       "      <th>4</th>\n",
       "      <td>100</td>\n",
       "      <td>original.txt</td>\n",
       "      <td>100-original.txt</td>\n",
       "      <td>Thad, of course. And, Bill, we're going to get...</td>\n",
       "      <td>True</td>\n",
       "      <td>[thad, cours, bill, go, get, sooner, later, mr...</td>\n",
       "    </tr>\n",
       "  </tbody>\n",
       "</table>\n",
       "</div>"
      ],
      "text/plain": [
       "   file_number       file_type           filename  \\\n",
       "0            1    original.txt     1-original.txt   \n",
       "1            1  paraphrase.txt   1-paraphrase.txt   \n",
       "2           10    original.txt    10-original.txt   \n",
       "3           10  paraphrase.txt  10-paraphrase.txt   \n",
       "4          100    original.txt   100-original.txt   \n",
       "\n",
       "                                                text  paraphrase  \\\n",
       "0  M. Comte would not advise so irrational a proc...        True   \n",
       "1  Even M. Comte would spurn such irrational reas...        True   \n",
       "2  Picture illustrating the shortest and easiest ...        True   \n",
       "3  This picture exemplifies the straight and easi...        True   \n",
       "4  Thad, of course. And, Bill, we're going to get...        True   \n",
       "\n",
       "                                      text_processed  \n",
       "0  [comt, would, advis, irrat, proceed, comt, con...  \n",
       "1  [even, comt, would, spurn, irrat, reason, howe...  \n",
       "2  [pictur, illustr, shortest, easiest, way, catc...  \n",
       "3  [pictur, exemplifi, straight, easiest, way, re...  \n",
       "4  [thad, cours, bill, go, get, sooner, later, mr...  "
      ]
     },
     "execution_count": 29,
     "metadata": {},
     "output_type": "execute_result"
    }
   ],
   "source": [
    "df['text_processed'] = df['text'].apply(lambda row: process(row))\n",
    "df.head()"
   ]
  },
  {
   "cell_type": "code",
   "execution_count": 30,
   "metadata": {},
   "outputs": [
    {
     "data": {
      "text/html": [
       "<div>\n",
       "<style scoped>\n",
       "    .dataframe tbody tr th:only-of-type {\n",
       "        vertical-align: middle;\n",
       "    }\n",
       "\n",
       "    .dataframe tbody tr th {\n",
       "        vertical-align: top;\n",
       "    }\n",
       "\n",
       "    .dataframe thead th {\n",
       "        text-align: right;\n",
       "    }\n",
       "</style>\n",
       "<table border=\"1\" class=\"dataframe\">\n",
       "  <thead>\n",
       "    <tr style=\"text-align: right;\">\n",
       "      <th></th>\n",
       "      <th>file_number</th>\n",
       "      <th>file_type</th>\n",
       "      <th>filename</th>\n",
       "      <th>text</th>\n",
       "      <th>paraphrase</th>\n",
       "      <th>text_processed</th>\n",
       "      <th>length</th>\n",
       "    </tr>\n",
       "  </thead>\n",
       "  <tbody>\n",
       "    <tr>\n",
       "      <th>0</th>\n",
       "      <td>1</td>\n",
       "      <td>original.txt</td>\n",
       "      <td>1-original.txt</td>\n",
       "      <td>M. Comte would not advise so irrational a proc...</td>\n",
       "      <td>True</td>\n",
       "      <td>[comt, would, advis, irrat, proceed, comt, con...</td>\n",
       "      <td>18</td>\n",
       "    </tr>\n",
       "    <tr>\n",
       "      <th>1</th>\n",
       "      <td>1</td>\n",
       "      <td>paraphrase.txt</td>\n",
       "      <td>1-paraphrase.txt</td>\n",
       "      <td>Even M. Comte would spurn such irrational reas...</td>\n",
       "      <td>True</td>\n",
       "      <td>[even, comt, would, spurn, irrat, reason, howe...</td>\n",
       "      <td>21</td>\n",
       "    </tr>\n",
       "    <tr>\n",
       "      <th>2</th>\n",
       "      <td>10</td>\n",
       "      <td>original.txt</td>\n",
       "      <td>10-original.txt</td>\n",
       "      <td>Picture illustrating the shortest and easiest ...</td>\n",
       "      <td>True</td>\n",
       "      <td>[pictur, illustr, shortest, easiest, way, catc...</td>\n",
       "      <td>23</td>\n",
       "    </tr>\n",
       "    <tr>\n",
       "      <th>3</th>\n",
       "      <td>10</td>\n",
       "      <td>paraphrase.txt</td>\n",
       "      <td>10-paraphrase.txt</td>\n",
       "      <td>This picture exemplifies the straight and easi...</td>\n",
       "      <td>True</td>\n",
       "      <td>[pictur, exemplifi, straight, easiest, way, re...</td>\n",
       "      <td>24</td>\n",
       "    </tr>\n",
       "    <tr>\n",
       "      <th>4</th>\n",
       "      <td>100</td>\n",
       "      <td>original.txt</td>\n",
       "      <td>100-original.txt</td>\n",
       "      <td>Thad, of course. And, Bill, we're going to get...</td>\n",
       "      <td>True</td>\n",
       "      <td>[thad, cours, bill, go, get, sooner, later, mr...</td>\n",
       "      <td>22</td>\n",
       "    </tr>\n",
       "  </tbody>\n",
       "</table>\n",
       "</div>"
      ],
      "text/plain": [
       "   file_number       file_type           filename  \\\n",
       "0            1    original.txt     1-original.txt   \n",
       "1            1  paraphrase.txt   1-paraphrase.txt   \n",
       "2           10    original.txt    10-original.txt   \n",
       "3           10  paraphrase.txt  10-paraphrase.txt   \n",
       "4          100    original.txt   100-original.txt   \n",
       "\n",
       "                                                text  paraphrase  \\\n",
       "0  M. Comte would not advise so irrational a proc...        True   \n",
       "1  Even M. Comte would spurn such irrational reas...        True   \n",
       "2  Picture illustrating the shortest and easiest ...        True   \n",
       "3  This picture exemplifies the straight and easi...        True   \n",
       "4  Thad, of course. And, Bill, we're going to get...        True   \n",
       "\n",
       "                                      text_processed  length  \n",
       "0  [comt, would, advis, irrat, proceed, comt, con...      18  \n",
       "1  [even, comt, would, spurn, irrat, reason, howe...      21  \n",
       "2  [pictur, illustr, shortest, easiest, way, catc...      23  \n",
       "3  [pictur, exemplifi, straight, easiest, way, re...      24  \n",
       "4  [thad, cours, bill, go, get, sooner, later, mr...      22  "
      ]
     },
     "execution_count": 30,
     "metadata": {},
     "output_type": "execute_result"
    }
   ],
   "source": [
    "df['length'] = df['text_processed'].apply(lambda row: len(row))\n",
    "df.head()"
   ]
  },
  {
   "cell_type": "code",
   "execution_count": 31,
   "metadata": {},
   "outputs": [
    {
     "name": "stdout",
     "output_type": "stream",
     "text": [
      "doc_length_list_orig:  1795.8823641684692\n",
      "doc_length_list_no_digits:  1790.3542435424354\n",
      "doc_length_list_no_tri average:  1776.1395851889554\n",
      "doc_length_list_no_bi:  1653.523158162616\n",
      "doc_length_list_tokenized:  1566.614518386563\n",
      "doc_length_list_no_stop:  1121.1848835729736\n",
      "doc_length_list_stemmed:  986.5940323196336\n"
     ]
    }
   ],
   "source": [
    "print('doc_length_list_orig: ', sum(doc_length_list_orig) / len(doc_length_list_orig))\n",
    "print('doc_length_list_no_digits: ', sum(doc_length_list_no_digits) / len(doc_length_list_no_digits))\n",
    "print('doc_length_list_no_tri average: ', sum(doc_length_list_no_tri) / len(doc_length_list_no_tri))\n",
    "print('doc_length_list_no_bi: ', sum(doc_length_list_no_bi) / len(doc_length_list_no_bi))\n",
    "print('doc_length_list_tokenized: ', sum(doc_length_list_tokenized) / len(doc_length_list_tokenized))\n",
    "print('doc_length_list_no_stop: ', sum(doc_length_list_no_stop) / len(doc_length_list_no_stop))\n",
    "print('doc_length_list_stemmed: ', sum(doc_length_list_stemmed) / len(doc_length_list_stemmed))"
   ]
  },
  {
   "cell_type": "code",
   "execution_count": 32,
   "metadata": {},
   "outputs": [],
   "source": [
    "doc_length_list_stemmed.sort()\n",
    "doc_length_list_stemmed_filtered = [item for item in doc_length_list_stemmed if item > 0 and item < 200]\n",
    "least_to_most_filtered_plot_items = []\n",
    "for item in enumerate(doc_length_list_stemmed):\n",
    "    least_to_most_filtered_plot_items.append(item)"
   ]
  },
  {
   "cell_type": "code",
   "execution_count": 36,
   "metadata": {},
   "outputs": [
    {
     "data": {
      "image/png": "[encoded data removed]",
      "text/plain": [
       "<Figure size 432x288 with 1 Axes>"
      ]
     },
     "metadata": {
      "needs_background": "light"
     },
     "output_type": "display_data"
    }
   ],
   "source": [
    "x, y = zip(*least_to_most_filtered_plot_items)\n",
    "plt.scatter(x, y)\n",
    "plt.show()"
   ]
  },
  {
   "cell_type": "code",
   "execution_count": 38,
   "metadata": {},
   "outputs": [
    {
     "data": {
      "text/html": [
       "<style  type=\"text/css\" >\n",
       "    #T_7a48f73c_f990_11eb_b585_acde48001122row0_col3 {\n",
       "            width-min:  100px;\n",
       "        }    #T_7a48f73c_f990_11eb_b585_acde48001122row1_col3 {\n",
       "            width-min:  100px;\n",
       "        }    #T_7a48f73c_f990_11eb_b585_acde48001122row2_col3 {\n",
       "            width-min:  100px;\n",
       "        }    #T_7a48f73c_f990_11eb_b585_acde48001122row3_col3 {\n",
       "            width-min:  100px;\n",
       "        }    #T_7a48f73c_f990_11eb_b585_acde48001122row4_col3 {\n",
       "            width-min:  100px;\n",
       "        }    #T_7a48f73c_f990_11eb_b585_acde48001122row5_col3 {\n",
       "            width-min:  100px;\n",
       "        }    #T_7a48f73c_f990_11eb_b585_acde48001122row6_col3 {\n",
       "            width-min:  100px;\n",
       "        }    #T_7a48f73c_f990_11eb_b585_acde48001122row7_col3 {\n",
       "            width-min:  100px;\n",
       "        }    #T_7a48f73c_f990_11eb_b585_acde48001122row8_col3 {\n",
       "            width-min:  100px;\n",
       "        }    #T_7a48f73c_f990_11eb_b585_acde48001122row9_col3 {\n",
       "            width-min:  100px;\n",
       "        }    #T_7a48f73c_f990_11eb_b585_acde48001122row10_col3 {\n",
       "            width-min:  100px;\n",
       "        }    #T_7a48f73c_f990_11eb_b585_acde48001122row11_col3 {\n",
       "            width-min:  100px;\n",
       "        }    #T_7a48f73c_f990_11eb_b585_acde48001122row12_col3 {\n",
       "            width-min:  100px;\n",
       "        }    #T_7a48f73c_f990_11eb_b585_acde48001122row13_col3 {\n",
       "            width-min:  100px;\n",
       "        }    #T_7a48f73c_f990_11eb_b585_acde48001122row14_col3 {\n",
       "            width-min:  100px;\n",
       "        }    #T_7a48f73c_f990_11eb_b585_acde48001122row15_col3 {\n",
       "            width-min:  100px;\n",
       "        }    #T_7a48f73c_f990_11eb_b585_acde48001122row16_col3 {\n",
       "            width-min:  100px;\n",
       "        }    #T_7a48f73c_f990_11eb_b585_acde48001122row17_col3 {\n",
       "            width-min:  100px;\n",
       "        }    #T_7a48f73c_f990_11eb_b585_acde48001122row18_col3 {\n",
       "            width-min:  100px;\n",
       "        }    #T_7a48f73c_f990_11eb_b585_acde48001122row19_col3 {\n",
       "            width-min:  100px;\n",
       "        }    #T_7a48f73c_f990_11eb_b585_acde48001122row20_col3 {\n",
       "            width-min:  100px;\n",
       "        }    #T_7a48f73c_f990_11eb_b585_acde48001122row21_col3 {\n",
       "            width-min:  100px;\n",
       "        }    #T_7a48f73c_f990_11eb_b585_acde48001122row22_col3 {\n",
       "            width-min:  100px;\n",
       "        }    #T_7a48f73c_f990_11eb_b585_acde48001122row23_col3 {\n",
       "            width-min:  100px;\n",
       "        }    #T_7a48f73c_f990_11eb_b585_acde48001122row24_col3 {\n",
       "            width-min:  100px;\n",
       "        }    #T_7a48f73c_f990_11eb_b585_acde48001122row25_col3 {\n",
       "            width-min:  100px;\n",
       "        }    #T_7a48f73c_f990_11eb_b585_acde48001122row26_col3 {\n",
       "            width-min:  100px;\n",
       "        }    #T_7a48f73c_f990_11eb_b585_acde48001122row27_col3 {\n",
       "            width-min:  100px;\n",
       "        }    #T_7a48f73c_f990_11eb_b585_acde48001122row28_col3 {\n",
       "            width-min:  100px;\n",
       "        }    #T_7a48f73c_f990_11eb_b585_acde48001122row29_col3 {\n",
       "            width-min:  100px;\n",
       "        }    #T_7a48f73c_f990_11eb_b585_acde48001122row30_col3 {\n",
       "            width-min:  100px;\n",
       "        }    #T_7a48f73c_f990_11eb_b585_acde48001122row31_col3 {\n",
       "            width-min:  100px;\n",
       "        }    #T_7a48f73c_f990_11eb_b585_acde48001122row32_col3 {\n",
       "            width-min:  100px;\n",
       "        }    #T_7a48f73c_f990_11eb_b585_acde48001122row33_col3 {\n",
       "            width-min:  100px;\n",
       "        }    #T_7a48f73c_f990_11eb_b585_acde48001122row34_col3 {\n",
       "            width-min:  100px;\n",
       "        }</style>  \n",
       "<table id=\"T_7a48f73c_f990_11eb_b585_acde48001122\" > \n",
       "<thead>    <tr> \n",
       "        <th class=\"blank level0\" ></th> \n",
       "        <th class=\"col_heading level0 col0\" >file_number</th> \n",
       "        <th class=\"col_heading level0 col1\" >file_type</th> \n",
       "        <th class=\"col_heading level0 col2\" >filename</th> \n",
       "        <th class=\"col_heading level0 col3\" >text</th> \n",
       "        <th class=\"col_heading level0 col4\" >paraphrase</th> \n",
       "        <th class=\"col_heading level0 col5\" >text_processed</th> \n",
       "        <th class=\"col_heading level0 col6\" >length</th> \n",
       "    </tr></thead> \n",
       "<tbody>    <tr> \n",
       "        <th id=\"T_7a48f73c_f990_11eb_b585_acde48001122level0_row0\" class=\"row_heading level0 row0\" >3948</th> \n",
       "        <td id=\"T_7a48f73c_f990_11eb_b585_acde48001122row0_col0\" class=\"data row0 col0\" >2776</td> \n",
       "        <td id=\"T_7a48f73c_f990_11eb_b585_acde48001122row0_col1\" class=\"data row0 col1\" >original.txt</td> \n",
       "        <td id=\"T_7a48f73c_f990_11eb_b585_acde48001122row0_col2\" class=\"data row0 col2\" >2776-original.txt</td> \n",
       "        <td id=\"T_7a48f73c_f990_11eb_b585_acde48001122row0_col3\" class=\"data row0 col3\" >Man darf ferner behauften, dass wathrend der ersten vier Jahrhunderte der Kirche kein Lehrer und Keine religiose Genossenschaft, welche sich mit einigem Schein des Rechts als Erben des ursprfinglichen Christenthums betrachten konnten, eine andere Auschauung yon dem Lebensanfang Jesu yon Nazareth gehabt haben, als diese .... Dass die Annahme eines ursprunglichen Christenthums ohne den Glauben an den yon der Jungfrau geborenen Gottessohn Jesus eine Fiktion ist.\"--Zahn, Das Apostolische Symbolum, pp. 55-68. --  Opponents of the Virgin-Birth occur, indeed, in the person of Cerinthus, the contemporary of St. John, and later on among the Ebionites, mentioned by Justin Martyr.* But they reject the Virgin-Birth, because they reject the principle of the Incarnation. </td> \n",
       "        <td id=\"T_7a48f73c_f990_11eb_b585_acde48001122row0_col4\" class=\"data row0 col4\" >False</td> \n",
       "        <td id=\"T_7a48f73c_f990_11eb_b585_acde48001122row0_col5\" class=\"data row0 col5\" >['man', 'darf', 'ferner', 'behauften', 'dass', 'wathrend', 'der', 'ersten', 'vier', 'jahrhundert', 'der', 'kirch', 'kein', 'lehrer', 'und', 'kein', 'religios', 'genossenschaft', 'welch', 'sich', 'mit', 'einigem', 'schein', 'de', 'recht', 'al', 'erben', 'de', 'ursprfinglichen', 'christenthum', 'betrachten', 'konnten', 'ein', 'ander', 'auschauung', 'yon', 'dem', 'lebensanfang', 'jesu', 'yon', 'nazareth', 'gehabt', 'haben', 'al', 'dies', 'dass', 'die', 'annahm', 'ein', 'ursprunglichen', 'christenthum', 'ohn', 'den', 'glauben', 'den', 'yon', 'der', 'jungfrau', 'geborenen', 'gottessohn', 'jesu', 'ein', 'fiktion', 'ist', 'zahn', 'dpostolisch', 'symbolum', 'pp', 'oppon', 'virgin', 'birth', 'occur', 'inde', 'person', 'cerinthu', 'contemporari', 'st', 'john', 'later', 'among', 'ebionit', 'mention', 'justin', 'martyr', 'reject', 'virgin', 'birth', 'reject', 'principl', 'incarn']</td> \n",
       "        <td id=\"T_7a48f73c_f990_11eb_b585_acde48001122row0_col6\" class=\"data row0 col6\" >90</td> \n",
       "    </tr>    <tr> \n",
       "        <th id=\"T_7a48f73c_f990_11eb_b585_acde48001122level0_row1\" class=\"row_heading level0 row1\" >3949</th> \n",
       "        <td id=\"T_7a48f73c_f990_11eb_b585_acde48001122row1_col0\" class=\"data row1 col0\" >2776</td> \n",
       "        <td id=\"T_7a48f73c_f990_11eb_b585_acde48001122row1_col1\" class=\"data row1 col1\" >paraphrase.txt</td> \n",
       "        <td id=\"T_7a48f73c_f990_11eb_b585_acde48001122row1_col2\" class=\"data row1 col2\" >2776-paraphrase.txt</td> \n",
       "        <td id=\"T_7a48f73c_f990_11eb_b585_acde48001122row1_col3\" class=\"data row1 col3\" >Man darf ferner behauften, dass wathrend der ersten vier Jahrhunderte der Kirche kein Lehrer und Keine religiose Genossenschaft, welche sich mit einigem Schein des Rechts als Erben des ursprfinglichen Christenthums betrachten konnten, eine andere Auschauung yon dem Lebensanfang Jesu yon Nazareth gehabt haben, als diese .. Dass die Annahme eines ursprunglichen Christenthums ohne den Glauben an den yon der Jungfrau geborenen Gottessohn Jesus eine Fiktion ist.\"--Zahn, Das Apostolische Symbolum, pp. 55-68. -- Opponents of the Virgin-Birth occur, indeed, in the person of Cerinthus, the contemporary of St. John, and later on among the Ebionites, mentioned by Justin Martyr.* But they reject the Virgin-Birth, because they reject the principle of the Incarnation. </td> \n",
       "        <td id=\"T_7a48f73c_f990_11eb_b585_acde48001122row1_col4\" class=\"data row1 col4\" >False</td> \n",
       "        <td id=\"T_7a48f73c_f990_11eb_b585_acde48001122row1_col5\" class=\"data row1 col5\" >['man', 'darf', 'ferner', 'behauften', 'dass', 'wathrend', 'der', 'ersten', 'vier', 'jahrhundert', 'der', 'kirch', 'kein', 'lehrer', 'und', 'kein', 'religios', 'genossenschaft', 'welch', 'sich', 'mit', 'einigem', 'schein', 'de', 'recht', 'al', 'erben', 'de', 'ursprfinglichen', 'christenthum', 'betrachten', 'konnten', 'ein', 'ander', 'auschauung', 'yon', 'dem', 'lebensanfang', 'jesu', 'yon', 'nazareth', 'gehabt', 'haben', 'al', 'dies', 'dass', 'die', 'annahm', 'ein', 'ursprunglichen', 'christenthum', 'ohn', 'den', 'glauben', 'den', 'yon', 'der', 'jungfrau', 'geborenen', 'gottessohn', 'jesu', 'ein', 'fiktion', 'ist', 'zahn', 'dpostolisch', 'symbolum', 'pp', 'oppon', 'virgin', 'birth', 'occur', 'inde', 'person', 'cerinthu', 'contemporari', 'st', 'john', 'later', 'among', 'ebionit', 'mention', 'justin', 'martyr', 'reject', 'virgin', 'birth', 'reject', 'principl', 'incarn']</td> \n",
       "        <td id=\"T_7a48f73c_f990_11eb_b585_acde48001122row1_col6\" class=\"data row1 col6\" >90</td> \n",
       "    </tr>    <tr> \n",
       "        <th id=\"T_7a48f73c_f990_11eb_b585_acde48001122level0_row2\" class=\"row_heading level0 row2\" >4259</th> \n",
       "        <td id=\"T_7a48f73c_f990_11eb_b585_acde48001122row2_col0\" class=\"data row2 col0\" >2915</td> \n",
       "        <td id=\"T_7a48f73c_f990_11eb_b585_acde48001122row2_col1\" class=\"data row2 col1\" >paraphrase.txt</td> \n",
       "        <td id=\"T_7a48f73c_f990_11eb_b585_acde48001122row2_col2\" class=\"data row2 col2\" >2915-paraphrase.txt</td> \n",
       "        <td id=\"T_7a48f73c_f990_11eb_b585_acde48001122row2_col3\" class=\"data row2 col3\" >Haddo, the clergyman pulled a bottle of spirits out of the pocket of his long woollen plaid wrap, and offered it to Janet. The two of them sat down on a soft hill of heather and traded the bottle back and forth, taking long sips. There was a boy, Francie, hiding nearby, and, if he had known anything about mythology, he may have mistaken the cleric for the God Pan, and the young woman, who was joking and laughing beside him, for a lovely woodland fairy. Though Janet had more the build of a burlesque dancer, than a wood nymph. It seemed to the boy remarked that the two of them were great pals.  When Haddo finally got up to depart, the young lady threw pebbles at him, while shrieking merrily. The man frolicked around and waggled his walking stick at her, and let out a guffaw that drowned out the girl's giggling.   They seemed to be having a little too much fun, the boy thought, and when he felt it was safe to come out, sat down and pondered what he had witnessed. </td> \n",
       "        <td id=\"T_7a48f73c_f990_11eb_b585_acde48001122row2_col4\" class=\"data row2 col4\" >True</td> \n",
       "        <td id=\"T_7a48f73c_f990_11eb_b585_acde48001122row2_col5\" class=\"data row2 col5\" >['haddo', 'clergyman', 'pull', 'bottl', 'spirit', 'pocket', 'long', 'woollen', 'plaid', 'wrap', 'offer', 'janet', 'two', 'sat', 'soft', 'hill', 'heather', 'trade', 'bottl', 'back', 'forth', 'take', 'long', 'sip', 'w', 'boy', 'franci', 'hide', 'nearbi', 'known', 'anyth', 'mytholog', 'may', 'mistaken', 'cleric', 'god', 'pan', 'young', 'woman', 'joke', 'laugh', 'besid', 'love', 'woodland', 'fairi', 'though', 'janet', 'build', 'burlesqu', 'dancer', 'wood', 'nymph', 'seem', 'boy', 'remark', 'two', 'great', 'pal', 'haddo', 'final', 'got', 'depart', 'young', 'ladi', 'threw', 'pebbl', 'shriek', 'merrili', 'man', 'frolick', 'around', 'waggl', 'walk', 'stick', 'let', 'guffaw', 'drown', 'girl', 'giggl', 'seem', 'littl', 'much', 'fun', 'boy', 'thought', 'felt', 'safe', 'come', 'sat', 'ponder', 'wit']</td> \n",
       "        <td id=\"T_7a48f73c_f990_11eb_b585_acde48001122row2_col6\" class=\"data row2 col6\" >91</td> \n",
       "    </tr>    <tr> \n",
       "        <th id=\"T_7a48f73c_f990_11eb_b585_acde48001122level0_row3\" class=\"row_heading level0 row3\" >4707</th> \n",
       "        <td id=\"T_7a48f73c_f990_11eb_b585_acde48001122row3_col0\" class=\"data row3 col0\" >3116</td> \n",
       "        <td id=\"T_7a48f73c_f990_11eb_b585_acde48001122row3_col1\" class=\"data row3 col1\" >paraphrase.txt</td> \n",
       "        <td id=\"T_7a48f73c_f990_11eb_b585_acde48001122row3_col2\" class=\"data row3 col2\" >3116-paraphrase.txt</td> \n",
       "        <td id=\"T_7a48f73c_f990_11eb_b585_acde48001122row3_col3\" class=\"data row3 col3\" >He had been made two marches beyond some places particularly.  One was made not directly for Berlin but it was made for Saxony. Another one was made for Lubben which was nearly fifty to sixty miles straight from south of Berlin. Then they had halted for some days during their stay, they tried to alter for a new sequel.   He explained the above matter seriously and sorrowfully to D’Argens. During the above explanation I was in fear of last winter season. Due to this statement, I have been received a kind of miserable temperament especially which was widely echoed in my letters which were being written by me to you. But these were all not required more to endure their outcomes as my philosophy needed such as provocations, the outrages, the whole scene of atrocious things that have come to pass etc. [Oeuvres de Frederic, xix 199: “22nd October]  even though Friedrich’s grief about Berlin were so painful, we no need to change its color due to murmurs afterwards. Now the question is why did not he start sooner?  Actual reason or answer for this question is that these savageries were on protest rally. </td> \n",
       "        <td id=\"T_7a48f73c_f990_11eb_b585_acde48001122row3_col4\" class=\"data row3 col4\" >True</td> \n",
       "        <td id=\"T_7a48f73c_f990_11eb_b585_acde48001122row3_col5\" class=\"data row3 col5\" >['made', 'two', 'march', 'beyond', 'place', 'particularli', 'one', 'made', 'directli', 'berlin', 'made', 'saxoni', 'anoth', 'one', 'made', 'lubben', 'nearli', 'fifti', 'sixti', 'mile', 'straight', 'south', 'berlin', 'halt', 'day', 'stay', 'tri', 'alter', 'new', 'sequel', 'explain', 'matter', 'serious', 'sorrow', 'argen', 'explan', 'fear', 'last', 'winter', 'season', 'due', 'statement', 'receiv', 'kind', 'miser', 'tempera', 'especi', 'wide', 'echo', 'letter', 'written', 'requir', 'endur', 'outcom', 'philosophi', 'need', 'provoc', 'outrag', 'whole', 'scene', 'trociou', 'thing', 'come', 'pass', 'etc', 'oeuvr', 'de', 'freder', 'xix', 'nd', 'octob', 'even', 'though', 'friedrich', 'grief', 'berlin', 'pain', 'need', 'chang', 'color', 'due', 'murmur', 'afterward', 'question', 'start', 'sooner', 'actual', 'reason', 'answer', 'question', 'se', 'savageri', 'protest', 'ralli']</td> \n",
       "        <td id=\"T_7a48f73c_f990_11eb_b585_acde48001122row3_col6\" class=\"data row3 col6\" >94</td> \n",
       "    </tr>    <tr> \n",
       "        <th id=\"T_7a48f73c_f990_11eb_b585_acde48001122level0_row4\" class=\"row_heading level0 row4\" >4760</th> \n",
       "        <td id=\"T_7a48f73c_f990_11eb_b585_acde48001122row4_col0\" class=\"data row4 col0\" >3140</td> \n",
       "        <td id=\"T_7a48f73c_f990_11eb_b585_acde48001122row4_col1\" class=\"data row4 col1\" >original.txt</td> \n",
       "        <td id=\"T_7a48f73c_f990_11eb_b585_acde48001122row4_col2\" class=\"data row4 col2\" >3140-original.txt</td> \n",
       "        <td id=\"T_7a48f73c_f990_11eb_b585_acde48001122row4_col3\" class=\"data row4 col3\" >These dainties, as will have been seen, have a large amount of butter, and soften in a warm room; they must therefore be made in a cold room, and if set on ice some hours before cooking will be much easier to fry without bending or twisting.  Cigarettes à la Chasseur are, as the name indicates, made of game, in exactly the same way as the last recipe.  Lobster Quenelles.--Prepare with bread panada as directed for quenelle meat. Poach and drain them. Then dish in a circle with thick Hollandaise sauce in the centre and round them.  Chicken, Turtle Fashion.--This requires a pullet or young hen about six months old. Bone the bird; stuff with a force-meat made of four parts minced veal, two parts chopped hard eggs, a half part lean boiled ham, two parts mushrooms, and two parts pâté de foie gras. </td> \n",
       "        <td id=\"T_7a48f73c_f990_11eb_b585_acde48001122row4_col4\" class=\"data row4 col4\" >True</td> \n",
       "        <td id=\"T_7a48f73c_f990_11eb_b585_acde48001122row4_col5\" class=\"data row4 col5\" >['dainti', 'seen', 'larg', 'amount', 'butter', 'soften', 'warm', 'room', 'must', 'therefor', 'made', 'cold', 'room', 'set', 'ice', 'hour', 'cook', 'much', 'easier', 'fri', 'without', 'bend', 'twist', 'cigarett', 'à', 'la', 'chasseur', 'name', 'indic', 'made', 'game', 'exactli', 'way', 'last', 'recip', 'lobster', 'quenel', 'prepar', 'bread', 'panada', 'direct', 'quenel', 'meat', 'poach', 'dram', 'dish', 'circl', 'thick', 'hollandais', 'sauc', 'centr', 'round', 'chicken', 'turtl', 'fashion', 'requir', 'pullet', 'young', 'hen', 'six', 'month', 'old', 'bone', 'bird', 'stuff', 'forc', 'meat', 'made', 'four', 'part', 'minc', 'veal', 'two', 'part', 'chop', 'hard', 'egg', 'half', 'part', 'lean', 'boil', 'ham', 'two', 'part', 'mushroom', 'two', 'part', 'pâté', 'de', 'foie', 'gra']</td> \n",
       "        <td id=\"T_7a48f73c_f990_11eb_b585_acde48001122row4_col6\" class=\"data row4 col6\" >91</td> \n",
       "    </tr>    <tr> \n",
       "        <th id=\"T_7a48f73c_f990_11eb_b585_acde48001122level0_row5\" class=\"row_heading level0 row5\" >4777</th> \n",
       "        <td id=\"T_7a48f73c_f990_11eb_b585_acde48001122row5_col0\" class=\"data row5 col0\" >3148</td> \n",
       "        <td id=\"T_7a48f73c_f990_11eb_b585_acde48001122row5_col1\" class=\"data row5 col1\" >paraphrase.txt</td> \n",
       "        <td id=\"T_7a48f73c_f990_11eb_b585_acde48001122row5_col2\" class=\"data row5 col2\" >3148-paraphrase.txt</td> \n",
       "        <td id=\"T_7a48f73c_f990_11eb_b585_acde48001122row5_col3\" class=\"data row5 col3\" >I had turned twenty the yea that I finally decided to ship out on board the Eliza Ann from Boston bound for Calcutta with Captain Saunders.   He'd always tell me that going to sea was like a \"dog's life,\" but I liked it anyway and so I set off on my first long voyage as a sailor alongside with him.   One of our crewmates was Jamie. Captain Saunders told me that Jamie wasn't from around here and that he thought Jamie may be part Scotch though. He said that everybody liked Jamie because he was so smart, that they used to kid around and tell him that he had a mind, \"like a steel trap.\" The Captain also said that Jamie was well liked because he knew alot of songs, but that he just liked him because he did his job so well jumping around the rigging like a bird.  Jamie was leaning back on the foremast, his black hair blowing over his shoulders when one of the passengers, an artist made a sketch of him for a local magazine.  Yeah Jamie's a real liked guy by the passengers, andis co-workers. </td> \n",
       "        <td id=\"T_7a48f73c_f990_11eb_b585_acde48001122row5_col4\" class=\"data row5 col4\" >True</td> \n",
       "        <td id=\"T_7a48f73c_f990_11eb_b585_acde48001122row5_col5\" class=\"data row5 col5\" >['turn', 'twenti', 'yea', 'final', 'decid', 'ship', 'board', 'eliza', 'ann', 'boston', 'bound', 'calcutta', 'captain', 'saunder', 'alway', 'tell', 'go', 'sea', 'like', 'dog', 'life', 'like', 'anyway', 'set', 'first', 'long', 'voyag', 'sailor', 'alongsid', 'crewmat', 'jami', 'captain', 'saunder', 'told', 'jami', 'around', 'thought', 'jami', 'may', 'part', 'scotch', 'though', 'said', 'everybodi', 'like', 'jami', 'smart', 'use', 'kid', 'around', 'tell', 'mind', 'like', 'steel', 'trap', 'captalso', 'said', 'jami', 'well', 'like', 'knew', 'alot', 'song', 'like', 'job', 'well', 'jump', 'around', 'rig', 'like', 'bird', 'jami', 'lean', 'back', 'foremast', 'black', 'hair', 'blow', 'shoulder', 'passeng', 'artist', 'made', 'sketch', 'local', 'magazin', 'yeah', 'jami', 'real', 'like', 'guy', 'passeng', 'andi', 'co', 'worker']</td> \n",
       "        <td id=\"T_7a48f73c_f990_11eb_b585_acde48001122row5_col6\" class=\"data row5 col6\" >94</td> \n",
       "    </tr>    <tr> \n",
       "        <th id=\"T_7a48f73c_f990_11eb_b585_acde48001122level0_row6\" class=\"row_heading level0 row6\" >4785</th> \n",
       "        <td id=\"T_7a48f73c_f990_11eb_b585_acde48001122row6_col0\" class=\"data row6 col0\" >3151</td> \n",
       "        <td id=\"T_7a48f73c_f990_11eb_b585_acde48001122row6_col1\" class=\"data row6 col1\" >paraphrase.txt</td> \n",
       "        <td id=\"T_7a48f73c_f990_11eb_b585_acde48001122row6_col2\" class=\"data row6 col2\" >3151-paraphrase.txt</td> \n",
       "        <td id=\"T_7a48f73c_f990_11eb_b585_acde48001122row6_col3\" class=\"data row6 col3\" >These are essentially comprised with different links and such links are formed by a pair of parallel plates.  These plates are especially connected by a central bolt forming a scissors joint and again they are perfectly connected by chain links.  These links are present under the cage and it is highly tied above by the winding rope. The outer side’s links are specially designed with projecting lugs above.  When they are closed by the load, its width will normally permit it to enter a funnel shaped guide which is situated on a cross bar of the frame.   They are fixed from some distance above the bank level.  When they are reaching the narrower portion of the guide at the top, then the plates will automatically be forced apart and it will release the ropes and bring the lugs into contact with the top of the cross bar.  This will finally secure the cage from falling carefully.  There are mainly three different principal patters existing in normal use such as king, ormerod and walker. They are in fact very capable and efficient to create the speed of the cage at arrival is not excessive. </td> \n",
       "        <td id=\"T_7a48f73c_f990_11eb_b585_acde48001122row6_col4\" class=\"data row6 col4\" >True</td> \n",
       "        <td id=\"T_7a48f73c_f990_11eb_b585_acde48001122row6_col5\" class=\"data row6 col5\" >['essenti', 'compris', 'differ', 'link', 'link', 'form', 'pair', 'parallel', 'plate', 'plate', 'especi', 'connect', 'central', 'bolt', 'form', 'scissor', 'joint', 'gay', 'perfectli', 'connect', 'chain', 'link', 'link', 'present', 'cage', 'highli', 'tie', 'wind', 'rope', 'outer', 'side', 'link', 'special', 'design', 'project', 'lug', 'close', 'load', 'width', 'normal', 'permit', 'enter', 'funnel', 'shape', 'guid', 'situat', 'cross', 'bar', 'frame', 'fix', 'distanc', 'bank', 'level', 'reach', 'narrow', 'portion', 'guid', 'top', 'plate', 'automat', 'forc', 'apart', 'releas', 'rope', 'bring', 'lug', 'contact', 'top', 'cross', 'bar', 'final', 'secur', 'cage', 'fall', 'care', 'mainli', 'three', 'differ', 'princip', 'patter', 'exist', 'normal', 'use', 'king', 'ormerod', 'walker', 'fact', 'capabl', 'effici', 'creat', 'speed', 'cage', 'arriv', 'excess']</td> \n",
       "        <td id=\"T_7a48f73c_f990_11eb_b585_acde48001122row6_col6\" class=\"data row6 col6\" >94</td> \n",
       "    </tr>    <tr> \n",
       "        <th id=\"T_7a48f73c_f990_11eb_b585_acde48001122level0_row7\" class=\"row_heading level0 row7\" >4799</th> \n",
       "        <td id=\"T_7a48f73c_f990_11eb_b585_acde48001122row7_col0\" class=\"data row7 col0\" >3158</td> \n",
       "        <td id=\"T_7a48f73c_f990_11eb_b585_acde48001122row7_col1\" class=\"data row7 col1\" >paraphrase.txt</td> \n",
       "        <td id=\"T_7a48f73c_f990_11eb_b585_acde48001122row7_col2\" class=\"data row7 col2\" >3158-paraphrase.txt</td> \n",
       "        <td id=\"T_7a48f73c_f990_11eb_b585_acde48001122row7_col3\" class=\"data row7 col3\" >Yankee enterprise is purposely emerged to do something with the erection of the presently buildings.  Due to the reason of Rebel dead, as its neighborhood cemetery, its own cemetery is also highly buried by numerous people. So at the time of our occupancy, so many larger buildings were occupied as hospital for hospitalization purpose.   But on the day of McClellan”s departure, the entire streets were anxiously crowded with officers and men.  Besides, the sympathies of the Rebel residents were showing their distinctive presence according to the agreement made with the chieftain’s favorites. At the same time, the representatives of the clannish attachments – a species of Masonry in the army made by McClellanism were under power and they were in force.  Due to this kind of enthusiasm, brotherly love has become changed into patriotism. Moreover, as an amazing turning point, as per entries made in the record of the McClellan campaigns, the Rebels also made their faithful appearance and associated with these devotees in their grief wholeheartedly. </td> \n",
       "        <td id=\"T_7a48f73c_f990_11eb_b585_acde48001122row7_col4\" class=\"data row7 col4\" >True</td> \n",
       "        <td id=\"T_7a48f73c_f990_11eb_b585_acde48001122row7_col5\" class=\"data row7 col5\" >['yanke', 'enterpris', 'purpos', 'emerg', 'someth', 'erect', 'present', 'build', 'due', 'reason', 'rebel', 'dead', 'neighborhood', 'cemeteri', 'cemeteri', 'lso', 'highli', 'buri', 'numer', 'peopl', 'time', 'occup', 'mani', 'larger', 'build', 'occupi', 'hospit', 'hospit', 'purpos', 'day', 'mcclellan', 'departur', 'entir', 'street', 'anxious', 'crowd', 'offic', 'men', 'besid', 'sympathi', 'rebel', 'resid', 'show', 'distinct', 'presenc', 'accord', 'agreement', 'made', 'chieftain', 'favorit', 'time', 'repres', 'clannish', 'attach', 'speci', 'masonri', 'armi', 'made', 'mcclellan', 'power', 'forc', 'due', 'kind', 'enthusiasm', 'brotherli', 'love', 'becom', 'chang', 'patriot', 'moreov', 'n', 'amaz', 'turn', 'point', 'per', 'entri', 'made', 'record', 'mcclellan', 'campaign', 'rebel', 'also', 'made', 'faith', 'appear', 'ssociat', 'se', 'devote', 'ir', 'grief', 'wholeheartedli']</td> \n",
       "        <td id=\"T_7a48f73c_f990_11eb_b585_acde48001122row7_col6\" class=\"data row7 col6\" >91</td> \n",
       "    </tr>    <tr> \n",
       "        <th id=\"T_7a48f73c_f990_11eb_b585_acde48001122level0_row8\" class=\"row_heading level0 row8\" >4875</th> \n",
       "        <td id=\"T_7a48f73c_f990_11eb_b585_acde48001122row8_col0\" class=\"data row8 col0\" >3192</td> \n",
       "        <td id=\"T_7a48f73c_f990_11eb_b585_acde48001122row8_col1\" class=\"data row8 col1\" >paraphrase.txt</td> \n",
       "        <td id=\"T_7a48f73c_f990_11eb_b585_acde48001122row8_col2\" class=\"data row8 col2\" >3192-paraphrase.txt</td> \n",
       "        <td id=\"T_7a48f73c_f990_11eb_b585_acde48001122row8_col3\" class=\"data row8 col3\" >MECHANICAL  ENLARGEMENT OF DESIGNS.  Usually the artists will enlarge designs by the help of eye in the simplest way.   There are so many methods they will use to do this work. One of them is first they will dras squares with particular measurements such as 4cm x 4cm on the whole designs.   Then they will make same number of squares once again on the plain sheet with enlarged squares such as 8cm x 8cm.   Now they will start to re-art each portion in the smaller square (4cm x 4cm) on the larger square sheet (8cm x 8cm) exactly.  This type of art to enlarge designs will be more suitable for embroidery designs.     DRY STAMPING.  This process is usually called as pouncing. What is this process?  First you have to place the pattern (rough side) on the particular material and make it to be stamped well.  For avoiding slipping, it is advisable to carefully keep some weights on the four corners.    Now you have to apply powder over the perforations and you have to sub the powder portion with the pouncet.  In doing so, the pattern will be clearly marked on the material </td> \n",
       "        <td id=\"T_7a48f73c_f990_11eb_b585_acde48001122row8_col4\" class=\"data row8 col4\" >True</td> \n",
       "        <td id=\"T_7a48f73c_f990_11eb_b585_acde48001122row8_col5\" class=\"data row8 col5\" >['mechan', 'enlarg', 'design', 'usual', 'artist', 'enlarg', 'design', 'help', 'eye', 'simplest', 'way', 'mani', 'method', 'use', 'work', 'first', 'dra', 'squar', 'particular', 'measur', 'cm', 'x', 'cm', 'whole', 'design', 'make', 'number', 'squar', 'plain', 'sheet', 'enlarg', 'squar', 'cm', 'x', 'cm', 'start', 'art', 'portion', 'smaller', 'squar', 'cm', 'x', 'cm', 'larger', 'squar', 'sheet', 'cm', 'x', 'cm', 'exactli', 'type', 'rt', 'enlarg', 'design', 'suitabl', 'embroideri', 'design', 'dri', 'stamp', 'process', 'usual', 'call', 'pounc', 'process', 'first', 'place', 'pattern', 'rough', 'side', 'particular', 'materi', 'make', 'stamp', 'well', 'avoid', 'slip', 'dvisabl', 'care', 'keep', 'weight', 'four', 'corner', 'appli', 'powder', 'perfor', 'sub', 'powder', 'portion', 'pouncet', 'pattern', 'clearli', 'mark', 'materi']</td> \n",
       "        <td id=\"T_7a48f73c_f990_11eb_b585_acde48001122row8_col6\" class=\"data row8 col6\" >93</td> \n",
       "    </tr>    <tr> \n",
       "        <th id=\"T_7a48f73c_f990_11eb_b585_acde48001122level0_row9\" class=\"row_heading level0 row9\" >5077</th> \n",
       "        <td id=\"T_7a48f73c_f990_11eb_b585_acde48001122row9_col0\" class=\"data row9 col0\" >3283</td> \n",
       "        <td id=\"T_7a48f73c_f990_11eb_b585_acde48001122row9_col1\" class=\"data row9 col1\" >paraphrase.txt</td> \n",
       "        <td id=\"T_7a48f73c_f990_11eb_b585_acde48001122row9_col2\" class=\"data row9 col2\" >3283-paraphrase.txt</td> \n",
       "        <td id=\"T_7a48f73c_f990_11eb_b585_acde48001122row9_col3\" class=\"data row9 col3\" >To prserve your wort from foxing  you must put a handful of or two hops to the malt into the underback before you leting it into wort.       When you boil your Worts try to boil the first wort quickly so that the following worts will boil more than the first one.        At the time of cooling also extreme care should be given.Lay  the worts thin so that each will be cooled.After that let the worts slowly down to the Tun till the end  as little of the feces or sediments increase or decrease theintensity of  fermentation. Salt and sulphu should be accurate in proportion. All these make athe art of brewing.               Add a little yeast to the Tun and let it work . If the yeast work slowly whip in the yeast two times or more, because full opening of the body of fermentation will only make the drink clean and light.          when you cleanse ,do it by a cock and it should be six inches from the bottom of the Tun so that the sediments may left behind  and you can throw in to your Malt to mend  small beert </td> \n",
       "        <td id=\"T_7a48f73c_f990_11eb_b585_acde48001122row9_col4\" class=\"data row9 col4\" >True</td> \n",
       "        <td id=\"T_7a48f73c_f990_11eb_b585_acde48001122row9_col5\" class=\"data row9 col5\" >['prserv', 'wort', 'fox', 'must', 'put', 'hand', 'two', 'hop', 'malt', 'underback', 'lete', 'wort', 'boil', 'wort', 'tri', 'boil', 'first', 'wort', 'quickli', 'follow', 'wort', 'boil', 'first', 'one', 'time', 'cool', 'also', 'extrem', 'care', 'given', 'lay', 'wort', 'thin', 'cool', 'let', 'wort', 'slowli', 'tun', 'till', 'end', 'littl', 'fece', 'sediment', 'increas', 'decreas', 'theintens', 'ferment', 'salt', 'sulphu', 'accur', 'proport', 'se', 'make', 'ath', 'art', 'brew', 'add', 'littl', 'yeast', 'tun', 'let', 'work', 'yeast', 'work', 'slowli', 'whip', 'yeast', 'two', 'time', 'full', 'open', 'bodi', 'ferment', 'make', 'drink', 'clean', 'light', 'cleans', 'cock', 'six', 'inch', 'bottom', 'tun', 'sediment', 'may', 'left', 'behind', 'throw', 'malt', 'mend', 'small', 'beert']</td> \n",
       "        <td id=\"T_7a48f73c_f990_11eb_b585_acde48001122row9_col6\" class=\"data row9 col6\" >92</td> \n",
       "    </tr>    <tr> \n",
       "        <th id=\"T_7a48f73c_f990_11eb_b585_acde48001122level0_row10\" class=\"row_heading level0 row10\" >5081</th> \n",
       "        <td id=\"T_7a48f73c_f990_11eb_b585_acde48001122row10_col0\" class=\"data row10 col0\" >3285</td> \n",
       "        <td id=\"T_7a48f73c_f990_11eb_b585_acde48001122row10_col1\" class=\"data row10 col1\" >paraphrase.txt</td> \n",
       "        <td id=\"T_7a48f73c_f990_11eb_b585_acde48001122row10_col2\" class=\"data row10 col2\" >3285-paraphrase.txt</td> \n",
       "        <td id=\"T_7a48f73c_f990_11eb_b585_acde48001122row10_col3\" class=\"data row10 col3\" >I.  A REPLY TO THE FIRST ESSAY ON \"SUPERNATURAL RELIGION\" FROM DR. LIGHTFOOT.\" (Endnote 1:1)   The function of the critic is very important when it is properly exersized. A reviewer that examines serious work needs to receive serious and respectful consideration even though his stricture may be unpleasant for someone. It is impossible for a man to fully separate himself from his work as to judge fairyly the effects of his work. In every great work it is certain that flaws and mistakes will occur. However, every writer feels thankful to anyone who points out his errors and his mistakes. If I speak for myself, I have to say that I want nothing more than a similar frankess, and the refutation of any arguments which are thought to be fallacious.       Even though I may be reluctant, to depart from the attitude of silent attention which should be maintained by writers when facing criticis, it is somewhat a different issue when criticism assumes the vicious tone of the Rev. Dr. Lightfoot's article upon Supernatural Religion in the December number of the \"Contemporary Review.\" </td> \n",
       "        <td id=\"T_7a48f73c_f990_11eb_b585_acde48001122row10_col4\" class=\"data row10 col4\" >True</td> \n",
       "        <td id=\"T_7a48f73c_f990_11eb_b585_acde48001122row10_col5\" class=\"data row10 col5\" >['repli', 'first', 'essay', 'supernatur', 'religion', 'dr', 'lightfoot', 'endnot', 'function', 'critic', 'import', 'properli', 'exers', 'review', 'examin', 'seriou', 'work', 'need', 'receiv', 'seriou', 'respect', 'consider', 'even', 'though', 'strictur', 'may', 'unpleas', 'someon', 'imposs', 'man', 'fulli', 'separ', 'work', 'judg', 'fairyli', 'effect', 'work', 'everi', 'great', 'work', 'certain', 'flaw', 'mistak', 'occur', 'howev', 'everi', 'writer', 'feel', 'thank', 'anyon', 'point', 'error', 'mistak', 'speak', 'say', 'want', 'noth', 'similar', 'frankess', 'refut', 'ny', 'argument', 'thought', 'fallaci', 'even', 'though', 'may', 'reluct', 'depart', 'attitud', 'silent', 'attent', 'maintain', 'writer', 'face', 'critici', 'somewhat', 'differ', 'issu', 'critic', 'assum', 'viciou', 'rev', 'dr', 'lightfoot', 'articl', 'upon', 'supernatur', 'religion', 'decemb', 'number', 'contemporari', 'review']</td> \n",
       "        <td id=\"T_7a48f73c_f990_11eb_b585_acde48001122row10_col6\" class=\"data row10 col6\" >93</td> \n",
       "    </tr>    <tr> \n",
       "        <th id=\"T_7a48f73c_f990_11eb_b585_acde48001122level0_row11\" class=\"row_heading level0 row11\" >5085</th> \n",
       "        <td id=\"T_7a48f73c_f990_11eb_b585_acde48001122row11_col0\" class=\"data row11 col0\" >3287</td> \n",
       "        <td id=\"T_7a48f73c_f990_11eb_b585_acde48001122row11_col1\" class=\"data row11 col1\" >paraphrase.txt</td> \n",
       "        <td id=\"T_7a48f73c_f990_11eb_b585_acde48001122row11_col2\" class=\"data row11 col2\" >3287-paraphrase.txt</td> \n",
       "        <td id=\"T_7a48f73c_f990_11eb_b585_acde48001122row11_col3\" class=\"data row11 col3\" >Motor expression is usually seen in self-pleasuring sexually significant, habitual movements. This is what psychophysics would call \"physical stereotypy.\" Mentally, one would use obsessive thinking, physical actions, and thoughts as a defense mechanism against a guilty conscience. Tics occur when motor habits are partially inhibited. The tic itself is not usually sexual, because it is only a fragment of the original movement. Tics, in their final state, can either be conversion/hysteric or substitution/obsessive, or both.  Students of Freudism will understand this somewhat. Others may find this more difficult to understand if it is not explained further. I should say that, according to Freudians, tics are an obsessional/obsessive neurosis. The following quotation explains the Freudian theory of the evolution of and reason for these states. It is quoted from Clark's paper.  The painful idea's affect, rather than transforming itself into a physical symptom (which is what happens in hysteria) combines with more bearable ideas to create another obsession as a substitute. </td> \n",
       "        <td id=\"T_7a48f73c_f990_11eb_b585_acde48001122row11_col4\" class=\"data row11 col4\" >True</td> \n",
       "        <td id=\"T_7a48f73c_f990_11eb_b585_acde48001122row11_col5\" class=\"data row11 col5\" >['motor', 'express', 'usual', 'seen', 'self', 'pleasur', 'sexual', 'signific', 'habitu', 'movement', 'psychophys', 'would', 'call', 'physic', 'stereotypi', 'mental', 'one', 'would', 'use', 'obsess', 'think', 'physic', 'action', 'thought', 'defens', 'mechan', 'guilti', 'conscienc', 'tic', 'occur', 'motor', 'habit', 'partial', 'inhibit', 'tic', 'usual', 'sexual', 'fragment', 'origin', 'movement', 'tic', 'ir', 'final', 'state', 'either', 'convers', 'hyster', 'substitut', 'obsess', 'student', 'freudism', 'understand', 'somewhat', 'other', 'may', 'find', 'difficult', 'understand', 'explain', 'say', 'accord', 'freudian', 'tic', 'obsession', 'obsess', 'neurosi', 'follow', 'quotat', 'explain', 'freudian', 'theori', 'evolut', 'nd', 'reason', 'se', 'state', 'quot', 'clark', 'paper', 'pain', 'idea', 'affect', 'rather', 'transform', 'physic', 'symptom', 'happen', 'hysteria', 'combin', 'bearabl', 'idea', 'creat', 'anoth', 'obsess', 'substitut']</td> \n",
       "        <td id=\"T_7a48f73c_f990_11eb_b585_acde48001122row11_col6\" class=\"data row11 col6\" >95</td> \n",
       "    </tr>    <tr> \n",
       "        <th id=\"T_7a48f73c_f990_11eb_b585_acde48001122level0_row12\" class=\"row_heading level0 row12\" >5401</th> \n",
       "        <td id=\"T_7a48f73c_f990_11eb_b585_acde48001122row12_col0\" class=\"data row12 col0\" >3429</td> \n",
       "        <td id=\"T_7a48f73c_f990_11eb_b585_acde48001122row12_col1\" class=\"data row12 col1\" >paraphrase.txt</td> \n",
       "        <td id=\"T_7a48f73c_f990_11eb_b585_acde48001122row12_col2\" class=\"data row12 col2\" >3429-paraphrase.txt</td> \n",
       "        <td id=\"T_7a48f73c_f990_11eb_b585_acde48001122row12_col3\" class=\"data row12 col3\" >He said her not to enter inside until he call her  and also she can stand close to the door so she can hear everything. After saying this he tapped the door  and entered inside closing the door slowly so that the woman can get a glimpse of the father and boy and a motherly affection showed in her eyes.       The priest blessed the house and gently he stepped forward. Seeing him the father became nervous and he wished  the priest in French with a poor accent as he had learned French from his wife and he himself is an Englishman.           The priest looked at the lighted candles on the little shrine and saw the painful sight of the man.           He asked the man about his wife and child The poor man showed the child in the bed and said  he is ill.    Then the priest felt the child's pulse and examined the boy and softly  asked the man Where is his wife.The man answered she was not there .  Then he asked the man when did she left him. He said four weeks ago. Then the priest said that was september and this is october winter </td> \n",
       "        <td id=\"T_7a48f73c_f990_11eb_b585_acde48001122row12_col4\" class=\"data row12 col4\" >True</td> \n",
       "        <td id=\"T_7a48f73c_f990_11eb_b585_acde48001122row12_col5\" class=\"data row12 col5\" >['said', 'enter', 'insid', 'call', 'lso', 'stand', 'close', 'door', 'hear', 'everyth', 'say', 'tap', 'door', 'enter', 'insid', 'close', 'door', 'slowli', 'woman', 'get', 'glimps', 'father', 'boy', 'motherli', 'affect', 'show', 'eye', 'priest', 'bless', 'hous', 'gentli', 'step', 'forward', 'see', 'father', 'becam', 'nervou', 'wish', 'priest', 'french', 'poor', 'accent', 'learn', 'french', 'wife', 'n', 'englishman', 'priest', 'look', 'light', 'candl', 'littl', 'shrine', 'saw', 'pain', 'sight', 'man', 'ask', 'man', 'wife', 'child', 'poor', 'man', 'show', 'child', 'bed', 'said', 'ill', 'priest', 'felt', 'child', 'puls', 'examin', 'boy', 'softli', 'ask', 'man', 'wife', 'man', 'answer', 'ask', 'man', 'left', 'said', 'four', 'week', 'ago', 'priest', 'said', 'septemb', 'octob', 'winter']</td> \n",
       "        <td id=\"T_7a48f73c_f990_11eb_b585_acde48001122row12_col6\" class=\"data row12 col6\" >92</td> \n",
       "    </tr>    <tr> \n",
       "        <th id=\"T_7a48f73c_f990_11eb_b585_acde48001122level0_row13\" class=\"row_heading level0 row13\" >5645</th> \n",
       "        <td id=\"T_7a48f73c_f990_11eb_b585_acde48001122row13_col0\" class=\"data row13 col0\" >3539</td> \n",
       "        <td id=\"T_7a48f73c_f990_11eb_b585_acde48001122row13_col1\" class=\"data row13 col1\" >paraphrase.txt</td> \n",
       "        <td id=\"T_7a48f73c_f990_11eb_b585_acde48001122row13_col2\" class=\"data row13 col2\" >3539-paraphrase.txt</td> \n",
       "        <td id=\"T_7a48f73c_f990_11eb_b585_acde48001122row13_col3\" class=\"data row13 col3\" >Happy for the passive the fair th all in  a line to alerts .  this is the written to the for the neither allterive for the coments in the all images in the good quilty  *******  uppers the all eat for in the a line   is shoes. A lady, who observed the accident, thought it might impede Mr. Linley's journey, and seeing that he himself was unconscious of it, politely reminded him that one of his horse's shoes had just come off. \"Thank you, madam,\" replied Linley; \"will you then have the goodness to put it on for me?\"   Linley one day received a card to dine with the late archbishop of Canterbury, who was then bishop of Norwich. Careless into what hole or corner he threw his invitations, he soon lost sight of the card, and forgot it altogether. A year revolved, when, on wiping the dust from some papers he had stuck on the glass over the chimney, the bishop's invitation for a certain day in the month (he did not think of the year one instant,) stared him full in the face, and taking it for granted that it was a recent one, he dressed himself on the appointed day, and proceeded to the palace </td> \n",
       "        <td id=\"T_7a48f73c_f990_11eb_b585_acde48001122row13_col4\" class=\"data row13 col4\" >False</td> \n",
       "        <td id=\"T_7a48f73c_f990_11eb_b585_acde48001122row13_col5\" class=\"data row13 col5\" >['happi', 'passiv', 'fair', 'th', 'line', 'alert', 'written', 'neither', 'allter', 'coment', 'imag', 'good', 'quilti', 'upper', 'eat', 'line', 'shoe', 'ladi', 'observ', 'accid', 'thought', 'might', 'imped', 'mr', 'linley', 'journey', 'see', 'unconsci', 'polit', 'remind', 'hors', 'shoe', 'come', 'thank', 'madam', 'repli', 'linley', 'good', 'put', 'linley', 'one', 'day', 'receiv', 'card', 'dine', 'late', 'archbishop', 'canterburi', 'wn', 'bishop', 'norwich', 'careless', 'hole', 'corner', 'threw', 'invit', 'soon', 'lost', 'sight', 'card', 'forgot', 'altogeth', 'year', 'revolv', 'wipe', 'dust', 'paper', 'stuck', 'glass', 'chimney', 'bishop', 'invit', 'certain', 'day', 'month', 'think', 'year', 'one', 'instant', 'stare', 'full', 'face', 'take', 'grant', 'recent', 'one', 'dress', 'appoint', 'day', 'proceed', 'palac']</td> \n",
       "        <td id=\"T_7a48f73c_f990_11eb_b585_acde48001122row13_col6\" class=\"data row13 col6\" >91</td> \n",
       "    </tr>    <tr> \n",
       "        <th id=\"T_7a48f73c_f990_11eb_b585_acde48001122level0_row14\" class=\"row_heading level0 row14\" >5921</th> \n",
       "        <td id=\"T_7a48f73c_f990_11eb_b585_acde48001122row14_col0\" class=\"data row14 col0\" >3663</td> \n",
       "        <td id=\"T_7a48f73c_f990_11eb_b585_acde48001122row14_col1\" class=\"data row14 col1\" >paraphrase.txt</td> \n",
       "        <td id=\"T_7a48f73c_f990_11eb_b585_acde48001122row14_col2\" class=\"data row14 col2\" >3663-paraphrase.txt</td> \n",
       "        <td id=\"T_7a48f73c_f990_11eb_b585_acde48001122row14_col3\" class=\"data row14 col3\" >There is no need to thin apples from my tree. Enough fall off naturally. Personally, I fertilize my orchard with the use of clover and highly recommend it for all soils. However, pasturing my orchard I avoid always. My trees have annoying borers and my apples are bother by an annoying insect that stings and causes them to fall. Yet I do not spray. With care, I pick my apples by hand. Then I sort them into two classes and pack them in barrels, marked with variety by hand. Next I ship them to market in a lumber wagon. My best apples are put up for wholesale and vinegar is the result of the second and third grade apples that I harvest. Topeka is the best market for my apples, although I admit that I have not tried distand markets. I do not dry apples but store them in barrels in my cellar. From time to time, I also bury some. It is wise to repack stored apples before sending them to market, losing about one-eighth of them. Irrigagion is not advised. Price is currently fifty cents per bushel. </td> \n",
       "        <td id=\"T_7a48f73c_f990_11eb_b585_acde48001122row14_col4\" class=\"data row14 col4\" >True</td> \n",
       "        <td id=\"T_7a48f73c_f990_11eb_b585_acde48001122row14_col5\" class=\"data row14 col5\" >['need', 'thpple', 'tree', 'enough', 'fall', 'natur', 'person', 'fertil', 'orchard', 'clover', 'highli', 'recommend', 'soil', 'howev', 'pastur', 'orchard', 'avoid', 'alway', 'tree', 'annoy', 'borer', 'appl', 'bother', 'annoy', 'insect', 'sting', 'caus', 'fall', 'yet', 'spray', 'care', 'pick', 'appl', 'hand', 'sort', 'two', 'class', 'pack', 'barrel', 'mark', 'varieti', 'hand', 'next', 'ship', 'market', 'lumber', 'wagon', 'best', 'appl', 'put', 'wholesal', 'vinegar', 'result', 'second', 'third', 'grade', 'appl', 'harvest', 'topeka', 'best', 'market', 'appl', 'although', 'admit', 'tri', 'distand', 'market', 'dri', 'appl', 'store', 'barrel', 'cellar', 'time', 'time', 'also', 'buri', 'wise', 'repack', 'store', 'appl', 'send', 'market', 'lose', 'one', 'eighth', 'irrigagion', 'advis', 'price', 'current', 'fifti', 'cent', 'per', 'bushel']</td> \n",
       "        <td id=\"T_7a48f73c_f990_11eb_b585_acde48001122row14_col6\" class=\"data row14 col6\" >93</td> \n",
       "    </tr>    <tr> \n",
       "        <th id=\"T_7a48f73c_f990_11eb_b585_acde48001122level0_row15\" class=\"row_heading level0 row15\" >6195</th> \n",
       "        <td id=\"T_7a48f73c_f990_11eb_b585_acde48001122row15_col0\" class=\"data row15 col0\" >3787</td> \n",
       "        <td id=\"T_7a48f73c_f990_11eb_b585_acde48001122row15_col1\" class=\"data row15 col1\" >paraphrase.txt</td> \n",
       "        <td id=\"T_7a48f73c_f990_11eb_b585_acde48001122row15_col2\" class=\"data row15 col2\" >3787-paraphrase.txt</td> \n",
       "        <td id=\"T_7a48f73c_f990_11eb_b585_acde48001122row15_col3\" class=\"data row15 col3\" >The son of the Red Elk would have more than likely stayed with his cherished love on the island, but he replayed the words of the Master of Life in his bind with the pauses of the breeze, saying:  \"Go back to they own land, hunter. Your time has not yet come. You have not yet performed the work I have for you to do, nor can you yet enjoy those pleasures which belong to them who have performed their allotted task on earth. Go back, then. In thime thou shalt rejoin her, the love of whom has brought thee hither.\" MACHINITOU, THE EVIL SPIRIT. The once Master of Life, Chemanitou caused not only himself but others like him discomfort. He was an accidental birth.  Known as the Long Island, Metowac was an enormous plain that it looked like nothing was to grow on it,that it was just a part of the great sea.   Some of these establishments were so big that they had to be spread out, not clumped together.They were so strong that Chemanitou couldn't control them himself. Chemanitou's way was to test these creations with powers and if they didnt work out they would be drained of life from him. </td> \n",
       "        <td id=\"T_7a48f73c_f990_11eb_b585_acde48001122row15_col4\" class=\"data row15 col4\" >True</td> \n",
       "        <td id=\"T_7a48f73c_f990_11eb_b585_acde48001122row15_col5\" class=\"data row15 col5\" >['son', 'red', 'elk', 'would', 'like', 'stay', 'cherish', 'love', 'island', 'replay', 'word', 'master', 'life', 'bind', 'paus', 'breez', 'say', 'go', 'back', 'land', 'hunter', 'time', 'yet', 'come', 'yet', 'perform', 'work', 'yet', 'enjoy', 'pleasur', 'belong', 'perform', 'allot', 'task', 'earth', 'go', 'back', 'thime', 'thou', 'shalt', 'rejoin', 'love', 'brought', 'thee', 'hither', 'machinit', 'evil', 'spirit', 'master', 'life', 'chemanit', 'caus', 'other', 'like', 'discomfort', 'wn', 'accident', 'birth', 'known', 'long', 'island', 'metowac', 'wn', 'enorm', 'plain', 'look', 'like', 'noth', 'grow', 'great', 'sea', 'se', 'establish', 'big', 'spread', 'clump', 'togeth', 'strong', 'chemanit', 'control', 'chemanit', 'way', 'test', 'creation', 'power', 'didnt', 'work', 'would', 'drain', 'life']</td> \n",
       "        <td id=\"T_7a48f73c_f990_11eb_b585_acde48001122row15_col6\" class=\"data row15 col6\" >90</td> \n",
       "    </tr>    <tr> \n",
       "        <th id=\"T_7a48f73c_f990_11eb_b585_acde48001122level0_row16\" class=\"row_heading level0 row16\" >6611</th> \n",
       "        <td id=\"T_7a48f73c_f990_11eb_b585_acde48001122row16_col0\" class=\"data row16 col0\" >3974</td> \n",
       "        <td id=\"T_7a48f73c_f990_11eb_b585_acde48001122row16_col1\" class=\"data row16 col1\" >paraphrase.txt</td> \n",
       "        <td id=\"T_7a48f73c_f990_11eb_b585_acde48001122row16_col2\" class=\"data row16 col2\" >3974-paraphrase.txt</td> \n",
       "        <td id=\"T_7a48f73c_f990_11eb_b585_acde48001122row16_col3\" class=\"data row16 col3\" >The student broke the rules of the flying school by flying further than the allowed distance of the aerodome on his maiden flight itself. Beyond the aerodrome he encountered a main road consisting of tramway lines. At that very moment a tram was passing. The tram had a few passengers on the roof who were amazed as well  as frightened to see a plane fly so low on over the fields and then pass just above their heads. Then after flying all around the country side he decided to head back to the autodrome hesistantly. The autodrome was surrounded with some trees forming a kind of border to it. The pilot started flying into the direction of these trees as if he was going to go right through them. but as he came closer to them he tilted his plane sideways and passed through the gap in between these trees just like an professional pilot and then landed on the aerodrome strip. After he got off the plane he \"not having turned a hair\" as the legend goes he started walking and removing his kit off. Just to let you know that there is no record of what happened to the pilot after this incident just as their is no record of this story either. </td> \n",
       "        <td id=\"T_7a48f73c_f990_11eb_b585_acde48001122row16_col4\" class=\"data row16 col4\" >False</td> \n",
       "        <td id=\"T_7a48f73c_f990_11eb_b585_acde48001122row16_col5\" class=\"data row16 col5\" >['student', 'broke', 'rule', 'fli', 'school', 'fli', 'allow', 'distanc', 'aerodom', 'maiden', 'flight', 'beyond', 'aerodrom', 'encount', 'main', 'road', 'consist', 'tramway', 'line', 'moment', 'tram', 'pass', 'tram', 'passeng', 'roof', 'amaz', 'well', 'frighten', 'see', 'plane', 'fli', 'low', 'field', 'n', 'pass', 'head', 'fli', 'around', 'countri', 'side', 'decid', 'head', 'back', 'autodrom', 'hesistantli', 'autodrom', 'surround', 'tree', 'form', 'kind', 'border', 'pilot', 'start', 'fli', 'direct', 'se', 'tree', 'go', 'go', 'right', 'came', 'closer', 'tilt', 'plane', 'sideway', 'pass', 'gap', 'tree', 'like', 'profession', 'pilot', 'n', 'land', 'aerodrom', 'strip', 'got', 'plane', 'turn', 'hair', 'legend', 'goe', 'start', 'walk', 'remov', 'kit', 'let', 'know', 'record', 'happen', 'pilot', 'incid', 'ir', 'record', 'stori', 'either']</td> \n",
       "        <td id=\"T_7a48f73c_f990_11eb_b585_acde48001122row16_col6\" class=\"data row16 col6\" >95</td> \n",
       "    </tr>    <tr> \n",
       "        <th id=\"T_7a48f73c_f990_11eb_b585_acde48001122level0_row17\" class=\"row_heading level0 row17\" >6875</th> \n",
       "        <td id=\"T_7a48f73c_f990_11eb_b585_acde48001122row17_col0\" class=\"data row17 col0\" >4092</td> \n",
       "        <td id=\"T_7a48f73c_f990_11eb_b585_acde48001122row17_col1\" class=\"data row17 col1\" >paraphrase.txt</td> \n",
       "        <td id=\"T_7a48f73c_f990_11eb_b585_acde48001122row17_col2\" class=\"data row17 col2\" >4092-paraphrase.txt</td> \n",
       "        <td id=\"T_7a48f73c_f990_11eb_b585_acde48001122row17_col3\" class=\"data row17 col3\" >In reality mere dependenceis of Russia is Bokhara and Khiva, represented as vassal Khanates.There is an approximately frontier line begins the east in which place the Russian and Chinese empires meet.  Russia has no oceanic possessions and she abandoned in the last century, Russia's islands were appandages of the mainland. Such islands are Aland archipelago, Tutters, Dago and Osel etc.. The Aleutian archipelago and Alaska were sold to United states in 1867 and Kurile islands were ceded to Japan in 1874.  Most variety of physical features is obviously expected in a territory  which comprises on the one side of the cotton and silk regions of Turkestan and Trans-caucasia. There is a two narrow belt in the north and south, a striking unformity of physical features prevails.   there is a  view by physical geographer it appears occupying the territories to the north west. that is great plateau-belt of the old continent and the backbone of Asia , which spread decreasing height and width from the table-land of Tibet and Pamir. </td> \n",
       "        <td id=\"T_7a48f73c_f990_11eb_b585_acde48001122row17_col4\" class=\"data row17 col4\" >False</td> \n",
       "        <td id=\"T_7a48f73c_f990_11eb_b585_acde48001122row17_col5\" class=\"data row17 col5\" >['realiti', 'mere', 'dependencei', 'russia', 'bokhara', 'khiva', 'repres', 'vassal', 'khanat', 'n', 'approxim', 'frontier', 'line', 'begin', 'east', 'place', 'russian', 'chines', 'empir', 'meet', 'russia', 'ocean', 'possess', 'abandon', 'last', 'centuri', 'russia', 'island', 'appandag', 'mainland', 'island', 'alrchipelago', 'tutter', 'dago', 'osel', 'etc', 'aleutian', 'archipelago', 'laska', 'sold', 'unit', 'state', 'kuril', 'island', 'cede', 'japan', 'varieti', 'physic', 'featur', 'obvious', 'expect', 'territori', 'compris', 'one', 'cotton', 'silk', 'region', 'turkestan', 'tran', 'caucasia', 'two', 'narrow', 'belt', 'north', 'south', 'strike', 'unform', 'physic', 'featur', 'prevail', 'view', 'physic', 'geograph', 'appear', 'occupi', 'territori', 'north', 'west', 'great', 'plateau', 'belt', 'old', 'contin', 'backbon', 'sia', 'spread', 'decreas', 'height', 'width', 'tabl', 'land', 'tibet', 'pamir']</td> \n",
       "        <td id=\"T_7a48f73c_f990_11eb_b585_acde48001122row17_col6\" class=\"data row17 col6\" >93</td> \n",
       "    </tr>    <tr> \n",
       "        <th id=\"T_7a48f73c_f990_11eb_b585_acde48001122level0_row18\" class=\"row_heading level0 row18\" >9241</th> \n",
       "        <td id=\"T_7a48f73c_f990_11eb_b585_acde48001122row18_col0\" class=\"data row18 col0\" >5157</td> \n",
       "        <td id=\"T_7a48f73c_f990_11eb_b585_acde48001122row18_col1\" class=\"data row18 col1\" >paraphrase.txt</td> \n",
       "        <td id=\"T_7a48f73c_f990_11eb_b585_acde48001122row18_col2\" class=\"data row18 col2\" >5157-paraphrase.txt</td> \n",
       "        <td id=\"T_7a48f73c_f990_11eb_b585_acde48001122row18_col3\" class=\"data row18 col3\" >This is, however, rather an exception; lemonade, azucarillas and water, or tea served in a separate room about twelve o'clock, is more usual. The azucarilla is a confection not unlike \"Edinburgh rock,\" but more porous and of the nature of a meringue.      I have a very perfect recollection of my first tertulia in Madrid, when I was a very young girl. We had been asked to go quite early, as we were the strangers of the evening.       shaking hands with their friends or kissing them on both cheeks, and giving a somewhat undignified little nod to those whom they did not know. The first time every one rose I thought we were going       They reminded one irresistibly of the \"two crumbly old women\" in Kavanagh \"who talked about moths, and cheap furniture, and the best cure for rheumatism.\"     I have described this tertulia at length because it was a typical one of many. The cotillon was a great favourite, and generally closed the evening.     This is especially the case with the artillery officers, who are great favourites in society, and belong exclusively to the upper ranks. </td> \n",
       "        <td id=\"T_7a48f73c_f990_11eb_b585_acde48001122row18_col4\" class=\"data row18 col4\" >False</td> \n",
       "        <td id=\"T_7a48f73c_f990_11eb_b585_acde48001122row18_col5\" class=\"data row18 col5\" >['howev', 'rather', 'except', 'lemonad', 'azucarillnd', 'water', 'tea', 'serv', 'separ', 'room', 'twelv', 'clock', 'usual', 'azucarilla', 'confect', 'unlik', 'edinburgh', 'rock', 'porou', 'natur', 'meringu', 'perfect', 'recollect', 'first', 'tertulia', 'madrid', 'w', 'young', 'girl', 'ask', 'go', 'quit', 'earli', 'stranger', 'even', 'shake', 'hand', 'ir', 'friend', 'kiss', 'cheek', 'give', 'somewhat', 'undignifi', 'littl', 'nod', 'know', 'first', 'time', 'everi', 'one', 'rose', 'thought', 'go', 'remind', 'one', 'irresist', 'two', 'crumbl', 'old', 'women', 'kavanagh', 'talk', 'moth', 'cheap', 'furnitur', 'best', 'cure', 'rheumat', 'describ', 'tertulia', 'length', 'typic', 'mani', 'cotillon', 'w', 'great', 'favourit', 'gener', 'close', 'even', 'especi', 'case', 'artilleri', 'offic', 'great', 'favourit', 'societi', 'belong', 'exclus', 'upper', 'rank']</td> \n",
       "        <td id=\"T_7a48f73c_f990_11eb_b585_acde48001122row18_col6\" class=\"data row18 col6\" >92</td> \n",
       "    </tr>    <tr> \n",
       "        <th id=\"T_7a48f73c_f990_11eb_b585_acde48001122level0_row19\" class=\"row_heading level0 row19\" >9255</th> \n",
       "        <td id=\"T_7a48f73c_f990_11eb_b585_acde48001122row19_col0\" class=\"data row19 col0\" >5163</td> \n",
       "        <td id=\"T_7a48f73c_f990_11eb_b585_acde48001122row19_col1\" class=\"data row19 col1\" >paraphrase.txt</td> \n",
       "        <td id=\"T_7a48f73c_f990_11eb_b585_acde48001122row19_col2\" class=\"data row19 col2\" >5163-paraphrase.txt</td> \n",
       "        <td id=\"T_7a48f73c_f990_11eb_b585_acde48001122row19_col3\" class=\"data row19 col3\" >The play, which seemed long enough to me, might have lasted longer, seeing that no one there had pity on me, had I not, in my desperation, espied a door at the farther end of the room, and concluded, seeing no other, that it was the door of the king's bedchamber.   I have come to see the king,' I answered, turning on them fiercely, for I was by this time in no mood for browbeating.   But having the king's appointment safe in my pouch, I thought I had good reason to disbelieve them; and taking advantage of their surprise--for they had not expected so bold a step on my part--I was at the door before they could prevent me   I was beginning to explain, with some diffidence the stillness of the room sobering me--that I wished to see the king, when he who had advanced took me up sharply with, 'The king? the king? He is not here, man    So cold a reception, following such treatment as I had suffered outside, would have sufficed to have dashed my spirits utterly had I not felt the king's letter in my pocket. Being pretty confident, however, that a single glance at this would alter M. du Mornay's bearing for the better, I hastened, looking on it as a kind of talisman </td> \n",
       "        <td id=\"T_7a48f73c_f990_11eb_b585_acde48001122row19_col4\" class=\"data row19 col4\" >False</td> \n",
       "        <td id=\"T_7a48f73c_f990_11eb_b585_acde48001122row19_col5\" class=\"data row19 col5\" >['play', 'seem', 'long', 'enough', 'might', 'last', 'longer', 'see', 'one', 'piti', 'desper', 'espi', 'door', 'farther', 'end', 'room', 'conclud', 'see', 'door', 'king', 'bedchamb', 'come', 'see', 'king', 'answer', 'turn', 'fierc', 'time', 'mood', 'browbeat', 'king', 'appoint', 'safe', 'pouch', 'thought', 'good', 'reason', 'disbeliev', 'take', 'advantag', 'ir', 'surpris', 'expect', 'bold', 'step', 'part', 'wt', 'door', 'could', 'prevent', 'begin', 'explain', 'diffid', 'still', 'room', 'sober', 'wish', 'see', 'king', 'advanc', 'took', 'sharpli', 'king', 'king', 'man', 'cold', 'recept', 'follow', 'treatment', 'suffer', 'outsid', 'would', 'suffic', 'dash', 'spirit', 'utterli', 'felt', 'king', 'letter', 'pocket', 'pretti', 'confid', 'howev', 'singl', 'glanc', 'would', 'alter', 'du', 'mornay', 'bear', 'better', 'hasten', 'look', 'kind', 'talisman']</td> \n",
       "        <td id=\"T_7a48f73c_f990_11eb_b585_acde48001122row19_col6\" class=\"data row19 col6\" >95</td> \n",
       "    </tr>    <tr> \n",
       "        <th id=\"T_7a48f73c_f990_11eb_b585_acde48001122level0_row20\" class=\"row_heading level0 row20\" >9645</th> \n",
       "        <td id=\"T_7a48f73c_f990_11eb_b585_acde48001122row20_col0\" class=\"data row20 col0\" >5339</td> \n",
       "        <td id=\"T_7a48f73c_f990_11eb_b585_acde48001122row20_col1\" class=\"data row20 col1\" >paraphrase.txt</td> \n",
       "        <td id=\"T_7a48f73c_f990_11eb_b585_acde48001122row20_col2\" class=\"data row20 col2\" >5339-paraphrase.txt</td> \n",
       "        <td id=\"T_7a48f73c_f990_11eb_b585_acde48001122row20_col3\" class=\"data row20 col3\" >There is too much romance in it for out sober belief, and for the credit of Pouqueville--who by his statements has misled thousands--we ought to state that he gives it as the production of another pen. However, a marvellous story never loses by travelling; but--  General Miller's share in the triumph of Junin was witnessed by Bolivar, in August, 1824; and at the victory of Ayacucho, which terminated the war in Peru, general Miller was foremost in the thickest of the fight.     We are now drawing near to the close of our outline of the general's brilliant career. At the conclusion of the war in 1825, he was appointed prefect of the department of Potosi, with a population of 300,000 souls. He was going on prosperously in his labours of peace, in improving the condition of the natives, who had for three centuries been writhing under the most infamous oppression, when his health required that he should visit Europe. In October, 1825, he resigned his honourable office, and obtained leave of absence to return to his native country, bringing with him an unsolicited testimonial from Bolivar, of his heroism in the campaign of 1824. General Miller is now in England, and in circles where his merit is known, he is received with the highest respect. </td> \n",
       "        <td id=\"T_7a48f73c_f990_11eb_b585_acde48001122row20_col4\" class=\"data row20 col4\" >False</td> \n",
       "        <td id=\"T_7a48f73c_f990_11eb_b585_acde48001122row20_col5\" class=\"data row20 col5\" >['much', 'romanc', 'sober', 'belief', 'credit', 'pouquevil', 'statement', 'misl', 'thousand', 'ought', 'state', 'give', 'product', 'nother', 'pen', 'howev', 'marvel', 'stori', 'never', 'lose', 'travel', 'gener', 'miller', 'share', 'triumph', 'junin', 'wit', 'bolivar', 'ugust', 'victori', 'yacucho', 'termin', 'war', 'peru', 'gener', 'miller', 'foremost', 'thickest', 'fight', 'draw', 'near', 'close', 'outlin', 'gener', 'brilliant', 'career', 'conclus', 'war', 'wppoint', 'prefect', 'depart', 'potosi', 'popul', 'soul', 'go', 'prosper', 'labour', 'peac', 'improv', 'condit', 'nativ', 'three', 'centuri', 'writh', 'infam', 'oppress', 'health', 'requir', 'visit', 'europ', 'octob', 'resign', 'honour', 'offic', 'obtain', 'leav', 'bsenc', 'return', 'nativ', 'countri', 'bring', 'unsolicit', 'testimoni', 'bolivar', 'heroism', 'campaign', 'gener', 'miller', 'england', 'circl', 'mer', 'known', 'receiv', 'highest', 'respect']</td> \n",
       "        <td id=\"T_7a48f73c_f990_11eb_b585_acde48001122row20_col6\" class=\"data row20 col6\" >95</td> \n",
       "    </tr>    <tr> \n",
       "        <th id=\"T_7a48f73c_f990_11eb_b585_acde48001122level0_row21\" class=\"row_heading level0 row21\" >9677</th> \n",
       "        <td id=\"T_7a48f73c_f990_11eb_b585_acde48001122row21_col0\" class=\"data row21 col0\" >5353</td> \n",
       "        <td id=\"T_7a48f73c_f990_11eb_b585_acde48001122row21_col1\" class=\"data row21 col1\" >paraphrase.txt</td> \n",
       "        <td id=\"T_7a48f73c_f990_11eb_b585_acde48001122row21_col2\" class=\"data row21 col2\" >5353-paraphrase.txt</td> \n",
       "        <td id=\"T_7a48f73c_f990_11eb_b585_acde48001122row21_col3\" class=\"data row21 col3\" >This method has the advantage of equalizing the working of the engine throughout the journey, for when the load is greatest, with the full cage at the bottom and the whole length of rope out, the duty required in the first revolution of the engine is measured by the length of the smallest circumference; while the assistance derived from gravitating action    This plan, though mechanically a very good one, has certain defects, especially in the possibility of danger resulting from the rope slipping sideways, if A novelty in winding arrangements is the  substitution of the electromotor for the steam engine, which has been effected in a few instances. In one of the best-known examples  the grooves in the bed are not perfectly true.        Motion is communicated to the rope by frictional contact with the drum, which is covered through about one-half of the circumference.         each on the same shaft. Motion is obtained from a continuous-current generator driven by an alternating motor with a very heavy fly-wheel, a combination known as the Ilgner transformer, which runs continuously with a constant draught on the generating station </td> \n",
       "        <td id=\"T_7a48f73c_f990_11eb_b585_acde48001122row21_col4\" class=\"data row21 col4\" >False</td> \n",
       "        <td id=\"T_7a48f73c_f990_11eb_b585_acde48001122row21_col5\" class=\"data row21 col5\" >['method', 'h', 'advantag', 'equal', 'work', 'engin', 'throughout', 'journey', 'load', 'greatest', 'full', 'cage', 'bottom', 'whole', 'length', 'rope', 'duti', 'requir', 'first', 'revolut', 'engin', 'measur', 'length', 'smallest', 'circumfer', 'assist', 'deriv', 'gravit', 'action', 'plan', 'though', 'mechan', 'good', 'one', 'certain', 'defect', 'especi', 'possibl', 'danger', 'result', 'rope', 'slip', 'sideway', 'novelti', 'wind', 'arrang', 'substitut', 'electromotor', 'steam', 'engin', 'effect', 'instanc', 'best', 'known', 'exampl', 'groov', 'bed', 'perfectli', 'true', 'motion', 'commun', 'rope', 'friction', 'contact', 'drum', 'cover', 'one', 'half', 'circumfer', 'shaft', 'motion', 'obtain', 'continu', 'current', 'gener', 'driven', 'altern', 'motor', 'heavi', 'fli', 'wheel', 'combin', 'known', 'ilgner', 'transform', 'run', 'continu', 'constant', 'draught', 'gener', 'station']</td> \n",
       "        <td id=\"T_7a48f73c_f990_11eb_b585_acde48001122row21_col6\" class=\"data row21 col6\" >91</td> \n",
       "    </tr>    <tr> \n",
       "        <th id=\"T_7a48f73c_f990_11eb_b585_acde48001122level0_row22\" class=\"row_heading level0 row22\" >9753</th> \n",
       "        <td id=\"T_7a48f73c_f990_11eb_b585_acde48001122row22_col0\" class=\"data row22 col0\" >5388</td> \n",
       "        <td id=\"T_7a48f73c_f990_11eb_b585_acde48001122row22_col1\" class=\"data row22 col1\" >paraphrase.txt</td> \n",
       "        <td id=\"T_7a48f73c_f990_11eb_b585_acde48001122row22_col2\" class=\"data row22 col2\" >5388-paraphrase.txt</td> \n",
       "        <td id=\"T_7a48f73c_f990_11eb_b585_acde48001122row22_col3\" class=\"data row22 col3\" >Soc. If it goes ill with the sheep we blame the shepherd, as a rule, or if a horse shows vice we throw the blame in general upon the rider. But in the case of women, supposing the wife to have received instruction from her husband and yet she delights in wrong-doing, [12] it may be that the wife is justly held to blame; but supposing he has never tried to teach her the first principles of \"fair and noble\" conduct       \"has treated her as a dunce, devoid of this high knowledge.\"     Soc. And is there any one with whom you are less in the habit of conversing than with your wife?      Crit. But let me ask you a question, Socrates: have those happy husbands, you tell us of, who are blessed with good wives educated them themselves?       There is nothing like investigation. I will introduce you to Aspasia, [15] who will explain these matters to you in a far more scientific way than I can. My belief is that a good wife, being as she is the partner in a common estate, must needs be her husband's counterpoise and counterpart for good    there are successful performers in each who will be happy to illustrate any point in which you think you need, etc. </td> \n",
       "        <td id=\"T_7a48f73c_f990_11eb_b585_acde48001122row22_col4\" class=\"data row22 col4\" >False</td> \n",
       "        <td id=\"T_7a48f73c_f990_11eb_b585_acde48001122row22_col5\" class=\"data row22 col5\" >['soc', 'goe', 'ill', 'sheep', 'blame', 'shepherd', 'rule', 'hors', 'show', 'vice', 'throw', 'blame', 'gener', 'rider', 'case', 'women', 'suppos', 'wife', 'receiv', 'instruct', 'husbnd', 'yet', 'delight', 'wrong', 'wife', 'justli', 'held', 'blame', 'suppos', 'never', 'tri', 'teach', 'first', 'principl', 'fair', 'nobl', 'conduct', 'treat', 'dunc', 'devoid', 'high', 'knowledg', 'soc', 'one', 'less', 'habit', 'convers', 'wife', 'crit', 'let', 'ask', 'question', 'socrat', 'happi', 'husband', 'tell', 'us', 'bless', 'good', 'wive', 'educ', 'thing', 'like', 'investig', 'introduc', 'aspasia', 'explas', 'matter', 'far', 'scientif', 'way', 'belief', 'good', 'wife', 'partner', 'common', 'estat', 'must', 'need', 'husband', 'counterpois', 'counterpart', 'good', 'success', 'perform', 'happi', 'illustr', 'point', 'think', 'need', 'etc']</td> \n",
       "        <td id=\"T_7a48f73c_f990_11eb_b585_acde48001122row22_col6\" class=\"data row22 col6\" >91</td> \n",
       "    </tr>    <tr> \n",
       "        <th id=\"T_7a48f73c_f990_11eb_b585_acde48001122level0_row23\" class=\"row_heading level0 row23\" >9991</th> \n",
       "        <td id=\"T_7a48f73c_f990_11eb_b585_acde48001122row23_col0\" class=\"data row23 col0\" >5495</td> \n",
       "        <td id=\"T_7a48f73c_f990_11eb_b585_acde48001122row23_col1\" class=\"data row23 col1\" >paraphrase.txt</td> \n",
       "        <td id=\"T_7a48f73c_f990_11eb_b585_acde48001122row23_col2\" class=\"data row23 col2\" >5495-paraphrase.txt</td> \n",
       "        <td id=\"T_7a48f73c_f990_11eb_b585_acde48001122row23_col3\" class=\"data row23 col3\" >Three indictments were preferred against him: the first for forging a bill of exchange for 20l., drawn by Alexander Augustus Hope on John Crump.       He was not \"hurried away to Carlisle,\" but deliberately taken to London on December 12; examined at Bow Street, remanded three times, and finally committed; and sent to Carlisle, where he was tried on August 15, 1803.     The Cumberland jury did not \"declare their unwillingness to hang him for forging a frank,\" that not being a capital offence. I infer, also, that it was one for which he was not tried     Mary's misfortunes induced the sympathising public to convert her into a minor heroine. She seems to have been a common-place person, with small claims to the title of \"The Beauty of Buttermere.     Sir,--The man whom I had the misfortune to marry, and who has ruined me and my aged and unhappy parents, always told me that he was the Hon. Colonel Hope, the next brother to the Earl of Hopetoun.     I do not blame Mr. De Quincey, having no doubt that he believed what he was told; but I have put together these facts and discrepancies </td> \n",
       "        <td id=\"T_7a48f73c_f990_11eb_b585_acde48001122row23_col4\" class=\"data row23 col4\" >False</td> \n",
       "        <td id=\"T_7a48f73c_f990_11eb_b585_acde48001122row23_col5\" class=\"data row23 col5\" >['three', 'indict', 'prefer', 'first', 'forg', 'bill', 'exchang', 'l', 'drawn', 'alexand', 'augustu', 'hope', 'john', 'crump', 'hurri', 'away', 'carlisl', 'deliber', 'taken', 'london', 'decemb', 'examin', 'bow', 'street', 'remand', 'three', 'time', 'final', 'commit', 'sent', 'carlisl', 'tri', 'august', 'cumberland', 'juri', 'declar', 'unwilling', 'hang', 'forg', 'frank', 'capit', 'offenc', 'infer', 'also', 'one', 'tri', 'mari', 'misfortun', 'induc', 'sympathis', 'public', 'convert', 'minor', 'heroin', 'seem', 'common', 'place', 'person', 'small', 'claim', 'titl', 'beauti', 'buttermer', 'sir', 'man', 'misfortun', 'marri', 'ruin', 'age', 'unhappi', 'parent', 'alway', 'told', 'hon', 'colonel', 'hope', 'next', 'brother', 'earl', 'hopetoun', 'blame', 'mr', 'de', 'quincey', 'doubt', 'believ', 'told', 'put', 'togeth', 'fact', 'discrep']</td> \n",
       "        <td id=\"T_7a48f73c_f990_11eb_b585_acde48001122row23_col6\" class=\"data row23 col6\" >91</td> \n",
       "    </tr>    <tr> \n",
       "        <th id=\"T_7a48f73c_f990_11eb_b585_acde48001122level0_row24\" class=\"row_heading level0 row24\" >10407</th> \n",
       "        <td id=\"T_7a48f73c_f990_11eb_b585_acde48001122row24_col0\" class=\"data row24 col0\" >5682</td> \n",
       "        <td id=\"T_7a48f73c_f990_11eb_b585_acde48001122row24_col1\" class=\"data row24 col1\" >paraphrase.txt</td> \n",
       "        <td id=\"T_7a48f73c_f990_11eb_b585_acde48001122row24_col2\" class=\"data row24 col2\" >5682-paraphrase.txt</td> \n",
       "        <td id=\"T_7a48f73c_f990_11eb_b585_acde48001122row24_col3\" class=\"data row24 col3\" >we could distinctly here the cracking of boughs hurled to the ground in their furious course, and the crashing of bamboo, which with them is a favourite food. One might have said that an immense legion of demons had invaded the forest, because in its intense     Every creature, every reed, every leaf had a voice of its own; a howl, a rustle, a sigh that filled the night air with diabolical sounds. It was a fearful pandemonium; a mighty strife twixt victim and victor     But the great voice of the forest did not cease; it still spoke on in the roars and the bellows of the strong and in the yells and wails of the weak. It rose up against us, as though pronouncing a malediction upon the intruders         A few hurried mouthfuls and we were on the tramp again. Our sleepless night, and the strong emotions that had kept us awake, made us feel tired and listless, but the bare idea of being exposed to the same torment and fear another time,     the everlasting twilight of the wild forest dispersed by the full light of day </td> \n",
       "        <td id=\"T_7a48f73c_f990_11eb_b585_acde48001122row24_col4\" class=\"data row24 col4\" >False</td> \n",
       "        <td id=\"T_7a48f73c_f990_11eb_b585_acde48001122row24_col5\" class=\"data row24 col5\" >['could', 'distinctli', 'crack', 'bough', 'hurl', 'ground', 'ir', 'furiou', 'cours', 'crash', 'bamboo', 'favourit', 'food', 'one', 'might', 'said', 'immens', 'legion', 'demon', 'invad', 'forest', 'intens', 'everi', 'creatur', 'everi', 'reed', 'everi', 'leaf', 'voic', 'howl', 'rustl', 'sigh', 'fill', 'night', 'air', 'diabol', 'sound', 'fear', 'pandemonium', 'mighti', 'strife', 'twixt', 'victim', 'victor', 'great', 'voic', 'forest', 'ceas', 'still', 'spoke', 'roar', 'bellow', 'strong', 'yell', 'wail', 'weak', 'rose', 'us', 'though', 'pronounc', 'maledict', 'intrud', 'hurri', 'mouth', 'tramp', 'sleepless', 'night', 'strong', 'emot', 'kept', 'us', 'awak', 'made', 'us', 'feel', 'tire', 'listless', 'bare', 'idea', 'expos', 'torment', 'fear', 'anoth', 'time', 'everlast', 'twilight', 'wild', 'forest', 'dispers', 'full', 'light', 'day']</td> \n",
       "        <td id=\"T_7a48f73c_f990_11eb_b585_acde48001122row24_col6\" class=\"data row24 col6\" >92</td> \n",
       "    </tr>    <tr> \n",
       "        <th id=\"T_7a48f73c_f990_11eb_b585_acde48001122level0_row25\" class=\"row_heading level0 row25\" >11161</th> \n",
       "        <td id=\"T_7a48f73c_f990_11eb_b585_acde48001122row25_col0\" class=\"data row25 col0\" >6020</td> \n",
       "        <td id=\"T_7a48f73c_f990_11eb_b585_acde48001122row25_col1\" class=\"data row25 col1\" >paraphrase.txt</td> \n",
       "        <td id=\"T_7a48f73c_f990_11eb_b585_acde48001122row25_col2\" class=\"data row25 col2\" >6020-paraphrase.txt</td> \n",
       "        <td id=\"T_7a48f73c_f990_11eb_b585_acde48001122row25_col3\" class=\"data row25 col3\" >A measure which contains within itself a provision, that at the end of three years agricultural industry within this country shall be left without any protection at all, and that, in the interim, the mode of protection shall not only be altered but reduced, is necessary a prodigious change.         So far it is distinctly adverse to the agricultural interest, for we cannot exactly understand how a measure can be at once favourable and unfavourable to a particular party--how the producer of corn can be benefited by the depreciation of the article which he raises      Very likely this is what is meant. If so, it partakes of the nature of a principle, and must hold good in other instances. Apply it to the manufacturer; tell him that, by reducing the cost of his cottons one-half, he will be amply compensated       For, according to our ideas of words, a sacrifice means a loss, which, except in the case of deliberate destruction, implies a corresponding gain to a third party. Let us, then, try to discover who is to be the gainer. Is it the state--that is, the British public revenue      This measure, if it has meaning at all, is framed with the view of benefiting the manufacturing interest, of course at the expense of the other </td> \n",
       "        <td id=\"T_7a48f73c_f990_11eb_b585_acde48001122row25_col4\" class=\"data row25 col4\" >False</td> \n",
       "        <td id=\"T_7a48f73c_f990_11eb_b585_acde48001122row25_col5\" class=\"data row25 col5\" >['measur', 'contain', 'within', 'provis', 'three', 'year', 'agricultur', 'industri', 'within', 'countri', 'shall', 'left', 'without', 'protect', 'interim', 'mode', 'protect', 'shall', 'alter', 'reduc', 'necessari', 'prodigi', 'chang', 'far', 'distinctli', 'advers', 'agricultur', 'interest', 'cannot', 'exactli', 'understand', 'measur', 'favour', 'unfavour', 'particular', 'parti', 'produc', 'corn', 'benefit', 'depreci', 'articl', 'rais', 'like', 'meant', 'partak', 'natur', 'principl', 'must', 'hold', 'good', 'instanc', 'appli', 'manufactur', 'tell', 'reduc', 'cost', 'cotton', 'one', 'half', 'ampli', 'compens', 'accord', 'idea', 'word', 'sacrific', 'mean', 'loss', 'except', 'case', 'deliber', 'destruct', 'impli', 'correspond', 'gain', 'third', 'parti', 'let', 'us', 'tri', 'discov', 'gainer', 'state', 'british', 'public', 'revenu', 'measur', 'mean', 'frame', 'view', 'benefit', 'manufactur', 'interest', 'cours', 'expens']</td> \n",
       "        <td id=\"T_7a48f73c_f990_11eb_b585_acde48001122row25_col6\" class=\"data row25 col6\" >94</td> \n",
       "    </tr>    <tr> \n",
       "        <th id=\"T_7a48f73c_f990_11eb_b585_acde48001122level0_row26\" class=\"row_heading level0 row26\" >11911</th> \n",
       "        <td id=\"T_7a48f73c_f990_11eb_b585_acde48001122row26_col0\" class=\"data row26 col0\" >6359</td> \n",
       "        <td id=\"T_7a48f73c_f990_11eb_b585_acde48001122row26_col1\" class=\"data row26 col1\" >paraphrase.txt</td> \n",
       "        <td id=\"T_7a48f73c_f990_11eb_b585_acde48001122row26_col2\" class=\"data row26 col2\" >6359-paraphrase.txt</td> \n",
       "        <td id=\"T_7a48f73c_f990_11eb_b585_acde48001122row26_col3\" class=\"data row26 col3\" >News must be singular, says MR. HICKSON; but means \"is beyond all dispute plural,\" for Shakspeare talks of \"a mean:\" with news, however, there is the slight difficulty of the absence of the noun new to start from     if \"from convenience or necessity\" words are and may be imported from foreign languages bodily into our own, why might not our forefathers, feeling the convenience or necessity of having words corresponding to bona       Noise.--I agree with MR. HICKSON that the old derivations of noise are unsatisfactory, but I continue to think his monstrous. I fear we cannot decide in your columns     French word noise has probably the same root, though its specific meaning is different from that of our word noise. Without venturing to assert it dogmatically, I should expect the now usual meaning of noise to be its primary meaning, viz. \"a loud sound\" or \"disturbance;\" and this accords with my notion of its alliances          \"There, at Blencatharn's rugged feet, Sir Lancelot gave a safe retreat To noble Clifford; from annoy Concealed the persecuted boy.\" </td> \n",
       "        <td id=\"T_7a48f73c_f990_11eb_b585_acde48001122row26_col4\" class=\"data row26 col4\" >False</td> \n",
       "        <td id=\"T_7a48f73c_f990_11eb_b585_acde48001122row26_col5\" class=\"data row26 col5\" >['news', 'must', 'singular', 'say', 'mr', 'hickson', 'mean', 'beyond', 'disput', 'plural', 'shakspear', 'talk', 'mean', 'news', 'howev', 'slight', 'difficulti', 'absenc', 'noun', 'new', 'start', 'conveni', 'necess', 'word', 'may', 'import', 'foreign', 'languag', 'bodili', 'might', 'forefath', 'feel', 'conveni', 'necess', 'word', 'correspond', 'bona', 'nois', 'agre', 'mr', 'hickson', 'old', 'deriv', 'nois', 'unsatisfactori', 'continu', 'think', 'monstrou', 'fear', 'cannot', 'decid', 'column', 'french', 'word', 'nois', 'probabl', 'root', 'though', 'specif', 'mean', 'differ', 'word', 'nois', 'without', 'ventur', 'assert', 'dogmat', 'expect', 'usual', 'mean', 'nois', 'primari', 'mean', 'viz', 'loud', 'sound', 'disturb', 'thccord', 'notion', 'allianc', 'blencatharn', 'rug', 'feet', 'sir', 'lancelot', 'gave', 'safe', 'retreat', 'nobl', 'clifford', 'annoy', 'conceal', 'persecut', 'boy']</td> \n",
       "        <td id=\"T_7a48f73c_f990_11eb_b585_acde48001122row26_col6\" class=\"data row26 col6\" >94</td> \n",
       "    </tr>    <tr> \n",
       "        <th id=\"T_7a48f73c_f990_11eb_b585_acde48001122level0_row27\" class=\"row_heading level0 row27\" >12083</th> \n",
       "        <td id=\"T_7a48f73c_f990_11eb_b585_acde48001122row27_col0\" class=\"data row27 col0\" >6436</td> \n",
       "        <td id=\"T_7a48f73c_f990_11eb_b585_acde48001122row27_col1\" class=\"data row27 col1\" >paraphrase.txt</td> \n",
       "        <td id=\"T_7a48f73c_f990_11eb_b585_acde48001122row27_col2\" class=\"data row27 col2\" >6436-paraphrase.txt</td> \n",
       "        <td id=\"T_7a48f73c_f990_11eb_b585_acde48001122row27_col3\" class=\"data row27 col3\" >But, though the irregular, contradictory, and unaccountable effects observed in these experiments do not as yet furnish any satisfactory theory, and though much is to be attributed to the circumambient air, yet the metallic substances        Cavallo then proceeds to describe the experiments on contact electrification which were described in the previous paper referred to at the beginning of the article.      'The contact of different conductors, particularly the metallic, including pyrites and other minerals as well as charcoal, which I call dry conductors, or of the first class with moist conductors, or conductors of the second class, agitates or disturbs the electric fluid, or gives it a certain impulse.        In a letter written to Gren in 1797 and published as a postscript to his letter of August, 1796, Volta says            Volta apparently thought that the current was not only set up by the contact of the two metals of a pair, but that it was kept up by the mutual action of the metals on each other.       The following quotations from Fabroni have been translated by the present writer from the German of Ostwald's \"Elektrochemie,\" pp. 103, ff. </td> \n",
       "        <td id=\"T_7a48f73c_f990_11eb_b585_acde48001122row27_col4\" class=\"data row27 col4\" >False</td> \n",
       "        <td id=\"T_7a48f73c_f990_11eb_b585_acde48001122row27_col5\" class=\"data row27 col5\" >['though', 'irregular', 'contradictori', 'unaccount', 'effect', 'observ', 'se', 'experi', 'yet', 'furnish', 'satisfactori', 'theori', 'though', 'much', 'ttribut', 'circumambi', 'air', 'yet', 'metal', 'substanc', 'cavallo', 'proce', 'describ', 'experi', 'contact', 'electrif', 'describ', 'previou', 'paper', 'refer', 'begin', 'articl', 'contact', 'differ', 'conductor', 'particularli', 'metal', 'includ', 'pyrit', 'miner', 'charcoal', 'call', 'dri', 'conductor', 'first', 'class', 'moist', 'conductor', 'conductor', 'second', 'class', 'agit', 'disturb', 'electr', 'fluid', 'give', 'certain', 'impuls', 'letter', 'written', 'gren', 'publish', 'postscript', 'letter', 'ugust', 'volta', 'say', 'volta', 'appar', 'thought', 'current', 'set', 'contact', 'two', 'metal', 'pair', 'kept', 'mutual', 'action', 'metal', 'follow', 'quotat', 'fabroni', 'translat', 'present', 'writer', 'german', 'ostwald', 'elektrochemi', 'pp', 'ff']</td> \n",
       "        <td id=\"T_7a48f73c_f990_11eb_b585_acde48001122row27_col6\" class=\"data row27 col6\" >91</td> \n",
       "    </tr>    <tr> \n",
       "        <th id=\"T_7a48f73c_f990_11eb_b585_acde48001122level0_row28\" class=\"row_heading level0 row28\" >12523</th> \n",
       "        <td id=\"T_7a48f73c_f990_11eb_b585_acde48001122row28_col0\" class=\"data row28 col0\" >6634</td> \n",
       "        <td id=\"T_7a48f73c_f990_11eb_b585_acde48001122row28_col1\" class=\"data row28 col1\" >paraphrase.txt</td> \n",
       "        <td id=\"T_7a48f73c_f990_11eb_b585_acde48001122row28_col2\" class=\"data row28 col2\" >6634-paraphrase.txt</td> \n",
       "        <td id=\"T_7a48f73c_f990_11eb_b585_acde48001122row28_col3\" class=\"data row28 col3\" >sancho goes to mointain in search of long sticks and he cut four long sticks and placed in the saddle,he gradually raised the sticks till it was cleared of the animals back.            He led the tired ass in the moonlight,undisturbed,snored on.In the daylight when he stretched up sticks fell down with a terrible bump fell sancho,squire yelled up and down with tears in search of ass but could not find  for many months afterwards.By reading the history of don Quixote adventure in the mountains we can know how he got back the ass.At last curate and the barber of la manche took him in the cart which the knight believed to be an enchanted chariot.   V HOW DON QUIXOTE SAW DULICINEA         Don Quixote set off on his search  with sancho for third adventure away from their village.His duity as a knight-errant to visit the beautiful Dulcinea at toboso it was midnight and whole town was still and asleep,he said to sancho to lead me to her palace. </td> \n",
       "        <td id=\"T_7a48f73c_f990_11eb_b585_acde48001122row28_col4\" class=\"data row28 col4\" >True</td> \n",
       "        <td id=\"T_7a48f73c_f990_11eb_b585_acde48001122row28_col5\" class=\"data row28 col5\" >['sancho', 'goe', 'mointain', 'search', 'long', 'stick', 'cut', 'four', 'long', 'stick', 'place', 'saddl', 'gradual', 'rais', 'stick', 'till', 'clear', 'anim', 'back', 'led', 'tire', 'ass', 'moonlight', 'undisturb', 'snore', 'daylight', 'stretch', 'stick', 'fell', 'terribl', 'bump', 'fell', 'sancho', 'squir', 'yell', 'tear', 'search', 'ss', 'could', 'find', 'mani', 'month', 'afterward', 'read', 'histori', 'quixot', 'adventur', 'mountain', 'know', 'got', 'back', 'ass', 'last', 'curat', 'barber', 'la', 'manch', 'took', 'cart', 'knight', 'believ', 'n', 'enchant', 'chariot', 'v', 'quixot', 'saw', 'dulicinea', 'quixot', 'set', 'search', 'sancho', 'third', 'adventur', 'away', 'ir', 'villag', 'duiti', 'knight', 'errant', 'visit', 'beauti', 'dulcinea', 'toboso', 'midnight', 'whole', 'town', 'still', 'sleep', 'said', 'sancho', 'lead', 'palac']</td> \n",
       "        <td id=\"T_7a48f73c_f990_11eb_b585_acde48001122row28_col6\" class=\"data row28 col6\" >93</td> \n",
       "    </tr>    <tr> \n",
       "        <th id=\"T_7a48f73c_f990_11eb_b585_acde48001122level0_row29\" class=\"row_heading level0 row29\" >12637</th> \n",
       "        <td id=\"T_7a48f73c_f990_11eb_b585_acde48001122row29_col0\" class=\"data row29 col0\" >6686</td> \n",
       "        <td id=\"T_7a48f73c_f990_11eb_b585_acde48001122row29_col1\" class=\"data row29 col1\" >paraphrase.txt</td> \n",
       "        <td id=\"T_7a48f73c_f990_11eb_b585_acde48001122row29_col2\" class=\"data row29 col2\" >6686-paraphrase.txt</td> \n",
       "        <td id=\"T_7a48f73c_f990_11eb_b585_acde48001122row29_col3\" class=\"data row29 col3\" >The Allies fired 2,000 shells without silencing one shore battery  inspired the Turks for futher assurance for calmness.  ELIMINATION OF MINES  The correspondent of The London Times,wrote in his issue of March 20 as follows:  On Thursday, the further attack upon the inner forts at the Dardanelles, which was resumed by the allied squadrons made in loss of ships and gallant lives.  The operations which described the attributes of loss of the ships to floating mines,also released to drift down with the current in such large numbers of evading these machines was not available.  Precaution steps has to be taken like movement of the battleships to avoid this danger, this area having been swept of anchored mines.  The ships maintained their superiority over the forts and succeeded in silencing them after a few hours bombardment.The battleships sinked in the later afternoon when naval force was making advance to cover the mine sweeping operations. In this work nothing was eventual sucees nor the defence proved formidable than expected. </td> \n",
       "        <td id=\"T_7a48f73c_f990_11eb_b585_acde48001122row29_col4\" class=\"data row29 col4\" >True</td> \n",
       "        <td id=\"T_7a48f73c_f990_11eb_b585_acde48001122row29_col5\" class=\"data row29 col5\" >['alli', 'fire', 'shell', 'without', 'silenc', 'one', 'shore', 'batteri', 'inspir', 'turk', 'futher', 'assur', 'calm', 'elimin', 'mine', 'correspond', 'london', 'time', 'wrote', 'issu', 'march', 'follow', 'thursday', 'attack', 'inner', 'fort', 'dardanel', 'resum', 'alli', 'squadron', 'made', 'loss', 'ship', 'gallant', 'live', 'oper', 'describ', 'attribut', 'loss', 'ship', 'float', 'mine', 'also', 'releas', 'drift', 'current', 'larg', 'number', 'evad', 'machin', 'avail', 'precaut', 'step', 'taken', 'like', 'movement', 'battleship', 'avoid', 'danger', 'threa', 'swept', 'nchore', 'mine', 'ship', 'maintain', 'superior', 'fort', 'succeed', 'silenc', 'hour', 'bombard', 'battleship', 'sink', 'later', 'afternoon', 'naval', 'forc', 'make', 'advanc', 'cover', 'mine', 'sweep', 'oper', 'work', 'noth', 'eventu', 'suce', 'defenc', 'prove', 'formid', 'expect']</td> \n",
       "        <td id=\"T_7a48f73c_f990_11eb_b585_acde48001122row29_col6\" class=\"data row29 col6\" >91</td> \n",
       "    </tr>    <tr> \n",
       "        <th id=\"T_7a48f73c_f990_11eb_b585_acde48001122level0_row30\" class=\"row_heading level0 row30\" >13146</th> \n",
       "        <td id=\"T_7a48f73c_f990_11eb_b585_acde48001122row30_col0\" class=\"data row30 col0\" >6915</td> \n",
       "        <td id=\"T_7a48f73c_f990_11eb_b585_acde48001122row30_col1\" class=\"data row30 col1\" >original.txt</td> \n",
       "        <td id=\"T_7a48f73c_f990_11eb_b585_acde48001122row30_col2\" class=\"data row30 col2\" >6915-original.txt</td> \n",
       "        <td id=\"T_7a48f73c_f990_11eb_b585_acde48001122row30_col3\" class=\"data row30 col3\" >Man darf ferner behauften, dass wathrend der ersten vier Jahrhunderte der Kirche kein Lehrer und Keine religiose Genossenschaft, welche sich mit einigem Schein des Rechts als Erben des ursprfinglichen Christenthums betrachten konnten, eine andere Auschauung yon dem Lebensanfang Jesu yon Nazareth gehabt haben, als diese .... Dass die Annahme eines ursprunglichen Christenthums ohne den Glauben an den yon der Jungfrau geborenen Gottessohn Jesus eine Fiktion ist.\"--Zahn, Das Apostolische Symbolum, pp. 55-68. --    Opponents of the Virgin-Birth occur, indeed, in the person of Cerinthus, the contemporary of St. John, and later on among the Ebionites, mentioned by Justin Martyr.* But they reject the Virgin-Birth, because they reject the principle of the Incarnation. </td> \n",
       "        <td id=\"T_7a48f73c_f990_11eb_b585_acde48001122row30_col4\" class=\"data row30 col4\" >True</td> \n",
       "        <td id=\"T_7a48f73c_f990_11eb_b585_acde48001122row30_col5\" class=\"data row30 col5\" >['man', 'darf', 'ferner', 'behauften', 'dass', 'wathrend', 'der', 'ersten', 'vier', 'jahrhundert', 'der', 'kirch', 'kein', 'lehrer', 'und', 'kein', 'religios', 'genossenschaft', 'welch', 'sich', 'mit', 'einigem', 'schein', 'de', 'recht', 'al', 'erben', 'de', 'ursprfinglichen', 'christenthum', 'betrachten', 'konnten', 'ein', 'ander', 'auschauung', 'yon', 'dem', 'lebensanfang', 'jesu', 'yon', 'nazareth', 'gehabt', 'haben', 'al', 'dies', 'dass', 'die', 'annahm', 'ein', 'ursprunglichen', 'christenthum', 'ohn', 'den', 'glauben', 'den', 'yon', 'der', 'jungfrau', 'geborenen', 'gottessohn', 'jesu', 'ein', 'fiktion', 'ist', 'zahn', 'dpostolisch', 'symbolum', 'pp', 'oppon', 'virgin', 'birth', 'occur', 'inde', 'person', 'cerinthu', 'contemporari', 'st', 'john', 'later', 'among', 'ebionit', 'mention', 'justin', 'martyr', 'reject', 'virgin', 'birth', 'reject', 'principl', 'incarn']</td> \n",
       "        <td id=\"T_7a48f73c_f990_11eb_b585_acde48001122row30_col6\" class=\"data row30 col6\" >90</td> \n",
       "    </tr>    <tr> \n",
       "        <th id=\"T_7a48f73c_f990_11eb_b585_acde48001122level0_row31\" class=\"row_heading level0 row31\" >14121</th> \n",
       "        <td id=\"T_7a48f73c_f990_11eb_b585_acde48001122row31_col0\" class=\"data row31 col0\" >7353</td> \n",
       "        <td id=\"T_7a48f73c_f990_11eb_b585_acde48001122row31_col1\" class=\"data row31 col1\" >paraphrase.txt</td> \n",
       "        <td id=\"T_7a48f73c_f990_11eb_b585_acde48001122row31_col2\" class=\"data row31 col2\" >7353-paraphrase.txt</td> \n",
       "        <td id=\"T_7a48f73c_f990_11eb_b585_acde48001122row31_col3\" class=\"data row31 col3\" >You have undoubtedly read about the early Christians who were persecuted and killed by rulers of Persia and other places.  Why are these really more worthy to be named as martyrs than others that have been killed for trying to save the world?  The Christian martyrs had to suffer all sorts of tortures.  The more who were killed, the more were people ready to join the cause so that from one killed there sprang up a hundred followers.  Once there were so many put to death that someone close to the king told him that the number of faithful was growing rather than diminishing.  The king didn't understand how that could be possible, but the courtier told him how double the number of martyrs were joining all the time.  There was even said to be a miraculous appearance of a man from heaven who would come to strengthen those just before death. That's when the very king himself converted to christianity.  Many had arms and legs cut off or were burned for years to come.  No other faith seems to have had this much torture, especially that which was born with resignation and even with joy.  There's record of one Christian smiling even while being tortured. </td> \n",
       "        <td id=\"T_7a48f73c_f990_11eb_b585_acde48001122row31_col4\" class=\"data row31 col4\" >False</td> \n",
       "        <td id=\"T_7a48f73c_f990_11eb_b585_acde48001122row31_col5\" class=\"data row31 col5\" >['undoubtedli', 'read', 'earli', 'christian', 'persecut', 'kill', 'ruler', 'persia', 'place', 'realli', 'worthi', 'name', 'martyr', 'other', 'kill', 'tri', 'save', 'world', 'christian', 'martyr', 'suffer', 'sort', 'tortur', 'kill', 'peopl', 'readi', 'jo', 'caus', 'one', 'kill', 'sprang', 'hundr', 'follow', 'mani', 'put', 'death', 'someon', 'close', 'king', 'told', 'number', 'faith', 'grow', 'rather', 'diminish', 'king', 'understand', 'could', 'possibl', 'courtier', 'told', 'doubl', 'number', 'martyr', 'join', 'time', 'even', 'said', 'miracul', 'appear', 'man', 'heaven', 'would', 'come', 'strengthen', 'death', 'king', 'convert', 'christian', 'mani', 'arm', 'leg', 'cut', 'burn', 'year', 'come', 'faith', 'seem', 'much', 'tortur', 'especi', 'born', 'resign', 'even', 'joy', 'record', 'one', 'christian', 'smile', 'even', 'tortur']</td> \n",
       "        <td id=\"T_7a48f73c_f990_11eb_b585_acde48001122row31_col6\" class=\"data row31 col6\" >91</td> \n",
       "    </tr>    <tr> \n",
       "        <th id=\"T_7a48f73c_f990_11eb_b585_acde48001122level0_row32\" class=\"row_heading level0 row32\" >14744</th> \n",
       "        <td id=\"T_7a48f73c_f990_11eb_b585_acde48001122row32_col0\" class=\"data row32 col0\" >7634</td> \n",
       "        <td id=\"T_7a48f73c_f990_11eb_b585_acde48001122row32_col1\" class=\"data row32 col1\" >original.txt</td> \n",
       "        <td id=\"T_7a48f73c_f990_11eb_b585_acde48001122row32_col2\" class=\"data row32 col2\" >7634-original.txt</td> \n",
       "        <td id=\"T_7a48f73c_f990_11eb_b585_acde48001122row32_col3\" class=\"data row32 col3\" >Man darf ferner behauften, dass wathrend der ersten vier Jahrhunderte der Kirche kein Lehrer und Keine religiose Genossenschaft, welche sich mit einigem Schein des Rechts als Erben des ursprfinglichen Christenthums betrachten konnten, eine andere Auschauung yon dem Lebensanfang Jesu yon Nazareth gehabt haben, als diese .... Dass die Annahme eines ursprunglichen Christenthums ohne den Glauben an den yon der Jungfrau geborenen Gottessohn Jesus eine Fiktion ist.\"--Zahn, Das Apostolische Symbolum, pp. 55-68. --  Opponents of the Virgin-Birth occur, indeed, in the person of Cerinthus, the contemporary of St. John, and later on among the Ebionites, mentioned by Justin Martyr.* But they reject the Virgin-Birth, because they reject the principle of the Incarnation. </td> \n",
       "        <td id=\"T_7a48f73c_f990_11eb_b585_acde48001122row32_col4\" class=\"data row32 col4\" >True</td> \n",
       "        <td id=\"T_7a48f73c_f990_11eb_b585_acde48001122row32_col5\" class=\"data row32 col5\" >['man', 'darf', 'ferner', 'behauften', 'dass', 'wathrend', 'der', 'ersten', 'vier', 'jahrhundert', 'der', 'kirch', 'kein', 'lehrer', 'und', 'kein', 'religios', 'genossenschaft', 'welch', 'sich', 'mit', 'einigem', 'schein', 'de', 'recht', 'al', 'erben', 'de', 'ursprfinglichen', 'christenthum', 'betrachten', 'konnten', 'ein', 'ander', 'auschauung', 'yon', 'dem', 'lebensanfang', 'jesu', 'yon', 'nazareth', 'gehabt', 'haben', 'al', 'dies', 'dass', 'die', 'annahm', 'ein', 'ursprunglichen', 'christenthum', 'ohn', 'den', 'glauben', 'den', 'yon', 'der', 'jungfrau', 'geborenen', 'gottessohn', 'jesu', 'ein', 'fiktion', 'ist', 'zahn', 'dpostolisch', 'symbolum', 'pp', 'oppon', 'virgin', 'birth', 'occur', 'inde', 'person', 'cerinthu', 'contemporari', 'st', 'john', 'later', 'among', 'ebionit', 'mention', 'justin', 'martyr', 'reject', 'virgin', 'birth', 'reject', 'principl', 'incarn']</td> \n",
       "        <td id=\"T_7a48f73c_f990_11eb_b585_acde48001122row32_col6\" class=\"data row32 col6\" >90</td> \n",
       "    </tr>    <tr> \n",
       "        <th id=\"T_7a48f73c_f990_11eb_b585_acde48001122level0_row33\" class=\"row_heading level0 row33\" >14929</th> \n",
       "        <td id=\"T_7a48f73c_f990_11eb_b585_acde48001122row33_col0\" class=\"data row33 col0\" >7717</td> \n",
       "        <td id=\"T_7a48f73c_f990_11eb_b585_acde48001122row33_col1\" class=\"data row33 col1\" >paraphrase.txt</td> \n",
       "        <td id=\"T_7a48f73c_f990_11eb_b585_acde48001122row33_col2\" class=\"data row33 col2\" >7717-paraphrase.txt</td> \n",
       "        <td id=\"T_7a48f73c_f990_11eb_b585_acde48001122row33_col3\" class=\"data row33 col3\" >The floor of the center of the building was taken up by the imposing room. A door had been carved into the wall of the building facing north, just by Mr. Ballantyne's room. The front end of the space was broken up into three separate room, each only 7 x 12 feet. Field claimed one of the tiny spaces for himself, while Bates and I were stuck in between them. Of the three rooms mentioned, Field's was the only one that had any attempt at decoration. The brown juice of a tobacco plant stained the its floor and walls. In one corner, Field had a cupboard-shaped pigeon-file, alphabetically arranged for the clippings that he made daily. Almost all of those clippings contained some bit of personal gossip pertaining to the local celebrities. Dumbbells, Indian clubs, and other miscellaneous objects littered the floor of Field's room. Above Field's desk hung a sheet of tin, which he used as a call bell or to drown out the noise of the office boy poking the big globe stove. </td> \n",
       "        <td id=\"T_7a48f73c_f990_11eb_b585_acde48001122row33_col4\" class=\"data row33 col4\" >False</td> \n",
       "        <td id=\"T_7a48f73c_f990_11eb_b585_acde48001122row33_col5\" class=\"data row33 col5\" >['floor', 'center', 'build', 'taken', 'impos', 'room', 'door', 'carv', 'wall', 'build', 'face', 'north', 'mr', 'ballantyn', 'room', 'front', 'end', 'space', 'broken', 'three', 'separ', 'room', 'x', 'feet', 'field', 'claim', 'tini', 'space', 'bate', 'stuck', 'three', 'room', 'mention', 'field', 'w', 'one', 'attempt', 'decor', 'brown', 'juic', 'tobacco', 'plant', 'stain', 'floor', 'wall', 'one', 'corner', 'field', 'cupboard', 'shape', 'pigeon', 'file', 'alphabet', 'arrang', 'clip', 'made', 'daili', 'almost', 'clip', 'contain', 'bit', 'person', 'gossip', 'pertain', 'local', 'celebr', 'dumbbel', 'indian', 'club', 'miscellan', 'object', 'litter', 'floor', 'field', 'room', 'field', 'desk', 'hung', 'sheet', 'tin', 'use', 'call', 'bell', 'drown', 'nois', 'offic', 'boy', 'poke', 'big', 'globe', 'stove']</td> \n",
       "        <td id=\"T_7a48f73c_f990_11eb_b585_acde48001122row33_col6\" class=\"data row33 col6\" >91</td> \n",
       "    </tr>    <tr> \n",
       "        <th id=\"T_7a48f73c_f990_11eb_b585_acde48001122level0_row34\" class=\"row_heading level0 row34\" >14941</th> \n",
       "        <td id=\"T_7a48f73c_f990_11eb_b585_acde48001122row34_col0\" class=\"data row34 col0\" >7722</td> \n",
       "        <td id=\"T_7a48f73c_f990_11eb_b585_acde48001122row34_col1\" class=\"data row34 col1\" >paraphrase.txt</td> \n",
       "        <td id=\"T_7a48f73c_f990_11eb_b585_acde48001122row34_col2\" class=\"data row34 col2\" >7722-paraphrase.txt</td> \n",
       "        <td id=\"T_7a48f73c_f990_11eb_b585_acde48001122row34_col3\" class=\"data row34 col3\" >All forty exercises are listed in regards to the skill the student requires and how the exercises relate to one another. Cloth/Illustrated/~100 pages/5 by 7 inches/Fifty cents  NEW EGG FARM/H.H. Stoddard Anything you need to know to make your egg and poultry profitable. With everything from management, feeding, breeding, selection, brooders, incubators, technological advances, and more. Cloth/Illustrated/331 pages/5 by 7 inches/One dollar  POULTRY FEEDING AND FATTENING/G.B. Fiske Poultry-keepers' handbook on various feeding and marketing methods. Highlights the best ways to feed/fatten poultry both domestically and overseas. Goes into the science of feeding/fattening. A variety of poultry is included: waterfowl, capons, broilers, turkeys, chickens, etc. It also goes into feeding differently for different reasons. Specifically, caponizing is covered in great detail. Appropriate for beginners and professionals. Illustrated. </td> \n",
       "        <td id=\"T_7a48f73c_f990_11eb_b585_acde48001122row34_col4\" class=\"data row34 col4\" >True</td> \n",
       "        <td id=\"T_7a48f73c_f990_11eb_b585_acde48001122row34_col5\" class=\"data row34 col5\" >['forti', 'exercis', 'list', 'regard', 'skill', 'student', 'requir', 'exercis', 'relat', 'one', 'anoth', 'cloth', 'illustr', 'page', 'inch', 'fifti', 'cent', 'new', 'egg', 'farm', 'h', 'h', 'stoddard', 'anyth', 'need', 'know', 'make', 'egg', 'poultri', 'profit', 'everyth', 'manag', 'feed', 'breed', 'select', 'brooder', 'incub', 'technolog', 'advanc', 'cloth', 'illustr', 'page', 'inch', 'one', 'dollar', 'poultri', 'feed', 'fatten', 'g', 'b', 'fisk', 'poultri', 'keeper', 'handbook', 'variou', 'feed', 'market', 'method', 'highlight', 'best', 'way', 'feed', 'fatten', 'poultri', 'domest', 'oversea', 'goe', 'scienc', 'feed', 'fatten', 'varieti', 'poultri', 'includ', 'waterfowl', 'capon', 'broiler', 'turkey', 'chicken', 'etc', 'also', 'goe', 'feed', 'differ', 'differ', 'reason', 'specif', 'capon', 'cover', 'great', 'detail', 'appropri', 'beginn', 'profession', 'illustr']</td> \n",
       "        <td id=\"T_7a48f73c_f990_11eb_b585_acde48001122row34_col6\" class=\"data row34 col6\" >94</td> \n",
       "    </tr></tbody> \n",
       "</table> "
      ],
      "text/plain": [
       "<pandas.io.formats.style.Styler at 0x1a58b81978>"
      ]
     },
     "execution_count": 38,
     "metadata": {},
     "output_type": "execute_result"
    }
   ],
   "source": [
    "df[df['length'].between(90, 95)].style.set_properties(subset=['text'], **{'width-min': '100px'})"
   ]
  },
  {
   "cell_type": "markdown",
   "metadata": {},
   "source": [
    "### 1 - doc_length_list_orig"
   ]
  },
  {
   "cell_type": "code",
   "execution_count": 39,
   "metadata": {},
   "outputs": [],
   "source": [
    "doc_length_list_orig.sort()\n",
    "least_to_most_plot_items = []\n",
    "for item in enumerate(doc_length_list_orig):\n",
    "    least_to_most_plot_items.append(item)"
   ]
  },
  {
   "cell_type": "code",
   "execution_count": 40,
   "metadata": {},
   "outputs": [
    {
     "data": {
      "image/png": "[encoded data removed]",
      "text/plain": [
       "<Figure size 432x288 with 1 Axes>"
      ]
     },
     "metadata": {
      "needs_background": "light"
     },
     "output_type": "display_data"
    }
   ],
   "source": [
    "x, y = zip(*least_to_most_plot_items)\n",
    "plt.scatter(x, y)\n",
    "plt.show()"
   ]
  },
  {
   "cell_type": "code",
   "execution_count": 41,
   "metadata": {},
   "outputs": [
    {
     "data": {
      "image/png": "[encoded data removed]",
      "text/plain": [
       "<Figure size 1600x320 with 1 Axes>"
      ]
     },
     "metadata": {
      "needs_background": "light"
     },
     "output_type": "display_data"
    }
   ],
   "source": [
    "# bins = range(0, 10000, 1000)\n",
    "bins = range(0, 5000, 500)\n",
    "# bins = range(0, 1000, 100)\n",
    "figure(figsize=(20, 4), dpi=80)\n",
    "plt.hist(doc_length_list_orig, bins=bins, edgecolor=\"k\")\n",
    "plt.xticks(bins);"
   ]
  },
  {
   "cell_type": "markdown",
   "metadata": {},
   "source": [
    "### 2 - doc_length_list_no_digits"
   ]
  },
  {
   "cell_type": "code",
   "execution_count": 42,
   "metadata": {},
   "outputs": [],
   "source": [
    "#doc_length_list_no_digits.sort()\n",
    "#least_to_most_plot_items = []\n",
    "#for item in enumerate(doc_length_list_no_digits):\n",
    "#    least_to_most_plot_items.append(item)"
   ]
  },
  {
   "cell_type": "code",
   "execution_count": 43,
   "metadata": {},
   "outputs": [],
   "source": [
    "#x, y = zip(*least_to_most_plot_items)\n",
    "#plt.scatter(x, y)\n",
    "#plt.show()"
   ]
  },
  {
   "cell_type": "code",
   "execution_count": 44,
   "metadata": {},
   "outputs": [],
   "source": [
    "# bins = range(0, 10000, 1000)\n",
    "#bins = range(0, 5000, 500)\n",
    "#figure(figsize=(20, 4), dpi=80)\n",
    "#plt.hist(doc_length_list_no_digits, bins=bins, edgecolor=\"k\")\n",
    "#plt.xticks(bins);"
   ]
  },
  {
   "cell_type": "markdown",
   "metadata": {},
   "source": [
    "### 3 - doc_length_list_no_tri"
   ]
  },
  {
   "cell_type": "code",
   "execution_count": 45,
   "metadata": {},
   "outputs": [],
   "source": [
    "#doc_length_list_no_tri.sort()\n",
    "#least_to_most_plot_items = []\n",
    "#for item in enumerate(doc_length_list_no_tri):\n",
    "#    least_to_most_plot_items.append(item)"
   ]
  },
  {
   "cell_type": "code",
   "execution_count": 46,
   "metadata": {},
   "outputs": [],
   "source": [
    "#x, y = zip(*least_to_most_plot_items)\n",
    "#plt.scatter(x, y)\n",
    "#plt.show()"
   ]
  },
  {
   "cell_type": "code",
   "execution_count": 47,
   "metadata": {},
   "outputs": [],
   "source": [
    "# bins = range(0, 10000, 1000)\n",
    "#bins = range(0, 5000, 500)\n",
    "#figure(figsize=(20, 4), dpi=80)\n",
    "#plt.hist(doc_length_list_no_tri, bins=bins, edgecolor=\"k\")\n",
    "#plt.xticks(bins);"
   ]
  },
  {
   "cell_type": "markdown",
   "metadata": {},
   "source": [
    "### 4 - doc_length_list_no_bi"
   ]
  },
  {
   "cell_type": "code",
   "execution_count": 48,
   "metadata": {},
   "outputs": [],
   "source": [
    "#doc_length_list_no_bi.sort()\n",
    "#least_to_most_plot_items = []\n",
    "#for item in enumerate(doc_length_list_no_bi):\n",
    "#    least_to_most_plot_items.append(item)"
   ]
  },
  {
   "cell_type": "code",
   "execution_count": 49,
   "metadata": {},
   "outputs": [],
   "source": [
    "#x, y = zip(*least_to_most_plot_items)\n",
    "#plt.scatter(x, y)\n",
    "#plt.show()"
   ]
  },
  {
   "cell_type": "code",
   "execution_count": 50,
   "metadata": {},
   "outputs": [],
   "source": [
    "# bins = range(0, 10000, 1000)\n",
    "#bins = range(0, 5000, 500)\n",
    "#figure(figsize=(20, 4), dpi=80)\n",
    "#plt.hist(doc_length_list_no_bi, bins=bins, edgecolor=\"k\")\n",
    "#plt.xticks(bins);"
   ]
  },
  {
   "cell_type": "markdown",
   "metadata": {},
   "source": [
    "### 5 - doc_length_list_tokenized"
   ]
  },
  {
   "cell_type": "code",
   "execution_count": 51,
   "metadata": {},
   "outputs": [],
   "source": [
    "#doc_length_list_tokenized.sort()\n",
    "#least_to_most_plot_items = []\n",
    "#for item in enumerate(doc_length_list_tokenized):\n",
    "#    least_to_most_plot_items.append(item)"
   ]
  },
  {
   "cell_type": "code",
   "execution_count": 52,
   "metadata": {},
   "outputs": [],
   "source": [
    "#x, y = zip(*least_to_most_plot_items)\n",
    "#plt.scatter(x, y)\n",
    "#plt.show()"
   ]
  },
  {
   "cell_type": "code",
   "execution_count": 53,
   "metadata": {},
   "outputs": [],
   "source": [
    "# bins = range(0, 10000, 1000)\n",
    "#bins = range(0, 5000, 500)\n",
    "#figure(figsize=(20, 4), dpi=80)\n",
    "#plt.hist(doc_length_list_tokenized, bins=bins, edgecolor=\"k\")\n",
    "#plt.xticks(bins);"
   ]
  },
  {
   "cell_type": "markdown",
   "metadata": {},
   "source": [
    "### 6 - doc_length_list_no_stop"
   ]
  },
  {
   "cell_type": "code",
   "execution_count": 54,
   "metadata": {},
   "outputs": [],
   "source": [
    "#doc_length_list_tokenized.sort()\n",
    "#least_to_most_plot_items = []\n",
    "#for item in enumerate(doc_length_list_tokenized):\n",
    "#    least_to_most_plot_items.append(item)"
   ]
  },
  {
   "cell_type": "code",
   "execution_count": 55,
   "metadata": {},
   "outputs": [],
   "source": [
    "#x, y = zip(*least_to_most_plot_items)\n",
    "#plt.scatter(x, y)\n",
    "#plt.show()"
   ]
  },
  {
   "cell_type": "code",
   "execution_count": 56,
   "metadata": {},
   "outputs": [],
   "source": [
    "# bins = range(0, 10000, 1000)\n",
    "#bins = range(0, 5000, 500)\n",
    "#figure(figsize=(20, 4), dpi=80)\n",
    "#plt.hist(doc_length_list_tokenized, bins=bins, edgecolor=\"k\")\n",
    "#plt.xticks(bins);"
   ]
  },
  {
   "cell_type": "markdown",
   "metadata": {},
   "source": [
    "### 7 - doc_length_list_stemmed"
   ]
  },
  {
   "cell_type": "code",
   "execution_count": 57,
   "metadata": {},
   "outputs": [],
   "source": [
    "doc_length_list_stemmed.sort()\n",
    "least_to_most_plot_items = []\n",
    "for item in enumerate(doc_length_list_stemmed):\n",
    "    least_to_most_plot_items.append(item)"
   ]
  },
  {
   "cell_type": "code",
   "execution_count": 58,
   "metadata": {},
   "outputs": [
    {
     "data": {
      "image/png": "[encoded data removed]",
      "text/plain": [
       "<Figure size 432x288 with 1 Axes>"
      ]
     },
     "metadata": {
      "needs_background": "light"
     },
     "output_type": "display_data"
    }
   ],
   "source": [
    "x, y = zip(*least_to_most_plot_items)\n",
    "plt.scatter(x, y)\n",
    "plt.show()"
   ]
  },
  {
   "cell_type": "code",
   "execution_count": 59,
   "metadata": {},
   "outputs": [
    {
     "data": {
      "image/png": "[encoded data removed]",
      "text/plain": [
       "<Figure size 1600x320 with 1 Axes>"
      ]
     },
     "metadata": {
      "needs_background": "light"
     },
     "output_type": "display_data"
    }
   ],
   "source": [
    "# bins = range(0, 10000, 1000)\n",
    "bins = range(0, 5000, 500)\n",
    "figure(figsize=(20, 4), dpi=80)\n",
    "plt.hist(doc_length_list_stemmed, bins=bins, edgecolor=\"k\")\n",
    "plt.xticks(bins);"
   ]
  },
  {
   "cell_type": "code",
   "execution_count": null,
   "metadata": {},
   "outputs": [],
   "source": []
  }
 ],
 "metadata": {
  "colab": {
   "collapsed_sections": [],
   "name": "MastersProject.ipynb",
   "provenance": []
  },
  "kernelspec": {
   "display_name": "Python 3",
   "language": "python",
   "name": "python3"
  },
  "language_info": {
   "codemirror_mode": {
    "name": "ipython",
    "version": 3
   },
   "file_extension": ".py",
   "mimetype": "text/x-python",
   "name": "python",
   "nbconvert_exporter": "python",
   "pygments_lexer": "ipython3",
   "version": "3.7.1"
  }
 },
 "nbformat": 4,
 "nbformat_minor": 1
}
