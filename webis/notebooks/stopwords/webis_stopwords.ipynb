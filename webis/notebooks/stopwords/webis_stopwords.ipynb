{
 "cells": [
  {
   "cell_type": "code",
   "execution_count": 39,
   "metadata": {},
   "outputs": [
    {
     "data": {
      "text/html": [
       "<style>.container { width:95% !important; }</style>"
      ],
      "text/plain": [
       "<IPython.core.display.HTML object>"
      ]
     },
     "metadata": {},
     "output_type": "display_data"
    }
   ],
   "source": [
    "from IPython.core.display import display, HTML\n",
    "display(HTML(\"<style>.container { width:95% !important; }</style>\"))"
   ]
  },
  {
   "cell_type": "markdown",
   "metadata": {
    "id": "FYVUGSFLf_qE"
   },
   "source": [
    "## Libraries and Filesystem Setup"
   ]
  },
  {
   "cell_type": "code",
   "execution_count": 40,
   "metadata": {
    "colab": {
     "base_uri": "https://localhost:8080/"
    },
    "id": "uqRQxTVbf39P",
    "outputId": "aecc64fb-dc6f-4d45-f5a3-98ec0b70cbfe"
   },
   "outputs": [
    {
     "name": "stderr",
     "output_type": "stream",
     "text": [
      "[nltk_data] Downloading package punkt to /Users/dkarsann/nltk_data...\n",
      "[nltk_data]   Package punkt is already up-to-date!\n",
      "[nltk_data] Downloading package stopwords to\n",
      "[nltk_data]     /Users/dkarsann/nltk_data...\n",
      "[nltk_data]   Package stopwords is already up-to-date!\n"
     ]
    }
   ],
   "source": [
    "import nltk\n",
    "nltk.download('punkt')\n",
    "nltk.download('stopwords')\n",
    "from nltk.tokenize import sent_tokenize, word_tokenize \n",
    "import pandas as pd\n",
    "from collections import Counter\n",
    "import string\n",
    "import pickle"
   ]
  },
  {
   "cell_type": "code",
   "execution_count": 2,
   "metadata": {},
   "outputs": [
    {
     "data": {
      "text/plain": [
       "179"
      ]
     },
     "execution_count": 2,
     "metadata": {},
     "output_type": "execute_result"
    }
   ],
   "source": [
    "import nltk\n",
    "from nltk.corpus import stopwords\n",
    "len(stopwords.words('english'))"
   ]
  },
  {
   "cell_type": "markdown",
   "metadata": {
    "id": "QQ6l1wSdkgzb"
   },
   "source": [
    "## Parsing and Processing Content"
   ]
  },
  {
   "cell_type": "code",
   "execution_count": 41,
   "metadata": {},
   "outputs": [
    {
     "data": {
      "text/html": [
       "<div>\n",
       "<style scoped>\n",
       "    .dataframe tbody tr th:only-of-type {\n",
       "        vertical-align: middle;\n",
       "    }\n",
       "\n",
       "    .dataframe tbody tr th {\n",
       "        vertical-align: top;\n",
       "    }\n",
       "\n",
       "    .dataframe thead th {\n",
       "        text-align: right;\n",
       "    }\n",
       "</style>\n",
       "<table border=\"1\" class=\"dataframe\">\n",
       "  <thead>\n",
       "    <tr style=\"text-align: right;\">\n",
       "      <th></th>\n",
       "      <th>file_number</th>\n",
       "      <th>file_type</th>\n",
       "      <th>filename</th>\n",
       "      <th>text</th>\n",
       "      <th>paraphrase</th>\n",
       "    </tr>\n",
       "  </thead>\n",
       "  <tbody>\n",
       "    <tr>\n",
       "      <th>0</th>\n",
       "      <td>1</td>\n",
       "      <td>original.txt</td>\n",
       "      <td>1-original.txt</td>\n",
       "      <td>M. Comte would not advise so irrational a proc...</td>\n",
       "      <td>True</td>\n",
       "    </tr>\n",
       "    <tr>\n",
       "      <th>1</th>\n",
       "      <td>1</td>\n",
       "      <td>paraphrase.txt</td>\n",
       "      <td>1-paraphrase.txt</td>\n",
       "      <td>Even M. Comte would spurn such irrational reas...</td>\n",
       "      <td>True</td>\n",
       "    </tr>\n",
       "    <tr>\n",
       "      <th>2</th>\n",
       "      <td>10</td>\n",
       "      <td>original.txt</td>\n",
       "      <td>10-original.txt</td>\n",
       "      <td>Picture illustrating the shortest and easiest ...</td>\n",
       "      <td>True</td>\n",
       "    </tr>\n",
       "    <tr>\n",
       "      <th>3</th>\n",
       "      <td>10</td>\n",
       "      <td>paraphrase.txt</td>\n",
       "      <td>10-paraphrase.txt</td>\n",
       "      <td>This picture exemplifies the straight and easi...</td>\n",
       "      <td>True</td>\n",
       "    </tr>\n",
       "    <tr>\n",
       "      <th>4</th>\n",
       "      <td>100</td>\n",
       "      <td>original.txt</td>\n",
       "      <td>100-original.txt</td>\n",
       "      <td>Thad, of course. And, Bill, we're going to get...</td>\n",
       "      <td>True</td>\n",
       "    </tr>\n",
       "  </tbody>\n",
       "</table>\n",
       "</div>"
      ],
      "text/plain": [
       "   file_number       file_type           filename  \\\n",
       "0            1    original.txt     1-original.txt   \n",
       "1            1  paraphrase.txt   1-paraphrase.txt   \n",
       "2           10    original.txt    10-original.txt   \n",
       "3           10  paraphrase.txt  10-paraphrase.txt   \n",
       "4          100    original.txt   100-original.txt   \n",
       "\n",
       "                                                text  paraphrase  \n",
       "0  M. Comte would not advise so irrational a proc...        True  \n",
       "1  Even M. Comte would spurn such irrational reas...        True  \n",
       "2  Picture illustrating the shortest and easiest ...        True  \n",
       "3  This picture exemplifies the straight and easi...        True  \n",
       "4  Thad, of course. And, Bill, we're going to get...        True  "
      ]
     },
     "execution_count": 41,
     "metadata": {},
     "output_type": "execute_result"
    }
   ],
   "source": [
    "df = pd.read_csv('../../processed_files/webis/webis.csv')\n",
    "df.head()"
   ]
  },
  {
   "cell_type": "code",
   "execution_count": 42,
   "metadata": {
    "colab": {
     "base_uri": "https://localhost:8080/",
     "height": 306
    },
    "id": "-YWzp2mXW2MW",
    "outputId": "53f6d52f-33be-4bd8-f910-8c2be72bf902"
   },
   "outputs": [
    {
     "data": {
      "text/html": [
       "<div>\n",
       "<style scoped>\n",
       "    .dataframe tbody tr th:only-of-type {\n",
       "        vertical-align: middle;\n",
       "    }\n",
       "\n",
       "    .dataframe tbody tr th {\n",
       "        vertical-align: top;\n",
       "    }\n",
       "\n",
       "    .dataframe thead th {\n",
       "        text-align: right;\n",
       "    }\n",
       "</style>\n",
       "<table border=\"1\" class=\"dataframe\">\n",
       "  <thead>\n",
       "    <tr style=\"text-align: right;\">\n",
       "      <th></th>\n",
       "      <th>file_number</th>\n",
       "      <th>file_type</th>\n",
       "      <th>filename</th>\n",
       "      <th>text</th>\n",
       "      <th>paraphrase</th>\n",
       "      <th>TEXT_PARSED</th>\n",
       "    </tr>\n",
       "  </thead>\n",
       "  <tbody>\n",
       "    <tr>\n",
       "      <th>0</th>\n",
       "      <td>1</td>\n",
       "      <td>original.txt</td>\n",
       "      <td>1-original.txt</td>\n",
       "      <td>M. Comte would not advise so irrational a proc...</td>\n",
       "      <td>True</td>\n",
       "      <td>[M., Comte, would, not, advise, so, irrational...</td>\n",
       "    </tr>\n",
       "    <tr>\n",
       "      <th>1</th>\n",
       "      <td>1</td>\n",
       "      <td>paraphrase.txt</td>\n",
       "      <td>1-paraphrase.txt</td>\n",
       "      <td>Even M. Comte would spurn such irrational reas...</td>\n",
       "      <td>True</td>\n",
       "      <td>[Even, M., Comte, would, spurn, such, irration...</td>\n",
       "    </tr>\n",
       "    <tr>\n",
       "      <th>2</th>\n",
       "      <td>10</td>\n",
       "      <td>original.txt</td>\n",
       "      <td>10-original.txt</td>\n",
       "      <td>Picture illustrating the shortest and easiest ...</td>\n",
       "      <td>True</td>\n",
       "      <td>[Picture, illustrating, the, shortest, and, ea...</td>\n",
       "    </tr>\n",
       "    <tr>\n",
       "      <th>3</th>\n",
       "      <td>10</td>\n",
       "      <td>paraphrase.txt</td>\n",
       "      <td>10-paraphrase.txt</td>\n",
       "      <td>This picture exemplifies the straight and easi...</td>\n",
       "      <td>True</td>\n",
       "      <td>[This, picture, exemplifies, the, straight, an...</td>\n",
       "    </tr>\n",
       "    <tr>\n",
       "      <th>4</th>\n",
       "      <td>100</td>\n",
       "      <td>original.txt</td>\n",
       "      <td>100-original.txt</td>\n",
       "      <td>Thad, of course. And, Bill, we're going to get...</td>\n",
       "      <td>True</td>\n",
       "      <td>[Thad, ,, of, course, ., And, ,, Bill, ,, we, ...</td>\n",
       "    </tr>\n",
       "  </tbody>\n",
       "</table>\n",
       "</div>"
      ],
      "text/plain": [
       "   file_number       file_type           filename  \\\n",
       "0            1    original.txt     1-original.txt   \n",
       "1            1  paraphrase.txt   1-paraphrase.txt   \n",
       "2           10    original.txt    10-original.txt   \n",
       "3           10  paraphrase.txt  10-paraphrase.txt   \n",
       "4          100    original.txt   100-original.txt   \n",
       "\n",
       "                                                text  paraphrase  \\\n",
       "0  M. Comte would not advise so irrational a proc...        True   \n",
       "1  Even M. Comte would spurn such irrational reas...        True   \n",
       "2  Picture illustrating the shortest and easiest ...        True   \n",
       "3  This picture exemplifies the straight and easi...        True   \n",
       "4  Thad, of course. And, Bill, we're going to get...        True   \n",
       "\n",
       "                                         TEXT_PARSED  \n",
       "0  [M., Comte, would, not, advise, so, irrational...  \n",
       "1  [Even, M., Comte, would, spurn, such, irration...  \n",
       "2  [Picture, illustrating, the, shortest, and, ea...  \n",
       "3  [This, picture, exemplifies, the, straight, an...  \n",
       "4  [Thad, ,, of, course, ., And, ,, Bill, ,, we, ...  "
      ]
     },
     "execution_count": 42,
     "metadata": {},
     "output_type": "execute_result"
    }
   ],
   "source": [
    "# do not specify axis as parameter when running lambda on series\n",
    "df['TEXT_PARSED'] = df['text'].apply(lambda row: word_tokenize(row))\n",
    "df.head()"
   ]
  },
  {
   "cell_type": "code",
   "execution_count": 43,
   "metadata": {
    "id": "pfrb73PYW7KF"
   },
   "outputs": [],
   "source": [
    "df_content_tokens = [item for sublist in df['TEXT_PARSED'].values for item in sublist]"
   ]
  },
  {
   "cell_type": "code",
   "execution_count": 44,
   "metadata": {
    "id": "_g_jdNxtW8L9"
   },
   "outputs": [],
   "source": [
    "counts = Counter(df_content_tokens)"
   ]
  },
  {
   "cell_type": "code",
   "execution_count": 45,
   "metadata": {
    "colab": {
     "base_uri": "https://localhost:8080/"
    },
    "id": "ylEGUoXUW9xn",
    "outputId": "7a2e6113-aa49-40e1-9751-4d0252b4fc5c"
   },
   "outputs": [
    {
     "data": {
      "text/plain": [
       "[(',', 375218),\n",
       " ('the', 313687),\n",
       " ('.', 209510),\n",
       " ('of', 198220),\n",
       " ('and', 152951),\n",
       " ('to', 123814),\n",
       " ('a', 99721),\n",
       " ('in', 92402),\n",
       " ('that', 53987),\n",
       " ('is', 53575)]"
      ]
     },
     "execution_count": 45,
     "metadata": {},
     "output_type": "execute_result"
    }
   ],
   "source": [
    "counts.most_common(10)"
   ]
  },
  {
   "cell_type": "code",
   "execution_count": 46,
   "metadata": {
    "id": "YzpdheaVXAp0"
   },
   "outputs": [],
   "source": [
    "df_2 = df.copy(deep=True)"
   ]
  },
  {
   "cell_type": "code",
   "execution_count": 47,
   "metadata": {
    "colab": {
     "base_uri": "https://localhost:8080/",
     "height": 204
    },
    "id": "UQE6w9dLXBwV",
    "outputId": "d7e06971-9f7f-4b55-9f03-313e64e39fe9"
   },
   "outputs": [],
   "source": [
    "#df_2['TEXT_PARSED'] = df_2['TEXT'].apply(lambda row: row.split())\n",
    "#df_2.head()"
   ]
  },
  {
   "cell_type": "code",
   "execution_count": 48,
   "metadata": {
    "colab": {
     "base_uri": "https://localhost:8080/",
     "height": 204
    },
    "id": "ZDozXidB5N-Y",
    "outputId": "eefbe9e5-8540-4cd2-eedd-692943c1342f"
   },
   "outputs": [
    {
     "data": {
      "text/html": [
       "<div>\n",
       "<style scoped>\n",
       "    .dataframe tbody tr th:only-of-type {\n",
       "        vertical-align: middle;\n",
       "    }\n",
       "\n",
       "    .dataframe tbody tr th {\n",
       "        vertical-align: top;\n",
       "    }\n",
       "\n",
       "    .dataframe thead th {\n",
       "        text-align: right;\n",
       "    }\n",
       "</style>\n",
       "<table border=\"1\" class=\"dataframe\">\n",
       "  <thead>\n",
       "    <tr style=\"text-align: right;\">\n",
       "      <th></th>\n",
       "      <th>file_number</th>\n",
       "      <th>file_type</th>\n",
       "      <th>filename</th>\n",
       "      <th>text</th>\n",
       "      <th>paraphrase</th>\n",
       "      <th>TEXT_PARSED</th>\n",
       "    </tr>\n",
       "  </thead>\n",
       "  <tbody>\n",
       "    <tr>\n",
       "      <th>0</th>\n",
       "      <td>1</td>\n",
       "      <td>original.txt</td>\n",
       "      <td>1-original.txt</td>\n",
       "      <td>M. Comte would not advise so irrational a proc...</td>\n",
       "      <td>True</td>\n",
       "      <td>[m., comte, would, not, advise, so, irrational...</td>\n",
       "    </tr>\n",
       "    <tr>\n",
       "      <th>1</th>\n",
       "      <td>1</td>\n",
       "      <td>paraphrase.txt</td>\n",
       "      <td>1-paraphrase.txt</td>\n",
       "      <td>Even M. Comte would spurn such irrational reas...</td>\n",
       "      <td>True</td>\n",
       "      <td>[even, m., comte, would, spurn, such, irration...</td>\n",
       "    </tr>\n",
       "    <tr>\n",
       "      <th>2</th>\n",
       "      <td>10</td>\n",
       "      <td>original.txt</td>\n",
       "      <td>10-original.txt</td>\n",
       "      <td>Picture illustrating the shortest and easiest ...</td>\n",
       "      <td>True</td>\n",
       "      <td>[picture, illustrating, the, shortest, and, ea...</td>\n",
       "    </tr>\n",
       "    <tr>\n",
       "      <th>3</th>\n",
       "      <td>10</td>\n",
       "      <td>paraphrase.txt</td>\n",
       "      <td>10-paraphrase.txt</td>\n",
       "      <td>This picture exemplifies the straight and easi...</td>\n",
       "      <td>True</td>\n",
       "      <td>[this, picture, exemplifies, the, straight, an...</td>\n",
       "    </tr>\n",
       "    <tr>\n",
       "      <th>4</th>\n",
       "      <td>100</td>\n",
       "      <td>original.txt</td>\n",
       "      <td>100-original.txt</td>\n",
       "      <td>Thad, of course. And, Bill, we're going to get...</td>\n",
       "      <td>True</td>\n",
       "      <td>[thad, ,, of, course, ., and, ,, bill, ,, we, ...</td>\n",
       "    </tr>\n",
       "  </tbody>\n",
       "</table>\n",
       "</div>"
      ],
      "text/plain": [
       "   file_number       file_type           filename  \\\n",
       "0            1    original.txt     1-original.txt   \n",
       "1            1  paraphrase.txt   1-paraphrase.txt   \n",
       "2           10    original.txt    10-original.txt   \n",
       "3           10  paraphrase.txt  10-paraphrase.txt   \n",
       "4          100    original.txt   100-original.txt   \n",
       "\n",
       "                                                text  paraphrase  \\\n",
       "0  M. Comte would not advise so irrational a proc...        True   \n",
       "1  Even M. Comte would spurn such irrational reas...        True   \n",
       "2  Picture illustrating the shortest and easiest ...        True   \n",
       "3  This picture exemplifies the straight and easi...        True   \n",
       "4  Thad, of course. And, Bill, we're going to get...        True   \n",
       "\n",
       "                                         TEXT_PARSED  \n",
       "0  [m., comte, would, not, advise, so, irrational...  \n",
       "1  [even, m., comte, would, spurn, such, irration...  \n",
       "2  [picture, illustrating, the, shortest, and, ea...  \n",
       "3  [this, picture, exemplifies, the, straight, an...  \n",
       "4  [thad, ,, of, course, ., and, ,, bill, ,, we, ...  "
      ]
     },
     "execution_count": 48,
     "metadata": {},
     "output_type": "execute_result"
    }
   ],
   "source": [
    "df_2['TEXT_PARSED'] = df_2['TEXT_PARSED'].apply(lambda row: [token.lower() for token in row])\n",
    "df_2.head()"
   ]
  },
  {
   "cell_type": "code",
   "execution_count": 49,
   "metadata": {
    "colab": {
     "base_uri": "https://localhost:8080/"
    },
    "id": "eWqHlxMGXDtV",
    "outputId": "578fdb3e-5e28-4799-ddc8-7d6e6217f62a"
   },
   "outputs": [
    {
     "name": "stdout",
     "output_type": "stream",
     "text": [
      "!\"#$%&'()*+,-./:;<=>?@[\\]^_`{|}~\n"
     ]
    }
   ],
   "source": [
    "print(string.punctuation)\n",
    "table = str.maketrans('', '', string.punctuation)"
   ]
  },
  {
   "cell_type": "code",
   "execution_count": 50,
   "metadata": {
    "id": "U5PqhWcmXFIX"
   },
   "outputs": [],
   "source": [
    "table = str.maketrans('', '', string.punctuation)\n",
    "df_2_content_tokens = [item for sublist in df_2['TEXT_PARSED'].values for item in sublist]\n",
    "#df_en_2_content_tokens"
   ]
  },
  {
   "cell_type": "code",
   "execution_count": 51,
   "metadata": {
    "colab": {
     "base_uri": "https://localhost:8080/"
    },
    "id": "7WVtrfGVXHFO",
    "outputId": "060fbe22-6607-4f6f-a843-93e240934abc"
   },
   "outputs": [
    {
     "data": {
      "text/plain": [
       "['m',\n",
       " 'comte',\n",
       " 'would',\n",
       " 'not',\n",
       " 'advise',\n",
       " 'so',\n",
       " 'irrational',\n",
       " 'a',\n",
       " 'proceeding',\n",
       " '']"
      ]
     },
     "execution_count": 51,
     "metadata": {},
     "output_type": "execute_result"
    }
   ],
   "source": [
    "df_2_content_tokens_stripped = [w.translate(table) for w in df_2_content_tokens]\n",
    "df_2_content_tokens_stripped[:10]"
   ]
  },
  {
   "cell_type": "markdown",
   "metadata": {
    "id": "OUcaluylk4xW"
   },
   "source": [
    "## Stopwords"
   ]
  },
  {
   "cell_type": "code",
   "execution_count": 52,
   "metadata": {
    "colab": {
     "base_uri": "https://localhost:8080/"
    },
    "id": "2P4k7clFXIqh",
    "outputId": "79c15f4c-8f39-40ec-c0ed-927f5852678e"
   },
   "outputs": [
    {
     "data": {
      "text/plain": [
       "[('', 803100),\n",
       " ('the', 345282),\n",
       " ('of', 200987),\n",
       " ('and', 158936),\n",
       " ('to', 126383),\n",
       " ('a', 106403),\n",
       " ('in', 100203),\n",
       " ('that', 55867),\n",
       " ('is', 54405),\n",
       " ('it', 47663),\n",
       " ('was', 45049),\n",
       " ('i', 42595),\n",
       " ('he', 39358),\n",
       " ('as', 38806),\n",
       " ('with', 38559),\n",
       " ('his', 37203),\n",
       " ('for', 37005),\n",
       " ('be', 31849)]"
      ]
     },
     "execution_count": 52,
     "metadata": {},
     "output_type": "execute_result"
    }
   ],
   "source": [
    "counts_2 = Counter(df_2_content_tokens_stripped)\n",
    "#nltk stopword list is 179 words\n",
    "counts_2.most_common(18)"
   ]
  },
  {
   "cell_type": "code",
   "execution_count": 53,
   "metadata": {
    "colab": {
     "base_uri": "https://localhost:8080/"
    },
    "id": "jWQqqeX1XKd-",
    "outputId": "7edf34a0-36d8-45f4-9656-4080e3fb1fca"
   },
   "outputs": [
    {
     "name": "stdout",
     "output_type": "stream",
     "text": [
      "['i', 'me', 'my', 'myself', 'we', 'our', 'ours', 'ourselves', 'you', \"you're\", \"you've\", \"you'll\", \"you'd\", 'your', 'yours', 'yourself', 'yourselves', 'he', 'him', 'his', 'himself', 'she', \"she's\", 'her', 'hers', 'herself', 'it', \"it's\", 'its', 'itself', 'they', 'them', 'their', 'theirs', 'themselves', 'what', 'which', 'who', 'whom', 'this', 'that', \"that'll\", 'these', 'those', 'am', 'is', 'are', 'was', 'were', 'be', 'been', 'being', 'have', 'has', 'had', 'having', 'do', 'does', 'did', 'doing', 'a', 'an', 'the', 'and', 'but', 'if', 'or', 'because', 'as', 'until', 'while', 'of', 'at', 'by', 'for', 'with', 'about', 'against', 'between', 'into', 'through', 'during', 'before', 'after', 'above', 'below', 'to', 'from', 'up', 'down', 'in', 'out', 'on', 'off', 'over', 'under', 'again', 'further', 'then', 'once', 'here', 'there', 'when', 'where', 'why', 'how', 'all', 'any', 'both', 'each', 'few', 'more', 'most', 'other', 'some', 'such', 'no', 'nor', 'not', 'only', 'own', 'same', 'so', 'than', 'too', 'very', 's', 't', 'can', 'will', 'just', 'don', \"don't\", 'should', \"should've\", 'now', 'd', 'll', 'm', 'o', 're', 've', 'y', 'ain', 'aren', \"aren't\", 'couldn', \"couldn't\", 'didn', \"didn't\", 'doesn', \"doesn't\", 'hadn', \"hadn't\", 'hasn', \"hasn't\", 'haven', \"haven't\", 'isn', \"isn't\", 'ma', 'mightn', \"mightn't\", 'mustn', \"mustn't\", 'needn', \"needn't\", 'shan', \"shan't\", 'shouldn', \"shouldn't\", 'wasn', \"wasn't\", 'weren', \"weren't\", 'won', \"won't\", 'wouldn', \"wouldn't\"]\n"
     ]
    }
   ],
   "source": [
    "from nltk.corpus import stopwords\n",
    "print(stopwords.words('english'))"
   ]
  },
  {
   "cell_type": "code",
   "execution_count": 54,
   "metadata": {
    "colab": {
     "base_uri": "https://localhost:8080/"
    },
    "id": "3vFFhFQnXMUv",
    "outputId": "98ca5aa3-ef56-43f3-fcca-7c4b416bd343"
   },
   "outputs": [
    {
     "data": {
      "text/plain": [
       "179"
      ]
     },
     "execution_count": 54,
     "metadata": {},
     "output_type": "execute_result"
    }
   ],
   "source": [
    "len(stopwords.words('english'))"
   ]
  },
  {
   "cell_type": "code",
   "execution_count": 55,
   "metadata": {
    "id": "ghHHJM7FXNq7"
   },
   "outputs": [],
   "source": [
    "#counts_2.most_common(179)"
   ]
  },
  {
   "cell_type": "code",
   "execution_count": 56,
   "metadata": {
    "id": "RflMbYxoXPHu"
   },
   "outputs": [],
   "source": [
    "common_stopwords = set(stopwords.words('english'))"
   ]
  },
  {
   "cell_type": "code",
   "execution_count": 57,
   "metadata": {
    "id": "3UhsQdXrXQYY"
   },
   "outputs": [],
   "source": [
    "corpus_stopwords = set([i[0] for i in counts_2.most_common(179)])"
   ]
  },
  {
   "cell_type": "code",
   "execution_count": 58,
   "metadata": {
    "id": "Vt8hPgXLXR7s"
   },
   "outputs": [],
   "source": [
    "in_both_lists = common_stopwords.intersection(corpus_stopwords)"
   ]
  },
  {
   "cell_type": "code",
   "execution_count": 59,
   "metadata": {
    "colab": {
     "base_uri": "https://localhost:8080/"
    },
    "id": "qpH_o2fNXTV_",
    "outputId": "ec915245-464e-4445-9774-5844977cff9a"
   },
   "outputs": [
    {
     "data": {
      "text/plain": [
       "102"
      ]
     },
     "execution_count": 59,
     "metadata": {},
     "output_type": "execute_result"
    }
   ],
   "source": [
    "len(in_both_lists)"
   ]
  },
  {
   "cell_type": "code",
   "execution_count": 60,
   "metadata": {
    "colab": {
     "base_uri": "https://localhost:8080/"
    },
    "id": "eT5HzxsBXU0I",
    "outputId": "bb225898-2e34-44da-b863-cf36baabac84"
   },
   "outputs": [
    {
     "data": {
      "text/plain": [
       "['the', 'few', 'his', 'being', 'we', 'here', 'through', 'most', 'been', 'if']"
      ]
     },
     "execution_count": 60,
     "metadata": {},
     "output_type": "execute_result"
    }
   ],
   "source": [
    "list(in_both_lists)[:10]"
   ]
  },
  {
   "cell_type": "markdown",
   "metadata": {
    "id": "yt3GKbsI5xjC"
   },
   "source": [
    "## Heaps' Law"
   ]
  },
  {
   "cell_type": "code",
   "execution_count": 61,
   "metadata": {
    "colab": {
     "base_uri": "https://localhost:8080/",
     "height": 204
    },
    "id": "3TZdnZjcX6Z4",
    "outputId": "fa1d0e85-7549-4eaf-8661-dd3139770bb2"
   },
   "outputs": [
    {
     "data": {
      "text/html": [
       "<div>\n",
       "<style scoped>\n",
       "    .dataframe tbody tr th:only-of-type {\n",
       "        vertical-align: middle;\n",
       "    }\n",
       "\n",
       "    .dataframe tbody tr th {\n",
       "        vertical-align: top;\n",
       "    }\n",
       "\n",
       "    .dataframe thead th {\n",
       "        text-align: right;\n",
       "    }\n",
       "</style>\n",
       "<table border=\"1\" class=\"dataframe\">\n",
       "  <thead>\n",
       "    <tr style=\"text-align: right;\">\n",
       "      <th></th>\n",
       "      <th>file_number</th>\n",
       "      <th>file_type</th>\n",
       "      <th>filename</th>\n",
       "      <th>text</th>\n",
       "      <th>paraphrase</th>\n",
       "      <th>TEXT_PARSED</th>\n",
       "    </tr>\n",
       "  </thead>\n",
       "  <tbody>\n",
       "    <tr>\n",
       "      <th>0</th>\n",
       "      <td>1</td>\n",
       "      <td>original.txt</td>\n",
       "      <td>1-original.txt</td>\n",
       "      <td>M. Comte would not advise so irrational a proc...</td>\n",
       "      <td>True</td>\n",
       "      <td>[m., comte, would, not, advise, so, irrational...</td>\n",
       "    </tr>\n",
       "    <tr>\n",
       "      <th>1</th>\n",
       "      <td>1</td>\n",
       "      <td>paraphrase.txt</td>\n",
       "      <td>1-paraphrase.txt</td>\n",
       "      <td>Even M. Comte would spurn such irrational reas...</td>\n",
       "      <td>True</td>\n",
       "      <td>[even, m., comte, would, spurn, such, irration...</td>\n",
       "    </tr>\n",
       "    <tr>\n",
       "      <th>2</th>\n",
       "      <td>10</td>\n",
       "      <td>original.txt</td>\n",
       "      <td>10-original.txt</td>\n",
       "      <td>Picture illustrating the shortest and easiest ...</td>\n",
       "      <td>True</td>\n",
       "      <td>[picture, illustrating, the, shortest, and, ea...</td>\n",
       "    </tr>\n",
       "    <tr>\n",
       "      <th>3</th>\n",
       "      <td>10</td>\n",
       "      <td>paraphrase.txt</td>\n",
       "      <td>10-paraphrase.txt</td>\n",
       "      <td>This picture exemplifies the straight and easi...</td>\n",
       "      <td>True</td>\n",
       "      <td>[this, picture, exemplifies, the, straight, an...</td>\n",
       "    </tr>\n",
       "    <tr>\n",
       "      <th>4</th>\n",
       "      <td>100</td>\n",
       "      <td>original.txt</td>\n",
       "      <td>100-original.txt</td>\n",
       "      <td>Thad, of course. And, Bill, we're going to get...</td>\n",
       "      <td>True</td>\n",
       "      <td>[thad, ,, of, course, ., and, ,, bill, ,, we, ...</td>\n",
       "    </tr>\n",
       "  </tbody>\n",
       "</table>\n",
       "</div>"
      ],
      "text/plain": [
       "   file_number       file_type           filename  \\\n",
       "0            1    original.txt     1-original.txt   \n",
       "1            1  paraphrase.txt   1-paraphrase.txt   \n",
       "2           10    original.txt    10-original.txt   \n",
       "3           10  paraphrase.txt  10-paraphrase.txt   \n",
       "4          100    original.txt   100-original.txt   \n",
       "\n",
       "                                                text  paraphrase  \\\n",
       "0  M. Comte would not advise so irrational a proc...        True   \n",
       "1  Even M. Comte would spurn such irrational reas...        True   \n",
       "2  Picture illustrating the shortest and easiest ...        True   \n",
       "3  This picture exemplifies the straight and easi...        True   \n",
       "4  Thad, of course. And, Bill, we're going to get...        True   \n",
       "\n",
       "                                         TEXT_PARSED  \n",
       "0  [m., comte, would, not, advise, so, irrational...  \n",
       "1  [even, m., comte, would, spurn, such, irration...  \n",
       "2  [picture, illustrating, the, shortest, and, ea...  \n",
       "3  [this, picture, exemplifies, the, straight, an...  \n",
       "4  [thad, ,, of, course, ., and, ,, bill, ,, we, ...  "
      ]
     },
     "execution_count": 61,
     "metadata": {},
     "output_type": "execute_result"
    }
   ],
   "source": [
    "df_2.head()"
   ]
  },
  {
   "cell_type": "code",
   "execution_count": 62,
   "metadata": {
    "colab": {
     "base_uri": "https://localhost:8080/",
     "height": 204
    },
    "id": "ydYc_gioX-AO",
    "outputId": "f2cc3135-e802-4b35-f33e-ad2c4d2c6aab"
   },
   "outputs": [
    {
     "data": {
      "text/html": [
       "<div>\n",
       "<style scoped>\n",
       "    .dataframe tbody tr th:only-of-type {\n",
       "        vertical-align: middle;\n",
       "    }\n",
       "\n",
       "    .dataframe tbody tr th {\n",
       "        vertical-align: top;\n",
       "    }\n",
       "\n",
       "    .dataframe thead th {\n",
       "        text-align: right;\n",
       "    }\n",
       "</style>\n",
       "<table border=\"1\" class=\"dataframe\">\n",
       "  <thead>\n",
       "    <tr style=\"text-align: right;\">\n",
       "      <th></th>\n",
       "      <th>file_number</th>\n",
       "      <th>file_type</th>\n",
       "      <th>filename</th>\n",
       "      <th>text</th>\n",
       "      <th>paraphrase</th>\n",
       "      <th>TEXT_PARSED</th>\n",
       "    </tr>\n",
       "  </thead>\n",
       "  <tbody>\n",
       "    <tr>\n",
       "      <th>0</th>\n",
       "      <td>1</td>\n",
       "      <td>original.txt</td>\n",
       "      <td>1-original.txt</td>\n",
       "      <td>M. Comte would not advise so irrational a proc...</td>\n",
       "      <td>True</td>\n",
       "      <td>[m., comte, would, not, advise, so, irrational...</td>\n",
       "    </tr>\n",
       "    <tr>\n",
       "      <th>1</th>\n",
       "      <td>1</td>\n",
       "      <td>paraphrase.txt</td>\n",
       "      <td>1-paraphrase.txt</td>\n",
       "      <td>Even M. Comte would spurn such irrational reas...</td>\n",
       "      <td>True</td>\n",
       "      <td>[even, m., comte, would, spurn, such, irration...</td>\n",
       "    </tr>\n",
       "    <tr>\n",
       "      <th>2</th>\n",
       "      <td>10</td>\n",
       "      <td>original.txt</td>\n",
       "      <td>10-original.txt</td>\n",
       "      <td>Picture illustrating the shortest and easiest ...</td>\n",
       "      <td>True</td>\n",
       "      <td>[picture, illustrating, the, shortest, and, ea...</td>\n",
       "    </tr>\n",
       "    <tr>\n",
       "      <th>3</th>\n",
       "      <td>10</td>\n",
       "      <td>paraphrase.txt</td>\n",
       "      <td>10-paraphrase.txt</td>\n",
       "      <td>This picture exemplifies the straight and easi...</td>\n",
       "      <td>True</td>\n",
       "      <td>[this, picture, exemplifies, the, straight, an...</td>\n",
       "    </tr>\n",
       "    <tr>\n",
       "      <th>4</th>\n",
       "      <td>100</td>\n",
       "      <td>original.txt</td>\n",
       "      <td>100-original.txt</td>\n",
       "      <td>Thad, of course. And, Bill, we're going to get...</td>\n",
       "      <td>True</td>\n",
       "      <td>[thad, ,, of, course, ., and, ,, bill, ,, we, ...</td>\n",
       "    </tr>\n",
       "  </tbody>\n",
       "</table>\n",
       "</div>"
      ],
      "text/plain": [
       "   file_number       file_type           filename  \\\n",
       "0            1    original.txt     1-original.txt   \n",
       "1            1  paraphrase.txt   1-paraphrase.txt   \n",
       "2           10    original.txt    10-original.txt   \n",
       "3           10  paraphrase.txt  10-paraphrase.txt   \n",
       "4          100    original.txt   100-original.txt   \n",
       "\n",
       "                                                text  paraphrase  \\\n",
       "0  M. Comte would not advise so irrational a proc...        True   \n",
       "1  Even M. Comte would spurn such irrational reas...        True   \n",
       "2  Picture illustrating the shortest and easiest ...        True   \n",
       "3  This picture exemplifies the straight and easi...        True   \n",
       "4  Thad, of course. And, Bill, we're going to get...        True   \n",
       "\n",
       "                                         TEXT_PARSED  \n",
       "0  [m., comte, would, not, advise, so, irrational...  \n",
       "1  [even, m., comte, would, spurn, such, irration...  \n",
       "2  [picture, illustrating, the, shortest, and, ea...  \n",
       "3  [this, picture, exemplifies, the, straight, an...  \n",
       "4  [thad, ,, of, course, ., and, ,, bill, ,, we, ...  "
      ]
     },
     "execution_count": 62,
     "metadata": {},
     "output_type": "execute_result"
    }
   ],
   "source": [
    "df_2_new = df_2.reset_index()\n",
    "df_2_new = df_2_new.drop(columns=['index'])\n",
    "df_2_new.head()"
   ]
  },
  {
   "cell_type": "code",
   "execution_count": 63,
   "metadata": {
    "id": "enGAIElFX_0A"
   },
   "outputs": [],
   "source": [
    "# number of documents processed, number of unique \n",
    "num_docs_num_unique = [(0,0)]\n",
    "unique = set()\n",
    "for index,row in df_2_new.iterrows():\n",
    "    unique.update(row['TEXT_PARSED'])\n",
    "    num_docs = index + 1\n",
    "    num_unique = len(unique)\n",
    "    num_docs_num_unique.append((num_docs, num_unique))"
   ]
  },
  {
   "cell_type": "code",
   "execution_count": 64,
   "metadata": {
    "colab": {
     "base_uri": "https://localhost:8080/",
     "height": 265
    },
    "id": "cuFC4PMIYBQF",
    "outputId": "67a6e6d5-5fdf-4dd5-9ef6-fe91bf0ecee1"
   },
   "outputs": [
    {
     "data": {
      "image/png": "[encoded data removed]",
      "text/plain": [
       "<Figure size 432x288 with 1 Axes>"
      ]
     },
     "metadata": {
      "needs_background": "light"
     },
     "output_type": "display_data"
    }
   ],
   "source": [
    "import matplotlib.pyplot as plt\n",
    "%matplotlib inline\n",
    "\n",
    "x, y = zip(*num_docs_num_unique)\n",
    "plt.scatter(x, y)\n",
    "plt.show()"
   ]
  },
  {
   "cell_type": "code",
   "execution_count": 65,
   "metadata": {
    "id": "wyPIgl8tYC5t"
   },
   "outputs": [],
   "source": [
    "most_to_least = sorted(counts_2.items(), key=lambda item: item[1], reverse=True)\n",
    "most_to_least_plot_items = []\n",
    "for index, item in enumerate(most_to_least):\n",
    "    most_to_least_plot_items.append((index, item[1]))"
   ]
  },
  {
   "cell_type": "code",
   "execution_count": 66,
   "metadata": {
    "colab": {
     "base_uri": "https://localhost:8080/",
     "height": 269
    },
    "id": "cx6tz7dKYEUQ",
    "outputId": "9cd80e20-28af-4ed3-8f73-2d6915a75375",
    "scrolled": true
   },
   "outputs": [
    {
     "data": {
      "image/png": "[encoded data removed]",
      "text/plain": [
       "<Figure size 432x288 with 1 Axes>"
      ]
     },
     "metadata": {
      "needs_background": "light"
     },
     "output_type": "display_data"
    }
   ],
   "source": [
    "x, y = zip(*most_to_least_plot_items)\n",
    "plt.scatter(x, y)\n",
    "plt.show()"
   ]
  },
  {
   "cell_type": "markdown",
   "metadata": {
    "id": "yueNPQ4-580o"
   },
   "source": [
    "## Zipf's Law"
   ]
  },
  {
   "cell_type": "code",
   "execution_count": 67,
   "metadata": {
    "id": "XABYTPSbYrK7"
   },
   "outputs": [],
   "source": [
    "most_to_least_2 = sorted(counts_2.items(), key=lambda item: item[1], reverse=True)\n",
    "most_to_least_plot_items_2 = []\n",
    "for index, item in enumerate(most_to_least):\n",
    "    if index < 20:\n",
    "        continue\n",
    "    if index >= 500:\n",
    "        break\n",
    "    most_to_least_plot_items_2.append((index, item[1]))"
   ]
  },
  {
   "cell_type": "code",
   "execution_count": 68,
   "metadata": {
    "colab": {
     "base_uri": "https://localhost:8080/",
     "height": 265
    },
    "id": "8lSF4oxnYtzd",
    "outputId": "813e29c4-44ff-4e4c-bce1-82c5cb9498a8"
   },
   "outputs": [
    {
     "data": {
      "image/png": "[encoded data removed]",
      "text/plain": [
       "<Figure size 432x288 with 1 Axes>"
      ]
     },
     "metadata": {
      "needs_background": "light"
     },
     "output_type": "display_data"
    }
   ],
   "source": [
    "x2, y2 = zip(*most_to_least_plot_items_2)\n",
    "plt.scatter(x2, y2)\n",
    "plt.show()"
   ]
  },
  {
   "cell_type": "code",
   "execution_count": 69,
   "metadata": {
    "id": "mmWNQuH7Yvfx"
   },
   "outputs": [],
   "source": [
    "#most_to_least_plot_items_2"
   ]
  },
  {
   "cell_type": "markdown",
   "metadata": {
    "id": "LslkDlvVxvBu"
   },
   "source": [
    "## Stopword lists"
   ]
  },
  {
   "cell_type": "code",
   "execution_count": 70,
   "metadata": {
    "id": "CZXzRSGIgbKT"
   },
   "outputs": [],
   "source": [
    "common_stopwords = set(stopwords.words('english'))"
   ]
  },
  {
   "cell_type": "code",
   "execution_count": 71,
   "metadata": {},
   "outputs": [],
   "source": [
    "with open('../../processed_files/stopwords/webis_common_stopwords.pickle', 'wb') as file:\n",
    "    pickle.dump(common_stopwords, file)"
   ]
  },
  {
   "cell_type": "code",
   "execution_count": 72,
   "metadata": {
    "id": "_VKxDzKrxyJa"
   },
   "outputs": [],
   "source": [
    "corpus_stopwords = set([i[0] for i in counts_2.most_common(100)])"
   ]
  },
  {
   "cell_type": "code",
   "execution_count": 73,
   "metadata": {},
   "outputs": [],
   "source": [
    "with open('../../processed_files/stopwords/webis_corpus_stopwords.pickle', 'wb') as file:\n",
    "    pickle.dump(corpus_stopwords, file)"
   ]
  },
  {
   "cell_type": "code",
   "execution_count": 74,
   "metadata": {
    "id": "YvFlzDn0zuUB"
   },
   "outputs": [],
   "source": [
    "combined_stopwords = common_stopwords.union(corpus_stopwords)"
   ]
  },
  {
   "cell_type": "code",
   "execution_count": 75,
   "metadata": {},
   "outputs": [],
   "source": [
    "with open('../../processed_files/stopwords/webis_combined_stopwords.pickle', 'wb') as file:\n",
    "    pickle.dump(combined_stopwords, file)"
   ]
  },
  {
   "cell_type": "code",
   "execution_count": null,
   "metadata": {},
   "outputs": [],
   "source": []
  }
 ],
 "metadata": {
  "colab": {
   "collapsed_sections": [],
   "name": "MastersProject.ipynb",
   "provenance": []
  },
  "kernelspec": {
   "display_name": "Python 3",
   "language": "python",
   "name": "python3"
  },
  "language_info": {
   "codemirror_mode": {
    "name": "ipython",
    "version": 3
   },
   "file_extension": ".py",
   "mimetype": "text/x-python",
   "name": "python",
   "nbconvert_exporter": "python",
   "pygments_lexer": "ipython3",
   "version": "3.7.1"
  }
 },
 "nbformat": 4,
 "nbformat_minor": 1
}
