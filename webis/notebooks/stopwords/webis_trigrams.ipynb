{
 "cells": [
  {
   "cell_type": "code",
   "execution_count": 1,
   "metadata": {},
   "outputs": [
    {
     "data": {
      "text/html": [
       "<style>.container { width:95% !important; }</style>"
      ],
      "text/plain": [
       "<IPython.core.display.HTML object>"
      ]
     },
     "metadata": {},
     "output_type": "display_data"
    }
   ],
   "source": [
    "from IPython.core.display import display, HTML\n",
    "display(HTML(\"<style>.container { width:95% !important; }</style>\"))"
   ]
  },
  {
   "cell_type": "markdown",
   "metadata": {
    "id": "FYVUGSFLf_qE"
   },
   "source": [
    "## Libraries and Filesystem Setup"
   ]
  },
  {
   "cell_type": "code",
   "execution_count": 2,
   "metadata": {
    "colab": {
     "base_uri": "https://localhost:8080/"
    },
    "id": "uqRQxTVbf39P",
    "outputId": "aecc64fb-dc6f-4d45-f5a3-98ec0b70cbfe"
   },
   "outputs": [
    {
     "name": "stderr",
     "output_type": "stream",
     "text": [
      "[nltk_data] Downloading package punkt to /Users/dkarsann/nltk_data...\n",
      "[nltk_data]   Package punkt is already up-to-date!\n",
      "[nltk_data] Downloading package stopwords to\n",
      "[nltk_data]     /Users/dkarsann/nltk_data...\n",
      "[nltk_data]   Package stopwords is already up-to-date!\n"
     ]
    }
   ],
   "source": [
    "import nltk\n",
    "nltk.download('punkt')\n",
    "nltk.download('stopwords')\n",
    "from nltk.tokenize import sent_tokenize, word_tokenize \n",
    "import pandas as pd\n",
    "from collections import Counter\n",
    "import string\n",
    "import pickle"
   ]
  },
  {
   "cell_type": "markdown",
   "metadata": {
    "id": "QQ6l1wSdkgzb"
   },
   "source": [
    "## Parsing and Processing Content"
   ]
  },
  {
   "cell_type": "code",
   "execution_count": 3,
   "metadata": {
    "id": "YzpdheaVXAp0"
   },
   "outputs": [],
   "source": [
    "df_2 = pd.read_csv('../../processed_files/webis/webis.csv')"
   ]
  },
  {
   "cell_type": "code",
   "execution_count": 4,
   "metadata": {},
   "outputs": [
    {
     "data": {
      "text/html": [
       "<div>\n",
       "<style scoped>\n",
       "    .dataframe tbody tr th:only-of-type {\n",
       "        vertical-align: middle;\n",
       "    }\n",
       "\n",
       "    .dataframe tbody tr th {\n",
       "        vertical-align: top;\n",
       "    }\n",
       "\n",
       "    .dataframe thead th {\n",
       "        text-align: right;\n",
       "    }\n",
       "</style>\n",
       "<table border=\"1\" class=\"dataframe\">\n",
       "  <thead>\n",
       "    <tr style=\"text-align: right;\">\n",
       "      <th></th>\n",
       "      <th>file_number</th>\n",
       "      <th>file_type</th>\n",
       "      <th>filename</th>\n",
       "      <th>text</th>\n",
       "      <th>paraphrase</th>\n",
       "      <th>RAW_CONTENT_TRIGRAM</th>\n",
       "    </tr>\n",
       "  </thead>\n",
       "  <tbody>\n",
       "    <tr>\n",
       "      <th>0</th>\n",
       "      <td>1</td>\n",
       "      <td>original.txt</td>\n",
       "      <td>1-original.txt</td>\n",
       "      <td>M. Comte would not advise so irrational a proc...</td>\n",
       "      <td>True</td>\n",
       "      <td>[m. comte would, comte would not, would not ad...</td>\n",
       "    </tr>\n",
       "    <tr>\n",
       "      <th>1</th>\n",
       "      <td>1</td>\n",
       "      <td>paraphrase.txt</td>\n",
       "      <td>1-paraphrase.txt</td>\n",
       "      <td>Even M. Comte would spurn such irrational reas...</td>\n",
       "      <td>True</td>\n",
       "      <td>[even m. comte, m. comte would, comte would sp...</td>\n",
       "    </tr>\n",
       "    <tr>\n",
       "      <th>2</th>\n",
       "      <td>10</td>\n",
       "      <td>original.txt</td>\n",
       "      <td>10-original.txt</td>\n",
       "      <td>Picture illustrating the shortest and easiest ...</td>\n",
       "      <td>True</td>\n",
       "      <td>[picture illustrating the, illustrating the sh...</td>\n",
       "    </tr>\n",
       "    <tr>\n",
       "      <th>3</th>\n",
       "      <td>10</td>\n",
       "      <td>paraphrase.txt</td>\n",
       "      <td>10-paraphrase.txt</td>\n",
       "      <td>This picture exemplifies the straight and easi...</td>\n",
       "      <td>True</td>\n",
       "      <td>[this picture exemplifies, picture exemplifies...</td>\n",
       "    </tr>\n",
       "    <tr>\n",
       "      <th>4</th>\n",
       "      <td>100</td>\n",
       "      <td>original.txt</td>\n",
       "      <td>100-original.txt</td>\n",
       "      <td>Thad, of course. And, Bill, we're going to get...</td>\n",
       "      <td>True</td>\n",
       "      <td>[thad, of course., of course. and,, course. an...</td>\n",
       "    </tr>\n",
       "  </tbody>\n",
       "</table>\n",
       "</div>"
      ],
      "text/plain": [
       "   file_number       file_type           filename  \\\n",
       "0            1    original.txt     1-original.txt   \n",
       "1            1  paraphrase.txt   1-paraphrase.txt   \n",
       "2           10    original.txt    10-original.txt   \n",
       "3           10  paraphrase.txt  10-paraphrase.txt   \n",
       "4          100    original.txt   100-original.txt   \n",
       "\n",
       "                                                text  paraphrase  \\\n",
       "0  M. Comte would not advise so irrational a proc...        True   \n",
       "1  Even M. Comte would spurn such irrational reas...        True   \n",
       "2  Picture illustrating the shortest and easiest ...        True   \n",
       "3  This picture exemplifies the straight and easi...        True   \n",
       "4  Thad, of course. And, Bill, we're going to get...        True   \n",
       "\n",
       "                                 RAW_CONTENT_TRIGRAM  \n",
       "0  [m. comte would, comte would not, would not ad...  \n",
       "1  [even m. comte, m. comte would, comte would sp...  \n",
       "2  [picture illustrating the, illustrating the sh...  \n",
       "3  [this picture exemplifies, picture exemplifies...  \n",
       "4  [thad, of course., of course. and,, course. an...  "
      ]
     },
     "execution_count": 4,
     "metadata": {},
     "output_type": "execute_result"
    }
   ],
   "source": [
    "df_2['RAW_CONTENT_TRIGRAM'] = df_2['text'].apply(lambda row: [' '.join(phrase) for phrase in nltk.trigrams(row.lower().split())])\n",
    "df_2.head()"
   ]
  },
  {
   "cell_type": "code",
   "execution_count": 5,
   "metadata": {
    "colab": {
     "base_uri": "https://localhost:8080/"
    },
    "id": "eWqHlxMGXDtV",
    "outputId": "578fdb3e-5e28-4799-ddc8-7d6e6217f62a"
   },
   "outputs": [
    {
     "name": "stdout",
     "output_type": "stream",
     "text": [
      "!\"#$%&'()*+,-./:;<=>?@[\\]^_`{|}~\n"
     ]
    }
   ],
   "source": [
    "print(string.punctuation)\n",
    "table = str.maketrans('', '', string.punctuation)"
   ]
  },
  {
   "cell_type": "code",
   "execution_count": 6,
   "metadata": {
    "colab": {
     "base_uri": "https://localhost:8080/"
    },
    "id": "7WVtrfGVXHFO",
    "outputId": "060fbe22-6607-4f6f-a843-93e240934abc"
   },
   "outputs": [
    {
     "data": {
      "text/plain": [
       "['m comte would',\n",
       " 'comte would not',\n",
       " 'would not advise',\n",
       " 'not advise so',\n",
       " 'advise so irrational',\n",
       " 'so irrational a',\n",
       " 'irrational a proceeding',\n",
       " 'a proceeding but',\n",
       " 'proceeding but m',\n",
       " 'but m comte']"
      ]
     },
     "execution_count": 6,
     "metadata": {},
     "output_type": "execute_result"
    }
   ],
   "source": [
    "df_2_trigram_tokens = [item for sublist in df_2['RAW_CONTENT_TRIGRAM'].values for item in sublist]\n",
    "df_2_trigram_tokens_stripped = [w.translate(table) for w in df_2_trigram_tokens]\n",
    "df_2_trigram_tokens_stripped = [phrase.strip() for phrase in df_2_trigram_tokens_stripped if len(phrase.strip().split()) == 3]\n",
    "df_2_trigram_tokens_stripped[:10]"
   ]
  },
  {
   "cell_type": "markdown",
   "metadata": {
    "id": "OUcaluylk4xW"
   },
   "source": [
    "## StopPhrases"
   ]
  },
  {
   "cell_type": "code",
   "execution_count": 7,
   "metadata": {
    "scrolled": true
   },
   "outputs": [
    {
     "data": {
      "text/plain": [
       "[('one of the', 1933),\n",
       " ('as well as', 1025),\n",
       " ('part of the', 911),\n",
       " ('it is not', 848),\n",
       " ('there is a', 778),\n",
       " ('there is no', 743),\n",
       " ('some of the', 692),\n",
       " ('it is a', 672),\n",
       " ('the end of', 632),\n",
       " ('of the most', 608),\n",
       " ('i do not', 607),\n",
       " ('and it is', 596),\n",
       " ('out of the', 588),\n",
       " ('and in the', 565),\n",
       " ('the name of', 561),\n",
       " ('in order to', 555),\n",
       " ('to have been', 540),\n",
       " ('to be a', 532),\n",
       " ('it would be', 527),\n",
       " ('it may be', 520),\n",
       " ('in the same', 517),\n",
       " ('that it was', 481),\n",
       " ('that it is', 480),\n",
       " ('that he was', 479),\n",
       " ('it was a', 479),\n",
       " ('the use of', 477),\n",
       " ('side of the', 476),\n",
       " ('it is the', 475),\n",
       " ('it will be', 470),\n",
       " ('on the other', 463),\n",
       " ('but it is', 457),\n",
       " ('at the same', 456),\n",
       " ('would have been', 449),\n",
       " ('the fact that', 448),\n",
       " ('the united states', 446),\n",
       " ('of the same', 445),\n",
       " ('in the world', 442),\n",
       " ('there was a', 441),\n",
       " ('the same time', 433),\n",
       " ('is to be', 421),\n",
       " ('in which the', 420),\n",
       " ('as soon as', 419),\n",
       " ('to be the', 412),\n",
       " ('he did not', 400),\n",
       " ('end of the', 400),\n",
       " ('that he had', 389),\n",
       " ('as to the', 386),\n",
       " ('of the world', 381),\n",
       " ('of all the', 370),\n",
       " ('and it was', 370),\n",
       " ('account of the', 368),\n",
       " ('not to be', 368),\n",
       " ('a number of', 366),\n",
       " ('the duke of', 366),\n",
       " ('he was a', 364),\n",
       " ('that of the', 355),\n",
       " ('as far as', 354),\n",
       " ('this is the', 350),\n",
       " ('the history of', 348),\n",
       " ('in the first', 346),\n",
       " ('according to the', 345),\n",
       " ('it has been', 340),\n",
       " ('the time of', 339),\n",
       " ('it was not', 339),\n",
       " ('at the end', 337),\n",
       " ('he had been', 328),\n",
       " ('it was the', 326),\n",
       " ('of the first', 325),\n",
       " ('and that the', 322),\n",
       " ('the number of', 321),\n",
       " ('the death of', 320),\n",
       " ('be able to', 320),\n",
       " ('of the people', 319),\n",
       " ('at the time', 317),\n",
       " ('the form of', 305),\n",
       " ('of the house', 304),\n",
       " ('of the old', 304),\n",
       " ('of the great', 303),\n",
       " ('in front of', 301),\n",
       " ('there was no', 299),\n",
       " ('the rest of', 296),\n",
       " ('we do not', 296),\n",
       " ('as it is', 296),\n",
       " ('the house of', 293),\n",
       " ('and on the', 292),\n",
       " ('of his own', 289),\n",
       " ('this is a', 287),\n",
       " ('the spirit of', 287),\n",
       " ('i did not', 287),\n",
       " ('the middle of', 285),\n",
       " ('was in the', 285),\n",
       " ('the course of', 283),\n",
       " ('portion of the', 279),\n",
       " ('a kind of', 279),\n",
       " ('in the middle', 278),\n",
       " ('so as to', 278),\n",
       " ('most of the', 278),\n",
       " ('must have been', 277),\n",
       " ('more or less', 275),\n",
       " ('and of the', 271),\n",
       " ('of the country', 269),\n",
       " ('so that the', 267),\n",
       " ('of the church', 266),\n",
       " ('is one of', 266),\n",
       " ('of the city', 264),\n",
       " ('of the two', 260),\n",
       " ('that in the', 257),\n",
       " ('two or three', 253),\n",
       " ('are to be', 252),\n",
       " ('to make the', 251),\n",
       " ('to be found', 251),\n",
       " ('that they were', 249),\n",
       " ('which he had', 248),\n",
       " ('in spite of', 245),\n",
       " ('but it was', 245),\n",
       " ('one of them', 244),\n",
       " ('in the case', 243),\n",
       " ('i am not', 243),\n",
       " ('is in the', 243),\n",
       " ('use of the', 240),\n",
       " ('was to be', 239),\n",
       " ('the nature of', 239),\n",
       " ('the work of', 239),\n",
       " ('the other hand', 238),\n",
       " ('will not be', 238),\n",
       " ('i could not', 238),\n",
       " ('it is said', 238),\n",
       " ('a piece of', 238),\n",
       " ('in the morning', 234),\n",
       " ('as it was', 233),\n",
       " ('on the subject', 233),\n",
       " ('for a moment', 233),\n",
       " ('the case of', 233),\n",
       " ('by means of', 232),\n",
       " ('history of the', 232),\n",
       " ('members of the', 232),\n",
       " ('and the other', 231),\n",
       " ('on account of', 231),\n",
       " ('a man of', 231),\n",
       " ('of the united', 230),\n",
       " ('parts of the', 230),\n",
       " ('ought to be', 228),\n",
       " ('up to the', 227),\n",
       " ('the people of', 226),\n",
       " ('the head of', 226),\n",
       " ('a lot of', 225),\n",
       " ('a sort of', 223),\n",
       " ('he could not', 222),\n",
       " ('the bottom of', 222),\n",
       " ('to go to', 222)]"
      ]
     },
     "execution_count": 7,
     "metadata": {},
     "output_type": "execute_result"
    }
   ],
   "source": [
    "counts_trigrams = Counter(df_2_trigram_tokens_stripped)\n",
    "counts_trigrams.most_common(150)"
   ]
  },
  {
   "cell_type": "markdown",
   "metadata": {},
   "source": [
    "## Heaps' Law Trigrams"
   ]
  },
  {
   "cell_type": "code",
   "execution_count": 8,
   "metadata": {},
   "outputs": [
    {
     "data": {
      "text/html": [
       "<div>\n",
       "<style scoped>\n",
       "    .dataframe tbody tr th:only-of-type {\n",
       "        vertical-align: middle;\n",
       "    }\n",
       "\n",
       "    .dataframe tbody tr th {\n",
       "        vertical-align: top;\n",
       "    }\n",
       "\n",
       "    .dataframe thead th {\n",
       "        text-align: right;\n",
       "    }\n",
       "</style>\n",
       "<table border=\"1\" class=\"dataframe\">\n",
       "  <thead>\n",
       "    <tr style=\"text-align: right;\">\n",
       "      <th></th>\n",
       "      <th>file_number</th>\n",
       "      <th>file_type</th>\n",
       "      <th>filename</th>\n",
       "      <th>text</th>\n",
       "      <th>paraphrase</th>\n",
       "      <th>RAW_CONTENT_TRIGRAM</th>\n",
       "    </tr>\n",
       "  </thead>\n",
       "  <tbody>\n",
       "    <tr>\n",
       "      <th>0</th>\n",
       "      <td>1</td>\n",
       "      <td>original.txt</td>\n",
       "      <td>1-original.txt</td>\n",
       "      <td>M. Comte would not advise so irrational a proc...</td>\n",
       "      <td>True</td>\n",
       "      <td>[m. comte would, comte would not, would not ad...</td>\n",
       "    </tr>\n",
       "    <tr>\n",
       "      <th>1</th>\n",
       "      <td>1</td>\n",
       "      <td>paraphrase.txt</td>\n",
       "      <td>1-paraphrase.txt</td>\n",
       "      <td>Even M. Comte would spurn such irrational reas...</td>\n",
       "      <td>True</td>\n",
       "      <td>[even m. comte, m. comte would, comte would sp...</td>\n",
       "    </tr>\n",
       "    <tr>\n",
       "      <th>2</th>\n",
       "      <td>10</td>\n",
       "      <td>original.txt</td>\n",
       "      <td>10-original.txt</td>\n",
       "      <td>Picture illustrating the shortest and easiest ...</td>\n",
       "      <td>True</td>\n",
       "      <td>[picture illustrating the, illustrating the sh...</td>\n",
       "    </tr>\n",
       "    <tr>\n",
       "      <th>3</th>\n",
       "      <td>10</td>\n",
       "      <td>paraphrase.txt</td>\n",
       "      <td>10-paraphrase.txt</td>\n",
       "      <td>This picture exemplifies the straight and easi...</td>\n",
       "      <td>True</td>\n",
       "      <td>[this picture exemplifies, picture exemplifies...</td>\n",
       "    </tr>\n",
       "    <tr>\n",
       "      <th>4</th>\n",
       "      <td>100</td>\n",
       "      <td>original.txt</td>\n",
       "      <td>100-original.txt</td>\n",
       "      <td>Thad, of course. And, Bill, we're going to get...</td>\n",
       "      <td>True</td>\n",
       "      <td>[thad, of course., of course. and,, course. an...</td>\n",
       "    </tr>\n",
       "  </tbody>\n",
       "</table>\n",
       "</div>"
      ],
      "text/plain": [
       "   file_number       file_type           filename  \\\n",
       "0            1    original.txt     1-original.txt   \n",
       "1            1  paraphrase.txt   1-paraphrase.txt   \n",
       "2           10    original.txt    10-original.txt   \n",
       "3           10  paraphrase.txt  10-paraphrase.txt   \n",
       "4          100    original.txt   100-original.txt   \n",
       "\n",
       "                                                text  paraphrase  \\\n",
       "0  M. Comte would not advise so irrational a proc...        True   \n",
       "1  Even M. Comte would spurn such irrational reas...        True   \n",
       "2  Picture illustrating the shortest and easiest ...        True   \n",
       "3  This picture exemplifies the straight and easi...        True   \n",
       "4  Thad, of course. And, Bill, we're going to get...        True   \n",
       "\n",
       "                                 RAW_CONTENT_TRIGRAM  \n",
       "0  [m. comte would, comte would not, would not ad...  \n",
       "1  [even m. comte, m. comte would, comte would sp...  \n",
       "2  [picture illustrating the, illustrating the sh...  \n",
       "3  [this picture exemplifies, picture exemplifies...  \n",
       "4  [thad, of course., of course. and,, course. an...  "
      ]
     },
     "execution_count": 8,
     "metadata": {},
     "output_type": "execute_result"
    }
   ],
   "source": [
    "df_2.head()"
   ]
  },
  {
   "cell_type": "code",
   "execution_count": 9,
   "metadata": {},
   "outputs": [
    {
     "data": {
      "text/html": [
       "<div>\n",
       "<style scoped>\n",
       "    .dataframe tbody tr th:only-of-type {\n",
       "        vertical-align: middle;\n",
       "    }\n",
       "\n",
       "    .dataframe tbody tr th {\n",
       "        vertical-align: top;\n",
       "    }\n",
       "\n",
       "    .dataframe thead th {\n",
       "        text-align: right;\n",
       "    }\n",
       "</style>\n",
       "<table border=\"1\" class=\"dataframe\">\n",
       "  <thead>\n",
       "    <tr style=\"text-align: right;\">\n",
       "      <th></th>\n",
       "      <th>file_number</th>\n",
       "      <th>file_type</th>\n",
       "      <th>filename</th>\n",
       "      <th>text</th>\n",
       "      <th>paraphrase</th>\n",
       "      <th>RAW_CONTENT_TRIGRAM</th>\n",
       "    </tr>\n",
       "  </thead>\n",
       "  <tbody>\n",
       "    <tr>\n",
       "      <th>0</th>\n",
       "      <td>1</td>\n",
       "      <td>original.txt</td>\n",
       "      <td>1-original.txt</td>\n",
       "      <td>M. Comte would not advise so irrational a proc...</td>\n",
       "      <td>True</td>\n",
       "      <td>[m. comte would, comte would not, would not ad...</td>\n",
       "    </tr>\n",
       "    <tr>\n",
       "      <th>1</th>\n",
       "      <td>1</td>\n",
       "      <td>paraphrase.txt</td>\n",
       "      <td>1-paraphrase.txt</td>\n",
       "      <td>Even M. Comte would spurn such irrational reas...</td>\n",
       "      <td>True</td>\n",
       "      <td>[even m. comte, m. comte would, comte would sp...</td>\n",
       "    </tr>\n",
       "    <tr>\n",
       "      <th>2</th>\n",
       "      <td>10</td>\n",
       "      <td>original.txt</td>\n",
       "      <td>10-original.txt</td>\n",
       "      <td>Picture illustrating the shortest and easiest ...</td>\n",
       "      <td>True</td>\n",
       "      <td>[picture illustrating the, illustrating the sh...</td>\n",
       "    </tr>\n",
       "    <tr>\n",
       "      <th>3</th>\n",
       "      <td>10</td>\n",
       "      <td>paraphrase.txt</td>\n",
       "      <td>10-paraphrase.txt</td>\n",
       "      <td>This picture exemplifies the straight and easi...</td>\n",
       "      <td>True</td>\n",
       "      <td>[this picture exemplifies, picture exemplifies...</td>\n",
       "    </tr>\n",
       "    <tr>\n",
       "      <th>4</th>\n",
       "      <td>100</td>\n",
       "      <td>original.txt</td>\n",
       "      <td>100-original.txt</td>\n",
       "      <td>Thad, of course. And, Bill, we're going to get...</td>\n",
       "      <td>True</td>\n",
       "      <td>[thad, of course., of course. and,, course. an...</td>\n",
       "    </tr>\n",
       "  </tbody>\n",
       "</table>\n",
       "</div>"
      ],
      "text/plain": [
       "   file_number       file_type           filename  \\\n",
       "0            1    original.txt     1-original.txt   \n",
       "1            1  paraphrase.txt   1-paraphrase.txt   \n",
       "2           10    original.txt    10-original.txt   \n",
       "3           10  paraphrase.txt  10-paraphrase.txt   \n",
       "4          100    original.txt   100-original.txt   \n",
       "\n",
       "                                                text  paraphrase  \\\n",
       "0  M. Comte would not advise so irrational a proc...        True   \n",
       "1  Even M. Comte would spurn such irrational reas...        True   \n",
       "2  Picture illustrating the shortest and easiest ...        True   \n",
       "3  This picture exemplifies the straight and easi...        True   \n",
       "4  Thad, of course. And, Bill, we're going to get...        True   \n",
       "\n",
       "                                 RAW_CONTENT_TRIGRAM  \n",
       "0  [m. comte would, comte would not, would not ad...  \n",
       "1  [even m. comte, m. comte would, comte would sp...  \n",
       "2  [picture illustrating the, illustrating the sh...  \n",
       "3  [this picture exemplifies, picture exemplifies...  \n",
       "4  [thad, of course., of course. and,, course. an...  "
      ]
     },
     "execution_count": 9,
     "metadata": {},
     "output_type": "execute_result"
    }
   ],
   "source": [
    "df_2_new = df_2.reset_index()\n",
    "df_2_new = df_2_new.drop(columns=['index'])\n",
    "df_2_new.head()"
   ]
  },
  {
   "cell_type": "code",
   "execution_count": 10,
   "metadata": {},
   "outputs": [],
   "source": [
    "# number of documents processed, number of unique \n",
    "num_docs_num_unique = [(0,0)]\n",
    "unique = set()\n",
    "for index,row in df_2_new.iterrows():\n",
    "    unique.update(row['RAW_CONTENT_TRIGRAM'])\n",
    "    num_docs = index + 1\n",
    "    num_unique = len(unique)\n",
    "    num_docs_num_unique.append((num_docs, num_unique))"
   ]
  },
  {
   "cell_type": "code",
   "execution_count": 11,
   "metadata": {},
   "outputs": [
    {
     "data": {
      "image/png": "[encoded data removed]",
      "text/plain": [
       "<Figure size 432x288 with 1 Axes>"
      ]
     },
     "metadata": {
      "needs_background": "light"
     },
     "output_type": "display_data"
    }
   ],
   "source": [
    "import matplotlib.pyplot as plt\n",
    "%matplotlib inline\n",
    "\n",
    "x, y = zip(*num_docs_num_unique)\n",
    "plt.scatter(x, y)\n",
    "plt.show()"
   ]
  },
  {
   "cell_type": "code",
   "execution_count": 12,
   "metadata": {},
   "outputs": [],
   "source": [
    "most_to_least = sorted(counts_trigrams.items(), key=lambda item: item[1], reverse=True)\n",
    "most_to_least_trigrams = []\n",
    "for index, item in enumerate(most_to_least):\n",
    "    most_to_least_trigrams.append((index, item[1]))"
   ]
  },
  {
   "cell_type": "code",
   "execution_count": 13,
   "metadata": {},
   "outputs": [
    {
     "data": {
      "image/png": "[encoded data removed]",
      "text/plain": [
       "<Figure size 432x288 with 1 Axes>"
      ]
     },
     "metadata": {
      "needs_background": "light"
     },
     "output_type": "display_data"
    }
   ],
   "source": [
    "x, y = zip(*most_to_least_trigrams)\n",
    "plt.scatter(x, y)\n",
    "plt.show()"
   ]
  },
  {
   "cell_type": "markdown",
   "metadata": {},
   "source": [
    "## Zipf's Law Trigrams"
   ]
  },
  {
   "cell_type": "code",
   "execution_count": 14,
   "metadata": {},
   "outputs": [],
   "source": [
    "most_to_least_2 = sorted(counts_trigrams.items(), key=lambda item: item[1], reverse=True)\n",
    "most_to_least_trigrams_2 = []\n",
    "for index, item in enumerate(most_to_least):\n",
    "    if index < 0:\n",
    "        continue\n",
    "    if index >= 400:\n",
    "        break\n",
    "    most_to_least_trigrams_2.append((index, item[1]))"
   ]
  },
  {
   "cell_type": "code",
   "execution_count": 15,
   "metadata": {},
   "outputs": [
    {
     "data": {
      "image/png": "[encoded data removed]",
      "text/plain": [
       "<Figure size 432x288 with 1 Axes>"
      ]
     },
     "metadata": {
      "needs_background": "light"
     },
     "output_type": "display_data"
    }
   ],
   "source": [
    "x2, y2 = zip(*most_to_least_trigrams_2)\n",
    "plt.scatter(x2, y2)\n",
    "plt.show()"
   ]
  },
  {
   "cell_type": "code",
   "execution_count": 16,
   "metadata": {},
   "outputs": [
    {
     "data": {
      "text/plain": [
       "[(0, 1933),\n",
       " (1, 1025),\n",
       " (2, 911),\n",
       " (3, 848),\n",
       " (4, 778),\n",
       " (5, 743),\n",
       " (6, 692),\n",
       " (7, 672),\n",
       " (8, 632),\n",
       " (9, 608),\n",
       " (10, 607),\n",
       " (11, 596),\n",
       " (12, 588),\n",
       " (13, 565),\n",
       " (14, 561),\n",
       " (15, 555),\n",
       " (16, 540),\n",
       " (17, 532),\n",
       " (18, 527),\n",
       " (19, 520),\n",
       " (20, 517),\n",
       " (21, 481),\n",
       " (22, 480),\n",
       " (23, 479),\n",
       " (24, 479),\n",
       " (25, 477),\n",
       " (26, 476),\n",
       " (27, 475),\n",
       " (28, 470),\n",
       " (29, 463)]"
      ]
     },
     "execution_count": 16,
     "metadata": {},
     "output_type": "execute_result"
    }
   ],
   "source": [
    "most_to_least_trigrams_2[:30]"
   ]
  },
  {
   "cell_type": "markdown",
   "metadata": {
    "id": "LslkDlvVxvBu"
   },
   "source": [
    "## Stop Phrase lists"
   ]
  },
  {
   "cell_type": "code",
   "execution_count": 17,
   "metadata": {
    "id": "YvFlzDn0zuUB"
   },
   "outputs": [],
   "source": [
    "corpus_trigrams = set([i[0] for i in counts_trigrams.most_common(30)])"
   ]
  },
  {
   "cell_type": "code",
   "execution_count": 18,
   "metadata": {},
   "outputs": [],
   "source": [
    "with open('../../processed_files/stopwords/webis_corpus_trigrams.pickle', 'wb') as file:\n",
    "    pickle.dump(corpus_trigrams, file)"
   ]
  },
  {
   "cell_type": "code",
   "execution_count": null,
   "metadata": {},
   "outputs": [],
   "source": []
  }
 ],
 "metadata": {
  "colab": {
   "collapsed_sections": [],
   "name": "MastersProject.ipynb",
   "provenance": []
  },
  "kernelspec": {
   "display_name": "Python 3",
   "language": "python",
   "name": "python3"
  },
  "language_info": {
   "codemirror_mode": {
    "name": "ipython",
    "version": 3
   },
   "file_extension": ".py",
   "mimetype": "text/x-python",
   "name": "python",
   "nbconvert_exporter": "python",
   "pygments_lexer": "ipython3",
   "version": "3.7.1"
  }
 },
 "nbformat": 4,
 "nbformat_minor": 1
}
