{
 "cells": [
  {
   "cell_type": "code",
   "execution_count": 1,
   "metadata": {},
   "outputs": [
    {
     "data": {
      "text/html": [
       "<style>.container { width:95% !important; }</style>"
      ],
      "text/plain": [
       "<IPython.core.display.HTML object>"
      ]
     },
     "metadata": {},
     "output_type": "display_data"
    }
   ],
   "source": [
    "from IPython.core.display import display, HTML\n",
    "display(HTML(\"<style>.container { width:95% !important; }</style>\"))"
   ]
  },
  {
   "cell_type": "markdown",
   "metadata": {
    "id": "FYVUGSFLf_qE"
   },
   "source": [
    "## Libraries and Filesystem Setup"
   ]
  },
  {
   "cell_type": "code",
   "execution_count": 2,
   "metadata": {
    "colab": {
     "base_uri": "https://localhost:8080/"
    },
    "id": "uqRQxTVbf39P",
    "outputId": "aecc64fb-dc6f-4d45-f5a3-98ec0b70cbfe"
   },
   "outputs": [],
   "source": [
    "import pandas as pd\n",
    "import pickle\n",
    "import numpy as np\n",
    "import matplotlib.pyplot as plt\n",
    "import scipy.sparse\n",
    "import scipy"
   ]
  },
  {
   "cell_type": "markdown",
   "metadata": {},
   "source": [
    "### Import LDA document vectors"
   ]
  },
  {
   "cell_type": "code",
   "execution_count": 4,
   "metadata": {},
   "outputs": [],
   "source": [
    "tfidf_matrix = scipy.sparse.load_npz('../../processed_files/tfidf/tfidf_matrix.npz')\n",
    "df = pickle.load(open(\"../../processed_files/webis/df.pickle\", \"rb\"))"
   ]
  },
  {
   "cell_type": "code",
   "execution_count": 5,
   "metadata": {},
   "outputs": [
    {
     "data": {
      "text/plain": [
       "(15718, 80513)"
      ]
     },
     "execution_count": 5,
     "metadata": {},
     "output_type": "execute_result"
    }
   ],
   "source": [
    "tfidf_matrix.shape"
   ]
  },
  {
   "cell_type": "code",
   "execution_count": 6,
   "metadata": {},
   "outputs": [
    {
     "data": {
      "text/html": [
       "<div>\n",
       "<style scoped>\n",
       "    .dataframe tbody tr th:only-of-type {\n",
       "        vertical-align: middle;\n",
       "    }\n",
       "\n",
       "    .dataframe tbody tr th {\n",
       "        vertical-align: top;\n",
       "    }\n",
       "\n",
       "    .dataframe thead th {\n",
       "        text-align: right;\n",
       "    }\n",
       "</style>\n",
       "<table border=\"1\" class=\"dataframe\">\n",
       "  <thead>\n",
       "    <tr style=\"text-align: right;\">\n",
       "      <th></th>\n",
       "      <th>file_number</th>\n",
       "      <th>file_type</th>\n",
       "      <th>filename</th>\n",
       "      <th>text</th>\n",
       "      <th>paraphrase</th>\n",
       "      <th>text_processed</th>\n",
       "      <th>text_processed_stemmed</th>\n",
       "    </tr>\n",
       "  </thead>\n",
       "  <tbody>\n",
       "    <tr>\n",
       "      <th>0</th>\n",
       "      <td>1</td>\n",
       "      <td>original.txt</td>\n",
       "      <td>1-original.txt</td>\n",
       "      <td>M. Comte would not advise so irrational a proc...</td>\n",
       "      <td>True</td>\n",
       "      <td>[comte, would, advise, irrational, proceeding,...</td>\n",
       "      <td>[m. comte would not advise so irrational a pro...</td>\n",
       "    </tr>\n",
       "    <tr>\n",
       "      <th>1</th>\n",
       "      <td>1</td>\n",
       "      <td>paraphrase.txt</td>\n",
       "      <td>1-paraphrase.txt</td>\n",
       "      <td>Even M. Comte would spurn such irrational reas...</td>\n",
       "      <td>True</td>\n",
       "      <td>[even, comte, would, spurn, irrational, reason...</td>\n",
       "      <td>[even m. comte would spurn such irrational rea...</td>\n",
       "    </tr>\n",
       "    <tr>\n",
       "      <th>2</th>\n",
       "      <td>10</td>\n",
       "      <td>original.txt</td>\n",
       "      <td>10-original.txt</td>\n",
       "      <td>Picture illustrating the shortest and easiest ...</td>\n",
       "      <td>True</td>\n",
       "      <td>[picture, illustrating, shortest, easiest, way...</td>\n",
       "      <td>[picture illustrating the shortest and easiest...</td>\n",
       "    </tr>\n",
       "    <tr>\n",
       "      <th>3</th>\n",
       "      <td>10</td>\n",
       "      <td>paraphrase.txt</td>\n",
       "      <td>10-paraphrase.txt</td>\n",
       "      <td>This picture exemplifies the straight and easi...</td>\n",
       "      <td>True</td>\n",
       "      <td>[picture, exemplifies, straight, easiest, way,...</td>\n",
       "      <td>[this picture exemplifies the straight and eas...</td>\n",
       "    </tr>\n",
       "    <tr>\n",
       "      <th>4</th>\n",
       "      <td>100</td>\n",
       "      <td>original.txt</td>\n",
       "      <td>100-original.txt</td>\n",
       "      <td>Thad, of course. And, Bill, we're going to get...</td>\n",
       "      <td>True</td>\n",
       "      <td>[thad, course, bill, going, get, sooner, later...</td>\n",
       "      <td>[thad, of course. and, bill, we're going to ge...</td>\n",
       "    </tr>\n",
       "  </tbody>\n",
       "</table>\n",
       "</div>"
      ],
      "text/plain": [
       "   file_number       file_type           filename  \\\n",
       "0            1    original.txt     1-original.txt   \n",
       "1            1  paraphrase.txt   1-paraphrase.txt   \n",
       "2           10    original.txt    10-original.txt   \n",
       "3           10  paraphrase.txt  10-paraphrase.txt   \n",
       "4          100    original.txt   100-original.txt   \n",
       "\n",
       "                                                text  paraphrase  \\\n",
       "0  M. Comte would not advise so irrational a proc...        True   \n",
       "1  Even M. Comte would spurn such irrational reas...        True   \n",
       "2  Picture illustrating the shortest and easiest ...        True   \n",
       "3  This picture exemplifies the straight and easi...        True   \n",
       "4  Thad, of course. And, Bill, we're going to get...        True   \n",
       "\n",
       "                                      text_processed  \\\n",
       "0  [comte, would, advise, irrational, proceeding,...   \n",
       "1  [even, comte, would, spurn, irrational, reason...   \n",
       "2  [picture, illustrating, shortest, easiest, way...   \n",
       "3  [picture, exemplifies, straight, easiest, way,...   \n",
       "4  [thad, course, bill, going, get, sooner, later...   \n",
       "\n",
       "                              text_processed_stemmed  \n",
       "0  [m. comte would not advise so irrational a pro...  \n",
       "1  [even m. comte would spurn such irrational rea...  \n",
       "2  [picture illustrating the shortest and easiest...  \n",
       "3  [this picture exemplifies the straight and eas...  \n",
       "4  [thad, of course. and, bill, we're going to ge...  "
      ]
     },
     "execution_count": 6,
     "metadata": {},
     "output_type": "execute_result"
    }
   ],
   "source": [
    "df.head()"
   ]
  },
  {
   "cell_type": "code",
   "execution_count": 7,
   "metadata": {},
   "outputs": [
    {
     "data": {
      "text/plain": [
       "(15718, 7)"
      ]
     },
     "execution_count": 7,
     "metadata": {},
     "output_type": "execute_result"
    }
   ],
   "source": [
    "df.shape"
   ]
  },
  {
   "cell_type": "code",
   "execution_count": 8,
   "metadata": {},
   "outputs": [
    {
     "data": {
      "text/plain": [
       "scipy.sparse.csr.csr_matrix"
      ]
     },
     "execution_count": 8,
     "metadata": {},
     "output_type": "execute_result"
    }
   ],
   "source": [
    "type(tfidf_matrix[0])"
   ]
  },
  {
   "cell_type": "code",
   "execution_count": 9,
   "metadata": {},
   "outputs": [
    {
     "data": {
      "text/plain": [
       "matrix([[0., 0., 0., ..., 0., 0., 0.]])"
      ]
     },
     "execution_count": 9,
     "metadata": {},
     "output_type": "execute_result"
    }
   ],
   "source": [
    "np.average(tfidf_matrix[[0, 1, 2]].todense(), axis=0)"
   ]
  },
  {
   "cell_type": "markdown",
   "metadata": {},
   "source": [
    "## DB Scan"
   ]
  },
  {
   "cell_type": "code",
   "execution_count": 10,
   "metadata": {},
   "outputs": [],
   "source": [
    "from sklearn.cluster import DBSCAN"
   ]
  },
  {
   "cell_type": "code",
   "execution_count": 11,
   "metadata": {},
   "outputs": [],
   "source": [
    "# eps (default 0.5): the maximum distance between two samples for one to be considered as in the neighborhood of the other\n",
    "# min_samples (default 5): number of samples (or total weight) in a neighborhood for a point to be considered as a core point. This includes the point itself\n",
    "# algorithm (default 'auto'): ‘auto’, ‘ball_tree’, ‘kd_tree’, ‘brute’\n",
    "dbscan = DBSCAN(eps = 0.1, min_samples = 5).fit(tfidf_matrix)"
   ]
  },
  {
   "cell_type": "code",
   "execution_count": 12,
   "metadata": {},
   "outputs": [
    {
     "data": {
      "text/plain": [
       "array([-1, -1, -1, ..., -1, -1, -1])"
      ]
     },
     "execution_count": 12,
     "metadata": {},
     "output_type": "execute_result"
    }
   ],
   "source": [
    "dbscan.labels_"
   ]
  },
  {
   "cell_type": "code",
   "execution_count": 13,
   "metadata": {},
   "outputs": [
    {
     "data": {
      "text/plain": [
       "417"
      ]
     },
     "execution_count": 13,
     "metadata": {},
     "output_type": "execute_result"
    }
   ],
   "source": [
    "num_clusters = max(dbscan.labels_)\n",
    "num_clusters"
   ]
  },
  {
   "cell_type": "code",
   "execution_count": 14,
   "metadata": {},
   "outputs": [
    {
     "data": {
      "text/plain": [
       "DBSCAN(eps=0.1)"
      ]
     },
     "execution_count": 14,
     "metadata": {},
     "output_type": "execute_result"
    }
   ],
   "source": [
    "dbscan"
   ]
  },
  {
   "cell_type": "code",
   "execution_count": 16,
   "metadata": {},
   "outputs": [
    {
     "data": {
      "text/plain": [
       "-1"
      ]
     },
     "execution_count": 16,
     "metadata": {},
     "output_type": "execute_result"
    }
   ],
   "source": [
    "index_cluster = zip(range(len(dbscan.labels_)), dbscan.labels_)\n",
    "index_cluster_dict = dict(index_cluster)\n",
    "index_cluster_dict[1]"
   ]
  },
  {
   "cell_type": "code",
   "execution_count": 17,
   "metadata": {},
   "outputs": [],
   "source": [
    "cluster_index = list(zip(dbscan.labels_, range(len(dbscan.labels_))))"
   ]
  },
  {
   "cell_type": "code",
   "execution_count": 18,
   "metadata": {},
   "outputs": [],
   "source": [
    "cluster_list = dict()\n",
    "for i in range(num_clusters):\n",
    "    cluster_list[i] = list(filter(lambda row: row[0] == i, cluster_index))"
   ]
  },
  {
   "cell_type": "code",
   "execution_count": 19,
   "metadata": {},
   "outputs": [
    {
     "name": "stdout",
     "output_type": "stream",
     "text": [
      "cluster:  0 size:  335\n",
      "cluster:  1 size:  5\n",
      "cluster:  2 size:  5\n",
      "cluster:  3 size:  5\n",
      "cluster:  4 size:  5\n",
      "cluster:  5 size:  5\n",
      "cluster:  6 size:  52\n",
      "cluster:  7 size:  5\n",
      "cluster:  8 size:  5\n",
      "cluster:  9 size:  7\n",
      "cluster:  10 size:  5\n",
      "cluster:  11 size:  5\n",
      "cluster:  12 size:  5\n",
      "cluster:  13 size:  5\n",
      "cluster:  14 size:  5\n",
      "cluster:  15 size:  9\n",
      "cluster:  16 size:  5\n",
      "cluster:  17 size:  5\n",
      "cluster:  18 size:  6\n",
      "cluster:  19 size:  7\n",
      "cluster:  20 size:  8\n",
      "cluster:  21 size:  6\n",
      "cluster:  22 size:  5\n",
      "cluster:  23 size:  13\n",
      "cluster:  24 size:  7\n",
      "cluster:  25 size:  11\n",
      "cluster:  26 size:  6\n",
      "cluster:  27 size:  6\n",
      "cluster:  28 size:  8\n",
      "cluster:  29 size:  6\n",
      "cluster:  30 size:  5\n",
      "cluster:  31 size:  7\n",
      "cluster:  32 size:  5\n",
      "cluster:  33 size:  8\n",
      "cluster:  34 size:  5\n",
      "cluster:  35 size:  12\n",
      "cluster:  36 size:  7\n",
      "cluster:  37 size:  11\n",
      "cluster:  38 size:  8\n",
      "cluster:  39 size:  5\n",
      "cluster:  40 size:  6\n",
      "cluster:  41 size:  5\n",
      "cluster:  42 size:  7\n",
      "cluster:  43 size:  5\n",
      "cluster:  44 size:  9\n",
      "cluster:  45 size:  5\n",
      "cluster:  46 size:  5\n",
      "cluster:  47 size:  7\n",
      "cluster:  48 size:  7\n",
      "cluster:  49 size:  7\n",
      "cluster:  50 size:  5\n",
      "cluster:  51 size:  5\n",
      "cluster:  52 size:  7\n",
      "cluster:  53 size:  8\n",
      "cluster:  54 size:  5\n",
      "cluster:  55 size:  7\n",
      "cluster:  56 size:  6\n",
      "cluster:  57 size:  7\n",
      "cluster:  58 size:  6\n",
      "cluster:  59 size:  7\n",
      "cluster:  60 size:  5\n",
      "cluster:  61 size:  6\n",
      "cluster:  62 size:  5\n",
      "cluster:  63 size:  5\n",
      "cluster:  64 size:  6\n",
      "cluster:  65 size:  5\n",
      "cluster:  66 size:  5\n",
      "cluster:  67 size:  6\n",
      "cluster:  68 size:  6\n",
      "cluster:  69 size:  5\n",
      "cluster:  70 size:  7\n",
      "cluster:  71 size:  5\n",
      "cluster:  72 size:  8\n",
      "cluster:  73 size:  8\n",
      "cluster:  74 size:  5\n",
      "cluster:  75 size:  6\n",
      "cluster:  76 size:  5\n",
      "cluster:  77 size:  7\n",
      "cluster:  78 size:  5\n",
      "cluster:  79 size:  5\n",
      "cluster:  80 size:  10\n",
      "cluster:  81 size:  5\n",
      "cluster:  82 size:  7\n",
      "cluster:  83 size:  10\n",
      "cluster:  84 size:  9\n",
      "cluster:  85 size:  5\n",
      "cluster:  86 size:  10\n",
      "cluster:  87 size:  8\n",
      "cluster:  88 size:  6\n",
      "cluster:  89 size:  5\n",
      "cluster:  90 size:  9\n",
      "cluster:  91 size:  7\n",
      "cluster:  92 size:  5\n",
      "cluster:  93 size:  5\n",
      "cluster:  94 size:  6\n",
      "cluster:  95 size:  6\n",
      "cluster:  96 size:  9\n",
      "cluster:  97 size:  9\n",
      "cluster:  98 size:  5\n",
      "cluster:  99 size:  8\n",
      "cluster:  100 size:  7\n",
      "cluster:  101 size:  8\n",
      "cluster:  102 size:  8\n",
      "cluster:  103 size:  10\n",
      "cluster:  104 size:  6\n",
      "cluster:  105 size:  6\n",
      "cluster:  106 size:  6\n",
      "cluster:  107 size:  5\n",
      "cluster:  108 size:  6\n",
      "cluster:  109 size:  5\n",
      "cluster:  110 size:  5\n",
      "cluster:  111 size:  6\n",
      "cluster:  112 size:  5\n",
      "cluster:  113 size:  5\n",
      "cluster:  114 size:  8\n",
      "cluster:  115 size:  5\n",
      "cluster:  116 size:  5\n",
      "cluster:  117 size:  7\n",
      "cluster:  118 size:  8\n",
      "cluster:  119 size:  8\n",
      "cluster:  120 size:  8\n",
      "cluster:  121 size:  10\n",
      "cluster:  122 size:  6\n",
      "cluster:  123 size:  5\n",
      "cluster:  124 size:  9\n",
      "cluster:  125 size:  6\n",
      "cluster:  126 size:  5\n",
      "cluster:  127 size:  6\n",
      "cluster:  128 size:  6\n",
      "cluster:  129 size:  7\n",
      "cluster:  130 size:  7\n",
      "cluster:  131 size:  5\n",
      "cluster:  132 size:  7\n",
      "cluster:  133 size:  5\n",
      "cluster:  134 size:  9\n",
      "cluster:  135 size:  5\n",
      "cluster:  136 size:  6\n",
      "cluster:  137 size:  13\n",
      "cluster:  138 size:  9\n",
      "cluster:  139 size:  5\n",
      "cluster:  140 size:  6\n",
      "cluster:  141 size:  8\n",
      "cluster:  142 size:  6\n",
      "cluster:  143 size:  5\n",
      "cluster:  144 size:  9\n",
      "cluster:  145 size:  5\n",
      "cluster:  146 size:  7\n",
      "cluster:  147 size:  5\n",
      "cluster:  148 size:  5\n",
      "cluster:  149 size:  5\n",
      "cluster:  150 size:  5\n",
      "cluster:  151 size:  7\n",
      "cluster:  152 size:  5\n",
      "cluster:  153 size:  7\n",
      "cluster:  154 size:  5\n",
      "cluster:  155 size:  5\n",
      "cluster:  156 size:  6\n",
      "cluster:  157 size:  5\n",
      "cluster:  158 size:  7\n",
      "cluster:  159 size:  7\n",
      "cluster:  160 size:  5\n",
      "cluster:  161 size:  5\n",
      "cluster:  162 size:  6\n",
      "cluster:  163 size:  5\n",
      "cluster:  164 size:  7\n",
      "cluster:  165 size:  6\n",
      "cluster:  166 size:  6\n",
      "cluster:  167 size:  9\n",
      "cluster:  168 size:  5\n",
      "cluster:  169 size:  6\n",
      "cluster:  170 size:  6\n",
      "cluster:  171 size:  8\n",
      "cluster:  172 size:  7\n",
      "cluster:  173 size:  7\n",
      "cluster:  174 size:  5\n",
      "cluster:  175 size:  5\n",
      "cluster:  176 size:  6\n",
      "cluster:  177 size:  8\n",
      "cluster:  178 size:  6\n",
      "cluster:  179 size:  5\n",
      "cluster:  180 size:  5\n",
      "cluster:  181 size:  5\n",
      "cluster:  182 size:  11\n",
      "cluster:  183 size:  5\n",
      "cluster:  184 size:  5\n",
      "cluster:  185 size:  10\n",
      "cluster:  186 size:  5\n",
      "cluster:  187 size:  5\n",
      "cluster:  188 size:  12\n",
      "cluster:  189 size:  5\n",
      "cluster:  190 size:  9\n",
      "cluster:  191 size:  5\n",
      "cluster:  192 size:  6\n",
      "cluster:  193 size:  8\n",
      "cluster:  194 size:  5\n",
      "cluster:  195 size:  18\n",
      "cluster:  196 size:  5\n",
      "cluster:  197 size:  9\n",
      "cluster:  198 size:  5\n",
      "cluster:  199 size:  5\n",
      "cluster:  200 size:  11\n",
      "cluster:  201 size:  10\n",
      "cluster:  202 size:  10\n",
      "cluster:  203 size:  16\n",
      "cluster:  204 size:  6\n",
      "cluster:  205 size:  7\n",
      "cluster:  206 size:  7\n",
      "cluster:  207 size:  7\n",
      "cluster:  208 size:  5\n",
      "cluster:  209 size:  7\n",
      "cluster:  210 size:  5\n",
      "cluster:  211 size:  5\n",
      "cluster:  212 size:  8\n",
      "cluster:  213 size:  7\n",
      "cluster:  214 size:  5\n",
      "cluster:  215 size:  11\n",
      "cluster:  216 size:  7\n",
      "cluster:  217 size:  5\n",
      "cluster:  218 size:  7\n",
      "cluster:  219 size:  5\n",
      "cluster:  220 size:  13\n",
      "cluster:  221 size:  7\n",
      "cluster:  222 size:  5\n",
      "cluster:  223 size:  12\n",
      "cluster:  224 size:  7\n",
      "cluster:  225 size:  7\n",
      "cluster:  226 size:  7\n",
      "cluster:  227 size:  7\n",
      "cluster:  228 size:  5\n",
      "cluster:  229 size:  5\n",
      "cluster:  230 size:  7\n",
      "cluster:  231 size:  8\n",
      "cluster:  232 size:  8\n",
      "cluster:  233 size:  6\n",
      "cluster:  234 size:  7\n",
      "cluster:  235 size:  6\n",
      "cluster:  236 size:  10\n",
      "cluster:  237 size:  5\n",
      "cluster:  238 size:  7\n",
      "cluster:  239 size:  10\n",
      "cluster:  240 size:  10\n",
      "cluster:  241 size:  7\n",
      "cluster:  242 size:  5\n",
      "cluster:  243 size:  5\n",
      "cluster:  244 size:  5\n",
      "cluster:  245 size:  5\n",
      "cluster:  246 size:  6\n",
      "cluster:  247 size:  6\n",
      "cluster:  248 size:  5\n",
      "cluster:  249 size:  5\n",
      "cluster:  250 size:  9\n",
      "cluster:  251 size:  6\n",
      "cluster:  252 size:  6\n",
      "cluster:  253 size:  7\n",
      "cluster:  254 size:  5\n",
      "cluster:  255 size:  6\n",
      "cluster:  256 size:  6\n",
      "cluster:  257 size:  5\n",
      "cluster:  258 size:  6\n",
      "cluster:  259 size:  10\n",
      "cluster:  260 size:  7\n",
      "cluster:  261 size:  5\n",
      "cluster:  262 size:  8\n",
      "cluster:  263 size:  7\n",
      "cluster:  264 size:  7\n",
      "cluster:  265 size:  9\n",
      "cluster:  266 size:  5\n",
      "cluster:  267 size:  6\n",
      "cluster:  268 size:  10\n",
      "cluster:  269 size:  5\n",
      "cluster:  270 size:  6\n",
      "cluster:  271 size:  5\n",
      "cluster:  272 size:  6\n",
      "cluster:  273 size:  8\n",
      "cluster:  274 size:  5\n",
      "cluster:  275 size:  5\n",
      "cluster:  276 size:  7\n",
      "cluster:  277 size:  6\n",
      "cluster:  278 size:  6\n",
      "cluster:  279 size:  8\n",
      "cluster:  280 size:  6\n",
      "cluster:  281 size:  9\n",
      "cluster:  282 size:  6\n",
      "cluster:  283 size:  5\n",
      "cluster:  284 size:  7\n",
      "cluster:  285 size:  10\n",
      "cluster:  286 size:  6\n",
      "cluster:  287 size:  6\n",
      "cluster:  288 size:  5\n",
      "cluster:  289 size:  13\n",
      "cluster:  290 size:  10\n",
      "cluster:  291 size:  6\n",
      "cluster:  292 size:  8\n",
      "cluster:  293 size:  5\n",
      "cluster:  294 size:  5\n",
      "cluster:  295 size:  6\n",
      "cluster:  296 size:  9\n",
      "cluster:  297 size:  5\n",
      "cluster:  298 size:  5\n",
      "cluster:  299 size:  8\n",
      "cluster:  300 size:  6\n",
      "cluster:  301 size:  7\n",
      "cluster:  302 size:  5\n",
      "cluster:  303 size:  7\n",
      "cluster:  304 size:  11\n",
      "cluster:  305 size:  5\n",
      "cluster:  306 size:  7\n",
      "cluster:  307 size:  9\n",
      "cluster:  308 size:  5\n",
      "cluster:  309 size:  11\n",
      "cluster:  310 size:  5\n",
      "cluster:  311 size:  5\n",
      "cluster:  312 size:  7\n",
      "cluster:  313 size:  6\n",
      "cluster:  314 size:  6\n",
      "cluster:  315 size:  5\n",
      "cluster:  316 size:  6\n",
      "cluster:  317 size:  7\n",
      "cluster:  318 size:  5\n",
      "cluster:  319 size:  8\n",
      "cluster:  320 size:  6\n",
      "cluster:  321 size:  5\n",
      "cluster:  322 size:  7\n",
      "cluster:  323 size:  7\n",
      "cluster:  324 size:  5\n",
      "cluster:  325 size:  5\n",
      "cluster:  326 size:  8\n",
      "cluster:  327 size:  6\n",
      "cluster:  328 size:  5\n",
      "cluster:  329 size:  5\n",
      "cluster:  330 size:  9\n",
      "cluster:  331 size:  6\n",
      "cluster:  332 size:  6\n",
      "cluster:  333 size:  5\n",
      "cluster:  334 size:  5\n",
      "cluster:  335 size:  6\n",
      "cluster:  336 size:  9\n",
      "cluster:  337 size:  9\n",
      "cluster:  338 size:  12\n",
      "cluster:  339 size:  9\n",
      "cluster:  340 size:  5\n",
      "cluster:  341 size:  5\n",
      "cluster:  342 size:  9\n",
      "cluster:  343 size:  6\n",
      "cluster:  344 size:  5\n",
      "cluster:  345 size:  5\n",
      "cluster:  346 size:  12\n",
      "cluster:  347 size:  5\n",
      "cluster:  348 size:  7\n",
      "cluster:  349 size:  5\n",
      "cluster:  350 size:  7\n",
      "cluster:  351 size:  7\n",
      "cluster:  352 size:  6\n",
      "cluster:  353 size:  10\n",
      "cluster:  354 size:  5\n",
      "cluster:  355 size:  6\n",
      "cluster:  356 size:  5\n",
      "cluster:  357 size:  5\n",
      "cluster:  358 size:  6\n",
      "cluster:  359 size:  5\n",
      "cluster:  360 size:  7\n",
      "cluster:  361 size:  7\n",
      "cluster:  362 size:  7\n",
      "cluster:  363 size:  5\n",
      "cluster:  364 size:  5\n",
      "cluster:  365 size:  6\n",
      "cluster:  366 size:  6\n",
      "cluster:  367 size:  8\n",
      "cluster:  368 size:  6\n",
      "cluster:  369 size:  7\n",
      "cluster:  370 size:  5\n",
      "cluster:  371 size:  6\n",
      "cluster:  372 size:  6\n",
      "cluster:  373 size:  7\n",
      "cluster:  374 size:  6\n",
      "cluster:  375 size:  5\n",
      "cluster:  376 size:  5\n",
      "cluster:  377 size:  5\n",
      "cluster:  378 size:  5\n",
      "cluster:  379 size:  8\n",
      "cluster:  380 size:  8\n",
      "cluster:  381 size:  6\n",
      "cluster:  382 size:  6\n",
      "cluster:  383 size:  6\n",
      "cluster:  384 size:  6\n",
      "cluster:  385 size:  7\n",
      "cluster:  386 size:  7\n",
      "cluster:  387 size:  5\n",
      "cluster:  388 size:  6\n",
      "cluster:  389 size:  9\n",
      "cluster:  390 size:  6\n",
      "cluster:  391 size:  6\n",
      "cluster:  392 size:  6\n",
      "cluster:  393 size:  5\n",
      "cluster:  394 size:  6\n",
      "cluster:  395 size:  6\n",
      "cluster:  396 size:  5\n",
      "cluster:  397 size:  5\n",
      "cluster:  398 size:  5\n",
      "cluster:  399 size:  5\n",
      "cluster:  400 size:  5\n",
      "cluster:  401 size:  5\n",
      "cluster:  402 size:  9\n",
      "cluster:  403 size:  6\n",
      "cluster:  404 size:  7\n",
      "cluster:  405 size:  7\n",
      "cluster:  406 size:  6\n",
      "cluster:  407 size:  5\n",
      "cluster:  408 size:  10\n",
      "cluster:  409 size:  7\n",
      "cluster:  410 size:  7\n",
      "cluster:  411 size:  7\n",
      "cluster:  412 size:  7\n",
      "cluster:  413 size:  7\n",
      "cluster:  414 size:  6\n",
      "cluster:  415 size:  5\n",
      "cluster:  416 size:  6\n"
     ]
    }
   ],
   "source": [
    "for i in range(num_clusters):\n",
    "    print('cluster: ', i, 'size: ', len(cluster_list[i]))"
   ]
  },
  {
   "cell_type": "code",
   "execution_count": 20,
   "metadata": {},
   "outputs": [
    {
     "data": {
      "text/plain": [
       "335"
      ]
     },
     "execution_count": 20,
     "metadata": {},
     "output_type": "execute_result"
    }
   ],
   "source": [
    "len(cluster_list[0])"
   ]
  },
  {
   "cell_type": "code",
   "execution_count": 21,
   "metadata": {},
   "outputs": [
    {
     "data": {
      "text/plain": [
       "5"
      ]
     },
     "execution_count": 21,
     "metadata": {},
     "output_type": "execute_result"
    }
   ],
   "source": [
    "len(cluster_list[1])"
   ]
  },
  {
   "cell_type": "code",
   "execution_count": 22,
   "metadata": {},
   "outputs": [
    {
     "data": {
      "text/plain": [
       "5"
      ]
     },
     "execution_count": 22,
     "metadata": {},
     "output_type": "execute_result"
    }
   ],
   "source": [
    "len(cluster_list[2])"
   ]
  },
  {
   "cell_type": "code",
   "execution_count": 23,
   "metadata": {},
   "outputs": [
    {
     "data": {
      "text/plain": [
       "6"
      ]
     },
     "execution_count": 23,
     "metadata": {},
     "output_type": "execute_result"
    }
   ],
   "source": [
    "len(cluster_list[num_clusters-1])"
   ]
  },
  {
   "cell_type": "code",
   "execution_count": 24,
   "metadata": {},
   "outputs": [
    {
     "data": {
      "text/plain": [
       "[(1, 340), (1, 341), (1, 342), (1, 344), (1, 14688)]"
      ]
     },
     "execution_count": 24,
     "metadata": {},
     "output_type": "execute_result"
    }
   ],
   "source": [
    "cluster_list[1]"
   ]
  },
  {
   "cell_type": "code",
   "execution_count": 25,
   "metadata": {},
   "outputs": [
    {
     "data": {
      "text/plain": [
       "[109,\n",
       " 149,\n",
       " 433,\n",
       " 467,\n",
       " 537,\n",
       " 681,\n",
       " 873,\n",
       " 915,\n",
       " 2033,\n",
       " 2043,\n",
       " 2993,\n",
       " 3075,\n",
       " 3425,\n",
       " 4367,\n",
       " 4789,\n",
       " 5463,\n",
       " 5469,\n",
       " 5485,\n",
       " 6115,\n",
       " 6375,\n",
       " 7127,\n",
       " 7409,\n",
       " 7579,\n",
       " 7655,\n",
       " 7741,\n",
       " 7793,\n",
       " 7903,\n",
       " 7931,\n",
       " 7971,\n",
       " 8075,\n",
       " 8145,\n",
       " 8169,\n",
       " 8257,\n",
       " 8329,\n",
       " 8449,\n",
       " 8461,\n",
       " 8517,\n",
       " 8559,\n",
       " 8569,\n",
       " 8721,\n",
       " 9087,\n",
       " 9195,\n",
       " 9249,\n",
       " 9319,\n",
       " 9597,\n",
       " 9653,\n",
       " 9831,\n",
       " 9879,\n",
       " 9897,\n",
       " 9929,\n",
       " 9933,\n",
       " 10013,\n",
       " 10107,\n",
       " 10141,\n",
       " 10147,\n",
       " 10233,\n",
       " 10273,\n",
       " 10321,\n",
       " 10361,\n",
       " 10427,\n",
       " 10473,\n",
       " 10587,\n",
       " 10685,\n",
       " 10703,\n",
       " 10721,\n",
       " 10725,\n",
       " 10815,\n",
       " 10831,\n",
       " 11485,\n",
       " 11673,\n",
       " 11693,\n",
       " 11859,\n",
       " 12023,\n",
       " 12109,\n",
       " 12193,\n",
       " 12437,\n",
       " 12451,\n",
       " 12453,\n",
       " 12457,\n",
       " 12463,\n",
       " 12477,\n",
       " 12485,\n",
       " 12499,\n",
       " 12503,\n",
       " 12513,\n",
       " 12515,\n",
       " 12517,\n",
       " 12529,\n",
       " 12531,\n",
       " 12541,\n",
       " 12545,\n",
       " 12551,\n",
       " 12573,\n",
       " 12583,\n",
       " 12589,\n",
       " 12607,\n",
       " 12613,\n",
       " 12621,\n",
       " 12633,\n",
       " 12647,\n",
       " 12651,\n",
       " 12655,\n",
       " 12661,\n",
       " 12677,\n",
       " 12681,\n",
       " 12685,\n",
       " 12705,\n",
       " 12711,\n",
       " 12715,\n",
       " 12719,\n",
       " 12727,\n",
       " 12733,\n",
       " 12747,\n",
       " 12751,\n",
       " 12763,\n",
       " 12769,\n",
       " 12775,\n",
       " 12781,\n",
       " 12791,\n",
       " 12793,\n",
       " 12805,\n",
       " 12809,\n",
       " 12821,\n",
       " 12831,\n",
       " 12833,\n",
       " 12847,\n",
       " 12853,\n",
       " 12865,\n",
       " 12871,\n",
       " 12877,\n",
       " 12887,\n",
       " 12901,\n",
       " 12905,\n",
       " 12923,\n",
       " 12929,\n",
       " 12933,\n",
       " 12945,\n",
       " 12947,\n",
       " 12953,\n",
       " 12967,\n",
       " 12973,\n",
       " 12983,\n",
       " 12993,\n",
       " 12997,\n",
       " 13017,\n",
       " 13025,\n",
       " 13031,\n",
       " 13041,\n",
       " 13047,\n",
       " 13059,\n",
       " 13069,\n",
       " 13081,\n",
       " 13091,\n",
       " 13097,\n",
       " 13103,\n",
       " 13123,\n",
       " 13131,\n",
       " 13137,\n",
       " 13149,\n",
       " 13161,\n",
       " 13167,\n",
       " 13173,\n",
       " 13199,\n",
       " 13205,\n",
       " 13211,\n",
       " 13219,\n",
       " 13231,\n",
       " 13249,\n",
       " 13255,\n",
       " 13275,\n",
       " 13277,\n",
       " 13279,\n",
       " 13283,\n",
       " 13291,\n",
       " 13297,\n",
       " 13313,\n",
       " 13319,\n",
       " 13325,\n",
       " 13343,\n",
       " 13347,\n",
       " 13367,\n",
       " 13371,\n",
       " 13387,\n",
       " 13393,\n",
       " 13401,\n",
       " 13409,\n",
       " 13417,\n",
       " 13423,\n",
       " 13431,\n",
       " 13439,\n",
       " 13443,\n",
       " 13455,\n",
       " 13457,\n",
       " 13465,\n",
       " 13471,\n",
       " 13487,\n",
       " 13489,\n",
       " 13503,\n",
       " 13511,\n",
       " 13519,\n",
       " 13525,\n",
       " 13527,\n",
       " 13539,\n",
       " 13547,\n",
       " 13551,\n",
       " 13561,\n",
       " 13567,\n",
       " 13577,\n",
       " 13585,\n",
       " 13595,\n",
       " 13605,\n",
       " 13619,\n",
       " 13623,\n",
       " 13639,\n",
       " 13657,\n",
       " 13661,\n",
       " 13675,\n",
       " 13677,\n",
       " 13679,\n",
       " 13693,\n",
       " 13699,\n",
       " 13707,\n",
       " 13723,\n",
       " 13727,\n",
       " 13731,\n",
       " 13735,\n",
       " 13747,\n",
       " 13751,\n",
       " 13763,\n",
       " 13773,\n",
       " 13785,\n",
       " 13793,\n",
       " 13801,\n",
       " 13807,\n",
       " 13823,\n",
       " 13841,\n",
       " 13853,\n",
       " 13863,\n",
       " 13881,\n",
       " 13885,\n",
       " 13895,\n",
       " 13907,\n",
       " 13917,\n",
       " 13923,\n",
       " 13937,\n",
       " 13941,\n",
       " 13951,\n",
       " 13959,\n",
       " 13965,\n",
       " 13981,\n",
       " 13989,\n",
       " 13999,\n",
       " 14011,\n",
       " 14019,\n",
       " 14021,\n",
       " 14035,\n",
       " 14039,\n",
       " 14051,\n",
       " 14059,\n",
       " 14065,\n",
       " 14073,\n",
       " 14077,\n",
       " 14079,\n",
       " 14085,\n",
       " 14089,\n",
       " 14097,\n",
       " 14103,\n",
       " 14111,\n",
       " 14125,\n",
       " 14129,\n",
       " 14139,\n",
       " 14155,\n",
       " 14161,\n",
       " 14171,\n",
       " 14185,\n",
       " 14189,\n",
       " 14195,\n",
       " 14205,\n",
       " 14227,\n",
       " 14231,\n",
       " 14237,\n",
       " 14241,\n",
       " 14253,\n",
       " 14271,\n",
       " 14277,\n",
       " 14283,\n",
       " 14289,\n",
       " 14297,\n",
       " 14311,\n",
       " 14315,\n",
       " 14321,\n",
       " 14333,\n",
       " 14339,\n",
       " 14347,\n",
       " 14363,\n",
       " 14375,\n",
       " 14383,\n",
       " 14395,\n",
       " 14405,\n",
       " 14411,\n",
       " 14419,\n",
       " 14431,\n",
       " 14447,\n",
       " 14449,\n",
       " 14455,\n",
       " 14463,\n",
       " 14473,\n",
       " 14479,\n",
       " 14489,\n",
       " 14501,\n",
       " 14507,\n",
       " 14527,\n",
       " 14533,\n",
       " 14541,\n",
       " 14547,\n",
       " 14561,\n",
       " 14565,\n",
       " 14571,\n",
       " 14581,\n",
       " 14583,\n",
       " 14591,\n",
       " 14603,\n",
       " 14613,\n",
       " 14627,\n",
       " 14631,\n",
       " 14635,\n",
       " 14647,\n",
       " 14655,\n",
       " 14659,\n",
       " 14679,\n",
       " 14727,\n",
       " 14849,\n",
       " 15269,\n",
       " 15415,\n",
       " 15617]"
      ]
     },
     "execution_count": 25,
     "metadata": {},
     "output_type": "execute_result"
    }
   ],
   "source": [
    "[i[1] for i in cluster_list[0]]"
   ]
  },
  {
   "cell_type": "code",
   "execution_count": 26,
   "metadata": {},
   "outputs": [],
   "source": [
    "import statistics\n",
    "\n",
    "# index is cluster index\n",
    "def intracluster_similarity(index):\n",
    "    cluster_centroid = np.average(tfidf_matrix[[i[1] for i in cluster_list[index]]].todense(), axis=0)\n",
    "    dist_list = []\n",
    "    cluster = cluster_list[index]\n",
    "    for i in cluster:\n",
    "        distance = np.linalg.norm(cluster_centroid-tfidf_matrix[i[1]])\n",
    "        dist_list.append(distance)\n",
    "        \n",
    "    #avg = sum_dist/(len(indices[index])-1)\n",
    "    avg = np.average(dist_list)\n",
    "\n",
    "    #variance = statistics.variance(dist_list)\n",
    "    variance = np.var(dist_list)\n",
    "    \n",
    "    return avg, variance"
   ]
  },
  {
   "cell_type": "code",
   "execution_count": 27,
   "metadata": {},
   "outputs": [
    {
     "data": {
      "text/plain": [
       "(0.0, 0.0)"
      ]
     },
     "execution_count": 27,
     "metadata": {},
     "output_type": "execute_result"
    }
   ],
   "source": [
    "intracluster_similarity(0)"
   ]
  },
  {
   "cell_type": "code",
   "execution_count": 28,
   "metadata": {},
   "outputs": [
    {
     "data": {
      "text/plain": [
       "(1.3877787807814457e-17, 0.0)"
      ]
     },
     "execution_count": 28,
     "metadata": {},
     "output_type": "execute_result"
    }
   ],
   "source": [
    "intracluster_similarity(1)"
   ]
  },
  {
   "cell_type": "code",
   "execution_count": 29,
   "metadata": {},
   "outputs": [],
   "source": [
    "# index is cluster / cluster id\n",
    "def generate_raw_content_cluster_df(index):\n",
    "    index_list = cluster_list[index]\n",
    "    index_list = [x[1] for x in index_list]\n",
    "    cluster_seed = df.loc[index].to_frame().T\n",
    "    #cluster_df = df.loc[index_list[1:]]\n",
    "    cluster_df = df.loc[index_list[1:]]\n",
    "    combined = pd.concat([cluster_seed, cluster_df])\n",
    "    combined['cluster'] = index\n",
    "    return combined"
   ]
  },
  {
   "cell_type": "code",
   "execution_count": 30,
   "metadata": {
    "scrolled": true
   },
   "outputs": [
    {
     "data": {
      "text/html": [
       "<div>\n",
       "<style scoped>\n",
       "    .dataframe tbody tr th:only-of-type {\n",
       "        vertical-align: middle;\n",
       "    }\n",
       "\n",
       "    .dataframe tbody tr th {\n",
       "        vertical-align: top;\n",
       "    }\n",
       "\n",
       "    .dataframe thead th {\n",
       "        text-align: right;\n",
       "    }\n",
       "</style>\n",
       "<table border=\"1\" class=\"dataframe\">\n",
       "  <thead>\n",
       "    <tr style=\"text-align: right;\">\n",
       "      <th></th>\n",
       "      <th>file_number</th>\n",
       "      <th>file_type</th>\n",
       "      <th>filename</th>\n",
       "      <th>text</th>\n",
       "      <th>paraphrase</th>\n",
       "      <th>text_processed</th>\n",
       "      <th>text_processed_stemmed</th>\n",
       "      <th>cluster</th>\n",
       "    </tr>\n",
       "  </thead>\n",
       "  <tbody>\n",
       "    <tr>\n",
       "      <th>10</th>\n",
       "      <td>1002</td>\n",
       "      <td>original.txt</td>\n",
       "      <td>1002-original.txt</td>\n",
       "      <td>For example: There is a saying of the Emperor ...</td>\n",
       "      <td>True</td>\n",
       "      <td>[example, saying, emperor, tschun, bc, teach, ...</td>\n",
       "      <td>[for example: there is a saying of the emperor...</td>\n",
       "      <td>10</td>\n",
       "    </tr>\n",
       "    <tr>\n",
       "      <th>1156</th>\n",
       "      <td>1519</td>\n",
       "      <td>original.txt</td>\n",
       "      <td>1519-original.txt</td>\n",
       "      <td>I.  CHAP. I.  Passion for Travelling--Author's...</td>\n",
       "      <td>False</td>\n",
       "      <td>[chap, passion, travellingauthors, peculiar, s...</td>\n",
       "      <td>[i.  chap. i.  passion for travelling--author'...</td>\n",
       "      <td>10</td>\n",
       "    </tr>\n",
       "    <tr>\n",
       "      <th>1157</th>\n",
       "      <td>1519</td>\n",
       "      <td>paraphrase.txt</td>\n",
       "      <td>1519-paraphrase.txt</td>\n",
       "      <td>I. CHAP. I.  Passion for Travelling--Author's ...</td>\n",
       "      <td>False</td>\n",
       "      <td>[chap, passion, travellingauthors, peculiar, s...</td>\n",
       "      <td>[i. chap. i.  passion for travelling--author's...</td>\n",
       "      <td>10</td>\n",
       "    </tr>\n",
       "    <tr>\n",
       "      <th>1160</th>\n",
       "      <td>1520</td>\n",
       "      <td>original.txt</td>\n",
       "      <td>1520-original.txt</td>\n",
       "      <td>I.  CHAP. I.  Passion for Travelling--Author's...</td>\n",
       "      <td>True</td>\n",
       "      <td>[chap, passion, travellingauthors, peculiar, s...</td>\n",
       "      <td>[i.  chap. i.  passion for travelling--author'...</td>\n",
       "      <td>10</td>\n",
       "    </tr>\n",
       "    <tr>\n",
       "      <th>1162</th>\n",
       "      <td>1521</td>\n",
       "      <td>original.txt</td>\n",
       "      <td>1521-original.txt</td>\n",
       "      <td>I.  CHAP. I.  Passion for Travelling--Author's...</td>\n",
       "      <td>False</td>\n",
       "      <td>[chap, passion, travellingauthors, peculiar, s...</td>\n",
       "      <td>[i.  chap. i.  passion for travelling--author'...</td>\n",
       "      <td>10</td>\n",
       "    </tr>\n",
       "  </tbody>\n",
       "</table>\n",
       "</div>"
      ],
      "text/plain": [
       "     file_number       file_type             filename  \\\n",
       "10          1002    original.txt    1002-original.txt   \n",
       "1156        1519    original.txt    1519-original.txt   \n",
       "1157        1519  paraphrase.txt  1519-paraphrase.txt   \n",
       "1160        1520    original.txt    1520-original.txt   \n",
       "1162        1521    original.txt    1521-original.txt   \n",
       "\n",
       "                                                   text paraphrase  \\\n",
       "10    For example: There is a saying of the Emperor ...       True   \n",
       "1156  I.  CHAP. I.  Passion for Travelling--Author's...      False   \n",
       "1157  I. CHAP. I.  Passion for Travelling--Author's ...      False   \n",
       "1160  I.  CHAP. I.  Passion for Travelling--Author's...       True   \n",
       "1162  I.  CHAP. I.  Passion for Travelling--Author's...      False   \n",
       "\n",
       "                                         text_processed  \\\n",
       "10    [example, saying, emperor, tschun, bc, teach, ...   \n",
       "1156  [chap, passion, travellingauthors, peculiar, s...   \n",
       "1157  [chap, passion, travellingauthors, peculiar, s...   \n",
       "1160  [chap, passion, travellingauthors, peculiar, s...   \n",
       "1162  [chap, passion, travellingauthors, peculiar, s...   \n",
       "\n",
       "                                 text_processed_stemmed  cluster  \n",
       "10    [for example: there is a saying of the emperor...       10  \n",
       "1156  [i.  chap. i.  passion for travelling--author'...       10  \n",
       "1157  [i. chap. i.  passion for travelling--author's...       10  \n",
       "1160  [i.  chap. i.  passion for travelling--author'...       10  \n",
       "1162  [i.  chap. i.  passion for travelling--author'...       10  "
      ]
     },
     "execution_count": 30,
     "metadata": {},
     "output_type": "execute_result"
    }
   ],
   "source": [
    "generate_raw_content_cluster_df(10)"
   ]
  },
  {
   "cell_type": "code",
   "execution_count": 31,
   "metadata": {},
   "outputs": [],
   "source": [
    "avg_list = []\n",
    "variance_list = []\n",
    "\n",
    "for i in range(num_clusters):\n",
    "    avg, variance = intracluster_similarity(i)\n",
    "    avg_list.append(avg)\n",
    "    variance_list.append(variance)\n",
    "    #print()"
   ]
  },
  {
   "cell_type": "code",
   "execution_count": 32,
   "metadata": {},
   "outputs": [
    {
     "data": {
      "text/plain": [
       "([<matplotlib.axis.XTick at 0x1546a94e0>,\n",
       "  <matplotlib.axis.XTick at 0x1b64f05dd8>,\n",
       "  <matplotlib.axis.XTick at 0x1b64f05a90>,\n",
       "  <matplotlib.axis.XTick at 0x15c278550>,\n",
       "  <matplotlib.axis.XTick at 0x15c278b00>,\n",
       "  <matplotlib.axis.XTick at 0x15c278d30>,\n",
       "  <matplotlib.axis.XTick at 0x15c2874e0>,\n",
       "  <matplotlib.axis.XTick at 0x15c2879b0>,\n",
       "  <matplotlib.axis.XTick at 0x15c287e80>,\n",
       "  <matplotlib.axis.XTick at 0x15c278c50>,\n",
       "  <matplotlib.axis.XTick at 0x15c2901d0>],\n",
       " <a list of 11 Text xticklabel objects>)"
      ]
     },
     "execution_count": 32,
     "metadata": {},
     "output_type": "execute_result"
    },
    {
     "data": {
      "image/png": "[encoded data removed]",
      "text/plain": [
       "<Figure size 432x288 with 1 Axes>"
      ]
     },
     "metadata": {
      "needs_background": "light"
     },
     "output_type": "display_data"
    }
   ],
   "source": [
    "# neighbors = 10\n",
    "bins= [0,0.1,0.2,0.3,0.4,0.5,0.6,0.7,0.8,0.9,1.0]\n",
    "plt.hist(avg_list, bins=bins, edgecolor=\"k\")\n",
    "plt.xticks(bins)"
   ]
  },
  {
   "cell_type": "markdown",
   "metadata": {},
   "source": [
    "## Intercluster Similarity"
   ]
  },
  {
   "cell_type": "code",
   "execution_count": 33,
   "metadata": {},
   "outputs": [],
   "source": [
    "def intercluster_dist():\n",
    "    indices = range(num_clusters)\n",
    "    centroid_centroid_distance = {}\n",
    "    values = []\n",
    "    for i in indices:\n",
    "        for j in indices:\n",
    "            if i < j:\n",
    "                key = str(i) + \"::\" + str(j)\n",
    "                cluster_centroid_i = np.average(tfidf_matrix[[x[1] for x in cluster_list[i]]].todense(), axis=0)\n",
    "                cluster_centroid_j = np.average(tfidf_matrix[[x[1] for x in cluster_list[j]]].todense(), axis=0)\n",
    "                distance = np.linalg.norm(cluster_centroid_i - cluster_centroid_j)\n",
    "                centroid_centroid_distance[key] = distance\n",
    "                values.append(distance)\n",
    "    return centroid_centroid_distance, values"
   ]
  },
  {
   "cell_type": "code",
   "execution_count": 34,
   "metadata": {},
   "outputs": [
    {
     "name": "stdout",
     "output_type": "stream",
     "text": [
      "average 1.3953415556642448\n"
     ]
    }
   ],
   "source": [
    "intercluster_distances, values = intercluster_dist()\n",
    "#print('distances', values)\n",
    "print('average', np.average(values))"
   ]
  },
  {
   "cell_type": "code",
   "execution_count": null,
   "metadata": {},
   "outputs": [],
   "source": []
  }
 ],
 "metadata": {
  "colab": {
   "collapsed_sections": [],
   "name": "MastersProject.ipynb",
   "provenance": []
  },
  "kernelspec": {
   "display_name": "Python 3",
   "language": "python",
   "name": "python3"
  },
  "language_info": {
   "codemirror_mode": {
    "name": "ipython",
    "version": 3
   },
   "file_extension": ".py",
   "mimetype": "text/x-python",
   "name": "python",
   "nbconvert_exporter": "python",
   "pygments_lexer": "ipython3",
   "version": "3.7.1"
  }
 },
 "nbformat": 4,
 "nbformat_minor": 1
}
