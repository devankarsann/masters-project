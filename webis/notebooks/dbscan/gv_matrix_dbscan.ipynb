{
 "cells": [
  {
   "cell_type": "code",
   "execution_count": 1,
   "metadata": {},
   "outputs": [
    {
     "data": {
      "text/html": [
       "<style>.container { width:95% !important; }</style>"
      ],
      "text/plain": [
       "<IPython.core.display.HTML object>"
      ]
     },
     "metadata": {},
     "output_type": "display_data"
    }
   ],
   "source": [
    "from IPython.core.display import display, HTML\n",
    "display(HTML(\"<style>.container { width:95% !important; }</style>\"))"
   ]
  },
  {
   "cell_type": "markdown",
   "metadata": {
    "id": "FYVUGSFLf_qE"
   },
   "source": [
    "## Libraries and Filesystem Setup"
   ]
  },
  {
   "cell_type": "code",
   "execution_count": 2,
   "metadata": {
    "colab": {
     "base_uri": "https://localhost:8080/"
    },
    "id": "uqRQxTVbf39P",
    "outputId": "aecc64fb-dc6f-4d45-f5a3-98ec0b70cbfe"
   },
   "outputs": [],
   "source": [
    "import pandas as pd\n",
    "import pickle\n",
    "import numpy as np\n",
    "import matplotlib.pyplot as plt\n",
    "import scipy.sparse\n",
    "import scipy"
   ]
  },
  {
   "cell_type": "markdown",
   "metadata": {},
   "source": [
    "### Import LDA document vectors"
   ]
  },
  {
   "cell_type": "code",
   "execution_count": 4,
   "metadata": {},
   "outputs": [],
   "source": [
    "gv_matrix = np.load('../../processed_files/glove/gv_matrix.npy')\n",
    "df = pickle.load(open(\"../../processed_files/webis/df.pickle\", \"rb\"))"
   ]
  },
  {
   "cell_type": "code",
   "execution_count": 5,
   "metadata": {},
   "outputs": [
    {
     "data": {
      "text/plain": [
       "(15718, 300)"
      ]
     },
     "execution_count": 5,
     "metadata": {},
     "output_type": "execute_result"
    }
   ],
   "source": [
    "gv_matrix.shape"
   ]
  },
  {
   "cell_type": "code",
   "execution_count": 6,
   "metadata": {},
   "outputs": [
    {
     "data": {
      "text/html": [
       "<div>\n",
       "<style scoped>\n",
       "    .dataframe tbody tr th:only-of-type {\n",
       "        vertical-align: middle;\n",
       "    }\n",
       "\n",
       "    .dataframe tbody tr th {\n",
       "        vertical-align: top;\n",
       "    }\n",
       "\n",
       "    .dataframe thead th {\n",
       "        text-align: right;\n",
       "    }\n",
       "</style>\n",
       "<table border=\"1\" class=\"dataframe\">\n",
       "  <thead>\n",
       "    <tr style=\"text-align: right;\">\n",
       "      <th></th>\n",
       "      <th>file_number</th>\n",
       "      <th>file_type</th>\n",
       "      <th>filename</th>\n",
       "      <th>text</th>\n",
       "      <th>paraphrase</th>\n",
       "      <th>text_processed</th>\n",
       "      <th>text_processed_stemmed</th>\n",
       "    </tr>\n",
       "  </thead>\n",
       "  <tbody>\n",
       "    <tr>\n",
       "      <th>0</th>\n",
       "      <td>1</td>\n",
       "      <td>original.txt</td>\n",
       "      <td>1-original.txt</td>\n",
       "      <td>M. Comte would not advise so irrational a proc...</td>\n",
       "      <td>True</td>\n",
       "      <td>[comte, would, advise, irrational, proceeding,...</td>\n",
       "      <td>[m. comte would not advise so irrational a pro...</td>\n",
       "    </tr>\n",
       "    <tr>\n",
       "      <th>1</th>\n",
       "      <td>1</td>\n",
       "      <td>paraphrase.txt</td>\n",
       "      <td>1-paraphrase.txt</td>\n",
       "      <td>Even M. Comte would spurn such irrational reas...</td>\n",
       "      <td>True</td>\n",
       "      <td>[even, comte, would, spurn, irrational, reason...</td>\n",
       "      <td>[even m. comte would spurn such irrational rea...</td>\n",
       "    </tr>\n",
       "    <tr>\n",
       "      <th>2</th>\n",
       "      <td>10</td>\n",
       "      <td>original.txt</td>\n",
       "      <td>10-original.txt</td>\n",
       "      <td>Picture illustrating the shortest and easiest ...</td>\n",
       "      <td>True</td>\n",
       "      <td>[picture, illustrating, shortest, easiest, way...</td>\n",
       "      <td>[picture illustrating the shortest and easiest...</td>\n",
       "    </tr>\n",
       "    <tr>\n",
       "      <th>3</th>\n",
       "      <td>10</td>\n",
       "      <td>paraphrase.txt</td>\n",
       "      <td>10-paraphrase.txt</td>\n",
       "      <td>This picture exemplifies the straight and easi...</td>\n",
       "      <td>True</td>\n",
       "      <td>[picture, exemplifies, straight, easiest, way,...</td>\n",
       "      <td>[this picture exemplifies the straight and eas...</td>\n",
       "    </tr>\n",
       "    <tr>\n",
       "      <th>4</th>\n",
       "      <td>100</td>\n",
       "      <td>original.txt</td>\n",
       "      <td>100-original.txt</td>\n",
       "      <td>Thad, of course. And, Bill, we're going to get...</td>\n",
       "      <td>True</td>\n",
       "      <td>[thad, course, bill, going, get, sooner, later...</td>\n",
       "      <td>[thad, of course. and, bill, we're going to ge...</td>\n",
       "    </tr>\n",
       "  </tbody>\n",
       "</table>\n",
       "</div>"
      ],
      "text/plain": [
       "   file_number       file_type           filename  \\\n",
       "0            1    original.txt     1-original.txt   \n",
       "1            1  paraphrase.txt   1-paraphrase.txt   \n",
       "2           10    original.txt    10-original.txt   \n",
       "3           10  paraphrase.txt  10-paraphrase.txt   \n",
       "4          100    original.txt   100-original.txt   \n",
       "\n",
       "                                                text  paraphrase  \\\n",
       "0  M. Comte would not advise so irrational a proc...        True   \n",
       "1  Even M. Comte would spurn such irrational reas...        True   \n",
       "2  Picture illustrating the shortest and easiest ...        True   \n",
       "3  This picture exemplifies the straight and easi...        True   \n",
       "4  Thad, of course. And, Bill, we're going to get...        True   \n",
       "\n",
       "                                      text_processed  \\\n",
       "0  [comte, would, advise, irrational, proceeding,...   \n",
       "1  [even, comte, would, spurn, irrational, reason...   \n",
       "2  [picture, illustrating, shortest, easiest, way...   \n",
       "3  [picture, exemplifies, straight, easiest, way,...   \n",
       "4  [thad, course, bill, going, get, sooner, later...   \n",
       "\n",
       "                              text_processed_stemmed  \n",
       "0  [m. comte would not advise so irrational a pro...  \n",
       "1  [even m. comte would spurn such irrational rea...  \n",
       "2  [picture illustrating the shortest and easiest...  \n",
       "3  [this picture exemplifies the straight and eas...  \n",
       "4  [thad, of course. and, bill, we're going to ge...  "
      ]
     },
     "execution_count": 6,
     "metadata": {},
     "output_type": "execute_result"
    }
   ],
   "source": [
    "df.head()"
   ]
  },
  {
   "cell_type": "code",
   "execution_count": 7,
   "metadata": {},
   "outputs": [
    {
     "data": {
      "text/plain": [
       "(15718, 7)"
      ]
     },
     "execution_count": 7,
     "metadata": {},
     "output_type": "execute_result"
    }
   ],
   "source": [
    "df.shape"
   ]
  },
  {
   "cell_type": "code",
   "execution_count": 8,
   "metadata": {},
   "outputs": [
    {
     "data": {
      "text/plain": [
       "numpy.ndarray"
      ]
     },
     "execution_count": 8,
     "metadata": {},
     "output_type": "execute_result"
    }
   ],
   "source": [
    "type(gv_matrix[0])"
   ]
  },
  {
   "cell_type": "code",
   "execution_count": 9,
   "metadata": {
    "scrolled": true
   },
   "outputs": [
    {
     "data": {
      "text/plain": [
       "array([-1.19000530e-01,  6.50377103e-02, -1.29021334e-01, -1.37842166e-01,\n",
       "        5.42210042e-03,  3.06852100e-02, -5.76209563e-02,  8.05141870e-02,\n",
       "        5.74919600e-02,  1.71693234e+00, -2.77417001e-02,  1.86089640e-01,\n",
       "        8.52958374e-02, -1.64914143e-03, -1.44523874e-01, -4.83476942e-02,\n",
       "       -1.85398857e-01,  7.32365708e-01, -4.67102909e-02, -1.98900988e-02,\n",
       "        7.39726871e-02, -1.31824693e-02, -1.57900517e-01,  5.79300858e-02,\n",
       "        1.82141835e-02,  3.67756672e-02,  1.28265272e-01, -8.70508999e-02,\n",
       "        1.61883576e-02, -1.17049621e-01, -9.13343355e-02,  1.54655520e-01,\n",
       "        4.68524471e-02,  1.45371378e-02,  3.22945019e-02, -6.59103728e-02,\n",
       "        2.64518556e-02, -1.04709801e-01, -6.13234589e-02, -5.61140242e-02,\n",
       "       -7.25538880e-02, -1.10376117e-01, -4.96736135e-02,  9.26112634e-02,\n",
       "        1.59961482e-01,  1.61350351e-02, -6.94811996e-03,  3.60240756e-03,\n",
       "        4.71605081e-03, -1.87934710e-02,  6.01553631e-02,  1.11417284e-01,\n",
       "       -7.24684000e-02, -4.08976308e-03,  1.26652283e-01, -6.28654218e-02,\n",
       "       -1.06687782e-03, -2.79541283e-02,  5.12585392e-02,  9.57385078e-03,\n",
       "        2.83986724e-02,  4.71338471e-02,  3.35813910e-02, -8.10193308e-02,\n",
       "        4.62923224e-02,  8.84671584e-02, -5.45264514e-02, -6.34378681e-02,\n",
       "        6.92880532e-02, -3.08612014e-02,  2.78986820e-03, -2.84433876e-02,\n",
       "       -3.76686553e-02,  5.26023222e-03,  5.41003365e-02, -2.36557436e-02,\n",
       "       -3.65823234e-02, -9.63334491e-02,  8.56872027e-04,  1.54754019e-01,\n",
       "       -5.01741419e-02, -1.25441052e-01,  2.00999325e-02, -1.00468832e-02,\n",
       "        1.38284311e-01, -3.31665625e-01,  3.93962848e-02, -2.06075987e-01,\n",
       "        3.45557059e-03,  5.45917576e-02, -7.47208266e-02, -7.07303422e-02,\n",
       "       -1.10630306e-01,  9.44293750e-02, -6.29475703e-02,  3.97098549e-02,\n",
       "       -8.04795474e-02, -1.98769703e-02,  8.06131015e-02,  6.14330651e-02,\n",
       "        6.77773841e-02, -1.04253665e-02, -9.33775182e-03,  1.30494023e-01,\n",
       "        5.55855098e-02, -1.37704575e+00,  6.20079755e-02,  1.79611328e-02,\n",
       "       -4.63927214e-02,  6.36169910e-02,  3.37742974e-02,  4.67437344e-02,\n",
       "       -4.56006425e-02, -2.49406797e-01,  1.39123605e-03,  7.62042130e-02,\n",
       "       -8.07540162e-02, -1.69651688e-01,  4.15982512e-02,  1.31573286e-02,\n",
       "        7.43021121e-02, -1.81180755e-01, -4.99802356e-02,  1.49809661e-01,\n",
       "        3.33007810e-02,  7.45569548e-02, -1.46786228e-01, -7.09899012e-02,\n",
       "        6.39547681e-02, -1.04441838e-01,  1.79536765e-03, -1.20742464e-03,\n",
       "       -7.81202316e-02, -1.68431599e-01, -7.79105996e-02,  4.07542251e-02,\n",
       "        3.42542585e-03,  6.43022743e-02,  4.70368216e-02, -2.73395351e-02,\n",
       "       -7.81567931e-01,  1.01805857e-01, -4.83177872e-02,  4.79848431e-02,\n",
       "        5.07728389e-02, -1.30649236e-01, -7.44821578e-02, -6.23337968e-02,\n",
       "        2.17549826e-02,  9.12159818e-02,  4.96602046e-02, -6.28988662e-02,\n",
       "        1.17031212e-02,  1.48055633e-02, -9.88829955e-02,  4.12885441e-03,\n",
       "       -2.96065745e-02, -1.14770239e-01, -7.38773961e-03, -1.73014272e-02,\n",
       "        1.02608297e-02, -3.86822031e-02, -7.71683914e-02,  1.81888039e-02,\n",
       "       -1.34687709e-02, -2.86920071e-02, -4.01095506e-02,  2.67458592e-02,\n",
       "        1.95403341e-02, -6.24912232e-03, -3.70318716e-02, -1.84832203e-02,\n",
       "        1.32014699e-01, -2.11685340e-01, -8.73348536e-03, -1.02030368e-02,\n",
       "        5.66525832e-02, -1.64678139e-01, -8.94593323e-02, -5.18120406e-02,\n",
       "        5.23278153e-02,  4.85806788e-03,  6.68946529e-02,  2.49773602e-02,\n",
       "       -1.90037799e-02, -7.24747355e-02, -8.48378452e-02, -1.14909788e-01,\n",
       "        9.42865424e-02,  5.87327282e-02,  3.40932316e-02, -7.65953495e-02,\n",
       "       -1.42669060e-01,  3.65383128e-02,  5.50743795e-02,  1.26194046e-01,\n",
       "        5.86615329e-02, -7.30618282e-02,  5.63156661e-02,  1.61876214e-01,\n",
       "       -1.06366045e-01, -1.55821765e-02, -1.22203261e-01,  1.06560004e-01,\n",
       "       -3.97064686e-02, -6.76381420e-02, -1.21384033e-02, -1.45113803e-01,\n",
       "       -2.46716770e-02,  5.84346031e-02, -5.37900277e-02,  6.67936703e-02,\n",
       "        6.51355168e-02, -1.96555694e-01, -3.52920828e-02, -7.21359576e-02,\n",
       "        5.38824039e-02,  1.24239280e-01, -1.14384348e-01, -1.21279205e-01,\n",
       "        4.37947257e-02,  5.63332572e-02,  1.96293220e-02,  3.44925231e-02,\n",
       "        3.40239430e-02, -5.17760074e-02, -1.28130107e-01,  9.33146290e-03,\n",
       "       -1.19021975e-01,  3.91460260e-02, -2.09464865e-02,  7.04173880e-02,\n",
       "        4.26788256e-03,  4.29588960e-02, -1.21724640e-01, -3.38160032e-02,\n",
       "       -3.81110978e-02, -7.04313740e-02, -1.18677686e-01,  7.30990867e-02,\n",
       "        3.66489465e-02,  3.08029714e-02, -7.79782726e-02,  1.53394161e-02,\n",
       "       -4.87676255e-02, -1.17294685e-01,  7.82860145e-02, -5.26517872e-02,\n",
       "       -2.11518999e-01,  7.07936101e-02,  6.24292394e-02,  1.61140549e-02,\n",
       "       -5.24817441e-02, -2.15074749e-02,  2.03282752e-02,  3.88942985e-03,\n",
       "        5.68819717e-02, -3.76896597e-02,  1.16024317e-01,  9.85520631e-02,\n",
       "        4.42818267e-02,  1.06147223e-01, -1.06477558e-01,  7.53739240e-02,\n",
       "        8.49468174e-02,  4.26142327e-02,  7.40905367e-02,  1.06442926e-01,\n",
       "        1.66562671e-01,  1.45643950e-04, -1.70139136e-02,  1.01137682e-01,\n",
       "       -6.43785857e-03, -1.10627428e-01, -8.01190721e-02, -1.65052960e-03,\n",
       "        6.07699581e-02, -2.23355197e-02,  2.01879172e-02,  1.15480977e-01,\n",
       "        1.34366587e-01, -3.43013449e-02,  1.73457369e-01, -1.21254882e-01,\n",
       "        3.57147559e-02,  2.58555751e-02,  1.25125254e-01, -3.13799959e-02,\n",
       "        7.36514951e-02, -3.38206167e-02, -7.81805606e-03,  3.76577489e-04,\n",
       "       -1.23838419e-01,  1.18273447e-02,  1.32588883e-01,  1.23069976e-02,\n",
       "        4.48137255e-02,  3.93680666e-02,  6.28762046e-02,  3.67729184e-02])"
      ]
     },
     "execution_count": 9,
     "metadata": {},
     "output_type": "execute_result"
    }
   ],
   "source": [
    "np.average(gv_matrix[[0, 1, 2]], axis=0)"
   ]
  },
  {
   "cell_type": "markdown",
   "metadata": {},
   "source": [
    "## DB Scan"
   ]
  },
  {
   "cell_type": "code",
   "execution_count": 10,
   "metadata": {},
   "outputs": [],
   "source": [
    "from sklearn.cluster import DBSCAN"
   ]
  },
  {
   "cell_type": "code",
   "execution_count": 11,
   "metadata": {},
   "outputs": [],
   "source": [
    "# eps (default 0.5): the maximum distance between two samples for one to be considered as in the neighborhood of the other\n",
    "# min_samples (default 5): number of samples (or total weight) in a neighborhood for a point to be considered as a core point. This includes the point itself\n",
    "# algorithm (default 'auto'): ‘auto’, ‘ball_tree’, ‘kd_tree’, ‘brute’\n",
    "dbscan = DBSCAN(eps = 0.1, min_samples = 5).fit(gv_matrix)"
   ]
  },
  {
   "cell_type": "code",
   "execution_count": 12,
   "metadata": {},
   "outputs": [
    {
     "data": {
      "text/plain": [
       "array([-1, -1, -1, ..., -1, -1, -1])"
      ]
     },
     "execution_count": 12,
     "metadata": {},
     "output_type": "execute_result"
    }
   ],
   "source": [
    "dbscan.labels_"
   ]
  },
  {
   "cell_type": "code",
   "execution_count": 13,
   "metadata": {},
   "outputs": [
    {
     "data": {
      "text/plain": [
       "461"
      ]
     },
     "execution_count": 13,
     "metadata": {},
     "output_type": "execute_result"
    }
   ],
   "source": [
    "num_clusters = max(dbscan.labels_)\n",
    "num_clusters"
   ]
  },
  {
   "cell_type": "code",
   "execution_count": 14,
   "metadata": {},
   "outputs": [
    {
     "data": {
      "text/plain": [
       "DBSCAN(eps=0.1)"
      ]
     },
     "execution_count": 14,
     "metadata": {},
     "output_type": "execute_result"
    }
   ],
   "source": [
    "dbscan"
   ]
  },
  {
   "cell_type": "code",
   "execution_count": 15,
   "metadata": {},
   "outputs": [
    {
     "data": {
      "text/plain": [
       "-1"
      ]
     },
     "execution_count": 15,
     "metadata": {},
     "output_type": "execute_result"
    }
   ],
   "source": [
    "index_cluster = zip(range(len(dbscan.labels_)), dbscan.labels_)\n",
    "index_cluster_dict = dict(index_cluster)\n",
    "index_cluster_dict[456]"
   ]
  },
  {
   "cell_type": "code",
   "execution_count": 16,
   "metadata": {},
   "outputs": [],
   "source": [
    "cluster_index = list(zip(dbscan.labels_, range(len(dbscan.labels_))))"
   ]
  },
  {
   "cell_type": "code",
   "execution_count": 17,
   "metadata": {},
   "outputs": [],
   "source": [
    "cluster_list = dict()\n",
    "for i in range(num_clusters):\n",
    "    cluster_list[i] = list(filter(lambda row: row[0] == i, cluster_index))"
   ]
  },
  {
   "cell_type": "code",
   "execution_count": 18,
   "metadata": {},
   "outputs": [
    {
     "name": "stdout",
     "output_type": "stream",
     "text": [
      "cluster:  0 size:  336\n",
      "cluster:  1 size:  5\n",
      "cluster:  2 size:  5\n",
      "cluster:  3 size:  5\n",
      "cluster:  4 size:  5\n",
      "cluster:  5 size:  5\n",
      "cluster:  6 size:  5\n",
      "cluster:  7 size:  52\n",
      "cluster:  8 size:  5\n",
      "cluster:  9 size:  5\n",
      "cluster:  10 size:  7\n",
      "cluster:  11 size:  5\n",
      "cluster:  12 size:  5\n",
      "cluster:  13 size:  5\n",
      "cluster:  14 size:  5\n",
      "cluster:  15 size:  5\n",
      "cluster:  16 size:  9\n",
      "cluster:  17 size:  5\n",
      "cluster:  18 size:  5\n",
      "cluster:  19 size:  5\n",
      "cluster:  20 size:  5\n",
      "cluster:  21 size:  6\n",
      "cluster:  22 size:  7\n",
      "cluster:  23 size:  5\n",
      "cluster:  24 size:  8\n",
      "cluster:  25 size:  6\n",
      "cluster:  26 size:  5\n",
      "cluster:  27 size:  13\n",
      "cluster:  28 size:  7\n",
      "cluster:  29 size:  11\n",
      "cluster:  30 size:  6\n",
      "cluster:  31 size:  6\n",
      "cluster:  32 size:  8\n",
      "cluster:  33 size:  6\n",
      "cluster:  34 size:  5\n",
      "cluster:  35 size:  8\n",
      "cluster:  36 size:  5\n",
      "cluster:  37 size:  8\n",
      "cluster:  38 size:  5\n",
      "cluster:  39 size:  12\n",
      "cluster:  40 size:  7\n",
      "cluster:  41 size:  11\n",
      "cluster:  42 size:  8\n",
      "cluster:  43 size:  5\n",
      "cluster:  44 size:  6\n",
      "cluster:  45 size:  5\n",
      "cluster:  46 size:  7\n",
      "cluster:  47 size:  5\n",
      "cluster:  48 size:  10\n",
      "cluster:  49 size:  5\n",
      "cluster:  50 size:  5\n",
      "cluster:  51 size:  5\n",
      "cluster:  52 size:  7\n",
      "cluster:  53 size:  7\n",
      "cluster:  54 size:  7\n",
      "cluster:  55 size:  5\n",
      "cluster:  56 size:  5\n",
      "cluster:  57 size:  7\n",
      "cluster:  58 size:  5\n",
      "cluster:  59 size:  8\n",
      "cluster:  60 size:  6\n",
      "cluster:  61 size:  5\n",
      "cluster:  62 size:  5\n",
      "cluster:  63 size:  5\n",
      "cluster:  64 size:  7\n",
      "cluster:  65 size:  6\n",
      "cluster:  66 size:  7\n",
      "cluster:  67 size:  6\n",
      "cluster:  68 size:  7\n",
      "cluster:  69 size:  5\n",
      "cluster:  70 size:  7\n",
      "cluster:  71 size:  5\n",
      "cluster:  72 size:  5\n",
      "cluster:  73 size:  6\n",
      "cluster:  74 size:  6\n",
      "cluster:  75 size:  5\n",
      "cluster:  76 size:  6\n",
      "cluster:  77 size:  7\n",
      "cluster:  78 size:  5\n",
      "cluster:  79 size:  5\n",
      "cluster:  80 size:  7\n",
      "cluster:  81 size:  7\n",
      "cluster:  82 size:  9\n",
      "cluster:  83 size:  8\n",
      "cluster:  84 size:  6\n",
      "cluster:  85 size:  6\n",
      "cluster:  86 size:  5\n",
      "cluster:  87 size:  7\n",
      "cluster:  88 size:  5\n",
      "cluster:  89 size:  5\n",
      "cluster:  90 size:  10\n",
      "cluster:  91 size:  6\n",
      "cluster:  92 size:  7\n",
      "cluster:  93 size:  10\n",
      "cluster:  94 size:  9\n",
      "cluster:  95 size:  5\n",
      "cluster:  96 size:  5\n",
      "cluster:  97 size:  10\n",
      "cluster:  98 size:  8\n",
      "cluster:  99 size:  6\n",
      "cluster:  100 size:  5\n",
      "cluster:  101 size:  10\n",
      "cluster:  102 size:  7\n",
      "cluster:  103 size:  5\n",
      "cluster:  104 size:  6\n",
      "cluster:  105 size:  6\n",
      "cluster:  106 size:  6\n",
      "cluster:  107 size:  9\n",
      "cluster:  108 size:  9\n",
      "cluster:  109 size:  5\n",
      "cluster:  110 size:  10\n",
      "cluster:  111 size:  7\n",
      "cluster:  112 size:  8\n",
      "cluster:  113 size:  8\n",
      "cluster:  114 size:  10\n",
      "cluster:  115 size:  6\n",
      "cluster:  116 size:  6\n",
      "cluster:  117 size:  6\n",
      "cluster:  118 size:  5\n",
      "cluster:  119 size:  6\n",
      "cluster:  120 size:  5\n",
      "cluster:  121 size:  6\n",
      "cluster:  122 size:  6\n",
      "cluster:  123 size:  5\n",
      "cluster:  124 size:  5\n",
      "cluster:  125 size:  5\n",
      "cluster:  126 size:  5\n",
      "cluster:  127 size:  8\n",
      "cluster:  128 size:  5\n",
      "cluster:  129 size:  5\n",
      "cluster:  130 size:  7\n",
      "cluster:  131 size:  8\n",
      "cluster:  132 size:  9\n",
      "cluster:  133 size:  8\n",
      "cluster:  134 size:  10\n",
      "cluster:  135 size:  6\n",
      "cluster:  136 size:  5\n",
      "cluster:  137 size:  9\n",
      "cluster:  138 size:  6\n",
      "cluster:  139 size:  5\n",
      "cluster:  140 size:  6\n",
      "cluster:  141 size:  5\n",
      "cluster:  142 size:  6\n",
      "cluster:  143 size:  7\n",
      "cluster:  144 size:  8\n",
      "cluster:  145 size:  5\n",
      "cluster:  146 size:  7\n",
      "cluster:  147 size:  5\n",
      "cluster:  148 size:  9\n",
      "cluster:  149 size:  5\n",
      "cluster:  150 size:  7\n",
      "cluster:  151 size:  6\n",
      "cluster:  152 size:  13\n",
      "cluster:  153 size:  9\n",
      "cluster:  154 size:  5\n",
      "cluster:  155 size:  6\n",
      "cluster:  156 size:  8\n",
      "cluster:  157 size:  6\n",
      "cluster:  158 size:  5\n",
      "cluster:  159 size:  9\n",
      "cluster:  160 size:  6\n",
      "cluster:  161 size:  7\n",
      "cluster:  162 size:  5\n",
      "cluster:  163 size:  5\n",
      "cluster:  164 size:  5\n",
      "cluster:  165 size:  5\n",
      "cluster:  166 size:  7\n",
      "cluster:  167 size:  5\n",
      "cluster:  168 size:  8\n",
      "cluster:  169 size:  5\n",
      "cluster:  170 size:  5\n",
      "cluster:  171 size:  6\n",
      "cluster:  172 size:  5\n",
      "cluster:  173 size:  7\n",
      "cluster:  174 size:  7\n",
      "cluster:  175 size:  5\n",
      "cluster:  176 size:  5\n",
      "cluster:  177 size:  5\n",
      "cluster:  178 size:  6\n",
      "cluster:  179 size:  5\n",
      "cluster:  180 size:  8\n",
      "cluster:  181 size:  6\n",
      "cluster:  182 size:  6\n",
      "cluster:  183 size:  9\n",
      "cluster:  184 size:  5\n",
      "cluster:  185 size:  6\n",
      "cluster:  186 size:  6\n",
      "cluster:  187 size:  8\n",
      "cluster:  188 size:  8\n",
      "cluster:  189 size:  7\n",
      "cluster:  190 size:  6\n",
      "cluster:  191 size:  5\n",
      "cluster:  192 size:  5\n",
      "cluster:  193 size:  5\n",
      "cluster:  194 size:  6\n",
      "cluster:  195 size:  8\n",
      "cluster:  196 size:  6\n",
      "cluster:  197 size:  5\n",
      "cluster:  198 size:  5\n",
      "cluster:  199 size:  6\n",
      "cluster:  200 size:  11\n",
      "cluster:  201 size:  7\n",
      "cluster:  202 size:  7\n",
      "cluster:  203 size:  10\n",
      "cluster:  204 size:  5\n",
      "cluster:  205 size:  7\n",
      "cluster:  206 size:  5\n",
      "cluster:  207 size:  12\n",
      "cluster:  208 size:  5\n",
      "cluster:  209 size:  10\n",
      "cluster:  210 size:  5\n",
      "cluster:  211 size:  6\n",
      "cluster:  212 size:  9\n",
      "cluster:  213 size:  6\n",
      "cluster:  214 size:  19\n",
      "cluster:  215 size:  5\n",
      "cluster:  216 size:  5\n",
      "cluster:  217 size:  10\n",
      "cluster:  218 size:  5\n",
      "cluster:  219 size:  5\n",
      "cluster:  220 size:  12\n",
      "cluster:  221 size:  10\n",
      "cluster:  222 size:  10\n",
      "cluster:  223 size:  17\n",
      "cluster:  224 size:  7\n",
      "cluster:  225 size:  5\n",
      "cluster:  226 size:  8\n",
      "cluster:  227 size:  8\n",
      "cluster:  228 size:  7\n",
      "cluster:  229 size:  6\n",
      "cluster:  230 size:  5\n",
      "cluster:  231 size:  9\n",
      "cluster:  232 size:  6\n",
      "cluster:  233 size:  5\n",
      "cluster:  234 size:  8\n",
      "cluster:  235 size:  8\n",
      "cluster:  236 size:  5\n",
      "cluster:  237 size:  11\n",
      "cluster:  238 size:  7\n",
      "cluster:  239 size:  5\n",
      "cluster:  240 size:  7\n",
      "cluster:  241 size:  5\n",
      "cluster:  242 size:  13\n",
      "cluster:  243 size:  8\n",
      "cluster:  244 size:  6\n",
      "cluster:  245 size:  5\n",
      "cluster:  246 size:  12\n",
      "cluster:  247 size:  7\n",
      "cluster:  248 size:  7\n",
      "cluster:  249 size:  8\n",
      "cluster:  250 size:  7\n",
      "cluster:  251 size:  6\n",
      "cluster:  252 size:  5\n",
      "cluster:  253 size:  7\n",
      "cluster:  254 size:  8\n",
      "cluster:  255 size:  5\n",
      "cluster:  256 size:  8\n",
      "cluster:  257 size:  6\n",
      "cluster:  258 size:  7\n",
      "cluster:  259 size:  8\n",
      "cluster:  260 size:  10\n",
      "cluster:  261 size:  6\n",
      "cluster:  262 size:  8\n",
      "cluster:  263 size:  11\n",
      "cluster:  264 size:  10\n",
      "cluster:  265 size:  7\n",
      "cluster:  266 size:  5\n",
      "cluster:  267 size:  5\n",
      "cluster:  268 size:  5\n",
      "cluster:  269 size:  6\n",
      "cluster:  270 size:  6\n",
      "cluster:  271 size:  6\n",
      "cluster:  272 size:  5\n",
      "cluster:  273 size:  5\n",
      "cluster:  274 size:  9\n",
      "cluster:  275 size:  6\n",
      "cluster:  276 size:  6\n",
      "cluster:  277 size:  8\n",
      "cluster:  278 size:  5\n",
      "cluster:  279 size:  5\n",
      "cluster:  280 size:  6\n",
      "cluster:  281 size:  6\n",
      "cluster:  282 size:  7\n",
      "cluster:  283 size:  6\n",
      "cluster:  284 size:  5\n",
      "cluster:  285 size:  5\n",
      "cluster:  286 size:  11\n",
      "cluster:  287 size:  7\n",
      "cluster:  288 size:  5\n",
      "cluster:  289 size:  5\n",
      "cluster:  290 size:  8\n",
      "cluster:  291 size:  7\n",
      "cluster:  292 size:  8\n",
      "cluster:  293 size:  9\n",
      "cluster:  294 size:  5\n",
      "cluster:  295 size:  6\n",
      "cluster:  296 size:  11\n",
      "cluster:  297 size:  5\n",
      "cluster:  298 size:  7\n",
      "cluster:  299 size:  5\n",
      "cluster:  300 size:  6\n",
      "cluster:  301 size:  9\n",
      "cluster:  302 size:  5\n",
      "cluster:  303 size:  6\n",
      "cluster:  304 size:  7\n",
      "cluster:  305 size:  5\n",
      "cluster:  306 size:  6\n",
      "cluster:  307 size:  5\n",
      "cluster:  308 size:  5\n",
      "cluster:  309 size:  6\n",
      "cluster:  310 size:  9\n",
      "cluster:  311 size:  6\n",
      "cluster:  312 size:  9\n",
      "cluster:  313 size:  6\n",
      "cluster:  314 size:  5\n",
      "cluster:  315 size:  7\n",
      "cluster:  316 size:  10\n",
      "cluster:  317 size:  7\n",
      "cluster:  318 size:  6\n",
      "cluster:  319 size:  5\n",
      "cluster:  320 size:  13\n",
      "cluster:  321 size:  10\n",
      "cluster:  322 size:  6\n",
      "cluster:  323 size:  8\n",
      "cluster:  324 size:  5\n",
      "cluster:  325 size:  5\n",
      "cluster:  326 size:  6\n",
      "cluster:  327 size:  6\n",
      "cluster:  328 size:  9\n",
      "cluster:  329 size:  5\n",
      "cluster:  330 size:  6\n",
      "cluster:  331 size:  5\n",
      "cluster:  332 size:  8\n",
      "cluster:  333 size:  6\n",
      "cluster:  334 size:  5\n",
      "cluster:  335 size:  8\n",
      "cluster:  336 size:  5\n",
      "cluster:  337 size:  7\n",
      "cluster:  338 size:  11\n",
      "cluster:  339 size:  5\n",
      "cluster:  340 size:  7\n",
      "cluster:  341 size:  9\n",
      "cluster:  342 size:  5\n",
      "cluster:  343 size:  13\n",
      "cluster:  344 size:  6\n",
      "cluster:  345 size:  5\n",
      "cluster:  346 size:  7\n",
      "cluster:  347 size:  6\n",
      "cluster:  348 size:  6\n",
      "cluster:  349 size:  6\n",
      "cluster:  350 size:  5\n",
      "cluster:  351 size:  6\n",
      "cluster:  352 size:  8\n",
      "cluster:  353 size:  5\n",
      "cluster:  354 size:  6\n",
      "cluster:  355 size:  9\n",
      "cluster:  356 size:  5\n",
      "cluster:  357 size:  9\n",
      "cluster:  358 size:  6\n",
      "cluster:  359 size:  5\n",
      "cluster:  360 size:  8\n",
      "cluster:  361 size:  7\n",
      "cluster:  362 size:  5\n",
      "cluster:  363 size:  5\n",
      "cluster:  364 size:  5\n",
      "cluster:  365 size:  8\n",
      "cluster:  366 size:  6\n",
      "cluster:  367 size:  5\n",
      "cluster:  368 size:  5\n",
      "cluster:  369 size:  9\n",
      "cluster:  370 size:  6\n",
      "cluster:  371 size:  7\n",
      "cluster:  372 size:  5\n",
      "cluster:  373 size:  5\n",
      "cluster:  374 size:  6\n",
      "cluster:  375 size:  10\n",
      "cluster:  376 size:  9\n",
      "cluster:  377 size:  13\n"
     ]
    },
    {
     "name": "stdout",
     "output_type": "stream",
     "text": [
      "cluster:  378 size:  9\n",
      "cluster:  379 size:  5\n",
      "cluster:  380 size:  5\n",
      "cluster:  381 size:  6\n",
      "cluster:  382 size:  10\n",
      "cluster:  383 size:  6\n",
      "cluster:  384 size:  5\n",
      "cluster:  385 size:  5\n",
      "cluster:  386 size:  13\n",
      "cluster:  387 size:  5\n",
      "cluster:  388 size:  7\n",
      "cluster:  389 size:  5\n",
      "cluster:  390 size:  7\n",
      "cluster:  391 size:  7\n",
      "cluster:  392 size:  6\n",
      "cluster:  393 size:  5\n",
      "cluster:  394 size:  10\n",
      "cluster:  395 size:  6\n",
      "cluster:  396 size:  7\n",
      "cluster:  397 size:  7\n",
      "cluster:  398 size:  5\n",
      "cluster:  399 size:  6\n",
      "cluster:  400 size:  5\n",
      "cluster:  401 size:  8\n",
      "cluster:  402 size:  7\n",
      "cluster:  403 size:  7\n",
      "cluster:  404 size:  5\n",
      "cluster:  405 size:  6\n",
      "cluster:  406 size:  5\n",
      "cluster:  407 size:  5\n",
      "cluster:  408 size:  6\n",
      "cluster:  409 size:  6\n",
      "cluster:  410 size:  8\n",
      "cluster:  411 size:  6\n",
      "cluster:  412 size:  7\n",
      "cluster:  413 size:  6\n",
      "cluster:  414 size:  6\n",
      "cluster:  415 size:  6\n",
      "cluster:  416 size:  8\n",
      "cluster:  417 size:  6\n",
      "cluster:  418 size:  6\n",
      "cluster:  419 size:  5\n",
      "cluster:  420 size:  6\n",
      "cluster:  421 size:  5\n",
      "cluster:  422 size:  5\n",
      "cluster:  423 size:  8\n",
      "cluster:  424 size:  8\n",
      "cluster:  425 size:  6\n",
      "cluster:  426 size:  6\n",
      "cluster:  427 size:  6\n",
      "cluster:  428 size:  6\n",
      "cluster:  429 size:  7\n",
      "cluster:  430 size:  7\n",
      "cluster:  431 size:  5\n",
      "cluster:  432 size:  6\n",
      "cluster:  433 size:  9\n",
      "cluster:  434 size:  6\n",
      "cluster:  435 size:  6\n",
      "cluster:  436 size:  6\n",
      "cluster:  437 size:  5\n",
      "cluster:  438 size:  5\n",
      "cluster:  439 size:  6\n",
      "cluster:  440 size:  6\n",
      "cluster:  441 size:  5\n",
      "cluster:  442 size:  5\n",
      "cluster:  443 size:  5\n",
      "cluster:  444 size:  5\n",
      "cluster:  445 size:  5\n",
      "cluster:  446 size:  5\n",
      "cluster:  447 size:  10\n",
      "cluster:  448 size:  6\n",
      "cluster:  449 size:  7\n",
      "cluster:  450 size:  7\n",
      "cluster:  451 size:  6\n",
      "cluster:  452 size:  5\n",
      "cluster:  453 size:  10\n",
      "cluster:  454 size:  8\n",
      "cluster:  455 size:  7\n",
      "cluster:  456 size:  7\n",
      "cluster:  457 size:  7\n",
      "cluster:  458 size:  6\n",
      "cluster:  459 size:  5\n",
      "cluster:  460 size:  6\n"
     ]
    }
   ],
   "source": [
    "for i in range(num_clusters):\n",
    "    print('cluster: ', i, 'size: ', len(cluster_list[i]))"
   ]
  },
  {
   "cell_type": "code",
   "execution_count": 19,
   "metadata": {},
   "outputs": [
    {
     "data": {
      "text/plain": [
       "336"
      ]
     },
     "execution_count": 19,
     "metadata": {},
     "output_type": "execute_result"
    }
   ],
   "source": [
    "len(cluster_list[0])"
   ]
  },
  {
   "cell_type": "code",
   "execution_count": 20,
   "metadata": {},
   "outputs": [
    {
     "data": {
      "text/plain": [
       "5"
      ]
     },
     "execution_count": 20,
     "metadata": {},
     "output_type": "execute_result"
    }
   ],
   "source": [
    "len(cluster_list[1])"
   ]
  },
  {
   "cell_type": "code",
   "execution_count": 21,
   "metadata": {},
   "outputs": [
    {
     "data": {
      "text/plain": [
       "5"
      ]
     },
     "execution_count": 21,
     "metadata": {},
     "output_type": "execute_result"
    }
   ],
   "source": [
    "len(cluster_list[2])"
   ]
  },
  {
   "cell_type": "code",
   "execution_count": 22,
   "metadata": {},
   "outputs": [
    {
     "data": {
      "text/plain": [
       "6"
      ]
     },
     "execution_count": 22,
     "metadata": {},
     "output_type": "execute_result"
    }
   ],
   "source": [
    "len(cluster_list[num_clusters-1])"
   ]
  },
  {
   "cell_type": "code",
   "execution_count": 23,
   "metadata": {},
   "outputs": [
    {
     "data": {
      "text/plain": [
       "[(1, 258), (1, 260), (1, 262), (1, 263), (1, 14718)]"
      ]
     },
     "execution_count": 23,
     "metadata": {},
     "output_type": "execute_result"
    }
   ],
   "source": [
    "cluster_list[1]"
   ]
  },
  {
   "cell_type": "code",
   "execution_count": 24,
   "metadata": {
    "scrolled": true
   },
   "outputs": [
    {
     "data": {
      "text/plain": [
       "[109,\n",
       " 149,\n",
       " 433,\n",
       " 467,\n",
       " 537,\n",
       " 681,\n",
       " 873,\n",
       " 915,\n",
       " 2033,\n",
       " 2043,\n",
       " 2993,\n",
       " 3075,\n",
       " 3425,\n",
       " 4367,\n",
       " 4789,\n",
       " 5463,\n",
       " 5469,\n",
       " 5485,\n",
       " 6115,\n",
       " 6375,\n",
       " 7127,\n",
       " 7409,\n",
       " 7579,\n",
       " 7655,\n",
       " 7741,\n",
       " 7793,\n",
       " 7903,\n",
       " 7931,\n",
       " 7971,\n",
       " 8075,\n",
       " 8145,\n",
       " 8169,\n",
       " 8257,\n",
       " 8329,\n",
       " 8449,\n",
       " 8461,\n",
       " 8517,\n",
       " 8559,\n",
       " 8569,\n",
       " 8721,\n",
       " 9087,\n",
       " 9195,\n",
       " 9249,\n",
       " 9319,\n",
       " 9597,\n",
       " 9653,\n",
       " 9831,\n",
       " 9879,\n",
       " 9897,\n",
       " 9929,\n",
       " 9933,\n",
       " 10013,\n",
       " 10107,\n",
       " 10141,\n",
       " 10147,\n",
       " 10233,\n",
       " 10273,\n",
       " 10321,\n",
       " 10361,\n",
       " 10427,\n",
       " 10473,\n",
       " 10587,\n",
       " 10685,\n",
       " 10703,\n",
       " 10721,\n",
       " 10725,\n",
       " 10815,\n",
       " 10831,\n",
       " 11485,\n",
       " 11673,\n",
       " 11693,\n",
       " 11859,\n",
       " 12023,\n",
       " 12109,\n",
       " 12193,\n",
       " 12437,\n",
       " 12451,\n",
       " 12453,\n",
       " 12457,\n",
       " 12463,\n",
       " 12477,\n",
       " 12485,\n",
       " 12499,\n",
       " 12503,\n",
       " 12513,\n",
       " 12515,\n",
       " 12517,\n",
       " 12529,\n",
       " 12531,\n",
       " 12541,\n",
       " 12545,\n",
       " 12551,\n",
       " 12573,\n",
       " 12583,\n",
       " 12589,\n",
       " 12607,\n",
       " 12613,\n",
       " 12621,\n",
       " 12633,\n",
       " 12647,\n",
       " 12651,\n",
       " 12655,\n",
       " 12661,\n",
       " 12677,\n",
       " 12681,\n",
       " 12685,\n",
       " 12705,\n",
       " 12711,\n",
       " 12715,\n",
       " 12719,\n",
       " 12727,\n",
       " 12733,\n",
       " 12747,\n",
       " 12751,\n",
       " 12763,\n",
       " 12769,\n",
       " 12775,\n",
       " 12781,\n",
       " 12791,\n",
       " 12793,\n",
       " 12805,\n",
       " 12809,\n",
       " 12821,\n",
       " 12831,\n",
       " 12833,\n",
       " 12847,\n",
       " 12853,\n",
       " 12865,\n",
       " 12871,\n",
       " 12877,\n",
       " 12887,\n",
       " 12901,\n",
       " 12905,\n",
       " 12923,\n",
       " 12929,\n",
       " 12933,\n",
       " 12945,\n",
       " 12947,\n",
       " 12953,\n",
       " 12967,\n",
       " 12973,\n",
       " 12983,\n",
       " 12993,\n",
       " 12997,\n",
       " 13017,\n",
       " 13025,\n",
       " 13031,\n",
       " 13041,\n",
       " 13047,\n",
       " 13059,\n",
       " 13069,\n",
       " 13081,\n",
       " 13091,\n",
       " 13097,\n",
       " 13103,\n",
       " 13123,\n",
       " 13131,\n",
       " 13137,\n",
       " 13149,\n",
       " 13161,\n",
       " 13167,\n",
       " 13173,\n",
       " 13199,\n",
       " 13205,\n",
       " 13211,\n",
       " 13219,\n",
       " 13231,\n",
       " 13249,\n",
       " 13255,\n",
       " 13275,\n",
       " 13277,\n",
       " 13279,\n",
       " 13283,\n",
       " 13291,\n",
       " 13297,\n",
       " 13313,\n",
       " 13319,\n",
       " 13323,\n",
       " 13325,\n",
       " 13343,\n",
       " 13347,\n",
       " 13367,\n",
       " 13371,\n",
       " 13387,\n",
       " 13393,\n",
       " 13401,\n",
       " 13409,\n",
       " 13417,\n",
       " 13423,\n",
       " 13431,\n",
       " 13439,\n",
       " 13443,\n",
       " 13455,\n",
       " 13457,\n",
       " 13465,\n",
       " 13471,\n",
       " 13487,\n",
       " 13489,\n",
       " 13503,\n",
       " 13511,\n",
       " 13519,\n",
       " 13525,\n",
       " 13527,\n",
       " 13539,\n",
       " 13547,\n",
       " 13551,\n",
       " 13561,\n",
       " 13567,\n",
       " 13577,\n",
       " 13585,\n",
       " 13595,\n",
       " 13605,\n",
       " 13619,\n",
       " 13623,\n",
       " 13639,\n",
       " 13657,\n",
       " 13661,\n",
       " 13675,\n",
       " 13677,\n",
       " 13679,\n",
       " 13693,\n",
       " 13699,\n",
       " 13707,\n",
       " 13723,\n",
       " 13727,\n",
       " 13731,\n",
       " 13735,\n",
       " 13747,\n",
       " 13751,\n",
       " 13763,\n",
       " 13773,\n",
       " 13785,\n",
       " 13793,\n",
       " 13801,\n",
       " 13807,\n",
       " 13823,\n",
       " 13841,\n",
       " 13853,\n",
       " 13863,\n",
       " 13881,\n",
       " 13885,\n",
       " 13895,\n",
       " 13907,\n",
       " 13917,\n",
       " 13923,\n",
       " 13937,\n",
       " 13941,\n",
       " 13951,\n",
       " 13959,\n",
       " 13965,\n",
       " 13981,\n",
       " 13989,\n",
       " 13999,\n",
       " 14011,\n",
       " 14019,\n",
       " 14021,\n",
       " 14035,\n",
       " 14039,\n",
       " 14051,\n",
       " 14059,\n",
       " 14065,\n",
       " 14073,\n",
       " 14077,\n",
       " 14079,\n",
       " 14085,\n",
       " 14089,\n",
       " 14097,\n",
       " 14103,\n",
       " 14111,\n",
       " 14125,\n",
       " 14129,\n",
       " 14139,\n",
       " 14155,\n",
       " 14161,\n",
       " 14171,\n",
       " 14185,\n",
       " 14189,\n",
       " 14195,\n",
       " 14205,\n",
       " 14227,\n",
       " 14231,\n",
       " 14237,\n",
       " 14241,\n",
       " 14253,\n",
       " 14271,\n",
       " 14277,\n",
       " 14283,\n",
       " 14289,\n",
       " 14297,\n",
       " 14311,\n",
       " 14315,\n",
       " 14321,\n",
       " 14333,\n",
       " 14339,\n",
       " 14347,\n",
       " 14363,\n",
       " 14375,\n",
       " 14383,\n",
       " 14395,\n",
       " 14405,\n",
       " 14411,\n",
       " 14419,\n",
       " 14431,\n",
       " 14447,\n",
       " 14449,\n",
       " 14455,\n",
       " 14463,\n",
       " 14473,\n",
       " 14479,\n",
       " 14489,\n",
       " 14501,\n",
       " 14507,\n",
       " 14527,\n",
       " 14533,\n",
       " 14541,\n",
       " 14547,\n",
       " 14561,\n",
       " 14565,\n",
       " 14571,\n",
       " 14581,\n",
       " 14583,\n",
       " 14591,\n",
       " 14603,\n",
       " 14613,\n",
       " 14627,\n",
       " 14631,\n",
       " 14635,\n",
       " 14647,\n",
       " 14655,\n",
       " 14659,\n",
       " 14679,\n",
       " 14727,\n",
       " 14849,\n",
       " 15269,\n",
       " 15415,\n",
       " 15617]"
      ]
     },
     "execution_count": 24,
     "metadata": {},
     "output_type": "execute_result"
    }
   ],
   "source": [
    "[i[1] for i in cluster_list[0]]"
   ]
  },
  {
   "cell_type": "code",
   "execution_count": 25,
   "metadata": {},
   "outputs": [],
   "source": [
    "import statistics\n",
    "\n",
    "# index is cluster index\n",
    "def intracluster_similarity(index):\n",
    "    cluster_centroid = np.average(gv_matrix[[i[1] for i in cluster_list[index]]], axis=0)\n",
    "    dist_list = []\n",
    "    cluster = cluster_list[index]\n",
    "    for i in cluster:\n",
    "        distance = np.linalg.norm(cluster_centroid-gv_matrix[i[1]])\n",
    "        dist_list.append(distance)\n",
    "        \n",
    "    #avg = sum_dist/(len(indices[index])-1)\n",
    "    avg = np.average(dist_list)\n",
    "\n",
    "    #variance = statistics.variance(dist_list)\n",
    "    variance = np.var(dist_list)\n",
    "    \n",
    "    return avg, variance"
   ]
  },
  {
   "cell_type": "code",
   "execution_count": 26,
   "metadata": {},
   "outputs": [
    {
     "data": {
      "text/plain": [
       "(0.0, 0.0)"
      ]
     },
     "execution_count": 26,
     "metadata": {},
     "output_type": "execute_result"
    }
   ],
   "source": [
    "intracluster_similarity(0)"
   ]
  },
  {
   "cell_type": "code",
   "execution_count": 27,
   "metadata": {},
   "outputs": [
    {
     "data": {
      "text/plain": [
       "(0.0, 0.0)"
      ]
     },
     "execution_count": 27,
     "metadata": {},
     "output_type": "execute_result"
    }
   ],
   "source": [
    "intracluster_similarity(1)"
   ]
  },
  {
   "cell_type": "code",
   "execution_count": 28,
   "metadata": {},
   "outputs": [],
   "source": [
    "# index is cluster / cluster id\n",
    "def generate_raw_content_cluster_df(index):\n",
    "    index_list = cluster_list[index]\n",
    "    index_list = [x[1] for x in index_list]\n",
    "    cluster_seed = df.loc[index].to_frame().T\n",
    "    #cluster_df = df.loc[index_list[1:]]\n",
    "    cluster_df = df.loc[index_list[1:]]\n",
    "    combined = pd.concat([cluster_seed, cluster_df])\n",
    "    combined['cluster'] = index\n",
    "    return combined"
   ]
  },
  {
   "cell_type": "code",
   "execution_count": 29,
   "metadata": {
    "scrolled": false
   },
   "outputs": [
    {
     "data": {
      "text/html": [
       "<div>\n",
       "<style scoped>\n",
       "    .dataframe tbody tr th:only-of-type {\n",
       "        vertical-align: middle;\n",
       "    }\n",
       "\n",
       "    .dataframe tbody tr th {\n",
       "        vertical-align: top;\n",
       "    }\n",
       "\n",
       "    .dataframe thead th {\n",
       "        text-align: right;\n",
       "    }\n",
       "</style>\n",
       "<table border=\"1\" class=\"dataframe\">\n",
       "  <thead>\n",
       "    <tr style=\"text-align: right;\">\n",
       "      <th></th>\n",
       "      <th>file_number</th>\n",
       "      <th>file_type</th>\n",
       "      <th>filename</th>\n",
       "      <th>text</th>\n",
       "      <th>paraphrase</th>\n",
       "      <th>text_processed</th>\n",
       "      <th>text_processed_stemmed</th>\n",
       "      <th>cluster</th>\n",
       "    </tr>\n",
       "  </thead>\n",
       "  <tbody>\n",
       "    <tr>\n",
       "      <th>30</th>\n",
       "      <td>1011</td>\n",
       "      <td>original.txt</td>\n",
       "      <td>1011-original.txt</td>\n",
       "      <td>The barriers of his conceit, his coolness, his...</td>\n",
       "      <td>True</td>\n",
       "      <td>[barriers, conceit, coolness, hudacity, broken...</td>\n",
       "      <td>[the barriers of his conceit, his coolness, hi...</td>\n",
       "      <td>30</td>\n",
       "    </tr>\n",
       "    <tr>\n",
       "      <th>5060</th>\n",
       "      <td>3276</td>\n",
       "      <td>original.txt</td>\n",
       "      <td>3276-original.txt</td>\n",
       "      <td>For the Chorus-Singers were never elected by S...</td>\n",
       "      <td>False</td>\n",
       "      <td>[chorussingers, never, elected, suffrage, hir’...</td>\n",
       "      <td>[for the chorus-singers were never elected by ...</td>\n",
       "      <td>30</td>\n",
       "    </tr>\n",
       "    <tr>\n",
       "      <th>5061</th>\n",
       "      <td>3276</td>\n",
       "      <td>paraphrase.txt</td>\n",
       "      <td>3276-paraphrase.txt</td>\n",
       "      <td>For the Chorus-Singers were never elected by S...</td>\n",
       "      <td>False</td>\n",
       "      <td>[chorussingers, never, elected, suffrage, hir’...</td>\n",
       "      <td>[for the chorus-singers were never elected by ...</td>\n",
       "      <td>30</td>\n",
       "    </tr>\n",
       "    <tr>\n",
       "      <th>5062</th>\n",
       "      <td>3277</td>\n",
       "      <td>original.txt</td>\n",
       "      <td>3277-original.txt</td>\n",
       "      <td>For the Chorus-Singers were never elected by S...</td>\n",
       "      <td>False</td>\n",
       "      <td>[chorussingers, never, elected, suffrage, hir’...</td>\n",
       "      <td>[for the chorus-singers were never elected by ...</td>\n",
       "      <td>30</td>\n",
       "    </tr>\n",
       "    <tr>\n",
       "      <th>5063</th>\n",
       "      <td>3277</td>\n",
       "      <td>paraphrase.txt</td>\n",
       "      <td>3277-paraphrase.txt</td>\n",
       "      <td>For the Chorus-Singers were never elected by S...</td>\n",
       "      <td>False</td>\n",
       "      <td>[chorussingers, never, elected, suffrage, hir’...</td>\n",
       "      <td>[for the chorus-singers were never elected by ...</td>\n",
       "      <td>30</td>\n",
       "    </tr>\n",
       "    <tr>\n",
       "      <th>5064</th>\n",
       "      <td>3278</td>\n",
       "      <td>original.txt</td>\n",
       "      <td>3278-original.txt</td>\n",
       "      <td>For the Chorus-Singers were never elected by S...</td>\n",
       "      <td>False</td>\n",
       "      <td>[chorussingers, never, elected, suffrage, hir’...</td>\n",
       "      <td>[for the chorus-singers were never elected by ...</td>\n",
       "      <td>30</td>\n",
       "    </tr>\n",
       "  </tbody>\n",
       "</table>\n",
       "</div>"
      ],
      "text/plain": [
       "     file_number       file_type             filename  \\\n",
       "30          1011    original.txt    1011-original.txt   \n",
       "5060        3276    original.txt    3276-original.txt   \n",
       "5061        3276  paraphrase.txt  3276-paraphrase.txt   \n",
       "5062        3277    original.txt    3277-original.txt   \n",
       "5063        3277  paraphrase.txt  3277-paraphrase.txt   \n",
       "5064        3278    original.txt    3278-original.txt   \n",
       "\n",
       "                                                   text paraphrase  \\\n",
       "30    The barriers of his conceit, his coolness, his...       True   \n",
       "5060  For the Chorus-Singers were never elected by S...      False   \n",
       "5061  For the Chorus-Singers were never elected by S...      False   \n",
       "5062  For the Chorus-Singers were never elected by S...      False   \n",
       "5063  For the Chorus-Singers were never elected by S...      False   \n",
       "5064  For the Chorus-Singers were never elected by S...      False   \n",
       "\n",
       "                                         text_processed  \\\n",
       "30    [barriers, conceit, coolness, hudacity, broken...   \n",
       "5060  [chorussingers, never, elected, suffrage, hir’...   \n",
       "5061  [chorussingers, never, elected, suffrage, hir’...   \n",
       "5062  [chorussingers, never, elected, suffrage, hir’...   \n",
       "5063  [chorussingers, never, elected, suffrage, hir’...   \n",
       "5064  [chorussingers, never, elected, suffrage, hir’...   \n",
       "\n",
       "                                 text_processed_stemmed  cluster  \n",
       "30    [the barriers of his conceit, his coolness, hi...       30  \n",
       "5060  [for the chorus-singers were never elected by ...       30  \n",
       "5061  [for the chorus-singers were never elected by ...       30  \n",
       "5062  [for the chorus-singers were never elected by ...       30  \n",
       "5063  [for the chorus-singers were never elected by ...       30  \n",
       "5064  [for the chorus-singers were never elected by ...       30  "
      ]
     },
     "execution_count": 29,
     "metadata": {},
     "output_type": "execute_result"
    }
   ],
   "source": [
    "generate_raw_content_cluster_df(30)"
   ]
  },
  {
   "cell_type": "code",
   "execution_count": 30,
   "metadata": {},
   "outputs": [],
   "source": [
    "avg_list = []\n",
    "variance_list = []\n",
    "\n",
    "for i in range(num_clusters):\n",
    "    avg, variance = intracluster_similarity(i)\n",
    "    avg_list.append(avg)\n",
    "    variance_list.append(variance)\n",
    "    #print()"
   ]
  },
  {
   "cell_type": "code",
   "execution_count": 31,
   "metadata": {},
   "outputs": [
    {
     "data": {
      "text/plain": [
       "([<matplotlib.axis.XTick at 0x142bad588>,\n",
       "  <matplotlib.axis.XTick at 0x1b4dc5ae48>,\n",
       "  <matplotlib.axis.XTick at 0x1b4dc5aac8>,\n",
       "  <matplotlib.axis.XTick at 0x1b4de97630>,\n",
       "  <matplotlib.axis.XTick at 0x1b4de97ba8>,\n",
       "  <matplotlib.axis.XTick at 0x1b4dea3128>,\n",
       "  <matplotlib.axis.XTick at 0x1b4dea3588>,\n",
       "  <matplotlib.axis.XTick at 0x1b4de97cf8>,\n",
       "  <matplotlib.axis.XTick at 0x1b4dea3198>,\n",
       "  <matplotlib.axis.XTick at 0x1b4dea3eb8>,\n",
       "  <matplotlib.axis.XTick at 0x1b4dead3c8>],\n",
       " <a list of 11 Text xticklabel objects>)"
      ]
     },
     "execution_count": 31,
     "metadata": {},
     "output_type": "execute_result"
    },
    {
     "data": {
      "image/png": "[encoded data removed]",
      "text/plain": [
       "<Figure size 432x288 with 1 Axes>"
      ]
     },
     "metadata": {
      "needs_background": "light"
     },
     "output_type": "display_data"
    }
   ],
   "source": [
    "# neighbors = 10\n",
    "bins= [0,0.1,0.2,0.3,0.4,0.5,0.6,0.7,0.8,0.9,1.0]\n",
    "plt.hist(avg_list, bins=bins, edgecolor=\"k\")\n",
    "plt.xticks(bins)"
   ]
  },
  {
   "cell_type": "markdown",
   "metadata": {},
   "source": [
    "## Intercluster Similarity"
   ]
  },
  {
   "cell_type": "code",
   "execution_count": 32,
   "metadata": {},
   "outputs": [],
   "source": [
    "def intercluster_dist():\n",
    "    indices = range(num_clusters)\n",
    "    centroid_centroid_distance = {}\n",
    "    values = []\n",
    "    for i in indices:\n",
    "        for j in indices:\n",
    "            if i < j:\n",
    "                key = str(i) + \"::\" + str(j)\n",
    "                cluster_centroid_i = np.average(gv_matrix[[x[1] for x in cluster_list[i]]], axis=0)\n",
    "                cluster_centroid_j = np.average(gv_matrix[[x[1] for x in cluster_list[j]]], axis=0)\n",
    "                distance = np.linalg.norm(cluster_centroid_i - cluster_centroid_j)\n",
    "                centroid_centroid_distance[key] = distance\n",
    "                values.append(distance)\n",
    "    return centroid_centroid_distance, values"
   ]
  },
  {
   "cell_type": "code",
   "execution_count": 33,
   "metadata": {},
   "outputs": [
    {
     "name": "stdout",
     "output_type": "stream",
     "text": [
      "average 1.5498630009056653\n"
     ]
    }
   ],
   "source": [
    "intercluster_distances, values = intercluster_dist()\n",
    "#print('distances', values)\n",
    "print('average', np.average(values))"
   ]
  },
  {
   "cell_type": "code",
   "execution_count": null,
   "metadata": {},
   "outputs": [],
   "source": []
  }
 ],
 "metadata": {
  "colab": {
   "collapsed_sections": [],
   "name": "MastersProject.ipynb",
   "provenance": []
  },
  "kernelspec": {
   "display_name": "Python 3",
   "language": "python",
   "name": "python3"
  },
  "language_info": {
   "codemirror_mode": {
    "name": "ipython",
    "version": 3
   },
   "file_extension": ".py",
   "mimetype": "text/x-python",
   "name": "python",
   "nbconvert_exporter": "python",
   "pygments_lexer": "ipython3",
   "version": "3.7.1"
  }
 },
 "nbformat": 4,
 "nbformat_minor": 1
}
